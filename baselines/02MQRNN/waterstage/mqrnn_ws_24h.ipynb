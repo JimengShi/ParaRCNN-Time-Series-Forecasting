{
 "cells": [
  {
   "cell_type": "code",
   "execution_count": 1,
   "id": "f69729b0",
   "metadata": {},
   "outputs": [],
   "source": [
    "import torch\n",
    "from torch import nn\n",
    "import torch.nn.functional as F \n",
    "from torch.optim import Adam\n",
    "\n",
    "import numpy as np\n",
    "import os\n",
    "import random\n",
    "import matplotlib.pyplot as plt\n",
    "import pickle\n",
    "from tqdm import tqdm\n",
    "import pandas as pd\n",
    "import util\n",
    "from sklearn.preprocessing import StandardScaler, MinMaxScaler\n",
    "from time import time\n",
    "import argparse\n",
    "from datetime import date\n",
    "from progressbar import *\n",
    "from sklearn.metrics import mean_squared_error as MSE\n",
    "from sklearn.metrics import mean_absolute_error as MAE"
   ]
  },
  {
   "cell_type": "code",
   "execution_count": 2,
   "id": "9ce2ff39",
   "metadata": {},
   "outputs": [],
   "source": [
    "def train_test_split(X, y, train_ratio=0.8):\n",
    "    num_ts, num_periods, num_features = X.shape\n",
    "    train_periods = int(num_periods * train_ratio)\n",
    "    random.seed(2)\n",
    "    Xtr = X[:, :train_periods, :]\n",
    "    ytr = y[:, :train_periods]\n",
    "    Xte = X[:, train_periods:, :]\n",
    "    yte = y[:, train_periods:]\n",
    "    return Xtr, ytr, Xte, yte\n"
   ]
  },
  {
   "cell_type": "code",
   "execution_count": 3,
   "id": "dbc9c273",
   "metadata": {},
   "outputs": [],
   "source": [
    "class Decoder(nn.Module):\n",
    "\n",
    "    def __init__(\n",
    "        self, \n",
    "        input_size, \n",
    "        output_horizon,\n",
    "        encoder_hidden_size, \n",
    "        decoder_hidden_size, \n",
    "        output_size):\n",
    "        super(Decoder, self).__init__()\n",
    "        self.global_mlp = nn.Linear(output_horizon * (encoder_hidden_size + input_size), (output_horizon+1) * decoder_hidden_size)\n",
    "        self.local_mlp = nn.Linear(decoder_hidden_size * 2 + input_size, output_size)\n",
    "        self.decoder_hidden_size = decoder_hidden_size\n",
    "    \n",
    "    def forward(self, ht, xf):\n",
    "        '''\n",
    "        Args:\n",
    "        ht (tensor): (1, hidden_size)\n",
    "        xf (tensor): (output_horizon, num_features)\n",
    "        '''\n",
    "        num_ts, output_horizon, num_features = xf.size()\n",
    "        num_ts, hidden_size = ht.size()\n",
    "        ht = ht.unsqueeze(1)\n",
    "        ht = ht.expand(num_ts, output_horizon, hidden_size)\n",
    "        # inp = (xf + ht).view(batch_size, -1) # batch_size, hidden_size, output_horizon\n",
    "        inp = torch.cat([xf, ht], dim=2).view(num_ts, -1)\n",
    "        contexts = self.global_mlp(inp)\n",
    "        contexts = contexts.view(num_ts, output_horizon+1, self.decoder_hidden_size)\n",
    "        ca = contexts[:, -1, :].view(num_ts, -1)\n",
    "        C = contexts[:, :-1, :]\n",
    "        C = F.relu(C)\n",
    "        y = []\n",
    "        for i in range(output_horizon):\n",
    "            ci = C[:, i, :].view(num_ts, -1)\n",
    "            xfi = xf[:, i, :].view(num_ts, -1)\n",
    "            inp = torch.cat([xfi, ci, ca], dim=1)\n",
    "            out = self.local_mlp(inp) # num_ts, num_quantiles\n",
    "            y.append(out.unsqueeze(1))\n",
    "        y = torch.cat(y, dim=1) # batch_size, output_horizon, quantiles\n",
    "        return y \n",
    "\n",
    "\n",
    "class MQRNN(nn.Module):\n",
    "\n",
    "    def __init__(self, output_horizon, num_quantiles, input_size, embedding_size=10,\n",
    "        encoder_hidden_size=64, encoder_n_layers=3, decoder_hidden_size=64):\n",
    "        '''\n",
    "        Args:\n",
    "        output_horizon (int): output horizons to output in prediction\n",
    "        num_quantiles (int): number of quantiles interests, e.g. 0.25, 0.5, 0.75\n",
    "        input_size (int): feature size\n",
    "        embedding_size (int): embedding size\n",
    "        encoder_hidden_size (int): hidden size in encoder\n",
    "        encoder_n_layers (int): encoder number of layers\n",
    "        decoder_hidden_size (int): hidden size in decoder\n",
    "        '''\n",
    "        super(MQRNN, self).__init__()\n",
    "        self.output_horizon = output_horizon\n",
    "        self.encoder_hidden_size = encoder_hidden_size\n",
    "        self.input_embed = nn.Linear(1, embedding_size) # time series embedding\n",
    "        self.encoder = nn.LSTM(input_size + embedding_size, encoder_hidden_size, encoder_n_layers, bias=True, batch_first=True)\n",
    "        self.decoder = Decoder(input_size, output_horizon, encoder_hidden_size, decoder_hidden_size, num_quantiles)\n",
    "    \n",
    "    def forward(self, X, y, Xf):\n",
    "        '''\n",
    "        Args:\n",
    "        X (tensor like): shape (num_time_series, num_periods, num_features)\n",
    "        y (tensor like): shape (num_time_series, num_periods)\n",
    "        Xf (tensor like): shape (num_time_series, seq_len, num_features)\n",
    "        '''\n",
    "        if isinstance(X, type(np.empty(2))):\n",
    "            X = torch.from_numpy(X).float()\n",
    "            y = torch.from_numpy(y).float()\n",
    "            Xf = torch.from_numpy(Xf).float()\n",
    "        num_ts, num_periods, num_features = X.size()\n",
    "        y = y.unsqueeze(2)\n",
    "        y = self.input_embed(y)\n",
    "        x = torch.cat([X, y], dim=2)\n",
    "        # x = x.unsqueeze(0) # batch, seq_len, embed + num_features\n",
    "        _, (h, c) = self.encoder(x)\n",
    "        ht = h[-1, :, :]\n",
    "        # global mlp\n",
    "        ht = F.relu(ht)\n",
    "        ypred = self.decoder(ht, Xf)\n",
    "        return ypred\n",
    "\n",
    "    \n",
    "def batch_generator(X, y, num_obs_to_train, seq_len, batch_size):\n",
    "    '''\n",
    "    Args:\n",
    "    X (array like): shape (num_samples, num_features, num_periods)\n",
    "    y (array like): shape (num_samples, num_periods)\n",
    "    num_obs_to_train (int)\n",
    "    seq_len (int): sequence/encoder/decoder length\n",
    "    '''\n",
    "    num_ts, num_periods, _ = X.shape\n",
    "    #print(X.shape)\n",
    "    if num_ts < batch_size:\n",
    "        batch_size = num_ts\n",
    "    t = random.choice(range(num_obs_to_train, num_periods-seq_len))\n",
    "    \n",
    "    batch = random.sample(range(num_ts), batch_size)\n",
    "    X_train_batch = X[batch, t-num_obs_to_train:t, :]\n",
    "    y_train_batch = y[batch, t-num_obs_to_train:t]\n",
    "    Xf = X[batch, t:t+seq_len, :]\n",
    "    yf = y[batch, t:t+seq_len]\n",
    "    \n",
    "    return X_train_batch, y_train_batch, Xf, yf"
   ]
  },
  {
   "cell_type": "code",
   "execution_count": 21,
   "id": "08272692",
   "metadata": {},
   "outputs": [],
   "source": [
    "def train(X, y, quantiles):\n",
    "    num_ts, num_periods, num_features = X.shape\n",
    "    num_quantiles = len(quantiles)\n",
    "    model = MQRNN(seq_len, num_quantiles, num_features, embedding_size, encoder_hidden_size, n_layers, decoder_hidden_size)\n",
    "    optimizer = Adam(model.parameters(), lr=lr)\n",
    "    \n",
    "    Xtr, ytr, Xte, yte = train_test_split(X, y)\n",
    "    print(Xtr.shape, ytr.shape, Xte.shape, yte.shape)\n",
    "    \n",
    "    \n",
    "    losses = []\n",
    "    mape_list, mae_list, rmse_list = [], [], []\n",
    "    \n",
    "    yscaler = None\n",
    "    if standard_scaler:\n",
    "        yscaler = util.StandardScaler()\n",
    "    elif log_scaler:\n",
    "        yscaler = util.LogScaler()\n",
    "    elif mean_scaler:\n",
    "        yscaler = util.MeanScaler()\n",
    "    if yscaler is not None:\n",
    "        ytr = yscaler.fit_transform(ytr)\n",
    "    \n",
    "    \n",
    "    ####################  train  ####################\n",
    "    progress = ProgressBar()\n",
    "    for epoch in progress(range(num_epoches)):\n",
    "        print(\"Epoch {} start...\".format(epoch))\n",
    "        for step in range(step_per_epoch):\n",
    "            X_train_batch, y_train_batch, Xf, yf = batch_generator(Xtr, ytr, num_obs_to_train, seq_len, batch_size)\n",
    "\n",
    "            X_train_tensor = torch.from_numpy(X_train_batch).float()\n",
    "            y_train_tensor = torch.from_numpy(y_train_batch).float() \n",
    "\n",
    "            Xf = torch.from_numpy(Xf).float()\n",
    "            yf = torch.from_numpy(yf).float()\n",
    "            ypred = model(X_train_tensor, y_train_tensor, Xf)\n",
    "            print(\"ypred.shape: =======\", ypred.shape)\n",
    "            \n",
    "            \n",
    "            # quantile loss\n",
    "            loss = torch.zeros_like(yf)\n",
    "            num_ts = Xf.size(0)\n",
    "            for q, rho in enumerate(quantiles):\n",
    "                ypred_rho = ypred[:, :, q].view(num_ts, -1)\n",
    "                e = ypred_rho - yf\n",
    "                loss += torch.max(rho * e, (rho - 1) * e)\n",
    "            loss = loss.mean()\n",
    "\n",
    "            losses.append(loss.item())\n",
    "            optimizer.zero_grad()\n",
    "            loss.backward()\n",
    "            optimizer.step()\n",
    "    \n",
    "    ####################  test  ####################\n",
    "    for i in range(Xte.shape[1]-num_obs_to_train-seq_len):\n",
    "        print(\"Prediction:\", i)\n",
    "    \n",
    "        X_test = Xte[:, i:i+num_obs_to_train, :].reshape((num_ts, -1, num_features))\n",
    "        Xf_test = Xte[:, i+num_obs_to_train:i+num_obs_to_train+seq_len, :].reshape((num_ts, -1, num_features))\n",
    "        y_test = yte[:, i:i+num_obs_to_train].reshape((num_ts, -1))\n",
    "\n",
    "        if yscaler is not None:\n",
    "            y_test = yscaler.transform(y_test)\n",
    "        yf_test = yte[:, i+num_obs_to_train:i+num_obs_to_train+seq_len]\n",
    "\n",
    "        ypred = model(X_test, y_test, Xf_test) # (1, num_quantiles, output_horizon)\n",
    "        ypred = ypred.data.numpy()\n",
    "        ypred = yscaler.inverse_transform(ypred)\n",
    "        print(\"ypred.shape: =======\", ypred.shape)\n",
    "        \n",
    "        # P50 quantile MAPE \n",
    "        mape = util.MAPE(yf_test, ypred[:, :, 1])\n",
    "        mape_list.append(mape)\n",
    "#         print(\"MAPE: {}\".format(mape))\n",
    "\n",
    "        mae = MAE(ypred[:, :, 0], yf_test)\n",
    "        mae_list.append(mae)\n",
    "#         print(\"MAE: {}\".format(mae))\n",
    "\n",
    "        rmse = np.sqrt(MSE(ypred[:, :, 0], yf_test))\n",
    "        rmse_list.append(rmse)\n",
    "#         print(\"RMSE: {}\".format(rmse))\n",
    "    \n",
    "    return losses, mape_list, mae_list, rmse_list"
   ]
  },
  {
   "cell_type": "code",
   "execution_count": 22,
   "id": "2516fc6b",
   "metadata": {},
   "outputs": [],
   "source": [
    "num_epoches = 500   # 28050*10\n",
    "step_per_epoch = 3\n",
    "lr = 1e-3\n",
    "batch_size = 256\n",
    "n_layers = 3\n",
    "encoder_hidden_size = 64\n",
    "decoder_hidden_size = 64\n",
    "seq_len = 24\n",
    "num_obs_to_train = 24*3\n",
    "embedding_size = 24\n",
    "standard_scaler = True"
   ]
  },
  {
   "cell_type": "code",
   "execution_count": 23,
   "id": "ceec89d9",
   "metadata": {},
   "outputs": [
    {
     "name": "stdout",
     "output_type": "stream",
     "text": [
      "(96432, 20)\n",
      "Index(['Time', 'WS_S1', 'WS_S4', 'FLOW_S25A', 'GATE_S25A', 'HWS_S25A',\n",
      "       'TWS_S25A', 'FLOW_S25B', 'GATE_S25B', 'GATE_S25B2', 'HWS_S25B',\n",
      "       'TWS_S25B', 'PUMP_S25B', 'FLOW_S26', 'GATE_S26_1', 'GATE_S26_2',\n",
      "       'HWS_S26', 'TWS_S26', 'PUMP_S26', 'MEAN_RAIN'],\n",
      "      dtype='object')\n"
     ]
    }
   ],
   "source": [
    "#if args.run_test:\n",
    "# data_path = util.get_data_path()\n",
    "dataset = pd.read_csv(\"../../../data/Merged-update_hourly.csv\")\n",
    "dataset.fillna(0, inplace=True)\n",
    "dataset = dataset.iloc[:, :]\n",
    "print(dataset.shape)\n",
    "print(dataset.columns)"
   ]
  },
  {
   "cell_type": "code",
   "execution_count": 24,
   "id": "0d44b54a",
   "metadata": {},
   "outputs": [
    {
     "name": "stderr",
     "output_type": "stream",
     "text": [
      "  0% |                                                                                                                                                      |\r"
     ]
    },
    {
     "name": "stdout",
     "output_type": "stream",
     "text": [
      "X.shape, y.shape: (8, 12054, 15) (8, 12054)\n",
      "(8, 9643, 15) (8, 9643) (8, 2411, 15) (8, 2411)\n",
      "Epoch 0 start...\n",
      "ypred.shape: ======= torch.Size([8, 24, 3])\n",
      "ypred.shape: ======= torch.Size([8, 24, 3])\n",
      "ypred.shape: ======= torch.Size([8, 24, 3])\n",
      "Epoch 1 start...\n",
      "ypred.shape: ======= torch.Size([8, 24, 3])\n",
      "ypred.shape: ======= torch.Size([8, 24, 3])\n",
      "ypred.shape: ======= torch.Size([8, 24, 3])\n",
      "Epoch 2 start...\n",
      "ypred.shape: ======= torch.Size([8, 24, 3])\n",
      "ypred.shape: ======= torch.Size([8, 24, 3])\n",
      "ypred.shape: ======= torch.Size([8, 24, 3])\n",
      "Epoch 3 start...\n",
      "ypred.shape: ======= torch.Size([8, 24, 3])\n",
      "ypred.shape: ======= torch.Size([8, 24, 3])\n",
      "ypred.shape: ======= torch.Size([8, 24, 3])\n"
     ]
    },
    {
     "name": "stderr",
     "output_type": "stream",
     "text": [
      "  0% |#                                                                                                                                                     |\r"
     ]
    },
    {
     "name": "stdout",
     "output_type": "stream",
     "text": [
      "Epoch 4 start...\n",
      "ypred.shape: ======= torch.Size([8, 24, 3])\n",
      "ypred.shape: ======= torch.Size([8, 24, 3])\n",
      "ypred.shape: ======= torch.Size([8, 24, 3])\n",
      "Epoch 5 start...\n",
      "ypred.shape: ======= torch.Size([8, 24, 3])\n",
      "ypred.shape: ======= torch.Size([8, 24, 3])\n",
      "ypred.shape: ======= torch.Size([8, 24, 3])\n",
      "Epoch 6 start...\n",
      "ypred.shape: ======= torch.Size([8, 24, 3])\n",
      "ypred.shape: ======= torch.Size([8, 24, 3])\n",
      "ypred.shape: ======= torch.Size([8, 24, 3])\n",
      "Epoch 7 start...\n",
      "ypred.shape: ======= torch.Size([8, 24, 3])\n",
      "ypred.shape: ======= torch.Size([8, 24, 3])\n",
      "ypred.shape: ======= torch.Size([8, 24, 3])\n"
     ]
    },
    {
     "name": "stderr",
     "output_type": "stream",
     "text": [
      "  1% |##                                                                                                                                                    |\r"
     ]
    },
    {
     "name": "stdout",
     "output_type": "stream",
     "text": [
      "Epoch 8 start...\n",
      "ypred.shape: ======= torch.Size([8, 24, 3])\n",
      "ypred.shape: ======= torch.Size([8, 24, 3])\n",
      "ypred.shape: ======= torch.Size([8, 24, 3])\n",
      "Epoch 9 start...\n",
      "ypred.shape: ======= torch.Size([8, 24, 3])\n",
      "ypred.shape: ======= torch.Size([8, 24, 3])\n",
      "ypred.shape: ======= torch.Size([8, 24, 3])\n",
      "Epoch 10 start...\n",
      "ypred.shape: ======= torch.Size([8, 24, 3])\n",
      "ypred.shape: ======= torch.Size([8, 24, 3])\n",
      "ypred.shape: ======= torch.Size([8, 24, 3])\n",
      "Epoch 11 start...\n",
      "ypred.shape: ======= torch.Size([8, 24, 3])\n",
      "ypred.shape: ======= torch.Size([8, 24, 3])\n",
      "ypred.shape: ======= torch.Size([8, 24, 3])\n"
     ]
    },
    {
     "name": "stderr",
     "output_type": "stream",
     "text": [
      "  2% |###                                                                                                                                                   |\r"
     ]
    },
    {
     "name": "stdout",
     "output_type": "stream",
     "text": [
      "Epoch 12 start...\n",
      "ypred.shape: ======= torch.Size([8, 24, 3])\n",
      "ypred.shape: ======= torch.Size([8, 24, 3])\n"
     ]
    },
    {
     "ename": "KeyboardInterrupt",
     "evalue": "",
     "output_type": "error",
     "traceback": [
      "\u001b[0;31m---------------------------------------------------------------------------\u001b[0m",
      "\u001b[0;31mKeyboardInterrupt\u001b[0m                         Traceback (most recent call last)",
      "Input \u001b[0;32mIn [24]\u001b[0m, in \u001b[0;36m<cell line: 21>\u001b[0;34m()\u001b[0m\n\u001b[1;32m     18\u001b[0m \u001b[38;5;28mprint\u001b[39m(\u001b[38;5;124m\"\u001b[39m\u001b[38;5;124mX.shape, y.shape:\u001b[39m\u001b[38;5;124m\"\u001b[39m, X\u001b[38;5;241m.\u001b[39mshape, y\u001b[38;5;241m.\u001b[39mshape)\n\u001b[1;32m     20\u001b[0m quantiles \u001b[38;5;241m=\u001b[39m [\u001b[38;5;241m0.1\u001b[39m, \u001b[38;5;241m0.5\u001b[39m, \u001b[38;5;241m1\u001b[39m]  \u001b[38;5;66;03m# 0.1, 0.5, 1\u001b[39;00m\n\u001b[0;32m---> 21\u001b[0m losses, test_mape, test_mae, test_rmse \u001b[38;5;241m=\u001b[39m \u001b[43mtrain\u001b[49m\u001b[43m(\u001b[49m\u001b[43mX\u001b[49m\u001b[43m,\u001b[49m\u001b[43m \u001b[49m\u001b[43my\u001b[49m\u001b[43m,\u001b[49m\u001b[43m \u001b[49m\u001b[43mquantiles\u001b[49m\u001b[43m)\u001b[49m\n\u001b[1;32m     22\u001b[0m \u001b[38;5;66;03m#print(test_mape, test_mae, test_rmse)\u001b[39;00m\n\u001b[1;32m     25\u001b[0m \u001b[38;5;28mprint\u001b[39m(\u001b[38;5;124m'\u001b[39m\u001b[38;5;124m====== MAPE, MAE, RMSE ======\u001b[39m\u001b[38;5;124m'\u001b[39m)\n",
      "Input \u001b[0;32mIn [21]\u001b[0m, in \u001b[0;36mtrain\u001b[0;34m(X, y, quantiles)\u001b[0m\n\u001b[1;32m     50\u001b[0m         losses\u001b[38;5;241m.\u001b[39mappend(loss\u001b[38;5;241m.\u001b[39mitem())\n\u001b[1;32m     51\u001b[0m         optimizer\u001b[38;5;241m.\u001b[39mzero_grad()\n\u001b[0;32m---> 52\u001b[0m         \u001b[43mloss\u001b[49m\u001b[38;5;241;43m.\u001b[39;49m\u001b[43mbackward\u001b[49m\u001b[43m(\u001b[49m\u001b[43m)\u001b[49m\n\u001b[1;32m     53\u001b[0m         optimizer\u001b[38;5;241m.\u001b[39mstep()\n\u001b[1;32m     55\u001b[0m \u001b[38;5;66;03m####################  test  ####################\u001b[39;00m\n",
      "File \u001b[0;32m~/miniconda3/envs/tf2_gpu/lib/python3.8/site-packages/torch/_tensor.py:396\u001b[0m, in \u001b[0;36mTensor.backward\u001b[0;34m(self, gradient, retain_graph, create_graph, inputs)\u001b[0m\n\u001b[1;32m    387\u001b[0m \u001b[38;5;28;01mif\u001b[39;00m has_torch_function_unary(\u001b[38;5;28mself\u001b[39m):\n\u001b[1;32m    388\u001b[0m     \u001b[38;5;28;01mreturn\u001b[39;00m handle_torch_function(\n\u001b[1;32m    389\u001b[0m         Tensor\u001b[38;5;241m.\u001b[39mbackward,\n\u001b[1;32m    390\u001b[0m         (\u001b[38;5;28mself\u001b[39m,),\n\u001b[0;32m   (...)\u001b[0m\n\u001b[1;32m    394\u001b[0m         create_graph\u001b[38;5;241m=\u001b[39mcreate_graph,\n\u001b[1;32m    395\u001b[0m         inputs\u001b[38;5;241m=\u001b[39minputs)\n\u001b[0;32m--> 396\u001b[0m \u001b[43mtorch\u001b[49m\u001b[38;5;241;43m.\u001b[39;49m\u001b[43mautograd\u001b[49m\u001b[38;5;241;43m.\u001b[39;49m\u001b[43mbackward\u001b[49m\u001b[43m(\u001b[49m\u001b[38;5;28;43mself\u001b[39;49m\u001b[43m,\u001b[49m\u001b[43m \u001b[49m\u001b[43mgradient\u001b[49m\u001b[43m,\u001b[49m\u001b[43m \u001b[49m\u001b[43mretain_graph\u001b[49m\u001b[43m,\u001b[49m\u001b[43m \u001b[49m\u001b[43mcreate_graph\u001b[49m\u001b[43m,\u001b[49m\u001b[43m \u001b[49m\u001b[43minputs\u001b[49m\u001b[38;5;241;43m=\u001b[39;49m\u001b[43minputs\u001b[49m\u001b[43m)\u001b[49m\n",
      "File \u001b[0;32m~/miniconda3/envs/tf2_gpu/lib/python3.8/site-packages/torch/autograd/__init__.py:173\u001b[0m, in \u001b[0;36mbackward\u001b[0;34m(tensors, grad_tensors, retain_graph, create_graph, grad_variables, inputs)\u001b[0m\n\u001b[1;32m    168\u001b[0m     retain_graph \u001b[38;5;241m=\u001b[39m create_graph\n\u001b[1;32m    170\u001b[0m \u001b[38;5;66;03m# The reason we repeat same the comment below is that\u001b[39;00m\n\u001b[1;32m    171\u001b[0m \u001b[38;5;66;03m# some Python versions print out the first line of a multi-line function\u001b[39;00m\n\u001b[1;32m    172\u001b[0m \u001b[38;5;66;03m# calls in the traceback and some print out the last line\u001b[39;00m\n\u001b[0;32m--> 173\u001b[0m \u001b[43mVariable\u001b[49m\u001b[38;5;241;43m.\u001b[39;49m\u001b[43m_execution_engine\u001b[49m\u001b[38;5;241;43m.\u001b[39;49m\u001b[43mrun_backward\u001b[49m\u001b[43m(\u001b[49m\u001b[43m  \u001b[49m\u001b[38;5;66;43;03m# Calls into the C++ engine to run the backward pass\u001b[39;49;00m\n\u001b[1;32m    174\u001b[0m \u001b[43m    \u001b[49m\u001b[43mtensors\u001b[49m\u001b[43m,\u001b[49m\u001b[43m \u001b[49m\u001b[43mgrad_tensors_\u001b[49m\u001b[43m,\u001b[49m\u001b[43m \u001b[49m\u001b[43mretain_graph\u001b[49m\u001b[43m,\u001b[49m\u001b[43m \u001b[49m\u001b[43mcreate_graph\u001b[49m\u001b[43m,\u001b[49m\u001b[43m \u001b[49m\u001b[43minputs\u001b[49m\u001b[43m,\u001b[49m\n\u001b[1;32m    175\u001b[0m \u001b[43m    \u001b[49m\u001b[43mallow_unreachable\u001b[49m\u001b[38;5;241;43m=\u001b[39;49m\u001b[38;5;28;43;01mTrue\u001b[39;49;00m\u001b[43m,\u001b[49m\u001b[43m \u001b[49m\u001b[43maccumulate_grad\u001b[49m\u001b[38;5;241;43m=\u001b[39;49m\u001b[38;5;28;43;01mTrue\u001b[39;49;00m\u001b[43m)\u001b[49m\n",
      "\u001b[0;31mKeyboardInterrupt\u001b[0m: "
     ]
    }
   ],
   "source": [
    "X_df = dataset.loc[:, ['WS_S4', 'FLOW_S25A', 'GATE_S25A', 'HWS_S25A',\n",
    "       'FLOW_S25B', 'GATE_S25B', 'GATE_S25B2', 'HWS_S25B',\n",
    "        'PUMP_S25B', 'FLOW_S26', 'GATE_S26_1', 'GATE_S26_2',\n",
    "       'HWS_S26', 'PUMP_S26', 'MEAN_RAIN']]\n",
    "y_df = dataset.loc[:, ['WS_S1']]\n",
    "X = np.array(X_df)\n",
    "y = np.array(y_df)\n",
    "\n",
    "from sklearn.preprocessing import MinMaxScaler\n",
    "scaler = MinMaxScaler(feature_range=(0, 1))\n",
    "X = scaler.fit_transform(X)\n",
    "\n",
    "\n",
    "num_features = X.shape[1]\n",
    "num_periods = len(X) // 8\n",
    "X = np.asarray(X).reshape((-1, num_periods, num_features))\n",
    "y = np.asarray(y).reshape((-1, num_periods))\n",
    "print(\"X.shape, y.shape:\", X.shape, y.shape)\n",
    "\n",
    "quantiles = [0.1, 0.5, 1]  # 0.1, 0.5, 1\n",
    "losses, test_mape, test_mae, test_rmse = train(X, y, quantiles)\n",
    "#print(test_mape, test_mae, test_rmse)\n",
    "\n",
    "\n",
    "print('====== MAPE, MAE, RMSE ======')\n",
    "print(sum(test_mape) / len(test_mape),\n",
    "      sum(test_mae) / len(test_mae), \n",
    "      sum(test_rmse) / len(test_rmse))\n",
    "\n",
    "\n",
    "plt.plot(range(len(losses)), losses, \"k-\")\n",
    "plt.xlabel(\"Period\")\n",
    "plt.ylabel(\"Loss\")\n",
    "plt.show()"
   ]
  },
  {
   "cell_type": "code",
   "execution_count": null,
   "id": "70c4e9ba",
   "metadata": {
    "scrolled": true
   },
   "outputs": [],
   "source": [
    "X_df = dataset.loc[:, ['WS_S4', 'FLOW_S25A', 'GATE_S25A', 'HWS_S25A',\n",
    "       'FLOW_S25B', 'GATE_S25B', 'GATE_S25B2', 'HWS_S25B',\n",
    "        'PUMP_S25B', 'FLOW_S26', 'GATE_S26_1', 'GATE_S26_2',\n",
    "       'HWS_S26', 'PUMP_S26', 'MEAN_RAIN']]\n",
    "y_df = dataset.loc[:, ['WS_S1']]\n",
    "X = np.array(X_df)\n",
    "y = np.array(y_df)\n",
    "\n",
    "from sklearn.preprocessing import MinMaxScaler\n",
    "scaler = MinMaxScaler(feature_range=(0, 1))\n",
    "X = scaler.fit_transform(X)\n",
    "\n",
    "\n",
    "num_features = X.shape[1]\n",
    "num_periods = len(X) // 8\n",
    "X = np.asarray(X).reshape((-1, num_periods, num_features))\n",
    "y = np.asarray(y).reshape((-1, num_periods))\n",
    "print(\"X.shape, y.shape:\", X.shape, y.shape)\n",
    "\n",
    "quantiles = [0.1, 0.5, 1]  # 0.1, 0.5, 1\n",
    "losses, test_mape, test_mae, test_rmse = train(X, y, quantiles)\n",
    "#print(test_mape, test_mae, test_rmse)\n",
    "\n",
    "\n",
    "print('====== MAPE, MAE, RMSE ======')\n",
    "print(sum(test_mape) / len(test_mape),\n",
    "      sum(test_mae) / len(test_mae), \n",
    "      sum(test_rmse) / len(test_rmse))\n",
    "\n",
    "\n",
    "plt.plot(range(len(losses)), losses, \"k-\")\n",
    "plt.xlabel(\"Period\")\n",
    "plt.ylabel(\"Loss\")\n",
    "plt.show()"
   ]
  },
  {
   "cell_type": "code",
   "execution_count": 8,
   "id": "a7c0eba3",
   "metadata": {},
   "outputs": [
    {
     "name": "stderr",
     "output_type": "stream",
     "text": [
      "  0% |                                                                                                                                                      |\r"
     ]
    },
    {
     "name": "stdout",
     "output_type": "stream",
     "text": [
      "X.shape, y.shape: (8, 12054, 15) (8, 12054)\n",
      "(8, 9643, 15) (8, 9643) (8, 2411, 15) (8, 2411)\n",
      "Epoch 0 start...\n",
      "Epoch 1 start...\n",
      "Epoch 2 start...\n",
      "Epoch 3 start...\n"
     ]
    },
    {
     "name": "stderr",
     "output_type": "stream",
     "text": [
      "  0% |#                                                                                                                                                     |\r"
     ]
    },
    {
     "name": "stdout",
     "output_type": "stream",
     "text": [
      "Epoch 4 start...\n",
      "Epoch 5 start...\n",
      "Epoch 6 start...\n",
      "Epoch 7 start...\n"
     ]
    },
    {
     "name": "stderr",
     "output_type": "stream",
     "text": [
      "  1% |##                                                                                                                                                    |\r"
     ]
    },
    {
     "name": "stdout",
     "output_type": "stream",
     "text": [
      "Epoch 8 start...\n",
      "Epoch 9 start...\n",
      "Epoch 10 start...\n",
      "Epoch 11 start...\n"
     ]
    },
    {
     "name": "stderr",
     "output_type": "stream",
     "text": [
      "  2% |###                                                                                                                                                   |\r"
     ]
    },
    {
     "name": "stdout",
     "output_type": "stream",
     "text": [
      "Epoch 12 start...\n",
      "Epoch 13 start...\n",
      "Epoch 14 start...\n",
      "Epoch 15 start...\n"
     ]
    },
    {
     "name": "stderr",
     "output_type": "stream",
     "text": [
      "  3% |####                                                                                                                                                  |\r"
     ]
    },
    {
     "name": "stdout",
     "output_type": "stream",
     "text": [
      "Epoch 16 start...\n",
      "Epoch 17 start...\n",
      "Epoch 18 start...\n",
      "Epoch 19 start...\n"
     ]
    },
    {
     "name": "stderr",
     "output_type": "stream",
     "text": [
      "  4% |######                                                                                                                                                |\r"
     ]
    },
    {
     "name": "stdout",
     "output_type": "stream",
     "text": [
      "Epoch 20 start...\n",
      "Epoch 21 start...\n",
      "Epoch 22 start...\n",
      "Epoch 23 start...\n"
     ]
    },
    {
     "name": "stderr",
     "output_type": "stream",
     "text": [
      "  4% |#######                                                                                                                                               |\r"
     ]
    },
    {
     "name": "stdout",
     "output_type": "stream",
     "text": [
      "Epoch 24 start...\n",
      "Epoch 25 start...\n",
      "Epoch 26 start...\n",
      "Epoch 27 start...\n"
     ]
    },
    {
     "name": "stderr",
     "output_type": "stream",
     "text": [
      "  5% |########                                                                                                                                              |\r"
     ]
    },
    {
     "name": "stdout",
     "output_type": "stream",
     "text": [
      "Epoch 28 start...\n",
      "Epoch 29 start...\n",
      "Epoch 30 start...\n",
      "Epoch 31 start...\n"
     ]
    },
    {
     "name": "stderr",
     "output_type": "stream",
     "text": [
      "  6% |#########                                                                                                                                             |\r"
     ]
    },
    {
     "name": "stdout",
     "output_type": "stream",
     "text": [
      "Epoch 32 start...\n",
      "Epoch 33 start...\n",
      "Epoch 34 start...\n",
      "Epoch 35 start...\n"
     ]
    },
    {
     "name": "stderr",
     "output_type": "stream",
     "text": [
      "  7% |##########                                                                                                                                            |\r"
     ]
    },
    {
     "name": "stdout",
     "output_type": "stream",
     "text": [
      "Epoch 36 start...\n",
      "Epoch 37 start...\n",
      "Epoch 38 start...\n",
      "Epoch 39 start...\n"
     ]
    },
    {
     "name": "stderr",
     "output_type": "stream",
     "text": [
      "  8% |############                                                                                                                                          |\r"
     ]
    },
    {
     "name": "stdout",
     "output_type": "stream",
     "text": [
      "Epoch 40 start...\n",
      "Epoch 41 start...\n",
      "Epoch 42 start...\n",
      "Epoch 43 start...\n"
     ]
    },
    {
     "name": "stderr",
     "output_type": "stream",
     "text": [
      "  8% |#############                                                                                                                                         |\r"
     ]
    },
    {
     "name": "stdout",
     "output_type": "stream",
     "text": [
      "Epoch 44 start...\n",
      "Epoch 45 start...\n",
      "Epoch 46 start...\n",
      "Epoch 47 start...\n"
     ]
    },
    {
     "name": "stderr",
     "output_type": "stream",
     "text": [
      "  9% |##############                                                                                                                                        |\r"
     ]
    },
    {
     "name": "stdout",
     "output_type": "stream",
     "text": [
      "Epoch 48 start...\n",
      "Epoch 49 start...\n",
      "Epoch 50 start...\n",
      "Epoch 51 start...\n"
     ]
    },
    {
     "name": "stderr",
     "output_type": "stream",
     "text": [
      " 10% |###############                                                                                                                                       |\r"
     ]
    },
    {
     "name": "stdout",
     "output_type": "stream",
     "text": [
      "Epoch 52 start...\n",
      "Epoch 53 start...\n",
      "Epoch 54 start...\n",
      "Epoch 55 start...\n"
     ]
    },
    {
     "name": "stderr",
     "output_type": "stream",
     "text": [
      " 11% |################                                                                                                                                      |\r"
     ]
    },
    {
     "name": "stdout",
     "output_type": "stream",
     "text": [
      "Epoch 56 start...\n",
      "Epoch 57 start...\n",
      "Epoch 58 start...\n",
      "Epoch 59 start...\n"
     ]
    },
    {
     "name": "stderr",
     "output_type": "stream",
     "text": [
      " 12% |##################                                                                                                                                    |\r"
     ]
    },
    {
     "name": "stdout",
     "output_type": "stream",
     "text": [
      "Epoch 60 start...\n",
      "Epoch 61 start...\n",
      "Epoch 62 start...\n",
      "Epoch 63 start...\n"
     ]
    },
    {
     "name": "stderr",
     "output_type": "stream",
     "text": [
      " 12% |###################                                                                                                                                   |\r"
     ]
    },
    {
     "name": "stdout",
     "output_type": "stream",
     "text": [
      "Epoch 64 start...\n",
      "Epoch 65 start...\n",
      "Epoch 66 start...\n",
      "Epoch 67 start...\n"
     ]
    },
    {
     "name": "stderr",
     "output_type": "stream",
     "text": [
      " 13% |####################                                                                                                                                  |\r"
     ]
    },
    {
     "name": "stdout",
     "output_type": "stream",
     "text": [
      "Epoch 68 start...\n",
      "Epoch 69 start...\n",
      "Epoch 70 start...\n",
      "Epoch 71 start...\n"
     ]
    },
    {
     "name": "stderr",
     "output_type": "stream",
     "text": [
      " 14% |#####################                                                                                                                                 |\r"
     ]
    },
    {
     "name": "stdout",
     "output_type": "stream",
     "text": [
      "Epoch 72 start...\n",
      "Epoch 73 start...\n",
      "Epoch 74 start...\n",
      "Epoch 75 start...\n"
     ]
    },
    {
     "name": "stderr",
     "output_type": "stream",
     "text": [
      " 15% |######################                                                                                                                                |\r"
     ]
    },
    {
     "name": "stdout",
     "output_type": "stream",
     "text": [
      "Epoch 76 start...\n",
      "Epoch 77 start...\n",
      "Epoch 78 start...\n",
      "Epoch 79 start...\n"
     ]
    },
    {
     "name": "stderr",
     "output_type": "stream",
     "text": [
      " 16% |########################                                                                                                                              |\r"
     ]
    },
    {
     "name": "stdout",
     "output_type": "stream",
     "text": [
      "Epoch 80 start...\n",
      "Epoch 81 start...\n",
      "Epoch 82 start...\n",
      "Epoch 83 start...\n"
     ]
    },
    {
     "name": "stderr",
     "output_type": "stream",
     "text": [
      " 16% |#########################                                                                                                                             |\r"
     ]
    },
    {
     "name": "stdout",
     "output_type": "stream",
     "text": [
      "Epoch 84 start...\n",
      "Epoch 85 start...\n",
      "Epoch 86 start...\n",
      "Epoch 87 start...\n"
     ]
    },
    {
     "name": "stderr",
     "output_type": "stream",
     "text": [
      " 17% |##########################                                                                                                                            |\r"
     ]
    },
    {
     "name": "stdout",
     "output_type": "stream",
     "text": [
      "Epoch 88 start...\n",
      "Epoch 89 start...\n",
      "Epoch 90 start...\n",
      "Epoch 91 start...\n"
     ]
    },
    {
     "name": "stderr",
     "output_type": "stream",
     "text": [
      " 18% |###########################                                                                                                                           |\r"
     ]
    },
    {
     "name": "stdout",
     "output_type": "stream",
     "text": [
      "Epoch 92 start...\n",
      "Epoch 93 start...\n",
      "Epoch 94 start...\n",
      "Epoch 95 start...\n"
     ]
    },
    {
     "name": "stderr",
     "output_type": "stream",
     "text": [
      " 19% |############################                                                                                                                          |\r"
     ]
    },
    {
     "name": "stdout",
     "output_type": "stream",
     "text": [
      "Epoch 96 start...\n",
      "Epoch 97 start...\n",
      "Epoch 98 start...\n",
      "Epoch 99 start...\n"
     ]
    },
    {
     "name": "stderr",
     "output_type": "stream",
     "text": [
      " 20% |##############################                                                                                                                        |\r"
     ]
    },
    {
     "name": "stdout",
     "output_type": "stream",
     "text": [
      "Epoch 100 start...\n",
      "Epoch 101 start...\n",
      "Epoch 102 start...\n",
      "Epoch 103 start...\n"
     ]
    },
    {
     "name": "stderr",
     "output_type": "stream",
     "text": [
      " 20% |###############################                                                                                                                       |\r"
     ]
    },
    {
     "name": "stdout",
     "output_type": "stream",
     "text": [
      "Epoch 104 start...\n",
      "Epoch 105 start...\n",
      "Epoch 106 start...\n",
      "Epoch 107 start...\n"
     ]
    },
    {
     "name": "stderr",
     "output_type": "stream",
     "text": [
      " 21% |################################                                                                                                                      |\r"
     ]
    },
    {
     "name": "stdout",
     "output_type": "stream",
     "text": [
      "Epoch 108 start...\n",
      "Epoch 109 start...\n",
      "Epoch 110 start...\n",
      "Epoch 111 start...\n"
     ]
    },
    {
     "name": "stderr",
     "output_type": "stream",
     "text": [
      " 22% |#################################                                                                                                                     |\r"
     ]
    },
    {
     "name": "stdout",
     "output_type": "stream",
     "text": [
      "Epoch 112 start...\n",
      "Epoch 113 start...\n",
      "Epoch 114 start...\n",
      "Epoch 115 start...\n"
     ]
    },
    {
     "name": "stderr",
     "output_type": "stream",
     "text": [
      " 23% |##################################                                                                                                                    |\r"
     ]
    },
    {
     "name": "stdout",
     "output_type": "stream",
     "text": [
      "Epoch 116 start...\n",
      "Epoch 117 start...\n",
      "Epoch 118 start...\n",
      "Epoch 119 start...\n"
     ]
    },
    {
     "name": "stderr",
     "output_type": "stream",
     "text": [
      " 24% |####################################                                                                                                                  |\r"
     ]
    },
    {
     "name": "stdout",
     "output_type": "stream",
     "text": [
      "Epoch 120 start...\n",
      "Epoch 121 start...\n",
      "Epoch 122 start...\n",
      "Epoch 123 start...\n"
     ]
    },
    {
     "name": "stderr",
     "output_type": "stream",
     "text": [
      " 24% |#####################################                                                                                                                 |\r"
     ]
    },
    {
     "name": "stdout",
     "output_type": "stream",
     "text": [
      "Epoch 124 start...\n",
      "Epoch 125 start...\n",
      "Epoch 126 start...\n",
      "Epoch 127 start...\n"
     ]
    },
    {
     "name": "stderr",
     "output_type": "stream",
     "text": [
      " 25% |######################################                                                                                                                |\r"
     ]
    },
    {
     "name": "stdout",
     "output_type": "stream",
     "text": [
      "Epoch 128 start...\n",
      "Epoch 129 start...\n",
      "Epoch 130 start...\n",
      "Epoch 131 start...\n"
     ]
    },
    {
     "name": "stderr",
     "output_type": "stream",
     "text": [
      " 26% |#######################################                                                                                                               |\r"
     ]
    },
    {
     "name": "stdout",
     "output_type": "stream",
     "text": [
      "Epoch 132 start...\n",
      "Epoch 133 start...\n",
      "Epoch 134 start...\n",
      "Epoch 135 start...\n"
     ]
    },
    {
     "name": "stderr",
     "output_type": "stream",
     "text": [
      " 27% |########################################                                                                                                              |\r"
     ]
    },
    {
     "name": "stdout",
     "output_type": "stream",
     "text": [
      "Epoch 136 start...\n",
      "Epoch 137 start...\n",
      "Epoch 138 start...\n",
      "Epoch 139 start...\n"
     ]
    },
    {
     "name": "stderr",
     "output_type": "stream",
     "text": [
      " 28% |##########################################                                                                                                            |\r"
     ]
    },
    {
     "name": "stdout",
     "output_type": "stream",
     "text": [
      "Epoch 140 start...\n",
      "Epoch 141 start...\n",
      "Epoch 142 start...\n",
      "Epoch 143 start...\n"
     ]
    },
    {
     "name": "stderr",
     "output_type": "stream",
     "text": [
      " 28% |###########################################                                                                                                           |\r"
     ]
    },
    {
     "name": "stdout",
     "output_type": "stream",
     "text": [
      "Epoch 144 start...\n",
      "Epoch 145 start...\n",
      "Epoch 146 start...\n",
      "Epoch 147 start...\n"
     ]
    },
    {
     "name": "stderr",
     "output_type": "stream",
     "text": [
      " 29% |############################################                                                                                                          |\r"
     ]
    },
    {
     "name": "stdout",
     "output_type": "stream",
     "text": [
      "Epoch 148 start...\n",
      "Epoch 149 start...\n",
      "Epoch 150 start...\n",
      "Epoch 151 start...\n"
     ]
    },
    {
     "name": "stderr",
     "output_type": "stream",
     "text": [
      " 30% |#############################################                                                                                                         |\r"
     ]
    },
    {
     "name": "stdout",
     "output_type": "stream",
     "text": [
      "Epoch 152 start...\n",
      "Epoch 153 start...\n",
      "Epoch 154 start...\n",
      "Epoch 155 start...\n"
     ]
    },
    {
     "name": "stderr",
     "output_type": "stream",
     "text": [
      " 31% |##############################################                                                                                                        |\r"
     ]
    },
    {
     "name": "stdout",
     "output_type": "stream",
     "text": [
      "Epoch 156 start...\n",
      "Epoch 157 start...\n",
      "Epoch 158 start...\n",
      "Epoch 159 start...\n"
     ]
    },
    {
     "name": "stderr",
     "output_type": "stream",
     "text": [
      " 32% |################################################                                                                                                      |\r"
     ]
    },
    {
     "name": "stdout",
     "output_type": "stream",
     "text": [
      "Epoch 160 start...\n",
      "Epoch 161 start...\n",
      "Epoch 162 start...\n",
      "Epoch 163 start...\n"
     ]
    },
    {
     "name": "stderr",
     "output_type": "stream",
     "text": [
      " 32% |#################################################                                                                                                     |\r"
     ]
    },
    {
     "name": "stdout",
     "output_type": "stream",
     "text": [
      "Epoch 164 start...\n",
      "Epoch 165 start...\n",
      "Epoch 166 start...\n",
      "Epoch 167 start...\n"
     ]
    },
    {
     "name": "stderr",
     "output_type": "stream",
     "text": [
      " 33% |##################################################                                                                                                    |\r"
     ]
    },
    {
     "name": "stdout",
     "output_type": "stream",
     "text": [
      "Epoch 168 start...\n",
      "Epoch 169 start...\n",
      "Epoch 170 start...\n",
      "Epoch 171 start...\n"
     ]
    },
    {
     "name": "stderr",
     "output_type": "stream",
     "text": [
      " 34% |###################################################                                                                                                   |\r"
     ]
    },
    {
     "name": "stdout",
     "output_type": "stream",
     "text": [
      "Epoch 172 start...\n",
      "Epoch 173 start...\n",
      "Epoch 174 start...\n",
      "Epoch 175 start...\n"
     ]
    },
    {
     "name": "stderr",
     "output_type": "stream",
     "text": [
      " 35% |####################################################                                                                                                  |\r"
     ]
    },
    {
     "name": "stdout",
     "output_type": "stream",
     "text": [
      "Epoch 176 start...\n",
      "Epoch 177 start...\n",
      "Epoch 178 start...\n",
      "Epoch 179 start...\n"
     ]
    },
    {
     "name": "stderr",
     "output_type": "stream",
     "text": [
      " 36% |######################################################                                                                                                |\r"
     ]
    },
    {
     "name": "stdout",
     "output_type": "stream",
     "text": [
      "Epoch 180 start...\n",
      "Epoch 181 start...\n",
      "Epoch 182 start...\n",
      "Epoch 183 start...\n"
     ]
    },
    {
     "name": "stderr",
     "output_type": "stream",
     "text": [
      " 36% |#######################################################                                                                                               |\r"
     ]
    },
    {
     "name": "stdout",
     "output_type": "stream",
     "text": [
      "Epoch 184 start...\n",
      "Epoch 185 start...\n",
      "Epoch 186 start...\n",
      "Epoch 187 start...\n"
     ]
    },
    {
     "name": "stderr",
     "output_type": "stream",
     "text": [
      " 37% |########################################################                                                                                              |\r"
     ]
    },
    {
     "name": "stdout",
     "output_type": "stream",
     "text": [
      "Epoch 188 start...\n",
      "Epoch 189 start...\n",
      "Epoch 190 start...\n",
      "Epoch 191 start...\n"
     ]
    },
    {
     "name": "stderr",
     "output_type": "stream",
     "text": [
      " 38% |#########################################################                                                                                             |\r"
     ]
    },
    {
     "name": "stdout",
     "output_type": "stream",
     "text": [
      "Epoch 192 start...\n",
      "Epoch 193 start...\n",
      "Epoch 194 start...\n",
      "Epoch 195 start...\n"
     ]
    },
    {
     "name": "stderr",
     "output_type": "stream",
     "text": [
      " 39% |##########################################################                                                                                            |\r"
     ]
    },
    {
     "name": "stdout",
     "output_type": "stream",
     "text": [
      "Epoch 196 start...\n",
      "Epoch 197 start...\n",
      "Epoch 198 start...\n",
      "Epoch 199 start...\n"
     ]
    },
    {
     "name": "stderr",
     "output_type": "stream",
     "text": [
      " 40% |############################################################                                                                                          |\r"
     ]
    },
    {
     "name": "stdout",
     "output_type": "stream",
     "text": [
      "Epoch 200 start...\n",
      "Epoch 201 start...\n",
      "Epoch 202 start...\n",
      "Epoch 203 start...\n"
     ]
    },
    {
     "name": "stderr",
     "output_type": "stream",
     "text": [
      " 40% |#############################################################                                                                                         |\r"
     ]
    },
    {
     "name": "stdout",
     "output_type": "stream",
     "text": [
      "Epoch 204 start...\n",
      "Epoch 205 start...\n",
      "Epoch 206 start...\n",
      "Epoch 207 start...\n"
     ]
    },
    {
     "name": "stderr",
     "output_type": "stream",
     "text": [
      " 41% |##############################################################                                                                                        |\r"
     ]
    },
    {
     "name": "stdout",
     "output_type": "stream",
     "text": [
      "Epoch 208 start...\n",
      "Epoch 209 start...\n",
      "Epoch 210 start...\n",
      "Epoch 211 start...\n"
     ]
    },
    {
     "name": "stderr",
     "output_type": "stream",
     "text": [
      " 42% |###############################################################                                                                                       |\r"
     ]
    },
    {
     "name": "stdout",
     "output_type": "stream",
     "text": [
      "Epoch 212 start...\n",
      "Epoch 213 start...\n",
      "Epoch 214 start...\n",
      "Epoch 215 start...\n"
     ]
    },
    {
     "name": "stderr",
     "output_type": "stream",
     "text": [
      " 43% |################################################################                                                                                      |\r"
     ]
    },
    {
     "name": "stdout",
     "output_type": "stream",
     "text": [
      "Epoch 216 start...\n",
      "Epoch 217 start...\n",
      "Epoch 218 start...\n",
      "Epoch 219 start...\n"
     ]
    },
    {
     "name": "stderr",
     "output_type": "stream",
     "text": [
      " 44% |##################################################################                                                                                    |\r"
     ]
    },
    {
     "name": "stdout",
     "output_type": "stream",
     "text": [
      "Epoch 220 start...\n",
      "Epoch 221 start...\n",
      "Epoch 222 start...\n",
      "Epoch 223 start...\n"
     ]
    },
    {
     "name": "stderr",
     "output_type": "stream",
     "text": [
      " 44% |###################################################################                                                                                   |\r"
     ]
    },
    {
     "name": "stdout",
     "output_type": "stream",
     "text": [
      "Epoch 224 start...\n",
      "Epoch 225 start...\n",
      "Epoch 226 start...\n",
      "Epoch 227 start...\n"
     ]
    },
    {
     "name": "stderr",
     "output_type": "stream",
     "text": [
      " 45% |####################################################################                                                                                  |\r"
     ]
    },
    {
     "name": "stdout",
     "output_type": "stream",
     "text": [
      "Epoch 228 start...\n",
      "Epoch 229 start...\n",
      "Epoch 230 start...\n",
      "Epoch 231 start...\n"
     ]
    },
    {
     "name": "stderr",
     "output_type": "stream",
     "text": [
      " 46% |#####################################################################                                                                                 |\r"
     ]
    },
    {
     "name": "stdout",
     "output_type": "stream",
     "text": [
      "Epoch 232 start...\n",
      "Epoch 233 start...\n",
      "Epoch 234 start...\n",
      "Epoch 235 start...\n"
     ]
    },
    {
     "name": "stderr",
     "output_type": "stream",
     "text": [
      " 47% |######################################################################                                                                                |\r"
     ]
    },
    {
     "name": "stdout",
     "output_type": "stream",
     "text": [
      "Epoch 236 start...\n",
      "Epoch 237 start...\n",
      "Epoch 238 start...\n",
      "Epoch 239 start...\n"
     ]
    },
    {
     "name": "stderr",
     "output_type": "stream",
     "text": [
      " 48% |########################################################################                                                                              |\r"
     ]
    },
    {
     "name": "stdout",
     "output_type": "stream",
     "text": [
      "Epoch 240 start...\n",
      "Epoch 241 start...\n",
      "Epoch 242 start...\n",
      "Epoch 243 start...\n"
     ]
    },
    {
     "name": "stderr",
     "output_type": "stream",
     "text": [
      " 48% |#########################################################################                                                                             |\r"
     ]
    },
    {
     "name": "stdout",
     "output_type": "stream",
     "text": [
      "Epoch 244 start...\n",
      "Epoch 245 start...\n",
      "Epoch 246 start...\n",
      "Epoch 247 start...\n"
     ]
    },
    {
     "name": "stderr",
     "output_type": "stream",
     "text": [
      " 49% |##########################################################################                                                                            |\r"
     ]
    },
    {
     "name": "stdout",
     "output_type": "stream",
     "text": [
      "Epoch 248 start...\n",
      "Epoch 249 start...\n",
      "Epoch 250 start...\n",
      "Epoch 251 start...\n"
     ]
    },
    {
     "name": "stderr",
     "output_type": "stream",
     "text": [
      " 50% |###########################################################################                                                                           |\r"
     ]
    },
    {
     "name": "stdout",
     "output_type": "stream",
     "text": [
      "Epoch 252 start...\n",
      "Epoch 253 start...\n",
      "Epoch 254 start...\n",
      "Epoch 255 start...\n"
     ]
    },
    {
     "name": "stderr",
     "output_type": "stream",
     "text": [
      " 51% |############################################################################                                                                          |\r"
     ]
    },
    {
     "name": "stdout",
     "output_type": "stream",
     "text": [
      "Epoch 256 start...\n",
      "Epoch 257 start...\n",
      "Epoch 258 start...\n",
      "Epoch 259 start...\n"
     ]
    },
    {
     "name": "stderr",
     "output_type": "stream",
     "text": [
      " 52% |##############################################################################                                                                        |\r"
     ]
    },
    {
     "name": "stdout",
     "output_type": "stream",
     "text": [
      "Epoch 260 start...\n",
      "Epoch 261 start...\n",
      "Epoch 262 start...\n",
      "Epoch 263 start...\n"
     ]
    },
    {
     "name": "stderr",
     "output_type": "stream",
     "text": [
      " 52% |###############################################################################                                                                       |\r"
     ]
    },
    {
     "name": "stdout",
     "output_type": "stream",
     "text": [
      "Epoch 264 start...\n",
      "Epoch 265 start...\n",
      "Epoch 266 start...\n",
      "Epoch 267 start...\n"
     ]
    },
    {
     "name": "stderr",
     "output_type": "stream",
     "text": [
      " 53% |################################################################################                                                                      |\r"
     ]
    },
    {
     "name": "stdout",
     "output_type": "stream",
     "text": [
      "Epoch 268 start...\n",
      "Epoch 269 start...\n",
      "Epoch 270 start...\n",
      "Epoch 271 start...\n"
     ]
    },
    {
     "name": "stderr",
     "output_type": "stream",
     "text": [
      " 54% |#################################################################################                                                                     |\r"
     ]
    },
    {
     "name": "stdout",
     "output_type": "stream",
     "text": [
      "Epoch 272 start...\n",
      "Epoch 273 start...\n",
      "Epoch 274 start...\n",
      "Epoch 275 start...\n"
     ]
    },
    {
     "name": "stderr",
     "output_type": "stream",
     "text": [
      " 55% |##################################################################################                                                                    |\r"
     ]
    },
    {
     "name": "stdout",
     "output_type": "stream",
     "text": [
      "Epoch 276 start...\n",
      "Epoch 277 start...\n",
      "Epoch 278 start...\n",
      "Epoch 279 start...\n"
     ]
    },
    {
     "name": "stderr",
     "output_type": "stream",
     "text": [
      " 56% |####################################################################################                                                                  |\r"
     ]
    },
    {
     "name": "stdout",
     "output_type": "stream",
     "text": [
      "Epoch 280 start...\n",
      "Epoch 281 start...\n",
      "Epoch 282 start...\n",
      "Epoch 283 start...\n"
     ]
    },
    {
     "name": "stderr",
     "output_type": "stream",
     "text": [
      " 56% |#####################################################################################                                                                 |\r"
     ]
    },
    {
     "name": "stdout",
     "output_type": "stream",
     "text": [
      "Epoch 284 start...\n",
      "Epoch 285 start...\n",
      "Epoch 286 start...\n",
      "Epoch 287 start...\n"
     ]
    },
    {
     "name": "stderr",
     "output_type": "stream",
     "text": [
      " 57% |######################################################################################                                                                |\r"
     ]
    },
    {
     "name": "stdout",
     "output_type": "stream",
     "text": [
      "Epoch 288 start...\n",
      "Epoch 289 start...\n",
      "Epoch 290 start...\n",
      "Epoch 291 start...\n"
     ]
    },
    {
     "name": "stderr",
     "output_type": "stream",
     "text": [
      " 58% |#######################################################################################                                                               |\r"
     ]
    },
    {
     "name": "stdout",
     "output_type": "stream",
     "text": [
      "Epoch 292 start...\n",
      "Epoch 293 start...\n",
      "Epoch 294 start...\n",
      "Epoch 295 start...\n"
     ]
    },
    {
     "name": "stderr",
     "output_type": "stream",
     "text": [
      " 59% |########################################################################################                                                              |\r"
     ]
    },
    {
     "name": "stdout",
     "output_type": "stream",
     "text": [
      "Epoch 296 start...\n",
      "Epoch 297 start...\n",
      "Epoch 298 start...\n",
      "Epoch 299 start...\n"
     ]
    },
    {
     "name": "stderr",
     "output_type": "stream",
     "text": [
      " 60% |##########################################################################################                                                            |\r"
     ]
    },
    {
     "name": "stdout",
     "output_type": "stream",
     "text": [
      "Epoch 300 start...\n",
      "Epoch 301 start...\n",
      "Epoch 302 start...\n",
      "Epoch 303 start...\n"
     ]
    },
    {
     "name": "stderr",
     "output_type": "stream",
     "text": [
      " 60% |###########################################################################################                                                           |\r"
     ]
    },
    {
     "name": "stdout",
     "output_type": "stream",
     "text": [
      "Epoch 304 start...\n",
      "Epoch 305 start...\n",
      "Epoch 306 start...\n",
      "Epoch 307 start...\n"
     ]
    },
    {
     "name": "stderr",
     "output_type": "stream",
     "text": [
      " 61% |############################################################################################                                                          |\r"
     ]
    },
    {
     "name": "stdout",
     "output_type": "stream",
     "text": [
      "Epoch 308 start...\n",
      "Epoch 309 start...\n",
      "Epoch 310 start...\n",
      "Epoch 311 start...\n"
     ]
    },
    {
     "name": "stderr",
     "output_type": "stream",
     "text": [
      " 62% |#############################################################################################                                                         |\r"
     ]
    },
    {
     "name": "stdout",
     "output_type": "stream",
     "text": [
      "Epoch 312 start...\n",
      "Epoch 313 start...\n",
      "Epoch 314 start...\n",
      "Epoch 315 start...\n"
     ]
    },
    {
     "name": "stderr",
     "output_type": "stream",
     "text": [
      " 63% |##############################################################################################                                                        |\r"
     ]
    },
    {
     "name": "stdout",
     "output_type": "stream",
     "text": [
      "Epoch 316 start...\n",
      "Epoch 317 start...\n",
      "Epoch 318 start...\n",
      "Epoch 319 start...\n"
     ]
    },
    {
     "name": "stderr",
     "output_type": "stream",
     "text": [
      " 64% |################################################################################################                                                      |\r"
     ]
    },
    {
     "name": "stdout",
     "output_type": "stream",
     "text": [
      "Epoch 320 start...\n",
      "Epoch 321 start...\n",
      "Epoch 322 start...\n",
      "Epoch 323 start...\n"
     ]
    },
    {
     "name": "stderr",
     "output_type": "stream",
     "text": [
      " 64% |#################################################################################################                                                     |\r"
     ]
    },
    {
     "name": "stdout",
     "output_type": "stream",
     "text": [
      "Epoch 324 start...\n",
      "Epoch 325 start...\n",
      "Epoch 326 start...\n",
      "Epoch 327 start...\n"
     ]
    },
    {
     "name": "stderr",
     "output_type": "stream",
     "text": [
      " 65% |##################################################################################################                                                    |\r"
     ]
    },
    {
     "name": "stdout",
     "output_type": "stream",
     "text": [
      "Epoch 328 start...\n",
      "Epoch 329 start...\n",
      "Epoch 330 start...\n",
      "Epoch 331 start...\n"
     ]
    },
    {
     "name": "stderr",
     "output_type": "stream",
     "text": [
      " 66% |###################################################################################################                                                   |\r"
     ]
    },
    {
     "name": "stdout",
     "output_type": "stream",
     "text": [
      "Epoch 332 start...\n",
      "Epoch 333 start...\n",
      "Epoch 334 start...\n",
      "Epoch 335 start...\n"
     ]
    },
    {
     "name": "stderr",
     "output_type": "stream",
     "text": [
      " 67% |####################################################################################################                                                  |\r"
     ]
    },
    {
     "name": "stdout",
     "output_type": "stream",
     "text": [
      "Epoch 336 start...\n",
      "Epoch 337 start...\n",
      "Epoch 338 start...\n",
      "Epoch 339 start...\n"
     ]
    },
    {
     "name": "stderr",
     "output_type": "stream",
     "text": [
      " 68% |######################################################################################################                                                |\r"
     ]
    },
    {
     "name": "stdout",
     "output_type": "stream",
     "text": [
      "Epoch 340 start...\n",
      "Epoch 341 start...\n",
      "Epoch 342 start...\n",
      "Epoch 343 start...\n"
     ]
    },
    {
     "name": "stderr",
     "output_type": "stream",
     "text": [
      " 68% |#######################################################################################################                                               |\r"
     ]
    },
    {
     "name": "stdout",
     "output_type": "stream",
     "text": [
      "Epoch 344 start...\n",
      "Epoch 345 start...\n",
      "Epoch 346 start...\n",
      "Epoch 347 start...\n"
     ]
    },
    {
     "name": "stderr",
     "output_type": "stream",
     "text": [
      " 69% |########################################################################################################                                              |\r"
     ]
    },
    {
     "name": "stdout",
     "output_type": "stream",
     "text": [
      "Epoch 348 start...\n",
      "Epoch 349 start...\n",
      "Epoch 350 start...\n",
      "Epoch 351 start...\n"
     ]
    },
    {
     "name": "stderr",
     "output_type": "stream",
     "text": [
      " 70% |#########################################################################################################                                             |\r"
     ]
    },
    {
     "name": "stdout",
     "output_type": "stream",
     "text": [
      "Epoch 352 start...\n",
      "Epoch 353 start...\n",
      "Epoch 354 start...\n",
      "Epoch 355 start...\n"
     ]
    },
    {
     "name": "stderr",
     "output_type": "stream",
     "text": [
      " 71% |##########################################################################################################                                            |\r"
     ]
    },
    {
     "name": "stdout",
     "output_type": "stream",
     "text": [
      "Epoch 356 start...\n",
      "Epoch 357 start...\n",
      "Epoch 358 start...\n",
      "Epoch 359 start...\n"
     ]
    },
    {
     "name": "stderr",
     "output_type": "stream",
     "text": [
      " 72% |############################################################################################################                                          |\r"
     ]
    },
    {
     "name": "stdout",
     "output_type": "stream",
     "text": [
      "Epoch 360 start...\n",
      "Epoch 361 start...\n",
      "Epoch 362 start...\n",
      "Epoch 363 start...\n"
     ]
    },
    {
     "name": "stderr",
     "output_type": "stream",
     "text": [
      " 72% |#############################################################################################################                                         |\r"
     ]
    },
    {
     "name": "stdout",
     "output_type": "stream",
     "text": [
      "Epoch 364 start...\n",
      "Epoch 365 start...\n",
      "Epoch 366 start...\n",
      "Epoch 367 start...\n"
     ]
    },
    {
     "name": "stderr",
     "output_type": "stream",
     "text": [
      " 73% |##############################################################################################################                                        |\r"
     ]
    },
    {
     "name": "stdout",
     "output_type": "stream",
     "text": [
      "Epoch 368 start...\n",
      "Epoch 369 start...\n",
      "Epoch 370 start...\n",
      "Epoch 371 start...\n"
     ]
    },
    {
     "name": "stderr",
     "output_type": "stream",
     "text": [
      " 74% |###############################################################################################################                                       |\r"
     ]
    },
    {
     "name": "stdout",
     "output_type": "stream",
     "text": [
      "Epoch 372 start...\n",
      "Epoch 373 start...\n",
      "Epoch 374 start...\n",
      "Epoch 375 start...\n"
     ]
    },
    {
     "name": "stderr",
     "output_type": "stream",
     "text": [
      " 75% |################################################################################################################                                      |\r"
     ]
    },
    {
     "name": "stdout",
     "output_type": "stream",
     "text": [
      "Epoch 376 start...\n",
      "Epoch 377 start...\n",
      "Epoch 378 start...\n",
      "Epoch 379 start...\n"
     ]
    },
    {
     "name": "stderr",
     "output_type": "stream",
     "text": [
      " 76% |##################################################################################################################                                    |\r"
     ]
    },
    {
     "name": "stdout",
     "output_type": "stream",
     "text": [
      "Epoch 380 start...\n",
      "Epoch 381 start...\n",
      "Epoch 382 start...\n",
      "Epoch 383 start...\n"
     ]
    },
    {
     "name": "stderr",
     "output_type": "stream",
     "text": [
      " 76% |###################################################################################################################                                   |\r"
     ]
    },
    {
     "name": "stdout",
     "output_type": "stream",
     "text": [
      "Epoch 384 start...\n",
      "Epoch 385 start...\n",
      "Epoch 386 start...\n",
      "Epoch 387 start...\n"
     ]
    },
    {
     "name": "stderr",
     "output_type": "stream",
     "text": [
      " 77% |####################################################################################################################                                  |\r"
     ]
    },
    {
     "name": "stdout",
     "output_type": "stream",
     "text": [
      "Epoch 388 start...\n",
      "Epoch 389 start...\n",
      "Epoch 390 start...\n",
      "Epoch 391 start...\n"
     ]
    },
    {
     "name": "stderr",
     "output_type": "stream",
     "text": [
      " 78% |#####################################################################################################################                                 |\r"
     ]
    },
    {
     "name": "stdout",
     "output_type": "stream",
     "text": [
      "Epoch 392 start...\n",
      "Epoch 393 start...\n",
      "Epoch 394 start...\n",
      "Epoch 395 start...\n"
     ]
    },
    {
     "name": "stderr",
     "output_type": "stream",
     "text": [
      " 79% |######################################################################################################################                                |\r"
     ]
    },
    {
     "name": "stdout",
     "output_type": "stream",
     "text": [
      "Epoch 396 start...\n",
      "Epoch 397 start...\n",
      "Epoch 398 start...\n",
      "Epoch 399 start...\n"
     ]
    },
    {
     "name": "stderr",
     "output_type": "stream",
     "text": [
      " 80% |########################################################################################################################                              |\r"
     ]
    },
    {
     "name": "stdout",
     "output_type": "stream",
     "text": [
      "Epoch 400 start...\n",
      "Epoch 401 start...\n",
      "Epoch 402 start...\n",
      "Epoch 403 start...\n"
     ]
    },
    {
     "name": "stderr",
     "output_type": "stream",
     "text": [
      " 80% |#########################################################################################################################                             |\r"
     ]
    },
    {
     "name": "stdout",
     "output_type": "stream",
     "text": [
      "Epoch 404 start...\n",
      "Epoch 405 start...\n",
      "Epoch 406 start...\n",
      "Epoch 407 start...\n"
     ]
    },
    {
     "name": "stderr",
     "output_type": "stream",
     "text": [
      " 81% |##########################################################################################################################                            |\r"
     ]
    },
    {
     "name": "stdout",
     "output_type": "stream",
     "text": [
      "Epoch 408 start...\n",
      "Epoch 409 start...\n",
      "Epoch 410 start...\n",
      "Epoch 411 start...\n"
     ]
    },
    {
     "name": "stderr",
     "output_type": "stream",
     "text": [
      " 82% |###########################################################################################################################                           |\r"
     ]
    },
    {
     "name": "stdout",
     "output_type": "stream",
     "text": [
      "Epoch 412 start...\n",
      "Epoch 413 start...\n",
      "Epoch 414 start...\n",
      "Epoch 415 start...\n"
     ]
    },
    {
     "name": "stderr",
     "output_type": "stream",
     "text": [
      " 83% |############################################################################################################################                          |\r"
     ]
    },
    {
     "name": "stdout",
     "output_type": "stream",
     "text": [
      "Epoch 416 start...\n",
      "Epoch 417 start...\n",
      "Epoch 418 start...\n",
      "Epoch 419 start...\n"
     ]
    },
    {
     "name": "stderr",
     "output_type": "stream",
     "text": [
      " 84% |##############################################################################################################################                        |\r"
     ]
    },
    {
     "name": "stdout",
     "output_type": "stream",
     "text": [
      "Epoch 420 start...\n",
      "Epoch 421 start...\n",
      "Epoch 422 start...\n",
      "Epoch 423 start...\n"
     ]
    },
    {
     "name": "stderr",
     "output_type": "stream",
     "text": [
      " 84% |###############################################################################################################################                       |\r"
     ]
    },
    {
     "name": "stdout",
     "output_type": "stream",
     "text": [
      "Epoch 424 start...\n",
      "Epoch 425 start...\n",
      "Epoch 426 start...\n",
      "Epoch 427 start...\n"
     ]
    },
    {
     "name": "stderr",
     "output_type": "stream",
     "text": [
      " 85% |################################################################################################################################                      |\r"
     ]
    },
    {
     "name": "stdout",
     "output_type": "stream",
     "text": [
      "Epoch 428 start...\n",
      "Epoch 429 start...\n",
      "Epoch 430 start...\n",
      "Epoch 431 start...\n"
     ]
    },
    {
     "name": "stderr",
     "output_type": "stream",
     "text": [
      " 86% |#################################################################################################################################                     |\r"
     ]
    },
    {
     "name": "stdout",
     "output_type": "stream",
     "text": [
      "Epoch 432 start...\n",
      "Epoch 433 start...\n",
      "Epoch 434 start...\n",
      "Epoch 435 start...\n"
     ]
    },
    {
     "name": "stderr",
     "output_type": "stream",
     "text": [
      " 87% |##################################################################################################################################                    |\r"
     ]
    },
    {
     "name": "stdout",
     "output_type": "stream",
     "text": [
      "Epoch 436 start...\n",
      "Epoch 437 start...\n",
      "Epoch 438 start...\n",
      "Epoch 439 start...\n"
     ]
    },
    {
     "name": "stderr",
     "output_type": "stream",
     "text": [
      " 88% |####################################################################################################################################                  |\r"
     ]
    },
    {
     "name": "stdout",
     "output_type": "stream",
     "text": [
      "Epoch 440 start...\n",
      "Epoch 441 start...\n",
      "Epoch 442 start...\n",
      "Epoch 443 start...\n"
     ]
    },
    {
     "name": "stderr",
     "output_type": "stream",
     "text": [
      " 88% |#####################################################################################################################################                 |\r"
     ]
    },
    {
     "name": "stdout",
     "output_type": "stream",
     "text": [
      "Epoch 444 start...\n",
      "Epoch 445 start...\n",
      "Epoch 446 start...\n",
      "Epoch 447 start...\n"
     ]
    },
    {
     "name": "stderr",
     "output_type": "stream",
     "text": [
      " 89% |######################################################################################################################################                |\r"
     ]
    },
    {
     "name": "stdout",
     "output_type": "stream",
     "text": [
      "Epoch 448 start...\n",
      "Epoch 449 start...\n",
      "Epoch 450 start...\n",
      "Epoch 451 start...\n"
     ]
    },
    {
     "name": "stderr",
     "output_type": "stream",
     "text": [
      " 90% |#######################################################################################################################################               |\r"
     ]
    },
    {
     "name": "stdout",
     "output_type": "stream",
     "text": [
      "Epoch 452 start...\n",
      "Epoch 453 start...\n",
      "Epoch 454 start...\n",
      "Epoch 455 start...\n"
     ]
    },
    {
     "name": "stderr",
     "output_type": "stream",
     "text": [
      " 91% |########################################################################################################################################              |\r"
     ]
    },
    {
     "name": "stdout",
     "output_type": "stream",
     "text": [
      "Epoch 456 start...\n",
      "Epoch 457 start...\n",
      "Epoch 458 start...\n",
      "Epoch 459 start...\n"
     ]
    },
    {
     "name": "stderr",
     "output_type": "stream",
     "text": [
      " 92% |##########################################################################################################################################            |\r"
     ]
    },
    {
     "name": "stdout",
     "output_type": "stream",
     "text": [
      "Epoch 460 start...\n",
      "Epoch 461 start...\n",
      "Epoch 462 start...\n",
      "Epoch 463 start...\n"
     ]
    },
    {
     "name": "stderr",
     "output_type": "stream",
     "text": [
      " 92% |###########################################################################################################################################           |\r"
     ]
    },
    {
     "name": "stdout",
     "output_type": "stream",
     "text": [
      "Epoch 464 start...\n",
      "Epoch 465 start...\n",
      "Epoch 466 start...\n",
      "Epoch 467 start...\n"
     ]
    },
    {
     "name": "stderr",
     "output_type": "stream",
     "text": [
      " 93% |############################################################################################################################################          |\r"
     ]
    },
    {
     "name": "stdout",
     "output_type": "stream",
     "text": [
      "Epoch 468 start...\n",
      "Epoch 469 start...\n",
      "Epoch 470 start...\n",
      "Epoch 471 start...\n"
     ]
    },
    {
     "name": "stderr",
     "output_type": "stream",
     "text": [
      " 94% |#############################################################################################################################################         |\r"
     ]
    },
    {
     "name": "stdout",
     "output_type": "stream",
     "text": [
      "Epoch 472 start...\n",
      "Epoch 473 start...\n",
      "Epoch 474 start...\n",
      "Epoch 475 start...\n"
     ]
    },
    {
     "name": "stderr",
     "output_type": "stream",
     "text": [
      " 95% |##############################################################################################################################################        |\r"
     ]
    },
    {
     "name": "stdout",
     "output_type": "stream",
     "text": [
      "Epoch 476 start...\n",
      "Epoch 477 start...\n",
      "Epoch 478 start...\n",
      "Epoch 479 start...\n"
     ]
    },
    {
     "name": "stderr",
     "output_type": "stream",
     "text": [
      " 96% |################################################################################################################################################      |\r"
     ]
    },
    {
     "name": "stdout",
     "output_type": "stream",
     "text": [
      "Epoch 480 start...\n",
      "Epoch 481 start...\n",
      "Epoch 482 start...\n",
      "Epoch 483 start...\n"
     ]
    },
    {
     "name": "stderr",
     "output_type": "stream",
     "text": [
      " 96% |#################################################################################################################################################     |\r"
     ]
    },
    {
     "name": "stdout",
     "output_type": "stream",
     "text": [
      "Epoch 484 start...\n",
      "Epoch 485 start...\n",
      "Epoch 486 start...\n",
      "Epoch 487 start...\n"
     ]
    },
    {
     "name": "stderr",
     "output_type": "stream",
     "text": [
      " 97% |##################################################################################################################################################    |\r"
     ]
    },
    {
     "name": "stdout",
     "output_type": "stream",
     "text": [
      "Epoch 488 start...\n",
      "Epoch 489 start...\n",
      "Epoch 490 start...\n",
      "Epoch 491 start...\n"
     ]
    },
    {
     "name": "stderr",
     "output_type": "stream",
     "text": [
      " 98% |###################################################################################################################################################   |\r"
     ]
    },
    {
     "name": "stdout",
     "output_type": "stream",
     "text": [
      "Epoch 492 start...\n",
      "Epoch 493 start...\n",
      "Epoch 494 start...\n",
      "Epoch 495 start...\n"
     ]
    },
    {
     "name": "stderr",
     "output_type": "stream",
     "text": [
      " 99% |####################################################################################################################################################  |\r"
     ]
    },
    {
     "name": "stdout",
     "output_type": "stream",
     "text": [
      "Epoch 496 start...\n",
      "Epoch 497 start...\n",
      "Epoch 498 start...\n",
      "Epoch 499 start...\n"
     ]
    },
    {
     "name": "stderr",
     "output_type": "stream",
     "text": [
      "100% |######################################################################################################################################################|\n"
     ]
    },
    {
     "name": "stdout",
     "output_type": "stream",
     "text": [
      "Prediction: 0\n",
      "Prediction: 1\n",
      "Prediction: 2\n",
      "Prediction: 3\n",
      "Prediction: 4\n",
      "Prediction: 5\n",
      "Prediction: 6\n",
      "Prediction: 7\n",
      "Prediction: 8\n",
      "Prediction: 9\n",
      "Prediction: 10\n",
      "Prediction: 11\n",
      "Prediction: 12\n",
      "Prediction: 13\n",
      "Prediction: 14\n",
      "Prediction: 15\n",
      "Prediction: 16\n",
      "Prediction: 17\n",
      "Prediction: 18\n",
      "Prediction: 19\n",
      "Prediction: 20\n",
      "Prediction: 21\n",
      "Prediction: 22\n"
     ]
    },
    {
     "name": "stderr",
     "output_type": "stream",
     "text": [
      "/aul/homes/jshi008/IvyProjects/ICLR/02MQRNN/util.py:57: RuntimeWarning: divide by zero encountered in true_divide\n",
      "  return np.mean(np.abs((ytrue - ypred) / ytrue))\n",
      "/aul/homes/jshi008/IvyProjects/ICLR/02MQRNN/util.py:57: RuntimeWarning: divide by zero encountered in true_divide\n",
      "  return np.mean(np.abs((ytrue - ypred) / ytrue))\n",
      "/aul/homes/jshi008/IvyProjects/ICLR/02MQRNN/util.py:57: RuntimeWarning: divide by zero encountered in true_divide\n",
      "  return np.mean(np.abs((ytrue - ypred) / ytrue))\n"
     ]
    },
    {
     "name": "stdout",
     "output_type": "stream",
     "text": [
      "Prediction: 23\n",
      "Prediction: 24\n"
     ]
    },
    {
     "name": "stderr",
     "output_type": "stream",
     "text": [
      "/aul/homes/jshi008/IvyProjects/ICLR/02MQRNN/util.py:57: RuntimeWarning: divide by zero encountered in true_divide\n",
      "  return np.mean(np.abs((ytrue - ypred) / ytrue))\n",
      "/aul/homes/jshi008/IvyProjects/ICLR/02MQRNN/util.py:57: RuntimeWarning: divide by zero encountered in true_divide\n",
      "  return np.mean(np.abs((ytrue - ypred) / ytrue))\n",
      "/aul/homes/jshi008/IvyProjects/ICLR/02MQRNN/util.py:57: RuntimeWarning: divide by zero encountered in true_divide\n",
      "  return np.mean(np.abs((ytrue - ypred) / ytrue))\n"
     ]
    },
    {
     "name": "stdout",
     "output_type": "stream",
     "text": [
      "Prediction: 25\n",
      "Prediction: 26\n",
      "Prediction: 27\n"
     ]
    },
    {
     "name": "stderr",
     "output_type": "stream",
     "text": [
      "/aul/homes/jshi008/IvyProjects/ICLR/02MQRNN/util.py:57: RuntimeWarning: divide by zero encountered in true_divide\n",
      "  return np.mean(np.abs((ytrue - ypred) / ytrue))\n",
      "/aul/homes/jshi008/IvyProjects/ICLR/02MQRNN/util.py:57: RuntimeWarning: divide by zero encountered in true_divide\n",
      "  return np.mean(np.abs((ytrue - ypred) / ytrue))\n",
      "/aul/homes/jshi008/IvyProjects/ICLR/02MQRNN/util.py:57: RuntimeWarning: divide by zero encountered in true_divide\n",
      "  return np.mean(np.abs((ytrue - ypred) / ytrue))\n",
      "/aul/homes/jshi008/IvyProjects/ICLR/02MQRNN/util.py:57: RuntimeWarning: divide by zero encountered in true_divide\n",
      "  return np.mean(np.abs((ytrue - ypred) / ytrue))\n"
     ]
    },
    {
     "name": "stdout",
     "output_type": "stream",
     "text": [
      "Prediction: 28\n",
      "Prediction: 29\n",
      "Prediction: 30\n",
      "Prediction: 31\n"
     ]
    },
    {
     "name": "stderr",
     "output_type": "stream",
     "text": [
      "/aul/homes/jshi008/IvyProjects/ICLR/02MQRNN/util.py:57: RuntimeWarning: divide by zero encountered in true_divide\n",
      "  return np.mean(np.abs((ytrue - ypred) / ytrue))\n",
      "/aul/homes/jshi008/IvyProjects/ICLR/02MQRNN/util.py:57: RuntimeWarning: divide by zero encountered in true_divide\n",
      "  return np.mean(np.abs((ytrue - ypred) / ytrue))\n",
      "/aul/homes/jshi008/IvyProjects/ICLR/02MQRNN/util.py:57: RuntimeWarning: divide by zero encountered in true_divide\n",
      "  return np.mean(np.abs((ytrue - ypred) / ytrue))\n",
      "/aul/homes/jshi008/IvyProjects/ICLR/02MQRNN/util.py:57: RuntimeWarning: divide by zero encountered in true_divide\n",
      "  return np.mean(np.abs((ytrue - ypred) / ytrue))\n"
     ]
    },
    {
     "name": "stdout",
     "output_type": "stream",
     "text": [
      "Prediction: 32\n",
      "Prediction: 33\n",
      "Prediction: 34\n",
      "Prediction: 35\n"
     ]
    },
    {
     "name": "stderr",
     "output_type": "stream",
     "text": [
      "/aul/homes/jshi008/IvyProjects/ICLR/02MQRNN/util.py:57: RuntimeWarning: divide by zero encountered in true_divide\n",
      "  return np.mean(np.abs((ytrue - ypred) / ytrue))\n",
      "/aul/homes/jshi008/IvyProjects/ICLR/02MQRNN/util.py:57: RuntimeWarning: divide by zero encountered in true_divide\n",
      "  return np.mean(np.abs((ytrue - ypred) / ytrue))\n",
      "/aul/homes/jshi008/IvyProjects/ICLR/02MQRNN/util.py:57: RuntimeWarning: divide by zero encountered in true_divide\n",
      "  return np.mean(np.abs((ytrue - ypred) / ytrue))\n",
      "/aul/homes/jshi008/IvyProjects/ICLR/02MQRNN/util.py:57: RuntimeWarning: divide by zero encountered in true_divide\n",
      "  return np.mean(np.abs((ytrue - ypred) / ytrue))\n",
      "/aul/homes/jshi008/IvyProjects/ICLR/02MQRNN/util.py:57: RuntimeWarning: divide by zero encountered in true_divide\n",
      "  return np.mean(np.abs((ytrue - ypred) / ytrue))\n"
     ]
    },
    {
     "name": "stdout",
     "output_type": "stream",
     "text": [
      "Prediction: 36\n",
      "Prediction: 37\n",
      "Prediction: 38\n",
      "Prediction: 39\n",
      "Prediction: 40\n"
     ]
    },
    {
     "name": "stderr",
     "output_type": "stream",
     "text": [
      "/aul/homes/jshi008/IvyProjects/ICLR/02MQRNN/util.py:57: RuntimeWarning: divide by zero encountered in true_divide\n",
      "  return np.mean(np.abs((ytrue - ypred) / ytrue))\n",
      "/aul/homes/jshi008/IvyProjects/ICLR/02MQRNN/util.py:57: RuntimeWarning: divide by zero encountered in true_divide\n",
      "  return np.mean(np.abs((ytrue - ypred) / ytrue))\n",
      "/aul/homes/jshi008/IvyProjects/ICLR/02MQRNN/util.py:57: RuntimeWarning: divide by zero encountered in true_divide\n",
      "  return np.mean(np.abs((ytrue - ypred) / ytrue))\n"
     ]
    },
    {
     "name": "stdout",
     "output_type": "stream",
     "text": [
      "Prediction: 41\n",
      "Prediction: 42\n",
      "Prediction: 43\n"
     ]
    },
    {
     "name": "stderr",
     "output_type": "stream",
     "text": [
      "/aul/homes/jshi008/IvyProjects/ICLR/02MQRNN/util.py:57: RuntimeWarning: divide by zero encountered in true_divide\n",
      "  return np.mean(np.abs((ytrue - ypred) / ytrue))\n",
      "/aul/homes/jshi008/IvyProjects/ICLR/02MQRNN/util.py:57: RuntimeWarning: divide by zero encountered in true_divide\n",
      "  return np.mean(np.abs((ytrue - ypred) / ytrue))\n"
     ]
    },
    {
     "name": "stdout",
     "output_type": "stream",
     "text": [
      "Prediction: 44\n",
      "Prediction: 45\n",
      "Prediction: 46\n",
      "Prediction: 47\n",
      "Prediction: 48\n",
      "Prediction: 49\n",
      "Prediction: 50\n",
      "Prediction: 51\n",
      "Prediction: 52\n",
      "Prediction: 53\n",
      "Prediction: 54\n",
      "Prediction: 55\n",
      "Prediction: 56\n",
      "Prediction: 57\n",
      "Prediction: 58\n",
      "Prediction: 59\n",
      "Prediction: 60\n",
      "Prediction: 61\n",
      "Prediction: 62\n",
      "Prediction: 63\n",
      "Prediction: 64\n",
      "Prediction: 65\n",
      "Prediction: 66\n",
      "Prediction: 67\n",
      "Prediction: 68\n",
      "Prediction: 69\n",
      "Prediction: 70\n",
      "Prediction: 71\n",
      "Prediction: 72\n",
      "Prediction: 73\n",
      "Prediction: 74\n",
      "Prediction: 75\n",
      "Prediction: 76\n",
      "Prediction: 77\n",
      "Prediction: 78\n",
      "Prediction: 79\n",
      "Prediction: 80\n",
      "Prediction: 81\n",
      "Prediction: 82\n",
      "Prediction: 83\n",
      "Prediction: 84\n",
      "Prediction: 85\n",
      "Prediction: 86\n",
      "Prediction: 87\n",
      "Prediction: 88\n",
      "Prediction: 89\n",
      "Prediction: 90\n",
      "Prediction: 91\n",
      "Prediction: 92\n",
      "Prediction: 93\n",
      "Prediction: 94\n",
      "Prediction: 95\n",
      "Prediction: 96\n",
      "Prediction: 97\n",
      "Prediction: 98\n"
     ]
    },
    {
     "name": "stderr",
     "output_type": "stream",
     "text": [
      "/aul/homes/jshi008/IvyProjects/ICLR/02MQRNN/util.py:57: RuntimeWarning: divide by zero encountered in true_divide\n",
      "  return np.mean(np.abs((ytrue - ypred) / ytrue))\n",
      "/aul/homes/jshi008/IvyProjects/ICLR/02MQRNN/util.py:57: RuntimeWarning: divide by zero encountered in true_divide\n",
      "  return np.mean(np.abs((ytrue - ypred) / ytrue))\n",
      "/aul/homes/jshi008/IvyProjects/ICLR/02MQRNN/util.py:57: RuntimeWarning: divide by zero encountered in true_divide\n",
      "  return np.mean(np.abs((ytrue - ypred) / ytrue))\n",
      "/aul/homes/jshi008/IvyProjects/ICLR/02MQRNN/util.py:57: RuntimeWarning: divide by zero encountered in true_divide\n",
      "  return np.mean(np.abs((ytrue - ypred) / ytrue))\n"
     ]
    },
    {
     "name": "stdout",
     "output_type": "stream",
     "text": [
      "Prediction: 99\n",
      "Prediction: 100\n"
     ]
    },
    {
     "name": "stderr",
     "output_type": "stream",
     "text": [
      "/aul/homes/jshi008/IvyProjects/ICLR/02MQRNN/util.py:57: RuntimeWarning: divide by zero encountered in true_divide\n",
      "  return np.mean(np.abs((ytrue - ypred) / ytrue))\n",
      "/aul/homes/jshi008/IvyProjects/ICLR/02MQRNN/util.py:57: RuntimeWarning: divide by zero encountered in true_divide\n",
      "  return np.mean(np.abs((ytrue - ypred) / ytrue))\n",
      "/aul/homes/jshi008/IvyProjects/ICLR/02MQRNN/util.py:57: RuntimeWarning: divide by zero encountered in true_divide\n",
      "  return np.mean(np.abs((ytrue - ypred) / ytrue))\n"
     ]
    },
    {
     "name": "stdout",
     "output_type": "stream",
     "text": [
      "Prediction: 101\n",
      "Prediction: 102\n",
      "Prediction: 103\n"
     ]
    },
    {
     "name": "stderr",
     "output_type": "stream",
     "text": [
      "/aul/homes/jshi008/IvyProjects/ICLR/02MQRNN/util.py:57: RuntimeWarning: divide by zero encountered in true_divide\n",
      "  return np.mean(np.abs((ytrue - ypred) / ytrue))\n",
      "/aul/homes/jshi008/IvyProjects/ICLR/02MQRNN/util.py:57: RuntimeWarning: divide by zero encountered in true_divide\n",
      "  return np.mean(np.abs((ytrue - ypred) / ytrue))\n",
      "/aul/homes/jshi008/IvyProjects/ICLR/02MQRNN/util.py:57: RuntimeWarning: divide by zero encountered in true_divide\n",
      "  return np.mean(np.abs((ytrue - ypred) / ytrue))\n",
      "/aul/homes/jshi008/IvyProjects/ICLR/02MQRNN/util.py:57: RuntimeWarning: divide by zero encountered in true_divide\n",
      "  return np.mean(np.abs((ytrue - ypred) / ytrue))\n",
      "/aul/homes/jshi008/IvyProjects/ICLR/02MQRNN/util.py:57: RuntimeWarning: divide by zero encountered in true_divide\n",
      "  return np.mean(np.abs((ytrue - ypred) / ytrue))\n"
     ]
    },
    {
     "name": "stdout",
     "output_type": "stream",
     "text": [
      "Prediction: 104\n",
      "Prediction: 105\n",
      "Prediction: 106\n",
      "Prediction: 107\n",
      "Prediction: 108\n"
     ]
    },
    {
     "name": "stderr",
     "output_type": "stream",
     "text": [
      "/aul/homes/jshi008/IvyProjects/ICLR/02MQRNN/util.py:57: RuntimeWarning: divide by zero encountered in true_divide\n",
      "  return np.mean(np.abs((ytrue - ypred) / ytrue))\n",
      "/aul/homes/jshi008/IvyProjects/ICLR/02MQRNN/util.py:57: RuntimeWarning: divide by zero encountered in true_divide\n",
      "  return np.mean(np.abs((ytrue - ypred) / ytrue))\n",
      "/aul/homes/jshi008/IvyProjects/ICLR/02MQRNN/util.py:57: RuntimeWarning: divide by zero encountered in true_divide\n",
      "  return np.mean(np.abs((ytrue - ypred) / ytrue))\n",
      "/aul/homes/jshi008/IvyProjects/ICLR/02MQRNN/util.py:57: RuntimeWarning: divide by zero encountered in true_divide\n",
      "  return np.mean(np.abs((ytrue - ypred) / ytrue))\n"
     ]
    },
    {
     "name": "stdout",
     "output_type": "stream",
     "text": [
      "Prediction: 109\n",
      "Prediction: 110\n",
      "Prediction: 111\n",
      "Prediction: 112\n"
     ]
    },
    {
     "name": "stderr",
     "output_type": "stream",
     "text": [
      "/aul/homes/jshi008/IvyProjects/ICLR/02MQRNN/util.py:57: RuntimeWarning: divide by zero encountered in true_divide\n",
      "  return np.mean(np.abs((ytrue - ypred) / ytrue))\n",
      "/aul/homes/jshi008/IvyProjects/ICLR/02MQRNN/util.py:57: RuntimeWarning: divide by zero encountered in true_divide\n",
      "  return np.mean(np.abs((ytrue - ypred) / ytrue))\n"
     ]
    },
    {
     "name": "stdout",
     "output_type": "stream",
     "text": [
      "Prediction: 113\n",
      "Prediction: 114\n"
     ]
    },
    {
     "name": "stderr",
     "output_type": "stream",
     "text": [
      "/aul/homes/jshi008/IvyProjects/ICLR/02MQRNN/util.py:57: RuntimeWarning: divide by zero encountered in true_divide\n",
      "  return np.mean(np.abs((ytrue - ypred) / ytrue))\n",
      "/aul/homes/jshi008/IvyProjects/ICLR/02MQRNN/util.py:57: RuntimeWarning: divide by zero encountered in true_divide\n",
      "  return np.mean(np.abs((ytrue - ypred) / ytrue))\n",
      "/aul/homes/jshi008/IvyProjects/ICLR/02MQRNN/util.py:57: RuntimeWarning: divide by zero encountered in true_divide\n",
      "  return np.mean(np.abs((ytrue - ypred) / ytrue))\n",
      "/aul/homes/jshi008/IvyProjects/ICLR/02MQRNN/util.py:57: RuntimeWarning: divide by zero encountered in true_divide\n",
      "  return np.mean(np.abs((ytrue - ypred) / ytrue))\n"
     ]
    },
    {
     "name": "stdout",
     "output_type": "stream",
     "text": [
      "Prediction: 115\n",
      "Prediction: 116\n",
      "Prediction: 117\n",
      "Prediction: 118\n"
     ]
    },
    {
     "name": "stderr",
     "output_type": "stream",
     "text": [
      "/aul/homes/jshi008/IvyProjects/ICLR/02MQRNN/util.py:57: RuntimeWarning: divide by zero encountered in true_divide\n",
      "  return np.mean(np.abs((ytrue - ypred) / ytrue))\n",
      "/aul/homes/jshi008/IvyProjects/ICLR/02MQRNN/util.py:57: RuntimeWarning: divide by zero encountered in true_divide\n",
      "  return np.mean(np.abs((ytrue - ypred) / ytrue))\n"
     ]
    },
    {
     "name": "stdout",
     "output_type": "stream",
     "text": [
      "Prediction: 119\n",
      "Prediction: 120\n",
      "Prediction: 121\n",
      "Prediction: 122\n",
      "Prediction: 123\n",
      "Prediction: 124\n",
      "Prediction: 125\n",
      "Prediction: 126\n",
      "Prediction: 127\n",
      "Prediction: 128\n",
      "Prediction: 129\n",
      "Prediction: 130\n"
     ]
    },
    {
     "name": "stderr",
     "output_type": "stream",
     "text": [
      "/aul/homes/jshi008/IvyProjects/ICLR/02MQRNN/util.py:57: RuntimeWarning: divide by zero encountered in true_divide\n",
      "  return np.mean(np.abs((ytrue - ypred) / ytrue))\n",
      "/aul/homes/jshi008/IvyProjects/ICLR/02MQRNN/util.py:57: RuntimeWarning: divide by zero encountered in true_divide\n",
      "  return np.mean(np.abs((ytrue - ypred) / ytrue))\n",
      "/aul/homes/jshi008/IvyProjects/ICLR/02MQRNN/util.py:57: RuntimeWarning: divide by zero encountered in true_divide\n",
      "  return np.mean(np.abs((ytrue - ypred) / ytrue))\n",
      "/aul/homes/jshi008/IvyProjects/ICLR/02MQRNN/util.py:57: RuntimeWarning: divide by zero encountered in true_divide\n",
      "  return np.mean(np.abs((ytrue - ypred) / ytrue))\n"
     ]
    },
    {
     "name": "stdout",
     "output_type": "stream",
     "text": [
      "Prediction: 131\n",
      "Prediction: 132\n"
     ]
    },
    {
     "name": "stderr",
     "output_type": "stream",
     "text": [
      "/aul/homes/jshi008/IvyProjects/ICLR/02MQRNN/util.py:57: RuntimeWarning: divide by zero encountered in true_divide\n",
      "  return np.mean(np.abs((ytrue - ypred) / ytrue))\n",
      "/aul/homes/jshi008/IvyProjects/ICLR/02MQRNN/util.py:57: RuntimeWarning: divide by zero encountered in true_divide\n",
      "  return np.mean(np.abs((ytrue - ypred) / ytrue))\n"
     ]
    },
    {
     "name": "stdout",
     "output_type": "stream",
     "text": [
      "Prediction: 133\n",
      "Prediction: 134\n",
      "Prediction: 135\n",
      "Prediction: 136\n"
     ]
    },
    {
     "name": "stderr",
     "output_type": "stream",
     "text": [
      "/aul/homes/jshi008/IvyProjects/ICLR/02MQRNN/util.py:57: RuntimeWarning: divide by zero encountered in true_divide\n",
      "  return np.mean(np.abs((ytrue - ypred) / ytrue))\n",
      "/aul/homes/jshi008/IvyProjects/ICLR/02MQRNN/util.py:57: RuntimeWarning: divide by zero encountered in true_divide\n",
      "  return np.mean(np.abs((ytrue - ypred) / ytrue))\n",
      "/aul/homes/jshi008/IvyProjects/ICLR/02MQRNN/util.py:57: RuntimeWarning: divide by zero encountered in true_divide\n",
      "  return np.mean(np.abs((ytrue - ypred) / ytrue))\n",
      "/aul/homes/jshi008/IvyProjects/ICLR/02MQRNN/util.py:57: RuntimeWarning: divide by zero encountered in true_divide\n",
      "  return np.mean(np.abs((ytrue - ypred) / ytrue))\n"
     ]
    },
    {
     "name": "stdout",
     "output_type": "stream",
     "text": [
      "Prediction: 137\n",
      "Prediction: 138\n",
      "Prediction: 139\n",
      "Prediction: 140\n"
     ]
    },
    {
     "name": "stderr",
     "output_type": "stream",
     "text": [
      "/aul/homes/jshi008/IvyProjects/ICLR/02MQRNN/util.py:57: RuntimeWarning: divide by zero encountered in true_divide\n",
      "  return np.mean(np.abs((ytrue - ypred) / ytrue))\n",
      "/aul/homes/jshi008/IvyProjects/ICLR/02MQRNN/util.py:57: RuntimeWarning: divide by zero encountered in true_divide\n",
      "  return np.mean(np.abs((ytrue - ypred) / ytrue))\n",
      "/aul/homes/jshi008/IvyProjects/ICLR/02MQRNN/util.py:57: RuntimeWarning: divide by zero encountered in true_divide\n",
      "  return np.mean(np.abs((ytrue - ypred) / ytrue))\n",
      "/aul/homes/jshi008/IvyProjects/ICLR/02MQRNN/util.py:57: RuntimeWarning: divide by zero encountered in true_divide\n",
      "  return np.mean(np.abs((ytrue - ypred) / ytrue))\n",
      "/aul/homes/jshi008/IvyProjects/ICLR/02MQRNN/util.py:57: RuntimeWarning: divide by zero encountered in true_divide\n",
      "  return np.mean(np.abs((ytrue - ypred) / ytrue))\n"
     ]
    },
    {
     "name": "stdout",
     "output_type": "stream",
     "text": [
      "Prediction: 141\n",
      "Prediction: 142\n",
      "Prediction: 143\n",
      "Prediction: 144\n",
      "Prediction: 145\n"
     ]
    },
    {
     "name": "stderr",
     "output_type": "stream",
     "text": [
      "/aul/homes/jshi008/IvyProjects/ICLR/02MQRNN/util.py:57: RuntimeWarning: divide by zero encountered in true_divide\n",
      "  return np.mean(np.abs((ytrue - ypred) / ytrue))\n",
      "/aul/homes/jshi008/IvyProjects/ICLR/02MQRNN/util.py:57: RuntimeWarning: divide by zero encountered in true_divide\n",
      "  return np.mean(np.abs((ytrue - ypred) / ytrue))\n",
      "/aul/homes/jshi008/IvyProjects/ICLR/02MQRNN/util.py:57: RuntimeWarning: divide by zero encountered in true_divide\n",
      "  return np.mean(np.abs((ytrue - ypred) / ytrue))\n",
      "/aul/homes/jshi008/IvyProjects/ICLR/02MQRNN/util.py:57: RuntimeWarning: divide by zero encountered in true_divide\n",
      "  return np.mean(np.abs((ytrue - ypred) / ytrue))\n"
     ]
    },
    {
     "name": "stdout",
     "output_type": "stream",
     "text": [
      "Prediction: 146\n",
      "Prediction: 147\n",
      "Prediction: 148\n"
     ]
    },
    {
     "name": "stderr",
     "output_type": "stream",
     "text": [
      "/aul/homes/jshi008/IvyProjects/ICLR/02MQRNN/util.py:57: RuntimeWarning: divide by zero encountered in true_divide\n",
      "  return np.mean(np.abs((ytrue - ypred) / ytrue))\n",
      "/aul/homes/jshi008/IvyProjects/ICLR/02MQRNN/util.py:57: RuntimeWarning: divide by zero encountered in true_divide\n",
      "  return np.mean(np.abs((ytrue - ypred) / ytrue))\n",
      "/aul/homes/jshi008/IvyProjects/ICLR/02MQRNN/util.py:57: RuntimeWarning: divide by zero encountered in true_divide\n",
      "  return np.mean(np.abs((ytrue - ypred) / ytrue))\n",
      "/aul/homes/jshi008/IvyProjects/ICLR/02MQRNN/util.py:57: RuntimeWarning: divide by zero encountered in true_divide\n",
      "  return np.mean(np.abs((ytrue - ypred) / ytrue))\n"
     ]
    },
    {
     "name": "stdout",
     "output_type": "stream",
     "text": [
      "Prediction: 149\n",
      "Prediction: 150\n",
      "Prediction: 151\n",
      "Prediction: 152\n"
     ]
    },
    {
     "name": "stderr",
     "output_type": "stream",
     "text": [
      "/aul/homes/jshi008/IvyProjects/ICLR/02MQRNN/util.py:57: RuntimeWarning: divide by zero encountered in true_divide\n",
      "  return np.mean(np.abs((ytrue - ypred) / ytrue))\n"
     ]
    },
    {
     "name": "stdout",
     "output_type": "stream",
     "text": [
      "Prediction: 153\n",
      "Prediction: 154\n",
      "Prediction: 155\n",
      "Prediction: 156\n",
      "Prediction: 157\n",
      "Prediction: 158\n",
      "Prediction: 159\n",
      "Prediction: 160\n",
      "Prediction: 161\n",
      "Prediction: 162\n",
      "Prediction: 163\n",
      "Prediction: 164\n",
      "Prediction: 165\n",
      "Prediction: 166\n",
      "Prediction: 167\n",
      "Prediction: 168\n",
      "Prediction: 169\n",
      "Prediction: 170\n",
      "Prediction: 171\n",
      "Prediction: 172\n",
      "Prediction: 173\n",
      "Prediction: 174\n",
      "Prediction: 175\n",
      "Prediction: 176\n",
      "Prediction: 177\n",
      "Prediction: 178\n",
      "Prediction: 179\n",
      "Prediction: 180\n",
      "Prediction: 181\n"
     ]
    },
    {
     "name": "stderr",
     "output_type": "stream",
     "text": [
      "/aul/homes/jshi008/IvyProjects/ICLR/02MQRNN/util.py:57: RuntimeWarning: divide by zero encountered in true_divide\n",
      "  return np.mean(np.abs((ytrue - ypred) / ytrue))\n",
      "/aul/homes/jshi008/IvyProjects/ICLR/02MQRNN/util.py:57: RuntimeWarning: divide by zero encountered in true_divide\n",
      "  return np.mean(np.abs((ytrue - ypred) / ytrue))\n",
      "/aul/homes/jshi008/IvyProjects/ICLR/02MQRNN/util.py:57: RuntimeWarning: divide by zero encountered in true_divide\n",
      "  return np.mean(np.abs((ytrue - ypred) / ytrue))\n",
      "/aul/homes/jshi008/IvyProjects/ICLR/02MQRNN/util.py:57: RuntimeWarning: divide by zero encountered in true_divide\n",
      "  return np.mean(np.abs((ytrue - ypred) / ytrue))\n",
      "/aul/homes/jshi008/IvyProjects/ICLR/02MQRNN/util.py:57: RuntimeWarning: divide by zero encountered in true_divide\n",
      "  return np.mean(np.abs((ytrue - ypred) / ytrue))\n"
     ]
    },
    {
     "name": "stdout",
     "output_type": "stream",
     "text": [
      "Prediction: 182\n",
      "Prediction: 183\n",
      "Prediction: 184\n",
      "Prediction: 185\n",
      "Prediction: 186\n"
     ]
    },
    {
     "name": "stderr",
     "output_type": "stream",
     "text": [
      "/aul/homes/jshi008/IvyProjects/ICLR/02MQRNN/util.py:57: RuntimeWarning: divide by zero encountered in true_divide\n",
      "  return np.mean(np.abs((ytrue - ypred) / ytrue))\n",
      "/aul/homes/jshi008/IvyProjects/ICLR/02MQRNN/util.py:57: RuntimeWarning: divide by zero encountered in true_divide\n",
      "  return np.mean(np.abs((ytrue - ypred) / ytrue))\n",
      "/aul/homes/jshi008/IvyProjects/ICLR/02MQRNN/util.py:57: RuntimeWarning: divide by zero encountered in true_divide\n",
      "  return np.mean(np.abs((ytrue - ypred) / ytrue))\n",
      "/aul/homes/jshi008/IvyProjects/ICLR/02MQRNN/util.py:57: RuntimeWarning: divide by zero encountered in true_divide\n",
      "  return np.mean(np.abs((ytrue - ypred) / ytrue))\n",
      "/aul/homes/jshi008/IvyProjects/ICLR/02MQRNN/util.py:57: RuntimeWarning: divide by zero encountered in true_divide\n",
      "  return np.mean(np.abs((ytrue - ypred) / ytrue))\n"
     ]
    },
    {
     "name": "stdout",
     "output_type": "stream",
     "text": [
      "Prediction: 187\n",
      "Prediction: 188\n",
      "Prediction: 189\n"
     ]
    },
    {
     "name": "stderr",
     "output_type": "stream",
     "text": [
      "/aul/homes/jshi008/IvyProjects/ICLR/02MQRNN/util.py:57: RuntimeWarning: divide by zero encountered in true_divide\n",
      "  return np.mean(np.abs((ytrue - ypred) / ytrue))\n",
      "/aul/homes/jshi008/IvyProjects/ICLR/02MQRNN/util.py:57: RuntimeWarning: divide by zero encountered in true_divide\n",
      "  return np.mean(np.abs((ytrue - ypred) / ytrue))\n",
      "/aul/homes/jshi008/IvyProjects/ICLR/02MQRNN/util.py:57: RuntimeWarning: divide by zero encountered in true_divide\n",
      "  return np.mean(np.abs((ytrue - ypred) / ytrue))\n"
     ]
    },
    {
     "name": "stdout",
     "output_type": "stream",
     "text": [
      "Prediction: 190\n",
      "Prediction: 191\n",
      "Prediction: 192\n",
      "Prediction: 193\n"
     ]
    },
    {
     "name": "stderr",
     "output_type": "stream",
     "text": [
      "/aul/homes/jshi008/IvyProjects/ICLR/02MQRNN/util.py:57: RuntimeWarning: divide by zero encountered in true_divide\n",
      "  return np.mean(np.abs((ytrue - ypred) / ytrue))\n",
      "/aul/homes/jshi008/IvyProjects/ICLR/02MQRNN/util.py:57: RuntimeWarning: divide by zero encountered in true_divide\n",
      "  return np.mean(np.abs((ytrue - ypred) / ytrue))\n",
      "/aul/homes/jshi008/IvyProjects/ICLR/02MQRNN/util.py:57: RuntimeWarning: divide by zero encountered in true_divide\n",
      "  return np.mean(np.abs((ytrue - ypred) / ytrue))\n",
      "/aul/homes/jshi008/IvyProjects/ICLR/02MQRNN/util.py:57: RuntimeWarning: divide by zero encountered in true_divide\n",
      "  return np.mean(np.abs((ytrue - ypred) / ytrue))\n"
     ]
    },
    {
     "name": "stdout",
     "output_type": "stream",
     "text": [
      "Prediction: 194\n",
      "Prediction: 195\n",
      "Prediction: 196\n",
      "Prediction: 197\n"
     ]
    },
    {
     "name": "stderr",
     "output_type": "stream",
     "text": [
      "/aul/homes/jshi008/IvyProjects/ICLR/02MQRNN/util.py:57: RuntimeWarning: divide by zero encountered in true_divide\n",
      "  return np.mean(np.abs((ytrue - ypred) / ytrue))\n",
      "/aul/homes/jshi008/IvyProjects/ICLR/02MQRNN/util.py:57: RuntimeWarning: divide by zero encountered in true_divide\n",
      "  return np.mean(np.abs((ytrue - ypred) / ytrue))\n",
      "/aul/homes/jshi008/IvyProjects/ICLR/02MQRNN/util.py:57: RuntimeWarning: divide by zero encountered in true_divide\n",
      "  return np.mean(np.abs((ytrue - ypred) / ytrue))\n",
      "/aul/homes/jshi008/IvyProjects/ICLR/02MQRNN/util.py:57: RuntimeWarning: divide by zero encountered in true_divide\n",
      "  return np.mean(np.abs((ytrue - ypred) / ytrue))\n"
     ]
    },
    {
     "name": "stdout",
     "output_type": "stream",
     "text": [
      "Prediction: 198\n",
      "Prediction: 199\n",
      "Prediction: 200\n",
      "Prediction: 201\n"
     ]
    },
    {
     "name": "stderr",
     "output_type": "stream",
     "text": [
      "/aul/homes/jshi008/IvyProjects/ICLR/02MQRNN/util.py:57: RuntimeWarning: divide by zero encountered in true_divide\n",
      "  return np.mean(np.abs((ytrue - ypred) / ytrue))\n",
      "/aul/homes/jshi008/IvyProjects/ICLR/02MQRNN/util.py:57: RuntimeWarning: divide by zero encountered in true_divide\n",
      "  return np.mean(np.abs((ytrue - ypred) / ytrue))\n",
      "/aul/homes/jshi008/IvyProjects/ICLR/02MQRNN/util.py:57: RuntimeWarning: divide by zero encountered in true_divide\n",
      "  return np.mean(np.abs((ytrue - ypred) / ytrue))\n",
      "/aul/homes/jshi008/IvyProjects/ICLR/02MQRNN/util.py:57: RuntimeWarning: divide by zero encountered in true_divide\n",
      "  return np.mean(np.abs((ytrue - ypred) / ytrue))\n"
     ]
    },
    {
     "name": "stdout",
     "output_type": "stream",
     "text": [
      "Prediction: 202\n",
      "Prediction: 203\n",
      "Prediction: 204\n",
      "Prediction: 205\n",
      "Prediction: 206\n"
     ]
    },
    {
     "name": "stderr",
     "output_type": "stream",
     "text": [
      "/aul/homes/jshi008/IvyProjects/ICLR/02MQRNN/util.py:57: RuntimeWarning: divide by zero encountered in true_divide\n",
      "  return np.mean(np.abs((ytrue - ypred) / ytrue))\n",
      "/aul/homes/jshi008/IvyProjects/ICLR/02MQRNN/util.py:57: RuntimeWarning: divide by zero encountered in true_divide\n",
      "  return np.mean(np.abs((ytrue - ypred) / ytrue))\n",
      "/aul/homes/jshi008/IvyProjects/ICLR/02MQRNN/util.py:57: RuntimeWarning: divide by zero encountered in true_divide\n",
      "  return np.mean(np.abs((ytrue - ypred) / ytrue))\n",
      "/aul/homes/jshi008/IvyProjects/ICLR/02MQRNN/util.py:57: RuntimeWarning: divide by zero encountered in true_divide\n",
      "  return np.mean(np.abs((ytrue - ypred) / ytrue))\n",
      "/aul/homes/jshi008/IvyProjects/ICLR/02MQRNN/util.py:57: RuntimeWarning: divide by zero encountered in true_divide\n",
      "  return np.mean(np.abs((ytrue - ypred) / ytrue))\n"
     ]
    },
    {
     "name": "stdout",
     "output_type": "stream",
     "text": [
      "Prediction: 207\n",
      "Prediction: 208\n"
     ]
    },
    {
     "name": "stderr",
     "output_type": "stream",
     "text": [
      "/aul/homes/jshi008/IvyProjects/ICLR/02MQRNN/util.py:57: RuntimeWarning: divide by zero encountered in true_divide\n",
      "  return np.mean(np.abs((ytrue - ypred) / ytrue))\n"
     ]
    },
    {
     "name": "stdout",
     "output_type": "stream",
     "text": [
      "Prediction: 209\n",
      "Prediction: 210\n",
      "Prediction: 211\n",
      "Prediction: 212\n",
      "Prediction: 213\n",
      "Prediction: 214\n",
      "Prediction: 215\n",
      "Prediction: 216\n",
      "Prediction: 217\n",
      "Prediction: 218\n",
      "Prediction: 219\n",
      "Prediction: 220\n",
      "Prediction: 221\n",
      "Prediction: 222\n",
      "Prediction: 223\n",
      "Prediction: 224\n",
      "Prediction: 225\n",
      "Prediction: 226\n",
      "Prediction: 227\n",
      "Prediction: 228\n",
      "Prediction: 229\n",
      "Prediction: 230\n",
      "Prediction: 231\n",
      "Prediction: 232\n",
      "Prediction: 233\n",
      "Prediction: 234\n",
      "Prediction: 235\n",
      "Prediction: 236\n",
      "Prediction: 237\n",
      "Prediction: 238\n",
      "Prediction: 239\n",
      "Prediction: 240\n",
      "Prediction: 241\n"
     ]
    },
    {
     "name": "stderr",
     "output_type": "stream",
     "text": [
      "/aul/homes/jshi008/IvyProjects/ICLR/02MQRNN/util.py:57: RuntimeWarning: divide by zero encountered in true_divide\n",
      "  return np.mean(np.abs((ytrue - ypred) / ytrue))\n",
      "/aul/homes/jshi008/IvyProjects/ICLR/02MQRNN/util.py:57: RuntimeWarning: divide by zero encountered in true_divide\n",
      "  return np.mean(np.abs((ytrue - ypred) / ytrue))\n",
      "/aul/homes/jshi008/IvyProjects/ICLR/02MQRNN/util.py:57: RuntimeWarning: divide by zero encountered in true_divide\n",
      "  return np.mean(np.abs((ytrue - ypred) / ytrue))\n",
      "/aul/homes/jshi008/IvyProjects/ICLR/02MQRNN/util.py:57: RuntimeWarning: divide by zero encountered in true_divide\n",
      "  return np.mean(np.abs((ytrue - ypred) / ytrue))\n",
      "/aul/homes/jshi008/IvyProjects/ICLR/02MQRNN/util.py:57: RuntimeWarning: divide by zero encountered in true_divide\n",
      "  return np.mean(np.abs((ytrue - ypred) / ytrue))\n"
     ]
    },
    {
     "name": "stdout",
     "output_type": "stream",
     "text": [
      "Prediction: 242\n",
      "Prediction: 243\n",
      "Prediction: 244\n",
      "Prediction: 245\n",
      "Prediction: 246\n"
     ]
    },
    {
     "name": "stderr",
     "output_type": "stream",
     "text": [
      "/aul/homes/jshi008/IvyProjects/ICLR/02MQRNN/util.py:57: RuntimeWarning: divide by zero encountered in true_divide\n",
      "  return np.mean(np.abs((ytrue - ypred) / ytrue))\n",
      "/aul/homes/jshi008/IvyProjects/ICLR/02MQRNN/util.py:57: RuntimeWarning: divide by zero encountered in true_divide\n",
      "  return np.mean(np.abs((ytrue - ypred) / ytrue))\n",
      "/aul/homes/jshi008/IvyProjects/ICLR/02MQRNN/util.py:57: RuntimeWarning: divide by zero encountered in true_divide\n",
      "  return np.mean(np.abs((ytrue - ypred) / ytrue))\n"
     ]
    },
    {
     "name": "stdout",
     "output_type": "stream",
     "text": [
      "Prediction: 247\n",
      "Prediction: 248\n",
      "Prediction: 249\n"
     ]
    },
    {
     "name": "stderr",
     "output_type": "stream",
     "text": [
      "/aul/homes/jshi008/IvyProjects/ICLR/02MQRNN/util.py:57: RuntimeWarning: divide by zero encountered in true_divide\n",
      "  return np.mean(np.abs((ytrue - ypred) / ytrue))\n",
      "/aul/homes/jshi008/IvyProjects/ICLR/02MQRNN/util.py:57: RuntimeWarning: divide by zero encountered in true_divide\n",
      "  return np.mean(np.abs((ytrue - ypred) / ytrue))\n",
      "/aul/homes/jshi008/IvyProjects/ICLR/02MQRNN/util.py:57: RuntimeWarning: divide by zero encountered in true_divide\n",
      "  return np.mean(np.abs((ytrue - ypred) / ytrue))\n",
      "/aul/homes/jshi008/IvyProjects/ICLR/02MQRNN/util.py:57: RuntimeWarning: divide by zero encountered in true_divide\n",
      "  return np.mean(np.abs((ytrue - ypred) / ytrue))\n"
     ]
    },
    {
     "name": "stdout",
     "output_type": "stream",
     "text": [
      "Prediction: 250\n",
      "Prediction: 251\n",
      "Prediction: 252\n",
      "Prediction: 253\n"
     ]
    },
    {
     "name": "stderr",
     "output_type": "stream",
     "text": [
      "/aul/homes/jshi008/IvyProjects/ICLR/02MQRNN/util.py:57: RuntimeWarning: divide by zero encountered in true_divide\n",
      "  return np.mean(np.abs((ytrue - ypred) / ytrue))\n",
      "/aul/homes/jshi008/IvyProjects/ICLR/02MQRNN/util.py:57: RuntimeWarning: divide by zero encountered in true_divide\n",
      "  return np.mean(np.abs((ytrue - ypred) / ytrue))\n",
      "/aul/homes/jshi008/IvyProjects/ICLR/02MQRNN/util.py:57: RuntimeWarning: divide by zero encountered in true_divide\n",
      "  return np.mean(np.abs((ytrue - ypred) / ytrue))\n",
      "/aul/homes/jshi008/IvyProjects/ICLR/02MQRNN/util.py:57: RuntimeWarning: divide by zero encountered in true_divide\n",
      "  return np.mean(np.abs((ytrue - ypred) / ytrue))\n",
      "/aul/homes/jshi008/IvyProjects/ICLR/02MQRNN/util.py:57: RuntimeWarning: divide by zero encountered in true_divide\n",
      "  return np.mean(np.abs((ytrue - ypred) / ytrue))\n"
     ]
    },
    {
     "name": "stdout",
     "output_type": "stream",
     "text": [
      "Prediction: 254\n",
      "Prediction: 255\n",
      "Prediction: 256\n",
      "Prediction: 257\n",
      "Prediction: 258\n",
      "Prediction: 259\n",
      "Prediction: 260\n",
      "Prediction: 261\n"
     ]
    },
    {
     "name": "stderr",
     "output_type": "stream",
     "text": [
      "/aul/homes/jshi008/IvyProjects/ICLR/02MQRNN/util.py:57: RuntimeWarning: divide by zero encountered in true_divide\n",
      "  return np.mean(np.abs((ytrue - ypred) / ytrue))\n",
      "/aul/homes/jshi008/IvyProjects/ICLR/02MQRNN/util.py:57: RuntimeWarning: divide by zero encountered in true_divide\n",
      "  return np.mean(np.abs((ytrue - ypred) / ytrue))\n",
      "/aul/homes/jshi008/IvyProjects/ICLR/02MQRNN/util.py:57: RuntimeWarning: divide by zero encountered in true_divide\n",
      "  return np.mean(np.abs((ytrue - ypred) / ytrue))\n",
      "/aul/homes/jshi008/IvyProjects/ICLR/02MQRNN/util.py:57: RuntimeWarning: divide by zero encountered in true_divide\n",
      "  return np.mean(np.abs((ytrue - ypred) / ytrue))\n",
      "/aul/homes/jshi008/IvyProjects/ICLR/02MQRNN/util.py:57: RuntimeWarning: divide by zero encountered in true_divide\n",
      "  return np.mean(np.abs((ytrue - ypred) / ytrue))\n"
     ]
    },
    {
     "name": "stdout",
     "output_type": "stream",
     "text": [
      "Prediction: 262\n",
      "Prediction: 263\n"
     ]
    },
    {
     "name": "stderr",
     "output_type": "stream",
     "text": [
      "/aul/homes/jshi008/IvyProjects/ICLR/02MQRNN/util.py:57: RuntimeWarning: divide by zero encountered in true_divide\n",
      "  return np.mean(np.abs((ytrue - ypred) / ytrue))\n",
      "/aul/homes/jshi008/IvyProjects/ICLR/02MQRNN/util.py:57: RuntimeWarning: divide by zero encountered in true_divide\n",
      "  return np.mean(np.abs((ytrue - ypred) / ytrue))\n"
     ]
    },
    {
     "name": "stdout",
     "output_type": "stream",
     "text": [
      "Prediction: 264\n",
      "Prediction: 265\n",
      "Prediction: 266\n",
      "Prediction: 267\n",
      "Prediction: 268\n",
      "Prediction: 269\n",
      "Prediction: 270\n",
      "Prediction: 271\n",
      "Prediction: 272\n",
      "Prediction: 273\n",
      "Prediction: 274\n",
      "Prediction: 275\n",
      "Prediction: 276\n",
      "Prediction: 277\n",
      "Prediction: 278\n",
      "Prediction: 279\n",
      "Prediction: 280\n",
      "Prediction: 281\n",
      "Prediction: 282\n",
      "Prediction: 283\n",
      "Prediction: 284\n",
      "Prediction: 285\n",
      "Prediction: 286\n",
      "Prediction: 287\n",
      "Prediction: 288\n",
      "Prediction: 289\n",
      "Prediction: 290\n",
      "Prediction: 291\n",
      "Prediction: 292\n",
      "Prediction: 293\n",
      "Prediction: 294\n",
      "Prediction: 295\n",
      "Prediction: 296\n",
      "Prediction: 297\n",
      "Prediction: 298\n",
      "Prediction: 299\n",
      "Prediction: 300\n",
      "Prediction: 301\n",
      "Prediction: 302\n",
      "Prediction: 303\n"
     ]
    },
    {
     "name": "stderr",
     "output_type": "stream",
     "text": [
      "/aul/homes/jshi008/IvyProjects/ICLR/02MQRNN/util.py:57: RuntimeWarning: divide by zero encountered in true_divide\n",
      "  return np.mean(np.abs((ytrue - ypred) / ytrue))\n",
      "/aul/homes/jshi008/IvyProjects/ICLR/02MQRNN/util.py:57: RuntimeWarning: divide by zero encountered in true_divide\n",
      "  return np.mean(np.abs((ytrue - ypred) / ytrue))\n"
     ]
    },
    {
     "name": "stdout",
     "output_type": "stream",
     "text": [
      "Prediction: 304\n",
      "Prediction: 305\n",
      "Prediction: 306\n",
      "Prediction: 307\n"
     ]
    },
    {
     "name": "stderr",
     "output_type": "stream",
     "text": [
      "/aul/homes/jshi008/IvyProjects/ICLR/02MQRNN/util.py:57: RuntimeWarning: divide by zero encountered in true_divide\n",
      "  return np.mean(np.abs((ytrue - ypred) / ytrue))\n",
      "/aul/homes/jshi008/IvyProjects/ICLR/02MQRNN/util.py:57: RuntimeWarning: divide by zero encountered in true_divide\n",
      "  return np.mean(np.abs((ytrue - ypred) / ytrue))\n",
      "/aul/homes/jshi008/IvyProjects/ICLR/02MQRNN/util.py:57: RuntimeWarning: divide by zero encountered in true_divide\n",
      "  return np.mean(np.abs((ytrue - ypred) / ytrue))\n",
      "/aul/homes/jshi008/IvyProjects/ICLR/02MQRNN/util.py:57: RuntimeWarning: divide by zero encountered in true_divide\n",
      "  return np.mean(np.abs((ytrue - ypred) / ytrue))\n"
     ]
    },
    {
     "name": "stdout",
     "output_type": "stream",
     "text": [
      "Prediction: 308\n",
      "Prediction: 309\n",
      "Prediction: 310\n",
      "Prediction: 311\n"
     ]
    },
    {
     "name": "stderr",
     "output_type": "stream",
     "text": [
      "/aul/homes/jshi008/IvyProjects/ICLR/02MQRNN/util.py:57: RuntimeWarning: divide by zero encountered in true_divide\n",
      "  return np.mean(np.abs((ytrue - ypred) / ytrue))\n",
      "/aul/homes/jshi008/IvyProjects/ICLR/02MQRNN/util.py:57: RuntimeWarning: divide by zero encountered in true_divide\n",
      "  return np.mean(np.abs((ytrue - ypred) / ytrue))\n",
      "/aul/homes/jshi008/IvyProjects/ICLR/02MQRNN/util.py:57: RuntimeWarning: divide by zero encountered in true_divide\n",
      "  return np.mean(np.abs((ytrue - ypred) / ytrue))\n",
      "/aul/homes/jshi008/IvyProjects/ICLR/02MQRNN/util.py:57: RuntimeWarning: divide by zero encountered in true_divide\n",
      "  return np.mean(np.abs((ytrue - ypred) / ytrue))\n"
     ]
    },
    {
     "name": "stdout",
     "output_type": "stream",
     "text": [
      "Prediction: 312\n",
      "Prediction: 313\n",
      "Prediction: 314\n",
      "Prediction: 315\n"
     ]
    },
    {
     "name": "stderr",
     "output_type": "stream",
     "text": [
      "/aul/homes/jshi008/IvyProjects/ICLR/02MQRNN/util.py:57: RuntimeWarning: divide by zero encountered in true_divide\n",
      "  return np.mean(np.abs((ytrue - ypred) / ytrue))\n",
      "/aul/homes/jshi008/IvyProjects/ICLR/02MQRNN/util.py:57: RuntimeWarning: divide by zero encountered in true_divide\n",
      "  return np.mean(np.abs((ytrue - ypred) / ytrue))\n",
      "/aul/homes/jshi008/IvyProjects/ICLR/02MQRNN/util.py:57: RuntimeWarning: divide by zero encountered in true_divide\n",
      "  return np.mean(np.abs((ytrue - ypred) / ytrue))\n",
      "/aul/homes/jshi008/IvyProjects/ICLR/02MQRNN/util.py:57: RuntimeWarning: divide by zero encountered in true_divide\n",
      "  return np.mean(np.abs((ytrue - ypred) / ytrue))\n",
      "/aul/homes/jshi008/IvyProjects/ICLR/02MQRNN/util.py:57: RuntimeWarning: divide by zero encountered in true_divide\n",
      "  return np.mean(np.abs((ytrue - ypred) / ytrue))\n",
      "/aul/homes/jshi008/IvyProjects/ICLR/02MQRNN/util.py:57: RuntimeWarning: divide by zero encountered in true_divide\n",
      "  return np.mean(np.abs((ytrue - ypred) / ytrue))\n",
      "/aul/homes/jshi008/IvyProjects/ICLR/02MQRNN/util.py:57: RuntimeWarning: divide by zero encountered in true_divide\n",
      "  return np.mean(np.abs((ytrue - ypred) / ytrue))\n"
     ]
    },
    {
     "name": "stdout",
     "output_type": "stream",
     "text": [
      "Prediction: 316\n",
      "Prediction: 317\n",
      "Prediction: 318\n",
      "Prediction: 319\n"
     ]
    },
    {
     "name": "stderr",
     "output_type": "stream",
     "text": [
      "/aul/homes/jshi008/IvyProjects/ICLR/02MQRNN/util.py:57: RuntimeWarning: divide by zero encountered in true_divide\n",
      "  return np.mean(np.abs((ytrue - ypred) / ytrue))\n",
      "/aul/homes/jshi008/IvyProjects/ICLR/02MQRNN/util.py:57: RuntimeWarning: divide by zero encountered in true_divide\n",
      "  return np.mean(np.abs((ytrue - ypred) / ytrue))\n",
      "/aul/homes/jshi008/IvyProjects/ICLR/02MQRNN/util.py:57: RuntimeWarning: divide by zero encountered in true_divide\n",
      "  return np.mean(np.abs((ytrue - ypred) / ytrue))\n",
      "/aul/homes/jshi008/IvyProjects/ICLR/02MQRNN/util.py:57: RuntimeWarning: divide by zero encountered in true_divide\n",
      "  return np.mean(np.abs((ytrue - ypred) / ytrue))\n",
      "/aul/homes/jshi008/IvyProjects/ICLR/02MQRNN/util.py:57: RuntimeWarning: divide by zero encountered in true_divide\n",
      "  return np.mean(np.abs((ytrue - ypred) / ytrue))\n"
     ]
    },
    {
     "name": "stdout",
     "output_type": "stream",
     "text": [
      "Prediction: 320\n",
      "Prediction: 321\n",
      "Prediction: 322\n",
      "Prediction: 323\n",
      "Prediction: 324\n"
     ]
    },
    {
     "name": "stderr",
     "output_type": "stream",
     "text": [
      "/aul/homes/jshi008/IvyProjects/ICLR/02MQRNN/util.py:57: RuntimeWarning: divide by zero encountered in true_divide\n",
      "  return np.mean(np.abs((ytrue - ypred) / ytrue))\n",
      "/aul/homes/jshi008/IvyProjects/ICLR/02MQRNN/util.py:57: RuntimeWarning: divide by zero encountered in true_divide\n",
      "  return np.mean(np.abs((ytrue - ypred) / ytrue))\n",
      "/aul/homes/jshi008/IvyProjects/ICLR/02MQRNN/util.py:57: RuntimeWarning: divide by zero encountered in true_divide\n",
      "  return np.mean(np.abs((ytrue - ypred) / ytrue))\n",
      "/aul/homes/jshi008/IvyProjects/ICLR/02MQRNN/util.py:57: RuntimeWarning: divide by zero encountered in true_divide\n",
      "  return np.mean(np.abs((ytrue - ypred) / ytrue))\n"
     ]
    },
    {
     "name": "stdout",
     "output_type": "stream",
     "text": [
      "Prediction: 325\n",
      "Prediction: 326\n",
      "Prediction: 327\n",
      "Prediction: 328\n"
     ]
    },
    {
     "name": "stderr",
     "output_type": "stream",
     "text": [
      "/aul/homes/jshi008/IvyProjects/ICLR/02MQRNN/util.py:57: RuntimeWarning: divide by zero encountered in true_divide\n",
      "  return np.mean(np.abs((ytrue - ypred) / ytrue))\n",
      "/aul/homes/jshi008/IvyProjects/ICLR/02MQRNN/util.py:57: RuntimeWarning: divide by zero encountered in true_divide\n",
      "  return np.mean(np.abs((ytrue - ypred) / ytrue))\n"
     ]
    },
    {
     "name": "stdout",
     "output_type": "stream",
     "text": [
      "Prediction: 329\n",
      "Prediction: 330\n"
     ]
    },
    {
     "name": "stderr",
     "output_type": "stream",
     "text": [
      "/aul/homes/jshi008/IvyProjects/ICLR/02MQRNN/util.py:57: RuntimeWarning: divide by zero encountered in true_divide\n",
      "  return np.mean(np.abs((ytrue - ypred) / ytrue))\n",
      "/aul/homes/jshi008/IvyProjects/ICLR/02MQRNN/util.py:57: RuntimeWarning: divide by zero encountered in true_divide\n",
      "  return np.mean(np.abs((ytrue - ypred) / ytrue))\n",
      "/aul/homes/jshi008/IvyProjects/ICLR/02MQRNN/util.py:57: RuntimeWarning: divide by zero encountered in true_divide\n",
      "  return np.mean(np.abs((ytrue - ypred) / ytrue))\n"
     ]
    },
    {
     "name": "stdout",
     "output_type": "stream",
     "text": [
      "Prediction: 331\n",
      "Prediction: 332\n",
      "Prediction: 333\n",
      "Prediction: 334\n",
      "Prediction: 335\n",
      "Prediction: 336\n",
      "Prediction: 337\n",
      "Prediction: 338\n",
      "Prediction: 339\n",
      "Prediction: 340\n",
      "Prediction: 341\n",
      "Prediction: 342\n",
      "Prediction: 343\n",
      "Prediction: 344\n",
      "Prediction: 345\n",
      "Prediction: 346\n",
      "Prediction: 347\n",
      "Prediction: 348\n",
      "Prediction: 349\n",
      "Prediction: 350\n",
      "Prediction: 351\n",
      "Prediction: 352\n",
      "Prediction: 353\n",
      "Prediction: 354\n",
      "Prediction: 355\n",
      "Prediction: 356\n",
      "Prediction: 357\n",
      "Prediction: 358\n",
      "Prediction: 359\n",
      "Prediction: 360\n",
      "Prediction: 361\n",
      "Prediction: 362\n",
      "Prediction: 363\n",
      "Prediction: 364\n",
      "Prediction: 365\n",
      "Prediction: 366\n",
      "Prediction: 367\n",
      "Prediction: 368\n",
      "Prediction: 369\n",
      "Prediction: 370\n",
      "Prediction: 371\n",
      "Prediction: 372\n",
      "Prediction: 373\n",
      "Prediction: 374\n",
      "Prediction: 375\n",
      "Prediction: 376\n",
      "Prediction: 377\n",
      "Prediction: 378\n",
      "Prediction: 379\n",
      "Prediction: 380\n",
      "Prediction: 381\n",
      "Prediction: 382\n",
      "Prediction: 383\n",
      "Prediction: 384\n",
      "Prediction: 385\n",
      "Prediction: 386\n",
      "Prediction: 387\n",
      "Prediction: 388\n",
      "Prediction: 389\n",
      "Prediction: 390\n",
      "Prediction: 391\n",
      "Prediction: 392\n",
      "Prediction: 393\n",
      "Prediction: 394\n",
      "Prediction: 395\n",
      "Prediction: 396\n",
      "Prediction: 397\n",
      "Prediction: 398\n",
      "Prediction: 399\n",
      "Prediction: 400\n",
      "Prediction: 401\n",
      "Prediction: 402\n",
      "Prediction: 403\n",
      "Prediction: 404\n",
      "Prediction: 405\n",
      "Prediction: 406\n",
      "Prediction: 407\n",
      "Prediction: 408\n",
      "Prediction: 409\n",
      "Prediction: 410\n",
      "Prediction: 411\n",
      "Prediction: 412\n",
      "Prediction: 413\n",
      "Prediction: 414\n",
      "Prediction: 415\n",
      "Prediction: 416\n",
      "Prediction: 417\n",
      "Prediction: 418\n",
      "Prediction: 419\n",
      "Prediction: 420\n",
      "Prediction: 421\n",
      "Prediction: 422\n",
      "Prediction: 423\n",
      "Prediction: 424\n",
      "Prediction: 425\n",
      "Prediction: 426\n",
      "Prediction: 427\n",
      "Prediction: 428\n",
      "Prediction: 429\n",
      "Prediction: 430\n",
      "Prediction: 431\n",
      "Prediction: 432\n",
      "Prediction: 433\n",
      "Prediction: 434\n",
      "Prediction: 435\n",
      "Prediction: 436\n",
      "Prediction: 437\n",
      "Prediction: 438\n",
      "Prediction: 439\n",
      "Prediction: 440\n",
      "Prediction: 441\n",
      "Prediction: 442\n",
      "Prediction: 443\n",
      "Prediction: 444\n",
      "Prediction: 445\n",
      "Prediction: 446\n",
      "Prediction: 447\n",
      "Prediction: 448\n",
      "Prediction: 449\n",
      "Prediction: 450\n",
      "Prediction: 451\n",
      "Prediction: 452\n",
      "Prediction: 453\n",
      "Prediction: 454\n",
      "Prediction: 455\n",
      "Prediction: 456\n",
      "Prediction: 457\n",
      "Prediction: 458\n",
      "Prediction: 459\n",
      "Prediction: 460\n",
      "Prediction: 461\n",
      "Prediction: 462\n",
      "Prediction: 463\n",
      "Prediction: 464\n",
      "Prediction: 465\n",
      "Prediction: 466\n",
      "Prediction: 467\n",
      "Prediction: 468\n",
      "Prediction: 469\n",
      "Prediction: 470\n",
      "Prediction: 471\n",
      "Prediction: 472\n",
      "Prediction: 473\n",
      "Prediction: 474\n",
      "Prediction: 475\n",
      "Prediction: 476\n",
      "Prediction: 477\n",
      "Prediction: 478\n",
      "Prediction: 479\n",
      "Prediction: 480\n",
      "Prediction: 481\n",
      "Prediction: 482\n",
      "Prediction: 483\n",
      "Prediction: 484\n",
      "Prediction: 485\n",
      "Prediction: 486\n",
      "Prediction: 487\n",
      "Prediction: 488\n",
      "Prediction: 489\n",
      "Prediction: 490\n",
      "Prediction: 491\n",
      "Prediction: 492\n",
      "Prediction: 493\n",
      "Prediction: 494\n",
      "Prediction: 495\n",
      "Prediction: 496\n",
      "Prediction: 497\n",
      "Prediction: 498\n",
      "Prediction: 499\n",
      "Prediction: 500\n",
      "Prediction: 501\n",
      "Prediction: 502\n",
      "Prediction: 503\n",
      "Prediction: 504\n",
      "Prediction: 505\n",
      "Prediction: 506\n",
      "Prediction: 507\n",
      "Prediction: 508\n",
      "Prediction: 509\n",
      "Prediction: 510\n",
      "Prediction: 511\n",
      "Prediction: 512\n",
      "Prediction: 513\n",
      "Prediction: 514\n",
      "Prediction: 515\n",
      "Prediction: 516\n",
      "Prediction: 517\n",
      "Prediction: 518\n",
      "Prediction: 519\n",
      "Prediction: 520\n",
      "Prediction: 521\n",
      "Prediction: 522\n",
      "Prediction: 523\n",
      "Prediction: 524\n",
      "Prediction: 525\n",
      "Prediction: 526\n",
      "Prediction: 527\n",
      "Prediction: 528\n",
      "Prediction: 529\n",
      "Prediction: 530\n",
      "Prediction: 531\n",
      "Prediction: 532\n",
      "Prediction: 533\n",
      "Prediction: 534\n",
      "Prediction: 535\n",
      "Prediction: 536\n",
      "Prediction: 537\n",
      "Prediction: 538\n",
      "Prediction: 539\n",
      "Prediction: 540\n",
      "Prediction: 541\n",
      "Prediction: 542\n",
      "Prediction: 543\n",
      "Prediction: 544\n",
      "Prediction: 545\n"
     ]
    },
    {
     "name": "stderr",
     "output_type": "stream",
     "text": [
      "/aul/homes/jshi008/IvyProjects/ICLR/02MQRNN/util.py:57: RuntimeWarning: divide by zero encountered in true_divide\n",
      "  return np.mean(np.abs((ytrue - ypred) / ytrue))\n",
      "/aul/homes/jshi008/IvyProjects/ICLR/02MQRNN/util.py:57: RuntimeWarning: divide by zero encountered in true_divide\n",
      "  return np.mean(np.abs((ytrue - ypred) / ytrue))\n",
      "/aul/homes/jshi008/IvyProjects/ICLR/02MQRNN/util.py:57: RuntimeWarning: divide by zero encountered in true_divide\n",
      "  return np.mean(np.abs((ytrue - ypred) / ytrue))\n",
      "/aul/homes/jshi008/IvyProjects/ICLR/02MQRNN/util.py:57: RuntimeWarning: divide by zero encountered in true_divide\n",
      "  return np.mean(np.abs((ytrue - ypred) / ytrue))\n"
     ]
    },
    {
     "name": "stdout",
     "output_type": "stream",
     "text": [
      "Prediction: 546\n",
      "Prediction: 547\n",
      "Prediction: 548\n",
      "Prediction: 549\n"
     ]
    },
    {
     "name": "stderr",
     "output_type": "stream",
     "text": [
      "/aul/homes/jshi008/IvyProjects/ICLR/02MQRNN/util.py:57: RuntimeWarning: divide by zero encountered in true_divide\n",
      "  return np.mean(np.abs((ytrue - ypred) / ytrue))\n",
      "/aul/homes/jshi008/IvyProjects/ICLR/02MQRNN/util.py:57: RuntimeWarning: divide by zero encountered in true_divide\n",
      "  return np.mean(np.abs((ytrue - ypred) / ytrue))\n",
      "/aul/homes/jshi008/IvyProjects/ICLR/02MQRNN/util.py:57: RuntimeWarning: divide by zero encountered in true_divide\n",
      "  return np.mean(np.abs((ytrue - ypred) / ytrue))\n"
     ]
    },
    {
     "name": "stdout",
     "output_type": "stream",
     "text": [
      "Prediction: 550\n",
      "Prediction: 551\n",
      "Prediction: 552\n"
     ]
    },
    {
     "name": "stderr",
     "output_type": "stream",
     "text": [
      "/aul/homes/jshi008/IvyProjects/ICLR/02MQRNN/util.py:57: RuntimeWarning: divide by zero encountered in true_divide\n",
      "  return np.mean(np.abs((ytrue - ypred) / ytrue))\n",
      "/aul/homes/jshi008/IvyProjects/ICLR/02MQRNN/util.py:57: RuntimeWarning: divide by zero encountered in true_divide\n",
      "  return np.mean(np.abs((ytrue - ypred) / ytrue))\n",
      "/aul/homes/jshi008/IvyProjects/ICLR/02MQRNN/util.py:57: RuntimeWarning: divide by zero encountered in true_divide\n",
      "  return np.mean(np.abs((ytrue - ypred) / ytrue))\n",
      "/aul/homes/jshi008/IvyProjects/ICLR/02MQRNN/util.py:57: RuntimeWarning: divide by zero encountered in true_divide\n",
      "  return np.mean(np.abs((ytrue - ypred) / ytrue))\n"
     ]
    },
    {
     "name": "stdout",
     "output_type": "stream",
     "text": [
      "Prediction: 553\n",
      "Prediction: 554\n",
      "Prediction: 555\n",
      "Prediction: 556\n"
     ]
    },
    {
     "name": "stderr",
     "output_type": "stream",
     "text": [
      "/aul/homes/jshi008/IvyProjects/ICLR/02MQRNN/util.py:57: RuntimeWarning: divide by zero encountered in true_divide\n",
      "  return np.mean(np.abs((ytrue - ypred) / ytrue))\n",
      "/aul/homes/jshi008/IvyProjects/ICLR/02MQRNN/util.py:57: RuntimeWarning: divide by zero encountered in true_divide\n",
      "  return np.mean(np.abs((ytrue - ypred) / ytrue))\n",
      "/aul/homes/jshi008/IvyProjects/ICLR/02MQRNN/util.py:57: RuntimeWarning: divide by zero encountered in true_divide\n",
      "  return np.mean(np.abs((ytrue - ypred) / ytrue))\n"
     ]
    },
    {
     "name": "stdout",
     "output_type": "stream",
     "text": [
      "Prediction: 557\n",
      "Prediction: 558\n",
      "Prediction: 559\n"
     ]
    },
    {
     "name": "stderr",
     "output_type": "stream",
     "text": [
      "/aul/homes/jshi008/IvyProjects/ICLR/02MQRNN/util.py:57: RuntimeWarning: divide by zero encountered in true_divide\n",
      "  return np.mean(np.abs((ytrue - ypred) / ytrue))\n",
      "/aul/homes/jshi008/IvyProjects/ICLR/02MQRNN/util.py:57: RuntimeWarning: divide by zero encountered in true_divide\n",
      "  return np.mean(np.abs((ytrue - ypred) / ytrue))\n",
      "/aul/homes/jshi008/IvyProjects/ICLR/02MQRNN/util.py:57: RuntimeWarning: divide by zero encountered in true_divide\n",
      "  return np.mean(np.abs((ytrue - ypred) / ytrue))\n"
     ]
    },
    {
     "name": "stdout",
     "output_type": "stream",
     "text": [
      "Prediction: 560\n",
      "Prediction: 561\n",
      "Prediction: 562\n"
     ]
    },
    {
     "name": "stderr",
     "output_type": "stream",
     "text": [
      "/aul/homes/jshi008/IvyProjects/ICLR/02MQRNN/util.py:57: RuntimeWarning: divide by zero encountered in true_divide\n",
      "  return np.mean(np.abs((ytrue - ypred) / ytrue))\n",
      "/aul/homes/jshi008/IvyProjects/ICLR/02MQRNN/util.py:57: RuntimeWarning: divide by zero encountered in true_divide\n",
      "  return np.mean(np.abs((ytrue - ypred) / ytrue))\n",
      "/aul/homes/jshi008/IvyProjects/ICLR/02MQRNN/util.py:57: RuntimeWarning: divide by zero encountered in true_divide\n",
      "  return np.mean(np.abs((ytrue - ypred) / ytrue))\n"
     ]
    },
    {
     "name": "stdout",
     "output_type": "stream",
     "text": [
      "Prediction: 563\n",
      "Prediction: 564\n",
      "Prediction: 565\n"
     ]
    },
    {
     "name": "stderr",
     "output_type": "stream",
     "text": [
      "/aul/homes/jshi008/IvyProjects/ICLR/02MQRNN/util.py:57: RuntimeWarning: divide by zero encountered in true_divide\n",
      "  return np.mean(np.abs((ytrue - ypred) / ytrue))\n",
      "/aul/homes/jshi008/IvyProjects/ICLR/02MQRNN/util.py:57: RuntimeWarning: divide by zero encountered in true_divide\n",
      "  return np.mean(np.abs((ytrue - ypred) / ytrue))\n",
      "/aul/homes/jshi008/IvyProjects/ICLR/02MQRNN/util.py:57: RuntimeWarning: divide by zero encountered in true_divide\n",
      "  return np.mean(np.abs((ytrue - ypred) / ytrue))\n",
      "/aul/homes/jshi008/IvyProjects/ICLR/02MQRNN/util.py:57: RuntimeWarning: divide by zero encountered in true_divide\n",
      "  return np.mean(np.abs((ytrue - ypred) / ytrue))\n"
     ]
    },
    {
     "name": "stdout",
     "output_type": "stream",
     "text": [
      "Prediction: 566\n",
      "Prediction: 567\n",
      "Prediction: 568\n",
      "Prediction: 569\n",
      "Prediction: 570\n",
      "Prediction: 571\n",
      "Prediction: 572\n",
      "Prediction: 573\n",
      "Prediction: 574\n",
      "Prediction: 575\n",
      "Prediction: 576\n",
      "Prediction: 577\n",
      "Prediction: 578\n",
      "Prediction: 579\n",
      "Prediction: 580\n",
      "Prediction: 581\n",
      "Prediction: 582\n",
      "Prediction: 583\n",
      "Prediction: 584\n",
      "Prediction: 585\n",
      "Prediction: 586\n",
      "Prediction: 587\n",
      "Prediction: 588\n",
      "Prediction: 589\n"
     ]
    },
    {
     "name": "stderr",
     "output_type": "stream",
     "text": [
      "/aul/homes/jshi008/IvyProjects/ICLR/02MQRNN/util.py:57: RuntimeWarning: divide by zero encountered in true_divide\n",
      "  return np.mean(np.abs((ytrue - ypred) / ytrue))\n",
      "/aul/homes/jshi008/IvyProjects/ICLR/02MQRNN/util.py:57: RuntimeWarning: divide by zero encountered in true_divide\n",
      "  return np.mean(np.abs((ytrue - ypred) / ytrue))\n",
      "/aul/homes/jshi008/IvyProjects/ICLR/02MQRNN/util.py:57: RuntimeWarning: divide by zero encountered in true_divide\n",
      "  return np.mean(np.abs((ytrue - ypred) / ytrue))\n",
      "/aul/homes/jshi008/IvyProjects/ICLR/02MQRNN/util.py:57: RuntimeWarning: divide by zero encountered in true_divide\n",
      "  return np.mean(np.abs((ytrue - ypred) / ytrue))\n"
     ]
    },
    {
     "name": "stdout",
     "output_type": "stream",
     "text": [
      "Prediction: 590\n",
      "Prediction: 591\n",
      "Prediction: 592\n",
      "Prediction: 593\n",
      "Prediction: 594\n"
     ]
    },
    {
     "name": "stderr",
     "output_type": "stream",
     "text": [
      "/aul/homes/jshi008/IvyProjects/ICLR/02MQRNN/util.py:57: RuntimeWarning: divide by zero encountered in true_divide\n",
      "  return np.mean(np.abs((ytrue - ypred) / ytrue))\n",
      "/aul/homes/jshi008/IvyProjects/ICLR/02MQRNN/util.py:57: RuntimeWarning: divide by zero encountered in true_divide\n",
      "  return np.mean(np.abs((ytrue - ypred) / ytrue))\n",
      "/aul/homes/jshi008/IvyProjects/ICLR/02MQRNN/util.py:57: RuntimeWarning: divide by zero encountered in true_divide\n",
      "  return np.mean(np.abs((ytrue - ypred) / ytrue))\n",
      "/aul/homes/jshi008/IvyProjects/ICLR/02MQRNN/util.py:57: RuntimeWarning: divide by zero encountered in true_divide\n",
      "  return np.mean(np.abs((ytrue - ypred) / ytrue))\n",
      "/aul/homes/jshi008/IvyProjects/ICLR/02MQRNN/util.py:57: RuntimeWarning: divide by zero encountered in true_divide\n",
      "  return np.mean(np.abs((ytrue - ypred) / ytrue))\n"
     ]
    },
    {
     "name": "stdout",
     "output_type": "stream",
     "text": [
      "Prediction: 595\n",
      "Prediction: 596\n",
      "Prediction: 597\n"
     ]
    },
    {
     "name": "stderr",
     "output_type": "stream",
     "text": [
      "/aul/homes/jshi008/IvyProjects/ICLR/02MQRNN/util.py:57: RuntimeWarning: divide by zero encountered in true_divide\n",
      "  return np.mean(np.abs((ytrue - ypred) / ytrue))\n",
      "/aul/homes/jshi008/IvyProjects/ICLR/02MQRNN/util.py:57: RuntimeWarning: divide by zero encountered in true_divide\n",
      "  return np.mean(np.abs((ytrue - ypred) / ytrue))\n",
      "/aul/homes/jshi008/IvyProjects/ICLR/02MQRNN/util.py:57: RuntimeWarning: divide by zero encountered in true_divide\n",
      "  return np.mean(np.abs((ytrue - ypred) / ytrue))\n"
     ]
    },
    {
     "name": "stdout",
     "output_type": "stream",
     "text": [
      "Prediction: 598\n",
      "Prediction: 599\n",
      "Prediction: 600\n",
      "Prediction: 601\n"
     ]
    },
    {
     "name": "stderr",
     "output_type": "stream",
     "text": [
      "/aul/homes/jshi008/IvyProjects/ICLR/02MQRNN/util.py:57: RuntimeWarning: divide by zero encountered in true_divide\n",
      "  return np.mean(np.abs((ytrue - ypred) / ytrue))\n",
      "/aul/homes/jshi008/IvyProjects/ICLR/02MQRNN/util.py:57: RuntimeWarning: divide by zero encountered in true_divide\n",
      "  return np.mean(np.abs((ytrue - ypred) / ytrue))\n",
      "/aul/homes/jshi008/IvyProjects/ICLR/02MQRNN/util.py:57: RuntimeWarning: divide by zero encountered in true_divide\n",
      "  return np.mean(np.abs((ytrue - ypred) / ytrue))\n",
      "/aul/homes/jshi008/IvyProjects/ICLR/02MQRNN/util.py:57: RuntimeWarning: divide by zero encountered in true_divide\n",
      "  return np.mean(np.abs((ytrue - ypred) / ytrue))\n",
      "/aul/homes/jshi008/IvyProjects/ICLR/02MQRNN/util.py:57: RuntimeWarning: divide by zero encountered in true_divide\n",
      "  return np.mean(np.abs((ytrue - ypred) / ytrue))\n",
      "/aul/homes/jshi008/IvyProjects/ICLR/02MQRNN/util.py:57: RuntimeWarning: divide by zero encountered in true_divide\n",
      "  return np.mean(np.abs((ytrue - ypred) / ytrue))\n"
     ]
    },
    {
     "name": "stdout",
     "output_type": "stream",
     "text": [
      "Prediction: 602\n",
      "Prediction: 603\n",
      "Prediction: 604\n",
      "Prediction: 605\n"
     ]
    },
    {
     "name": "stderr",
     "output_type": "stream",
     "text": [
      "/aul/homes/jshi008/IvyProjects/ICLR/02MQRNN/util.py:57: RuntimeWarning: divide by zero encountered in true_divide\n",
      "  return np.mean(np.abs((ytrue - ypred) / ytrue))\n"
     ]
    },
    {
     "name": "stdout",
     "output_type": "stream",
     "text": [
      "Prediction: 606\n"
     ]
    },
    {
     "name": "stderr",
     "output_type": "stream",
     "text": [
      "/aul/homes/jshi008/IvyProjects/ICLR/02MQRNN/util.py:57: RuntimeWarning: divide by zero encountered in true_divide\n",
      "  return np.mean(np.abs((ytrue - ypred) / ytrue))\n"
     ]
    },
    {
     "name": "stdout",
     "output_type": "stream",
     "text": [
      "Prediction: 607\n"
     ]
    },
    {
     "name": "stderr",
     "output_type": "stream",
     "text": [
      "/aul/homes/jshi008/IvyProjects/ICLR/02MQRNN/util.py:57: RuntimeWarning: divide by zero encountered in true_divide\n",
      "  return np.mean(np.abs((ytrue - ypred) / ytrue))\n",
      "/aul/homes/jshi008/IvyProjects/ICLR/02MQRNN/util.py:57: RuntimeWarning: divide by zero encountered in true_divide\n",
      "  return np.mean(np.abs((ytrue - ypred) / ytrue))\n",
      "/aul/homes/jshi008/IvyProjects/ICLR/02MQRNN/util.py:57: RuntimeWarning: divide by zero encountered in true_divide\n",
      "  return np.mean(np.abs((ytrue - ypred) / ytrue))\n",
      "/aul/homes/jshi008/IvyProjects/ICLR/02MQRNN/util.py:57: RuntimeWarning: divide by zero encountered in true_divide\n",
      "  return np.mean(np.abs((ytrue - ypred) / ytrue))\n"
     ]
    },
    {
     "name": "stdout",
     "output_type": "stream",
     "text": [
      "Prediction: 608\n",
      "Prediction: 609\n",
      "Prediction: 610\n",
      "Prediction: 611\n"
     ]
    },
    {
     "name": "stderr",
     "output_type": "stream",
     "text": [
      "/aul/homes/jshi008/IvyProjects/ICLR/02MQRNN/util.py:57: RuntimeWarning: divide by zero encountered in true_divide\n",
      "  return np.mean(np.abs((ytrue - ypred) / ytrue))\n",
      "/aul/homes/jshi008/IvyProjects/ICLR/02MQRNN/util.py:57: RuntimeWarning: divide by zero encountered in true_divide\n",
      "  return np.mean(np.abs((ytrue - ypred) / ytrue))\n",
      "/aul/homes/jshi008/IvyProjects/ICLR/02MQRNN/util.py:57: RuntimeWarning: divide by zero encountered in true_divide\n",
      "  return np.mean(np.abs((ytrue - ypred) / ytrue))\n"
     ]
    },
    {
     "name": "stdout",
     "output_type": "stream",
     "text": [
      "Prediction: 612\n",
      "Prediction: 613\n",
      "Prediction: 614\n"
     ]
    },
    {
     "name": "stderr",
     "output_type": "stream",
     "text": [
      "/aul/homes/jshi008/IvyProjects/ICLR/02MQRNN/util.py:57: RuntimeWarning: divide by zero encountered in true_divide\n",
      "  return np.mean(np.abs((ytrue - ypred) / ytrue))\n",
      "/aul/homes/jshi008/IvyProjects/ICLR/02MQRNN/util.py:57: RuntimeWarning: divide by zero encountered in true_divide\n",
      "  return np.mean(np.abs((ytrue - ypred) / ytrue))\n",
      "/aul/homes/jshi008/IvyProjects/ICLR/02MQRNN/util.py:57: RuntimeWarning: divide by zero encountered in true_divide\n",
      "  return np.mean(np.abs((ytrue - ypred) / ytrue))\n",
      "/aul/homes/jshi008/IvyProjects/ICLR/02MQRNN/util.py:57: RuntimeWarning: divide by zero encountered in true_divide\n",
      "  return np.mean(np.abs((ytrue - ypred) / ytrue))\n"
     ]
    },
    {
     "name": "stdout",
     "output_type": "stream",
     "text": [
      "Prediction: 615\n",
      "Prediction: 616\n",
      "Prediction: 617\n",
      "Prediction: 618\n"
     ]
    },
    {
     "name": "stderr",
     "output_type": "stream",
     "text": [
      "/aul/homes/jshi008/IvyProjects/ICLR/02MQRNN/util.py:57: RuntimeWarning: divide by zero encountered in true_divide\n",
      "  return np.mean(np.abs((ytrue - ypred) / ytrue))\n",
      "/aul/homes/jshi008/IvyProjects/ICLR/02MQRNN/util.py:57: RuntimeWarning: divide by zero encountered in true_divide\n",
      "  return np.mean(np.abs((ytrue - ypred) / ytrue))\n",
      "/aul/homes/jshi008/IvyProjects/ICLR/02MQRNN/util.py:57: RuntimeWarning: divide by zero encountered in true_divide\n",
      "  return np.mean(np.abs((ytrue - ypred) / ytrue))\n"
     ]
    },
    {
     "name": "stdout",
     "output_type": "stream",
     "text": [
      "Prediction: 619\n",
      "Prediction: 620\n",
      "Prediction: 621\n"
     ]
    },
    {
     "name": "stderr",
     "output_type": "stream",
     "text": [
      "/aul/homes/jshi008/IvyProjects/ICLR/02MQRNN/util.py:57: RuntimeWarning: divide by zero encountered in true_divide\n",
      "  return np.mean(np.abs((ytrue - ypred) / ytrue))\n",
      "/aul/homes/jshi008/IvyProjects/ICLR/02MQRNN/util.py:57: RuntimeWarning: divide by zero encountered in true_divide\n",
      "  return np.mean(np.abs((ytrue - ypred) / ytrue))\n",
      "/aul/homes/jshi008/IvyProjects/ICLR/02MQRNN/util.py:57: RuntimeWarning: divide by zero encountered in true_divide\n",
      "  return np.mean(np.abs((ytrue - ypred) / ytrue))\n",
      "/aul/homes/jshi008/IvyProjects/ICLR/02MQRNN/util.py:57: RuntimeWarning: divide by zero encountered in true_divide\n",
      "  return np.mean(np.abs((ytrue - ypred) / ytrue))\n",
      "/aul/homes/jshi008/IvyProjects/ICLR/02MQRNN/util.py:57: RuntimeWarning: divide by zero encountered in true_divide\n",
      "  return np.mean(np.abs((ytrue - ypred) / ytrue))\n"
     ]
    },
    {
     "name": "stdout",
     "output_type": "stream",
     "text": [
      "Prediction: 622\n",
      "Prediction: 623\n",
      "Prediction: 624\n",
      "Prediction: 625\n",
      "Prediction: 626\n"
     ]
    },
    {
     "name": "stderr",
     "output_type": "stream",
     "text": [
      "/aul/homes/jshi008/IvyProjects/ICLR/02MQRNN/util.py:57: RuntimeWarning: divide by zero encountered in true_divide\n",
      "  return np.mean(np.abs((ytrue - ypred) / ytrue))\n",
      "/aul/homes/jshi008/IvyProjects/ICLR/02MQRNN/util.py:57: RuntimeWarning: divide by zero encountered in true_divide\n",
      "  return np.mean(np.abs((ytrue - ypred) / ytrue))\n"
     ]
    },
    {
     "name": "stdout",
     "output_type": "stream",
     "text": [
      "Prediction: 627\n",
      "Prediction: 628\n",
      "Prediction: 629\n"
     ]
    },
    {
     "name": "stderr",
     "output_type": "stream",
     "text": [
      "/aul/homes/jshi008/IvyProjects/ICLR/02MQRNN/util.py:57: RuntimeWarning: divide by zero encountered in true_divide\n",
      "  return np.mean(np.abs((ytrue - ypred) / ytrue))\n"
     ]
    },
    {
     "name": "stdout",
     "output_type": "stream",
     "text": [
      "Prediction: 630\n",
      "Prediction: 631\n",
      "Prediction: 632\n",
      "Prediction: 633\n",
      "Prediction: 634\n",
      "Prediction: 635\n",
      "Prediction: 636\n",
      "Prediction: 637\n",
      "Prediction: 638\n",
      "Prediction: 639\n",
      "Prediction: 640\n",
      "Prediction: 641\n",
      "Prediction: 642\n",
      "Prediction: 643\n",
      "Prediction: 644\n",
      "Prediction: 645\n",
      "Prediction: 646\n",
      "Prediction: 647\n",
      "Prediction: 648\n",
      "Prediction: 649\n",
      "Prediction: 650\n",
      "Prediction: 651\n"
     ]
    },
    {
     "name": "stderr",
     "output_type": "stream",
     "text": [
      "/aul/homes/jshi008/IvyProjects/ICLR/02MQRNN/util.py:57: RuntimeWarning: divide by zero encountered in true_divide\n",
      "  return np.mean(np.abs((ytrue - ypred) / ytrue))\n",
      "/aul/homes/jshi008/IvyProjects/ICLR/02MQRNN/util.py:57: RuntimeWarning: divide by zero encountered in true_divide\n",
      "  return np.mean(np.abs((ytrue - ypred) / ytrue))\n",
      "/aul/homes/jshi008/IvyProjects/ICLR/02MQRNN/util.py:57: RuntimeWarning: divide by zero encountered in true_divide\n",
      "  return np.mean(np.abs((ytrue - ypred) / ytrue))\n",
      "/aul/homes/jshi008/IvyProjects/ICLR/02MQRNN/util.py:57: RuntimeWarning: divide by zero encountered in true_divide\n",
      "  return np.mean(np.abs((ytrue - ypred) / ytrue))\n"
     ]
    },
    {
     "name": "stdout",
     "output_type": "stream",
     "text": [
      "Prediction: 652\n",
      "Prediction: 653\n",
      "Prediction: 654\n",
      "Prediction: 655\n"
     ]
    },
    {
     "name": "stderr",
     "output_type": "stream",
     "text": [
      "/aul/homes/jshi008/IvyProjects/ICLR/02MQRNN/util.py:57: RuntimeWarning: divide by zero encountered in true_divide\n",
      "  return np.mean(np.abs((ytrue - ypred) / ytrue))\n",
      "/aul/homes/jshi008/IvyProjects/ICLR/02MQRNN/util.py:57: RuntimeWarning: divide by zero encountered in true_divide\n",
      "  return np.mean(np.abs((ytrue - ypred) / ytrue))\n",
      "/aul/homes/jshi008/IvyProjects/ICLR/02MQRNN/util.py:57: RuntimeWarning: divide by zero encountered in true_divide\n",
      "  return np.mean(np.abs((ytrue - ypred) / ytrue))\n",
      "/aul/homes/jshi008/IvyProjects/ICLR/02MQRNN/util.py:57: RuntimeWarning: divide by zero encountered in true_divide\n",
      "  return np.mean(np.abs((ytrue - ypred) / ytrue))\n"
     ]
    },
    {
     "name": "stdout",
     "output_type": "stream",
     "text": [
      "Prediction: 656\n",
      "Prediction: 657\n",
      "Prediction: 658\n"
     ]
    },
    {
     "name": "stderr",
     "output_type": "stream",
     "text": [
      "/aul/homes/jshi008/IvyProjects/ICLR/02MQRNN/util.py:57: RuntimeWarning: divide by zero encountered in true_divide\n",
      "  return np.mean(np.abs((ytrue - ypred) / ytrue))\n",
      "/aul/homes/jshi008/IvyProjects/ICLR/02MQRNN/util.py:57: RuntimeWarning: divide by zero encountered in true_divide\n",
      "  return np.mean(np.abs((ytrue - ypred) / ytrue))\n"
     ]
    },
    {
     "name": "stdout",
     "output_type": "stream",
     "text": [
      "Prediction: 659\n",
      "Prediction: 660\n"
     ]
    },
    {
     "name": "stderr",
     "output_type": "stream",
     "text": [
      "/aul/homes/jshi008/IvyProjects/ICLR/02MQRNN/util.py:57: RuntimeWarning: divide by zero encountered in true_divide\n",
      "  return np.mean(np.abs((ytrue - ypred) / ytrue))\n",
      "/aul/homes/jshi008/IvyProjects/ICLR/02MQRNN/util.py:57: RuntimeWarning: divide by zero encountered in true_divide\n",
      "  return np.mean(np.abs((ytrue - ypred) / ytrue))\n",
      "/aul/homes/jshi008/IvyProjects/ICLR/02MQRNN/util.py:57: RuntimeWarning: divide by zero encountered in true_divide\n",
      "  return np.mean(np.abs((ytrue - ypred) / ytrue))\n"
     ]
    },
    {
     "name": "stdout",
     "output_type": "stream",
     "text": [
      "Prediction: 661\n",
      "Prediction: 662\n",
      "Prediction: 663\n",
      "Prediction: 664\n",
      "Prediction: 665\n"
     ]
    },
    {
     "name": "stderr",
     "output_type": "stream",
     "text": [
      "/aul/homes/jshi008/IvyProjects/ICLR/02MQRNN/util.py:57: RuntimeWarning: divide by zero encountered in true_divide\n",
      "  return np.mean(np.abs((ytrue - ypred) / ytrue))\n",
      "/aul/homes/jshi008/IvyProjects/ICLR/02MQRNN/util.py:57: RuntimeWarning: divide by zero encountered in true_divide\n",
      "  return np.mean(np.abs((ytrue - ypred) / ytrue))\n",
      "/aul/homes/jshi008/IvyProjects/ICLR/02MQRNN/util.py:57: RuntimeWarning: divide by zero encountered in true_divide\n",
      "  return np.mean(np.abs((ytrue - ypred) / ytrue))\n",
      "/aul/homes/jshi008/IvyProjects/ICLR/02MQRNN/util.py:57: RuntimeWarning: divide by zero encountered in true_divide\n",
      "  return np.mean(np.abs((ytrue - ypred) / ytrue))\n",
      "/aul/homes/jshi008/IvyProjects/ICLR/02MQRNN/util.py:57: RuntimeWarning: divide by zero encountered in true_divide\n",
      "  return np.mean(np.abs((ytrue - ypred) / ytrue))\n",
      "/aul/homes/jshi008/IvyProjects/ICLR/02MQRNN/util.py:57: RuntimeWarning: divide by zero encountered in true_divide\n",
      "  return np.mean(np.abs((ytrue - ypred) / ytrue))\n"
     ]
    },
    {
     "name": "stdout",
     "output_type": "stream",
     "text": [
      "Prediction: 666\n",
      "Prediction: 667\n",
      "Prediction: 668\n"
     ]
    },
    {
     "name": "stderr",
     "output_type": "stream",
     "text": [
      "/aul/homes/jshi008/IvyProjects/ICLR/02MQRNN/util.py:57: RuntimeWarning: divide by zero encountered in true_divide\n",
      "  return np.mean(np.abs((ytrue - ypred) / ytrue))\n"
     ]
    },
    {
     "name": "stdout",
     "output_type": "stream",
     "text": [
      "Prediction: 669\n"
     ]
    },
    {
     "name": "stderr",
     "output_type": "stream",
     "text": [
      "/aul/homes/jshi008/IvyProjects/ICLR/02MQRNN/util.py:57: RuntimeWarning: divide by zero encountered in true_divide\n",
      "  return np.mean(np.abs((ytrue - ypred) / ytrue))\n",
      "/aul/homes/jshi008/IvyProjects/ICLR/02MQRNN/util.py:57: RuntimeWarning: divide by zero encountered in true_divide\n",
      "  return np.mean(np.abs((ytrue - ypred) / ytrue))\n",
      "/aul/homes/jshi008/IvyProjects/ICLR/02MQRNN/util.py:57: RuntimeWarning: divide by zero encountered in true_divide\n",
      "  return np.mean(np.abs((ytrue - ypred) / ytrue))\n",
      "/aul/homes/jshi008/IvyProjects/ICLR/02MQRNN/util.py:57: RuntimeWarning: divide by zero encountered in true_divide\n",
      "  return np.mean(np.abs((ytrue - ypred) / ytrue))\n"
     ]
    },
    {
     "name": "stdout",
     "output_type": "stream",
     "text": [
      "Prediction: 670\n",
      "Prediction: 671\n",
      "Prediction: 672\n",
      "Prediction: 673\n",
      "Prediction: 674\n",
      "Prediction: 675\n",
      "Prediction: 676\n",
      "Prediction: 677\n",
      "Prediction: 678\n",
      "Prediction: 679\n",
      "Prediction: 680\n",
      "Prediction: 681\n",
      "Prediction: 682\n",
      "Prediction: 683\n",
      "Prediction: 684\n",
      "Prediction: 685\n",
      "Prediction: 686\n",
      "Prediction: 687\n",
      "Prediction: 688\n",
      "Prediction: 689\n",
      "Prediction: 690\n",
      "Prediction: 691\n",
      "Prediction: 692\n",
      "Prediction: 693\n",
      "Prediction: 694\n",
      "Prediction: 695\n",
      "Prediction: 696\n",
      "Prediction: 697\n",
      "Prediction: 698\n",
      "Prediction: 699\n",
      "Prediction: 700\n",
      "Prediction: 701\n",
      "Prediction: 702\n",
      "Prediction: 703\n",
      "Prediction: 704\n",
      "Prediction: 705\n",
      "Prediction: 706\n",
      "Prediction: 707\n",
      "Prediction: 708\n",
      "Prediction: 709\n",
      "Prediction: 710\n",
      "Prediction: 711\n",
      "Prediction: 712\n",
      "Prediction: 713\n",
      "Prediction: 714\n",
      "Prediction: 715\n",
      "Prediction: 716\n",
      "Prediction: 717\n",
      "Prediction: 718\n",
      "Prediction: 719\n",
      "Prediction: 720\n",
      "Prediction: 721\n",
      "Prediction: 722\n",
      "Prediction: 723\n",
      "Prediction: 724\n",
      "Prediction: 725\n",
      "Prediction: 726\n",
      "Prediction: 727\n",
      "Prediction: 728\n",
      "Prediction: 729\n",
      "Prediction: 730\n",
      "Prediction: 731\n",
      "Prediction: 732\n",
      "Prediction: 733\n",
      "Prediction: 734\n",
      "Prediction: 735\n",
      "Prediction: 736\n",
      "Prediction: 737\n"
     ]
    },
    {
     "name": "stderr",
     "output_type": "stream",
     "text": [
      "/aul/homes/jshi008/IvyProjects/ICLR/02MQRNN/util.py:57: RuntimeWarning: divide by zero encountered in true_divide\n",
      "  return np.mean(np.abs((ytrue - ypred) / ytrue))\n",
      "/aul/homes/jshi008/IvyProjects/ICLR/02MQRNN/util.py:57: RuntimeWarning: divide by zero encountered in true_divide\n",
      "  return np.mean(np.abs((ytrue - ypred) / ytrue))\n",
      "/aul/homes/jshi008/IvyProjects/ICLR/02MQRNN/util.py:57: RuntimeWarning: divide by zero encountered in true_divide\n",
      "  return np.mean(np.abs((ytrue - ypred) / ytrue))\n"
     ]
    },
    {
     "name": "stdout",
     "output_type": "stream",
     "text": [
      "Prediction: 738\n",
      "Prediction: 739\n",
      "Prediction: 740\n"
     ]
    },
    {
     "name": "stderr",
     "output_type": "stream",
     "text": [
      "/aul/homes/jshi008/IvyProjects/ICLR/02MQRNN/util.py:57: RuntimeWarning: divide by zero encountered in true_divide\n",
      "  return np.mean(np.abs((ytrue - ypred) / ytrue))\n",
      "/aul/homes/jshi008/IvyProjects/ICLR/02MQRNN/util.py:57: RuntimeWarning: divide by zero encountered in true_divide\n",
      "  return np.mean(np.abs((ytrue - ypred) / ytrue))\n",
      "/aul/homes/jshi008/IvyProjects/ICLR/02MQRNN/util.py:57: RuntimeWarning: divide by zero encountered in true_divide\n",
      "  return np.mean(np.abs((ytrue - ypred) / ytrue))\n"
     ]
    },
    {
     "name": "stdout",
     "output_type": "stream",
     "text": [
      "Prediction: 741\n",
      "Prediction: 742\n",
      "Prediction: 743\n",
      "Prediction: 744\n"
     ]
    },
    {
     "name": "stderr",
     "output_type": "stream",
     "text": [
      "/aul/homes/jshi008/IvyProjects/ICLR/02MQRNN/util.py:57: RuntimeWarning: divide by zero encountered in true_divide\n",
      "  return np.mean(np.abs((ytrue - ypred) / ytrue))\n",
      "/aul/homes/jshi008/IvyProjects/ICLR/02MQRNN/util.py:57: RuntimeWarning: divide by zero encountered in true_divide\n",
      "  return np.mean(np.abs((ytrue - ypred) / ytrue))\n",
      "/aul/homes/jshi008/IvyProjects/ICLR/02MQRNN/util.py:57: RuntimeWarning: divide by zero encountered in true_divide\n",
      "  return np.mean(np.abs((ytrue - ypred) / ytrue))\n",
      "/aul/homes/jshi008/IvyProjects/ICLR/02MQRNN/util.py:57: RuntimeWarning: divide by zero encountered in true_divide\n",
      "  return np.mean(np.abs((ytrue - ypred) / ytrue))\n"
     ]
    },
    {
     "name": "stdout",
     "output_type": "stream",
     "text": [
      "Prediction: 745\n",
      "Prediction: 746\n",
      "Prediction: 747\n"
     ]
    },
    {
     "name": "stderr",
     "output_type": "stream",
     "text": [
      "/aul/homes/jshi008/IvyProjects/ICLR/02MQRNN/util.py:57: RuntimeWarning: divide by zero encountered in true_divide\n",
      "  return np.mean(np.abs((ytrue - ypred) / ytrue))\n",
      "/aul/homes/jshi008/IvyProjects/ICLR/02MQRNN/util.py:57: RuntimeWarning: divide by zero encountered in true_divide\n",
      "  return np.mean(np.abs((ytrue - ypred) / ytrue))\n",
      "/aul/homes/jshi008/IvyProjects/ICLR/02MQRNN/util.py:57: RuntimeWarning: divide by zero encountered in true_divide\n",
      "  return np.mean(np.abs((ytrue - ypred) / ytrue))\n",
      "/aul/homes/jshi008/IvyProjects/ICLR/02MQRNN/util.py:57: RuntimeWarning: divide by zero encountered in true_divide\n",
      "  return np.mean(np.abs((ytrue - ypred) / ytrue))\n",
      "/aul/homes/jshi008/IvyProjects/ICLR/02MQRNN/util.py:57: RuntimeWarning: divide by zero encountered in true_divide\n",
      "  return np.mean(np.abs((ytrue - ypred) / ytrue))\n"
     ]
    },
    {
     "name": "stdout",
     "output_type": "stream",
     "text": [
      "Prediction: 748\n",
      "Prediction: 749\n",
      "Prediction: 750\n"
     ]
    },
    {
     "name": "stderr",
     "output_type": "stream",
     "text": [
      "/aul/homes/jshi008/IvyProjects/ICLR/02MQRNN/util.py:57: RuntimeWarning: divide by zero encountered in true_divide\n",
      "  return np.mean(np.abs((ytrue - ypred) / ytrue))\n",
      "/aul/homes/jshi008/IvyProjects/ICLR/02MQRNN/util.py:57: RuntimeWarning: divide by zero encountered in true_divide\n",
      "  return np.mean(np.abs((ytrue - ypred) / ytrue))\n",
      "/aul/homes/jshi008/IvyProjects/ICLR/02MQRNN/util.py:57: RuntimeWarning: divide by zero encountered in true_divide\n",
      "  return np.mean(np.abs((ytrue - ypred) / ytrue))\n"
     ]
    },
    {
     "name": "stdout",
     "output_type": "stream",
     "text": [
      "Prediction: 751\n",
      "Prediction: 752\n",
      "Prediction: 753\n"
     ]
    },
    {
     "name": "stderr",
     "output_type": "stream",
     "text": [
      "/aul/homes/jshi008/IvyProjects/ICLR/02MQRNN/util.py:57: RuntimeWarning: divide by zero encountered in true_divide\n",
      "  return np.mean(np.abs((ytrue - ypred) / ytrue))\n",
      "/aul/homes/jshi008/IvyProjects/ICLR/02MQRNN/util.py:57: RuntimeWarning: divide by zero encountered in true_divide\n",
      "  return np.mean(np.abs((ytrue - ypred) / ytrue))\n",
      "/aul/homes/jshi008/IvyProjects/ICLR/02MQRNN/util.py:57: RuntimeWarning: divide by zero encountered in true_divide\n",
      "  return np.mean(np.abs((ytrue - ypred) / ytrue))\n",
      "/aul/homes/jshi008/IvyProjects/ICLR/02MQRNN/util.py:57: RuntimeWarning: divide by zero encountered in true_divide\n",
      "  return np.mean(np.abs((ytrue - ypred) / ytrue))\n",
      "/aul/homes/jshi008/IvyProjects/ICLR/02MQRNN/util.py:57: RuntimeWarning: divide by zero encountered in true_divide\n",
      "  return np.mean(np.abs((ytrue - ypred) / ytrue))\n"
     ]
    },
    {
     "name": "stdout",
     "output_type": "stream",
     "text": [
      "Prediction: 754\n",
      "Prediction: 755\n",
      "Prediction: 756\n",
      "Prediction: 757\n",
      "Prediction: 758\n"
     ]
    },
    {
     "name": "stderr",
     "output_type": "stream",
     "text": [
      "/aul/homes/jshi008/IvyProjects/ICLR/02MQRNN/util.py:57: RuntimeWarning: divide by zero encountered in true_divide\n",
      "  return np.mean(np.abs((ytrue - ypred) / ytrue))\n",
      "/aul/homes/jshi008/IvyProjects/ICLR/02MQRNN/util.py:57: RuntimeWarning: divide by zero encountered in true_divide\n",
      "  return np.mean(np.abs((ytrue - ypred) / ytrue))\n"
     ]
    },
    {
     "name": "stdout",
     "output_type": "stream",
     "text": [
      "Prediction: 759\n",
      "Prediction: 760\n",
      "Prediction: 761\n",
      "Prediction: 762\n",
      "Prediction: 763\n",
      "Prediction: 764\n",
      "Prediction: 765\n",
      "Prediction: 766\n",
      "Prediction: 767\n",
      "Prediction: 768\n",
      "Prediction: 769\n",
      "Prediction: 770\n",
      "Prediction: 771\n",
      "Prediction: 772\n",
      "Prediction: 773\n",
      "Prediction: 774\n",
      "Prediction: 775\n",
      "Prediction: 776\n",
      "Prediction: 777\n",
      "Prediction: 778\n",
      "Prediction: 779\n",
      "Prediction: 780\n",
      "Prediction: 781\n",
      "Prediction: 782\n",
      "Prediction: 783\n",
      "Prediction: 784\n",
      "Prediction: 785\n",
      "Prediction: 786\n",
      "Prediction: 787\n",
      "Prediction: 788\n",
      "Prediction: 789\n",
      "Prediction: 790\n",
      "Prediction: 791\n",
      "Prediction: 792\n",
      "Prediction: 793\n",
      "Prediction: 794\n",
      "Prediction: 795\n",
      "Prediction: 796\n",
      "Prediction: 797\n",
      "Prediction: 798\n",
      "Prediction: 799\n",
      "Prediction: 800\n",
      "Prediction: 801\n",
      "Prediction: 802\n",
      "Prediction: 803\n",
      "Prediction: 804\n",
      "Prediction: 805\n",
      "Prediction: 806\n",
      "Prediction: 807\n"
     ]
    },
    {
     "name": "stderr",
     "output_type": "stream",
     "text": [
      "/aul/homes/jshi008/IvyProjects/ICLR/02MQRNN/util.py:57: RuntimeWarning: divide by zero encountered in true_divide\n",
      "  return np.mean(np.abs((ytrue - ypred) / ytrue))\n",
      "/aul/homes/jshi008/IvyProjects/ICLR/02MQRNN/util.py:57: RuntimeWarning: divide by zero encountered in true_divide\n",
      "  return np.mean(np.abs((ytrue - ypred) / ytrue))\n",
      "/aul/homes/jshi008/IvyProjects/ICLR/02MQRNN/util.py:57: RuntimeWarning: divide by zero encountered in true_divide\n",
      "  return np.mean(np.abs((ytrue - ypred) / ytrue))\n",
      "/aul/homes/jshi008/IvyProjects/ICLR/02MQRNN/util.py:57: RuntimeWarning: divide by zero encountered in true_divide\n",
      "  return np.mean(np.abs((ytrue - ypred) / ytrue))\n"
     ]
    },
    {
     "name": "stdout",
     "output_type": "stream",
     "text": [
      "Prediction: 808\n",
      "Prediction: 809\n",
      "Prediction: 810\n",
      "Prediction: 811\n"
     ]
    },
    {
     "name": "stderr",
     "output_type": "stream",
     "text": [
      "/aul/homes/jshi008/IvyProjects/ICLR/02MQRNN/util.py:57: RuntimeWarning: divide by zero encountered in true_divide\n",
      "  return np.mean(np.abs((ytrue - ypred) / ytrue))\n",
      "/aul/homes/jshi008/IvyProjects/ICLR/02MQRNN/util.py:57: RuntimeWarning: divide by zero encountered in true_divide\n",
      "  return np.mean(np.abs((ytrue - ypred) / ytrue))\n",
      "/aul/homes/jshi008/IvyProjects/ICLR/02MQRNN/util.py:57: RuntimeWarning: divide by zero encountered in true_divide\n",
      "  return np.mean(np.abs((ytrue - ypred) / ytrue))\n",
      "/aul/homes/jshi008/IvyProjects/ICLR/02MQRNN/util.py:57: RuntimeWarning: divide by zero encountered in true_divide\n",
      "  return np.mean(np.abs((ytrue - ypred) / ytrue))\n"
     ]
    },
    {
     "name": "stdout",
     "output_type": "stream",
     "text": [
      "Prediction: 812\n",
      "Prediction: 813\n",
      "Prediction: 814\n",
      "Prediction: 815\n"
     ]
    },
    {
     "name": "stderr",
     "output_type": "stream",
     "text": [
      "/aul/homes/jshi008/IvyProjects/ICLR/02MQRNN/util.py:57: RuntimeWarning: divide by zero encountered in true_divide\n",
      "  return np.mean(np.abs((ytrue - ypred) / ytrue))\n",
      "/aul/homes/jshi008/IvyProjects/ICLR/02MQRNN/util.py:57: RuntimeWarning: divide by zero encountered in true_divide\n",
      "  return np.mean(np.abs((ytrue - ypred) / ytrue))\n",
      "/aul/homes/jshi008/IvyProjects/ICLR/02MQRNN/util.py:57: RuntimeWarning: divide by zero encountered in true_divide\n",
      "  return np.mean(np.abs((ytrue - ypred) / ytrue))\n",
      "/aul/homes/jshi008/IvyProjects/ICLR/02MQRNN/util.py:57: RuntimeWarning: divide by zero encountered in true_divide\n",
      "  return np.mean(np.abs((ytrue - ypred) / ytrue))\n",
      "/aul/homes/jshi008/IvyProjects/ICLR/02MQRNN/util.py:57: RuntimeWarning: divide by zero encountered in true_divide\n",
      "  return np.mean(np.abs((ytrue - ypred) / ytrue))\n"
     ]
    },
    {
     "name": "stdout",
     "output_type": "stream",
     "text": [
      "Prediction: 816\n",
      "Prediction: 817\n",
      "Prediction: 818\n",
      "Prediction: 819\n"
     ]
    },
    {
     "name": "stderr",
     "output_type": "stream",
     "text": [
      "/aul/homes/jshi008/IvyProjects/ICLR/02MQRNN/util.py:57: RuntimeWarning: divide by zero encountered in true_divide\n",
      "  return np.mean(np.abs((ytrue - ypred) / ytrue))\n",
      "/aul/homes/jshi008/IvyProjects/ICLR/02MQRNN/util.py:57: RuntimeWarning: divide by zero encountered in true_divide\n",
      "  return np.mean(np.abs((ytrue - ypred) / ytrue))\n",
      "/aul/homes/jshi008/IvyProjects/ICLR/02MQRNN/util.py:57: RuntimeWarning: divide by zero encountered in true_divide\n",
      "  return np.mean(np.abs((ytrue - ypred) / ytrue))\n",
      "/aul/homes/jshi008/IvyProjects/ICLR/02MQRNN/util.py:57: RuntimeWarning: divide by zero encountered in true_divide\n",
      "  return np.mean(np.abs((ytrue - ypred) / ytrue))\n",
      "/aul/homes/jshi008/IvyProjects/ICLR/02MQRNN/util.py:57: RuntimeWarning: divide by zero encountered in true_divide\n",
      "  return np.mean(np.abs((ytrue - ypred) / ytrue))\n"
     ]
    },
    {
     "name": "stdout",
     "output_type": "stream",
     "text": [
      "Prediction: 820\n",
      "Prediction: 821\n",
      "Prediction: 822\n",
      "Prediction: 823\n",
      "Prediction: 824\n"
     ]
    },
    {
     "name": "stderr",
     "output_type": "stream",
     "text": [
      "/aul/homes/jshi008/IvyProjects/ICLR/02MQRNN/util.py:57: RuntimeWarning: divide by zero encountered in true_divide\n",
      "  return np.mean(np.abs((ytrue - ypred) / ytrue))\n",
      "/aul/homes/jshi008/IvyProjects/ICLR/02MQRNN/util.py:57: RuntimeWarning: divide by zero encountered in true_divide\n",
      "  return np.mean(np.abs((ytrue - ypred) / ytrue))\n",
      "/aul/homes/jshi008/IvyProjects/ICLR/02MQRNN/util.py:57: RuntimeWarning: divide by zero encountered in true_divide\n",
      "  return np.mean(np.abs((ytrue - ypred) / ytrue))\n",
      "/aul/homes/jshi008/IvyProjects/ICLR/02MQRNN/util.py:57: RuntimeWarning: divide by zero encountered in true_divide\n",
      "  return np.mean(np.abs((ytrue - ypred) / ytrue))\n",
      "/aul/homes/jshi008/IvyProjects/ICLR/02MQRNN/util.py:57: RuntimeWarning: divide by zero encountered in true_divide\n",
      "  return np.mean(np.abs((ytrue - ypred) / ytrue))\n"
     ]
    },
    {
     "name": "stdout",
     "output_type": "stream",
     "text": [
      "Prediction: 825\n",
      "Prediction: 826\n",
      "Prediction: 827\n",
      "Prediction: 828\n",
      "Prediction: 829\n"
     ]
    },
    {
     "name": "stderr",
     "output_type": "stream",
     "text": [
      "/aul/homes/jshi008/IvyProjects/ICLR/02MQRNN/util.py:57: RuntimeWarning: divide by zero encountered in true_divide\n",
      "  return np.mean(np.abs((ytrue - ypred) / ytrue))\n"
     ]
    },
    {
     "name": "stdout",
     "output_type": "stream",
     "text": [
      "Prediction: 830\n",
      "Prediction: 831\n",
      "Prediction: 832\n",
      "Prediction: 833\n",
      "Prediction: 834\n",
      "Prediction: 835\n",
      "Prediction: 836\n",
      "Prediction: 837\n",
      "Prediction: 838\n",
      "Prediction: 839\n",
      "Prediction: 840\n",
      "Prediction: 841\n",
      "Prediction: 842\n",
      "Prediction: 843\n",
      "Prediction: 844\n",
      "Prediction: 845\n",
      "Prediction: 846\n",
      "Prediction: 847\n",
      "Prediction: 848\n",
      "Prediction: 849\n",
      "Prediction: 850\n",
      "Prediction: 851\n",
      "Prediction: 852\n",
      "Prediction: 853\n",
      "Prediction: 854\n",
      "Prediction: 855\n",
      "Prediction: 856\n",
      "Prediction: 857\n",
      "Prediction: 858\n",
      "Prediction: 859\n",
      "Prediction: 860\n",
      "Prediction: 861\n",
      "Prediction: 862\n",
      "Prediction: 863\n",
      "Prediction: 864\n",
      "Prediction: 865\n",
      "Prediction: 866\n",
      "Prediction: 867\n",
      "Prediction: 868\n",
      "Prediction: 869\n",
      "Prediction: 870\n",
      "Prediction: 871\n",
      "Prediction: 872\n",
      "Prediction: 873\n",
      "Prediction: 874\n",
      "Prediction: 875\n",
      "Prediction: 876\n",
      "Prediction: 877\n",
      "Prediction: 878\n",
      "Prediction: 879\n",
      "Prediction: 880\n",
      "Prediction: 881\n",
      "Prediction: 882\n",
      "Prediction: 883\n",
      "Prediction: 884\n",
      "Prediction: 885\n",
      "Prediction: 886\n",
      "Prediction: 887\n",
      "Prediction: 888\n",
      "Prediction: 889\n",
      "Prediction: 890\n",
      "Prediction: 891\n",
      "Prediction: 892\n",
      "Prediction: 893\n",
      "Prediction: 894\n",
      "Prediction: 895\n",
      "Prediction: 896\n",
      "Prediction: 897\n",
      "Prediction: 898\n",
      "Prediction: 899\n",
      "Prediction: 900\n",
      "Prediction: 901\n",
      "Prediction: 902\n",
      "Prediction: 903\n",
      "Prediction: 904\n",
      "Prediction: 905\n",
      "Prediction: 906\n",
      "Prediction: 907\n",
      "Prediction: 908\n",
      "Prediction: 909\n",
      "Prediction: 910\n",
      "Prediction: 911\n",
      "Prediction: 912\n",
      "Prediction: 913\n",
      "Prediction: 914\n",
      "Prediction: 915\n",
      "Prediction: 916\n",
      "Prediction: 917\n",
      "Prediction: 918\n",
      "Prediction: 919\n",
      "Prediction: 920\n",
      "Prediction: 921\n",
      "Prediction: 922\n",
      "Prediction: 923\n",
      "Prediction: 924\n",
      "Prediction: 925\n",
      "Prediction: 926\n",
      "Prediction: 927\n",
      "Prediction: 928\n",
      "Prediction: 929\n"
     ]
    },
    {
     "name": "stderr",
     "output_type": "stream",
     "text": [
      "/aul/homes/jshi008/IvyProjects/ICLR/02MQRNN/util.py:57: RuntimeWarning: divide by zero encountered in true_divide\n",
      "  return np.mean(np.abs((ytrue - ypred) / ytrue))\n",
      "/aul/homes/jshi008/IvyProjects/ICLR/02MQRNN/util.py:57: RuntimeWarning: divide by zero encountered in true_divide\n",
      "  return np.mean(np.abs((ytrue - ypred) / ytrue))\n",
      "/aul/homes/jshi008/IvyProjects/ICLR/02MQRNN/util.py:57: RuntimeWarning: divide by zero encountered in true_divide\n",
      "  return np.mean(np.abs((ytrue - ypred) / ytrue))\n",
      "/aul/homes/jshi008/IvyProjects/ICLR/02MQRNN/util.py:57: RuntimeWarning: divide by zero encountered in true_divide\n",
      "  return np.mean(np.abs((ytrue - ypred) / ytrue))\n"
     ]
    },
    {
     "name": "stdout",
     "output_type": "stream",
     "text": [
      "Prediction: 930\n",
      "Prediction: 931\n",
      "Prediction: 932\n",
      "Prediction: 933\n"
     ]
    },
    {
     "name": "stderr",
     "output_type": "stream",
     "text": [
      "/aul/homes/jshi008/IvyProjects/ICLR/02MQRNN/util.py:57: RuntimeWarning: divide by zero encountered in true_divide\n",
      "  return np.mean(np.abs((ytrue - ypred) / ytrue))\n",
      "/aul/homes/jshi008/IvyProjects/ICLR/02MQRNN/util.py:57: RuntimeWarning: divide by zero encountered in true_divide\n",
      "  return np.mean(np.abs((ytrue - ypred) / ytrue))\n",
      "/aul/homes/jshi008/IvyProjects/ICLR/02MQRNN/util.py:57: RuntimeWarning: divide by zero encountered in true_divide\n",
      "  return np.mean(np.abs((ytrue - ypred) / ytrue))\n",
      "/aul/homes/jshi008/IvyProjects/ICLR/02MQRNN/util.py:57: RuntimeWarning: divide by zero encountered in true_divide\n",
      "  return np.mean(np.abs((ytrue - ypred) / ytrue))\n"
     ]
    },
    {
     "name": "stdout",
     "output_type": "stream",
     "text": [
      "Prediction: 934\n",
      "Prediction: 935\n",
      "Prediction: 936\n",
      "Prediction: 937\n"
     ]
    },
    {
     "name": "stderr",
     "output_type": "stream",
     "text": [
      "/aul/homes/jshi008/IvyProjects/ICLR/02MQRNN/util.py:57: RuntimeWarning: divide by zero encountered in true_divide\n",
      "  return np.mean(np.abs((ytrue - ypred) / ytrue))\n",
      "/aul/homes/jshi008/IvyProjects/ICLR/02MQRNN/util.py:57: RuntimeWarning: divide by zero encountered in true_divide\n",
      "  return np.mean(np.abs((ytrue - ypred) / ytrue))\n"
     ]
    },
    {
     "name": "stdout",
     "output_type": "stream",
     "text": [
      "Prediction: 938\n",
      "Prediction: 939\n",
      "Prediction: 940\n",
      "Prediction: 941\n"
     ]
    },
    {
     "name": "stderr",
     "output_type": "stream",
     "text": [
      "/aul/homes/jshi008/IvyProjects/ICLR/02MQRNN/util.py:57: RuntimeWarning: divide by zero encountered in true_divide\n",
      "  return np.mean(np.abs((ytrue - ypred) / ytrue))\n",
      "/aul/homes/jshi008/IvyProjects/ICLR/02MQRNN/util.py:57: RuntimeWarning: divide by zero encountered in true_divide\n",
      "  return np.mean(np.abs((ytrue - ypred) / ytrue))\n",
      "/aul/homes/jshi008/IvyProjects/ICLR/02MQRNN/util.py:57: RuntimeWarning: divide by zero encountered in true_divide\n",
      "  return np.mean(np.abs((ytrue - ypred) / ytrue))\n",
      "/aul/homes/jshi008/IvyProjects/ICLR/02MQRNN/util.py:57: RuntimeWarning: divide by zero encountered in true_divide\n",
      "  return np.mean(np.abs((ytrue - ypred) / ytrue))\n",
      "/aul/homes/jshi008/IvyProjects/ICLR/02MQRNN/util.py:57: RuntimeWarning: divide by zero encountered in true_divide\n",
      "  return np.mean(np.abs((ytrue - ypred) / ytrue))\n"
     ]
    },
    {
     "name": "stdout",
     "output_type": "stream",
     "text": [
      "Prediction: 942\n",
      "Prediction: 943\n",
      "Prediction: 944\n",
      "Prediction: 945\n"
     ]
    },
    {
     "name": "stderr",
     "output_type": "stream",
     "text": [
      "/aul/homes/jshi008/IvyProjects/ICLR/02MQRNN/util.py:57: RuntimeWarning: divide by zero encountered in true_divide\n",
      "  return np.mean(np.abs((ytrue - ypred) / ytrue))\n",
      "/aul/homes/jshi008/IvyProjects/ICLR/02MQRNN/util.py:57: RuntimeWarning: divide by zero encountered in true_divide\n",
      "  return np.mean(np.abs((ytrue - ypred) / ytrue))\n",
      "/aul/homes/jshi008/IvyProjects/ICLR/02MQRNN/util.py:57: RuntimeWarning: divide by zero encountered in true_divide\n",
      "  return np.mean(np.abs((ytrue - ypred) / ytrue))\n",
      "/aul/homes/jshi008/IvyProjects/ICLR/02MQRNN/util.py:57: RuntimeWarning: divide by zero encountered in true_divide\n",
      "  return np.mean(np.abs((ytrue - ypred) / ytrue))\n"
     ]
    },
    {
     "name": "stdout",
     "output_type": "stream",
     "text": [
      "Prediction: 946\n",
      "Prediction: 947\n",
      "Prediction: 948\n",
      "Prediction: 949\n"
     ]
    },
    {
     "name": "stderr",
     "output_type": "stream",
     "text": [
      "/aul/homes/jshi008/IvyProjects/ICLR/02MQRNN/util.py:57: RuntimeWarning: divide by zero encountered in true_divide\n",
      "  return np.mean(np.abs((ytrue - ypred) / ytrue))\n",
      "/aul/homes/jshi008/IvyProjects/ICLR/02MQRNN/util.py:57: RuntimeWarning: divide by zero encountered in true_divide\n",
      "  return np.mean(np.abs((ytrue - ypred) / ytrue))\n",
      "/aul/homes/jshi008/IvyProjects/ICLR/02MQRNN/util.py:57: RuntimeWarning: divide by zero encountered in true_divide\n",
      "  return np.mean(np.abs((ytrue - ypred) / ytrue))\n",
      "/aul/homes/jshi008/IvyProjects/ICLR/02MQRNN/util.py:57: RuntimeWarning: divide by zero encountered in true_divide\n",
      "  return np.mean(np.abs((ytrue - ypred) / ytrue))\n"
     ]
    },
    {
     "name": "stdout",
     "output_type": "stream",
     "text": [
      "Prediction: 950\n",
      "Prediction: 951\n",
      "Prediction: 952\n",
      "Prediction: 953\n",
      "Prediction: 954\n"
     ]
    },
    {
     "name": "stderr",
     "output_type": "stream",
     "text": [
      "/aul/homes/jshi008/IvyProjects/ICLR/02MQRNN/util.py:57: RuntimeWarning: divide by zero encountered in true_divide\n",
      "  return np.mean(np.abs((ytrue - ypred) / ytrue))\n"
     ]
    },
    {
     "name": "stdout",
     "output_type": "stream",
     "text": [
      "Prediction: 955\n",
      "Prediction: 956\n",
      "Prediction: 957\n",
      "Prediction: 958\n",
      "Prediction: 959\n",
      "Prediction: 960\n",
      "Prediction: 961\n",
      "Prediction: 962\n",
      "Prediction: 963\n",
      "Prediction: 964\n",
      "Prediction: 965\n",
      "Prediction: 966\n",
      "Prediction: 967\n",
      "Prediction: 968\n",
      "Prediction: 969\n",
      "Prediction: 970\n",
      "Prediction: 971\n",
      "Prediction: 972\n",
      "Prediction: 973\n",
      "Prediction: 974\n",
      "Prediction: 975\n",
      "Prediction: 976\n",
      "Prediction: 977\n",
      "Prediction: 978\n",
      "Prediction: 979\n",
      "Prediction: 980\n",
      "Prediction: 981\n",
      "Prediction: 982\n",
      "Prediction: 983\n",
      "Prediction: 984\n",
      "Prediction: 985\n",
      "Prediction: 986\n",
      "Prediction: 987\n",
      "Prediction: 988\n",
      "Prediction: 989\n",
      "Prediction: 990\n",
      "Prediction: 991\n",
      "Prediction: 992\n",
      "Prediction: 993\n",
      "Prediction: 994\n",
      "Prediction: 995\n",
      "Prediction: 996\n",
      "Prediction: 997\n",
      "Prediction: 998\n",
      "Prediction: 999\n",
      "Prediction: 1000\n",
      "Prediction: 1001\n",
      "Prediction: 1002\n",
      "Prediction: 1003\n",
      "Prediction: 1004\n",
      "Prediction: 1005\n",
      "Prediction: 1006\n",
      "Prediction: 1007\n",
      "Prediction: 1008\n",
      "Prediction: 1009\n",
      "Prediction: 1010\n",
      "Prediction: 1011\n",
      "Prediction: 1012\n",
      "Prediction: 1013\n",
      "Prediction: 1014\n",
      "Prediction: 1015\n",
      "Prediction: 1016\n",
      "Prediction: 1017\n",
      "Prediction: 1018\n",
      "Prediction: 1019\n",
      "Prediction: 1020\n",
      "Prediction: 1021\n",
      "Prediction: 1022\n",
      "Prediction: 1023\n",
      "Prediction: 1024\n",
      "Prediction: 1025\n",
      "Prediction: 1026\n",
      "Prediction: 1027\n",
      "Prediction: 1028\n",
      "Prediction: 1029\n",
      "Prediction: 1030\n",
      "Prediction: 1031\n",
      "Prediction: 1032\n",
      "Prediction: 1033\n",
      "Prediction: 1034\n",
      "Prediction: 1035\n",
      "Prediction: 1036\n",
      "Prediction: 1037\n",
      "Prediction: 1038\n",
      "Prediction: 1039\n",
      "Prediction: 1040\n",
      "Prediction: 1041\n",
      "Prediction: 1042\n",
      "Prediction: 1043\n",
      "Prediction: 1044\n",
      "Prediction: 1045\n",
      "Prediction: 1046\n",
      "Prediction: 1047\n",
      "Prediction: 1048\n",
      "Prediction: 1049\n",
      "Prediction: 1050\n",
      "Prediction: 1051\n",
      "Prediction: 1052\n",
      "Prediction: 1053\n",
      "Prediction: 1054\n",
      "Prediction: 1055\n",
      "Prediction: 1056\n",
      "Prediction: 1057\n",
      "Prediction: 1058\n",
      "Prediction: 1059\n",
      "Prediction: 1060\n",
      "Prediction: 1061\n",
      "Prediction: 1062\n",
      "Prediction: 1063\n",
      "Prediction: 1064\n",
      "Prediction: 1065\n",
      "Prediction: 1066\n",
      "Prediction: 1067\n",
      "Prediction: 1068\n",
      "Prediction: 1069\n",
      "Prediction: 1070\n",
      "Prediction: 1071\n",
      "Prediction: 1072\n",
      "Prediction: 1073\n",
      "Prediction: 1074\n",
      "Prediction: 1075\n",
      "Prediction: 1076\n",
      "Prediction: 1077\n",
      "Prediction: 1078\n",
      "Prediction: 1079\n",
      "Prediction: 1080\n",
      "Prediction: 1081\n",
      "Prediction: 1082\n",
      "Prediction: 1083\n",
      "Prediction: 1084\n",
      "Prediction: 1085\n",
      "Prediction: 1086\n",
      "Prediction: 1087\n",
      "Prediction: 1088\n",
      "Prediction: 1089\n",
      "Prediction: 1090\n",
      "Prediction: 1091\n",
      "Prediction: 1092\n",
      "Prediction: 1093\n",
      "Prediction: 1094\n",
      "Prediction: 1095\n",
      "Prediction: 1096\n",
      "Prediction: 1097\n",
      "Prediction: 1098\n",
      "Prediction: 1099\n",
      "Prediction: 1100\n",
      "Prediction: 1101\n",
      "Prediction: 1102\n",
      "Prediction: 1103\n",
      "Prediction: 1104\n",
      "Prediction: 1105\n",
      "Prediction: 1106\n",
      "Prediction: 1107\n",
      "Prediction: 1108\n",
      "Prediction: 1109\n",
      "Prediction: 1110\n",
      "Prediction: 1111\n",
      "Prediction: 1112\n",
      "Prediction: 1113\n",
      "Prediction: 1114\n",
      "Prediction: 1115\n",
      "Prediction: 1116\n",
      "Prediction: 1117\n",
      "Prediction: 1118\n",
      "Prediction: 1119\n",
      "Prediction: 1120\n",
      "Prediction: 1121\n",
      "Prediction: 1122\n",
      "Prediction: 1123\n",
      "Prediction: 1124\n",
      "Prediction: 1125\n",
      "Prediction: 1126\n",
      "Prediction: 1127\n",
      "Prediction: 1128\n",
      "Prediction: 1129\n",
      "Prediction: 1130\n",
      "Prediction: 1131\n",
      "Prediction: 1132\n",
      "Prediction: 1133\n",
      "Prediction: 1134\n",
      "Prediction: 1135\n",
      "Prediction: 1136\n",
      "Prediction: 1137\n",
      "Prediction: 1138\n",
      "Prediction: 1139\n",
      "Prediction: 1140\n",
      "Prediction: 1141\n",
      "Prediction: 1142\n",
      "Prediction: 1143\n",
      "Prediction: 1144\n",
      "Prediction: 1145\n",
      "Prediction: 1146\n",
      "Prediction: 1147\n",
      "Prediction: 1148\n",
      "Prediction: 1149\n",
      "Prediction: 1150\n",
      "Prediction: 1151\n",
      "Prediction: 1152\n",
      "Prediction: 1153\n",
      "Prediction: 1154\n",
      "Prediction: 1155\n",
      "Prediction: 1156\n",
      "Prediction: 1157\n",
      "Prediction: 1158\n",
      "Prediction: 1159\n",
      "Prediction: 1160\n",
      "Prediction: 1161\n",
      "Prediction: 1162\n",
      "Prediction: 1163\n",
      "Prediction: 1164\n",
      "Prediction: 1165\n",
      "Prediction: 1166\n",
      "Prediction: 1167\n",
      "Prediction: 1168\n",
      "Prediction: 1169\n",
      "Prediction: 1170\n",
      "Prediction: 1171\n",
      "Prediction: 1172\n",
      "Prediction: 1173\n",
      "Prediction: 1174\n",
      "Prediction: 1175\n",
      "Prediction: 1176\n",
      "Prediction: 1177\n",
      "Prediction: 1178\n",
      "Prediction: 1179\n",
      "Prediction: 1180\n",
      "Prediction: 1181\n",
      "Prediction: 1182\n",
      "Prediction: 1183\n",
      "Prediction: 1184\n",
      "Prediction: 1185\n",
      "Prediction: 1186\n",
      "Prediction: 1187\n",
      "Prediction: 1188\n",
      "Prediction: 1189\n",
      "Prediction: 1190\n",
      "Prediction: 1191\n",
      "Prediction: 1192\n",
      "Prediction: 1193\n",
      "Prediction: 1194\n"
     ]
    },
    {
     "name": "stderr",
     "output_type": "stream",
     "text": [
      "/aul/homes/jshi008/IvyProjects/ICLR/02MQRNN/util.py:57: RuntimeWarning: divide by zero encountered in true_divide\n",
      "  return np.mean(np.abs((ytrue - ypred) / ytrue))\n",
      "/aul/homes/jshi008/IvyProjects/ICLR/02MQRNN/util.py:57: RuntimeWarning: divide by zero encountered in true_divide\n",
      "  return np.mean(np.abs((ytrue - ypred) / ytrue))\n",
      "/aul/homes/jshi008/IvyProjects/ICLR/02MQRNN/util.py:57: RuntimeWarning: divide by zero encountered in true_divide\n",
      "  return np.mean(np.abs((ytrue - ypred) / ytrue))\n",
      "/aul/homes/jshi008/IvyProjects/ICLR/02MQRNN/util.py:57: RuntimeWarning: divide by zero encountered in true_divide\n",
      "  return np.mean(np.abs((ytrue - ypred) / ytrue))\n"
     ]
    },
    {
     "name": "stdout",
     "output_type": "stream",
     "text": [
      "Prediction: 1195\n",
      "Prediction: 1196\n",
      "Prediction: 1197\n",
      "Prediction: 1198\n"
     ]
    },
    {
     "name": "stderr",
     "output_type": "stream",
     "text": [
      "/aul/homes/jshi008/IvyProjects/ICLR/02MQRNN/util.py:57: RuntimeWarning: divide by zero encountered in true_divide\n",
      "  return np.mean(np.abs((ytrue - ypred) / ytrue))\n",
      "/aul/homes/jshi008/IvyProjects/ICLR/02MQRNN/util.py:57: RuntimeWarning: divide by zero encountered in true_divide\n",
      "  return np.mean(np.abs((ytrue - ypred) / ytrue))\n",
      "/aul/homes/jshi008/IvyProjects/ICLR/02MQRNN/util.py:57: RuntimeWarning: divide by zero encountered in true_divide\n",
      "  return np.mean(np.abs((ytrue - ypred) / ytrue))\n"
     ]
    },
    {
     "name": "stdout",
     "output_type": "stream",
     "text": [
      "Prediction: 1199\n",
      "Prediction: 1200\n",
      "Prediction: 1201\n",
      "Prediction: 1202\n",
      "Prediction: 1203\n",
      "Prediction: 1204\n",
      "Prediction: 1205\n"
     ]
    },
    {
     "name": "stderr",
     "output_type": "stream",
     "text": [
      "/aul/homes/jshi008/IvyProjects/ICLR/02MQRNN/util.py:57: RuntimeWarning: divide by zero encountered in true_divide\n",
      "  return np.mean(np.abs((ytrue - ypred) / ytrue))\n",
      "/aul/homes/jshi008/IvyProjects/ICLR/02MQRNN/util.py:57: RuntimeWarning: divide by zero encountered in true_divide\n",
      "  return np.mean(np.abs((ytrue - ypred) / ytrue))\n",
      "/aul/homes/jshi008/IvyProjects/ICLR/02MQRNN/util.py:57: RuntimeWarning: divide by zero encountered in true_divide\n",
      "  return np.mean(np.abs((ytrue - ypred) / ytrue))\n",
      "/aul/homes/jshi008/IvyProjects/ICLR/02MQRNN/util.py:57: RuntimeWarning: divide by zero encountered in true_divide\n",
      "  return np.mean(np.abs((ytrue - ypred) / ytrue))\n",
      "/aul/homes/jshi008/IvyProjects/ICLR/02MQRNN/util.py:57: RuntimeWarning: divide by zero encountered in true_divide\n",
      "  return np.mean(np.abs((ytrue - ypred) / ytrue))\n",
      "/aul/homes/jshi008/IvyProjects/ICLR/02MQRNN/util.py:57: RuntimeWarning: divide by zero encountered in true_divide\n",
      "  return np.mean(np.abs((ytrue - ypred) / ytrue))\n",
      "/aul/homes/jshi008/IvyProjects/ICLR/02MQRNN/util.py:57: RuntimeWarning: divide by zero encountered in true_divide\n",
      "  return np.mean(np.abs((ytrue - ypred) / ytrue))\n"
     ]
    },
    {
     "name": "stdout",
     "output_type": "stream",
     "text": [
      "Prediction: 1206\n",
      "Prediction: 1207\n",
      "Prediction: 1208\n"
     ]
    },
    {
     "name": "stderr",
     "output_type": "stream",
     "text": [
      "/aul/homes/jshi008/IvyProjects/ICLR/02MQRNN/util.py:57: RuntimeWarning: divide by zero encountered in true_divide\n",
      "  return np.mean(np.abs((ytrue - ypred) / ytrue))\n",
      "/aul/homes/jshi008/IvyProjects/ICLR/02MQRNN/util.py:57: RuntimeWarning: divide by zero encountered in true_divide\n",
      "  return np.mean(np.abs((ytrue - ypred) / ytrue))\n",
      "/aul/homes/jshi008/IvyProjects/ICLR/02MQRNN/util.py:57: RuntimeWarning: divide by zero encountered in true_divide\n",
      "  return np.mean(np.abs((ytrue - ypred) / ytrue))\n",
      "/aul/homes/jshi008/IvyProjects/ICLR/02MQRNN/util.py:57: RuntimeWarning: divide by zero encountered in true_divide\n",
      "  return np.mean(np.abs((ytrue - ypred) / ytrue))\n",
      "/aul/homes/jshi008/IvyProjects/ICLR/02MQRNN/util.py:57: RuntimeWarning: divide by zero encountered in true_divide\n",
      "  return np.mean(np.abs((ytrue - ypred) / ytrue))\n"
     ]
    },
    {
     "name": "stdout",
     "output_type": "stream",
     "text": [
      "Prediction: 1209\n",
      "Prediction: 1210\n",
      "Prediction: 1211\n",
      "Prediction: 1212\n",
      "Prediction: 1213\n"
     ]
    },
    {
     "name": "stderr",
     "output_type": "stream",
     "text": [
      "/aul/homes/jshi008/IvyProjects/ICLR/02MQRNN/util.py:57: RuntimeWarning: divide by zero encountered in true_divide\n",
      "  return np.mean(np.abs((ytrue - ypred) / ytrue))\n",
      "/aul/homes/jshi008/IvyProjects/ICLR/02MQRNN/util.py:57: RuntimeWarning: divide by zero encountered in true_divide\n",
      "  return np.mean(np.abs((ytrue - ypred) / ytrue))\n",
      "/aul/homes/jshi008/IvyProjects/ICLR/02MQRNN/util.py:57: RuntimeWarning: divide by zero encountered in true_divide\n",
      "  return np.mean(np.abs((ytrue - ypred) / ytrue))\n",
      "/aul/homes/jshi008/IvyProjects/ICLR/02MQRNN/util.py:57: RuntimeWarning: divide by zero encountered in true_divide\n",
      "  return np.mean(np.abs((ytrue - ypred) / ytrue))\n"
     ]
    },
    {
     "name": "stdout",
     "output_type": "stream",
     "text": [
      "Prediction: 1214\n",
      "Prediction: 1215\n",
      "Prediction: 1216\n",
      "Prediction: 1217\n"
     ]
    },
    {
     "name": "stderr",
     "output_type": "stream",
     "text": [
      "/aul/homes/jshi008/IvyProjects/ICLR/02MQRNN/util.py:57: RuntimeWarning: divide by zero encountered in true_divide\n",
      "  return np.mean(np.abs((ytrue - ypred) / ytrue))\n"
     ]
    },
    {
     "name": "stdout",
     "output_type": "stream",
     "text": [
      "Prediction: 1218\n",
      "Prediction: 1219\n",
      "Prediction: 1220\n",
      "Prediction: 1221\n",
      "Prediction: 1222\n",
      "Prediction: 1223\n",
      "Prediction: 1224\n",
      "Prediction: 1225\n",
      "Prediction: 1226\n",
      "Prediction: 1227\n",
      "Prediction: 1228\n",
      "Prediction: 1229\n",
      "Prediction: 1230\n",
      "Prediction: 1231\n",
      "Prediction: 1232\n",
      "Prediction: 1233\n",
      "Prediction: 1234\n",
      "Prediction: 1235\n",
      "Prediction: 1236\n",
      "Prediction: 1237\n",
      "Prediction: 1238\n",
      "Prediction: 1239\n"
     ]
    },
    {
     "name": "stderr",
     "output_type": "stream",
     "text": [
      "/aul/homes/jshi008/IvyProjects/ICLR/02MQRNN/util.py:57: RuntimeWarning: divide by zero encountered in true_divide\n",
      "  return np.mean(np.abs((ytrue - ypred) / ytrue))\n",
      "/aul/homes/jshi008/IvyProjects/ICLR/02MQRNN/util.py:57: RuntimeWarning: divide by zero encountered in true_divide\n",
      "  return np.mean(np.abs((ytrue - ypred) / ytrue))\n",
      "/aul/homes/jshi008/IvyProjects/ICLR/02MQRNN/util.py:57: RuntimeWarning: divide by zero encountered in true_divide\n",
      "  return np.mean(np.abs((ytrue - ypred) / ytrue))\n",
      "/aul/homes/jshi008/IvyProjects/ICLR/02MQRNN/util.py:57: RuntimeWarning: divide by zero encountered in true_divide\n",
      "  return np.mean(np.abs((ytrue - ypred) / ytrue))\n"
     ]
    },
    {
     "name": "stdout",
     "output_type": "stream",
     "text": [
      "Prediction: 1240\n",
      "Prediction: 1241\n",
      "Prediction: 1242\n",
      "Prediction: 1243\n"
     ]
    },
    {
     "name": "stderr",
     "output_type": "stream",
     "text": [
      "/aul/homes/jshi008/IvyProjects/ICLR/02MQRNN/util.py:57: RuntimeWarning: divide by zero encountered in true_divide\n",
      "  return np.mean(np.abs((ytrue - ypred) / ytrue))\n",
      "/aul/homes/jshi008/IvyProjects/ICLR/02MQRNN/util.py:57: RuntimeWarning: divide by zero encountered in true_divide\n",
      "  return np.mean(np.abs((ytrue - ypred) / ytrue))\n"
     ]
    },
    {
     "name": "stdout",
     "output_type": "stream",
     "text": [
      "Prediction: 1244\n",
      "Prediction: 1245\n"
     ]
    },
    {
     "name": "stderr",
     "output_type": "stream",
     "text": [
      "/aul/homes/jshi008/IvyProjects/ICLR/02MQRNN/util.py:57: RuntimeWarning: divide by zero encountered in true_divide\n",
      "  return np.mean(np.abs((ytrue - ypred) / ytrue))\n",
      "/aul/homes/jshi008/IvyProjects/ICLR/02MQRNN/util.py:57: RuntimeWarning: divide by zero encountered in true_divide\n",
      "  return np.mean(np.abs((ytrue - ypred) / ytrue))\n",
      "/aul/homes/jshi008/IvyProjects/ICLR/02MQRNN/util.py:57: RuntimeWarning: divide by zero encountered in true_divide\n",
      "  return np.mean(np.abs((ytrue - ypred) / ytrue))\n"
     ]
    },
    {
     "name": "stdout",
     "output_type": "stream",
     "text": [
      "Prediction: 1246\n",
      "Prediction: 1247\n",
      "Prediction: 1248\n",
      "Prediction: 1249\n",
      "Prediction: 1250\n"
     ]
    },
    {
     "name": "stderr",
     "output_type": "stream",
     "text": [
      "/aul/homes/jshi008/IvyProjects/ICLR/02MQRNN/util.py:57: RuntimeWarning: divide by zero encountered in true_divide\n",
      "  return np.mean(np.abs((ytrue - ypred) / ytrue))\n",
      "/aul/homes/jshi008/IvyProjects/ICLR/02MQRNN/util.py:57: RuntimeWarning: divide by zero encountered in true_divide\n",
      "  return np.mean(np.abs((ytrue - ypred) / ytrue))\n",
      "/aul/homes/jshi008/IvyProjects/ICLR/02MQRNN/util.py:57: RuntimeWarning: divide by zero encountered in true_divide\n",
      "  return np.mean(np.abs((ytrue - ypred) / ytrue))\n",
      "/aul/homes/jshi008/IvyProjects/ICLR/02MQRNN/util.py:57: RuntimeWarning: divide by zero encountered in true_divide\n",
      "  return np.mean(np.abs((ytrue - ypred) / ytrue))\n"
     ]
    },
    {
     "name": "stdout",
     "output_type": "stream",
     "text": [
      "Prediction: 1251\n",
      "Prediction: 1252\n",
      "Prediction: 1253\n",
      "Prediction: 1254\n"
     ]
    },
    {
     "name": "stderr",
     "output_type": "stream",
     "text": [
      "/aul/homes/jshi008/IvyProjects/ICLR/02MQRNN/util.py:57: RuntimeWarning: divide by zero encountered in true_divide\n",
      "  return np.mean(np.abs((ytrue - ypred) / ytrue))\n",
      "/aul/homes/jshi008/IvyProjects/ICLR/02MQRNN/util.py:57: RuntimeWarning: divide by zero encountered in true_divide\n",
      "  return np.mean(np.abs((ytrue - ypred) / ytrue))\n",
      "/aul/homes/jshi008/IvyProjects/ICLR/02MQRNN/util.py:57: RuntimeWarning: divide by zero encountered in true_divide\n",
      "  return np.mean(np.abs((ytrue - ypred) / ytrue))\n",
      "/aul/homes/jshi008/IvyProjects/ICLR/02MQRNN/util.py:57: RuntimeWarning: divide by zero encountered in true_divide\n",
      "  return np.mean(np.abs((ytrue - ypred) / ytrue))\n"
     ]
    },
    {
     "name": "stdout",
     "output_type": "stream",
     "text": [
      "Prediction: 1255\n",
      "Prediction: 1256\n",
      "Prediction: 1257\n",
      "Prediction: 1258\n"
     ]
    },
    {
     "name": "stderr",
     "output_type": "stream",
     "text": [
      "/aul/homes/jshi008/IvyProjects/ICLR/02MQRNN/util.py:57: RuntimeWarning: divide by zero encountered in true_divide\n",
      "  return np.mean(np.abs((ytrue - ypred) / ytrue))\n",
      "/aul/homes/jshi008/IvyProjects/ICLR/02MQRNN/util.py:57: RuntimeWarning: divide by zero encountered in true_divide\n",
      "  return np.mean(np.abs((ytrue - ypred) / ytrue))\n",
      "/aul/homes/jshi008/IvyProjects/ICLR/02MQRNN/util.py:57: RuntimeWarning: divide by zero encountered in true_divide\n",
      "  return np.mean(np.abs((ytrue - ypred) / ytrue))\n",
      "/aul/homes/jshi008/IvyProjects/ICLR/02MQRNN/util.py:57: RuntimeWarning: divide by zero encountered in true_divide\n",
      "  return np.mean(np.abs((ytrue - ypred) / ytrue))\n"
     ]
    },
    {
     "name": "stdout",
     "output_type": "stream",
     "text": [
      "Prediction: 1259\n",
      "Prediction: 1260\n",
      "Prediction: 1261\n",
      "Prediction: 1262\n"
     ]
    },
    {
     "name": "stderr",
     "output_type": "stream",
     "text": [
      "/aul/homes/jshi008/IvyProjects/ICLR/02MQRNN/util.py:57: RuntimeWarning: divide by zero encountered in true_divide\n",
      "  return np.mean(np.abs((ytrue - ypred) / ytrue))\n",
      "/aul/homes/jshi008/IvyProjects/ICLR/02MQRNN/util.py:57: RuntimeWarning: divide by zero encountered in true_divide\n",
      "  return np.mean(np.abs((ytrue - ypred) / ytrue))\n",
      "/aul/homes/jshi008/IvyProjects/ICLR/02MQRNN/util.py:57: RuntimeWarning: divide by zero encountered in true_divide\n",
      "  return np.mean(np.abs((ytrue - ypred) / ytrue))\n"
     ]
    },
    {
     "name": "stdout",
     "output_type": "stream",
     "text": [
      "Prediction: 1263\n",
      "Prediction: 1264\n",
      "Prediction: 1265\n",
      "Prediction: 1266\n",
      "Prediction: 1267\n",
      "Prediction: 1268\n",
      "Prediction: 1269\n",
      "Prediction: 1270\n",
      "Prediction: 1271\n",
      "Prediction: 1272\n",
      "Prediction: 1273\n",
      "Prediction: 1274\n",
      "Prediction: 1275\n",
      "Prediction: 1276\n",
      "Prediction: 1277\n",
      "Prediction: 1278\n",
      "Prediction: 1279\n",
      "Prediction: 1280\n",
      "Prediction: 1281\n",
      "Prediction: 1282\n",
      "Prediction: 1283\n",
      "Prediction: 1284\n",
      "Prediction: 1285\n",
      "Prediction: 1286\n",
      "Prediction: 1287\n",
      "Prediction: 1288\n",
      "Prediction: 1289\n",
      "Prediction: 1290\n",
      "Prediction: 1291\n",
      "Prediction: 1292\n",
      "Prediction: 1293\n",
      "Prediction: 1294\n",
      "Prediction: 1295\n",
      "Prediction: 1296\n",
      "Prediction: 1297\n",
      "Prediction: 1298\n",
      "Prediction: 1299\n",
      "Prediction: 1300\n",
      "Prediction: 1301\n",
      "Prediction: 1302\n",
      "Prediction: 1303\n",
      "Prediction: 1304\n",
      "Prediction: 1305\n",
      "Prediction: 1306\n",
      "Prediction: 1307\n",
      "Prediction: 1308\n",
      "Prediction: 1309\n",
      "Prediction: 1310\n",
      "Prediction: 1311\n",
      "Prediction: 1312\n",
      "Prediction: 1313\n",
      "Prediction: 1314\n",
      "Prediction: 1315\n",
      "Prediction: 1316\n"
     ]
    },
    {
     "name": "stderr",
     "output_type": "stream",
     "text": [
      "/aul/homes/jshi008/IvyProjects/ICLR/02MQRNN/util.py:57: RuntimeWarning: divide by zero encountered in true_divide\n",
      "  return np.mean(np.abs((ytrue - ypred) / ytrue))\n",
      "/aul/homes/jshi008/IvyProjects/ICLR/02MQRNN/util.py:57: RuntimeWarning: divide by zero encountered in true_divide\n",
      "  return np.mean(np.abs((ytrue - ypred) / ytrue))\n",
      "/aul/homes/jshi008/IvyProjects/ICLR/02MQRNN/util.py:57: RuntimeWarning: divide by zero encountered in true_divide\n",
      "  return np.mean(np.abs((ytrue - ypred) / ytrue))\n"
     ]
    },
    {
     "name": "stdout",
     "output_type": "stream",
     "text": [
      "Prediction: 1317\n",
      "Prediction: 1318\n",
      "Prediction: 1319\n"
     ]
    },
    {
     "name": "stderr",
     "output_type": "stream",
     "text": [
      "/aul/homes/jshi008/IvyProjects/ICLR/02MQRNN/util.py:57: RuntimeWarning: divide by zero encountered in true_divide\n",
      "  return np.mean(np.abs((ytrue - ypred) / ytrue))\n",
      "/aul/homes/jshi008/IvyProjects/ICLR/02MQRNN/util.py:57: RuntimeWarning: divide by zero encountered in true_divide\n",
      "  return np.mean(np.abs((ytrue - ypred) / ytrue))\n",
      "/aul/homes/jshi008/IvyProjects/ICLR/02MQRNN/util.py:57: RuntimeWarning: divide by zero encountered in true_divide\n",
      "  return np.mean(np.abs((ytrue - ypred) / ytrue))\n",
      "/aul/homes/jshi008/IvyProjects/ICLR/02MQRNN/util.py:57: RuntimeWarning: divide by zero encountered in true_divide\n",
      "  return np.mean(np.abs((ytrue - ypred) / ytrue))\n"
     ]
    },
    {
     "name": "stdout",
     "output_type": "stream",
     "text": [
      "Prediction: 1320\n",
      "Prediction: 1321\n",
      "Prediction: 1322\n"
     ]
    },
    {
     "name": "stderr",
     "output_type": "stream",
     "text": [
      "/aul/homes/jshi008/IvyProjects/ICLR/02MQRNN/util.py:57: RuntimeWarning: divide by zero encountered in true_divide\n",
      "  return np.mean(np.abs((ytrue - ypred) / ytrue))\n"
     ]
    },
    {
     "name": "stdout",
     "output_type": "stream",
     "text": [
      "Prediction: 1323\n"
     ]
    },
    {
     "name": "stderr",
     "output_type": "stream",
     "text": [
      "/aul/homes/jshi008/IvyProjects/ICLR/02MQRNN/util.py:57: RuntimeWarning: divide by zero encountered in true_divide\n",
      "  return np.mean(np.abs((ytrue - ypred) / ytrue))\n",
      "/aul/homes/jshi008/IvyProjects/ICLR/02MQRNN/util.py:57: RuntimeWarning: divide by zero encountered in true_divide\n",
      "  return np.mean(np.abs((ytrue - ypred) / ytrue))\n",
      "/aul/homes/jshi008/IvyProjects/ICLR/02MQRNN/util.py:57: RuntimeWarning: divide by zero encountered in true_divide\n",
      "  return np.mean(np.abs((ytrue - ypred) / ytrue))\n"
     ]
    },
    {
     "name": "stdout",
     "output_type": "stream",
     "text": [
      "Prediction: 1324\n",
      "Prediction: 1325\n",
      "Prediction: 1326\n"
     ]
    },
    {
     "name": "stderr",
     "output_type": "stream",
     "text": [
      "/aul/homes/jshi008/IvyProjects/ICLR/02MQRNN/util.py:57: RuntimeWarning: divide by zero encountered in true_divide\n",
      "  return np.mean(np.abs((ytrue - ypred) / ytrue))\n",
      "/aul/homes/jshi008/IvyProjects/ICLR/02MQRNN/util.py:57: RuntimeWarning: divide by zero encountered in true_divide\n",
      "  return np.mean(np.abs((ytrue - ypred) / ytrue))\n",
      "/aul/homes/jshi008/IvyProjects/ICLR/02MQRNN/util.py:57: RuntimeWarning: divide by zero encountered in true_divide\n",
      "  return np.mean(np.abs((ytrue - ypred) / ytrue))\n",
      "/aul/homes/jshi008/IvyProjects/ICLR/02MQRNN/util.py:57: RuntimeWarning: divide by zero encountered in true_divide\n",
      "  return np.mean(np.abs((ytrue - ypred) / ytrue))\n"
     ]
    },
    {
     "name": "stdout",
     "output_type": "stream",
     "text": [
      "Prediction: 1327\n",
      "Prediction: 1328\n",
      "Prediction: 1329\n",
      "Prediction: 1330\n"
     ]
    },
    {
     "name": "stderr",
     "output_type": "stream",
     "text": [
      "/aul/homes/jshi008/IvyProjects/ICLR/02MQRNN/util.py:57: RuntimeWarning: divide by zero encountered in true_divide\n",
      "  return np.mean(np.abs((ytrue - ypred) / ytrue))\n",
      "/aul/homes/jshi008/IvyProjects/ICLR/02MQRNN/util.py:57: RuntimeWarning: divide by zero encountered in true_divide\n",
      "  return np.mean(np.abs((ytrue - ypred) / ytrue))\n",
      "/aul/homes/jshi008/IvyProjects/ICLR/02MQRNN/util.py:57: RuntimeWarning: divide by zero encountered in true_divide\n",
      "  return np.mean(np.abs((ytrue - ypred) / ytrue))\n",
      "/aul/homes/jshi008/IvyProjects/ICLR/02MQRNN/util.py:57: RuntimeWarning: divide by zero encountered in true_divide\n",
      "  return np.mean(np.abs((ytrue - ypred) / ytrue))\n"
     ]
    },
    {
     "name": "stdout",
     "output_type": "stream",
     "text": [
      "Prediction: 1331\n",
      "Prediction: 1332\n",
      "Prediction: 1333\n",
      "Prediction: 1334\n"
     ]
    },
    {
     "name": "stderr",
     "output_type": "stream",
     "text": [
      "/aul/homes/jshi008/IvyProjects/ICLR/02MQRNN/util.py:57: RuntimeWarning: divide by zero encountered in true_divide\n",
      "  return np.mean(np.abs((ytrue - ypred) / ytrue))\n",
      "/aul/homes/jshi008/IvyProjects/ICLR/02MQRNN/util.py:57: RuntimeWarning: divide by zero encountered in true_divide\n",
      "  return np.mean(np.abs((ytrue - ypred) / ytrue))\n",
      "/aul/homes/jshi008/IvyProjects/ICLR/02MQRNN/util.py:57: RuntimeWarning: divide by zero encountered in true_divide\n",
      "  return np.mean(np.abs((ytrue - ypred) / ytrue))\n",
      "/aul/homes/jshi008/IvyProjects/ICLR/02MQRNN/util.py:57: RuntimeWarning: divide by zero encountered in true_divide\n",
      "  return np.mean(np.abs((ytrue - ypred) / ytrue))\n"
     ]
    },
    {
     "name": "stdout",
     "output_type": "stream",
     "text": [
      "Prediction: 1335\n",
      "Prediction: 1336\n",
      "Prediction: 1337\n",
      "Prediction: 1338\n"
     ]
    },
    {
     "name": "stderr",
     "output_type": "stream",
     "text": [
      "/aul/homes/jshi008/IvyProjects/ICLR/02MQRNN/util.py:57: RuntimeWarning: divide by zero encountered in true_divide\n",
      "  return np.mean(np.abs((ytrue - ypred) / ytrue))\n"
     ]
    },
    {
     "name": "stdout",
     "output_type": "stream",
     "text": [
      "Prediction: 1339\n",
      "Prediction: 1340\n"
     ]
    },
    {
     "name": "stderr",
     "output_type": "stream",
     "text": [
      "/aul/homes/jshi008/IvyProjects/ICLR/02MQRNN/util.py:57: RuntimeWarning: divide by zero encountered in true_divide\n",
      "  return np.mean(np.abs((ytrue - ypred) / ytrue))\n",
      "/aul/homes/jshi008/IvyProjects/ICLR/02MQRNN/util.py:57: RuntimeWarning: divide by zero encountered in true_divide\n",
      "  return np.mean(np.abs((ytrue - ypred) / ytrue))\n",
      "/aul/homes/jshi008/IvyProjects/ICLR/02MQRNN/util.py:57: RuntimeWarning: divide by zero encountered in true_divide\n",
      "  return np.mean(np.abs((ytrue - ypred) / ytrue))\n",
      "/aul/homes/jshi008/IvyProjects/ICLR/02MQRNN/util.py:57: RuntimeWarning: divide by zero encountered in true_divide\n",
      "  return np.mean(np.abs((ytrue - ypred) / ytrue))\n",
      "/aul/homes/jshi008/IvyProjects/ICLR/02MQRNN/util.py:57: RuntimeWarning: divide by zero encountered in true_divide\n",
      "  return np.mean(np.abs((ytrue - ypred) / ytrue))\n"
     ]
    },
    {
     "name": "stdout",
     "output_type": "stream",
     "text": [
      "Prediction: 1341\n",
      "Prediction: 1342\n",
      "Prediction: 1343\n",
      "Prediction: 1344\n",
      "Prediction: 1345\n"
     ]
    },
    {
     "name": "stderr",
     "output_type": "stream",
     "text": [
      "/aul/homes/jshi008/IvyProjects/ICLR/02MQRNN/util.py:57: RuntimeWarning: divide by zero encountered in true_divide\n",
      "  return np.mean(np.abs((ytrue - ypred) / ytrue))\n",
      "/aul/homes/jshi008/IvyProjects/ICLR/02MQRNN/util.py:57: RuntimeWarning: divide by zero encountered in true_divide\n",
      "  return np.mean(np.abs((ytrue - ypred) / ytrue))\n",
      "/aul/homes/jshi008/IvyProjects/ICLR/02MQRNN/util.py:57: RuntimeWarning: divide by zero encountered in true_divide\n",
      "  return np.mean(np.abs((ytrue - ypred) / ytrue))\n",
      "/aul/homes/jshi008/IvyProjects/ICLR/02MQRNN/util.py:57: RuntimeWarning: divide by zero encountered in true_divide\n",
      "  return np.mean(np.abs((ytrue - ypred) / ytrue))\n",
      "/aul/homes/jshi008/IvyProjects/ICLR/02MQRNN/util.py:57: RuntimeWarning: divide by zero encountered in true_divide\n",
      "  return np.mean(np.abs((ytrue - ypred) / ytrue))\n"
     ]
    },
    {
     "name": "stdout",
     "output_type": "stream",
     "text": [
      "Prediction: 1346\n",
      "Prediction: 1347\n",
      "Prediction: 1348\n",
      "Prediction: 1349\n",
      "Prediction: 1350\n"
     ]
    },
    {
     "name": "stderr",
     "output_type": "stream",
     "text": [
      "/aul/homes/jshi008/IvyProjects/ICLR/02MQRNN/util.py:57: RuntimeWarning: divide by zero encountered in true_divide\n",
      "  return np.mean(np.abs((ytrue - ypred) / ytrue))\n",
      "/aul/homes/jshi008/IvyProjects/ICLR/02MQRNN/util.py:57: RuntimeWarning: divide by zero encountered in true_divide\n",
      "  return np.mean(np.abs((ytrue - ypred) / ytrue))\n",
      "/aul/homes/jshi008/IvyProjects/ICLR/02MQRNN/util.py:57: RuntimeWarning: divide by zero encountered in true_divide\n",
      "  return np.mean(np.abs((ytrue - ypred) / ytrue))\n"
     ]
    },
    {
     "name": "stdout",
     "output_type": "stream",
     "text": [
      "Prediction: 1351\n",
      "Prediction: 1352\n",
      "Prediction: 1353\n"
     ]
    },
    {
     "name": "stderr",
     "output_type": "stream",
     "text": [
      "/aul/homes/jshi008/IvyProjects/ICLR/02MQRNN/util.py:57: RuntimeWarning: divide by zero encountered in true_divide\n",
      "  return np.mean(np.abs((ytrue - ypred) / ytrue))\n",
      "/aul/homes/jshi008/IvyProjects/ICLR/02MQRNN/util.py:57: RuntimeWarning: divide by zero encountered in true_divide\n",
      "  return np.mean(np.abs((ytrue - ypred) / ytrue))\n",
      "/aul/homes/jshi008/IvyProjects/ICLR/02MQRNN/util.py:57: RuntimeWarning: divide by zero encountered in true_divide\n",
      "  return np.mean(np.abs((ytrue - ypred) / ytrue))\n"
     ]
    },
    {
     "name": "stdout",
     "output_type": "stream",
     "text": [
      "Prediction: 1354\n",
      "Prediction: 1355\n",
      "Prediction: 1356\n",
      "Prediction: 1357\n"
     ]
    },
    {
     "name": "stderr",
     "output_type": "stream",
     "text": [
      "/aul/homes/jshi008/IvyProjects/ICLR/02MQRNN/util.py:57: RuntimeWarning: divide by zero encountered in true_divide\n",
      "  return np.mean(np.abs((ytrue - ypred) / ytrue))\n",
      "/aul/homes/jshi008/IvyProjects/ICLR/02MQRNN/util.py:57: RuntimeWarning: divide by zero encountered in true_divide\n",
      "  return np.mean(np.abs((ytrue - ypred) / ytrue))\n",
      "/aul/homes/jshi008/IvyProjects/ICLR/02MQRNN/util.py:57: RuntimeWarning: divide by zero encountered in true_divide\n",
      "  return np.mean(np.abs((ytrue - ypred) / ytrue))\n",
      "/aul/homes/jshi008/IvyProjects/ICLR/02MQRNN/util.py:57: RuntimeWarning: divide by zero encountered in true_divide\n",
      "  return np.mean(np.abs((ytrue - ypred) / ytrue))\n"
     ]
    },
    {
     "name": "stdout",
     "output_type": "stream",
     "text": [
      "Prediction: 1358\n",
      "Prediction: 1359\n",
      "Prediction: 1360\n"
     ]
    },
    {
     "name": "stderr",
     "output_type": "stream",
     "text": [
      "/aul/homes/jshi008/IvyProjects/ICLR/02MQRNN/util.py:57: RuntimeWarning: divide by zero encountered in true_divide\n",
      "  return np.mean(np.abs((ytrue - ypred) / ytrue))\n",
      "/aul/homes/jshi008/IvyProjects/ICLR/02MQRNN/util.py:57: RuntimeWarning: divide by zero encountered in true_divide\n",
      "  return np.mean(np.abs((ytrue - ypred) / ytrue))\n",
      "/aul/homes/jshi008/IvyProjects/ICLR/02MQRNN/util.py:57: RuntimeWarning: divide by zero encountered in true_divide\n",
      "  return np.mean(np.abs((ytrue - ypred) / ytrue))\n",
      "/aul/homes/jshi008/IvyProjects/ICLR/02MQRNN/util.py:57: RuntimeWarning: divide by zero encountered in true_divide\n",
      "  return np.mean(np.abs((ytrue - ypred) / ytrue))\n"
     ]
    },
    {
     "name": "stdout",
     "output_type": "stream",
     "text": [
      "Prediction: 1361\n",
      "Prediction: 1362\n",
      "Prediction: 1363\n",
      "Prediction: 1364\n",
      "Prediction: 1365\n",
      "Prediction: 1366\n",
      "Prediction: 1367\n",
      "Prediction: 1368\n",
      "Prediction: 1369\n",
      "Prediction: 1370\n",
      "Prediction: 1371\n",
      "Prediction: 1372\n",
      "Prediction: 1373\n",
      "Prediction: 1374\n",
      "Prediction: 1375\n",
      "Prediction: 1376\n"
     ]
    },
    {
     "name": "stderr",
     "output_type": "stream",
     "text": [
      "/aul/homes/jshi008/IvyProjects/ICLR/02MQRNN/util.py:57: RuntimeWarning: divide by zero encountered in true_divide\n",
      "  return np.mean(np.abs((ytrue - ypred) / ytrue))\n",
      "/aul/homes/jshi008/IvyProjects/ICLR/02MQRNN/util.py:57: RuntimeWarning: divide by zero encountered in true_divide\n",
      "  return np.mean(np.abs((ytrue - ypred) / ytrue))\n",
      "/aul/homes/jshi008/IvyProjects/ICLR/02MQRNN/util.py:57: RuntimeWarning: divide by zero encountered in true_divide\n",
      "  return np.mean(np.abs((ytrue - ypred) / ytrue))\n"
     ]
    },
    {
     "name": "stdout",
     "output_type": "stream",
     "text": [
      "Prediction: 1377\n",
      "Prediction: 1378\n",
      "Prediction: 1379\n"
     ]
    },
    {
     "name": "stderr",
     "output_type": "stream",
     "text": [
      "/aul/homes/jshi008/IvyProjects/ICLR/02MQRNN/util.py:57: RuntimeWarning: divide by zero encountered in true_divide\n",
      "  return np.mean(np.abs((ytrue - ypred) / ytrue))\n",
      "/aul/homes/jshi008/IvyProjects/ICLR/02MQRNN/util.py:57: RuntimeWarning: divide by zero encountered in true_divide\n",
      "  return np.mean(np.abs((ytrue - ypred) / ytrue))\n",
      "/aul/homes/jshi008/IvyProjects/ICLR/02MQRNN/util.py:57: RuntimeWarning: divide by zero encountered in true_divide\n",
      "  return np.mean(np.abs((ytrue - ypred) / ytrue))\n",
      "/aul/homes/jshi008/IvyProjects/ICLR/02MQRNN/util.py:57: RuntimeWarning: divide by zero encountered in true_divide\n",
      "  return np.mean(np.abs((ytrue - ypred) / ytrue))\n"
     ]
    },
    {
     "name": "stdout",
     "output_type": "stream",
     "text": [
      "Prediction: 1380\n",
      "Prediction: 1381\n",
      "Prediction: 1382\n",
      "Prediction: 1383\n"
     ]
    },
    {
     "name": "stderr",
     "output_type": "stream",
     "text": [
      "/aul/homes/jshi008/IvyProjects/ICLR/02MQRNN/util.py:57: RuntimeWarning: divide by zero encountered in true_divide\n",
      "  return np.mean(np.abs((ytrue - ypred) / ytrue))\n",
      "/aul/homes/jshi008/IvyProjects/ICLR/02MQRNN/util.py:57: RuntimeWarning: divide by zero encountered in true_divide\n",
      "  return np.mean(np.abs((ytrue - ypred) / ytrue))\n"
     ]
    },
    {
     "name": "stdout",
     "output_type": "stream",
     "text": [
      "Prediction: 1384\n",
      "Prediction: 1385\n"
     ]
    },
    {
     "name": "stderr",
     "output_type": "stream",
     "text": [
      "/aul/homes/jshi008/IvyProjects/ICLR/02MQRNN/util.py:57: RuntimeWarning: divide by zero encountered in true_divide\n",
      "  return np.mean(np.abs((ytrue - ypred) / ytrue))\n",
      "/aul/homes/jshi008/IvyProjects/ICLR/02MQRNN/util.py:57: RuntimeWarning: divide by zero encountered in true_divide\n",
      "  return np.mean(np.abs((ytrue - ypred) / ytrue))\n",
      "/aul/homes/jshi008/IvyProjects/ICLR/02MQRNN/util.py:57: RuntimeWarning: divide by zero encountered in true_divide\n",
      "  return np.mean(np.abs((ytrue - ypred) / ytrue))\n",
      "/aul/homes/jshi008/IvyProjects/ICLR/02MQRNN/util.py:57: RuntimeWarning: divide by zero encountered in true_divide\n",
      "  return np.mean(np.abs((ytrue - ypred) / ytrue))\n"
     ]
    },
    {
     "name": "stdout",
     "output_type": "stream",
     "text": [
      "Prediction: 1386\n",
      "Prediction: 1387\n",
      "Prediction: 1388\n",
      "Prediction: 1389\n"
     ]
    },
    {
     "name": "stderr",
     "output_type": "stream",
     "text": [
      "/aul/homes/jshi008/IvyProjects/ICLR/02MQRNN/util.py:57: RuntimeWarning: divide by zero encountered in true_divide\n",
      "  return np.mean(np.abs((ytrue - ypred) / ytrue))\n",
      "/aul/homes/jshi008/IvyProjects/ICLR/02MQRNN/util.py:57: RuntimeWarning: divide by zero encountered in true_divide\n",
      "  return np.mean(np.abs((ytrue - ypred) / ytrue))\n",
      "/aul/homes/jshi008/IvyProjects/ICLR/02MQRNN/util.py:57: RuntimeWarning: divide by zero encountered in true_divide\n",
      "  return np.mean(np.abs((ytrue - ypred) / ytrue))\n",
      "/aul/homes/jshi008/IvyProjects/ICLR/02MQRNN/util.py:57: RuntimeWarning: divide by zero encountered in true_divide\n",
      "  return np.mean(np.abs((ytrue - ypred) / ytrue))\n"
     ]
    },
    {
     "name": "stdout",
     "output_type": "stream",
     "text": [
      "Prediction: 1390\n",
      "Prediction: 1391\n",
      "Prediction: 1392\n",
      "Prediction: 1393\n"
     ]
    },
    {
     "name": "stderr",
     "output_type": "stream",
     "text": [
      "/aul/homes/jshi008/IvyProjects/ICLR/02MQRNN/util.py:57: RuntimeWarning: divide by zero encountered in true_divide\n",
      "  return np.mean(np.abs((ytrue - ypred) / ytrue))\n",
      "/aul/homes/jshi008/IvyProjects/ICLR/02MQRNN/util.py:57: RuntimeWarning: divide by zero encountered in true_divide\n",
      "  return np.mean(np.abs((ytrue - ypred) / ytrue))\n",
      "/aul/homes/jshi008/IvyProjects/ICLR/02MQRNN/util.py:57: RuntimeWarning: divide by zero encountered in true_divide\n",
      "  return np.mean(np.abs((ytrue - ypred) / ytrue))\n"
     ]
    },
    {
     "name": "stdout",
     "output_type": "stream",
     "text": [
      "Prediction: 1394\n",
      "Prediction: 1395\n",
      "Prediction: 1396\n"
     ]
    },
    {
     "name": "stderr",
     "output_type": "stream",
     "text": [
      "/aul/homes/jshi008/IvyProjects/ICLR/02MQRNN/util.py:57: RuntimeWarning: divide by zero encountered in true_divide\n",
      "  return np.mean(np.abs((ytrue - ypred) / ytrue))\n",
      "/aul/homes/jshi008/IvyProjects/ICLR/02MQRNN/util.py:57: RuntimeWarning: divide by zero encountered in true_divide\n",
      "  return np.mean(np.abs((ytrue - ypred) / ytrue))\n",
      "/aul/homes/jshi008/IvyProjects/ICLR/02MQRNN/util.py:57: RuntimeWarning: divide by zero encountered in true_divide\n",
      "  return np.mean(np.abs((ytrue - ypred) / ytrue))\n"
     ]
    },
    {
     "name": "stdout",
     "output_type": "stream",
     "text": [
      "Prediction: 1397\n",
      "Prediction: 1398\n",
      "Prediction: 1399\n"
     ]
    },
    {
     "name": "stderr",
     "output_type": "stream",
     "text": [
      "/aul/homes/jshi008/IvyProjects/ICLR/02MQRNN/util.py:57: RuntimeWarning: divide by zero encountered in true_divide\n",
      "  return np.mean(np.abs((ytrue - ypred) / ytrue))\n"
     ]
    },
    {
     "name": "stdout",
     "output_type": "stream",
     "text": [
      "Prediction: 1400\n",
      "Prediction: 1401\n",
      "Prediction: 1402\n",
      "Prediction: 1403\n",
      "Prediction: 1404\n",
      "Prediction: 1405\n",
      "Prediction: 1406\n",
      "Prediction: 1407\n",
      "Prediction: 1408\n",
      "Prediction: 1409\n",
      "Prediction: 1410\n",
      "Prediction: 1411\n",
      "Prediction: 1412\n",
      "Prediction: 1413\n",
      "Prediction: 1414\n",
      "Prediction: 1415\n",
      "Prediction: 1416\n",
      "Prediction: 1417\n",
      "Prediction: 1418\n",
      "Prediction: 1419\n",
      "Prediction: 1420\n",
      "Prediction: 1421\n",
      "Prediction: 1422\n",
      "Prediction: 1423\n",
      "Prediction: 1424\n",
      "Prediction: 1425\n",
      "Prediction: 1426\n",
      "Prediction: 1427\n",
      "Prediction: 1428\n",
      "Prediction: 1429\n",
      "Prediction: 1430\n",
      "Prediction: 1431\n",
      "Prediction: 1432\n",
      "Prediction: 1433\n",
      "Prediction: 1434\n",
      "Prediction: 1435\n",
      "Prediction: 1436\n",
      "Prediction: 1437\n",
      "Prediction: 1438\n",
      "Prediction: 1439\n",
      "Prediction: 1440\n",
      "Prediction: 1441\n",
      "Prediction: 1442\n",
      "Prediction: 1443\n",
      "Prediction: 1444\n",
      "Prediction: 1445\n",
      "Prediction: 1446\n",
      "Prediction: 1447\n",
      "Prediction: 1448\n",
      "Prediction: 1449\n",
      "Prediction: 1450\n",
      "Prediction: 1451\n",
      "Prediction: 1452\n",
      "Prediction: 1453\n",
      "Prediction: 1454\n",
      "Prediction: 1455\n",
      "Prediction: 1456\n",
      "Prediction: 1457\n",
      "Prediction: 1458\n",
      "Prediction: 1459\n",
      "Prediction: 1460\n",
      "Prediction: 1461\n",
      "Prediction: 1462\n",
      "Prediction: 1463\n",
      "Prediction: 1464\n",
      "Prediction: 1465\n",
      "Prediction: 1466\n",
      "Prediction: 1467\n",
      "Prediction: 1468\n",
      "Prediction: 1469\n",
      "Prediction: 1470\n",
      "Prediction: 1471\n",
      "Prediction: 1472\n",
      "Prediction: 1473\n",
      "Prediction: 1474\n",
      "Prediction: 1475\n",
      "Prediction: 1476\n",
      "Prediction: 1477\n",
      "Prediction: 1478\n",
      "Prediction: 1479\n",
      "Prediction: 1480\n",
      "Prediction: 1481\n",
      "Prediction: 1482\n",
      "Prediction: 1483\n",
      "Prediction: 1484\n",
      "Prediction: 1485\n",
      "Prediction: 1486\n"
     ]
    },
    {
     "name": "stderr",
     "output_type": "stream",
     "text": [
      "/aul/homes/jshi008/IvyProjects/ICLR/02MQRNN/util.py:57: RuntimeWarning: divide by zero encountered in true_divide\n",
      "  return np.mean(np.abs((ytrue - ypred) / ytrue))\n",
      "/aul/homes/jshi008/IvyProjects/ICLR/02MQRNN/util.py:57: RuntimeWarning: divide by zero encountered in true_divide\n",
      "  return np.mean(np.abs((ytrue - ypred) / ytrue))\n",
      "/aul/homes/jshi008/IvyProjects/ICLR/02MQRNN/util.py:57: RuntimeWarning: divide by zero encountered in true_divide\n",
      "  return np.mean(np.abs((ytrue - ypred) / ytrue))\n"
     ]
    },
    {
     "name": "stdout",
     "output_type": "stream",
     "text": [
      "Prediction: 1487\n",
      "Prediction: 1488\n"
     ]
    },
    {
     "name": "stderr",
     "output_type": "stream",
     "text": [
      "/aul/homes/jshi008/IvyProjects/ICLR/02MQRNN/util.py:57: RuntimeWarning: divide by zero encountered in true_divide\n",
      "  return np.mean(np.abs((ytrue - ypred) / ytrue))\n",
      "/aul/homes/jshi008/IvyProjects/ICLR/02MQRNN/util.py:57: RuntimeWarning: divide by zero encountered in true_divide\n",
      "  return np.mean(np.abs((ytrue - ypred) / ytrue))\n",
      "/aul/homes/jshi008/IvyProjects/ICLR/02MQRNN/util.py:57: RuntimeWarning: divide by zero encountered in true_divide\n",
      "  return np.mean(np.abs((ytrue - ypred) / ytrue))\n",
      "/aul/homes/jshi008/IvyProjects/ICLR/02MQRNN/util.py:57: RuntimeWarning: divide by zero encountered in true_divide\n",
      "  return np.mean(np.abs((ytrue - ypred) / ytrue))\n",
      "/aul/homes/jshi008/IvyProjects/ICLR/02MQRNN/util.py:57: RuntimeWarning: divide by zero encountered in true_divide\n",
      "  return np.mean(np.abs((ytrue - ypred) / ytrue))\n"
     ]
    },
    {
     "name": "stdout",
     "output_type": "stream",
     "text": [
      "Prediction: 1489\n",
      "Prediction: 1490\n",
      "Prediction: 1491\n",
      "Prediction: 1492\n"
     ]
    },
    {
     "name": "stderr",
     "output_type": "stream",
     "text": [
      "/aul/homes/jshi008/IvyProjects/ICLR/02MQRNN/util.py:57: RuntimeWarning: divide by zero encountered in true_divide\n",
      "  return np.mean(np.abs((ytrue - ypred) / ytrue))\n",
      "/aul/homes/jshi008/IvyProjects/ICLR/02MQRNN/util.py:57: RuntimeWarning: divide by zero encountered in true_divide\n",
      "  return np.mean(np.abs((ytrue - ypred) / ytrue))\n",
      "/aul/homes/jshi008/IvyProjects/ICLR/02MQRNN/util.py:57: RuntimeWarning: divide by zero encountered in true_divide\n",
      "  return np.mean(np.abs((ytrue - ypred) / ytrue))\n",
      "/aul/homes/jshi008/IvyProjects/ICLR/02MQRNN/util.py:57: RuntimeWarning: divide by zero encountered in true_divide\n",
      "  return np.mean(np.abs((ytrue - ypred) / ytrue))\n",
      "/aul/homes/jshi008/IvyProjects/ICLR/02MQRNN/util.py:57: RuntimeWarning: divide by zero encountered in true_divide\n",
      "  return np.mean(np.abs((ytrue - ypred) / ytrue))\n"
     ]
    },
    {
     "name": "stdout",
     "output_type": "stream",
     "text": [
      "Prediction: 1493\n",
      "Prediction: 1494\n",
      "Prediction: 1495\n",
      "Prediction: 1496\n",
      "Prediction: 1497\n"
     ]
    },
    {
     "name": "stderr",
     "output_type": "stream",
     "text": [
      "/aul/homes/jshi008/IvyProjects/ICLR/02MQRNN/util.py:57: RuntimeWarning: divide by zero encountered in true_divide\n",
      "  return np.mean(np.abs((ytrue - ypred) / ytrue))\n",
      "/aul/homes/jshi008/IvyProjects/ICLR/02MQRNN/util.py:57: RuntimeWarning: divide by zero encountered in true_divide\n",
      "  return np.mean(np.abs((ytrue - ypred) / ytrue))\n",
      "/aul/homes/jshi008/IvyProjects/ICLR/02MQRNN/util.py:57: RuntimeWarning: divide by zero encountered in true_divide\n",
      "  return np.mean(np.abs((ytrue - ypred) / ytrue))\n",
      "/aul/homes/jshi008/IvyProjects/ICLR/02MQRNN/util.py:57: RuntimeWarning: divide by zero encountered in true_divide\n",
      "  return np.mean(np.abs((ytrue - ypred) / ytrue))\n"
     ]
    },
    {
     "name": "stdout",
     "output_type": "stream",
     "text": [
      "Prediction: 1498\n",
      "Prediction: 1499\n",
      "Prediction: 1500\n",
      "Prediction: 1501\n"
     ]
    },
    {
     "name": "stderr",
     "output_type": "stream",
     "text": [
      "/aul/homes/jshi008/IvyProjects/ICLR/02MQRNN/util.py:57: RuntimeWarning: divide by zero encountered in true_divide\n",
      "  return np.mean(np.abs((ytrue - ypred) / ytrue))\n",
      "/aul/homes/jshi008/IvyProjects/ICLR/02MQRNN/util.py:57: RuntimeWarning: divide by zero encountered in true_divide\n",
      "  return np.mean(np.abs((ytrue - ypred) / ytrue))\n",
      "/aul/homes/jshi008/IvyProjects/ICLR/02MQRNN/util.py:57: RuntimeWarning: divide by zero encountered in true_divide\n",
      "  return np.mean(np.abs((ytrue - ypred) / ytrue))\n"
     ]
    },
    {
     "name": "stdout",
     "output_type": "stream",
     "text": [
      "Prediction: 1502\n",
      "Prediction: 1503\n",
      "Prediction: 1504\n"
     ]
    },
    {
     "name": "stderr",
     "output_type": "stream",
     "text": [
      "/aul/homes/jshi008/IvyProjects/ICLR/02MQRNN/util.py:57: RuntimeWarning: divide by zero encountered in true_divide\n",
      "  return np.mean(np.abs((ytrue - ypred) / ytrue))\n",
      "/aul/homes/jshi008/IvyProjects/ICLR/02MQRNN/util.py:57: RuntimeWarning: divide by zero encountered in true_divide\n",
      "  return np.mean(np.abs((ytrue - ypred) / ytrue))\n",
      "/aul/homes/jshi008/IvyProjects/ICLR/02MQRNN/util.py:57: RuntimeWarning: divide by zero encountered in true_divide\n",
      "  return np.mean(np.abs((ytrue - ypred) / ytrue))\n",
      "/aul/homes/jshi008/IvyProjects/ICLR/02MQRNN/util.py:57: RuntimeWarning: divide by zero encountered in true_divide\n",
      "  return np.mean(np.abs((ytrue - ypred) / ytrue))\n"
     ]
    },
    {
     "name": "stdout",
     "output_type": "stream",
     "text": [
      "Prediction: 1505\n",
      "Prediction: 1506\n",
      "Prediction: 1507\n",
      "Prediction: 1508\n",
      "Prediction: 1509\n",
      "Prediction: 1510\n",
      "Prediction: 1511\n",
      "Prediction: 1512\n",
      "Prediction: 1513\n",
      "Prediction: 1514\n",
      "Prediction: 1515\n",
      "Prediction: 1516\n",
      "Prediction: 1517\n",
      "Prediction: 1518\n",
      "Prediction: 1519\n"
     ]
    },
    {
     "name": "stderr",
     "output_type": "stream",
     "text": [
      "/aul/homes/jshi008/IvyProjects/ICLR/02MQRNN/util.py:57: RuntimeWarning: divide by zero encountered in true_divide\n",
      "  return np.mean(np.abs((ytrue - ypred) / ytrue))\n",
      "/aul/homes/jshi008/IvyProjects/ICLR/02MQRNN/util.py:57: RuntimeWarning: divide by zero encountered in true_divide\n",
      "  return np.mean(np.abs((ytrue - ypred) / ytrue))\n",
      "/aul/homes/jshi008/IvyProjects/ICLR/02MQRNN/util.py:57: RuntimeWarning: divide by zero encountered in true_divide\n",
      "  return np.mean(np.abs((ytrue - ypred) / ytrue))\n"
     ]
    },
    {
     "name": "stdout",
     "output_type": "stream",
     "text": [
      "Prediction: 1520\n",
      "Prediction: 1521\n",
      "Prediction: 1522\n"
     ]
    },
    {
     "name": "stderr",
     "output_type": "stream",
     "text": [
      "/aul/homes/jshi008/IvyProjects/ICLR/02MQRNN/util.py:57: RuntimeWarning: divide by zero encountered in true_divide\n",
      "  return np.mean(np.abs((ytrue - ypred) / ytrue))\n",
      "/aul/homes/jshi008/IvyProjects/ICLR/02MQRNN/util.py:57: RuntimeWarning: divide by zero encountered in true_divide\n",
      "  return np.mean(np.abs((ytrue - ypred) / ytrue))\n",
      "/aul/homes/jshi008/IvyProjects/ICLR/02MQRNN/util.py:57: RuntimeWarning: divide by zero encountered in true_divide\n",
      "  return np.mean(np.abs((ytrue - ypred) / ytrue))\n",
      "/aul/homes/jshi008/IvyProjects/ICLR/02MQRNN/util.py:57: RuntimeWarning: divide by zero encountered in true_divide\n",
      "  return np.mean(np.abs((ytrue - ypred) / ytrue))\n",
      "/aul/homes/jshi008/IvyProjects/ICLR/02MQRNN/util.py:57: RuntimeWarning: divide by zero encountered in true_divide\n",
      "  return np.mean(np.abs((ytrue - ypred) / ytrue))\n"
     ]
    },
    {
     "name": "stdout",
     "output_type": "stream",
     "text": [
      "Prediction: 1523\n",
      "Prediction: 1524\n",
      "Prediction: 1525\n",
      "Prediction: 1526\n",
      "Prediction: 1527\n"
     ]
    },
    {
     "name": "stderr",
     "output_type": "stream",
     "text": [
      "/aul/homes/jshi008/IvyProjects/ICLR/02MQRNN/util.py:57: RuntimeWarning: divide by zero encountered in true_divide\n",
      "  return np.mean(np.abs((ytrue - ypred) / ytrue))\n",
      "/aul/homes/jshi008/IvyProjects/ICLR/02MQRNN/util.py:57: RuntimeWarning: divide by zero encountered in true_divide\n",
      "  return np.mean(np.abs((ytrue - ypred) / ytrue))\n",
      "/aul/homes/jshi008/IvyProjects/ICLR/02MQRNN/util.py:57: RuntimeWarning: divide by zero encountered in true_divide\n",
      "  return np.mean(np.abs((ytrue - ypred) / ytrue))\n"
     ]
    },
    {
     "name": "stdout",
     "output_type": "stream",
     "text": [
      "Prediction: 1528\n",
      "Prediction: 1529\n",
      "Prediction: 1530\n"
     ]
    },
    {
     "name": "stderr",
     "output_type": "stream",
     "text": [
      "/aul/homes/jshi008/IvyProjects/ICLR/02MQRNN/util.py:57: RuntimeWarning: divide by zero encountered in true_divide\n",
      "  return np.mean(np.abs((ytrue - ypred) / ytrue))\n",
      "/aul/homes/jshi008/IvyProjects/ICLR/02MQRNN/util.py:57: RuntimeWarning: divide by zero encountered in true_divide\n",
      "  return np.mean(np.abs((ytrue - ypred) / ytrue))\n",
      "/aul/homes/jshi008/IvyProjects/ICLR/02MQRNN/util.py:57: RuntimeWarning: divide by zero encountered in true_divide\n",
      "  return np.mean(np.abs((ytrue - ypred) / ytrue))\n",
      "/aul/homes/jshi008/IvyProjects/ICLR/02MQRNN/util.py:57: RuntimeWarning: divide by zero encountered in true_divide\n",
      "  return np.mean(np.abs((ytrue - ypred) / ytrue))\n",
      "/aul/homes/jshi008/IvyProjects/ICLR/02MQRNN/util.py:57: RuntimeWarning: divide by zero encountered in true_divide\n",
      "  return np.mean(np.abs((ytrue - ypred) / ytrue))\n"
     ]
    },
    {
     "name": "stdout",
     "output_type": "stream",
     "text": [
      "Prediction: 1531\n",
      "Prediction: 1532\n",
      "Prediction: 1533\n",
      "Prediction: 1534\n",
      "Prediction: 1535\n"
     ]
    },
    {
     "name": "stderr",
     "output_type": "stream",
     "text": [
      "/aul/homes/jshi008/IvyProjects/ICLR/02MQRNN/util.py:57: RuntimeWarning: divide by zero encountered in true_divide\n",
      "  return np.mean(np.abs((ytrue - ypred) / ytrue))\n",
      "/aul/homes/jshi008/IvyProjects/ICLR/02MQRNN/util.py:57: RuntimeWarning: divide by zero encountered in true_divide\n",
      "  return np.mean(np.abs((ytrue - ypred) / ytrue))\n",
      "/aul/homes/jshi008/IvyProjects/ICLR/02MQRNN/util.py:57: RuntimeWarning: divide by zero encountered in true_divide\n",
      "  return np.mean(np.abs((ytrue - ypred) / ytrue))\n"
     ]
    },
    {
     "name": "stdout",
     "output_type": "stream",
     "text": [
      "Prediction: 1536\n",
      "Prediction: 1537\n",
      "Prediction: 1538\n"
     ]
    },
    {
     "name": "stderr",
     "output_type": "stream",
     "text": [
      "/aul/homes/jshi008/IvyProjects/ICLR/02MQRNN/util.py:57: RuntimeWarning: divide by zero encountered in true_divide\n",
      "  return np.mean(np.abs((ytrue - ypred) / ytrue))\n",
      "/aul/homes/jshi008/IvyProjects/ICLR/02MQRNN/util.py:57: RuntimeWarning: divide by zero encountered in true_divide\n",
      "  return np.mean(np.abs((ytrue - ypred) / ytrue))\n",
      "/aul/homes/jshi008/IvyProjects/ICLR/02MQRNN/util.py:57: RuntimeWarning: divide by zero encountered in true_divide\n",
      "  return np.mean(np.abs((ytrue - ypred) / ytrue))\n",
      "/aul/homes/jshi008/IvyProjects/ICLR/02MQRNN/util.py:57: RuntimeWarning: divide by zero encountered in true_divide\n",
      "  return np.mean(np.abs((ytrue - ypred) / ytrue))\n"
     ]
    },
    {
     "name": "stdout",
     "output_type": "stream",
     "text": [
      "Prediction: 1539\n",
      "Prediction: 1540\n",
      "Prediction: 1541\n",
      "Prediction: 1542\n"
     ]
    },
    {
     "name": "stderr",
     "output_type": "stream",
     "text": [
      "/aul/homes/jshi008/IvyProjects/ICLR/02MQRNN/util.py:57: RuntimeWarning: divide by zero encountered in true_divide\n",
      "  return np.mean(np.abs((ytrue - ypred) / ytrue))\n"
     ]
    },
    {
     "name": "stdout",
     "output_type": "stream",
     "text": [
      "Prediction: 1543\n",
      "Prediction: 1544\n",
      "Prediction: 1545\n",
      "Prediction: 1546\n",
      "Prediction: 1547\n",
      "Prediction: 1548\n",
      "Prediction: 1549\n",
      "Prediction: 1550\n",
      "Prediction: 1551\n",
      "Prediction: 1552\n",
      "Prediction: 1553\n",
      "Prediction: 1554\n",
      "Prediction: 1555\n",
      "Prediction: 1556\n",
      "Prediction: 1557\n",
      "Prediction: 1558\n",
      "Prediction: 1559\n",
      "Prediction: 1560\n",
      "Prediction: 1561\n",
      "Prediction: 1562\n",
      "Prediction: 1563\n",
      "Prediction: 1564\n",
      "Prediction: 1565\n",
      "Prediction: 1566\n",
      "Prediction: 1567\n",
      "Prediction: 1568\n",
      "Prediction: 1569\n",
      "Prediction: 1570\n",
      "Prediction: 1571\n",
      "Prediction: 1572\n",
      "Prediction: 1573\n",
      "Prediction: 1574\n",
      "Prediction: 1575\n",
      "Prediction: 1576\n",
      "Prediction: 1577\n",
      "Prediction: 1578\n",
      "Prediction: 1579\n",
      "Prediction: 1580\n",
      "Prediction: 1581\n",
      "Prediction: 1582\n",
      "Prediction: 1583\n",
      "Prediction: 1584\n",
      "Prediction: 1585\n",
      "Prediction: 1586\n",
      "Prediction: 1587\n",
      "Prediction: 1588\n",
      "Prediction: 1589\n",
      "Prediction: 1590\n",
      "Prediction: 1591\n",
      "Prediction: 1592\n",
      "Prediction: 1593\n",
      "Prediction: 1594\n",
      "Prediction: 1595\n",
      "Prediction: 1596\n",
      "Prediction: 1597\n",
      "Prediction: 1598\n",
      "Prediction: 1599\n",
      "Prediction: 1600\n",
      "Prediction: 1601\n",
      "Prediction: 1602\n",
      "Prediction: 1603\n",
      "Prediction: 1604\n",
      "Prediction: 1605\n",
      "Prediction: 1606\n",
      "Prediction: 1607\n",
      "Prediction: 1608\n",
      "Prediction: 1609\n",
      "Prediction: 1610\n",
      "Prediction: 1611\n",
      "Prediction: 1612\n",
      "Prediction: 1613\n",
      "Prediction: 1614\n",
      "Prediction: 1615\n",
      "Prediction: 1616\n",
      "Prediction: 1617\n",
      "Prediction: 1618\n",
      "Prediction: 1619\n",
      "Prediction: 1620\n",
      "Prediction: 1621\n",
      "Prediction: 1622\n"
     ]
    },
    {
     "name": "stderr",
     "output_type": "stream",
     "text": [
      "/aul/homes/jshi008/IvyProjects/ICLR/02MQRNN/util.py:57: RuntimeWarning: divide by zero encountered in true_divide\n",
      "  return np.mean(np.abs((ytrue - ypred) / ytrue))\n",
      "/aul/homes/jshi008/IvyProjects/ICLR/02MQRNN/util.py:57: RuntimeWarning: divide by zero encountered in true_divide\n",
      "  return np.mean(np.abs((ytrue - ypred) / ytrue))\n",
      "/aul/homes/jshi008/IvyProjects/ICLR/02MQRNN/util.py:57: RuntimeWarning: divide by zero encountered in true_divide\n",
      "  return np.mean(np.abs((ytrue - ypred) / ytrue))\n",
      "/aul/homes/jshi008/IvyProjects/ICLR/02MQRNN/util.py:57: RuntimeWarning: divide by zero encountered in true_divide\n",
      "  return np.mean(np.abs((ytrue - ypred) / ytrue))\n"
     ]
    },
    {
     "name": "stdout",
     "output_type": "stream",
     "text": [
      "Prediction: 1623\n",
      "Prediction: 1624\n",
      "Prediction: 1625\n"
     ]
    },
    {
     "name": "stderr",
     "output_type": "stream",
     "text": [
      "/aul/homes/jshi008/IvyProjects/ICLR/02MQRNN/util.py:57: RuntimeWarning: divide by zero encountered in true_divide\n",
      "  return np.mean(np.abs((ytrue - ypred) / ytrue))\n",
      "/aul/homes/jshi008/IvyProjects/ICLR/02MQRNN/util.py:57: RuntimeWarning: divide by zero encountered in true_divide\n",
      "  return np.mean(np.abs((ytrue - ypred) / ytrue))\n",
      "/aul/homes/jshi008/IvyProjects/ICLR/02MQRNN/util.py:57: RuntimeWarning: divide by zero encountered in true_divide\n",
      "  return np.mean(np.abs((ytrue - ypred) / ytrue))\n",
      "/aul/homes/jshi008/IvyProjects/ICLR/02MQRNN/util.py:57: RuntimeWarning: divide by zero encountered in true_divide\n",
      "  return np.mean(np.abs((ytrue - ypred) / ytrue))\n"
     ]
    },
    {
     "name": "stdout",
     "output_type": "stream",
     "text": [
      "Prediction: 1626\n",
      "Prediction: 1627\n",
      "Prediction: 1628\n",
      "Prediction: 1629\n"
     ]
    },
    {
     "name": "stderr",
     "output_type": "stream",
     "text": [
      "/aul/homes/jshi008/IvyProjects/ICLR/02MQRNN/util.py:57: RuntimeWarning: divide by zero encountered in true_divide\n",
      "  return np.mean(np.abs((ytrue - ypred) / ytrue))\n",
      "/aul/homes/jshi008/IvyProjects/ICLR/02MQRNN/util.py:57: RuntimeWarning: divide by zero encountered in true_divide\n",
      "  return np.mean(np.abs((ytrue - ypred) / ytrue))\n",
      "/aul/homes/jshi008/IvyProjects/ICLR/02MQRNN/util.py:57: RuntimeWarning: divide by zero encountered in true_divide\n",
      "  return np.mean(np.abs((ytrue - ypred) / ytrue))\n",
      "/aul/homes/jshi008/IvyProjects/ICLR/02MQRNN/util.py:57: RuntimeWarning: divide by zero encountered in true_divide\n",
      "  return np.mean(np.abs((ytrue - ypred) / ytrue))\n",
      "/aul/homes/jshi008/IvyProjects/ICLR/02MQRNN/util.py:57: RuntimeWarning: divide by zero encountered in true_divide\n",
      "  return np.mean(np.abs((ytrue - ypred) / ytrue))\n"
     ]
    },
    {
     "name": "stdout",
     "output_type": "stream",
     "text": [
      "Prediction: 1630\n",
      "Prediction: 1631\n",
      "Prediction: 1632\n"
     ]
    },
    {
     "name": "stderr",
     "output_type": "stream",
     "text": [
      "/aul/homes/jshi008/IvyProjects/ICLR/02MQRNN/util.py:57: RuntimeWarning: divide by zero encountered in true_divide\n",
      "  return np.mean(np.abs((ytrue - ypred) / ytrue))\n",
      "/aul/homes/jshi008/IvyProjects/ICLR/02MQRNN/util.py:57: RuntimeWarning: divide by zero encountered in true_divide\n",
      "  return np.mean(np.abs((ytrue - ypred) / ytrue))\n",
      "/aul/homes/jshi008/IvyProjects/ICLR/02MQRNN/util.py:57: RuntimeWarning: divide by zero encountered in true_divide\n",
      "  return np.mean(np.abs((ytrue - ypred) / ytrue))\n"
     ]
    },
    {
     "name": "stdout",
     "output_type": "stream",
     "text": [
      "Prediction: 1633\n",
      "Prediction: 1634\n",
      "Prediction: 1635\n"
     ]
    },
    {
     "name": "stderr",
     "output_type": "stream",
     "text": [
      "/aul/homes/jshi008/IvyProjects/ICLR/02MQRNN/util.py:57: RuntimeWarning: divide by zero encountered in true_divide\n",
      "  return np.mean(np.abs((ytrue - ypred) / ytrue))\n",
      "/aul/homes/jshi008/IvyProjects/ICLR/02MQRNN/util.py:57: RuntimeWarning: divide by zero encountered in true_divide\n",
      "  return np.mean(np.abs((ytrue - ypred) / ytrue))\n",
      "/aul/homes/jshi008/IvyProjects/ICLR/02MQRNN/util.py:57: RuntimeWarning: divide by zero encountered in true_divide\n",
      "  return np.mean(np.abs((ytrue - ypred) / ytrue))\n",
      "/aul/homes/jshi008/IvyProjects/ICLR/02MQRNN/util.py:57: RuntimeWarning: divide by zero encountered in true_divide\n",
      "  return np.mean(np.abs((ytrue - ypred) / ytrue))\n"
     ]
    },
    {
     "name": "stdout",
     "output_type": "stream",
     "text": [
      "Prediction: 1636\n",
      "Prediction: 1637\n",
      "Prediction: 1638\n",
      "Prediction: 1639\n"
     ]
    },
    {
     "name": "stderr",
     "output_type": "stream",
     "text": [
      "/aul/homes/jshi008/IvyProjects/ICLR/02MQRNN/util.py:57: RuntimeWarning: divide by zero encountered in true_divide\n",
      "  return np.mean(np.abs((ytrue - ypred) / ytrue))\n",
      "/aul/homes/jshi008/IvyProjects/ICLR/02MQRNN/util.py:57: RuntimeWarning: divide by zero encountered in true_divide\n",
      "  return np.mean(np.abs((ytrue - ypred) / ytrue))\n",
      "/aul/homes/jshi008/IvyProjects/ICLR/02MQRNN/util.py:57: RuntimeWarning: divide by zero encountered in true_divide\n",
      "  return np.mean(np.abs((ytrue - ypred) / ytrue))\n",
      "/aul/homes/jshi008/IvyProjects/ICLR/02MQRNN/util.py:57: RuntimeWarning: divide by zero encountered in true_divide\n",
      "  return np.mean(np.abs((ytrue - ypred) / ytrue))\n"
     ]
    },
    {
     "name": "stdout",
     "output_type": "stream",
     "text": [
      "Prediction: 1640\n",
      "Prediction: 1641\n",
      "Prediction: 1642\n",
      "Prediction: 1643\n",
      "Prediction: 1644\n",
      "Prediction: 1645\n",
      "Prediction: 1646\n",
      "Prediction: 1647\n",
      "Prediction: 1648\n",
      "Prediction: 1649\n",
      "Prediction: 1650\n",
      "Prediction: 1651\n",
      "Prediction: 1652\n",
      "Prediction: 1653\n",
      "Prediction: 1654\n",
      "Prediction: 1655\n",
      "Prediction: 1656\n",
      "Prediction: 1657\n",
      "Prediction: 1658\n",
      "Prediction: 1659\n",
      "Prediction: 1660\n",
      "Prediction: 1661\n",
      "Prediction: 1662\n",
      "Prediction: 1663\n",
      "Prediction: 1664\n",
      "Prediction: 1665\n",
      "Prediction: 1666\n",
      "Prediction: 1667\n",
      "Prediction: 1668\n",
      "Prediction: 1669\n",
      "Prediction: 1670\n",
      "Prediction: 1671\n",
      "Prediction: 1672\n",
      "Prediction: 1673\n",
      "Prediction: 1674\n",
      "Prediction: 1675\n",
      "Prediction: 1676\n",
      "Prediction: 1677\n",
      "Prediction: 1678\n",
      "Prediction: 1679\n",
      "Prediction: 1680\n",
      "Prediction: 1681\n",
      "Prediction: 1682\n",
      "Prediction: 1683\n",
      "Prediction: 1684\n",
      "Prediction: 1685\n",
      "Prediction: 1686\n",
      "Prediction: 1687\n",
      "Prediction: 1688\n",
      "Prediction: 1689\n",
      "Prediction: 1690\n",
      "Prediction: 1691\n",
      "Prediction: 1692\n",
      "Prediction: 1693\n",
      "Prediction: 1694\n",
      "Prediction: 1695\n",
      "Prediction: 1696\n",
      "Prediction: 1697\n",
      "Prediction: 1698\n",
      "Prediction: 1699\n",
      "Prediction: 1700\n",
      "Prediction: 1701\n",
      "Prediction: 1702\n",
      "Prediction: 1703\n",
      "Prediction: 1704\n",
      "Prediction: 1705\n",
      "Prediction: 1706\n",
      "Prediction: 1707\n",
      "Prediction: 1708\n",
      "Prediction: 1709\n",
      "Prediction: 1710\n",
      "Prediction: 1711\n",
      "Prediction: 1712\n",
      "Prediction: 1713\n",
      "Prediction: 1714\n",
      "Prediction: 1715\n",
      "Prediction: 1716\n",
      "Prediction: 1717\n",
      "Prediction: 1718\n",
      "Prediction: 1719\n",
      "Prediction: 1720\n",
      "Prediction: 1721\n",
      "Prediction: 1722\n",
      "Prediction: 1723\n",
      "Prediction: 1724\n",
      "Prediction: 1725\n",
      "Prediction: 1726\n",
      "Prediction: 1727\n",
      "Prediction: 1728\n",
      "Prediction: 1729\n",
      "Prediction: 1730\n",
      "Prediction: 1731\n",
      "Prediction: 1732\n",
      "Prediction: 1733\n",
      "Prediction: 1734\n",
      "Prediction: 1735\n",
      "Prediction: 1736\n",
      "Prediction: 1737\n",
      "Prediction: 1738\n",
      "Prediction: 1739\n",
      "Prediction: 1740\n",
      "Prediction: 1741\n",
      "Prediction: 1742\n",
      "Prediction: 1743\n",
      "Prediction: 1744\n",
      "Prediction: 1745\n",
      "Prediction: 1746\n",
      "Prediction: 1747\n",
      "Prediction: 1748\n",
      "Prediction: 1749\n",
      "Prediction: 1750\n",
      "Prediction: 1751\n",
      "Prediction: 1752\n",
      "Prediction: 1753\n",
      "Prediction: 1754\n",
      "Prediction: 1755\n",
      "Prediction: 1756\n",
      "Prediction: 1757\n",
      "Prediction: 1758\n",
      "Prediction: 1759\n",
      "Prediction: 1760\n",
      "Prediction: 1761\n",
      "Prediction: 1762\n",
      "Prediction: 1763\n",
      "Prediction: 1764\n",
      "Prediction: 1765\n",
      "Prediction: 1766\n",
      "Prediction: 1767\n",
      "Prediction: 1768\n",
      "Prediction: 1769\n",
      "Prediction: 1770\n",
      "Prediction: 1771\n",
      "Prediction: 1772\n",
      "Prediction: 1773\n",
      "Prediction: 1774\n",
      "Prediction: 1775\n",
      "Prediction: 1776\n",
      "Prediction: 1777\n",
      "Prediction: 1778\n",
      "Prediction: 1779\n",
      "Prediction: 1780\n",
      "Prediction: 1781\n",
      "Prediction: 1782\n",
      "Prediction: 1783\n",
      "Prediction: 1784\n",
      "Prediction: 1785\n",
      "Prediction: 1786\n",
      "Prediction: 1787\n",
      "Prediction: 1788\n",
      "Prediction: 1789\n",
      "Prediction: 1790\n",
      "Prediction: 1791\n",
      "Prediction: 1792\n",
      "Prediction: 1793\n",
      "Prediction: 1794\n",
      "Prediction: 1795\n",
      "Prediction: 1796\n",
      "Prediction: 1797\n",
      "Prediction: 1798\n",
      "Prediction: 1799\n",
      "Prediction: 1800\n",
      "Prediction: 1801\n",
      "Prediction: 1802\n",
      "Prediction: 1803\n",
      "Prediction: 1804\n",
      "Prediction: 1805\n",
      "Prediction: 1806\n",
      "Prediction: 1807\n",
      "Prediction: 1808\n",
      "Prediction: 1809\n",
      "Prediction: 1810\n",
      "Prediction: 1811\n",
      "Prediction: 1812\n",
      "Prediction: 1813\n",
      "Prediction: 1814\n",
      "Prediction: 1815\n",
      "Prediction: 1816\n",
      "Prediction: 1817\n",
      "Prediction: 1818\n"
     ]
    },
    {
     "name": "stderr",
     "output_type": "stream",
     "text": [
      "/aul/homes/jshi008/IvyProjects/ICLR/02MQRNN/util.py:57: RuntimeWarning: divide by zero encountered in true_divide\n",
      "  return np.mean(np.abs((ytrue - ypred) / ytrue))\n",
      "/aul/homes/jshi008/IvyProjects/ICLR/02MQRNN/util.py:57: RuntimeWarning: divide by zero encountered in true_divide\n",
      "  return np.mean(np.abs((ytrue - ypred) / ytrue))\n"
     ]
    },
    {
     "name": "stdout",
     "output_type": "stream",
     "text": [
      "Prediction: 1819\n",
      "Prediction: 1820\n"
     ]
    },
    {
     "name": "stderr",
     "output_type": "stream",
     "text": [
      "/aul/homes/jshi008/IvyProjects/ICLR/02MQRNN/util.py:57: RuntimeWarning: divide by zero encountered in true_divide\n",
      "  return np.mean(np.abs((ytrue - ypred) / ytrue))\n",
      "/aul/homes/jshi008/IvyProjects/ICLR/02MQRNN/util.py:57: RuntimeWarning: divide by zero encountered in true_divide\n",
      "  return np.mean(np.abs((ytrue - ypred) / ytrue))\n",
      "/aul/homes/jshi008/IvyProjects/ICLR/02MQRNN/util.py:57: RuntimeWarning: divide by zero encountered in true_divide\n",
      "  return np.mean(np.abs((ytrue - ypred) / ytrue))\n"
     ]
    },
    {
     "name": "stdout",
     "output_type": "stream",
     "text": [
      "Prediction: 1821\n",
      "Prediction: 1822\n",
      "Prediction: 1823\n",
      "Prediction: 1824\n"
     ]
    },
    {
     "name": "stderr",
     "output_type": "stream",
     "text": [
      "/aul/homes/jshi008/IvyProjects/ICLR/02MQRNN/util.py:57: RuntimeWarning: divide by zero encountered in true_divide\n",
      "  return np.mean(np.abs((ytrue - ypred) / ytrue))\n",
      "/aul/homes/jshi008/IvyProjects/ICLR/02MQRNN/util.py:57: RuntimeWarning: divide by zero encountered in true_divide\n",
      "  return np.mean(np.abs((ytrue - ypred) / ytrue))\n",
      "/aul/homes/jshi008/IvyProjects/ICLR/02MQRNN/util.py:57: RuntimeWarning: divide by zero encountered in true_divide\n",
      "  return np.mean(np.abs((ytrue - ypred) / ytrue))\n",
      "/aul/homes/jshi008/IvyProjects/ICLR/02MQRNN/util.py:57: RuntimeWarning: divide by zero encountered in true_divide\n",
      "  return np.mean(np.abs((ytrue - ypred) / ytrue))\n"
     ]
    },
    {
     "name": "stdout",
     "output_type": "stream",
     "text": [
      "Prediction: 1825\n",
      "Prediction: 1826\n",
      "Prediction: 1827\n",
      "Prediction: 1828\n"
     ]
    },
    {
     "name": "stderr",
     "output_type": "stream",
     "text": [
      "/aul/homes/jshi008/IvyProjects/ICLR/02MQRNN/util.py:57: RuntimeWarning: divide by zero encountered in true_divide\n",
      "  return np.mean(np.abs((ytrue - ypred) / ytrue))\n",
      "/aul/homes/jshi008/IvyProjects/ICLR/02MQRNN/util.py:57: RuntimeWarning: divide by zero encountered in true_divide\n",
      "  return np.mean(np.abs((ytrue - ypred) / ytrue))\n",
      "/aul/homes/jshi008/IvyProjects/ICLR/02MQRNN/util.py:57: RuntimeWarning: divide by zero encountered in true_divide\n",
      "  return np.mean(np.abs((ytrue - ypred) / ytrue))\n",
      "/aul/homes/jshi008/IvyProjects/ICLR/02MQRNN/util.py:57: RuntimeWarning: divide by zero encountered in true_divide\n",
      "  return np.mean(np.abs((ytrue - ypred) / ytrue))\n",
      "/aul/homes/jshi008/IvyProjects/ICLR/02MQRNN/util.py:57: RuntimeWarning: divide by zero encountered in true_divide\n",
      "  return np.mean(np.abs((ytrue - ypred) / ytrue))\n"
     ]
    },
    {
     "name": "stdout",
     "output_type": "stream",
     "text": [
      "Prediction: 1829\n",
      "Prediction: 1830\n",
      "Prediction: 1831\n",
      "Prediction: 1832\n"
     ]
    },
    {
     "name": "stderr",
     "output_type": "stream",
     "text": [
      "/aul/homes/jshi008/IvyProjects/ICLR/02MQRNN/util.py:57: RuntimeWarning: divide by zero encountered in true_divide\n",
      "  return np.mean(np.abs((ytrue - ypred) / ytrue))\n",
      "/aul/homes/jshi008/IvyProjects/ICLR/02MQRNN/util.py:57: RuntimeWarning: divide by zero encountered in true_divide\n",
      "  return np.mean(np.abs((ytrue - ypred) / ytrue))\n",
      "/aul/homes/jshi008/IvyProjects/ICLR/02MQRNN/util.py:57: RuntimeWarning: divide by zero encountered in true_divide\n",
      "  return np.mean(np.abs((ytrue - ypred) / ytrue))\n"
     ]
    },
    {
     "name": "stdout",
     "output_type": "stream",
     "text": [
      "Prediction: 1833\n",
      "Prediction: 1834\n",
      "Prediction: 1835\n",
      "Prediction: 1836\n",
      "Prediction: 1837\n"
     ]
    },
    {
     "name": "stderr",
     "output_type": "stream",
     "text": [
      "/aul/homes/jshi008/IvyProjects/ICLR/02MQRNN/util.py:57: RuntimeWarning: divide by zero encountered in true_divide\n",
      "  return np.mean(np.abs((ytrue - ypred) / ytrue))\n",
      "/aul/homes/jshi008/IvyProjects/ICLR/02MQRNN/util.py:57: RuntimeWarning: divide by zero encountered in true_divide\n",
      "  return np.mean(np.abs((ytrue - ypred) / ytrue))\n",
      "/aul/homes/jshi008/IvyProjects/ICLR/02MQRNN/util.py:57: RuntimeWarning: divide by zero encountered in true_divide\n",
      "  return np.mean(np.abs((ytrue - ypred) / ytrue))\n",
      "/aul/homes/jshi008/IvyProjects/ICLR/02MQRNN/util.py:57: RuntimeWarning: divide by zero encountered in true_divide\n",
      "  return np.mean(np.abs((ytrue - ypred) / ytrue))\n",
      "/aul/homes/jshi008/IvyProjects/ICLR/02MQRNN/util.py:57: RuntimeWarning: divide by zero encountered in true_divide\n",
      "  return np.mean(np.abs((ytrue - ypred) / ytrue))\n"
     ]
    },
    {
     "name": "stdout",
     "output_type": "stream",
     "text": [
      "Prediction: 1838\n",
      "Prediction: 1839\n",
      "Prediction: 1840\n",
      "Prediction: 1841\n",
      "Prediction: 1842\n"
     ]
    },
    {
     "name": "stderr",
     "output_type": "stream",
     "text": [
      "/aul/homes/jshi008/IvyProjects/ICLR/02MQRNN/util.py:57: RuntimeWarning: divide by zero encountered in true_divide\n",
      "  return np.mean(np.abs((ytrue - ypred) / ytrue))\n",
      "/aul/homes/jshi008/IvyProjects/ICLR/02MQRNN/util.py:57: RuntimeWarning: divide by zero encountered in true_divide\n",
      "  return np.mean(np.abs((ytrue - ypred) / ytrue))\n",
      "/aul/homes/jshi008/IvyProjects/ICLR/02MQRNN/util.py:57: RuntimeWarning: divide by zero encountered in true_divide\n",
      "  return np.mean(np.abs((ytrue - ypred) / ytrue))\n",
      "/aul/homes/jshi008/IvyProjects/ICLR/02MQRNN/util.py:57: RuntimeWarning: divide by zero encountered in true_divide\n",
      "  return np.mean(np.abs((ytrue - ypred) / ytrue))\n",
      "/aul/homes/jshi008/IvyProjects/ICLR/02MQRNN/util.py:57: RuntimeWarning: divide by zero encountered in true_divide\n",
      "  return np.mean(np.abs((ytrue - ypred) / ytrue))\n"
     ]
    },
    {
     "name": "stdout",
     "output_type": "stream",
     "text": [
      "Prediction: 1843\n",
      "Prediction: 1844\n",
      "Prediction: 1845\n",
      "Prediction: 1846\n",
      "Prediction: 1847\n"
     ]
    },
    {
     "name": "stderr",
     "output_type": "stream",
     "text": [
      "/aul/homes/jshi008/IvyProjects/ICLR/02MQRNN/util.py:57: RuntimeWarning: divide by zero encountered in true_divide\n",
      "  return np.mean(np.abs((ytrue - ypred) / ytrue))\n",
      "/aul/homes/jshi008/IvyProjects/ICLR/02MQRNN/util.py:57: RuntimeWarning: divide by zero encountered in true_divide\n",
      "  return np.mean(np.abs((ytrue - ypred) / ytrue))\n",
      "/aul/homes/jshi008/IvyProjects/ICLR/02MQRNN/util.py:57: RuntimeWarning: divide by zero encountered in true_divide\n",
      "  return np.mean(np.abs((ytrue - ypred) / ytrue))\n",
      "/aul/homes/jshi008/IvyProjects/ICLR/02MQRNN/util.py:57: RuntimeWarning: divide by zero encountered in true_divide\n",
      "  return np.mean(np.abs((ytrue - ypred) / ytrue))\n"
     ]
    },
    {
     "name": "stdout",
     "output_type": "stream",
     "text": [
      "Prediction: 1848\n",
      "Prediction: 1849\n"
     ]
    },
    {
     "name": "stderr",
     "output_type": "stream",
     "text": [
      "/aul/homes/jshi008/IvyProjects/ICLR/02MQRNN/util.py:57: RuntimeWarning: divide by zero encountered in true_divide\n",
      "  return np.mean(np.abs((ytrue - ypred) / ytrue))\n",
      "/aul/homes/jshi008/IvyProjects/ICLR/02MQRNN/util.py:57: RuntimeWarning: divide by zero encountered in true_divide\n",
      "  return np.mean(np.abs((ytrue - ypred) / ytrue))\n"
     ]
    },
    {
     "name": "stdout",
     "output_type": "stream",
     "text": [
      "Prediction: 1850\n",
      "Prediction: 1851\n"
     ]
    },
    {
     "name": "stderr",
     "output_type": "stream",
     "text": [
      "/aul/homes/jshi008/IvyProjects/ICLR/02MQRNN/util.py:57: RuntimeWarning: divide by zero encountered in true_divide\n",
      "  return np.mean(np.abs((ytrue - ypred) / ytrue))\n",
      "/aul/homes/jshi008/IvyProjects/ICLR/02MQRNN/util.py:57: RuntimeWarning: divide by zero encountered in true_divide\n",
      "  return np.mean(np.abs((ytrue - ypred) / ytrue))\n",
      "/aul/homes/jshi008/IvyProjects/ICLR/02MQRNN/util.py:57: RuntimeWarning: divide by zero encountered in true_divide\n",
      "  return np.mean(np.abs((ytrue - ypred) / ytrue))\n",
      "/aul/homes/jshi008/IvyProjects/ICLR/02MQRNN/util.py:57: RuntimeWarning: divide by zero encountered in true_divide\n",
      "  return np.mean(np.abs((ytrue - ypred) / ytrue))\n"
     ]
    },
    {
     "name": "stdout",
     "output_type": "stream",
     "text": [
      "Prediction: 1852\n",
      "Prediction: 1853\n",
      "Prediction: 1854\n",
      "Prediction: 1855\n"
     ]
    },
    {
     "name": "stderr",
     "output_type": "stream",
     "text": [
      "/aul/homes/jshi008/IvyProjects/ICLR/02MQRNN/util.py:57: RuntimeWarning: divide by zero encountered in true_divide\n",
      "  return np.mean(np.abs((ytrue - ypred) / ytrue))\n"
     ]
    },
    {
     "name": "stdout",
     "output_type": "stream",
     "text": [
      "Prediction: 1856\n",
      "Prediction: 1857\n",
      "Prediction: 1858\n",
      "Prediction: 1859\n",
      "Prediction: 1860\n",
      "Prediction: 1861\n",
      "Prediction: 1862\n",
      "Prediction: 1863\n",
      "Prediction: 1864\n",
      "Prediction: 1865\n",
      "Prediction: 1866\n",
      "Prediction: 1867\n",
      "Prediction: 1868\n",
      "Prediction: 1869\n",
      "Prediction: 1870\n",
      "Prediction: 1871\n",
      "Prediction: 1872\n",
      "Prediction: 1873\n",
      "Prediction: 1874\n",
      "Prediction: 1875\n",
      "Prediction: 1876\n",
      "Prediction: 1877\n",
      "Prediction: 1878\n",
      "Prediction: 1879\n",
      "Prediction: 1880\n",
      "Prediction: 1881\n",
      "Prediction: 1882\n",
      "Prediction: 1883\n",
      "Prediction: 1884\n",
      "Prediction: 1885\n",
      "Prediction: 1886\n",
      "Prediction: 1887\n",
      "Prediction: 1888\n",
      "Prediction: 1889\n",
      "Prediction: 1890\n",
      "Prediction: 1891\n",
      "Prediction: 1892\n",
      "Prediction: 1893\n",
      "Prediction: 1894\n",
      "Prediction: 1895\n",
      "Prediction: 1896\n",
      "Prediction: 1897\n",
      "Prediction: 1898\n",
      "Prediction: 1899\n",
      "Prediction: 1900\n",
      "Prediction: 1901\n",
      "Prediction: 1902\n",
      "Prediction: 1903\n",
      "Prediction: 1904\n",
      "Prediction: 1905\n",
      "Prediction: 1906\n",
      "Prediction: 1907\n",
      "Prediction: 1908\n",
      "Prediction: 1909\n",
      "Prediction: 1910\n",
      "Prediction: 1911\n",
      "Prediction: 1912\n",
      "Prediction: 1913\n",
      "Prediction: 1914\n",
      "Prediction: 1915\n",
      "Prediction: 1916\n",
      "Prediction: 1917\n",
      "Prediction: 1918\n",
      "Prediction: 1919\n",
      "Prediction: 1920\n",
      "Prediction: 1921\n",
      "Prediction: 1922\n",
      "Prediction: 1923\n",
      "Prediction: 1924\n",
      "Prediction: 1925\n",
      "Prediction: 1926\n",
      "Prediction: 1927\n",
      "Prediction: 1928\n",
      "Prediction: 1929\n",
      "Prediction: 1930\n",
      "Prediction: 1931\n",
      "Prediction: 1932\n",
      "Prediction: 1933\n",
      "Prediction: 1934\n",
      "Prediction: 1935\n",
      "Prediction: 1936\n",
      "Prediction: 1937\n",
      "Prediction: 1938\n",
      "Prediction: 1939\n",
      "Prediction: 1940\n",
      "Prediction: 1941\n",
      "Prediction: 1942\n",
      "Prediction: 1943\n",
      "Prediction: 1944\n",
      "Prediction: 1945\n",
      "Prediction: 1946\n",
      "Prediction: 1947\n",
      "Prediction: 1948\n",
      "Prediction: 1949\n",
      "Prediction: 1950\n",
      "Prediction: 1951\n",
      "Prediction: 1952\n",
      "Prediction: 1953\n",
      "Prediction: 1954\n",
      "Prediction: 1955\n",
      "Prediction: 1956\n",
      "Prediction: 1957\n",
      "Prediction: 1958\n",
      "Prediction: 1959\n",
      "Prediction: 1960\n",
      "Prediction: 1961\n",
      "Prediction: 1962\n",
      "Prediction: 1963\n",
      "Prediction: 1964\n",
      "Prediction: 1965\n",
      "Prediction: 1966\n"
     ]
    },
    {
     "name": "stderr",
     "output_type": "stream",
     "text": [
      "/aul/homes/jshi008/IvyProjects/ICLR/02MQRNN/util.py:57: RuntimeWarning: divide by zero encountered in true_divide\n",
      "  return np.mean(np.abs((ytrue - ypred) / ytrue))\n",
      "/aul/homes/jshi008/IvyProjects/ICLR/02MQRNN/util.py:57: RuntimeWarning: divide by zero encountered in true_divide\n",
      "  return np.mean(np.abs((ytrue - ypred) / ytrue))\n",
      "/aul/homes/jshi008/IvyProjects/ICLR/02MQRNN/util.py:57: RuntimeWarning: divide by zero encountered in true_divide\n",
      "  return np.mean(np.abs((ytrue - ypred) / ytrue))\n",
      "/aul/homes/jshi008/IvyProjects/ICLR/02MQRNN/util.py:57: RuntimeWarning: divide by zero encountered in true_divide\n",
      "  return np.mean(np.abs((ytrue - ypred) / ytrue))\n",
      "/aul/homes/jshi008/IvyProjects/ICLR/02MQRNN/util.py:57: RuntimeWarning: divide by zero encountered in true_divide\n",
      "  return np.mean(np.abs((ytrue - ypred) / ytrue))\n",
      "/aul/homes/jshi008/IvyProjects/ICLR/02MQRNN/util.py:57: RuntimeWarning: divide by zero encountered in true_divide\n",
      "  return np.mean(np.abs((ytrue - ypred) / ytrue))\n"
     ]
    },
    {
     "name": "stdout",
     "output_type": "stream",
     "text": [
      "Prediction: 1967\n",
      "Prediction: 1968\n"
     ]
    },
    {
     "name": "stderr",
     "output_type": "stream",
     "text": [
      "/aul/homes/jshi008/IvyProjects/ICLR/02MQRNN/util.py:57: RuntimeWarning: divide by zero encountered in true_divide\n",
      "  return np.mean(np.abs((ytrue - ypred) / ytrue))\n",
      "/aul/homes/jshi008/IvyProjects/ICLR/02MQRNN/util.py:57: RuntimeWarning: divide by zero encountered in true_divide\n",
      "  return np.mean(np.abs((ytrue - ypred) / ytrue))\n",
      "/aul/homes/jshi008/IvyProjects/ICLR/02MQRNN/util.py:57: RuntimeWarning: divide by zero encountered in true_divide\n",
      "  return np.mean(np.abs((ytrue - ypred) / ytrue))\n"
     ]
    },
    {
     "name": "stdout",
     "output_type": "stream",
     "text": [
      "Prediction: 1969\n",
      "Prediction: 1970\n",
      "Prediction: 1971\n"
     ]
    },
    {
     "name": "stderr",
     "output_type": "stream",
     "text": [
      "/aul/homes/jshi008/IvyProjects/ICLR/02MQRNN/util.py:57: RuntimeWarning: divide by zero encountered in true_divide\n",
      "  return np.mean(np.abs((ytrue - ypred) / ytrue))\n",
      "/aul/homes/jshi008/IvyProjects/ICLR/02MQRNN/util.py:57: RuntimeWarning: divide by zero encountered in true_divide\n",
      "  return np.mean(np.abs((ytrue - ypred) / ytrue))\n",
      "/aul/homes/jshi008/IvyProjects/ICLR/02MQRNN/util.py:57: RuntimeWarning: divide by zero encountered in true_divide\n",
      "  return np.mean(np.abs((ytrue - ypred) / ytrue))\n",
      "/aul/homes/jshi008/IvyProjects/ICLR/02MQRNN/util.py:57: RuntimeWarning: divide by zero encountered in true_divide\n",
      "  return np.mean(np.abs((ytrue - ypred) / ytrue))\n",
      "/aul/homes/jshi008/IvyProjects/ICLR/02MQRNN/util.py:57: RuntimeWarning: divide by zero encountered in true_divide\n",
      "  return np.mean(np.abs((ytrue - ypred) / ytrue))\n"
     ]
    },
    {
     "name": "stdout",
     "output_type": "stream",
     "text": [
      "Prediction: 1972\n",
      "Prediction: 1973\n",
      "Prediction: 1974\n",
      "Prediction: 1975\n",
      "Prediction: 1976\n"
     ]
    },
    {
     "name": "stderr",
     "output_type": "stream",
     "text": [
      "/aul/homes/jshi008/IvyProjects/ICLR/02MQRNN/util.py:57: RuntimeWarning: divide by zero encountered in true_divide\n",
      "  return np.mean(np.abs((ytrue - ypred) / ytrue))\n",
      "/aul/homes/jshi008/IvyProjects/ICLR/02MQRNN/util.py:57: RuntimeWarning: divide by zero encountered in true_divide\n",
      "  return np.mean(np.abs((ytrue - ypred) / ytrue))\n",
      "/aul/homes/jshi008/IvyProjects/ICLR/02MQRNN/util.py:57: RuntimeWarning: divide by zero encountered in true_divide\n",
      "  return np.mean(np.abs((ytrue - ypred) / ytrue))\n",
      "/aul/homes/jshi008/IvyProjects/ICLR/02MQRNN/util.py:57: RuntimeWarning: divide by zero encountered in true_divide\n",
      "  return np.mean(np.abs((ytrue - ypred) / ytrue))\n"
     ]
    },
    {
     "name": "stdout",
     "output_type": "stream",
     "text": [
      "Prediction: 1977\n",
      "Prediction: 1978\n",
      "Prediction: 1979\n",
      "Prediction: 1980\n"
     ]
    },
    {
     "name": "stderr",
     "output_type": "stream",
     "text": [
      "/aul/homes/jshi008/IvyProjects/ICLR/02MQRNN/util.py:57: RuntimeWarning: divide by zero encountered in true_divide\n",
      "  return np.mean(np.abs((ytrue - ypred) / ytrue))\n",
      "/aul/homes/jshi008/IvyProjects/ICLR/02MQRNN/util.py:57: RuntimeWarning: divide by zero encountered in true_divide\n",
      "  return np.mean(np.abs((ytrue - ypred) / ytrue))\n",
      "/aul/homes/jshi008/IvyProjects/ICLR/02MQRNN/util.py:57: RuntimeWarning: divide by zero encountered in true_divide\n",
      "  return np.mean(np.abs((ytrue - ypred) / ytrue))\n",
      "/aul/homes/jshi008/IvyProjects/ICLR/02MQRNN/util.py:57: RuntimeWarning: divide by zero encountered in true_divide\n",
      "  return np.mean(np.abs((ytrue - ypred) / ytrue))\n"
     ]
    },
    {
     "name": "stdout",
     "output_type": "stream",
     "text": [
      "Prediction: 1981\n",
      "Prediction: 1982\n",
      "Prediction: 1983\n",
      "Prediction: 1984\n"
     ]
    },
    {
     "name": "stderr",
     "output_type": "stream",
     "text": [
      "/aul/homes/jshi008/IvyProjects/ICLR/02MQRNN/util.py:57: RuntimeWarning: divide by zero encountered in true_divide\n",
      "  return np.mean(np.abs((ytrue - ypred) / ytrue))\n",
      "/aul/homes/jshi008/IvyProjects/ICLR/02MQRNN/util.py:57: RuntimeWarning: divide by zero encountered in true_divide\n",
      "  return np.mean(np.abs((ytrue - ypred) / ytrue))\n",
      "/aul/homes/jshi008/IvyProjects/ICLR/02MQRNN/util.py:57: RuntimeWarning: divide by zero encountered in true_divide\n",
      "  return np.mean(np.abs((ytrue - ypred) / ytrue))\n",
      "/aul/homes/jshi008/IvyProjects/ICLR/02MQRNN/util.py:57: RuntimeWarning: divide by zero encountered in true_divide\n",
      "  return np.mean(np.abs((ytrue - ypred) / ytrue))\n"
     ]
    },
    {
     "name": "stdout",
     "output_type": "stream",
     "text": [
      "Prediction: 1985\n",
      "Prediction: 1986\n",
      "Prediction: 1987\n",
      "Prediction: 1988\n"
     ]
    },
    {
     "name": "stderr",
     "output_type": "stream",
     "text": [
      "/aul/homes/jshi008/IvyProjects/ICLR/02MQRNN/util.py:57: RuntimeWarning: divide by zero encountered in true_divide\n",
      "  return np.mean(np.abs((ytrue - ypred) / ytrue))\n",
      "/aul/homes/jshi008/IvyProjects/ICLR/02MQRNN/util.py:57: RuntimeWarning: divide by zero encountered in true_divide\n",
      "  return np.mean(np.abs((ytrue - ypred) / ytrue))\n",
      "/aul/homes/jshi008/IvyProjects/ICLR/02MQRNN/util.py:57: RuntimeWarning: divide by zero encountered in true_divide\n",
      "  return np.mean(np.abs((ytrue - ypred) / ytrue))\n",
      "/aul/homes/jshi008/IvyProjects/ICLR/02MQRNN/util.py:57: RuntimeWarning: divide by zero encountered in true_divide\n",
      "  return np.mean(np.abs((ytrue - ypred) / ytrue))\n",
      "/aul/homes/jshi008/IvyProjects/ICLR/02MQRNN/util.py:57: RuntimeWarning: divide by zero encountered in true_divide\n",
      "  return np.mean(np.abs((ytrue - ypred) / ytrue))\n"
     ]
    },
    {
     "name": "stdout",
     "output_type": "stream",
     "text": [
      "Prediction: 1989\n",
      "Prediction: 1990\n",
      "Prediction: 1991\n",
      "Prediction: 1992\n",
      "Prediction: 1993\n"
     ]
    },
    {
     "name": "stderr",
     "output_type": "stream",
     "text": [
      "/aul/homes/jshi008/IvyProjects/ICLR/02MQRNN/util.py:57: RuntimeWarning: divide by zero encountered in true_divide\n",
      "  return np.mean(np.abs((ytrue - ypred) / ytrue))\n",
      "/aul/homes/jshi008/IvyProjects/ICLR/02MQRNN/util.py:57: RuntimeWarning: divide by zero encountered in true_divide\n",
      "  return np.mean(np.abs((ytrue - ypred) / ytrue))\n",
      "/aul/homes/jshi008/IvyProjects/ICLR/02MQRNN/util.py:57: RuntimeWarning: divide by zero encountered in true_divide\n",
      "  return np.mean(np.abs((ytrue - ypred) / ytrue))\n"
     ]
    },
    {
     "name": "stdout",
     "output_type": "stream",
     "text": [
      "Prediction: 1994\n",
      "Prediction: 1995\n",
      "Prediction: 1996\n"
     ]
    },
    {
     "name": "stderr",
     "output_type": "stream",
     "text": [
      "/aul/homes/jshi008/IvyProjects/ICLR/02MQRNN/util.py:57: RuntimeWarning: divide by zero encountered in true_divide\n",
      "  return np.mean(np.abs((ytrue - ypred) / ytrue))\n",
      "/aul/homes/jshi008/IvyProjects/ICLR/02MQRNN/util.py:57: RuntimeWarning: divide by zero encountered in true_divide\n",
      "  return np.mean(np.abs((ytrue - ypred) / ytrue))\n",
      "/aul/homes/jshi008/IvyProjects/ICLR/02MQRNN/util.py:57: RuntimeWarning: divide by zero encountered in true_divide\n",
      "  return np.mean(np.abs((ytrue - ypred) / ytrue))\n",
      "/aul/homes/jshi008/IvyProjects/ICLR/02MQRNN/util.py:57: RuntimeWarning: divide by zero encountered in true_divide\n",
      "  return np.mean(np.abs((ytrue - ypred) / ytrue))\n"
     ]
    },
    {
     "name": "stdout",
     "output_type": "stream",
     "text": [
      "Prediction: 1997\n",
      "Prediction: 1998\n",
      "Prediction: 1999\n",
      "Prediction: 2000\n"
     ]
    },
    {
     "name": "stderr",
     "output_type": "stream",
     "text": [
      "/aul/homes/jshi008/IvyProjects/ICLR/02MQRNN/util.py:57: RuntimeWarning: divide by zero encountered in true_divide\n",
      "  return np.mean(np.abs((ytrue - ypred) / ytrue))\n",
      "/aul/homes/jshi008/IvyProjects/ICLR/02MQRNN/util.py:57: RuntimeWarning: divide by zero encountered in true_divide\n",
      "  return np.mean(np.abs((ytrue - ypred) / ytrue))\n",
      "/aul/homes/jshi008/IvyProjects/ICLR/02MQRNN/util.py:57: RuntimeWarning: divide by zero encountered in true_divide\n",
      "  return np.mean(np.abs((ytrue - ypred) / ytrue))\n",
      "/aul/homes/jshi008/IvyProjects/ICLR/02MQRNN/util.py:57: RuntimeWarning: divide by zero encountered in true_divide\n",
      "  return np.mean(np.abs((ytrue - ypred) / ytrue))\n"
     ]
    },
    {
     "name": "stdout",
     "output_type": "stream",
     "text": [
      "Prediction: 2001\n",
      "Prediction: 2002\n",
      "Prediction: 2003\n",
      "Prediction: 2004\n"
     ]
    },
    {
     "name": "stderr",
     "output_type": "stream",
     "text": [
      "/aul/homes/jshi008/IvyProjects/ICLR/02MQRNN/util.py:57: RuntimeWarning: divide by zero encountered in true_divide\n",
      "  return np.mean(np.abs((ytrue - ypred) / ytrue))\n",
      "/aul/homes/jshi008/IvyProjects/ICLR/02MQRNN/util.py:57: RuntimeWarning: divide by zero encountered in true_divide\n",
      "  return np.mean(np.abs((ytrue - ypred) / ytrue))\n",
      "/aul/homes/jshi008/IvyProjects/ICLR/02MQRNN/util.py:57: RuntimeWarning: divide by zero encountered in true_divide\n",
      "  return np.mean(np.abs((ytrue - ypred) / ytrue))\n"
     ]
    },
    {
     "name": "stdout",
     "output_type": "stream",
     "text": [
      "Prediction: 2005\n",
      "Prediction: 2006\n",
      "Prediction: 2007\n"
     ]
    },
    {
     "name": "stderr",
     "output_type": "stream",
     "text": [
      "/aul/homes/jshi008/IvyProjects/ICLR/02MQRNN/util.py:57: RuntimeWarning: divide by zero encountered in true_divide\n",
      "  return np.mean(np.abs((ytrue - ypred) / ytrue))\n",
      "/aul/homes/jshi008/IvyProjects/ICLR/02MQRNN/util.py:57: RuntimeWarning: divide by zero encountered in true_divide\n",
      "  return np.mean(np.abs((ytrue - ypred) / ytrue))\n",
      "/aul/homes/jshi008/IvyProjects/ICLR/02MQRNN/util.py:57: RuntimeWarning: divide by zero encountered in true_divide\n",
      "  return np.mean(np.abs((ytrue - ypred) / ytrue))\n",
      "/aul/homes/jshi008/IvyProjects/ICLR/02MQRNN/util.py:57: RuntimeWarning: divide by zero encountered in true_divide\n",
      "  return np.mean(np.abs((ytrue - ypred) / ytrue))\n"
     ]
    },
    {
     "name": "stdout",
     "output_type": "stream",
     "text": [
      "Prediction: 2008\n",
      "Prediction: 2009\n",
      "Prediction: 2010\n",
      "Prediction: 2011\n"
     ]
    },
    {
     "name": "stderr",
     "output_type": "stream",
     "text": [
      "/aul/homes/jshi008/IvyProjects/ICLR/02MQRNN/util.py:57: RuntimeWarning: divide by zero encountered in true_divide\n",
      "  return np.mean(np.abs((ytrue - ypred) / ytrue))\n",
      "/aul/homes/jshi008/IvyProjects/ICLR/02MQRNN/util.py:57: RuntimeWarning: divide by zero encountered in true_divide\n",
      "  return np.mean(np.abs((ytrue - ypred) / ytrue))\n",
      "/aul/homes/jshi008/IvyProjects/ICLR/02MQRNN/util.py:57: RuntimeWarning: divide by zero encountered in true_divide\n",
      "  return np.mean(np.abs((ytrue - ypred) / ytrue))\n"
     ]
    },
    {
     "name": "stdout",
     "output_type": "stream",
     "text": [
      "Prediction: 2012\n",
      "Prediction: 2013\n",
      "Prediction: 2014\n",
      "Prediction: 2015\n",
      "Prediction: 2016\n",
      "Prediction: 2017\n",
      "Prediction: 2018\n",
      "Prediction: 2019\n",
      "Prediction: 2020\n",
      "Prediction: 2021\n",
      "Prediction: 2022\n",
      "Prediction: 2023\n",
      "Prediction: 2024\n",
      "Prediction: 2025\n",
      "Prediction: 2026\n",
      "Prediction: 2027\n",
      "Prediction: 2028\n",
      "Prediction: 2029\n",
      "Prediction: 2030\n",
      "Prediction: 2031\n",
      "Prediction: 2032\n",
      "Prediction: 2033\n",
      "Prediction: 2034\n",
      "Prediction: 2035\n",
      "Prediction: 2036\n",
      "Prediction: 2037\n",
      "Prediction: 2038\n",
      "Prediction: 2039\n",
      "Prediction: 2040\n",
      "Prediction: 2041\n",
      "Prediction: 2042\n",
      "Prediction: 2043\n",
      "Prediction: 2044\n",
      "Prediction: 2045\n",
      "Prediction: 2046\n",
      "Prediction: 2047\n",
      "Prediction: 2048\n",
      "Prediction: 2049\n",
      "Prediction: 2050\n",
      "Prediction: 2051\n",
      "Prediction: 2052\n",
      "Prediction: 2053\n",
      "Prediction: 2054\n",
      "Prediction: 2055\n",
      "Prediction: 2056\n",
      "Prediction: 2057\n",
      "Prediction: 2058\n",
      "Prediction: 2059\n",
      "Prediction: 2060\n",
      "Prediction: 2061\n",
      "Prediction: 2062\n",
      "Prediction: 2063\n",
      "Prediction: 2064\n",
      "Prediction: 2065\n",
      "Prediction: 2066\n",
      "Prediction: 2067\n",
      "Prediction: 2068\n",
      "Prediction: 2069\n",
      "Prediction: 2070\n",
      "Prediction: 2071\n",
      "Prediction: 2072\n",
      "Prediction: 2073\n",
      "Prediction: 2074\n",
      "Prediction: 2075\n",
      "Prediction: 2076\n",
      "Prediction: 2077\n",
      "Prediction: 2078\n",
      "Prediction: 2079\n",
      "Prediction: 2080\n",
      "Prediction: 2081\n",
      "Prediction: 2082\n",
      "Prediction: 2083\n",
      "Prediction: 2084\n",
      "Prediction: 2085\n",
      "Prediction: 2086\n",
      "Prediction: 2087\n",
      "Prediction: 2088\n",
      "Prediction: 2089\n",
      "Prediction: 2090\n",
      "Prediction: 2091\n",
      "Prediction: 2092\n",
      "Prediction: 2093\n",
      "Prediction: 2094\n",
      "Prediction: 2095\n",
      "Prediction: 2096\n",
      "Prediction: 2097\n",
      "Prediction: 2098\n",
      "Prediction: 2099\n",
      "Prediction: 2100\n",
      "Prediction: 2101\n",
      "Prediction: 2102\n",
      "Prediction: 2103\n",
      "Prediction: 2104\n",
      "Prediction: 2105\n",
      "Prediction: 2106\n",
      "Prediction: 2107\n",
      "Prediction: 2108\n"
     ]
    },
    {
     "name": "stderr",
     "output_type": "stream",
     "text": [
      "/aul/homes/jshi008/IvyProjects/ICLR/02MQRNN/util.py:57: RuntimeWarning: divide by zero encountered in true_divide\n",
      "  return np.mean(np.abs((ytrue - ypred) / ytrue))\n",
      "/aul/homes/jshi008/IvyProjects/ICLR/02MQRNN/util.py:57: RuntimeWarning: divide by zero encountered in true_divide\n",
      "  return np.mean(np.abs((ytrue - ypred) / ytrue))\n",
      "/aul/homes/jshi008/IvyProjects/ICLR/02MQRNN/util.py:57: RuntimeWarning: divide by zero encountered in true_divide\n",
      "  return np.mean(np.abs((ytrue - ypred) / ytrue))\n",
      "/aul/homes/jshi008/IvyProjects/ICLR/02MQRNN/util.py:57: RuntimeWarning: divide by zero encountered in true_divide\n",
      "  return np.mean(np.abs((ytrue - ypred) / ytrue))\n"
     ]
    },
    {
     "name": "stdout",
     "output_type": "stream",
     "text": [
      "Prediction: 2109\n",
      "Prediction: 2110\n",
      "Prediction: 2111\n",
      "Prediction: 2112\n"
     ]
    },
    {
     "name": "stderr",
     "output_type": "stream",
     "text": [
      "/aul/homes/jshi008/IvyProjects/ICLR/02MQRNN/util.py:57: RuntimeWarning: divide by zero encountered in true_divide\n",
      "  return np.mean(np.abs((ytrue - ypred) / ytrue))\n",
      "/aul/homes/jshi008/IvyProjects/ICLR/02MQRNN/util.py:57: RuntimeWarning: divide by zero encountered in true_divide\n",
      "  return np.mean(np.abs((ytrue - ypred) / ytrue))\n",
      "/aul/homes/jshi008/IvyProjects/ICLR/02MQRNN/util.py:57: RuntimeWarning: divide by zero encountered in true_divide\n",
      "  return np.mean(np.abs((ytrue - ypred) / ytrue))\n",
      "/aul/homes/jshi008/IvyProjects/ICLR/02MQRNN/util.py:57: RuntimeWarning: divide by zero encountered in true_divide\n",
      "  return np.mean(np.abs((ytrue - ypred) / ytrue))\n"
     ]
    },
    {
     "name": "stdout",
     "output_type": "stream",
     "text": [
      "Prediction: 2113\n",
      "Prediction: 2114\n",
      "Prediction: 2115\n",
      "Prediction: 2116\n"
     ]
    },
    {
     "name": "stderr",
     "output_type": "stream",
     "text": [
      "/aul/homes/jshi008/IvyProjects/ICLR/02MQRNN/util.py:57: RuntimeWarning: divide by zero encountered in true_divide\n",
      "  return np.mean(np.abs((ytrue - ypred) / ytrue))\n",
      "/aul/homes/jshi008/IvyProjects/ICLR/02MQRNN/util.py:57: RuntimeWarning: divide by zero encountered in true_divide\n",
      "  return np.mean(np.abs((ytrue - ypred) / ytrue))\n",
      "/aul/homes/jshi008/IvyProjects/ICLR/02MQRNN/util.py:57: RuntimeWarning: divide by zero encountered in true_divide\n",
      "  return np.mean(np.abs((ytrue - ypred) / ytrue))\n",
      "/aul/homes/jshi008/IvyProjects/ICLR/02MQRNN/util.py:57: RuntimeWarning: divide by zero encountered in true_divide\n",
      "  return np.mean(np.abs((ytrue - ypred) / ytrue))\n"
     ]
    },
    {
     "name": "stdout",
     "output_type": "stream",
     "text": [
      "Prediction: 2117\n",
      "Prediction: 2118\n",
      "Prediction: 2119\n",
      "Prediction: 2120\n"
     ]
    },
    {
     "name": "stderr",
     "output_type": "stream",
     "text": [
      "/aul/homes/jshi008/IvyProjects/ICLR/02MQRNN/util.py:57: RuntimeWarning: divide by zero encountered in true_divide\n",
      "  return np.mean(np.abs((ytrue - ypred) / ytrue))\n",
      "/aul/homes/jshi008/IvyProjects/ICLR/02MQRNN/util.py:57: RuntimeWarning: divide by zero encountered in true_divide\n",
      "  return np.mean(np.abs((ytrue - ypred) / ytrue))\n",
      "/aul/homes/jshi008/IvyProjects/ICLR/02MQRNN/util.py:57: RuntimeWarning: divide by zero encountered in true_divide\n",
      "  return np.mean(np.abs((ytrue - ypred) / ytrue))\n",
      "/aul/homes/jshi008/IvyProjects/ICLR/02MQRNN/util.py:57: RuntimeWarning: divide by zero encountered in true_divide\n",
      "  return np.mean(np.abs((ytrue - ypred) / ytrue))\n"
     ]
    },
    {
     "name": "stdout",
     "output_type": "stream",
     "text": [
      "Prediction: 2121\n",
      "Prediction: 2122\n",
      "Prediction: 2123\n",
      "Prediction: 2124\n"
     ]
    },
    {
     "name": "stderr",
     "output_type": "stream",
     "text": [
      "/aul/homes/jshi008/IvyProjects/ICLR/02MQRNN/util.py:57: RuntimeWarning: divide by zero encountered in true_divide\n",
      "  return np.mean(np.abs((ytrue - ypred) / ytrue))\n",
      "/aul/homes/jshi008/IvyProjects/ICLR/02MQRNN/util.py:57: RuntimeWarning: divide by zero encountered in true_divide\n",
      "  return np.mean(np.abs((ytrue - ypred) / ytrue))\n",
      "/aul/homes/jshi008/IvyProjects/ICLR/02MQRNN/util.py:57: RuntimeWarning: divide by zero encountered in true_divide\n",
      "  return np.mean(np.abs((ytrue - ypred) / ytrue))\n",
      "/aul/homes/jshi008/IvyProjects/ICLR/02MQRNN/util.py:57: RuntimeWarning: divide by zero encountered in true_divide\n",
      "  return np.mean(np.abs((ytrue - ypred) / ytrue))\n"
     ]
    },
    {
     "name": "stdout",
     "output_type": "stream",
     "text": [
      "Prediction: 2125\n",
      "Prediction: 2126\n",
      "Prediction: 2127\n",
      "Prediction: 2128\n"
     ]
    },
    {
     "name": "stderr",
     "output_type": "stream",
     "text": [
      "/aul/homes/jshi008/IvyProjects/ICLR/02MQRNN/util.py:57: RuntimeWarning: divide by zero encountered in true_divide\n",
      "  return np.mean(np.abs((ytrue - ypred) / ytrue))\n",
      "/aul/homes/jshi008/IvyProjects/ICLR/02MQRNN/util.py:57: RuntimeWarning: divide by zero encountered in true_divide\n",
      "  return np.mean(np.abs((ytrue - ypred) / ytrue))\n",
      "/aul/homes/jshi008/IvyProjects/ICLR/02MQRNN/util.py:57: RuntimeWarning: divide by zero encountered in true_divide\n",
      "  return np.mean(np.abs((ytrue - ypred) / ytrue))\n",
      "/aul/homes/jshi008/IvyProjects/ICLR/02MQRNN/util.py:57: RuntimeWarning: divide by zero encountered in true_divide\n",
      "  return np.mean(np.abs((ytrue - ypred) / ytrue))\n"
     ]
    },
    {
     "name": "stdout",
     "output_type": "stream",
     "text": [
      "Prediction: 2129\n",
      "Prediction: 2130\n",
      "Prediction: 2131\n",
      "Prediction: 2132\n",
      "Prediction: 2133\n",
      "Prediction: 2134\n",
      "Prediction: 2135\n",
      "Prediction: 2136\n",
      "Prediction: 2137\n",
      "Prediction: 2138\n",
      "Prediction: 2139\n",
      "Prediction: 2140\n",
      "Prediction: 2141\n",
      "Prediction: 2142\n",
      "Prediction: 2143\n",
      "Prediction: 2144\n",
      "Prediction: 2145\n",
      "Prediction: 2146\n",
      "Prediction: 2147\n",
      "Prediction: 2148\n",
      "Prediction: 2149\n",
      "Prediction: 2150\n",
      "Prediction: 2151\n",
      "Prediction: 2152\n",
      "Prediction: 2153\n",
      "Prediction: 2154\n",
      "Prediction: 2155\n"
     ]
    },
    {
     "name": "stderr",
     "output_type": "stream",
     "text": [
      "/aul/homes/jshi008/IvyProjects/ICLR/02MQRNN/util.py:57: RuntimeWarning: divide by zero encountered in true_divide\n",
      "  return np.mean(np.abs((ytrue - ypred) / ytrue))\n",
      "/aul/homes/jshi008/IvyProjects/ICLR/02MQRNN/util.py:57: RuntimeWarning: divide by zero encountered in true_divide\n",
      "  return np.mean(np.abs((ytrue - ypred) / ytrue))\n",
      "/aul/homes/jshi008/IvyProjects/ICLR/02MQRNN/util.py:57: RuntimeWarning: divide by zero encountered in true_divide\n",
      "  return np.mean(np.abs((ytrue - ypred) / ytrue))\n",
      "/aul/homes/jshi008/IvyProjects/ICLR/02MQRNN/util.py:57: RuntimeWarning: divide by zero encountered in true_divide\n",
      "  return np.mean(np.abs((ytrue - ypred) / ytrue))\n"
     ]
    },
    {
     "name": "stdout",
     "output_type": "stream",
     "text": [
      "Prediction: 2156\n",
      "Prediction: 2157\n",
      "Prediction: 2158\n",
      "Prediction: 2159\n"
     ]
    },
    {
     "name": "stderr",
     "output_type": "stream",
     "text": [
      "/aul/homes/jshi008/IvyProjects/ICLR/02MQRNN/util.py:57: RuntimeWarning: divide by zero encountered in true_divide\n",
      "  return np.mean(np.abs((ytrue - ypred) / ytrue))\n",
      "/aul/homes/jshi008/IvyProjects/ICLR/02MQRNN/util.py:57: RuntimeWarning: divide by zero encountered in true_divide\n",
      "  return np.mean(np.abs((ytrue - ypred) / ytrue))\n",
      "/aul/homes/jshi008/IvyProjects/ICLR/02MQRNN/util.py:57: RuntimeWarning: divide by zero encountered in true_divide\n",
      "  return np.mean(np.abs((ytrue - ypred) / ytrue))\n",
      "/aul/homes/jshi008/IvyProjects/ICLR/02MQRNN/util.py:57: RuntimeWarning: divide by zero encountered in true_divide\n",
      "  return np.mean(np.abs((ytrue - ypred) / ytrue))\n"
     ]
    },
    {
     "name": "stdout",
     "output_type": "stream",
     "text": [
      "Prediction: 2160\n",
      "Prediction: 2161\n",
      "Prediction: 2162\n",
      "Prediction: 2163\n",
      "Prediction: 2164\n"
     ]
    },
    {
     "name": "stderr",
     "output_type": "stream",
     "text": [
      "/aul/homes/jshi008/IvyProjects/ICLR/02MQRNN/util.py:57: RuntimeWarning: divide by zero encountered in true_divide\n",
      "  return np.mean(np.abs((ytrue - ypred) / ytrue))\n",
      "/aul/homes/jshi008/IvyProjects/ICLR/02MQRNN/util.py:57: RuntimeWarning: divide by zero encountered in true_divide\n",
      "  return np.mean(np.abs((ytrue - ypred) / ytrue))\n",
      "/aul/homes/jshi008/IvyProjects/ICLR/02MQRNN/util.py:57: RuntimeWarning: divide by zero encountered in true_divide\n",
      "  return np.mean(np.abs((ytrue - ypred) / ytrue))\n",
      "/aul/homes/jshi008/IvyProjects/ICLR/02MQRNN/util.py:57: RuntimeWarning: divide by zero encountered in true_divide\n",
      "  return np.mean(np.abs((ytrue - ypred) / ytrue))\n",
      "/aul/homes/jshi008/IvyProjects/ICLR/02MQRNN/util.py:57: RuntimeWarning: divide by zero encountered in true_divide\n",
      "  return np.mean(np.abs((ytrue - ypred) / ytrue))\n"
     ]
    },
    {
     "name": "stdout",
     "output_type": "stream",
     "text": [
      "Prediction: 2165\n",
      "Prediction: 2166\n",
      "Prediction: 2167\n"
     ]
    },
    {
     "name": "stderr",
     "output_type": "stream",
     "text": [
      "/aul/homes/jshi008/IvyProjects/ICLR/02MQRNN/util.py:57: RuntimeWarning: divide by zero encountered in true_divide\n",
      "  return np.mean(np.abs((ytrue - ypred) / ytrue))\n",
      "/aul/homes/jshi008/IvyProjects/ICLR/02MQRNN/util.py:57: RuntimeWarning: divide by zero encountered in true_divide\n",
      "  return np.mean(np.abs((ytrue - ypred) / ytrue))\n",
      "/aul/homes/jshi008/IvyProjects/ICLR/02MQRNN/util.py:57: RuntimeWarning: divide by zero encountered in true_divide\n",
      "  return np.mean(np.abs((ytrue - ypred) / ytrue))\n"
     ]
    },
    {
     "name": "stdout",
     "output_type": "stream",
     "text": [
      "Prediction: 2168\n",
      "Prediction: 2169\n",
      "Prediction: 2170\n"
     ]
    },
    {
     "name": "stderr",
     "output_type": "stream",
     "text": [
      "/aul/homes/jshi008/IvyProjects/ICLR/02MQRNN/util.py:57: RuntimeWarning: divide by zero encountered in true_divide\n",
      "  return np.mean(np.abs((ytrue - ypred) / ytrue))\n",
      "/aul/homes/jshi008/IvyProjects/ICLR/02MQRNN/util.py:57: RuntimeWarning: divide by zero encountered in true_divide\n",
      "  return np.mean(np.abs((ytrue - ypred) / ytrue))\n",
      "/aul/homes/jshi008/IvyProjects/ICLR/02MQRNN/util.py:57: RuntimeWarning: divide by zero encountered in true_divide\n",
      "  return np.mean(np.abs((ytrue - ypred) / ytrue))\n"
     ]
    },
    {
     "name": "stdout",
     "output_type": "stream",
     "text": [
      "Prediction: 2171\n",
      "Prediction: 2172\n",
      "Prediction: 2173\n"
     ]
    },
    {
     "name": "stderr",
     "output_type": "stream",
     "text": [
      "/aul/homes/jshi008/IvyProjects/ICLR/02MQRNN/util.py:57: RuntimeWarning: divide by zero encountered in true_divide\n",
      "  return np.mean(np.abs((ytrue - ypred) / ytrue))\n",
      "/aul/homes/jshi008/IvyProjects/ICLR/02MQRNN/util.py:57: RuntimeWarning: divide by zero encountered in true_divide\n",
      "  return np.mean(np.abs((ytrue - ypred) / ytrue))\n",
      "/aul/homes/jshi008/IvyProjects/ICLR/02MQRNN/util.py:57: RuntimeWarning: divide by zero encountered in true_divide\n",
      "  return np.mean(np.abs((ytrue - ypred) / ytrue))\n",
      "/aul/homes/jshi008/IvyProjects/ICLR/02MQRNN/util.py:57: RuntimeWarning: divide by zero encountered in true_divide\n",
      "  return np.mean(np.abs((ytrue - ypred) / ytrue))\n"
     ]
    },
    {
     "name": "stdout",
     "output_type": "stream",
     "text": [
      "Prediction: 2174\n",
      "Prediction: 2175\n"
     ]
    },
    {
     "name": "stderr",
     "output_type": "stream",
     "text": [
      "/aul/homes/jshi008/IvyProjects/ICLR/02MQRNN/util.py:57: RuntimeWarning: divide by zero encountered in true_divide\n",
      "  return np.mean(np.abs((ytrue - ypred) / ytrue))\n"
     ]
    },
    {
     "name": "stdout",
     "output_type": "stream",
     "text": [
      "Prediction: 2176\n",
      "Prediction: 2177\n",
      "Prediction: 2178\n",
      "Prediction: 2179\n",
      "Prediction: 2180\n",
      "Prediction: 2181\n",
      "Prediction: 2182\n",
      "Prediction: 2183\n",
      "Prediction: 2184\n",
      "Prediction: 2185\n",
      "Prediction: 2186\n",
      "Prediction: 2187\n",
      "Prediction: 2188\n",
      "Prediction: 2189\n",
      "Prediction: 2190\n",
      "Prediction: 2191\n",
      "Prediction: 2192\n",
      "Prediction: 2193\n",
      "Prediction: 2194\n",
      "Prediction: 2195\n",
      "Prediction: 2196\n",
      "Prediction: 2197\n",
      "Prediction: 2198\n",
      "Prediction: 2199\n",
      "Prediction: 2200\n",
      "Prediction: 2201\n",
      "Prediction: 2202\n",
      "Prediction: 2203\n",
      "Prediction: 2204\n",
      "Prediction: 2205\n",
      "Prediction: 2206\n",
      "Prediction: 2207\n",
      "Prediction: 2208\n",
      "Prediction: 2209\n",
      "Prediction: 2210\n",
      "Prediction: 2211\n",
      "Prediction: 2212\n",
      "Prediction: 2213\n",
      "Prediction: 2214\n",
      "Prediction: 2215\n",
      "Prediction: 2216\n",
      "Prediction: 2217\n",
      "Prediction: 2218\n",
      "Prediction: 2219\n",
      "Prediction: 2220\n",
      "Prediction: 2221\n",
      "Prediction: 2222\n",
      "Prediction: 2223\n",
      "Prediction: 2224\n",
      "Prediction: 2225\n",
      "Prediction: 2226\n",
      "Prediction: 2227\n",
      "Prediction: 2228\n",
      "Prediction: 2229\n",
      "Prediction: 2230\n",
      "Prediction: 2231\n",
      "Prediction: 2232\n",
      "Prediction: 2233\n",
      "Prediction: 2234\n",
      "Prediction: 2235\n",
      "Prediction: 2236\n",
      "Prediction: 2237\n",
      "Prediction: 2238\n",
      "Prediction: 2239\n",
      "Prediction: 2240\n",
      "Prediction: 2241\n",
      "Prediction: 2242\n",
      "Prediction: 2243\n",
      "Prediction: 2244\n",
      "Prediction: 2245\n",
      "Prediction: 2246\n",
      "Prediction: 2247\n",
      "Prediction: 2248\n",
      "Prediction: 2249\n",
      "Prediction: 2250\n",
      "Prediction: 2251\n",
      "Prediction: 2252\n",
      "Prediction: 2253\n",
      "Prediction: 2254\n",
      "Prediction: 2255\n",
      "Prediction: 2256\n",
      "Prediction: 2257\n",
      "Prediction: 2258\n",
      "Prediction: 2259\n",
      "Prediction: 2260\n",
      "Prediction: 2261\n",
      "Prediction: 2262\n",
      "Prediction: 2263\n",
      "Prediction: 2264\n",
      "Prediction: 2265\n",
      "Prediction: 2266\n",
      "Prediction: 2267\n",
      "Prediction: 2268\n",
      "Prediction: 2269\n",
      "Prediction: 2270\n",
      "Prediction: 2271\n",
      "Prediction: 2272\n",
      "Prediction: 2273\n",
      "Prediction: 2274\n",
      "Prediction: 2275\n",
      "Prediction: 2276\n",
      "Prediction: 2277\n",
      "Prediction: 2278\n",
      "Prediction: 2279\n",
      "Prediction: 2280\n",
      "Prediction: 2281\n",
      "Prediction: 2282\n",
      "Prediction: 2283\n",
      "Prediction: 2284\n",
      "Prediction: 2285\n",
      "Prediction: 2286\n",
      "Prediction: 2287\n",
      "Prediction: 2288\n",
      "Prediction: 2289\n",
      "Prediction: 2290\n",
      "Prediction: 2291\n",
      "Prediction: 2292\n",
      "Prediction: 2293\n",
      "Prediction: 2294\n",
      "Prediction: 2295\n",
      "Prediction: 2296\n",
      "Prediction: 2297\n",
      "Prediction: 2298\n",
      "Prediction: 2299\n",
      "Prediction: 2300\n",
      "Prediction: 2301\n",
      "Prediction: 2302\n",
      "Prediction: 2303\n",
      "Prediction: 2304\n",
      "Prediction: 2305\n",
      "Prediction: 2306\n",
      "Prediction: 2307\n",
      "Prediction: 2308\n",
      "Prediction: 2309\n",
      "Prediction: 2310\n",
      "Prediction: 2311\n",
      "Prediction: 2312\n",
      "Prediction: 2313\n",
      "Prediction: 2314\n",
      "====== MAPE, MAE, RMSE ======\n",
      "inf 0.13510916922420058 0.17039735713078688\n"
     ]
    },
    {
     "data": {
      "image/png": "[encoded data removed]",
      "text/plain": [
       "<Figure size 432x288 with 1 Axes>"
      ]
     },
     "metadata": {
      "needs_background": "light"
     },
     "output_type": "display_data"
    }
   ],
   "source": [
    "X_df = dataset.loc[:, ['WS_S4', 'FLOW_S25A', 'GATE_S25A', 'HWS_S25A',\n",
    "       'FLOW_S25B', 'GATE_S25B', 'GATE_S25B2', 'HWS_S25B',\n",
    "       'PUMP_S25B', 'FLOW_S26', 'GATE_S26_1', 'GATE_S26_2',\n",
    "       'HWS_S26', 'PUMP_S26', 'MEAN_RAIN']]\n",
    "y_df = dataset.loc[:, ['TWS_S25A']]\n",
    "X = np.array(X_df)\n",
    "y = np.array(y_df)\n",
    "\n",
    "from sklearn.preprocessing import MinMaxScaler\n",
    "scaler = MinMaxScaler(feature_range=(0, 1))\n",
    "X = scaler.fit_transform(X)\n",
    "\n",
    "\n",
    "num_features = X.shape[1]\n",
    "num_periods = len(X) // 8\n",
    "X = np.asarray(X).reshape((-1, num_periods, num_features))\n",
    "y = np.asarray(y).reshape((-1, num_periods))\n",
    "print(\"X.shape, y.shape:\", X.shape, y.shape)\n",
    "\n",
    "quantiles = [0.1, 0.5, 1]  # 0.1, 0.5, 1\n",
    "losses, test_mape, test_mae, test_rmse = train(X, y, quantiles)\n",
    "#print(test_mape, test_mae, test_rmse)\n",
    "\n",
    "\n",
    "print('====== MAPE, MAE, RMSE ======')\n",
    "print(sum(test_mape) / len(test_mape),\n",
    "      sum(test_mae) / len(test_mae), \n",
    "      sum(test_rmse) / len(test_rmse))\n",
    "\n",
    "\n",
    "plt.plot(range(len(losses)), losses, \"k-\")\n",
    "plt.xlabel(\"Period\")\n",
    "plt.ylabel(\"Loss\")\n",
    "plt.show()"
   ]
  },
  {
   "cell_type": "code",
   "execution_count": 9,
   "id": "71c9c8b8",
   "metadata": {
    "scrolled": true
   },
   "outputs": [
    {
     "name": "stderr",
     "output_type": "stream",
     "text": [
      "  0% |                                                                                                                                                      |\r"
     ]
    },
    {
     "name": "stdout",
     "output_type": "stream",
     "text": [
      "X.shape, y.shape: (8, 12054, 15) (8, 12054)\n",
      "(8, 9643, 15) (8, 9643) (8, 2411, 15) (8, 2411)\n",
      "Epoch 0 start...\n",
      "Epoch 1 start...\n",
      "Epoch 2 start...\n",
      "Epoch 3 start...\n"
     ]
    },
    {
     "name": "stderr",
     "output_type": "stream",
     "text": [
      "  0% |#                                                                                                                                                     |\r"
     ]
    },
    {
     "name": "stdout",
     "output_type": "stream",
     "text": [
      "Epoch 4 start...\n",
      "Epoch 5 start...\n",
      "Epoch 6 start...\n",
      "Epoch 7 start...\n"
     ]
    },
    {
     "name": "stderr",
     "output_type": "stream",
     "text": [
      "  1% |##                                                                                                                                                    |\r"
     ]
    },
    {
     "name": "stdout",
     "output_type": "stream",
     "text": [
      "Epoch 8 start...\n",
      "Epoch 9 start...\n",
      "Epoch 10 start...\n",
      "Epoch 11 start...\n"
     ]
    },
    {
     "name": "stderr",
     "output_type": "stream",
     "text": [
      "  2% |###                                                                                                                                                   |\r"
     ]
    },
    {
     "name": "stdout",
     "output_type": "stream",
     "text": [
      "Epoch 12 start...\n",
      "Epoch 13 start...\n",
      "Epoch 14 start...\n",
      "Epoch 15 start...\n"
     ]
    },
    {
     "name": "stderr",
     "output_type": "stream",
     "text": [
      "  3% |####                                                                                                                                                  |\r"
     ]
    },
    {
     "name": "stdout",
     "output_type": "stream",
     "text": [
      "Epoch 16 start...\n",
      "Epoch 17 start...\n",
      "Epoch 18 start...\n",
      "Epoch 19 start...\n"
     ]
    },
    {
     "name": "stderr",
     "output_type": "stream",
     "text": [
      "  4% |######                                                                                                                                                |\r"
     ]
    },
    {
     "name": "stdout",
     "output_type": "stream",
     "text": [
      "Epoch 20 start...\n",
      "Epoch 21 start...\n",
      "Epoch 22 start...\n",
      "Epoch 23 start...\n"
     ]
    },
    {
     "name": "stderr",
     "output_type": "stream",
     "text": [
      "  4% |#######                                                                                                                                               |\r"
     ]
    },
    {
     "name": "stdout",
     "output_type": "stream",
     "text": [
      "Epoch 24 start...\n",
      "Epoch 25 start...\n",
      "Epoch 26 start...\n",
      "Epoch 27 start...\n"
     ]
    },
    {
     "name": "stderr",
     "output_type": "stream",
     "text": [
      "  5% |########                                                                                                                                              |\r"
     ]
    },
    {
     "name": "stdout",
     "output_type": "stream",
     "text": [
      "Epoch 28 start...\n",
      "Epoch 29 start...\n",
      "Epoch 30 start...\n",
      "Epoch 31 start...\n"
     ]
    },
    {
     "name": "stderr",
     "output_type": "stream",
     "text": [
      "  6% |#########                                                                                                                                             |\r"
     ]
    },
    {
     "name": "stdout",
     "output_type": "stream",
     "text": [
      "Epoch 32 start...\n",
      "Epoch 33 start...\n",
      "Epoch 34 start...\n",
      "Epoch 35 start...\n"
     ]
    },
    {
     "name": "stderr",
     "output_type": "stream",
     "text": [
      "  7% |##########                                                                                                                                            |\r"
     ]
    },
    {
     "name": "stdout",
     "output_type": "stream",
     "text": [
      "Epoch 36 start...\n",
      "Epoch 37 start...\n",
      "Epoch 38 start...\n",
      "Epoch 39 start...\n"
     ]
    },
    {
     "name": "stderr",
     "output_type": "stream",
     "text": [
      "  8% |############                                                                                                                                          |\r"
     ]
    },
    {
     "name": "stdout",
     "output_type": "stream",
     "text": [
      "Epoch 40 start...\n",
      "Epoch 41 start...\n",
      "Epoch 42 start...\n",
      "Epoch 43 start...\n"
     ]
    },
    {
     "name": "stderr",
     "output_type": "stream",
     "text": [
      "  8% |#############                                                                                                                                         |\r"
     ]
    },
    {
     "name": "stdout",
     "output_type": "stream",
     "text": [
      "Epoch 44 start...\n",
      "Epoch 45 start...\n",
      "Epoch 46 start...\n",
      "Epoch 47 start...\n"
     ]
    },
    {
     "name": "stderr",
     "output_type": "stream",
     "text": [
      "  9% |##############                                                                                                                                        |\r"
     ]
    },
    {
     "name": "stdout",
     "output_type": "stream",
     "text": [
      "Epoch 48 start...\n",
      "Epoch 49 start...\n",
      "Epoch 50 start...\n",
      "Epoch 51 start...\n"
     ]
    },
    {
     "name": "stderr",
     "output_type": "stream",
     "text": [
      " 10% |###############                                                                                                                                       |\r"
     ]
    },
    {
     "name": "stdout",
     "output_type": "stream",
     "text": [
      "Epoch 77 start...\n",
      "Epoch 78 start...\n",
      "Epoch 79 start...\n"
     ]
    },
    {
     "name": "stderr",
     "output_type": "stream",
     "text": [
      " 16% |########################                                                                                                                              |\r"
     ]
    },
    {
     "name": "stdout",
     "output_type": "stream",
     "text": [
      "Epoch 80 start...\n",
      "Epoch 81 start...\n",
      "Epoch 82 start...\n",
      "Epoch 83 start...\n"
     ]
    },
    {
     "name": "stderr",
     "output_type": "stream",
     "text": [
      " 16% |#########################                                                                                                                             |\r"
     ]
    },
    {
     "name": "stdout",
     "output_type": "stream",
     "text": [
      "Epoch 84 start...\n",
      "Epoch 85 start...\n",
      "Epoch 86 start...\n",
      "Epoch 87 start...\n"
     ]
    },
    {
     "name": "stderr",
     "output_type": "stream",
     "text": [
      " 17% |##########################                                                                                                                            |\r"
     ]
    },
    {
     "name": "stdout",
     "output_type": "stream",
     "text": [
      "Epoch 88 start...\n",
      "Epoch 89 start...\n",
      "Epoch 90 start...\n",
      "Epoch 91 start...\n"
     ]
    },
    {
     "name": "stderr",
     "output_type": "stream",
     "text": [
      " 18% |###########################                                                                                                                           |\r"
     ]
    },
    {
     "name": "stdout",
     "output_type": "stream",
     "text": [
      "Epoch 92 start...\n",
      "Epoch 93 start...\n",
      "Epoch 94 start...\n",
      "Epoch 95 start...\n"
     ]
    },
    {
     "name": "stderr",
     "output_type": "stream",
     "text": [
      " 19% |############################                                                                                                                          |\r"
     ]
    },
    {
     "name": "stdout",
     "output_type": "stream",
     "text": [
      "Epoch 96 start...\n",
      "Epoch 97 start...\n",
      "Epoch 98 start...\n",
      "Epoch 99 start...\n"
     ]
    },
    {
     "name": "stderr",
     "output_type": "stream",
     "text": [
      " 20% |##############################                                                                                                                        |\r"
     ]
    },
    {
     "name": "stdout",
     "output_type": "stream",
     "text": [
      "Epoch 100 start...\n",
      "Epoch 101 start...\n",
      "Epoch 102 start...\n",
      "Epoch 103 start...\n"
     ]
    },
    {
     "name": "stderr",
     "output_type": "stream",
     "text": [
      " 20% |###############################                                                                                                                       |\r"
     ]
    },
    {
     "name": "stdout",
     "output_type": "stream",
     "text": [
      "Epoch 104 start...\n",
      "Epoch 105 start...\n",
      "Epoch 106 start...\n",
      "Epoch 107 start...\n"
     ]
    },
    {
     "name": "stderr",
     "output_type": "stream",
     "text": [
      " 21% |################################                                                                                                                      |\r"
     ]
    },
    {
     "name": "stdout",
     "output_type": "stream",
     "text": [
      "Epoch 108 start...\n",
      "Epoch 109 start...\n",
      "Epoch 110 start...\n",
      "Epoch 111 start...\n"
     ]
    },
    {
     "name": "stderr",
     "output_type": "stream",
     "text": [
      " 22% |#################################                                                                                                                     |\r"
     ]
    },
    {
     "name": "stdout",
     "output_type": "stream",
     "text": [
      "Epoch 112 start...\n",
      "Epoch 113 start...\n",
      "Epoch 114 start...\n",
      "Epoch 115 start...\n"
     ]
    },
    {
     "name": "stderr",
     "output_type": "stream",
     "text": [
      " 23% |##################################                                                                                                                    |\r"
     ]
    },
    {
     "name": "stdout",
     "output_type": "stream",
     "text": [
      "Epoch 116 start...\n",
      "Epoch 117 start...\n",
      "Epoch 118 start...\n",
      "Epoch 119 start...\n"
     ]
    },
    {
     "name": "stderr",
     "output_type": "stream",
     "text": [
      " 24% |####################################                                                                                                                  |\r"
     ]
    },
    {
     "name": "stdout",
     "output_type": "stream",
     "text": [
      "Epoch 120 start...\n",
      "Epoch 121 start...\n",
      "Epoch 122 start...\n",
      "Epoch 123 start...\n"
     ]
    },
    {
     "name": "stderr",
     "output_type": "stream",
     "text": [
      " 24% |#####################################                                                                                                                 |\r"
     ]
    },
    {
     "name": "stdout",
     "output_type": "stream",
     "text": [
      "Epoch 124 start...\n",
      "Epoch 125 start...\n",
      "Epoch 126 start...\n",
      "Epoch 127 start...\n"
     ]
    },
    {
     "name": "stderr",
     "output_type": "stream",
     "text": [
      " 25% |######################################                                                                                                                |\r"
     ]
    },
    {
     "name": "stdout",
     "output_type": "stream",
     "text": [
      "Epoch 128 start...\n",
      "Epoch 129 start...\n",
      "Epoch 130 start...\n",
      "Epoch 131 start...\n"
     ]
    },
    {
     "name": "stderr",
     "output_type": "stream",
     "text": [
      " 26% |#######################################                                                                                                               |\r"
     ]
    },
    {
     "name": "stdout",
     "output_type": "stream",
     "text": [
      "Epoch 132 start...\n",
      "Epoch 133 start...\n",
      "Epoch 134 start...\n",
      "Epoch 135 start...\n"
     ]
    },
    {
     "name": "stderr",
     "output_type": "stream",
     "text": [
      " 27% |########################################                                                                                                              |\r"
     ]
    },
    {
     "name": "stdout",
     "output_type": "stream",
     "text": [
      "Epoch 136 start...\n",
      "Epoch 137 start...\n",
      "Epoch 138 start...\n",
      "Epoch 139 start...\n"
     ]
    },
    {
     "name": "stderr",
     "output_type": "stream",
     "text": [
      " 28% |##########################################                                                                                                            |\r"
     ]
    },
    {
     "name": "stdout",
     "output_type": "stream",
     "text": [
      "Epoch 140 start...\n",
      "Epoch 141 start...\n",
      "Epoch 142 start...\n",
      "Epoch 143 start...\n"
     ]
    },
    {
     "name": "stderr",
     "output_type": "stream",
     "text": [
      " 28% |###########################################                                                                                                           |\r"
     ]
    },
    {
     "name": "stdout",
     "output_type": "stream",
     "text": [
      "Epoch 144 start...\n",
      "Epoch 145 start...\n",
      "Epoch 146 start...\n",
      "Epoch 147 start...\n"
     ]
    },
    {
     "name": "stderr",
     "output_type": "stream",
     "text": [
      " 29% |############################################                                                                                                          |\r"
     ]
    },
    {
     "name": "stdout",
     "output_type": "stream",
     "text": [
      "Epoch 148 start...\n",
      "Epoch 149 start...\n",
      "Epoch 150 start...\n",
      "Epoch 151 start...\n"
     ]
    },
    {
     "name": "stderr",
     "output_type": "stream",
     "text": [
      " 30% |#############################################                                                                                                         |\r"
     ]
    },
    {
     "name": "stdout",
     "output_type": "stream",
     "text": [
      "Epoch 152 start...\n",
      "Epoch 153 start...\n",
      "Epoch 154 start...\n",
      "Epoch 155 start...\n"
     ]
    },
    {
     "name": "stderr",
     "output_type": "stream",
     "text": [
      " 31% |##############################################                                                                                                        |\r"
     ]
    },
    {
     "name": "stdout",
     "output_type": "stream",
     "text": [
      "Epoch 156 start...\n",
      "Epoch 157 start...\n",
      "Epoch 158 start...\n",
      "Epoch 159 start...\n"
     ]
    },
    {
     "name": "stderr",
     "output_type": "stream",
     "text": [
      " 32% |################################################                                                                                                      |\r"
     ]
    },
    {
     "name": "stdout",
     "output_type": "stream",
     "text": [
      "Epoch 160 start...\n",
      "Epoch 161 start...\n",
      "Epoch 162 start...\n",
      "Epoch 163 start...\n"
     ]
    },
    {
     "name": "stderr",
     "output_type": "stream",
     "text": [
      " 32% |#################################################                                                                                                     |\r"
     ]
    },
    {
     "name": "stdout",
     "output_type": "stream",
     "text": [
      "Epoch 164 start...\n",
      "Epoch 165 start...\n",
      "Epoch 166 start...\n",
      "Epoch 167 start...\n"
     ]
    },
    {
     "name": "stderr",
     "output_type": "stream",
     "text": [
      " 33% |##################################################                                                                                                    |\r"
     ]
    },
    {
     "name": "stdout",
     "output_type": "stream",
     "text": [
      "Epoch 168 start...\n",
      "Epoch 169 start...\n",
      "Epoch 170 start...\n",
      "Epoch 171 start...\n"
     ]
    },
    {
     "name": "stderr",
     "output_type": "stream",
     "text": [
      " 34% |###################################################                                                                                                   |\r"
     ]
    },
    {
     "name": "stdout",
     "output_type": "stream",
     "text": [
      "Epoch 172 start...\n",
      "Epoch 173 start...\n",
      "Epoch 174 start...\n",
      "Epoch 175 start...\n"
     ]
    },
    {
     "name": "stderr",
     "output_type": "stream",
     "text": [
      " 35% |####################################################                                                                                                  |\r"
     ]
    },
    {
     "name": "stdout",
     "output_type": "stream",
     "text": [
      "Epoch 176 start...\n",
      "Epoch 177 start...\n",
      "Epoch 178 start...\n",
      "Epoch 179 start...\n"
     ]
    },
    {
     "name": "stderr",
     "output_type": "stream",
     "text": [
      " 36% |######################################################                                                                                                |\r"
     ]
    },
    {
     "name": "stdout",
     "output_type": "stream",
     "text": [
      "Epoch 180 start...\n",
      "Epoch 181 start...\n",
      "Epoch 182 start...\n",
      "Epoch 183 start...\n"
     ]
    },
    {
     "name": "stderr",
     "output_type": "stream",
     "text": [
      " 36% |#######################################################                                                                                               |\r"
     ]
    },
    {
     "name": "stdout",
     "output_type": "stream",
     "text": [
      "Epoch 184 start...\n",
      "Epoch 185 start...\n",
      "Epoch 186 start...\n",
      "Epoch 187 start...\n"
     ]
    },
    {
     "name": "stderr",
     "output_type": "stream",
     "text": [
      " 37% |########################################################                                                                                              |\r"
     ]
    },
    {
     "name": "stdout",
     "output_type": "stream",
     "text": [
      "Epoch 188 start...\n",
      "Epoch 189 start...\n",
      "Epoch 190 start...\n",
      "Epoch 191 start...\n"
     ]
    },
    {
     "name": "stderr",
     "output_type": "stream",
     "text": [
      " 38% |#########################################################                                                                                             |\r"
     ]
    },
    {
     "name": "stdout",
     "output_type": "stream",
     "text": [
      "Epoch 192 start...\n",
      "Epoch 193 start...\n",
      "Epoch 194 start...\n",
      "Epoch 195 start...\n"
     ]
    },
    {
     "name": "stderr",
     "output_type": "stream",
     "text": [
      " 39% |##########################################################                                                                                            |\r"
     ]
    },
    {
     "name": "stdout",
     "output_type": "stream",
     "text": [
      "Epoch 196 start...\n",
      "Epoch 197 start...\n",
      "Epoch 198 start...\n",
      "Epoch 199 start...\n"
     ]
    },
    {
     "name": "stderr",
     "output_type": "stream",
     "text": [
      " 40% |############################################################                                                                                          |\r"
     ]
    },
    {
     "name": "stdout",
     "output_type": "stream",
     "text": [
      "Epoch 200 start...\n",
      "Epoch 201 start...\n",
      "Epoch 202 start...\n",
      "Epoch 203 start...\n"
     ]
    },
    {
     "name": "stderr",
     "output_type": "stream",
     "text": [
      " 40% |#############################################################                                                                                         |\r"
     ]
    },
    {
     "name": "stdout",
     "output_type": "stream",
     "text": [
      "Epoch 204 start...\n",
      "Epoch 205 start...\n",
      "Epoch 206 start...\n",
      "Epoch 207 start...\n"
     ]
    },
    {
     "name": "stderr",
     "output_type": "stream",
     "text": [
      " 41% |##############################################################                                                                                        |\r"
     ]
    },
    {
     "name": "stdout",
     "output_type": "stream",
     "text": [
      "Epoch 208 start...\n",
      "Epoch 209 start...\n",
      "Epoch 210 start...\n",
      "Epoch 211 start...\n"
     ]
    },
    {
     "name": "stderr",
     "output_type": "stream",
     "text": [
      " 42% |###############################################################                                                                                       |\r"
     ]
    },
    {
     "name": "stdout",
     "output_type": "stream",
     "text": [
      "Epoch 212 start...\n",
      "Epoch 213 start...\n",
      "Epoch 214 start...\n",
      "Epoch 215 start...\n"
     ]
    },
    {
     "name": "stderr",
     "output_type": "stream",
     "text": [
      " 43% |################################################################                                                                                      |\r"
     ]
    },
    {
     "name": "stdout",
     "output_type": "stream",
     "text": [
      "Epoch 216 start...\n",
      "Epoch 217 start...\n",
      "Epoch 218 start...\n",
      "Epoch 219 start...\n"
     ]
    },
    {
     "name": "stderr",
     "output_type": "stream",
     "text": [
      " 44% |##################################################################                                                                                    |\r"
     ]
    },
    {
     "name": "stdout",
     "output_type": "stream",
     "text": [
      "Epoch 220 start...\n",
      "Epoch 221 start...\n",
      "Epoch 222 start...\n",
      "Epoch 223 start...\n"
     ]
    },
    {
     "name": "stderr",
     "output_type": "stream",
     "text": [
      " 44% |###################################################################                                                                                   |\r"
     ]
    },
    {
     "name": "stdout",
     "output_type": "stream",
     "text": [
      "Epoch 224 start...\n",
      "Epoch 225 start...\n",
      "Epoch 226 start...\n",
      "Epoch 227 start...\n"
     ]
    },
    {
     "name": "stderr",
     "output_type": "stream",
     "text": [
      " 45% |####################################################################                                                                                  |\r"
     ]
    },
    {
     "name": "stdout",
     "output_type": "stream",
     "text": [
      "Epoch 228 start...\n",
      "Epoch 229 start...\n",
      "Epoch 230 start...\n",
      "Epoch 231 start...\n"
     ]
    },
    {
     "name": "stderr",
     "output_type": "stream",
     "text": [
      " 46% |#####################################################################                                                                                 |\r"
     ]
    },
    {
     "name": "stdout",
     "output_type": "stream",
     "text": [
      "Epoch 232 start...\n",
      "Epoch 233 start...\n",
      "Epoch 234 start...\n",
      "Epoch 235 start...\n"
     ]
    },
    {
     "name": "stderr",
     "output_type": "stream",
     "text": [
      " 47% |######################################################################                                                                                |\r"
     ]
    },
    {
     "name": "stdout",
     "output_type": "stream",
     "text": [
      "Epoch 236 start...\n",
      "Epoch 237 start...\n",
      "Epoch 238 start...\n",
      "Epoch 239 start...\n"
     ]
    },
    {
     "name": "stderr",
     "output_type": "stream",
     "text": [
      " 48% |########################################################################                                                                              |\r"
     ]
    },
    {
     "name": "stdout",
     "output_type": "stream",
     "text": [
      "Epoch 240 start...\n",
      "Epoch 241 start...\n",
      "Epoch 242 start...\n",
      "Epoch 243 start...\n"
     ]
    },
    {
     "name": "stderr",
     "output_type": "stream",
     "text": [
      " 48% |#########################################################################                                                                             |\r"
     ]
    },
    {
     "name": "stdout",
     "output_type": "stream",
     "text": [
      "Epoch 244 start...\n",
      "Epoch 245 start...\n",
      "Epoch 246 start...\n",
      "Epoch 247 start...\n"
     ]
    },
    {
     "name": "stderr",
     "output_type": "stream",
     "text": [
      " 49% |##########################################################################                                                                            |\r"
     ]
    },
    {
     "name": "stdout",
     "output_type": "stream",
     "text": [
      "Epoch 248 start...\n",
      "Epoch 249 start...\n",
      "Epoch 250 start...\n",
      "Epoch 251 start...\n"
     ]
    },
    {
     "name": "stderr",
     "output_type": "stream",
     "text": [
      " 50% |###########################################################################                                                                           |\r"
     ]
    },
    {
     "name": "stdout",
     "output_type": "stream",
     "text": [
      "Epoch 252 start...\n",
      "Epoch 253 start...\n",
      "Epoch 254 start...\n",
      "Epoch 255 start...\n"
     ]
    },
    {
     "name": "stderr",
     "output_type": "stream",
     "text": [
      " 51% |############################################################################                                                                          |\r"
     ]
    },
    {
     "name": "stdout",
     "output_type": "stream",
     "text": [
      "Epoch 256 start...\n",
      "Epoch 257 start...\n",
      "Epoch 258 start...\n",
      "Epoch 259 start...\n"
     ]
    },
    {
     "name": "stderr",
     "output_type": "stream",
     "text": [
      " 52% |##############################################################################                                                                        |\r"
     ]
    },
    {
     "name": "stdout",
     "output_type": "stream",
     "text": [
      "Epoch 260 start...\n",
      "Epoch 261 start...\n",
      "Epoch 262 start...\n",
      "Epoch 263 start...\n"
     ]
    },
    {
     "name": "stderr",
     "output_type": "stream",
     "text": [
      " 52% |###############################################################################                                                                       |\r"
     ]
    },
    {
     "name": "stdout",
     "output_type": "stream",
     "text": [
      "Epoch 264 start...\n",
      "Epoch 265 start...\n",
      "Epoch 266 start...\n",
      "Epoch 267 start...\n"
     ]
    },
    {
     "name": "stderr",
     "output_type": "stream",
     "text": [
      " 53% |################################################################################                                                                      |\r"
     ]
    },
    {
     "name": "stdout",
     "output_type": "stream",
     "text": [
      "Epoch 268 start...\n",
      "Epoch 269 start...\n",
      "Epoch 270 start...\n",
      "Epoch 271 start...\n"
     ]
    },
    {
     "name": "stderr",
     "output_type": "stream",
     "text": [
      " 54% |#################################################################################                                                                     |\r"
     ]
    },
    {
     "name": "stdout",
     "output_type": "stream",
     "text": [
      "Epoch 272 start...\n",
      "Epoch 273 start...\n",
      "Epoch 274 start...\n",
      "Epoch 275 start...\n",
      "Epoch 295 start...\n"
     ]
    },
    {
     "name": "stderr",
     "output_type": "stream",
     "text": [
      " 59% |########################################################################################                                                              |\r"
     ]
    },
    {
     "name": "stdout",
     "output_type": "stream",
     "text": [
      "Epoch 296 start...\n",
      "Epoch 297 start...\n",
      "Epoch 298 start...\n",
      "Epoch 299 start...\n"
     ]
    },
    {
     "name": "stderr",
     "output_type": "stream",
     "text": [
      " 60% |##########################################################################################                                                            |\r"
     ]
    },
    {
     "name": "stdout",
     "output_type": "stream",
     "text": [
      "Epoch 300 start...\n",
      "Epoch 301 start...\n",
      "Epoch 302 start...\n",
      "Epoch 303 start...\n"
     ]
    },
    {
     "name": "stderr",
     "output_type": "stream",
     "text": [
      " 60% |###########################################################################################                                                           |\r"
     ]
    },
    {
     "name": "stdout",
     "output_type": "stream",
     "text": [
      "Epoch 304 start...\n",
      "Epoch 305 start...\n",
      "Epoch 306 start...\n",
      "Epoch 307 start...\n"
     ]
    },
    {
     "name": "stderr",
     "output_type": "stream",
     "text": [
      " 61% |############################################################################################                                                          |\r"
     ]
    },
    {
     "name": "stdout",
     "output_type": "stream",
     "text": [
      "Epoch 308 start...\n",
      "Epoch 309 start...\n",
      "Epoch 310 start...\n",
      "Epoch 311 start...\n"
     ]
    },
    {
     "name": "stderr",
     "output_type": "stream",
     "text": [
      " 62% |#############################################################################################                                                         |\r"
     ]
    },
    {
     "name": "stdout",
     "output_type": "stream",
     "text": [
      "Epoch 312 start...\n",
      "Epoch 313 start...\n",
      "Epoch 314 start...\n",
      "Epoch 315 start...\n"
     ]
    },
    {
     "name": "stderr",
     "output_type": "stream",
     "text": [
      " 63% |##############################################################################################                                                        |\r"
     ]
    },
    {
     "name": "stdout",
     "output_type": "stream",
     "text": [
      "Epoch 316 start...\n",
      "Epoch 317 start...\n",
      "Epoch 318 start...\n",
      "Epoch 319 start...\n"
     ]
    },
    {
     "name": "stderr",
     "output_type": "stream",
     "text": [
      " 64% |################################################################################################                                                      |\r"
     ]
    },
    {
     "name": "stdout",
     "output_type": "stream",
     "text": [
      "Epoch 320 start...\n",
      "Epoch 321 start...\n",
      "Epoch 322 start...\n",
      "Epoch 323 start...\n"
     ]
    },
    {
     "name": "stderr",
     "output_type": "stream",
     "text": [
      " 64% |#################################################################################################                                                     |\r"
     ]
    },
    {
     "name": "stdout",
     "output_type": "stream",
     "text": [
      "Epoch 324 start...\n",
      "Epoch 325 start...\n",
      "Epoch 326 start...\n",
      "Epoch 327 start...\n"
     ]
    },
    {
     "name": "stderr",
     "output_type": "stream",
     "text": [
      " 65% |##################################################################################################                                                    |\r"
     ]
    },
    {
     "name": "stdout",
     "output_type": "stream",
     "text": [
      "Epoch 328 start...\n",
      "Epoch 329 start...\n",
      "Epoch 330 start...\n",
      "Epoch 331 start...\n"
     ]
    },
    {
     "name": "stderr",
     "output_type": "stream",
     "text": [
      " 66% |###################################################################################################                                                   |\r"
     ]
    },
    {
     "name": "stdout",
     "output_type": "stream",
     "text": [
      "Epoch 332 start...\n",
      "Epoch 333 start...\n",
      "Epoch 334 start...\n",
      "Epoch 335 start...\n"
     ]
    },
    {
     "name": "stderr",
     "output_type": "stream",
     "text": [
      " 67% |####################################################################################################                                                  |\r"
     ]
    },
    {
     "name": "stdout",
     "output_type": "stream",
     "text": [
      "Epoch 336 start...\n",
      "Epoch 337 start...\n",
      "Epoch 338 start...\n",
      "Epoch 339 start...\n"
     ]
    },
    {
     "name": "stderr",
     "output_type": "stream",
     "text": [
      " 68% |######################################################################################################                                                |\r"
     ]
    },
    {
     "name": "stdout",
     "output_type": "stream",
     "text": [
      "Epoch 340 start...\n",
      "Epoch 341 start...\n",
      "Epoch 342 start...\n",
      "Epoch 343 start...\n"
     ]
    },
    {
     "name": "stderr",
     "output_type": "stream",
     "text": [
      " 68% |#######################################################################################################                                               |\r"
     ]
    },
    {
     "name": "stdout",
     "output_type": "stream",
     "text": [
      "Epoch 344 start...\n",
      "Epoch 345 start...\n",
      "Epoch 346 start...\n",
      "Epoch 347 start...\n"
     ]
    },
    {
     "name": "stderr",
     "output_type": "stream",
     "text": [
      " 69% |########################################################################################################                                              |\r"
     ]
    },
    {
     "name": "stdout",
     "output_type": "stream",
     "text": [
      "Epoch 348 start...\n",
      "Epoch 349 start...\n",
      "Epoch 350 start...\n",
      "Epoch 351 start...\n"
     ]
    },
    {
     "name": "stderr",
     "output_type": "stream",
     "text": [
      " 70% |#########################################################################################################                                             |\r"
     ]
    },
    {
     "name": "stdout",
     "output_type": "stream",
     "text": [
      "Epoch 352 start...\n",
      "Epoch 353 start...\n",
      "Epoch 354 start...\n",
      "Epoch 355 start...\n"
     ]
    },
    {
     "name": "stderr",
     "output_type": "stream",
     "text": [
      " 71% |##########################################################################################################                                            |\r"
     ]
    },
    {
     "name": "stdout",
     "output_type": "stream",
     "text": [
      "Epoch 356 start...\n",
      "Epoch 357 start...\n",
      "Epoch 358 start...\n",
      "Epoch 359 start...\n"
     ]
    },
    {
     "name": "stderr",
     "output_type": "stream",
     "text": [
      " 72% |############################################################################################################                                          |\r"
     ]
    },
    {
     "name": "stdout",
     "output_type": "stream",
     "text": [
      "Epoch 360 start...\n",
      "Epoch 361 start...\n",
      "Epoch 362 start...\n",
      "Epoch 363 start...\n"
     ]
    },
    {
     "name": "stderr",
     "output_type": "stream",
     "text": [
      " 72% |#############################################################################################################                                         |\r"
     ]
    },
    {
     "name": "stdout",
     "output_type": "stream",
     "text": [
      "Epoch 364 start...\n",
      "Epoch 365 start...\n",
      "Epoch 366 start...\n",
      "Epoch 367 start...\n"
     ]
    },
    {
     "name": "stderr",
     "output_type": "stream",
     "text": [
      " 73% |##############################################################################################################                                        |\r"
     ]
    },
    {
     "name": "stdout",
     "output_type": "stream",
     "text": [
      "Epoch 368 start...\n",
      "Epoch 369 start...\n",
      "Epoch 370 start...\n",
      "Epoch 371 start...\n"
     ]
    },
    {
     "name": "stderr",
     "output_type": "stream",
     "text": [
      " 74% |###############################################################################################################                                       |\r"
     ]
    },
    {
     "name": "stdout",
     "output_type": "stream",
     "text": [
      "Epoch 372 start...\n",
      "Epoch 373 start...\n",
      "Epoch 374 start...\n",
      "Epoch 375 start...\n"
     ]
    },
    {
     "name": "stderr",
     "output_type": "stream",
     "text": [
      " 75% |################################################################################################################                                      |\r"
     ]
    },
    {
     "name": "stdout",
     "output_type": "stream",
     "text": [
      "Epoch 376 start...\n",
      "Epoch 377 start...\n",
      "Epoch 378 start...\n",
      "Epoch 379 start...\n"
     ]
    },
    {
     "name": "stderr",
     "output_type": "stream",
     "text": [
      " 76% |##################################################################################################################                                    |\r"
     ]
    },
    {
     "name": "stdout",
     "output_type": "stream",
     "text": [
      "Epoch 380 start...\n",
      "Epoch 381 start...\n",
      "Epoch 382 start...\n",
      "Epoch 383 start...\n"
     ]
    },
    {
     "name": "stderr",
     "output_type": "stream",
     "text": [
      " 76% |###################################################################################################################                                   |\r"
     ]
    },
    {
     "name": "stdout",
     "output_type": "stream",
     "text": [
      "Epoch 384 start...\n",
      "Epoch 385 start...\n",
      "Epoch 386 start...\n",
      "Epoch 387 start...\n"
     ]
    },
    {
     "name": "stderr",
     "output_type": "stream",
     "text": [
      " 77% |####################################################################################################################                                  |\r"
     ]
    },
    {
     "name": "stdout",
     "output_type": "stream",
     "text": [
      "Epoch 388 start...\n",
      "Epoch 389 start...\n",
      "Epoch 390 start...\n",
      "Epoch 391 start...\n"
     ]
    },
    {
     "name": "stderr",
     "output_type": "stream",
     "text": [
      " 78% |#####################################################################################################################                                 |\r"
     ]
    },
    {
     "name": "stdout",
     "output_type": "stream",
     "text": [
      "Epoch 392 start...\n",
      "Epoch 393 start...\n",
      "Epoch 394 start...\n",
      "Epoch 395 start...\n"
     ]
    },
    {
     "name": "stderr",
     "output_type": "stream",
     "text": [
      " 79% |######################################################################################################################                                |\r"
     ]
    },
    {
     "name": "stdout",
     "output_type": "stream",
     "text": [
      "Epoch 396 start...\n",
      "Epoch 397 start...\n",
      "Epoch 398 start...\n",
      "Epoch 399 start...\n"
     ]
    },
    {
     "name": "stderr",
     "output_type": "stream",
     "text": [
      " 80% |########################################################################################################################                              |\r"
     ]
    },
    {
     "name": "stdout",
     "output_type": "stream",
     "text": [
      "Epoch 400 start...\n",
      "Epoch 401 start...\n",
      "Epoch 402 start...\n",
      "Epoch 403 start...\n"
     ]
    },
    {
     "name": "stderr",
     "output_type": "stream",
     "text": [
      " 80% |#########################################################################################################################                             |\r"
     ]
    },
    {
     "name": "stdout",
     "output_type": "stream",
     "text": [
      "Epoch 404 start...\n",
      "Epoch 405 start...\n",
      "Epoch 406 start...\n",
      "Epoch 407 start...\n"
     ]
    },
    {
     "name": "stderr",
     "output_type": "stream",
     "text": [
      " 81% |##########################################################################################################################                            |\r"
     ]
    },
    {
     "name": "stdout",
     "output_type": "stream",
     "text": [
      "Epoch 408 start...\n",
      "Epoch 409 start...\n",
      "Epoch 410 start...\n",
      "Epoch 411 start...\n"
     ]
    },
    {
     "name": "stderr",
     "output_type": "stream",
     "text": [
      " 82% |###########################################################################################################################                           |\r"
     ]
    },
    {
     "name": "stdout",
     "output_type": "stream",
     "text": [
      "Epoch 412 start...\n",
      "Epoch 413 start...\n",
      "Epoch 414 start...\n",
      "Epoch 415 start...\n"
     ]
    },
    {
     "name": "stderr",
     "output_type": "stream",
     "text": [
      " 83% |############################################################################################################################                          |\r"
     ]
    },
    {
     "name": "stdout",
     "output_type": "stream",
     "text": [
      "Epoch 416 start...\n",
      "Epoch 417 start...\n",
      "Epoch 418 start...\n",
      "Epoch 419 start...\n"
     ]
    },
    {
     "name": "stderr",
     "output_type": "stream",
     "text": [
      " 84% |##############################################################################################################################                        |\r"
     ]
    },
    {
     "name": "stdout",
     "output_type": "stream",
     "text": [
      "Epoch 420 start...\n",
      "Epoch 421 start...\n",
      "Epoch 422 start...\n",
      "Epoch 423 start...\n"
     ]
    },
    {
     "name": "stderr",
     "output_type": "stream",
     "text": [
      " 84% |###############################################################################################################################                       |\r"
     ]
    },
    {
     "name": "stdout",
     "output_type": "stream",
     "text": [
      "Epoch 424 start...\n",
      "Epoch 425 start...\n",
      "Epoch 426 start...\n",
      "Epoch 427 start...\n"
     ]
    },
    {
     "name": "stderr",
     "output_type": "stream",
     "text": [
      " 85% |################################################################################################################################                      |\r"
     ]
    },
    {
     "name": "stdout",
     "output_type": "stream",
     "text": [
      "Epoch 428 start...\n",
      "Epoch 429 start...\n",
      "Epoch 430 start...\n",
      "Epoch 431 start...\n"
     ]
    },
    {
     "name": "stderr",
     "output_type": "stream",
     "text": [
      " 86% |#################################################################################################################################                     |\r"
     ]
    },
    {
     "name": "stdout",
     "output_type": "stream",
     "text": [
      "Epoch 432 start...\n",
      "Epoch 433 start...\n",
      "Epoch 434 start...\n",
      "Epoch 435 start...\n"
     ]
    },
    {
     "name": "stderr",
     "output_type": "stream",
     "text": [
      " 87% |##################################################################################################################################                    |\r"
     ]
    },
    {
     "name": "stdout",
     "output_type": "stream",
     "text": [
      "Epoch 436 start...\n",
      "Epoch 437 start...\n",
      "Epoch 438 start...\n",
      "Epoch 439 start...\n"
     ]
    },
    {
     "name": "stderr",
     "output_type": "stream",
     "text": [
      " 88% |####################################################################################################################################                  |\r"
     ]
    },
    {
     "name": "stdout",
     "output_type": "stream",
     "text": [
      "Epoch 440 start...\n",
      "Epoch 441 start...\n",
      "Epoch 442 start...\n",
      "Epoch 443 start...\n"
     ]
    },
    {
     "name": "stderr",
     "output_type": "stream",
     "text": [
      " 88% |#####################################################################################################################################                 |\r"
     ]
    },
    {
     "name": "stdout",
     "output_type": "stream",
     "text": [
      "Epoch 444 start...\n",
      "Epoch 445 start...\n",
      "Epoch 446 start...\n",
      "Epoch 447 start...\n"
     ]
    },
    {
     "name": "stderr",
     "output_type": "stream",
     "text": [
      " 89% |######################################################################################################################################                |\r"
     ]
    },
    {
     "name": "stdout",
     "output_type": "stream",
     "text": [
      "Epoch 448 start...\n",
      "Epoch 449 start...\n",
      "Epoch 450 start...\n",
      "Epoch 451 start...\n"
     ]
    },
    {
     "name": "stderr",
     "output_type": "stream",
     "text": [
      " 90% |#######################################################################################################################################               |\r"
     ]
    },
    {
     "name": "stdout",
     "output_type": "stream",
     "text": [
      "Epoch 452 start...\n",
      "Epoch 453 start...\n",
      "Epoch 454 start...\n",
      "Epoch 455 start...\n"
     ]
    },
    {
     "name": "stderr",
     "output_type": "stream",
     "text": [
      " 91% |########################################################################################################################################              |\r"
     ]
    },
    {
     "name": "stdout",
     "output_type": "stream",
     "text": [
      "Epoch 456 start...\n",
      "Epoch 457 start...\n",
      "Epoch 458 start...\n",
      "Epoch 459 start...\n"
     ]
    },
    {
     "name": "stderr",
     "output_type": "stream",
     "text": [
      " 92% |##########################################################################################################################################            |\r"
     ]
    },
    {
     "name": "stdout",
     "output_type": "stream",
     "text": [
      "Epoch 460 start...\n",
      "Epoch 461 start...\n",
      "Epoch 462 start...\n",
      "Epoch 463 start...\n"
     ]
    },
    {
     "name": "stderr",
     "output_type": "stream",
     "text": [
      " 92% |###########################################################################################################################################           |\r"
     ]
    },
    {
     "name": "stdout",
     "output_type": "stream",
     "text": [
      "Epoch 464 start...\n",
      "Epoch 465 start...\n",
      "Epoch 466 start...\n",
      "Epoch 467 start...\n"
     ]
    },
    {
     "name": "stderr",
     "output_type": "stream",
     "text": [
      " 93% |############################################################################################################################################          |\r"
     ]
    },
    {
     "name": "stdout",
     "output_type": "stream",
     "text": [
      "Epoch 468 start...\n",
      "Epoch 469 start...\n",
      "Epoch 470 start...\n",
      "Epoch 471 start...\n"
     ]
    },
    {
     "name": "stderr",
     "output_type": "stream",
     "text": [
      " 94% |#############################################################################################################################################         |\r"
     ]
    },
    {
     "name": "stdout",
     "output_type": "stream",
     "text": [
      "Epoch 472 start...\n",
      "Epoch 473 start...\n",
      "Epoch 474 start...\n",
      "Epoch 475 start...\n"
     ]
    },
    {
     "name": "stderr",
     "output_type": "stream",
     "text": [
      " 95% |##############################################################################################################################################        |\r"
     ]
    },
    {
     "name": "stdout",
     "output_type": "stream",
     "text": [
      "Epoch 476 start...\n",
      "Epoch 477 start...\n",
      "Epoch 478 start...\n",
      "Epoch 479 start...\n"
     ]
    },
    {
     "name": "stderr",
     "output_type": "stream",
     "text": [
      " 96% |################################################################################################################################################      |\r"
     ]
    },
    {
     "name": "stdout",
     "output_type": "stream",
     "text": [
      "Epoch 480 start...\n",
      "Epoch 481 start...\n",
      "Epoch 482 start...\n",
      "Epoch 483 start...\n"
     ]
    },
    {
     "name": "stderr",
     "output_type": "stream",
     "text": [
      " 96% |#################################################################################################################################################     |\r"
     ]
    },
    {
     "name": "stdout",
     "output_type": "stream",
     "text": [
      "Epoch 484 start...\n",
      "Epoch 485 start...\n",
      "Epoch 486 start...\n",
      "Epoch 487 start...\n"
     ]
    },
    {
     "name": "stderr",
     "output_type": "stream",
     "text": [
      " 97% |##################################################################################################################################################    |\r"
     ]
    },
    {
     "name": "stdout",
     "output_type": "stream",
     "text": [
      "Epoch 488 start...\n",
      "Epoch 489 start...\n",
      "Epoch 490 start...\n",
      "Epoch 491 start...\n"
     ]
    },
    {
     "name": "stderr",
     "output_type": "stream",
     "text": [
      " 98% |###################################################################################################################################################   |\r"
     ]
    },
    {
     "name": "stdout",
     "output_type": "stream",
     "text": [
      "Epoch 492 start...\n",
      "Epoch 493 start...\n",
      "Epoch 494 start...\n",
      "Epoch 495 start...\n"
     ]
    },
    {
     "name": "stderr",
     "output_type": "stream",
     "text": [
      " 99% |####################################################################################################################################################  |\r"
     ]
    },
    {
     "name": "stdout",
     "output_type": "stream",
     "text": [
      "Epoch 496 start...\n",
      "Epoch 497 start...\n",
      "Epoch 498 start...\n",
      "Epoch 499 start...\n"
     ]
    },
    {
     "name": "stderr",
     "output_type": "stream",
     "text": [
      "100% |######################################################################################################################################################|\n"
     ]
    },
    {
     "name": "stdout",
     "output_type": "stream",
     "text": [
      "Prediction: 0\n",
      "Prediction: 1\n",
      "Prediction: 2\n",
      "Prediction: 3\n",
      "Prediction: 4\n",
      "Prediction: 5\n",
      "Prediction: 6\n",
      "Prediction: 7\n",
      "Prediction: 8\n",
      "Prediction: 9\n",
      "Prediction: 10\n",
      "Prediction: 11\n",
      "Prediction: 12\n",
      "Prediction: 13\n",
      "Prediction: 14\n",
      "Prediction: 15\n",
      "Prediction: 16\n",
      "Prediction: 17\n",
      "Prediction: 18\n",
      "Prediction: 19\n",
      "Prediction: 20\n",
      "Prediction: 21\n",
      "Prediction: 22\n",
      "Prediction: 23\n",
      "Prediction: 24\n",
      "Prediction: 25\n",
      "Prediction: 26\n",
      "Prediction: 27\n",
      "Prediction: 28\n",
      "Prediction: 29\n",
      "Prediction: 30\n",
      "Prediction: 31\n",
      "Prediction: 32\n",
      "Prediction: 33\n",
      "Prediction: 34\n",
      "Prediction: 35\n",
      "Prediction: 36\n",
      "Prediction: 37\n",
      "Prediction: 38\n",
      "Prediction: 39\n",
      "Prediction: 40\n",
      "Prediction: 41\n",
      "Prediction: 42\n",
      "Prediction: 43\n",
      "Prediction: 44\n",
      "Prediction: 45\n",
      "Prediction: 46\n",
      "Prediction: 47\n",
      "Prediction: 48\n",
      "Prediction: 49\n",
      "Prediction: 50\n",
      "Prediction: 51\n",
      "Prediction: 52\n",
      "Prediction: 53\n",
      "Prediction: 54\n",
      "Prediction: 55\n",
      "Prediction: 56\n",
      "Prediction: 57\n",
      "Prediction: 58\n",
      "Prediction: 59\n",
      "Prediction: 60\n",
      "Prediction: 61\n",
      "Prediction: 62\n",
      "Prediction: 63\n",
      "Prediction: 64\n",
      "Prediction: 65\n",
      "Prediction: 66\n",
      "Prediction: 67\n",
      "Prediction: 68\n",
      "Prediction: 69\n",
      "Prediction: 70\n",
      "Prediction: 71\n",
      "Prediction: 72\n",
      "Prediction: 73\n",
      "Prediction: 74\n",
      "Prediction: 75\n",
      "Prediction: 76\n",
      "Prediction: 77\n",
      "Prediction: 78\n",
      "Prediction: 79\n",
      "Prediction: 80\n",
      "Prediction: 81\n",
      "Prediction: 82\n",
      "Prediction: 83\n",
      "Prediction: 84\n",
      "Prediction: 85\n",
      "Prediction: 86\n",
      "Prediction: 87\n",
      "Prediction: 88\n",
      "Prediction: 89\n",
      "Prediction: 90\n",
      "Prediction: 91\n",
      "Prediction: 92\n",
      "Prediction: 93\n",
      "Prediction: 94\n",
      "Prediction: 95\n",
      "Prediction: 96\n",
      "Prediction: 97\n",
      "Prediction: 98\n",
      "Prediction: 99\n",
      "Prediction: 100\n",
      "Prediction: 101\n",
      "Prediction: 102\n",
      "Prediction: 103\n",
      "Prediction: 104\n",
      "Prediction: 105\n",
      "Prediction: 106\n",
      "Prediction: 107\n",
      "Prediction: 108\n",
      "Prediction: 109\n",
      "Prediction: 110\n",
      "Prediction: 111\n",
      "Prediction: 112\n",
      "Prediction: 113\n",
      "Prediction: 114\n",
      "Prediction: 115\n",
      "Prediction: 116\n",
      "Prediction: 117\n",
      "Prediction: 118\n",
      "Prediction: 119\n",
      "Prediction: 120\n"
     ]
    },
    {
     "name": "stderr",
     "output_type": "stream",
     "text": [
      "/aul/homes/jshi008/IvyProjects/ICLR/02MQRNN/util.py:57: RuntimeWarning: divide by zero encountered in true_divide\n",
      "  return np.mean(np.abs((ytrue - ypred) / ytrue))\n",
      "/aul/homes/jshi008/IvyProjects/ICLR/02MQRNN/util.py:57: RuntimeWarning: divide by zero encountered in true_divide\n",
      "  return np.mean(np.abs((ytrue - ypred) / ytrue))\n",
      "/aul/homes/jshi008/IvyProjects/ICLR/02MQRNN/util.py:57: RuntimeWarning: divide by zero encountered in true_divide\n",
      "  return np.mean(np.abs((ytrue - ypred) / ytrue))\n",
      "/aul/homes/jshi008/IvyProjects/ICLR/02MQRNN/util.py:57: RuntimeWarning: divide by zero encountered in true_divide\n",
      "  return np.mean(np.abs((ytrue - ypred) / ytrue))\n",
      "/aul/homes/jshi008/IvyProjects/ICLR/02MQRNN/util.py:57: RuntimeWarning: divide by zero encountered in true_divide\n",
      "  return np.mean(np.abs((ytrue - ypred) / ytrue))\n",
      "/aul/homes/jshi008/IvyProjects/ICLR/02MQRNN/util.py:57: RuntimeWarning: divide by zero encountered in true_divide\n",
      "  return np.mean(np.abs((ytrue - ypred) / ytrue))\n"
     ]
    },
    {
     "name": "stdout",
     "output_type": "stream",
     "text": [
      "Prediction: 121\n",
      "Prediction: 122\n",
      "Prediction: 123\n",
      "Prediction: 124\n",
      "Prediction: 125\n",
      "Prediction: 126\n"
     ]
    },
    {
     "name": "stderr",
     "output_type": "stream",
     "text": [
      "/aul/homes/jshi008/IvyProjects/ICLR/02MQRNN/util.py:57: RuntimeWarning: divide by zero encountered in true_divide\n",
      "  return np.mean(np.abs((ytrue - ypred) / ytrue))\n",
      "/aul/homes/jshi008/IvyProjects/ICLR/02MQRNN/util.py:57: RuntimeWarning: divide by zero encountered in true_divide\n",
      "  return np.mean(np.abs((ytrue - ypred) / ytrue))\n",
      "/aul/homes/jshi008/IvyProjects/ICLR/02MQRNN/util.py:57: RuntimeWarning: divide by zero encountered in true_divide\n",
      "  return np.mean(np.abs((ytrue - ypred) / ytrue))\n"
     ]
    },
    {
     "name": "stdout",
     "output_type": "stream",
     "text": [
      "Prediction: 127\n",
      "Prediction: 128\n",
      "Prediction: 129\n"
     ]
    },
    {
     "name": "stderr",
     "output_type": "stream",
     "text": [
      "/aul/homes/jshi008/IvyProjects/ICLR/02MQRNN/util.py:57: RuntimeWarning: divide by zero encountered in true_divide\n",
      "  return np.mean(np.abs((ytrue - ypred) / ytrue))\n",
      "/aul/homes/jshi008/IvyProjects/ICLR/02MQRNN/util.py:57: RuntimeWarning: divide by zero encountered in true_divide\n",
      "  return np.mean(np.abs((ytrue - ypred) / ytrue))\n",
      "/aul/homes/jshi008/IvyProjects/ICLR/02MQRNN/util.py:57: RuntimeWarning: divide by zero encountered in true_divide\n",
      "  return np.mean(np.abs((ytrue - ypred) / ytrue))\n",
      "/aul/homes/jshi008/IvyProjects/ICLR/02MQRNN/util.py:57: RuntimeWarning: divide by zero encountered in true_divide\n",
      "  return np.mean(np.abs((ytrue - ypred) / ytrue))\n",
      "/aul/homes/jshi008/IvyProjects/ICLR/02MQRNN/util.py:57: RuntimeWarning: divide by zero encountered in true_divide\n",
      "  return np.mean(np.abs((ytrue - ypred) / ytrue))\n"
     ]
    },
    {
     "name": "stdout",
     "output_type": "stream",
     "text": [
      "Prediction: 130\n",
      "Prediction: 131\n",
      "Prediction: 132\n",
      "Prediction: 133\n",
      "Prediction: 134\n"
     ]
    },
    {
     "name": "stderr",
     "output_type": "stream",
     "text": [
      "/aul/homes/jshi008/IvyProjects/ICLR/02MQRNN/util.py:57: RuntimeWarning: divide by zero encountered in true_divide\n",
      "  return np.mean(np.abs((ytrue - ypred) / ytrue))\n",
      "/aul/homes/jshi008/IvyProjects/ICLR/02MQRNN/util.py:57: RuntimeWarning: divide by zero encountered in true_divide\n",
      "  return np.mean(np.abs((ytrue - ypred) / ytrue))\n",
      "/aul/homes/jshi008/IvyProjects/ICLR/02MQRNN/util.py:57: RuntimeWarning: divide by zero encountered in true_divide\n",
      "  return np.mean(np.abs((ytrue - ypred) / ytrue))\n"
     ]
    },
    {
     "name": "stdout",
     "output_type": "stream",
     "text": [
      "Prediction: 135\n",
      "Prediction: 136\n",
      "Prediction: 137\n"
     ]
    },
    {
     "name": "stderr",
     "output_type": "stream",
     "text": [
      "/aul/homes/jshi008/IvyProjects/ICLR/02MQRNN/util.py:57: RuntimeWarning: divide by zero encountered in true_divide\n",
      "  return np.mean(np.abs((ytrue - ypred) / ytrue))\n",
      "/aul/homes/jshi008/IvyProjects/ICLR/02MQRNN/util.py:57: RuntimeWarning: divide by zero encountered in true_divide\n",
      "  return np.mean(np.abs((ytrue - ypred) / ytrue))\n",
      "/aul/homes/jshi008/IvyProjects/ICLR/02MQRNN/util.py:57: RuntimeWarning: divide by zero encountered in true_divide\n",
      "  return np.mean(np.abs((ytrue - ypred) / ytrue))\n",
      "/aul/homes/jshi008/IvyProjects/ICLR/02MQRNN/util.py:57: RuntimeWarning: divide by zero encountered in true_divide\n",
      "  return np.mean(np.abs((ytrue - ypred) / ytrue))\n"
     ]
    },
    {
     "name": "stdout",
     "output_type": "stream",
     "text": [
      "Prediction: 138\n",
      "Prediction: 139\n",
      "Prediction: 140\n",
      "Prediction: 141\n"
     ]
    },
    {
     "name": "stderr",
     "output_type": "stream",
     "text": [
      "/aul/homes/jshi008/IvyProjects/ICLR/02MQRNN/util.py:57: RuntimeWarning: divide by zero encountered in true_divide\n",
      "  return np.mean(np.abs((ytrue - ypred) / ytrue))\n",
      "/aul/homes/jshi008/IvyProjects/ICLR/02MQRNN/util.py:57: RuntimeWarning: divide by zero encountered in true_divide\n",
      "  return np.mean(np.abs((ytrue - ypred) / ytrue))\n",
      "/aul/homes/jshi008/IvyProjects/ICLR/02MQRNN/util.py:57: RuntimeWarning: divide by zero encountered in true_divide\n",
      "  return np.mean(np.abs((ytrue - ypred) / ytrue))\n"
     ]
    },
    {
     "name": "stdout",
     "output_type": "stream",
     "text": [
      "Prediction: 142\n",
      "Prediction: 143\n",
      "Prediction: 144\n",
      "Prediction: 145\n",
      "Prediction: 146\n",
      "Prediction: 147\n",
      "Prediction: 148\n",
      "Prediction: 149\n",
      "Prediction: 150\n",
      "Prediction: 151\n",
      "Prediction: 152\n",
      "Prediction: 153\n",
      "Prediction: 154\n",
      "Prediction: 155\n",
      "Prediction: 156\n",
      "Prediction: 157\n",
      "Prediction: 158\n",
      "Prediction: 159\n",
      "Prediction: 160\n",
      "Prediction: 161\n",
      "Prediction: 162\n",
      "Prediction: 163\n",
      "Prediction: 164\n",
      "Prediction: 165\n",
      "Prediction: 166\n",
      "Prediction: 167\n",
      "Prediction: 168\n",
      "Prediction: 169\n",
      "Prediction: 170\n",
      "Prediction: 171\n",
      "Prediction: 172\n",
      "Prediction: 173\n",
      "Prediction: 174\n",
      "Prediction: 175\n",
      "Prediction: 176\n",
      "Prediction: 177\n",
      "Prediction: 178\n",
      "Prediction: 179\n",
      "Prediction: 180\n",
      "Prediction: 181\n",
      "Prediction: 182\n",
      "Prediction: 183\n",
      "Prediction: 184\n",
      "Prediction: 185\n",
      "Prediction: 186\n",
      "Prediction: 187\n",
      "Prediction: 188\n",
      "Prediction: 189\n",
      "Prediction: 190\n",
      "Prediction: 191\n",
      "Prediction: 192\n",
      "Prediction: 193\n",
      "Prediction: 194\n",
      "Prediction: 195\n",
      "Prediction: 196\n",
      "Prediction: 197\n",
      "Prediction: 198\n",
      "Prediction: 199\n",
      "Prediction: 200\n",
      "Prediction: 201\n",
      "Prediction: 202\n",
      "Prediction: 203\n",
      "Prediction: 204\n",
      "Prediction: 205\n",
      "Prediction: 206\n",
      "Prediction: 207\n",
      "Prediction: 208\n",
      "Prediction: 209\n",
      "Prediction: 210\n",
      "Prediction: 211\n",
      "Prediction: 212\n",
      "Prediction: 213\n",
      "Prediction: 214\n",
      "Prediction: 215\n",
      "Prediction: 216\n",
      "Prediction: 217\n",
      "Prediction: 218\n",
      "Prediction: 219\n",
      "Prediction: 220\n",
      "Prediction: 221\n",
      "Prediction: 222\n",
      "Prediction: 223\n",
      "Prediction: 224\n",
      "Prediction: 225\n",
      "Prediction: 226\n",
      "Prediction: 227\n",
      "Prediction: 228\n",
      "Prediction: 229\n",
      "Prediction: 230\n",
      "Prediction: 231\n",
      "Prediction: 232\n",
      "Prediction: 233\n",
      "Prediction: 234\n",
      "Prediction: 235\n",
      "Prediction: 236\n",
      "Prediction: 237\n",
      "Prediction: 238\n",
      "Prediction: 239\n",
      "Prediction: 240\n",
      "Prediction: 241\n",
      "Prediction: 242\n",
      "Prediction: 243\n",
      "Prediction: 244\n",
      "Prediction: 245\n",
      "Prediction: 246\n",
      "Prediction: 247\n",
      "Prediction: 248\n",
      "Prediction: 249\n",
      "Prediction: 250\n",
      "Prediction: 251\n",
      "Prediction: 252\n",
      "Prediction: 253\n",
      "Prediction: 254\n",
      "Prediction: 255\n",
      "Prediction: 256\n",
      "Prediction: 257\n",
      "Prediction: 258\n",
      "Prediction: 259\n",
      "Prediction: 260\n",
      "Prediction: 261\n",
      "Prediction: 262\n",
      "Prediction: 263\n",
      "Prediction: 264\n",
      "Prediction: 265\n",
      "Prediction: 266\n",
      "Prediction: 267\n",
      "Prediction: 268\n",
      "Prediction: 269\n",
      "Prediction: 270\n",
      "Prediction: 271\n",
      "Prediction: 272\n",
      "Prediction: 273\n",
      "Prediction: 274\n",
      "Prediction: 275\n",
      "Prediction: 276\n",
      "Prediction: 277\n",
      "Prediction: 278\n",
      "Prediction: 279\n",
      "Prediction: 280\n",
      "Prediction: 281\n",
      "Prediction: 282\n"
     ]
    },
    {
     "name": "stderr",
     "output_type": "stream",
     "text": [
      "/aul/homes/jshi008/IvyProjects/ICLR/02MQRNN/util.py:57: RuntimeWarning: divide by zero encountered in true_divide\n",
      "  return np.mean(np.abs((ytrue - ypred) / ytrue))\n",
      "/aul/homes/jshi008/IvyProjects/ICLR/02MQRNN/util.py:57: RuntimeWarning: divide by zero encountered in true_divide\n",
      "  return np.mean(np.abs((ytrue - ypred) / ytrue))\n",
      "/aul/homes/jshi008/IvyProjects/ICLR/02MQRNN/util.py:57: RuntimeWarning: divide by zero encountered in true_divide\n",
      "  return np.mean(np.abs((ytrue - ypred) / ytrue))\n"
     ]
    },
    {
     "name": "stdout",
     "output_type": "stream",
     "text": [
      "Prediction: 283\n",
      "Prediction: 284\n"
     ]
    },
    {
     "name": "stderr",
     "output_type": "stream",
     "text": [
      "/aul/homes/jshi008/IvyProjects/ICLR/02MQRNN/util.py:57: RuntimeWarning: divide by zero encountered in true_divide\n",
      "  return np.mean(np.abs((ytrue - ypred) / ytrue))\n",
      "/aul/homes/jshi008/IvyProjects/ICLR/02MQRNN/util.py:57: RuntimeWarning: divide by zero encountered in true_divide\n",
      "  return np.mean(np.abs((ytrue - ypred) / ytrue))\n"
     ]
    },
    {
     "name": "stdout",
     "output_type": "stream",
     "text": [
      "Prediction: 285\n",
      "Prediction: 286\n"
     ]
    },
    {
     "name": "stderr",
     "output_type": "stream",
     "text": [
      "/aul/homes/jshi008/IvyProjects/ICLR/02MQRNN/util.py:57: RuntimeWarning: divide by zero encountered in true_divide\n",
      "  return np.mean(np.abs((ytrue - ypred) / ytrue))\n",
      "/aul/homes/jshi008/IvyProjects/ICLR/02MQRNN/util.py:57: RuntimeWarning: divide by zero encountered in true_divide\n",
      "  return np.mean(np.abs((ytrue - ypred) / ytrue))\n"
     ]
    },
    {
     "name": "stdout",
     "output_type": "stream",
     "text": [
      "Prediction: 287\n",
      "Prediction: 288\n"
     ]
    },
    {
     "name": "stderr",
     "output_type": "stream",
     "text": [
      "/aul/homes/jshi008/IvyProjects/ICLR/02MQRNN/util.py:57: RuntimeWarning: divide by zero encountered in true_divide\n",
      "  return np.mean(np.abs((ytrue - ypred) / ytrue))\n",
      "/aul/homes/jshi008/IvyProjects/ICLR/02MQRNN/util.py:57: RuntimeWarning: divide by zero encountered in true_divide\n",
      "  return np.mean(np.abs((ytrue - ypred) / ytrue))\n",
      "/aul/homes/jshi008/IvyProjects/ICLR/02MQRNN/util.py:57: RuntimeWarning: divide by zero encountered in true_divide\n",
      "  return np.mean(np.abs((ytrue - ypred) / ytrue))\n"
     ]
    },
    {
     "name": "stdout",
     "output_type": "stream",
     "text": [
      "Prediction: 289\n",
      "Prediction: 290\n",
      "Prediction: 291\n"
     ]
    },
    {
     "name": "stderr",
     "output_type": "stream",
     "text": [
      "/aul/homes/jshi008/IvyProjects/ICLR/02MQRNN/util.py:57: RuntimeWarning: divide by zero encountered in true_divide\n",
      "  return np.mean(np.abs((ytrue - ypred) / ytrue))\n",
      "/aul/homes/jshi008/IvyProjects/ICLR/02MQRNN/util.py:57: RuntimeWarning: divide by zero encountered in true_divide\n",
      "  return np.mean(np.abs((ytrue - ypred) / ytrue))\n"
     ]
    },
    {
     "name": "stdout",
     "output_type": "stream",
     "text": [
      "Prediction: 292\n",
      "Prediction: 293\n"
     ]
    },
    {
     "name": "stderr",
     "output_type": "stream",
     "text": [
      "/aul/homes/jshi008/IvyProjects/ICLR/02MQRNN/util.py:57: RuntimeWarning: divide by zero encountered in true_divide\n",
      "  return np.mean(np.abs((ytrue - ypred) / ytrue))\n",
      "/aul/homes/jshi008/IvyProjects/ICLR/02MQRNN/util.py:57: RuntimeWarning: divide by zero encountered in true_divide\n",
      "  return np.mean(np.abs((ytrue - ypred) / ytrue))\n",
      "/aul/homes/jshi008/IvyProjects/ICLR/02MQRNN/util.py:57: RuntimeWarning: divide by zero encountered in true_divide\n",
      "  return np.mean(np.abs((ytrue - ypred) / ytrue))\n",
      "/aul/homes/jshi008/IvyProjects/ICLR/02MQRNN/util.py:57: RuntimeWarning: divide by zero encountered in true_divide\n",
      "  return np.mean(np.abs((ytrue - ypred) / ytrue))\n"
     ]
    },
    {
     "name": "stdout",
     "output_type": "stream",
     "text": [
      "Prediction: 294\n",
      "Prediction: 295\n",
      "Prediction: 296\n",
      "Prediction: 297\n"
     ]
    },
    {
     "name": "stderr",
     "output_type": "stream",
     "text": [
      "/aul/homes/jshi008/IvyProjects/ICLR/02MQRNN/util.py:57: RuntimeWarning: divide by zero encountered in true_divide\n",
      "  return np.mean(np.abs((ytrue - ypred) / ytrue))\n",
      "/aul/homes/jshi008/IvyProjects/ICLR/02MQRNN/util.py:57: RuntimeWarning: divide by zero encountered in true_divide\n",
      "  return np.mean(np.abs((ytrue - ypred) / ytrue))\n",
      "/aul/homes/jshi008/IvyProjects/ICLR/02MQRNN/util.py:57: RuntimeWarning: divide by zero encountered in true_divide\n",
      "  return np.mean(np.abs((ytrue - ypred) / ytrue))\n"
     ]
    },
    {
     "name": "stdout",
     "output_type": "stream",
     "text": [
      "Prediction: 298\n",
      "Prediction: 299\n",
      "Prediction: 300\n"
     ]
    },
    {
     "name": "stderr",
     "output_type": "stream",
     "text": [
      "/aul/homes/jshi008/IvyProjects/ICLR/02MQRNN/util.py:57: RuntimeWarning: divide by zero encountered in true_divide\n",
      "  return np.mean(np.abs((ytrue - ypred) / ytrue))\n",
      "/aul/homes/jshi008/IvyProjects/ICLR/02MQRNN/util.py:57: RuntimeWarning: divide by zero encountered in true_divide\n",
      "  return np.mean(np.abs((ytrue - ypred) / ytrue))\n",
      "/aul/homes/jshi008/IvyProjects/ICLR/02MQRNN/util.py:57: RuntimeWarning: divide by zero encountered in true_divide\n",
      "  return np.mean(np.abs((ytrue - ypred) / ytrue))\n"
     ]
    },
    {
     "name": "stdout",
     "output_type": "stream",
     "text": [
      "Prediction: 301\n",
      "Prediction: 302\n",
      "Prediction: 303\n"
     ]
    },
    {
     "name": "stderr",
     "output_type": "stream",
     "text": [
      "/aul/homes/jshi008/IvyProjects/ICLR/02MQRNN/util.py:57: RuntimeWarning: divide by zero encountered in true_divide\n",
      "  return np.mean(np.abs((ytrue - ypred) / ytrue))\n",
      "/aul/homes/jshi008/IvyProjects/ICLR/02MQRNN/util.py:57: RuntimeWarning: divide by zero encountered in true_divide\n",
      "  return np.mean(np.abs((ytrue - ypred) / ytrue))\n"
     ]
    },
    {
     "name": "stdout",
     "output_type": "stream",
     "text": [
      "Prediction: 304\n",
      "Prediction: 305\n",
      "Prediction: 306\n",
      "Prediction: 307\n",
      "Prediction: 308\n",
      "Prediction: 309\n",
      "Prediction: 310\n",
      "Prediction: 311\n",
      "Prediction: 312\n",
      "Prediction: 313\n",
      "Prediction: 314\n",
      "Prediction: 315\n",
      "Prediction: 316\n",
      "Prediction: 317\n",
      "Prediction: 318\n",
      "Prediction: 319\n",
      "Prediction: 320\n",
      "Prediction: 321\n",
      "Prediction: 322\n",
      "Prediction: 323\n",
      "Prediction: 324\n",
      "Prediction: 325\n",
      "Prediction: 326\n",
      "Prediction: 327\n",
      "Prediction: 328\n",
      "Prediction: 329\n",
      "Prediction: 330\n",
      "Prediction: 331\n",
      "Prediction: 332\n",
      "Prediction: 333\n",
      "Prediction: 334\n",
      "Prediction: 335\n",
      "Prediction: 336\n",
      "Prediction: 337\n",
      "Prediction: 338\n",
      "Prediction: 339\n",
      "Prediction: 340\n",
      "Prediction: 341\n",
      "Prediction: 342\n",
      "Prediction: 343\n",
      "Prediction: 344\n",
      "Prediction: 345\n",
      "Prediction: 346\n",
      "Prediction: 347\n",
      "Prediction: 348\n",
      "Prediction: 349\n",
      "Prediction: 350\n",
      "Prediction: 351\n",
      "Prediction: 352\n",
      "Prediction: 353\n",
      "Prediction: 354\n",
      "Prediction: 355\n",
      "Prediction: 356\n",
      "Prediction: 357\n",
      "Prediction: 358\n",
      "Prediction: 359\n",
      "Prediction: 360\n",
      "Prediction: 361\n",
      "Prediction: 362\n",
      "Prediction: 363\n",
      "Prediction: 364\n",
      "Prediction: 365\n",
      "Prediction: 366\n",
      "Prediction: 367\n",
      "Prediction: 368\n",
      "Prediction: 369\n",
      "Prediction: 370\n",
      "Prediction: 371\n",
      "Prediction: 372\n"
     ]
    },
    {
     "name": "stderr",
     "output_type": "stream",
     "text": [
      "/aul/homes/jshi008/IvyProjects/ICLR/02MQRNN/util.py:57: RuntimeWarning: divide by zero encountered in true_divide\n",
      "  return np.mean(np.abs((ytrue - ypred) / ytrue))\n",
      "/aul/homes/jshi008/IvyProjects/ICLR/02MQRNN/util.py:57: RuntimeWarning: divide by zero encountered in true_divide\n",
      "  return np.mean(np.abs((ytrue - ypred) / ytrue))\n"
     ]
    },
    {
     "name": "stdout",
     "output_type": "stream",
     "text": [
      "Prediction: 373\n",
      "Prediction: 374\n"
     ]
    },
    {
     "name": "stderr",
     "output_type": "stream",
     "text": [
      "/aul/homes/jshi008/IvyProjects/ICLR/02MQRNN/util.py:57: RuntimeWarning: divide by zero encountered in true_divide\n",
      "  return np.mean(np.abs((ytrue - ypred) / ytrue))\n",
      "/aul/homes/jshi008/IvyProjects/ICLR/02MQRNN/util.py:57: RuntimeWarning: divide by zero encountered in true_divide\n",
      "  return np.mean(np.abs((ytrue - ypred) / ytrue))\n",
      "/aul/homes/jshi008/IvyProjects/ICLR/02MQRNN/util.py:57: RuntimeWarning: divide by zero encountered in true_divide\n",
      "  return np.mean(np.abs((ytrue - ypred) / ytrue))\n",
      "/aul/homes/jshi008/IvyProjects/ICLR/02MQRNN/util.py:57: RuntimeWarning: divide by zero encountered in true_divide\n",
      "  return np.mean(np.abs((ytrue - ypred) / ytrue))\n",
      "/aul/homes/jshi008/IvyProjects/ICLR/02MQRNN/util.py:57: RuntimeWarning: divide by zero encountered in true_divide\n",
      "  return np.mean(np.abs((ytrue - ypred) / ytrue))\n"
     ]
    },
    {
     "name": "stdout",
     "output_type": "stream",
     "text": [
      "Prediction: 375\n",
      "Prediction: 376\n",
      "Prediction: 377\n",
      "Prediction: 378\n",
      "Prediction: 379\n"
     ]
    },
    {
     "name": "stderr",
     "output_type": "stream",
     "text": [
      "/aul/homes/jshi008/IvyProjects/ICLR/02MQRNN/util.py:57: RuntimeWarning: divide by zero encountered in true_divide\n",
      "  return np.mean(np.abs((ytrue - ypred) / ytrue))\n",
      "/aul/homes/jshi008/IvyProjects/ICLR/02MQRNN/util.py:57: RuntimeWarning: divide by zero encountered in true_divide\n",
      "  return np.mean(np.abs((ytrue - ypred) / ytrue))\n",
      "/aul/homes/jshi008/IvyProjects/ICLR/02MQRNN/util.py:57: RuntimeWarning: divide by zero encountered in true_divide\n",
      "  return np.mean(np.abs((ytrue - ypred) / ytrue))\n",
      "/aul/homes/jshi008/IvyProjects/ICLR/02MQRNN/util.py:57: RuntimeWarning: divide by zero encountered in true_divide\n",
      "  return np.mean(np.abs((ytrue - ypred) / ytrue))\n",
      "/aul/homes/jshi008/IvyProjects/ICLR/02MQRNN/util.py:57: RuntimeWarning: divide by zero encountered in true_divide\n",
      "  return np.mean(np.abs((ytrue - ypred) / ytrue))\n"
     ]
    },
    {
     "name": "stdout",
     "output_type": "stream",
     "text": [
      "Prediction: 380\n",
      "Prediction: 381\n",
      "Prediction: 382\n",
      "Prediction: 383\n",
      "Prediction: 384\n"
     ]
    },
    {
     "name": "stderr",
     "output_type": "stream",
     "text": [
      "/aul/homes/jshi008/IvyProjects/ICLR/02MQRNN/util.py:57: RuntimeWarning: divide by zero encountered in true_divide\n",
      "  return np.mean(np.abs((ytrue - ypred) / ytrue))\n",
      "/aul/homes/jshi008/IvyProjects/ICLR/02MQRNN/util.py:57: RuntimeWarning: divide by zero encountered in true_divide\n",
      "  return np.mean(np.abs((ytrue - ypred) / ytrue))\n",
      "/aul/homes/jshi008/IvyProjects/ICLR/02MQRNN/util.py:57: RuntimeWarning: divide by zero encountered in true_divide\n",
      "  return np.mean(np.abs((ytrue - ypred) / ytrue))\n",
      "/aul/homes/jshi008/IvyProjects/ICLR/02MQRNN/util.py:57: RuntimeWarning: divide by zero encountered in true_divide\n",
      "  return np.mean(np.abs((ytrue - ypred) / ytrue))\n"
     ]
    },
    {
     "name": "stdout",
     "output_type": "stream",
     "text": [
      "Prediction: 385\n",
      "Prediction: 386\n",
      "Prediction: 387\n",
      "Prediction: 388\n"
     ]
    },
    {
     "name": "stderr",
     "output_type": "stream",
     "text": [
      "/aul/homes/jshi008/IvyProjects/ICLR/02MQRNN/util.py:57: RuntimeWarning: divide by zero encountered in true_divide\n",
      "  return np.mean(np.abs((ytrue - ypred) / ytrue))\n",
      "/aul/homes/jshi008/IvyProjects/ICLR/02MQRNN/util.py:57: RuntimeWarning: divide by zero encountered in true_divide\n",
      "  return np.mean(np.abs((ytrue - ypred) / ytrue))\n",
      "/aul/homes/jshi008/IvyProjects/ICLR/02MQRNN/util.py:57: RuntimeWarning: divide by zero encountered in true_divide\n",
      "  return np.mean(np.abs((ytrue - ypred) / ytrue))\n",
      "/aul/homes/jshi008/IvyProjects/ICLR/02MQRNN/util.py:57: RuntimeWarning: divide by zero encountered in true_divide\n",
      "  return np.mean(np.abs((ytrue - ypred) / ytrue))\n"
     ]
    },
    {
     "name": "stdout",
     "output_type": "stream",
     "text": [
      "Prediction: 389\n",
      "Prediction: 390\n",
      "Prediction: 391\n",
      "Prediction: 392\n"
     ]
    },
    {
     "name": "stderr",
     "output_type": "stream",
     "text": [
      "/aul/homes/jshi008/IvyProjects/ICLR/02MQRNN/util.py:57: RuntimeWarning: divide by zero encountered in true_divide\n",
      "  return np.mean(np.abs((ytrue - ypred) / ytrue))\n",
      "/aul/homes/jshi008/IvyProjects/ICLR/02MQRNN/util.py:57: RuntimeWarning: divide by zero encountered in true_divide\n",
      "  return np.mean(np.abs((ytrue - ypred) / ytrue))\n",
      "/aul/homes/jshi008/IvyProjects/ICLR/02MQRNN/util.py:57: RuntimeWarning: divide by zero encountered in true_divide\n",
      "  return np.mean(np.abs((ytrue - ypred) / ytrue))\n",
      "/aul/homes/jshi008/IvyProjects/ICLR/02MQRNN/util.py:57: RuntimeWarning: divide by zero encountered in true_divide\n",
      "  return np.mean(np.abs((ytrue - ypred) / ytrue))\n"
     ]
    },
    {
     "name": "stdout",
     "output_type": "stream",
     "text": [
      "Prediction: 393\n",
      "Prediction: 394\n",
      "Prediction: 395\n",
      "Prediction: 396\n",
      "Prediction: 397\n",
      "Prediction: 398\n",
      "Prediction: 399\n",
      "Prediction: 400\n",
      "Prediction: 401\n",
      "Prediction: 402\n",
      "Prediction: 403\n",
      "Prediction: 404\n"
     ]
    },
    {
     "name": "stderr",
     "output_type": "stream",
     "text": [
      "/aul/homes/jshi008/IvyProjects/ICLR/02MQRNN/util.py:57: RuntimeWarning: divide by zero encountered in true_divide\n",
      "  return np.mean(np.abs((ytrue - ypred) / ytrue))\n",
      "/aul/homes/jshi008/IvyProjects/ICLR/02MQRNN/util.py:57: RuntimeWarning: divide by zero encountered in true_divide\n",
      "  return np.mean(np.abs((ytrue - ypred) / ytrue))\n",
      "/aul/homes/jshi008/IvyProjects/ICLR/02MQRNN/util.py:57: RuntimeWarning: divide by zero encountered in true_divide\n",
      "  return np.mean(np.abs((ytrue - ypred) / ytrue))\n"
     ]
    },
    {
     "name": "stdout",
     "output_type": "stream",
     "text": [
      "Prediction: 405\n",
      "Prediction: 406\n",
      "Prediction: 407\n"
     ]
    },
    {
     "name": "stderr",
     "output_type": "stream",
     "text": [
      "/aul/homes/jshi008/IvyProjects/ICLR/02MQRNN/util.py:57: RuntimeWarning: divide by zero encountered in true_divide\n",
      "  return np.mean(np.abs((ytrue - ypred) / ytrue))\n",
      "/aul/homes/jshi008/IvyProjects/ICLR/02MQRNN/util.py:57: RuntimeWarning: divide by zero encountered in true_divide\n",
      "  return np.mean(np.abs((ytrue - ypred) / ytrue))\n",
      "/aul/homes/jshi008/IvyProjects/ICLR/02MQRNN/util.py:57: RuntimeWarning: divide by zero encountered in true_divide\n",
      "  return np.mean(np.abs((ytrue - ypred) / ytrue))\n"
     ]
    },
    {
     "name": "stdout",
     "output_type": "stream",
     "text": [
      "Prediction: 408\n",
      "Prediction: 409\n",
      "Prediction: 410\n"
     ]
    },
    {
     "name": "stderr",
     "output_type": "stream",
     "text": [
      "/aul/homes/jshi008/IvyProjects/ICLR/02MQRNN/util.py:57: RuntimeWarning: divide by zero encountered in true_divide\n",
      "  return np.mean(np.abs((ytrue - ypred) / ytrue))\n",
      "/aul/homes/jshi008/IvyProjects/ICLR/02MQRNN/util.py:57: RuntimeWarning: divide by zero encountered in true_divide\n",
      "  return np.mean(np.abs((ytrue - ypred) / ytrue))\n",
      "/aul/homes/jshi008/IvyProjects/ICLR/02MQRNN/util.py:57: RuntimeWarning: divide by zero encountered in true_divide\n",
      "  return np.mean(np.abs((ytrue - ypred) / ytrue))\n",
      "/aul/homes/jshi008/IvyProjects/ICLR/02MQRNN/util.py:57: RuntimeWarning: divide by zero encountered in true_divide\n",
      "  return np.mean(np.abs((ytrue - ypred) / ytrue))\n"
     ]
    },
    {
     "name": "stdout",
     "output_type": "stream",
     "text": [
      "Prediction: 411\n",
      "Prediction: 412\n",
      "Prediction: 413\n",
      "Prediction: 414\n",
      "Prediction: 415\n"
     ]
    },
    {
     "name": "stderr",
     "output_type": "stream",
     "text": [
      "/aul/homes/jshi008/IvyProjects/ICLR/02MQRNN/util.py:57: RuntimeWarning: divide by zero encountered in true_divide\n",
      "  return np.mean(np.abs((ytrue - ypred) / ytrue))\n",
      "/aul/homes/jshi008/IvyProjects/ICLR/02MQRNN/util.py:57: RuntimeWarning: divide by zero encountered in true_divide\n",
      "  return np.mean(np.abs((ytrue - ypred) / ytrue))\n",
      "/aul/homes/jshi008/IvyProjects/ICLR/02MQRNN/util.py:57: RuntimeWarning: divide by zero encountered in true_divide\n",
      "  return np.mean(np.abs((ytrue - ypred) / ytrue))\n",
      "/aul/homes/jshi008/IvyProjects/ICLR/02MQRNN/util.py:57: RuntimeWarning: divide by zero encountered in true_divide\n",
      "  return np.mean(np.abs((ytrue - ypred) / ytrue))\n"
     ]
    },
    {
     "name": "stdout",
     "output_type": "stream",
     "text": [
      "Prediction: 416\n",
      "Prediction: 417\n",
      "Prediction: 418\n",
      "Prediction: 419\n"
     ]
    },
    {
     "name": "stderr",
     "output_type": "stream",
     "text": [
      "/aul/homes/jshi008/IvyProjects/ICLR/02MQRNN/util.py:57: RuntimeWarning: divide by zero encountered in true_divide\n",
      "  return np.mean(np.abs((ytrue - ypred) / ytrue))\n",
      "/aul/homes/jshi008/IvyProjects/ICLR/02MQRNN/util.py:57: RuntimeWarning: divide by zero encountered in true_divide\n",
      "  return np.mean(np.abs((ytrue - ypred) / ytrue))\n",
      "/aul/homes/jshi008/IvyProjects/ICLR/02MQRNN/util.py:57: RuntimeWarning: divide by zero encountered in true_divide\n",
      "  return np.mean(np.abs((ytrue - ypred) / ytrue))\n",
      "/aul/homes/jshi008/IvyProjects/ICLR/02MQRNN/util.py:57: RuntimeWarning: divide by zero encountered in true_divide\n",
      "  return np.mean(np.abs((ytrue - ypred) / ytrue))\n"
     ]
    },
    {
     "name": "stdout",
     "output_type": "stream",
     "text": [
      "Prediction: 420\n",
      "Prediction: 421\n",
      "Prediction: 422\n",
      "Prediction: 423\n"
     ]
    },
    {
     "name": "stderr",
     "output_type": "stream",
     "text": [
      "/aul/homes/jshi008/IvyProjects/ICLR/02MQRNN/util.py:57: RuntimeWarning: divide by zero encountered in true_divide\n",
      "  return np.mean(np.abs((ytrue - ypred) / ytrue))\n",
      "/aul/homes/jshi008/IvyProjects/ICLR/02MQRNN/util.py:57: RuntimeWarning: divide by zero encountered in true_divide\n",
      "  return np.mean(np.abs((ytrue - ypred) / ytrue))\n",
      "/aul/homes/jshi008/IvyProjects/ICLR/02MQRNN/util.py:57: RuntimeWarning: divide by zero encountered in true_divide\n",
      "  return np.mean(np.abs((ytrue - ypred) / ytrue))\n",
      "/aul/homes/jshi008/IvyProjects/ICLR/02MQRNN/util.py:57: RuntimeWarning: divide by zero encountered in true_divide\n",
      "  return np.mean(np.abs((ytrue - ypred) / ytrue))\n"
     ]
    },
    {
     "name": "stdout",
     "output_type": "stream",
     "text": [
      "Prediction: 424\n",
      "Prediction: 425\n",
      "Prediction: 426\n",
      "Prediction: 427\n",
      "Prediction: 428\n"
     ]
    },
    {
     "name": "stderr",
     "output_type": "stream",
     "text": [
      "/aul/homes/jshi008/IvyProjects/ICLR/02MQRNN/util.py:57: RuntimeWarning: divide by zero encountered in true_divide\n",
      "  return np.mean(np.abs((ytrue - ypred) / ytrue))\n",
      "/aul/homes/jshi008/IvyProjects/ICLR/02MQRNN/util.py:57: RuntimeWarning: divide by zero encountered in true_divide\n",
      "  return np.mean(np.abs((ytrue - ypred) / ytrue))\n"
     ]
    },
    {
     "name": "stdout",
     "output_type": "stream",
     "text": [
      "Prediction: 429\n",
      "Prediction: 430\n",
      "Prediction: 431\n",
      "Prediction: 432\n",
      "Prediction: 433\n",
      "Prediction: 434\n",
      "Prediction: 435\n",
      "Prediction: 436\n",
      "Prediction: 437\n",
      "Prediction: 438\n",
      "Prediction: 439\n",
      "Prediction: 440\n",
      "Prediction: 441\n",
      "Prediction: 442\n",
      "Prediction: 443\n",
      "Prediction: 444\n",
      "Prediction: 445\n",
      "Prediction: 446\n",
      "Prediction: 447\n",
      "Prediction: 448\n",
      "Prediction: 449\n",
      "Prediction: 450\n",
      "Prediction: 451\n",
      "Prediction: 452\n",
      "Prediction: 453\n",
      "Prediction: 454\n",
      "Prediction: 455\n",
      "Prediction: 456\n",
      "Prediction: 457\n",
      "Prediction: 458\n",
      "Prediction: 459\n",
      "Prediction: 460\n",
      "Prediction: 461\n"
     ]
    },
    {
     "name": "stderr",
     "output_type": "stream",
     "text": [
      "/aul/homes/jshi008/IvyProjects/ICLR/02MQRNN/util.py:57: RuntimeWarning: divide by zero encountered in true_divide\n",
      "  return np.mean(np.abs((ytrue - ypred) / ytrue))\n",
      "/aul/homes/jshi008/IvyProjects/ICLR/02MQRNN/util.py:57: RuntimeWarning: divide by zero encountered in true_divide\n",
      "  return np.mean(np.abs((ytrue - ypred) / ytrue))\n",
      "/aul/homes/jshi008/IvyProjects/ICLR/02MQRNN/util.py:57: RuntimeWarning: divide by zero encountered in true_divide\n",
      "  return np.mean(np.abs((ytrue - ypred) / ytrue))\n",
      "/aul/homes/jshi008/IvyProjects/ICLR/02MQRNN/util.py:57: RuntimeWarning: divide by zero encountered in true_divide\n",
      "  return np.mean(np.abs((ytrue - ypred) / ytrue))\n"
     ]
    },
    {
     "name": "stdout",
     "output_type": "stream",
     "text": [
      "Prediction: 462\n",
      "Prediction: 463\n",
      "Prediction: 464\n",
      "Prediction: 465\n"
     ]
    },
    {
     "name": "stderr",
     "output_type": "stream",
     "text": [
      "/aul/homes/jshi008/IvyProjects/ICLR/02MQRNN/util.py:57: RuntimeWarning: divide by zero encountered in true_divide\n",
      "  return np.mean(np.abs((ytrue - ypred) / ytrue))\n",
      "/aul/homes/jshi008/IvyProjects/ICLR/02MQRNN/util.py:57: RuntimeWarning: divide by zero encountered in true_divide\n",
      "  return np.mean(np.abs((ytrue - ypred) / ytrue))\n",
      "/aul/homes/jshi008/IvyProjects/ICLR/02MQRNN/util.py:57: RuntimeWarning: divide by zero encountered in true_divide\n",
      "  return np.mean(np.abs((ytrue - ypred) / ytrue))\n"
     ]
    },
    {
     "name": "stdout",
     "output_type": "stream",
     "text": [
      "Prediction: 466\n",
      "Prediction: 467\n",
      "Prediction: 468\n",
      "Prediction: 469\n"
     ]
    },
    {
     "name": "stderr",
     "output_type": "stream",
     "text": [
      "/aul/homes/jshi008/IvyProjects/ICLR/02MQRNN/util.py:57: RuntimeWarning: divide by zero encountered in true_divide\n",
      "  return np.mean(np.abs((ytrue - ypred) / ytrue))\n",
      "/aul/homes/jshi008/IvyProjects/ICLR/02MQRNN/util.py:57: RuntimeWarning: divide by zero encountered in true_divide\n",
      "  return np.mean(np.abs((ytrue - ypred) / ytrue))\n",
      "/aul/homes/jshi008/IvyProjects/ICLR/02MQRNN/util.py:57: RuntimeWarning: divide by zero encountered in true_divide\n",
      "  return np.mean(np.abs((ytrue - ypred) / ytrue))\n",
      "/aul/homes/jshi008/IvyProjects/ICLR/02MQRNN/util.py:57: RuntimeWarning: divide by zero encountered in true_divide\n",
      "  return np.mean(np.abs((ytrue - ypred) / ytrue))\n",
      "/aul/homes/jshi008/IvyProjects/ICLR/02MQRNN/util.py:57: RuntimeWarning: divide by zero encountered in true_divide\n",
      "  return np.mean(np.abs((ytrue - ypred) / ytrue))\n"
     ]
    },
    {
     "name": "stdout",
     "output_type": "stream",
     "text": [
      "Prediction: 470\n",
      "Prediction: 471\n",
      "Prediction: 472\n",
      "Prediction: 473\n",
      "Prediction: 474\n"
     ]
    },
    {
     "name": "stderr",
     "output_type": "stream",
     "text": [
      "/aul/homes/jshi008/IvyProjects/ICLR/02MQRNN/util.py:57: RuntimeWarning: divide by zero encountered in true_divide\n",
      "  return np.mean(np.abs((ytrue - ypred) / ytrue))\n",
      "/aul/homes/jshi008/IvyProjects/ICLR/02MQRNN/util.py:57: RuntimeWarning: divide by zero encountered in true_divide\n",
      "  return np.mean(np.abs((ytrue - ypred) / ytrue))\n",
      "/aul/homes/jshi008/IvyProjects/ICLR/02MQRNN/util.py:57: RuntimeWarning: divide by zero encountered in true_divide\n",
      "  return np.mean(np.abs((ytrue - ypred) / ytrue))\n",
      "/aul/homes/jshi008/IvyProjects/ICLR/02MQRNN/util.py:57: RuntimeWarning: divide by zero encountered in true_divide\n",
      "  return np.mean(np.abs((ytrue - ypred) / ytrue))\n"
     ]
    },
    {
     "name": "stdout",
     "output_type": "stream",
     "text": [
      "Prediction: 475\n",
      "Prediction: 476\n",
      "Prediction: 477\n",
      "Prediction: 478\n",
      "Prediction: 479\n"
     ]
    },
    {
     "name": "stderr",
     "output_type": "stream",
     "text": [
      "/aul/homes/jshi008/IvyProjects/ICLR/02MQRNN/util.py:57: RuntimeWarning: divide by zero encountered in true_divide\n",
      "  return np.mean(np.abs((ytrue - ypred) / ytrue))\n",
      "/aul/homes/jshi008/IvyProjects/ICLR/02MQRNN/util.py:57: RuntimeWarning: divide by zero encountered in true_divide\n",
      "  return np.mean(np.abs((ytrue - ypred) / ytrue))\n",
      "/aul/homes/jshi008/IvyProjects/ICLR/02MQRNN/util.py:57: RuntimeWarning: divide by zero encountered in true_divide\n",
      "  return np.mean(np.abs((ytrue - ypred) / ytrue))\n",
      "/aul/homes/jshi008/IvyProjects/ICLR/02MQRNN/util.py:57: RuntimeWarning: divide by zero encountered in true_divide\n",
      "  return np.mean(np.abs((ytrue - ypred) / ytrue))\n"
     ]
    },
    {
     "name": "stdout",
     "output_type": "stream",
     "text": [
      "Prediction: 480\n",
      "Prediction: 481\n",
      "Prediction: 482\n",
      "Prediction: 483\n",
      "Prediction: 484\n"
     ]
    },
    {
     "name": "stderr",
     "output_type": "stream",
     "text": [
      "/aul/homes/jshi008/IvyProjects/ICLR/02MQRNN/util.py:57: RuntimeWarning: divide by zero encountered in true_divide\n",
      "  return np.mean(np.abs((ytrue - ypred) / ytrue))\n",
      "/aul/homes/jshi008/IvyProjects/ICLR/02MQRNN/util.py:57: RuntimeWarning: divide by zero encountered in true_divide\n",
      "  return np.mean(np.abs((ytrue - ypred) / ytrue))\n",
      "/aul/homes/jshi008/IvyProjects/ICLR/02MQRNN/util.py:57: RuntimeWarning: divide by zero encountered in true_divide\n",
      "  return np.mean(np.abs((ytrue - ypred) / ytrue))\n",
      "/aul/homes/jshi008/IvyProjects/ICLR/02MQRNN/util.py:57: RuntimeWarning: divide by zero encountered in true_divide\n",
      "  return np.mean(np.abs((ytrue - ypred) / ytrue))\n"
     ]
    },
    {
     "name": "stdout",
     "output_type": "stream",
     "text": [
      "Prediction: 485\n",
      "Prediction: 486\n",
      "Prediction: 487\n",
      "Prediction: 488\n",
      "Prediction: 489\n",
      "Prediction: 490\n",
      "Prediction: 491\n",
      "Prediction: 492\n",
      "Prediction: 493\n",
      "Prediction: 494\n",
      "Prediction: 495\n",
      "Prediction: 496\n",
      "Prediction: 497\n",
      "Prediction: 498\n",
      "Prediction: 499\n",
      "Prediction: 500\n",
      "Prediction: 501\n",
      "Prediction: 502\n",
      "Prediction: 503\n",
      "Prediction: 504\n",
      "Prediction: 505\n",
      "Prediction: 506\n",
      "Prediction: 507\n",
      "Prediction: 508\n"
     ]
    },
    {
     "name": "stderr",
     "output_type": "stream",
     "text": [
      "/aul/homes/jshi008/IvyProjects/ICLR/02MQRNN/util.py:57: RuntimeWarning: divide by zero encountered in true_divide\n",
      "  return np.mean(np.abs((ytrue - ypred) / ytrue))\n",
      "/aul/homes/jshi008/IvyProjects/ICLR/02MQRNN/util.py:57: RuntimeWarning: divide by zero encountered in true_divide\n",
      "  return np.mean(np.abs((ytrue - ypred) / ytrue))\n",
      "/aul/homes/jshi008/IvyProjects/ICLR/02MQRNN/util.py:57: RuntimeWarning: divide by zero encountered in true_divide\n",
      "  return np.mean(np.abs((ytrue - ypred) / ytrue))\n",
      "/aul/homes/jshi008/IvyProjects/ICLR/02MQRNN/util.py:57: RuntimeWarning: divide by zero encountered in true_divide\n",
      "  return np.mean(np.abs((ytrue - ypred) / ytrue))\n",
      "/aul/homes/jshi008/IvyProjects/ICLR/02MQRNN/util.py:57: RuntimeWarning: divide by zero encountered in true_divide\n",
      "  return np.mean(np.abs((ytrue - ypred) / ytrue))\n"
     ]
    },
    {
     "name": "stdout",
     "output_type": "stream",
     "text": [
      "Prediction: 509\n",
      "Prediction: 510\n",
      "Prediction: 511\n",
      "Prediction: 512\n"
     ]
    },
    {
     "name": "stderr",
     "output_type": "stream",
     "text": [
      "/aul/homes/jshi008/IvyProjects/ICLR/02MQRNN/util.py:57: RuntimeWarning: divide by zero encountered in true_divide\n",
      "  return np.mean(np.abs((ytrue - ypred) / ytrue))\n",
      "/aul/homes/jshi008/IvyProjects/ICLR/02MQRNN/util.py:57: RuntimeWarning: divide by zero encountered in true_divide\n",
      "  return np.mean(np.abs((ytrue - ypred) / ytrue))\n",
      "/aul/homes/jshi008/IvyProjects/ICLR/02MQRNN/util.py:57: RuntimeWarning: divide by zero encountered in true_divide\n",
      "  return np.mean(np.abs((ytrue - ypred) / ytrue))\n"
     ]
    },
    {
     "name": "stdout",
     "output_type": "stream",
     "text": [
      "Prediction: 513\n",
      "Prediction: 514\n",
      "Prediction: 515\n"
     ]
    },
    {
     "name": "stderr",
     "output_type": "stream",
     "text": [
      "/aul/homes/jshi008/IvyProjects/ICLR/02MQRNN/util.py:57: RuntimeWarning: divide by zero encountered in true_divide\n",
      "  return np.mean(np.abs((ytrue - ypred) / ytrue))\n",
      "/aul/homes/jshi008/IvyProjects/ICLR/02MQRNN/util.py:57: RuntimeWarning: divide by zero encountered in true_divide\n",
      "  return np.mean(np.abs((ytrue - ypred) / ytrue))\n",
      "/aul/homes/jshi008/IvyProjects/ICLR/02MQRNN/util.py:57: RuntimeWarning: divide by zero encountered in true_divide\n",
      "  return np.mean(np.abs((ytrue - ypred) / ytrue))\n",
      "/aul/homes/jshi008/IvyProjects/ICLR/02MQRNN/util.py:57: RuntimeWarning: divide by zero encountered in true_divide\n",
      "  return np.mean(np.abs((ytrue - ypred) / ytrue))\n",
      "/aul/homes/jshi008/IvyProjects/ICLR/02MQRNN/util.py:57: RuntimeWarning: divide by zero encountered in true_divide\n",
      "  return np.mean(np.abs((ytrue - ypred) / ytrue))\n",
      "/aul/homes/jshi008/IvyProjects/ICLR/02MQRNN/util.py:57: RuntimeWarning: divide by zero encountered in true_divide\n",
      "  return np.mean(np.abs((ytrue - ypred) / ytrue))\n",
      "/aul/homes/jshi008/IvyProjects/ICLR/02MQRNN/util.py:57: RuntimeWarning: divide by zero encountered in true_divide\n",
      "  return np.mean(np.abs((ytrue - ypred) / ytrue))\n"
     ]
    },
    {
     "name": "stdout",
     "output_type": "stream",
     "text": [
      "Prediction: 516\n",
      "Prediction: 517\n",
      "Prediction: 518\n",
      "Prediction: 519\n",
      "Prediction: 520\n"
     ]
    },
    {
     "name": "stderr",
     "output_type": "stream",
     "text": [
      "/aul/homes/jshi008/IvyProjects/ICLR/02MQRNN/util.py:57: RuntimeWarning: divide by zero encountered in true_divide\n",
      "  return np.mean(np.abs((ytrue - ypred) / ytrue))\n",
      "/aul/homes/jshi008/IvyProjects/ICLR/02MQRNN/util.py:57: RuntimeWarning: divide by zero encountered in true_divide\n",
      "  return np.mean(np.abs((ytrue - ypred) / ytrue))\n",
      "/aul/homes/jshi008/IvyProjects/ICLR/02MQRNN/util.py:57: RuntimeWarning: divide by zero encountered in true_divide\n",
      "  return np.mean(np.abs((ytrue - ypred) / ytrue))\n",
      "/aul/homes/jshi008/IvyProjects/ICLR/02MQRNN/util.py:57: RuntimeWarning: divide by zero encountered in true_divide\n",
      "  return np.mean(np.abs((ytrue - ypred) / ytrue))\n"
     ]
    },
    {
     "name": "stdout",
     "output_type": "stream",
     "text": [
      "Prediction: 521\n",
      "Prediction: 522\n",
      "Prediction: 523\n",
      "Prediction: 524\n"
     ]
    },
    {
     "name": "stderr",
     "output_type": "stream",
     "text": [
      "/aul/homes/jshi008/IvyProjects/ICLR/02MQRNN/util.py:57: RuntimeWarning: divide by zero encountered in true_divide\n",
      "  return np.mean(np.abs((ytrue - ypred) / ytrue))\n",
      "/aul/homes/jshi008/IvyProjects/ICLR/02MQRNN/util.py:57: RuntimeWarning: divide by zero encountered in true_divide\n",
      "  return np.mean(np.abs((ytrue - ypred) / ytrue))\n",
      "/aul/homes/jshi008/IvyProjects/ICLR/02MQRNN/util.py:57: RuntimeWarning: divide by zero encountered in true_divide\n",
      "  return np.mean(np.abs((ytrue - ypred) / ytrue))\n",
      "/aul/homes/jshi008/IvyProjects/ICLR/02MQRNN/util.py:57: RuntimeWarning: divide by zero encountered in true_divide\n",
      "  return np.mean(np.abs((ytrue - ypred) / ytrue))\n"
     ]
    },
    {
     "name": "stdout",
     "output_type": "stream",
     "text": [
      "Prediction: 525\n",
      "Prediction: 526\n",
      "Prediction: 527\n",
      "Prediction: 528\n"
     ]
    },
    {
     "name": "stderr",
     "output_type": "stream",
     "text": [
      "/aul/homes/jshi008/IvyProjects/ICLR/02MQRNN/util.py:57: RuntimeWarning: divide by zero encountered in true_divide\n",
      "  return np.mean(np.abs((ytrue - ypred) / ytrue))\n"
     ]
    },
    {
     "name": "stdout",
     "output_type": "stream",
     "text": [
      "Prediction: 529\n",
      "Prediction: 530\n",
      "Prediction: 531\n",
      "Prediction: 532\n",
      "Prediction: 533\n",
      "Prediction: 534\n",
      "Prediction: 535\n",
      "Prediction: 536\n",
      "Prediction: 537\n",
      "Prediction: 538\n",
      "Prediction: 539\n",
      "Prediction: 540\n",
      "Prediction: 541\n",
      "Prediction: 542\n",
      "Prediction: 543\n",
      "Prediction: 544\n",
      "Prediction: 545\n",
      "Prediction: 546\n",
      "Prediction: 547\n",
      "Prediction: 548\n",
      "Prediction: 549\n",
      "Prediction: 550\n",
      "Prediction: 551\n",
      "Prediction: 552\n"
     ]
    },
    {
     "name": "stderr",
     "output_type": "stream",
     "text": [
      "/aul/homes/jshi008/IvyProjects/ICLR/02MQRNN/util.py:57: RuntimeWarning: divide by zero encountered in true_divide\n",
      "  return np.mean(np.abs((ytrue - ypred) / ytrue))\n",
      "/aul/homes/jshi008/IvyProjects/ICLR/02MQRNN/util.py:57: RuntimeWarning: divide by zero encountered in true_divide\n",
      "  return np.mean(np.abs((ytrue - ypred) / ytrue))\n",
      "/aul/homes/jshi008/IvyProjects/ICLR/02MQRNN/util.py:57: RuntimeWarning: divide by zero encountered in true_divide\n",
      "  return np.mean(np.abs((ytrue - ypred) / ytrue))\n"
     ]
    },
    {
     "name": "stdout",
     "output_type": "stream",
     "text": [
      "Prediction: 553\n",
      "Prediction: 554\n",
      "Prediction: 555\n",
      "Prediction: 556\n"
     ]
    },
    {
     "name": "stderr",
     "output_type": "stream",
     "text": [
      "/aul/homes/jshi008/IvyProjects/ICLR/02MQRNN/util.py:57: RuntimeWarning: divide by zero encountered in true_divide\n",
      "  return np.mean(np.abs((ytrue - ypred) / ytrue))\n",
      "/aul/homes/jshi008/IvyProjects/ICLR/02MQRNN/util.py:57: RuntimeWarning: divide by zero encountered in true_divide\n",
      "  return np.mean(np.abs((ytrue - ypred) / ytrue))\n",
      "/aul/homes/jshi008/IvyProjects/ICLR/02MQRNN/util.py:57: RuntimeWarning: divide by zero encountered in true_divide\n",
      "  return np.mean(np.abs((ytrue - ypred) / ytrue))\n",
      "/aul/homes/jshi008/IvyProjects/ICLR/02MQRNN/util.py:57: RuntimeWarning: divide by zero encountered in true_divide\n",
      "  return np.mean(np.abs((ytrue - ypred) / ytrue))\n",
      "/aul/homes/jshi008/IvyProjects/ICLR/02MQRNN/util.py:57: RuntimeWarning: divide by zero encountered in true_divide\n",
      "  return np.mean(np.abs((ytrue - ypred) / ytrue))\n",
      "/aul/homes/jshi008/IvyProjects/ICLR/02MQRNN/util.py:57: RuntimeWarning: divide by zero encountered in true_divide\n",
      "  return np.mean(np.abs((ytrue - ypred) / ytrue))\n",
      "/aul/homes/jshi008/IvyProjects/ICLR/02MQRNN/util.py:57: RuntimeWarning: divide by zero encountered in true_divide\n",
      "  return np.mean(np.abs((ytrue - ypred) / ytrue))\n"
     ]
    },
    {
     "name": "stdout",
     "output_type": "stream",
     "text": [
      "Prediction: 557\n",
      "Prediction: 558\n",
      "Prediction: 559\n",
      "Prediction: 560\n"
     ]
    },
    {
     "name": "stderr",
     "output_type": "stream",
     "text": [
      "/aul/homes/jshi008/IvyProjects/ICLR/02MQRNN/util.py:57: RuntimeWarning: divide by zero encountered in true_divide\n",
      "  return np.mean(np.abs((ytrue - ypred) / ytrue))\n",
      "/aul/homes/jshi008/IvyProjects/ICLR/02MQRNN/util.py:57: RuntimeWarning: divide by zero encountered in true_divide\n",
      "  return np.mean(np.abs((ytrue - ypred) / ytrue))\n",
      "/aul/homes/jshi008/IvyProjects/ICLR/02MQRNN/util.py:57: RuntimeWarning: divide by zero encountered in true_divide\n",
      "  return np.mean(np.abs((ytrue - ypred) / ytrue))\n",
      "/aul/homes/jshi008/IvyProjects/ICLR/02MQRNN/util.py:57: RuntimeWarning: divide by zero encountered in true_divide\n",
      "  return np.mean(np.abs((ytrue - ypred) / ytrue))\n"
     ]
    },
    {
     "name": "stdout",
     "output_type": "stream",
     "text": [
      "Prediction: 561\n",
      "Prediction: 562\n",
      "Prediction: 563\n",
      "Prediction: 564\n"
     ]
    },
    {
     "name": "stderr",
     "output_type": "stream",
     "text": [
      "/aul/homes/jshi008/IvyProjects/ICLR/02MQRNN/util.py:57: RuntimeWarning: divide by zero encountered in true_divide\n",
      "  return np.mean(np.abs((ytrue - ypred) / ytrue))\n",
      "/aul/homes/jshi008/IvyProjects/ICLR/02MQRNN/util.py:57: RuntimeWarning: divide by zero encountered in true_divide\n",
      "  return np.mean(np.abs((ytrue - ypred) / ytrue))\n",
      "/aul/homes/jshi008/IvyProjects/ICLR/02MQRNN/util.py:57: RuntimeWarning: divide by zero encountered in true_divide\n",
      "  return np.mean(np.abs((ytrue - ypred) / ytrue))\n",
      "/aul/homes/jshi008/IvyProjects/ICLR/02MQRNN/util.py:57: RuntimeWarning: divide by zero encountered in true_divide\n",
      "  return np.mean(np.abs((ytrue - ypred) / ytrue))\n"
     ]
    },
    {
     "name": "stdout",
     "output_type": "stream",
     "text": [
      "Prediction: 565\n",
      "Prediction: 566\n",
      "Prediction: 567\n",
      "Prediction: 568\n"
     ]
    },
    {
     "name": "stderr",
     "output_type": "stream",
     "text": [
      "/aul/homes/jshi008/IvyProjects/ICLR/02MQRNN/util.py:57: RuntimeWarning: divide by zero encountered in true_divide\n",
      "  return np.mean(np.abs((ytrue - ypred) / ytrue))\n",
      "/aul/homes/jshi008/IvyProjects/ICLR/02MQRNN/util.py:57: RuntimeWarning: divide by zero encountered in true_divide\n",
      "  return np.mean(np.abs((ytrue - ypred) / ytrue))\n",
      "/aul/homes/jshi008/IvyProjects/ICLR/02MQRNN/util.py:57: RuntimeWarning: divide by zero encountered in true_divide\n",
      "  return np.mean(np.abs((ytrue - ypred) / ytrue))\n",
      "/aul/homes/jshi008/IvyProjects/ICLR/02MQRNN/util.py:57: RuntimeWarning: divide by zero encountered in true_divide\n",
      "  return np.mean(np.abs((ytrue - ypred) / ytrue))\n"
     ]
    },
    {
     "name": "stdout",
     "output_type": "stream",
     "text": [
      "Prediction: 569\n",
      "Prediction: 570\n",
      "Prediction: 571\n",
      "Prediction: 572\n"
     ]
    },
    {
     "name": "stderr",
     "output_type": "stream",
     "text": [
      "/aul/homes/jshi008/IvyProjects/ICLR/02MQRNN/util.py:57: RuntimeWarning: divide by zero encountered in true_divide\n",
      "  return np.mean(np.abs((ytrue - ypred) / ytrue))\n",
      "/aul/homes/jshi008/IvyProjects/ICLR/02MQRNN/util.py:57: RuntimeWarning: divide by zero encountered in true_divide\n",
      "  return np.mean(np.abs((ytrue - ypred) / ytrue))\n",
      "/aul/homes/jshi008/IvyProjects/ICLR/02MQRNN/util.py:57: RuntimeWarning: divide by zero encountered in true_divide\n",
      "  return np.mean(np.abs((ytrue - ypred) / ytrue))\n"
     ]
    },
    {
     "name": "stdout",
     "output_type": "stream",
     "text": [
      "Prediction: 573\n",
      "Prediction: 574\n",
      "Prediction: 575\n"
     ]
    },
    {
     "name": "stderr",
     "output_type": "stream",
     "text": [
      "/aul/homes/jshi008/IvyProjects/ICLR/02MQRNN/util.py:57: RuntimeWarning: divide by zero encountered in true_divide\n",
      "  return np.mean(np.abs((ytrue - ypred) / ytrue))\n",
      "/aul/homes/jshi008/IvyProjects/ICLR/02MQRNN/util.py:57: RuntimeWarning: divide by zero encountered in true_divide\n",
      "  return np.mean(np.abs((ytrue - ypred) / ytrue))\n",
      "/aul/homes/jshi008/IvyProjects/ICLR/02MQRNN/util.py:57: RuntimeWarning: divide by zero encountered in true_divide\n",
      "  return np.mean(np.abs((ytrue - ypred) / ytrue))\n"
     ]
    },
    {
     "name": "stdout",
     "output_type": "stream",
     "text": [
      "Prediction: 576\n",
      "Prediction: 577\n",
      "Prediction: 578\n"
     ]
    },
    {
     "name": "stderr",
     "output_type": "stream",
     "text": [
      "/aul/homes/jshi008/IvyProjects/ICLR/02MQRNN/util.py:57: RuntimeWarning: divide by zero encountered in true_divide\n",
      "  return np.mean(np.abs((ytrue - ypred) / ytrue))\n",
      "/aul/homes/jshi008/IvyProjects/ICLR/02MQRNN/util.py:57: RuntimeWarning: divide by zero encountered in true_divide\n",
      "  return np.mean(np.abs((ytrue - ypred) / ytrue))\n",
      "/aul/homes/jshi008/IvyProjects/ICLR/02MQRNN/util.py:57: RuntimeWarning: divide by zero encountered in true_divide\n",
      "  return np.mean(np.abs((ytrue - ypred) / ytrue))\n"
     ]
    },
    {
     "name": "stdout",
     "output_type": "stream",
     "text": [
      "Prediction: 579\n",
      "Prediction: 580\n",
      "Prediction: 581\n"
     ]
    },
    {
     "name": "stderr",
     "output_type": "stream",
     "text": [
      "/aul/homes/jshi008/IvyProjects/ICLR/02MQRNN/util.py:57: RuntimeWarning: divide by zero encountered in true_divide\n",
      "  return np.mean(np.abs((ytrue - ypred) / ytrue))\n",
      "/aul/homes/jshi008/IvyProjects/ICLR/02MQRNN/util.py:57: RuntimeWarning: divide by zero encountered in true_divide\n",
      "  return np.mean(np.abs((ytrue - ypred) / ytrue))\n",
      "/aul/homes/jshi008/IvyProjects/ICLR/02MQRNN/util.py:57: RuntimeWarning: divide by zero encountered in true_divide\n",
      "  return np.mean(np.abs((ytrue - ypred) / ytrue))\n",
      "/aul/homes/jshi008/IvyProjects/ICLR/02MQRNN/util.py:57: RuntimeWarning: divide by zero encountered in true_divide\n",
      "  return np.mean(np.abs((ytrue - ypred) / ytrue))\n"
     ]
    },
    {
     "name": "stdout",
     "output_type": "stream",
     "text": [
      "Prediction: 582\n",
      "Prediction: 583\n",
      "Prediction: 584\n",
      "Prediction: 585\n"
     ]
    },
    {
     "name": "stderr",
     "output_type": "stream",
     "text": [
      "/aul/homes/jshi008/IvyProjects/ICLR/02MQRNN/util.py:57: RuntimeWarning: divide by zero encountered in true_divide\n",
      "  return np.mean(np.abs((ytrue - ypred) / ytrue))\n",
      "/aul/homes/jshi008/IvyProjects/ICLR/02MQRNN/util.py:57: RuntimeWarning: divide by zero encountered in true_divide\n",
      "  return np.mean(np.abs((ytrue - ypred) / ytrue))\n"
     ]
    },
    {
     "name": "stdout",
     "output_type": "stream",
     "text": [
      "Prediction: 586\n",
      "Prediction: 587\n"
     ]
    },
    {
     "name": "stderr",
     "output_type": "stream",
     "text": [
      "/aul/homes/jshi008/IvyProjects/ICLR/02MQRNN/util.py:57: RuntimeWarning: divide by zero encountered in true_divide\n",
      "  return np.mean(np.abs((ytrue - ypred) / ytrue))\n",
      "/aul/homes/jshi008/IvyProjects/ICLR/02MQRNN/util.py:57: RuntimeWarning: divide by zero encountered in true_divide\n",
      "  return np.mean(np.abs((ytrue - ypred) / ytrue))\n",
      "/aul/homes/jshi008/IvyProjects/ICLR/02MQRNN/util.py:57: RuntimeWarning: divide by zero encountered in true_divide\n",
      "  return np.mean(np.abs((ytrue - ypred) / ytrue))\n",
      "/aul/homes/jshi008/IvyProjects/ICLR/02MQRNN/util.py:57: RuntimeWarning: divide by zero encountered in true_divide\n",
      "  return np.mean(np.abs((ytrue - ypred) / ytrue))\n"
     ]
    },
    {
     "name": "stdout",
     "output_type": "stream",
     "text": [
      "Prediction: 588\n",
      "Prediction: 589\n",
      "Prediction: 590\n",
      "Prediction: 591\n"
     ]
    },
    {
     "name": "stderr",
     "output_type": "stream",
     "text": [
      "/aul/homes/jshi008/IvyProjects/ICLR/02MQRNN/util.py:57: RuntimeWarning: divide by zero encountered in true_divide\n",
      "  return np.mean(np.abs((ytrue - ypred) / ytrue))\n",
      "/aul/homes/jshi008/IvyProjects/ICLR/02MQRNN/util.py:57: RuntimeWarning: divide by zero encountered in true_divide\n",
      "  return np.mean(np.abs((ytrue - ypred) / ytrue))\n",
      "/aul/homes/jshi008/IvyProjects/ICLR/02MQRNN/util.py:57: RuntimeWarning: divide by zero encountered in true_divide\n",
      "  return np.mean(np.abs((ytrue - ypred) / ytrue))\n"
     ]
    },
    {
     "name": "stdout",
     "output_type": "stream",
     "text": [
      "Prediction: 592\n",
      "Prediction: 593\n",
      "Prediction: 594\n"
     ]
    },
    {
     "name": "stderr",
     "output_type": "stream",
     "text": [
      "/aul/homes/jshi008/IvyProjects/ICLR/02MQRNN/util.py:57: RuntimeWarning: divide by zero encountered in true_divide\n",
      "  return np.mean(np.abs((ytrue - ypred) / ytrue))\n",
      "/aul/homes/jshi008/IvyProjects/ICLR/02MQRNN/util.py:57: RuntimeWarning: divide by zero encountered in true_divide\n",
      "  return np.mean(np.abs((ytrue - ypred) / ytrue))\n",
      "/aul/homes/jshi008/IvyProjects/ICLR/02MQRNN/util.py:57: RuntimeWarning: divide by zero encountered in true_divide\n",
      "  return np.mean(np.abs((ytrue - ypred) / ytrue))\n",
      "/aul/homes/jshi008/IvyProjects/ICLR/02MQRNN/util.py:57: RuntimeWarning: divide by zero encountered in true_divide\n",
      "  return np.mean(np.abs((ytrue - ypred) / ytrue))\n"
     ]
    },
    {
     "name": "stdout",
     "output_type": "stream",
     "text": [
      "Prediction: 595\n",
      "Prediction: 596\n",
      "Prediction: 597\n",
      "Prediction: 598\n"
     ]
    },
    {
     "name": "stderr",
     "output_type": "stream",
     "text": [
      "/aul/homes/jshi008/IvyProjects/ICLR/02MQRNN/util.py:57: RuntimeWarning: divide by zero encountered in true_divide\n",
      "  return np.mean(np.abs((ytrue - ypred) / ytrue))\n",
      "/aul/homes/jshi008/IvyProjects/ICLR/02MQRNN/util.py:57: RuntimeWarning: divide by zero encountered in true_divide\n",
      "  return np.mean(np.abs((ytrue - ypred) / ytrue))\n",
      "/aul/homes/jshi008/IvyProjects/ICLR/02MQRNN/util.py:57: RuntimeWarning: divide by zero encountered in true_divide\n",
      "  return np.mean(np.abs((ytrue - ypred) / ytrue))\n",
      "/aul/homes/jshi008/IvyProjects/ICLR/02MQRNN/util.py:57: RuntimeWarning: divide by zero encountered in true_divide\n",
      "  return np.mean(np.abs((ytrue - ypred) / ytrue))\n"
     ]
    },
    {
     "name": "stdout",
     "output_type": "stream",
     "text": [
      "Prediction: 599\n",
      "Prediction: 600\n",
      "Prediction: 601\n",
      "Prediction: 602\n"
     ]
    },
    {
     "name": "stderr",
     "output_type": "stream",
     "text": [
      "/aul/homes/jshi008/IvyProjects/ICLR/02MQRNN/util.py:57: RuntimeWarning: divide by zero encountered in true_divide\n",
      "  return np.mean(np.abs((ytrue - ypred) / ytrue))\n",
      "/aul/homes/jshi008/IvyProjects/ICLR/02MQRNN/util.py:57: RuntimeWarning: divide by zero encountered in true_divide\n",
      "  return np.mean(np.abs((ytrue - ypred) / ytrue))\n",
      "/aul/homes/jshi008/IvyProjects/ICLR/02MQRNN/util.py:57: RuntimeWarning: divide by zero encountered in true_divide\n",
      "  return np.mean(np.abs((ytrue - ypred) / ytrue))\n"
     ]
    },
    {
     "name": "stdout",
     "output_type": "stream",
     "text": [
      "Prediction: 603\n",
      "Prediction: 604\n",
      "Prediction: 605\n"
     ]
    },
    {
     "name": "stderr",
     "output_type": "stream",
     "text": [
      "/aul/homes/jshi008/IvyProjects/ICLR/02MQRNN/util.py:57: RuntimeWarning: divide by zero encountered in true_divide\n",
      "  return np.mean(np.abs((ytrue - ypred) / ytrue))\n",
      "/aul/homes/jshi008/IvyProjects/ICLR/02MQRNN/util.py:57: RuntimeWarning: divide by zero encountered in true_divide\n",
      "  return np.mean(np.abs((ytrue - ypred) / ytrue))\n",
      "/aul/homes/jshi008/IvyProjects/ICLR/02MQRNN/util.py:57: RuntimeWarning: divide by zero encountered in true_divide\n",
      "  return np.mean(np.abs((ytrue - ypred) / ytrue))\n",
      "/aul/homes/jshi008/IvyProjects/ICLR/02MQRNN/util.py:57: RuntimeWarning: divide by zero encountered in true_divide\n",
      "  return np.mean(np.abs((ytrue - ypred) / ytrue))\n"
     ]
    },
    {
     "name": "stdout",
     "output_type": "stream",
     "text": [
      "Prediction: 606\n",
      "Prediction: 607\n",
      "Prediction: 608\n",
      "Prediction: 609\n"
     ]
    },
    {
     "name": "stderr",
     "output_type": "stream",
     "text": [
      "/aul/homes/jshi008/IvyProjects/ICLR/02MQRNN/util.py:57: RuntimeWarning: divide by zero encountered in true_divide\n",
      "  return np.mean(np.abs((ytrue - ypred) / ytrue))\n",
      "/aul/homes/jshi008/IvyProjects/ICLR/02MQRNN/util.py:57: RuntimeWarning: divide by zero encountered in true_divide\n",
      "  return np.mean(np.abs((ytrue - ypred) / ytrue))\n",
      "/aul/homes/jshi008/IvyProjects/ICLR/02MQRNN/util.py:57: RuntimeWarning: divide by zero encountered in true_divide\n",
      "  return np.mean(np.abs((ytrue - ypred) / ytrue))\n"
     ]
    },
    {
     "name": "stdout",
     "output_type": "stream",
     "text": [
      "Prediction: 610\n",
      "Prediction: 611\n",
      "Prediction: 612\n"
     ]
    },
    {
     "name": "stderr",
     "output_type": "stream",
     "text": [
      "/aul/homes/jshi008/IvyProjects/ICLR/02MQRNN/util.py:57: RuntimeWarning: divide by zero encountered in true_divide\n",
      "  return np.mean(np.abs((ytrue - ypred) / ytrue))\n",
      "/aul/homes/jshi008/IvyProjects/ICLR/02MQRNN/util.py:57: RuntimeWarning: divide by zero encountered in true_divide\n",
      "  return np.mean(np.abs((ytrue - ypred) / ytrue))\n",
      "/aul/homes/jshi008/IvyProjects/ICLR/02MQRNN/util.py:57: RuntimeWarning: divide by zero encountered in true_divide\n",
      "  return np.mean(np.abs((ytrue - ypred) / ytrue))\n"
     ]
    },
    {
     "name": "stdout",
     "output_type": "stream",
     "text": [
      "Prediction: 613\n",
      "Prediction: 614\n",
      "Prediction: 615\n"
     ]
    },
    {
     "name": "stderr",
     "output_type": "stream",
     "text": [
      "/aul/homes/jshi008/IvyProjects/ICLR/02MQRNN/util.py:57: RuntimeWarning: divide by zero encountered in true_divide\n",
      "  return np.mean(np.abs((ytrue - ypred) / ytrue))\n",
      "/aul/homes/jshi008/IvyProjects/ICLR/02MQRNN/util.py:57: RuntimeWarning: divide by zero encountered in true_divide\n",
      "  return np.mean(np.abs((ytrue - ypred) / ytrue))\n",
      "/aul/homes/jshi008/IvyProjects/ICLR/02MQRNN/util.py:57: RuntimeWarning: divide by zero encountered in true_divide\n",
      "  return np.mean(np.abs((ytrue - ypred) / ytrue))\n"
     ]
    },
    {
     "name": "stdout",
     "output_type": "stream",
     "text": [
      "Prediction: 616\n",
      "Prediction: 617\n",
      "Prediction: 618\n",
      "Prediction: 619\n"
     ]
    },
    {
     "name": "stderr",
     "output_type": "stream",
     "text": [
      "/aul/homes/jshi008/IvyProjects/ICLR/02MQRNN/util.py:57: RuntimeWarning: divide by zero encountered in true_divide\n",
      "  return np.mean(np.abs((ytrue - ypred) / ytrue))\n",
      "/aul/homes/jshi008/IvyProjects/ICLR/02MQRNN/util.py:57: RuntimeWarning: divide by zero encountered in true_divide\n",
      "  return np.mean(np.abs((ytrue - ypred) / ytrue))\n",
      "/aul/homes/jshi008/IvyProjects/ICLR/02MQRNN/util.py:57: RuntimeWarning: divide by zero encountered in true_divide\n",
      "  return np.mean(np.abs((ytrue - ypred) / ytrue))\n",
      "/aul/homes/jshi008/IvyProjects/ICLR/02MQRNN/util.py:57: RuntimeWarning: divide by zero encountered in true_divide\n",
      "  return np.mean(np.abs((ytrue - ypred) / ytrue))\n"
     ]
    },
    {
     "name": "stdout",
     "output_type": "stream",
     "text": [
      "Prediction: 620\n",
      "Prediction: 621\n",
      "Prediction: 622\n",
      "Prediction: 623\n"
     ]
    },
    {
     "name": "stderr",
     "output_type": "stream",
     "text": [
      "/aul/homes/jshi008/IvyProjects/ICLR/02MQRNN/util.py:57: RuntimeWarning: divide by zero encountered in true_divide\n",
      "  return np.mean(np.abs((ytrue - ypred) / ytrue))\n",
      "/aul/homes/jshi008/IvyProjects/ICLR/02MQRNN/util.py:57: RuntimeWarning: divide by zero encountered in true_divide\n",
      "  return np.mean(np.abs((ytrue - ypred) / ytrue))\n",
      "/aul/homes/jshi008/IvyProjects/ICLR/02MQRNN/util.py:57: RuntimeWarning: divide by zero encountered in true_divide\n",
      "  return np.mean(np.abs((ytrue - ypred) / ytrue))\n",
      "/aul/homes/jshi008/IvyProjects/ICLR/02MQRNN/util.py:57: RuntimeWarning: divide by zero encountered in true_divide\n",
      "  return np.mean(np.abs((ytrue - ypred) / ytrue))\n"
     ]
    },
    {
     "name": "stdout",
     "output_type": "stream",
     "text": [
      "Prediction: 624\n",
      "Prediction: 625\n",
      "Prediction: 626\n",
      "Prediction: 627\n"
     ]
    },
    {
     "name": "stderr",
     "output_type": "stream",
     "text": [
      "/aul/homes/jshi008/IvyProjects/ICLR/02MQRNN/util.py:57: RuntimeWarning: divide by zero encountered in true_divide\n",
      "  return np.mean(np.abs((ytrue - ypred) / ytrue))\n",
      "/aul/homes/jshi008/IvyProjects/ICLR/02MQRNN/util.py:57: RuntimeWarning: divide by zero encountered in true_divide\n",
      "  return np.mean(np.abs((ytrue - ypred) / ytrue))\n",
      "/aul/homes/jshi008/IvyProjects/ICLR/02MQRNN/util.py:57: RuntimeWarning: divide by zero encountered in true_divide\n",
      "  return np.mean(np.abs((ytrue - ypred) / ytrue))\n",
      "/aul/homes/jshi008/IvyProjects/ICLR/02MQRNN/util.py:57: RuntimeWarning: divide by zero encountered in true_divide\n",
      "  return np.mean(np.abs((ytrue - ypred) / ytrue))\n"
     ]
    },
    {
     "name": "stdout",
     "output_type": "stream",
     "text": [
      "Prediction: 628\n",
      "Prediction: 629\n",
      "Prediction: 630\n",
      "Prediction: 631\n"
     ]
    },
    {
     "name": "stderr",
     "output_type": "stream",
     "text": [
      "/aul/homes/jshi008/IvyProjects/ICLR/02MQRNN/util.py:57: RuntimeWarning: divide by zero encountered in true_divide\n",
      "  return np.mean(np.abs((ytrue - ypred) / ytrue))\n",
      "/aul/homes/jshi008/IvyProjects/ICLR/02MQRNN/util.py:57: RuntimeWarning: divide by zero encountered in true_divide\n",
      "  return np.mean(np.abs((ytrue - ypred) / ytrue))\n",
      "/aul/homes/jshi008/IvyProjects/ICLR/02MQRNN/util.py:57: RuntimeWarning: divide by zero encountered in true_divide\n",
      "  return np.mean(np.abs((ytrue - ypred) / ytrue))\n"
     ]
    },
    {
     "name": "stdout",
     "output_type": "stream",
     "text": [
      "Prediction: 632\n",
      "Prediction: 633\n",
      "Prediction: 634\n"
     ]
    },
    {
     "name": "stderr",
     "output_type": "stream",
     "text": [
      "/aul/homes/jshi008/IvyProjects/ICLR/02MQRNN/util.py:57: RuntimeWarning: divide by zero encountered in true_divide\n",
      "  return np.mean(np.abs((ytrue - ypred) / ytrue))\n",
      "/aul/homes/jshi008/IvyProjects/ICLR/02MQRNN/util.py:57: RuntimeWarning: divide by zero encountered in true_divide\n",
      "  return np.mean(np.abs((ytrue - ypred) / ytrue))\n",
      "/aul/homes/jshi008/IvyProjects/ICLR/02MQRNN/util.py:57: RuntimeWarning: divide by zero encountered in true_divide\n",
      "  return np.mean(np.abs((ytrue - ypred) / ytrue))\n"
     ]
    },
    {
     "name": "stdout",
     "output_type": "stream",
     "text": [
      "Prediction: 635\n",
      "Prediction: 636\n",
      "Prediction: 637\n"
     ]
    },
    {
     "name": "stderr",
     "output_type": "stream",
     "text": [
      "/aul/homes/jshi008/IvyProjects/ICLR/02MQRNN/util.py:57: RuntimeWarning: divide by zero encountered in true_divide\n",
      "  return np.mean(np.abs((ytrue - ypred) / ytrue))\n",
      "/aul/homes/jshi008/IvyProjects/ICLR/02MQRNN/util.py:57: RuntimeWarning: divide by zero encountered in true_divide\n",
      "  return np.mean(np.abs((ytrue - ypred) / ytrue))\n"
     ]
    },
    {
     "name": "stdout",
     "output_type": "stream",
     "text": [
      "Prediction: 638\n",
      "Prediction: 639\n"
     ]
    },
    {
     "name": "stderr",
     "output_type": "stream",
     "text": [
      "/aul/homes/jshi008/IvyProjects/ICLR/02MQRNN/util.py:57: RuntimeWarning: divide by zero encountered in true_divide\n",
      "  return np.mean(np.abs((ytrue - ypred) / ytrue))\n",
      "/aul/homes/jshi008/IvyProjects/ICLR/02MQRNN/util.py:57: RuntimeWarning: divide by zero encountered in true_divide\n",
      "  return np.mean(np.abs((ytrue - ypred) / ytrue))\n",
      "/aul/homes/jshi008/IvyProjects/ICLR/02MQRNN/util.py:57: RuntimeWarning: divide by zero encountered in true_divide\n",
      "  return np.mean(np.abs((ytrue - ypred) / ytrue))\n",
      "/aul/homes/jshi008/IvyProjects/ICLR/02MQRNN/util.py:57: RuntimeWarning: divide by zero encountered in true_divide\n",
      "  return np.mean(np.abs((ytrue - ypred) / ytrue))\n",
      "/aul/homes/jshi008/IvyProjects/ICLR/02MQRNN/util.py:57: RuntimeWarning: divide by zero encountered in true_divide\n",
      "  return np.mean(np.abs((ytrue - ypred) / ytrue))\n"
     ]
    },
    {
     "name": "stdout",
     "output_type": "stream",
     "text": [
      "Prediction: 640\n",
      "Prediction: 641\n",
      "Prediction: 642\n",
      "Prediction: 643\n",
      "Prediction: 644\n"
     ]
    },
    {
     "name": "stderr",
     "output_type": "stream",
     "text": [
      "/aul/homes/jshi008/IvyProjects/ICLR/02MQRNN/util.py:57: RuntimeWarning: divide by zero encountered in true_divide\n",
      "  return np.mean(np.abs((ytrue - ypred) / ytrue))\n",
      "/aul/homes/jshi008/IvyProjects/ICLR/02MQRNN/util.py:57: RuntimeWarning: divide by zero encountered in true_divide\n",
      "  return np.mean(np.abs((ytrue - ypred) / ytrue))\n",
      "/aul/homes/jshi008/IvyProjects/ICLR/02MQRNN/util.py:57: RuntimeWarning: divide by zero encountered in true_divide\n",
      "  return np.mean(np.abs((ytrue - ypred) / ytrue))\n"
     ]
    },
    {
     "name": "stdout",
     "output_type": "stream",
     "text": [
      "Prediction: 645\n",
      "Prediction: 646\n",
      "Prediction: 647\n"
     ]
    },
    {
     "name": "stderr",
     "output_type": "stream",
     "text": [
      "/aul/homes/jshi008/IvyProjects/ICLR/02MQRNN/util.py:57: RuntimeWarning: divide by zero encountered in true_divide\n",
      "  return np.mean(np.abs((ytrue - ypred) / ytrue))\n",
      "/aul/homes/jshi008/IvyProjects/ICLR/02MQRNN/util.py:57: RuntimeWarning: divide by zero encountered in true_divide\n",
      "  return np.mean(np.abs((ytrue - ypred) / ytrue))\n",
      "/aul/homes/jshi008/IvyProjects/ICLR/02MQRNN/util.py:57: RuntimeWarning: divide by zero encountered in true_divide\n",
      "  return np.mean(np.abs((ytrue - ypred) / ytrue))\n",
      "/aul/homes/jshi008/IvyProjects/ICLR/02MQRNN/util.py:57: RuntimeWarning: divide by zero encountered in true_divide\n",
      "  return np.mean(np.abs((ytrue - ypred) / ytrue))\n",
      "/aul/homes/jshi008/IvyProjects/ICLR/02MQRNN/util.py:57: RuntimeWarning: divide by zero encountered in true_divide\n",
      "  return np.mean(np.abs((ytrue - ypred) / ytrue))\n"
     ]
    },
    {
     "name": "stdout",
     "output_type": "stream",
     "text": [
      "Prediction: 648\n",
      "Prediction: 649\n",
      "Prediction: 650\n",
      "Prediction: 651\n",
      "Prediction: 652\n"
     ]
    },
    {
     "name": "stderr",
     "output_type": "stream",
     "text": [
      "/aul/homes/jshi008/IvyProjects/ICLR/02MQRNN/util.py:57: RuntimeWarning: divide by zero encountered in true_divide\n",
      "  return np.mean(np.abs((ytrue - ypred) / ytrue))\n",
      "/aul/homes/jshi008/IvyProjects/ICLR/02MQRNN/util.py:57: RuntimeWarning: divide by zero encountered in true_divide\n",
      "  return np.mean(np.abs((ytrue - ypred) / ytrue))\n",
      "/aul/homes/jshi008/IvyProjects/ICLR/02MQRNN/util.py:57: RuntimeWarning: divide by zero encountered in true_divide\n",
      "  return np.mean(np.abs((ytrue - ypred) / ytrue))\n"
     ]
    },
    {
     "name": "stdout",
     "output_type": "stream",
     "text": [
      "Prediction: 653\n",
      "Prediction: 654\n",
      "Prediction: 655\n"
     ]
    },
    {
     "name": "stderr",
     "output_type": "stream",
     "text": [
      "/aul/homes/jshi008/IvyProjects/ICLR/02MQRNN/util.py:57: RuntimeWarning: divide by zero encountered in true_divide\n",
      "  return np.mean(np.abs((ytrue - ypred) / ytrue))\n",
      "/aul/homes/jshi008/IvyProjects/ICLR/02MQRNN/util.py:57: RuntimeWarning: divide by zero encountered in true_divide\n",
      "  return np.mean(np.abs((ytrue - ypred) / ytrue))\n",
      "/aul/homes/jshi008/IvyProjects/ICLR/02MQRNN/util.py:57: RuntimeWarning: divide by zero encountered in true_divide\n",
      "  return np.mean(np.abs((ytrue - ypred) / ytrue))\n",
      "/aul/homes/jshi008/IvyProjects/ICLR/02MQRNN/util.py:57: RuntimeWarning: divide by zero encountered in true_divide\n",
      "  return np.mean(np.abs((ytrue - ypred) / ytrue))\n"
     ]
    },
    {
     "name": "stdout",
     "output_type": "stream",
     "text": [
      "Prediction: 656\n",
      "Prediction: 657\n",
      "Prediction: 658\n",
      "Prediction: 659\n"
     ]
    },
    {
     "name": "stderr",
     "output_type": "stream",
     "text": [
      "/aul/homes/jshi008/IvyProjects/ICLR/02MQRNN/util.py:57: RuntimeWarning: divide by zero encountered in true_divide\n",
      "  return np.mean(np.abs((ytrue - ypred) / ytrue))\n",
      "/aul/homes/jshi008/IvyProjects/ICLR/02MQRNN/util.py:57: RuntimeWarning: divide by zero encountered in true_divide\n",
      "  return np.mean(np.abs((ytrue - ypred) / ytrue))\n",
      "/aul/homes/jshi008/IvyProjects/ICLR/02MQRNN/util.py:57: RuntimeWarning: divide by zero encountered in true_divide\n",
      "  return np.mean(np.abs((ytrue - ypred) / ytrue))\n",
      "/aul/homes/jshi008/IvyProjects/ICLR/02MQRNN/util.py:57: RuntimeWarning: divide by zero encountered in true_divide\n",
      "  return np.mean(np.abs((ytrue - ypred) / ytrue))\n"
     ]
    },
    {
     "name": "stdout",
     "output_type": "stream",
     "text": [
      "Prediction: 660\n",
      "Prediction: 661\n",
      "Prediction: 662\n",
      "Prediction: 663\n"
     ]
    },
    {
     "name": "stderr",
     "output_type": "stream",
     "text": [
      "/aul/homes/jshi008/IvyProjects/ICLR/02MQRNN/util.py:57: RuntimeWarning: divide by zero encountered in true_divide\n",
      "  return np.mean(np.abs((ytrue - ypred) / ytrue))\n",
      "/aul/homes/jshi008/IvyProjects/ICLR/02MQRNN/util.py:57: RuntimeWarning: divide by zero encountered in true_divide\n",
      "  return np.mean(np.abs((ytrue - ypred) / ytrue))\n",
      "/aul/homes/jshi008/IvyProjects/ICLR/02MQRNN/util.py:57: RuntimeWarning: divide by zero encountered in true_divide\n",
      "  return np.mean(np.abs((ytrue - ypred) / ytrue))\n"
     ]
    },
    {
     "name": "stdout",
     "output_type": "stream",
     "text": [
      "Prediction: 664\n",
      "Prediction: 665\n",
      "Prediction: 666\n",
      "Prediction: 667\n",
      "Prediction: 668\n",
      "Prediction: 669\n",
      "Prediction: 670\n"
     ]
    },
    {
     "name": "stderr",
     "output_type": "stream",
     "text": [
      "/aul/homes/jshi008/IvyProjects/ICLR/02MQRNN/util.py:57: RuntimeWarning: divide by zero encountered in true_divide\n",
      "  return np.mean(np.abs((ytrue - ypred) / ytrue))\n",
      "/aul/homes/jshi008/IvyProjects/ICLR/02MQRNN/util.py:57: RuntimeWarning: divide by zero encountered in true_divide\n",
      "  return np.mean(np.abs((ytrue - ypred) / ytrue))\n"
     ]
    },
    {
     "name": "stdout",
     "output_type": "stream",
     "text": [
      "Prediction: 671\n"
     ]
    },
    {
     "name": "stderr",
     "output_type": "stream",
     "text": [
      "/aul/homes/jshi008/IvyProjects/ICLR/02MQRNN/util.py:57: RuntimeWarning: divide by zero encountered in true_divide\n",
      "  return np.mean(np.abs((ytrue - ypred) / ytrue))\n",
      "/aul/homes/jshi008/IvyProjects/ICLR/02MQRNN/util.py:57: RuntimeWarning: divide by zero encountered in true_divide\n",
      "  return np.mean(np.abs((ytrue - ypred) / ytrue))\n",
      "/aul/homes/jshi008/IvyProjects/ICLR/02MQRNN/util.py:57: RuntimeWarning: divide by zero encountered in true_divide\n",
      "  return np.mean(np.abs((ytrue - ypred) / ytrue))\n",
      "/aul/homes/jshi008/IvyProjects/ICLR/02MQRNN/util.py:57: RuntimeWarning: divide by zero encountered in true_divide\n",
      "  return np.mean(np.abs((ytrue - ypred) / ytrue))\n",
      "/aul/homes/jshi008/IvyProjects/ICLR/02MQRNN/util.py:57: RuntimeWarning: divide by zero encountered in true_divide\n",
      "  return np.mean(np.abs((ytrue - ypred) / ytrue))\n"
     ]
    },
    {
     "name": "stdout",
     "output_type": "stream",
     "text": [
      "Prediction: 672\n",
      "Prediction: 673\n",
      "Prediction: 674\n",
      "Prediction: 675\n",
      "Prediction: 676\n"
     ]
    },
    {
     "name": "stderr",
     "output_type": "stream",
     "text": [
      "/aul/homes/jshi008/IvyProjects/ICLR/02MQRNN/util.py:57: RuntimeWarning: divide by zero encountered in true_divide\n",
      "  return np.mean(np.abs((ytrue - ypred) / ytrue))\n",
      "/aul/homes/jshi008/IvyProjects/ICLR/02MQRNN/util.py:57: RuntimeWarning: divide by zero encountered in true_divide\n",
      "  return np.mean(np.abs((ytrue - ypred) / ytrue))\n",
      "/aul/homes/jshi008/IvyProjects/ICLR/02MQRNN/util.py:57: RuntimeWarning: divide by zero encountered in true_divide\n",
      "  return np.mean(np.abs((ytrue - ypred) / ytrue))\n"
     ]
    },
    {
     "name": "stdout",
     "output_type": "stream",
     "text": [
      "Prediction: 677\n",
      "Prediction: 678\n",
      "Prediction: 679\n"
     ]
    },
    {
     "name": "stderr",
     "output_type": "stream",
     "text": [
      "/aul/homes/jshi008/IvyProjects/ICLR/02MQRNN/util.py:57: RuntimeWarning: divide by zero encountered in true_divide\n",
      "  return np.mean(np.abs((ytrue - ypred) / ytrue))\n",
      "/aul/homes/jshi008/IvyProjects/ICLR/02MQRNN/util.py:57: RuntimeWarning: divide by zero encountered in true_divide\n",
      "  return np.mean(np.abs((ytrue - ypred) / ytrue))\n",
      "/aul/homes/jshi008/IvyProjects/ICLR/02MQRNN/util.py:57: RuntimeWarning: divide by zero encountered in true_divide\n",
      "  return np.mean(np.abs((ytrue - ypred) / ytrue))\n",
      "/aul/homes/jshi008/IvyProjects/ICLR/02MQRNN/util.py:57: RuntimeWarning: divide by zero encountered in true_divide\n",
      "  return np.mean(np.abs((ytrue - ypred) / ytrue))\n"
     ]
    },
    {
     "name": "stdout",
     "output_type": "stream",
     "text": [
      "Prediction: 680\n",
      "Prediction: 681\n",
      "Prediction: 682\n",
      "Prediction: 683\n"
     ]
    },
    {
     "name": "stderr",
     "output_type": "stream",
     "text": [
      "/aul/homes/jshi008/IvyProjects/ICLR/02MQRNN/util.py:57: RuntimeWarning: divide by zero encountered in true_divide\n",
      "  return np.mean(np.abs((ytrue - ypred) / ytrue))\n",
      "/aul/homes/jshi008/IvyProjects/ICLR/02MQRNN/util.py:57: RuntimeWarning: divide by zero encountered in true_divide\n",
      "  return np.mean(np.abs((ytrue - ypred) / ytrue))\n",
      "/aul/homes/jshi008/IvyProjects/ICLR/02MQRNN/util.py:57: RuntimeWarning: divide by zero encountered in true_divide\n",
      "  return np.mean(np.abs((ytrue - ypred) / ytrue))\n",
      "/aul/homes/jshi008/IvyProjects/ICLR/02MQRNN/util.py:57: RuntimeWarning: divide by zero encountered in true_divide\n",
      "  return np.mean(np.abs((ytrue - ypred) / ytrue))\n",
      "/aul/homes/jshi008/IvyProjects/ICLR/02MQRNN/util.py:57: RuntimeWarning: divide by zero encountered in true_divide\n",
      "  return np.mean(np.abs((ytrue - ypred) / ytrue))\n"
     ]
    },
    {
     "name": "stdout",
     "output_type": "stream",
     "text": [
      "Prediction: 684\n",
      "Prediction: 685\n",
      "Prediction: 686\n",
      "Prediction: 687\n",
      "Prediction: 688\n"
     ]
    },
    {
     "name": "stderr",
     "output_type": "stream",
     "text": [
      "/aul/homes/jshi008/IvyProjects/ICLR/02MQRNN/util.py:57: RuntimeWarning: divide by zero encountered in true_divide\n",
      "  return np.mean(np.abs((ytrue - ypred) / ytrue))\n",
      "/aul/homes/jshi008/IvyProjects/ICLR/02MQRNN/util.py:57: RuntimeWarning: divide by zero encountered in true_divide\n",
      "  return np.mean(np.abs((ytrue - ypred) / ytrue))\n",
      "/aul/homes/jshi008/IvyProjects/ICLR/02MQRNN/util.py:57: RuntimeWarning: divide by zero encountered in true_divide\n",
      "  return np.mean(np.abs((ytrue - ypred) / ytrue))\n"
     ]
    },
    {
     "name": "stdout",
     "output_type": "stream",
     "text": [
      "Prediction: 689\n",
      "Prediction: 690\n",
      "Prediction: 691\n"
     ]
    },
    {
     "name": "stderr",
     "output_type": "stream",
     "text": [
      "/aul/homes/jshi008/IvyProjects/ICLR/02MQRNN/util.py:57: RuntimeWarning: divide by zero encountered in true_divide\n",
      "  return np.mean(np.abs((ytrue - ypred) / ytrue))\n",
      "/aul/homes/jshi008/IvyProjects/ICLR/02MQRNN/util.py:57: RuntimeWarning: divide by zero encountered in true_divide\n",
      "  return np.mean(np.abs((ytrue - ypred) / ytrue))\n",
      "/aul/homes/jshi008/IvyProjects/ICLR/02MQRNN/util.py:57: RuntimeWarning: divide by zero encountered in true_divide\n",
      "  return np.mean(np.abs((ytrue - ypred) / ytrue))\n",
      "/aul/homes/jshi008/IvyProjects/ICLR/02MQRNN/util.py:57: RuntimeWarning: divide by zero encountered in true_divide\n",
      "  return np.mean(np.abs((ytrue - ypred) / ytrue))\n",
      "/aul/homes/jshi008/IvyProjects/ICLR/02MQRNN/util.py:57: RuntimeWarning: divide by zero encountered in true_divide\n",
      "  return np.mean(np.abs((ytrue - ypred) / ytrue))\n"
     ]
    },
    {
     "name": "stdout",
     "output_type": "stream",
     "text": [
      "Prediction: 692\n",
      "Prediction: 693\n",
      "Prediction: 694\n",
      "Prediction: 695\n",
      "Prediction: 696\n"
     ]
    },
    {
     "name": "stderr",
     "output_type": "stream",
     "text": [
      "/aul/homes/jshi008/IvyProjects/ICLR/02MQRNN/util.py:57: RuntimeWarning: divide by zero encountered in true_divide\n",
      "  return np.mean(np.abs((ytrue - ypred) / ytrue))\n",
      "/aul/homes/jshi008/IvyProjects/ICLR/02MQRNN/util.py:57: RuntimeWarning: divide by zero encountered in true_divide\n",
      "  return np.mean(np.abs((ytrue - ypred) / ytrue))\n",
      "/aul/homes/jshi008/IvyProjects/ICLR/02MQRNN/util.py:57: RuntimeWarning: divide by zero encountered in true_divide\n",
      "  return np.mean(np.abs((ytrue - ypred) / ytrue))\n",
      "/aul/homes/jshi008/IvyProjects/ICLR/02MQRNN/util.py:57: RuntimeWarning: divide by zero encountered in true_divide\n",
      "  return np.mean(np.abs((ytrue - ypred) / ytrue))\n",
      "/aul/homes/jshi008/IvyProjects/ICLR/02MQRNN/util.py:57: RuntimeWarning: divide by zero encountered in true_divide\n",
      "  return np.mean(np.abs((ytrue - ypred) / ytrue))\n"
     ]
    },
    {
     "name": "stdout",
     "output_type": "stream",
     "text": [
      "Prediction: 697\n",
      "Prediction: 698\n",
      "Prediction: 699\n",
      "Prediction: 700\n",
      "Prediction: 701\n"
     ]
    },
    {
     "name": "stderr",
     "output_type": "stream",
     "text": [
      "/aul/homes/jshi008/IvyProjects/ICLR/02MQRNN/util.py:57: RuntimeWarning: divide by zero encountered in true_divide\n",
      "  return np.mean(np.abs((ytrue - ypred) / ytrue))\n",
      "/aul/homes/jshi008/IvyProjects/ICLR/02MQRNN/util.py:57: RuntimeWarning: divide by zero encountered in true_divide\n",
      "  return np.mean(np.abs((ytrue - ypred) / ytrue))\n",
      "/aul/homes/jshi008/IvyProjects/ICLR/02MQRNN/util.py:57: RuntimeWarning: divide by zero encountered in true_divide\n",
      "  return np.mean(np.abs((ytrue - ypred) / ytrue))\n",
      "/aul/homes/jshi008/IvyProjects/ICLR/02MQRNN/util.py:57: RuntimeWarning: divide by zero encountered in true_divide\n",
      "  return np.mean(np.abs((ytrue - ypred) / ytrue))\n"
     ]
    },
    {
     "name": "stdout",
     "output_type": "stream",
     "text": [
      "Prediction: 702\n",
      "Prediction: 703\n",
      "Prediction: 704\n",
      "Prediction: 705\n"
     ]
    },
    {
     "name": "stderr",
     "output_type": "stream",
     "text": [
      "/aul/homes/jshi008/IvyProjects/ICLR/02MQRNN/util.py:57: RuntimeWarning: divide by zero encountered in true_divide\n",
      "  return np.mean(np.abs((ytrue - ypred) / ytrue))\n",
      "/aul/homes/jshi008/IvyProjects/ICLR/02MQRNN/util.py:57: RuntimeWarning: divide by zero encountered in true_divide\n",
      "  return np.mean(np.abs((ytrue - ypred) / ytrue))\n"
     ]
    },
    {
     "name": "stdout",
     "output_type": "stream",
     "text": [
      "Prediction: 706\n",
      "Prediction: 707\n",
      "Prediction: 708\n",
      "Prediction: 709\n",
      "Prediction: 710\n",
      "Prediction: 711\n",
      "Prediction: 712\n",
      "Prediction: 713\n",
      "Prediction: 714\n",
      "Prediction: 715\n",
      "Prediction: 716\n",
      "Prediction: 717\n",
      "Prediction: 718\n",
      "Prediction: 719\n",
      "Prediction: 720\n",
      "Prediction: 721\n",
      "Prediction: 722\n",
      "Prediction: 723\n",
      "Prediction: 724\n",
      "Prediction: 725\n",
      "Prediction: 726\n",
      "Prediction: 727\n",
      "Prediction: 728\n",
      "Prediction: 729\n",
      "Prediction: 730\n",
      "Prediction: 731\n",
      "Prediction: 732\n",
      "Prediction: 733\n",
      "Prediction: 734\n",
      "Prediction: 735\n",
      "Prediction: 736\n",
      "Prediction: 737\n",
      "Prediction: 738\n",
      "Prediction: 739\n",
      "Prediction: 740\n",
      "Prediction: 741\n",
      "Prediction: 742\n",
      "Prediction: 743\n",
      "Prediction: 744\n",
      "Prediction: 745\n",
      "Prediction: 746\n",
      "Prediction: 747\n",
      "Prediction: 748\n",
      "Prediction: 749\n",
      "Prediction: 750\n",
      "Prediction: 751\n",
      "Prediction: 752\n"
     ]
    },
    {
     "name": "stderr",
     "output_type": "stream",
     "text": [
      "/aul/homes/jshi008/IvyProjects/ICLR/02MQRNN/util.py:57: RuntimeWarning: divide by zero encountered in true_divide\n",
      "  return np.mean(np.abs((ytrue - ypred) / ytrue))\n",
      "/aul/homes/jshi008/IvyProjects/ICLR/02MQRNN/util.py:57: RuntimeWarning: divide by zero encountered in true_divide\n",
      "  return np.mean(np.abs((ytrue - ypred) / ytrue))\n",
      "/aul/homes/jshi008/IvyProjects/ICLR/02MQRNN/util.py:57: RuntimeWarning: divide by zero encountered in true_divide\n",
      "  return np.mean(np.abs((ytrue - ypred) / ytrue))\n",
      "/aul/homes/jshi008/IvyProjects/ICLR/02MQRNN/util.py:57: RuntimeWarning: divide by zero encountered in true_divide\n",
      "  return np.mean(np.abs((ytrue - ypred) / ytrue))\n"
     ]
    },
    {
     "name": "stdout",
     "output_type": "stream",
     "text": [
      "Prediction: 753\n",
      "Prediction: 754\n",
      "Prediction: 755\n",
      "Prediction: 756\n"
     ]
    },
    {
     "name": "stderr",
     "output_type": "stream",
     "text": [
      "/aul/homes/jshi008/IvyProjects/ICLR/02MQRNN/util.py:57: RuntimeWarning: divide by zero encountered in true_divide\n",
      "  return np.mean(np.abs((ytrue - ypred) / ytrue))\n",
      "/aul/homes/jshi008/IvyProjects/ICLR/02MQRNN/util.py:57: RuntimeWarning: divide by zero encountered in true_divide\n",
      "  return np.mean(np.abs((ytrue - ypred) / ytrue))\n",
      "/aul/homes/jshi008/IvyProjects/ICLR/02MQRNN/util.py:57: RuntimeWarning: divide by zero encountered in true_divide\n",
      "  return np.mean(np.abs((ytrue - ypred) / ytrue))\n",
      "/aul/homes/jshi008/IvyProjects/ICLR/02MQRNN/util.py:57: RuntimeWarning: divide by zero encountered in true_divide\n",
      "  return np.mean(np.abs((ytrue - ypred) / ytrue))\n"
     ]
    },
    {
     "name": "stdout",
     "output_type": "stream",
     "text": [
      "Prediction: 757\n",
      "Prediction: 758\n",
      "Prediction: 759\n",
      "Prediction: 760\n"
     ]
    },
    {
     "name": "stderr",
     "output_type": "stream",
     "text": [
      "/aul/homes/jshi008/IvyProjects/ICLR/02MQRNN/util.py:57: RuntimeWarning: divide by zero encountered in true_divide\n",
      "  return np.mean(np.abs((ytrue - ypred) / ytrue))\n",
      "/aul/homes/jshi008/IvyProjects/ICLR/02MQRNN/util.py:57: RuntimeWarning: divide by zero encountered in true_divide\n",
      "  return np.mean(np.abs((ytrue - ypred) / ytrue))\n",
      "/aul/homes/jshi008/IvyProjects/ICLR/02MQRNN/util.py:57: RuntimeWarning: divide by zero encountered in true_divide\n",
      "  return np.mean(np.abs((ytrue - ypred) / ytrue))\n",
      "/aul/homes/jshi008/IvyProjects/ICLR/02MQRNN/util.py:57: RuntimeWarning: divide by zero encountered in true_divide\n",
      "  return np.mean(np.abs((ytrue - ypred) / ytrue))\n"
     ]
    },
    {
     "name": "stdout",
     "output_type": "stream",
     "text": [
      "Prediction: 761\n",
      "Prediction: 762\n",
      "Prediction: 763\n",
      "Prediction: 764\n"
     ]
    },
    {
     "name": "stderr",
     "output_type": "stream",
     "text": [
      "/aul/homes/jshi008/IvyProjects/ICLR/02MQRNN/util.py:57: RuntimeWarning: divide by zero encountered in true_divide\n",
      "  return np.mean(np.abs((ytrue - ypred) / ytrue))\n",
      "/aul/homes/jshi008/IvyProjects/ICLR/02MQRNN/util.py:57: RuntimeWarning: divide by zero encountered in true_divide\n",
      "  return np.mean(np.abs((ytrue - ypred) / ytrue))\n",
      "/aul/homes/jshi008/IvyProjects/ICLR/02MQRNN/util.py:57: RuntimeWarning: divide by zero encountered in true_divide\n",
      "  return np.mean(np.abs((ytrue - ypred) / ytrue))\n",
      "/aul/homes/jshi008/IvyProjects/ICLR/02MQRNN/util.py:57: RuntimeWarning: divide by zero encountered in true_divide\n",
      "  return np.mean(np.abs((ytrue - ypred) / ytrue))\n"
     ]
    },
    {
     "name": "stdout",
     "output_type": "stream",
     "text": [
      "Prediction: 765\n",
      "Prediction: 766\n",
      "Prediction: 767\n",
      "Prediction: 768\n"
     ]
    },
    {
     "name": "stderr",
     "output_type": "stream",
     "text": [
      "/aul/homes/jshi008/IvyProjects/ICLR/02MQRNN/util.py:57: RuntimeWarning: divide by zero encountered in true_divide\n",
      "  return np.mean(np.abs((ytrue - ypred) / ytrue))\n",
      "/aul/homes/jshi008/IvyProjects/ICLR/02MQRNN/util.py:57: RuntimeWarning: divide by zero encountered in true_divide\n",
      "  return np.mean(np.abs((ytrue - ypred) / ytrue))\n",
      "/aul/homes/jshi008/IvyProjects/ICLR/02MQRNN/util.py:57: RuntimeWarning: divide by zero encountered in true_divide\n",
      "  return np.mean(np.abs((ytrue - ypred) / ytrue))\n"
     ]
    },
    {
     "name": "stdout",
     "output_type": "stream",
     "text": [
      "Prediction: 769\n",
      "Prediction: 770\n",
      "Prediction: 771\n",
      "Prediction: 772\n"
     ]
    },
    {
     "name": "stderr",
     "output_type": "stream",
     "text": [
      "/aul/homes/jshi008/IvyProjects/ICLR/02MQRNN/util.py:57: RuntimeWarning: divide by zero encountered in true_divide\n",
      "  return np.mean(np.abs((ytrue - ypred) / ytrue))\n",
      "/aul/homes/jshi008/IvyProjects/ICLR/02MQRNN/util.py:57: RuntimeWarning: divide by zero encountered in true_divide\n",
      "  return np.mean(np.abs((ytrue - ypred) / ytrue))\n",
      "/aul/homes/jshi008/IvyProjects/ICLR/02MQRNN/util.py:57: RuntimeWarning: divide by zero encountered in true_divide\n",
      "  return np.mean(np.abs((ytrue - ypred) / ytrue))\n"
     ]
    },
    {
     "name": "stdout",
     "output_type": "stream",
     "text": [
      "Prediction: 773\n",
      "Prediction: 774\n",
      "Prediction: 775\n"
     ]
    },
    {
     "name": "stderr",
     "output_type": "stream",
     "text": [
      "/aul/homes/jshi008/IvyProjects/ICLR/02MQRNN/util.py:57: RuntimeWarning: divide by zero encountered in true_divide\n",
      "  return np.mean(np.abs((ytrue - ypred) / ytrue))\n",
      "/aul/homes/jshi008/IvyProjects/ICLR/02MQRNN/util.py:57: RuntimeWarning: divide by zero encountered in true_divide\n",
      "  return np.mean(np.abs((ytrue - ypred) / ytrue))\n",
      "/aul/homes/jshi008/IvyProjects/ICLR/02MQRNN/util.py:57: RuntimeWarning: divide by zero encountered in true_divide\n",
      "  return np.mean(np.abs((ytrue - ypred) / ytrue))\n",
      "/aul/homes/jshi008/IvyProjects/ICLR/02MQRNN/util.py:57: RuntimeWarning: divide by zero encountered in true_divide\n",
      "  return np.mean(np.abs((ytrue - ypred) / ytrue))\n"
     ]
    },
    {
     "name": "stdout",
     "output_type": "stream",
     "text": [
      "Prediction: 776\n",
      "Prediction: 777\n",
      "Prediction: 778\n",
      "Prediction: 779\n",
      "Prediction: 780\n"
     ]
    },
    {
     "name": "stderr",
     "output_type": "stream",
     "text": [
      "/aul/homes/jshi008/IvyProjects/ICLR/02MQRNN/util.py:57: RuntimeWarning: divide by zero encountered in true_divide\n",
      "  return np.mean(np.abs((ytrue - ypred) / ytrue))\n",
      "/aul/homes/jshi008/IvyProjects/ICLR/02MQRNN/util.py:57: RuntimeWarning: divide by zero encountered in true_divide\n",
      "  return np.mean(np.abs((ytrue - ypred) / ytrue))\n",
      "/aul/homes/jshi008/IvyProjects/ICLR/02MQRNN/util.py:57: RuntimeWarning: divide by zero encountered in true_divide\n",
      "  return np.mean(np.abs((ytrue - ypred) / ytrue))\n",
      "/aul/homes/jshi008/IvyProjects/ICLR/02MQRNN/util.py:57: RuntimeWarning: divide by zero encountered in true_divide\n",
      "  return np.mean(np.abs((ytrue - ypred) / ytrue))\n"
     ]
    },
    {
     "name": "stdout",
     "output_type": "stream",
     "text": [
      "Prediction: 781\n",
      "Prediction: 782\n",
      "Prediction: 783\n"
     ]
    },
    {
     "name": "stderr",
     "output_type": "stream",
     "text": [
      "/aul/homes/jshi008/IvyProjects/ICLR/02MQRNN/util.py:57: RuntimeWarning: divide by zero encountered in true_divide\n",
      "  return np.mean(np.abs((ytrue - ypred) / ytrue))\n",
      "/aul/homes/jshi008/IvyProjects/ICLR/02MQRNN/util.py:57: RuntimeWarning: divide by zero encountered in true_divide\n",
      "  return np.mean(np.abs((ytrue - ypred) / ytrue))\n",
      "/aul/homes/jshi008/IvyProjects/ICLR/02MQRNN/util.py:57: RuntimeWarning: divide by zero encountered in true_divide\n",
      "  return np.mean(np.abs((ytrue - ypred) / ytrue))\n",
      "/aul/homes/jshi008/IvyProjects/ICLR/02MQRNN/util.py:57: RuntimeWarning: divide by zero encountered in true_divide\n",
      "  return np.mean(np.abs((ytrue - ypred) / ytrue))\n"
     ]
    },
    {
     "name": "stdout",
     "output_type": "stream",
     "text": [
      "Prediction: 784\n",
      "Prediction: 785\n",
      "Prediction: 786\n",
      "Prediction: 787\n"
     ]
    },
    {
     "name": "stderr",
     "output_type": "stream",
     "text": [
      "/aul/homes/jshi008/IvyProjects/ICLR/02MQRNN/util.py:57: RuntimeWarning: divide by zero encountered in true_divide\n",
      "  return np.mean(np.abs((ytrue - ypred) / ytrue))\n",
      "/aul/homes/jshi008/IvyProjects/ICLR/02MQRNN/util.py:57: RuntimeWarning: divide by zero encountered in true_divide\n",
      "  return np.mean(np.abs((ytrue - ypred) / ytrue))\n",
      "/aul/homes/jshi008/IvyProjects/ICLR/02MQRNN/util.py:57: RuntimeWarning: divide by zero encountered in true_divide\n",
      "  return np.mean(np.abs((ytrue - ypred) / ytrue))\n",
      "/aul/homes/jshi008/IvyProjects/ICLR/02MQRNN/util.py:57: RuntimeWarning: divide by zero encountered in true_divide\n",
      "  return np.mean(np.abs((ytrue - ypred) / ytrue))\n"
     ]
    },
    {
     "name": "stdout",
     "output_type": "stream",
     "text": [
      "Prediction: 788\n",
      "Prediction: 789\n",
      "Prediction: 790\n"
     ]
    },
    {
     "name": "stderr",
     "output_type": "stream",
     "text": [
      "/aul/homes/jshi008/IvyProjects/ICLR/02MQRNN/util.py:57: RuntimeWarning: divide by zero encountered in true_divide\n",
      "  return np.mean(np.abs((ytrue - ypred) / ytrue))\n",
      "/aul/homes/jshi008/IvyProjects/ICLR/02MQRNN/util.py:57: RuntimeWarning: divide by zero encountered in true_divide\n",
      "  return np.mean(np.abs((ytrue - ypred) / ytrue))\n"
     ]
    },
    {
     "name": "stdout",
     "output_type": "stream",
     "text": [
      "Prediction: 791\n",
      "Prediction: 792\n",
      "Prediction: 793\n",
      "Prediction: 794\n",
      "Prediction: 795\n",
      "Prediction: 796\n",
      "Prediction: 797\n",
      "Prediction: 798\n",
      "Prediction: 799\n",
      "Prediction: 800\n",
      "Prediction: 801\n",
      "Prediction: 802\n",
      "Prediction: 803\n",
      "Prediction: 804\n",
      "Prediction: 805\n",
      "Prediction: 806\n",
      "Prediction: 807\n",
      "Prediction: 808\n",
      "Prediction: 809\n",
      "Prediction: 810\n",
      "Prediction: 811\n",
      "Prediction: 812\n",
      "Prediction: 813\n",
      "Prediction: 814\n",
      "Prediction: 815\n",
      "Prediction: 816\n",
      "Prediction: 817\n",
      "Prediction: 818\n",
      "Prediction: 819\n",
      "Prediction: 820\n",
      "Prediction: 821\n",
      "Prediction: 822\n",
      "Prediction: 823\n",
      "Prediction: 824\n",
      "Prediction: 825\n",
      "Prediction: 826\n",
      "Prediction: 827\n",
      "Prediction: 828\n",
      "Prediction: 829\n",
      "Prediction: 830\n",
      "Prediction: 831\n",
      "Prediction: 832\n",
      "Prediction: 833\n",
      "Prediction: 834\n",
      "Prediction: 835\n",
      "Prediction: 836\n",
      "Prediction: 837\n",
      "Prediction: 838\n",
      "Prediction: 839\n",
      "Prediction: 840\n",
      "Prediction: 841\n",
      "Prediction: 842\n",
      "Prediction: 843\n",
      "Prediction: 844\n",
      "Prediction: 845\n",
      "Prediction: 846\n",
      "Prediction: 847\n",
      "Prediction: 848\n",
      "Prediction: 849\n",
      "Prediction: 850\n",
      "Prediction: 851\n",
      "Prediction: 852\n",
      "Prediction: 853\n",
      "Prediction: 854\n",
      "Prediction: 855\n",
      "Prediction: 856\n",
      "Prediction: 857\n",
      "Prediction: 858\n",
      "Prediction: 859\n",
      "Prediction: 860\n",
      "Prediction: 861\n",
      "Prediction: 862\n",
      "Prediction: 863\n",
      "Prediction: 864\n",
      "Prediction: 865\n",
      "Prediction: 866\n",
      "Prediction: 867\n",
      "Prediction: 868\n",
      "Prediction: 869\n",
      "Prediction: 870\n",
      "Prediction: 871\n",
      "Prediction: 872\n",
      "Prediction: 873\n",
      "Prediction: 874\n",
      "Prediction: 875\n",
      "Prediction: 876\n",
      "Prediction: 877\n",
      "Prediction: 878\n",
      "Prediction: 879\n",
      "Prediction: 880\n",
      "Prediction: 881\n",
      "Prediction: 882\n",
      "Prediction: 883\n",
      "Prediction: 884\n",
      "Prediction: 885\n",
      "Prediction: 886\n",
      "Prediction: 887\n",
      "Prediction: 888\n",
      "Prediction: 889\n",
      "Prediction: 890\n",
      "Prediction: 891\n",
      "Prediction: 892\n",
      "Prediction: 893\n",
      "Prediction: 894\n",
      "Prediction: 895\n",
      "Prediction: 896\n",
      "Prediction: 897\n",
      "Prediction: 898\n",
      "Prediction: 899\n",
      "Prediction: 900\n",
      "Prediction: 901\n",
      "Prediction: 902\n",
      "Prediction: 903\n",
      "Prediction: 904\n",
      "Prediction: 905\n",
      "Prediction: 906\n",
      "Prediction: 907\n",
      "Prediction: 908\n",
      "Prediction: 909\n",
      "Prediction: 910\n",
      "Prediction: 911\n",
      "Prediction: 912\n",
      "Prediction: 913\n",
      "Prediction: 914\n",
      "Prediction: 915\n",
      "Prediction: 916\n",
      "Prediction: 917\n",
      "Prediction: 918\n",
      "Prediction: 919\n",
      "Prediction: 920\n",
      "Prediction: 921\n",
      "Prediction: 922\n",
      "Prediction: 923\n",
      "Prediction: 924\n",
      "Prediction: 925\n",
      "Prediction: 926\n",
      "Prediction: 927\n",
      "Prediction: 928\n",
      "Prediction: 929\n",
      "Prediction: 930\n",
      "Prediction: 931\n",
      "Prediction: 932\n",
      "Prediction: 933\n",
      "Prediction: 934\n",
      "Prediction: 935\n",
      "Prediction: 936\n",
      "Prediction: 937\n",
      "Prediction: 938\n",
      "Prediction: 939\n",
      "Prediction: 940\n",
      "Prediction: 941\n",
      "Prediction: 942\n",
      "Prediction: 943\n",
      "Prediction: 944\n",
      "Prediction: 945\n",
      "Prediction: 946\n",
      "Prediction: 947\n",
      "Prediction: 948\n",
      "Prediction: 949\n",
      "Prediction: 950\n",
      "Prediction: 951\n",
      "Prediction: 952\n",
      "Prediction: 953\n",
      "Prediction: 954\n",
      "Prediction: 955\n",
      "Prediction: 956\n",
      "Prediction: 957\n",
      "Prediction: 958\n",
      "Prediction: 959\n",
      "Prediction: 960\n",
      "Prediction: 961\n",
      "Prediction: 962\n",
      "Prediction: 963\n",
      "Prediction: 964\n",
      "Prediction: 965\n",
      "Prediction: 966\n",
      "Prediction: 967\n",
      "Prediction: 968\n",
      "Prediction: 969\n",
      "Prediction: 970\n",
      "Prediction: 971\n",
      "Prediction: 972\n",
      "Prediction: 973\n",
      "Prediction: 974\n",
      "Prediction: 975\n",
      "Prediction: 976\n",
      "Prediction: 977\n",
      "Prediction: 978\n",
      "Prediction: 979\n",
      "Prediction: 980\n",
      "Prediction: 981\n",
      "Prediction: 982\n",
      "Prediction: 983\n",
      "Prediction: 984\n",
      "Prediction: 985\n",
      "Prediction: 986\n",
      "Prediction: 987\n",
      "Prediction: 988\n",
      "Prediction: 989\n",
      "Prediction: 990\n",
      "Prediction: 991\n",
      "Prediction: 992\n",
      "Prediction: 993\n"
     ]
    },
    {
     "name": "stderr",
     "output_type": "stream",
     "text": [
      "/aul/homes/jshi008/IvyProjects/ICLR/02MQRNN/util.py:57: RuntimeWarning: divide by zero encountered in true_divide\n",
      "  return np.mean(np.abs((ytrue - ypred) / ytrue))\n",
      "/aul/homes/jshi008/IvyProjects/ICLR/02MQRNN/util.py:57: RuntimeWarning: divide by zero encountered in true_divide\n",
      "  return np.mean(np.abs((ytrue - ypred) / ytrue))\n",
      "/aul/homes/jshi008/IvyProjects/ICLR/02MQRNN/util.py:57: RuntimeWarning: divide by zero encountered in true_divide\n",
      "  return np.mean(np.abs((ytrue - ypred) / ytrue))\n",
      "/aul/homes/jshi008/IvyProjects/ICLR/02MQRNN/util.py:57: RuntimeWarning: divide by zero encountered in true_divide\n",
      "  return np.mean(np.abs((ytrue - ypred) / ytrue))\n"
     ]
    },
    {
     "name": "stdout",
     "output_type": "stream",
     "text": [
      "Prediction: 994\n",
      "Prediction: 995\n",
      "Prediction: 996\n",
      "Prediction: 997\n"
     ]
    },
    {
     "name": "stderr",
     "output_type": "stream",
     "text": [
      "/aul/homes/jshi008/IvyProjects/ICLR/02MQRNN/util.py:57: RuntimeWarning: divide by zero encountered in true_divide\n",
      "  return np.mean(np.abs((ytrue - ypred) / ytrue))\n",
      "/aul/homes/jshi008/IvyProjects/ICLR/02MQRNN/util.py:57: RuntimeWarning: divide by zero encountered in true_divide\n",
      "  return np.mean(np.abs((ytrue - ypred) / ytrue))\n",
      "/aul/homes/jshi008/IvyProjects/ICLR/02MQRNN/util.py:57: RuntimeWarning: divide by zero encountered in true_divide\n",
      "  return np.mean(np.abs((ytrue - ypred) / ytrue))\n",
      "/aul/homes/jshi008/IvyProjects/ICLR/02MQRNN/util.py:57: RuntimeWarning: divide by zero encountered in true_divide\n",
      "  return np.mean(np.abs((ytrue - ypred) / ytrue))\n"
     ]
    },
    {
     "name": "stdout",
     "output_type": "stream",
     "text": [
      "Prediction: 998\n",
      "Prediction: 999\n",
      "Prediction: 1000\n",
      "Prediction: 1001\n"
     ]
    },
    {
     "name": "stderr",
     "output_type": "stream",
     "text": [
      "/aul/homes/jshi008/IvyProjects/ICLR/02MQRNN/util.py:57: RuntimeWarning: divide by zero encountered in true_divide\n",
      "  return np.mean(np.abs((ytrue - ypred) / ytrue))\n",
      "/aul/homes/jshi008/IvyProjects/ICLR/02MQRNN/util.py:57: RuntimeWarning: divide by zero encountered in true_divide\n",
      "  return np.mean(np.abs((ytrue - ypred) / ytrue))\n",
      "/aul/homes/jshi008/IvyProjects/ICLR/02MQRNN/util.py:57: RuntimeWarning: divide by zero encountered in true_divide\n",
      "  return np.mean(np.abs((ytrue - ypred) / ytrue))\n",
      "/aul/homes/jshi008/IvyProjects/ICLR/02MQRNN/util.py:57: RuntimeWarning: divide by zero encountered in true_divide\n",
      "  return np.mean(np.abs((ytrue - ypred) / ytrue))\n"
     ]
    },
    {
     "name": "stdout",
     "output_type": "stream",
     "text": [
      "Prediction: 1002\n",
      "Prediction: 1003\n",
      "Prediction: 1004\n",
      "Prediction: 1005\n"
     ]
    },
    {
     "name": "stderr",
     "output_type": "stream",
     "text": [
      "/aul/homes/jshi008/IvyProjects/ICLR/02MQRNN/util.py:57: RuntimeWarning: divide by zero encountered in true_divide\n",
      "  return np.mean(np.abs((ytrue - ypred) / ytrue))\n",
      "/aul/homes/jshi008/IvyProjects/ICLR/02MQRNN/util.py:57: RuntimeWarning: divide by zero encountered in true_divide\n",
      "  return np.mean(np.abs((ytrue - ypred) / ytrue))\n",
      "/aul/homes/jshi008/IvyProjects/ICLR/02MQRNN/util.py:57: RuntimeWarning: divide by zero encountered in true_divide\n",
      "  return np.mean(np.abs((ytrue - ypred) / ytrue))\n",
      "/aul/homes/jshi008/IvyProjects/ICLR/02MQRNN/util.py:57: RuntimeWarning: divide by zero encountered in true_divide\n",
      "  return np.mean(np.abs((ytrue - ypred) / ytrue))\n"
     ]
    },
    {
     "name": "stdout",
     "output_type": "stream",
     "text": [
      "Prediction: 1006\n",
      "Prediction: 1007\n",
      "Prediction: 1008\n",
      "Prediction: 1009\n",
      "Prediction: 1010\n"
     ]
    },
    {
     "name": "stderr",
     "output_type": "stream",
     "text": [
      "/aul/homes/jshi008/IvyProjects/ICLR/02MQRNN/util.py:57: RuntimeWarning: divide by zero encountered in true_divide\n",
      "  return np.mean(np.abs((ytrue - ypred) / ytrue))\n",
      "/aul/homes/jshi008/IvyProjects/ICLR/02MQRNN/util.py:57: RuntimeWarning: divide by zero encountered in true_divide\n",
      "  return np.mean(np.abs((ytrue - ypred) / ytrue))\n",
      "/aul/homes/jshi008/IvyProjects/ICLR/02MQRNN/util.py:57: RuntimeWarning: divide by zero encountered in true_divide\n",
      "  return np.mean(np.abs((ytrue - ypred) / ytrue))\n",
      "/aul/homes/jshi008/IvyProjects/ICLR/02MQRNN/util.py:57: RuntimeWarning: divide by zero encountered in true_divide\n",
      "  return np.mean(np.abs((ytrue - ypred) / ytrue))\n",
      "/aul/homes/jshi008/IvyProjects/ICLR/02MQRNN/util.py:57: RuntimeWarning: divide by zero encountered in true_divide\n",
      "  return np.mean(np.abs((ytrue - ypred) / ytrue))\n"
     ]
    },
    {
     "name": "stdout",
     "output_type": "stream",
     "text": [
      "Prediction: 1011\n",
      "Prediction: 1012\n",
      "Prediction: 1013\n"
     ]
    },
    {
     "name": "stderr",
     "output_type": "stream",
     "text": [
      "/aul/homes/jshi008/IvyProjects/ICLR/02MQRNN/util.py:57: RuntimeWarning: divide by zero encountered in true_divide\n",
      "  return np.mean(np.abs((ytrue - ypred) / ytrue))\n",
      "/aul/homes/jshi008/IvyProjects/ICLR/02MQRNN/util.py:57: RuntimeWarning: divide by zero encountered in true_divide\n",
      "  return np.mean(np.abs((ytrue - ypred) / ytrue))\n",
      "/aul/homes/jshi008/IvyProjects/ICLR/02MQRNN/util.py:57: RuntimeWarning: divide by zero encountered in true_divide\n",
      "  return np.mean(np.abs((ytrue - ypred) / ytrue))\n"
     ]
    },
    {
     "name": "stdout",
     "output_type": "stream",
     "text": [
      "Prediction: 1014\n",
      "Prediction: 1015\n",
      "Prediction: 1016\n",
      "Prediction: 1017\n",
      "Prediction: 1018\n",
      "Prediction: 1019\n",
      "Prediction: 1020\n",
      "Prediction: 1021\n",
      "Prediction: 1022\n",
      "Prediction: 1023\n",
      "Prediction: 1024\n",
      "Prediction: 1025\n",
      "Prediction: 1026\n",
      "Prediction: 1027\n",
      "Prediction: 1028\n",
      "Prediction: 1029\n",
      "Prediction: 1030\n",
      "Prediction: 1031\n",
      "Prediction: 1032\n",
      "Prediction: 1033\n",
      "Prediction: 1034\n",
      "Prediction: 1035\n",
      "Prediction: 1036\n",
      "Prediction: 1037\n",
      "Prediction: 1038\n",
      "Prediction: 1039\n",
      "Prediction: 1040\n",
      "Prediction: 1041\n",
      "Prediction: 1042\n",
      "Prediction: 1043\n",
      "Prediction: 1044\n",
      "Prediction: 1045\n",
      "Prediction: 1046\n",
      "Prediction: 1047\n",
      "Prediction: 1048\n",
      "Prediction: 1049\n",
      "Prediction: 1050\n",
      "Prediction: 1051\n",
      "Prediction: 1052\n"
     ]
    },
    {
     "name": "stderr",
     "output_type": "stream",
     "text": [
      "/aul/homes/jshi008/IvyProjects/ICLR/02MQRNN/util.py:57: RuntimeWarning: divide by zero encountered in true_divide\n",
      "  return np.mean(np.abs((ytrue - ypred) / ytrue))\n",
      "/aul/homes/jshi008/IvyProjects/ICLR/02MQRNN/util.py:57: RuntimeWarning: divide by zero encountered in true_divide\n",
      "  return np.mean(np.abs((ytrue - ypred) / ytrue))\n",
      "/aul/homes/jshi008/IvyProjects/ICLR/02MQRNN/util.py:57: RuntimeWarning: divide by zero encountered in true_divide\n",
      "  return np.mean(np.abs((ytrue - ypred) / ytrue))\n",
      "/aul/homes/jshi008/IvyProjects/ICLR/02MQRNN/util.py:57: RuntimeWarning: divide by zero encountered in true_divide\n",
      "  return np.mean(np.abs((ytrue - ypred) / ytrue))\n"
     ]
    },
    {
     "name": "stdout",
     "output_type": "stream",
     "text": [
      "Prediction: 1053\n",
      "Prediction: 1054\n",
      "Prediction: 1055\n",
      "Prediction: 1056\n"
     ]
    },
    {
     "name": "stderr",
     "output_type": "stream",
     "text": [
      "/aul/homes/jshi008/IvyProjects/ICLR/02MQRNN/util.py:57: RuntimeWarning: divide by zero encountered in true_divide\n",
      "  return np.mean(np.abs((ytrue - ypred) / ytrue))\n",
      "/aul/homes/jshi008/IvyProjects/ICLR/02MQRNN/util.py:57: RuntimeWarning: divide by zero encountered in true_divide\n",
      "  return np.mean(np.abs((ytrue - ypred) / ytrue))\n",
      "/aul/homes/jshi008/IvyProjects/ICLR/02MQRNN/util.py:57: RuntimeWarning: divide by zero encountered in true_divide\n",
      "  return np.mean(np.abs((ytrue - ypred) / ytrue))\n",
      "/aul/homes/jshi008/IvyProjects/ICLR/02MQRNN/util.py:57: RuntimeWarning: divide by zero encountered in true_divide\n",
      "  return np.mean(np.abs((ytrue - ypred) / ytrue))\n"
     ]
    },
    {
     "name": "stdout",
     "output_type": "stream",
     "text": [
      "Prediction: 1057\n",
      "Prediction: 1058\n",
      "Prediction: 1059\n",
      "Prediction: 1060\n"
     ]
    },
    {
     "name": "stderr",
     "output_type": "stream",
     "text": [
      "/aul/homes/jshi008/IvyProjects/ICLR/02MQRNN/util.py:57: RuntimeWarning: divide by zero encountered in true_divide\n",
      "  return np.mean(np.abs((ytrue - ypred) / ytrue))\n",
      "/aul/homes/jshi008/IvyProjects/ICLR/02MQRNN/util.py:57: RuntimeWarning: divide by zero encountered in true_divide\n",
      "  return np.mean(np.abs((ytrue - ypred) / ytrue))\n",
      "/aul/homes/jshi008/IvyProjects/ICLR/02MQRNN/util.py:57: RuntimeWarning: divide by zero encountered in true_divide\n",
      "  return np.mean(np.abs((ytrue - ypred) / ytrue))\n"
     ]
    },
    {
     "name": "stdout",
     "output_type": "stream",
     "text": [
      "Prediction: 1061\n",
      "Prediction: 1062\n",
      "Prediction: 1063\n"
     ]
    },
    {
     "name": "stderr",
     "output_type": "stream",
     "text": [
      "/aul/homes/jshi008/IvyProjects/ICLR/02MQRNN/util.py:57: RuntimeWarning: divide by zero encountered in true_divide\n",
      "  return np.mean(np.abs((ytrue - ypred) / ytrue))\n",
      "/aul/homes/jshi008/IvyProjects/ICLR/02MQRNN/util.py:57: RuntimeWarning: divide by zero encountered in true_divide\n",
      "  return np.mean(np.abs((ytrue - ypred) / ytrue))\n",
      "/aul/homes/jshi008/IvyProjects/ICLR/02MQRNN/util.py:57: RuntimeWarning: divide by zero encountered in true_divide\n",
      "  return np.mean(np.abs((ytrue - ypred) / ytrue))\n"
     ]
    },
    {
     "name": "stdout",
     "output_type": "stream",
     "text": [
      "Prediction: 1064\n",
      "Prediction: 1065\n",
      "Prediction: 1066\n"
     ]
    },
    {
     "name": "stderr",
     "output_type": "stream",
     "text": [
      "/aul/homes/jshi008/IvyProjects/ICLR/02MQRNN/util.py:57: RuntimeWarning: divide by zero encountered in true_divide\n",
      "  return np.mean(np.abs((ytrue - ypred) / ytrue))\n",
      "/aul/homes/jshi008/IvyProjects/ICLR/02MQRNN/util.py:57: RuntimeWarning: divide by zero encountered in true_divide\n",
      "  return np.mean(np.abs((ytrue - ypred) / ytrue))\n",
      "/aul/homes/jshi008/IvyProjects/ICLR/02MQRNN/util.py:57: RuntimeWarning: divide by zero encountered in true_divide\n",
      "  return np.mean(np.abs((ytrue - ypred) / ytrue))\n"
     ]
    },
    {
     "name": "stdout",
     "output_type": "stream",
     "text": [
      "Prediction: 1067\n",
      "Prediction: 1068\n",
      "Prediction: 1069\n"
     ]
    },
    {
     "name": "stderr",
     "output_type": "stream",
     "text": [
      "/aul/homes/jshi008/IvyProjects/ICLR/02MQRNN/util.py:57: RuntimeWarning: divide by zero encountered in true_divide\n",
      "  return np.mean(np.abs((ytrue - ypred) / ytrue))\n",
      "/aul/homes/jshi008/IvyProjects/ICLR/02MQRNN/util.py:57: RuntimeWarning: divide by zero encountered in true_divide\n",
      "  return np.mean(np.abs((ytrue - ypred) / ytrue))\n"
     ]
    },
    {
     "name": "stdout",
     "output_type": "stream",
     "text": [
      "Prediction: 1070\n",
      "Prediction: 1071\n"
     ]
    },
    {
     "name": "stderr",
     "output_type": "stream",
     "text": [
      "/aul/homes/jshi008/IvyProjects/ICLR/02MQRNN/util.py:57: RuntimeWarning: divide by zero encountered in true_divide\n",
      "  return np.mean(np.abs((ytrue - ypred) / ytrue))\n",
      "/aul/homes/jshi008/IvyProjects/ICLR/02MQRNN/util.py:57: RuntimeWarning: divide by zero encountered in true_divide\n",
      "  return np.mean(np.abs((ytrue - ypred) / ytrue))\n",
      "/aul/homes/jshi008/IvyProjects/ICLR/02MQRNN/util.py:57: RuntimeWarning: divide by zero encountered in true_divide\n",
      "  return np.mean(np.abs((ytrue - ypred) / ytrue))\n",
      "/aul/homes/jshi008/IvyProjects/ICLR/02MQRNN/util.py:57: RuntimeWarning: divide by zero encountered in true_divide\n",
      "  return np.mean(np.abs((ytrue - ypred) / ytrue))\n"
     ]
    },
    {
     "name": "stdout",
     "output_type": "stream",
     "text": [
      "Prediction: 1072\n",
      "Prediction: 1073\n",
      "Prediction: 1074\n",
      "Prediction: 1075\n"
     ]
    },
    {
     "name": "stderr",
     "output_type": "stream",
     "text": [
      "/aul/homes/jshi008/IvyProjects/ICLR/02MQRNN/util.py:57: RuntimeWarning: divide by zero encountered in true_divide\n",
      "  return np.mean(np.abs((ytrue - ypred) / ytrue))\n",
      "/aul/homes/jshi008/IvyProjects/ICLR/02MQRNN/util.py:57: RuntimeWarning: divide by zero encountered in true_divide\n",
      "  return np.mean(np.abs((ytrue - ypred) / ytrue))\n",
      "/aul/homes/jshi008/IvyProjects/ICLR/02MQRNN/util.py:57: RuntimeWarning: divide by zero encountered in true_divide\n",
      "  return np.mean(np.abs((ytrue - ypred) / ytrue))\n"
     ]
    },
    {
     "name": "stdout",
     "output_type": "stream",
     "text": [
      "Prediction: 1076\n",
      "Prediction: 1077\n",
      "Prediction: 1078\n"
     ]
    },
    {
     "name": "stderr",
     "output_type": "stream",
     "text": [
      "/aul/homes/jshi008/IvyProjects/ICLR/02MQRNN/util.py:57: RuntimeWarning: divide by zero encountered in true_divide\n",
      "  return np.mean(np.abs((ytrue - ypred) / ytrue))\n",
      "/aul/homes/jshi008/IvyProjects/ICLR/02MQRNN/util.py:57: RuntimeWarning: divide by zero encountered in true_divide\n",
      "  return np.mean(np.abs((ytrue - ypred) / ytrue))\n",
      "/aul/homes/jshi008/IvyProjects/ICLR/02MQRNN/util.py:57: RuntimeWarning: divide by zero encountered in true_divide\n",
      "  return np.mean(np.abs((ytrue - ypred) / ytrue))\n",
      "/aul/homes/jshi008/IvyProjects/ICLR/02MQRNN/util.py:57: RuntimeWarning: divide by zero encountered in true_divide\n",
      "  return np.mean(np.abs((ytrue - ypred) / ytrue))\n"
     ]
    },
    {
     "name": "stdout",
     "output_type": "stream",
     "text": [
      "Prediction: 1079\n",
      "Prediction: 1080\n",
      "Prediction: 1081\n",
      "Prediction: 1082\n"
     ]
    },
    {
     "name": "stderr",
     "output_type": "stream",
     "text": [
      "/aul/homes/jshi008/IvyProjects/ICLR/02MQRNN/util.py:57: RuntimeWarning: divide by zero encountered in true_divide\n",
      "  return np.mean(np.abs((ytrue - ypred) / ytrue))\n",
      "/aul/homes/jshi008/IvyProjects/ICLR/02MQRNN/util.py:57: RuntimeWarning: divide by zero encountered in true_divide\n",
      "  return np.mean(np.abs((ytrue - ypred) / ytrue))\n",
      "/aul/homes/jshi008/IvyProjects/ICLR/02MQRNN/util.py:57: RuntimeWarning: divide by zero encountered in true_divide\n",
      "  return np.mean(np.abs((ytrue - ypred) / ytrue))\n",
      "/aul/homes/jshi008/IvyProjects/ICLR/02MQRNN/util.py:57: RuntimeWarning: divide by zero encountered in true_divide\n",
      "  return np.mean(np.abs((ytrue - ypred) / ytrue))\n"
     ]
    },
    {
     "name": "stdout",
     "output_type": "stream",
     "text": [
      "Prediction: 1083\n",
      "Prediction: 1084\n",
      "Prediction: 1085\n",
      "Prediction: 1086\n"
     ]
    },
    {
     "name": "stderr",
     "output_type": "stream",
     "text": [
      "/aul/homes/jshi008/IvyProjects/ICLR/02MQRNN/util.py:57: RuntimeWarning: divide by zero encountered in true_divide\n",
      "  return np.mean(np.abs((ytrue - ypred) / ytrue))\n",
      "/aul/homes/jshi008/IvyProjects/ICLR/02MQRNN/util.py:57: RuntimeWarning: divide by zero encountered in true_divide\n",
      "  return np.mean(np.abs((ytrue - ypred) / ytrue))\n",
      "/aul/homes/jshi008/IvyProjects/ICLR/02MQRNN/util.py:57: RuntimeWarning: divide by zero encountered in true_divide\n",
      "  return np.mean(np.abs((ytrue - ypred) / ytrue))\n"
     ]
    },
    {
     "name": "stdout",
     "output_type": "stream",
     "text": [
      "Prediction: 1087\n",
      "Prediction: 1088\n",
      "Prediction: 1089\n",
      "Prediction: 1090\n",
      "Prediction: 1091\n",
      "Prediction: 1092\n",
      "Prediction: 1093\n",
      "Prediction: 1094\n",
      "Prediction: 1095\n",
      "Prediction: 1096\n",
      "Prediction: 1097\n",
      "Prediction: 1098\n",
      "Prediction: 1099\n",
      "Prediction: 1100\n",
      "Prediction: 1101\n",
      "Prediction: 1102\n",
      "Prediction: 1103\n",
      "Prediction: 1104\n",
      "Prediction: 1105\n",
      "Prediction: 1106\n",
      "Prediction: 1107\n",
      "Prediction: 1108\n",
      "Prediction: 1109\n",
      "Prediction: 1110\n",
      "Prediction: 1111\n",
      "Prediction: 1112\n",
      "Prediction: 1113\n",
      "Prediction: 1114\n",
      "Prediction: 1115\n",
      "Prediction: 1116\n",
      "Prediction: 1117\n",
      "Prediction: 1118\n",
      "Prediction: 1119\n",
      "Prediction: 1120\n",
      "Prediction: 1121\n",
      "Prediction: 1122\n",
      "Prediction: 1123\n",
      "Prediction: 1124\n",
      "Prediction: 1125\n",
      "Prediction: 1126\n",
      "Prediction: 1127\n",
      "Prediction: 1128\n",
      "Prediction: 1129\n",
      "Prediction: 1130\n",
      "Prediction: 1131\n",
      "Prediction: 1132\n",
      "Prediction: 1133\n",
      "Prediction: 1134\n",
      "Prediction: 1135\n",
      "Prediction: 1136\n",
      "Prediction: 1137\n",
      "Prediction: 1138\n",
      "Prediction: 1139\n",
      "Prediction: 1140\n",
      "Prediction: 1141\n",
      "Prediction: 1142\n",
      "Prediction: 1143\n",
      "Prediction: 1144\n",
      "Prediction: 1145\n",
      "Prediction: 1146\n",
      "Prediction: 1147\n",
      "Prediction: 1148\n",
      "Prediction: 1149\n",
      "Prediction: 1150\n",
      "Prediction: 1151\n",
      "Prediction: 1152\n",
      "Prediction: 1153\n",
      "Prediction: 1154\n",
      "Prediction: 1155\n",
      "Prediction: 1156\n",
      "Prediction: 1157\n",
      "Prediction: 1158\n",
      "Prediction: 1159\n",
      "Prediction: 1160\n",
      "Prediction: 1161\n",
      "Prediction: 1162\n",
      "Prediction: 1163\n",
      "Prediction: 1164\n",
      "Prediction: 1165\n",
      "Prediction: 1166\n",
      "Prediction: 1167\n",
      "Prediction: 1168\n",
      "Prediction: 1169\n",
      "Prediction: 1170\n",
      "Prediction: 1171\n",
      "Prediction: 1172\n",
      "Prediction: 1173\n",
      "Prediction: 1174\n"
     ]
    },
    {
     "name": "stderr",
     "output_type": "stream",
     "text": [
      "/aul/homes/jshi008/IvyProjects/ICLR/02MQRNN/util.py:57: RuntimeWarning: divide by zero encountered in true_divide\n",
      "  return np.mean(np.abs((ytrue - ypred) / ytrue))\n",
      "/aul/homes/jshi008/IvyProjects/ICLR/02MQRNN/util.py:57: RuntimeWarning: divide by zero encountered in true_divide\n",
      "  return np.mean(np.abs((ytrue - ypred) / ytrue))\n",
      "/aul/homes/jshi008/IvyProjects/ICLR/02MQRNN/util.py:57: RuntimeWarning: divide by zero encountered in true_divide\n",
      "  return np.mean(np.abs((ytrue - ypred) / ytrue))\n",
      "/aul/homes/jshi008/IvyProjects/ICLR/02MQRNN/util.py:57: RuntimeWarning: divide by zero encountered in true_divide\n",
      "  return np.mean(np.abs((ytrue - ypred) / ytrue))\n"
     ]
    },
    {
     "name": "stdout",
     "output_type": "stream",
     "text": [
      "Prediction: 1175\n",
      "Prediction: 1176\n"
     ]
    },
    {
     "name": "stderr",
     "output_type": "stream",
     "text": [
      "/aul/homes/jshi008/IvyProjects/ICLR/02MQRNN/util.py:57: RuntimeWarning: divide by zero encountered in true_divide\n",
      "  return np.mean(np.abs((ytrue - ypred) / ytrue))\n",
      "/aul/homes/jshi008/IvyProjects/ICLR/02MQRNN/util.py:57: RuntimeWarning: divide by zero encountered in true_divide\n",
      "  return np.mean(np.abs((ytrue - ypred) / ytrue))\n",
      "/aul/homes/jshi008/IvyProjects/ICLR/02MQRNN/util.py:57: RuntimeWarning: divide by zero encountered in true_divide\n",
      "  return np.mean(np.abs((ytrue - ypred) / ytrue))\n",
      "/aul/homes/jshi008/IvyProjects/ICLR/02MQRNN/util.py:57: RuntimeWarning: divide by zero encountered in true_divide\n",
      "  return np.mean(np.abs((ytrue - ypred) / ytrue))\n"
     ]
    },
    {
     "name": "stdout",
     "output_type": "stream",
     "text": [
      "Prediction: 1177\n",
      "Prediction: 1178\n",
      "Prediction: 1179\n",
      "Prediction: 1180\n"
     ]
    },
    {
     "name": "stderr",
     "output_type": "stream",
     "text": [
      "/aul/homes/jshi008/IvyProjects/ICLR/02MQRNN/util.py:57: RuntimeWarning: divide by zero encountered in true_divide\n",
      "  return np.mean(np.abs((ytrue - ypred) / ytrue))\n",
      "/aul/homes/jshi008/IvyProjects/ICLR/02MQRNN/util.py:57: RuntimeWarning: divide by zero encountered in true_divide\n",
      "  return np.mean(np.abs((ytrue - ypred) / ytrue))\n",
      "/aul/homes/jshi008/IvyProjects/ICLR/02MQRNN/util.py:57: RuntimeWarning: divide by zero encountered in true_divide\n",
      "  return np.mean(np.abs((ytrue - ypred) / ytrue))\n"
     ]
    },
    {
     "name": "stdout",
     "output_type": "stream",
     "text": [
      "Prediction: 1181\n",
      "Prediction: 1182\n",
      "Prediction: 1183\n"
     ]
    },
    {
     "name": "stderr",
     "output_type": "stream",
     "text": [
      "/aul/homes/jshi008/IvyProjects/ICLR/02MQRNN/util.py:57: RuntimeWarning: divide by zero encountered in true_divide\n",
      "  return np.mean(np.abs((ytrue - ypred) / ytrue))\n",
      "/aul/homes/jshi008/IvyProjects/ICLR/02MQRNN/util.py:57: RuntimeWarning: divide by zero encountered in true_divide\n",
      "  return np.mean(np.abs((ytrue - ypred) / ytrue))\n",
      "/aul/homes/jshi008/IvyProjects/ICLR/02MQRNN/util.py:57: RuntimeWarning: divide by zero encountered in true_divide\n",
      "  return np.mean(np.abs((ytrue - ypred) / ytrue))\n",
      "/aul/homes/jshi008/IvyProjects/ICLR/02MQRNN/util.py:57: RuntimeWarning: divide by zero encountered in true_divide\n",
      "  return np.mean(np.abs((ytrue - ypred) / ytrue))\n"
     ]
    },
    {
     "name": "stdout",
     "output_type": "stream",
     "text": [
      "Prediction: 1184\n",
      "Prediction: 1185\n",
      "Prediction: 1186\n",
      "Prediction: 1187\n",
      "Prediction: 1188\n"
     ]
    },
    {
     "name": "stderr",
     "output_type": "stream",
     "text": [
      "/aul/homes/jshi008/IvyProjects/ICLR/02MQRNN/util.py:57: RuntimeWarning: divide by zero encountered in true_divide\n",
      "  return np.mean(np.abs((ytrue - ypred) / ytrue))\n",
      "/aul/homes/jshi008/IvyProjects/ICLR/02MQRNN/util.py:57: RuntimeWarning: divide by zero encountered in true_divide\n",
      "  return np.mean(np.abs((ytrue - ypred) / ytrue))\n",
      "/aul/homes/jshi008/IvyProjects/ICLR/02MQRNN/util.py:57: RuntimeWarning: divide by zero encountered in true_divide\n",
      "  return np.mean(np.abs((ytrue - ypred) / ytrue))\n",
      "/aul/homes/jshi008/IvyProjects/ICLR/02MQRNN/util.py:57: RuntimeWarning: divide by zero encountered in true_divide\n",
      "  return np.mean(np.abs((ytrue - ypred) / ytrue))\n"
     ]
    },
    {
     "name": "stdout",
     "output_type": "stream",
     "text": [
      "Prediction: 1189\n",
      "Prediction: 1190\n",
      "Prediction: 1191\n"
     ]
    },
    {
     "name": "stderr",
     "output_type": "stream",
     "text": [
      "/aul/homes/jshi008/IvyProjects/ICLR/02MQRNN/util.py:57: RuntimeWarning: divide by zero encountered in true_divide\n",
      "  return np.mean(np.abs((ytrue - ypred) / ytrue))\n",
      "/aul/homes/jshi008/IvyProjects/ICLR/02MQRNN/util.py:57: RuntimeWarning: divide by zero encountered in true_divide\n",
      "  return np.mean(np.abs((ytrue - ypred) / ytrue))\n",
      "/aul/homes/jshi008/IvyProjects/ICLR/02MQRNN/util.py:57: RuntimeWarning: divide by zero encountered in true_divide\n",
      "  return np.mean(np.abs((ytrue - ypred) / ytrue))\n",
      "/aul/homes/jshi008/IvyProjects/ICLR/02MQRNN/util.py:57: RuntimeWarning: divide by zero encountered in true_divide\n",
      "  return np.mean(np.abs((ytrue - ypred) / ytrue))\n"
     ]
    },
    {
     "name": "stdout",
     "output_type": "stream",
     "text": [
      "Prediction: 1192\n",
      "Prediction: 1193\n",
      "Prediction: 1194\n",
      "Prediction: 1195\n"
     ]
    },
    {
     "name": "stderr",
     "output_type": "stream",
     "text": [
      "/aul/homes/jshi008/IvyProjects/ICLR/02MQRNN/util.py:57: RuntimeWarning: divide by zero encountered in true_divide\n",
      "  return np.mean(np.abs((ytrue - ypred) / ytrue))\n",
      "/aul/homes/jshi008/IvyProjects/ICLR/02MQRNN/util.py:57: RuntimeWarning: divide by zero encountered in true_divide\n",
      "  return np.mean(np.abs((ytrue - ypred) / ytrue))\n"
     ]
    },
    {
     "name": "stdout",
     "output_type": "stream",
     "text": [
      "Prediction: 1196\n",
      "Prediction: 1197\n",
      "Prediction: 1198\n",
      "Prediction: 1199\n"
     ]
    },
    {
     "name": "stderr",
     "output_type": "stream",
     "text": [
      "/aul/homes/jshi008/IvyProjects/ICLR/02MQRNN/util.py:57: RuntimeWarning: divide by zero encountered in true_divide\n",
      "  return np.mean(np.abs((ytrue - ypred) / ytrue))\n",
      "/aul/homes/jshi008/IvyProjects/ICLR/02MQRNN/util.py:57: RuntimeWarning: divide by zero encountered in true_divide\n",
      "  return np.mean(np.abs((ytrue - ypred) / ytrue))\n",
      "/aul/homes/jshi008/IvyProjects/ICLR/02MQRNN/util.py:57: RuntimeWarning: divide by zero encountered in true_divide\n",
      "  return np.mean(np.abs((ytrue - ypred) / ytrue))\n",
      "/aul/homes/jshi008/IvyProjects/ICLR/02MQRNN/util.py:57: RuntimeWarning: divide by zero encountered in true_divide\n",
      "  return np.mean(np.abs((ytrue - ypred) / ytrue))\n",
      "/aul/homes/jshi008/IvyProjects/ICLR/02MQRNN/util.py:57: RuntimeWarning: divide by zero encountered in true_divide\n",
      "  return np.mean(np.abs((ytrue - ypred) / ytrue))\n"
     ]
    },
    {
     "name": "stdout",
     "output_type": "stream",
     "text": [
      "Prediction: 1200\n",
      "Prediction: 1201\n",
      "Prediction: 1202\n",
      "Prediction: 1203\n",
      "Prediction: 1204\n"
     ]
    },
    {
     "name": "stderr",
     "output_type": "stream",
     "text": [
      "/aul/homes/jshi008/IvyProjects/ICLR/02MQRNN/util.py:57: RuntimeWarning: divide by zero encountered in true_divide\n",
      "  return np.mean(np.abs((ytrue - ypred) / ytrue))\n",
      "/aul/homes/jshi008/IvyProjects/ICLR/02MQRNN/util.py:57: RuntimeWarning: divide by zero encountered in true_divide\n",
      "  return np.mean(np.abs((ytrue - ypred) / ytrue))\n",
      "/aul/homes/jshi008/IvyProjects/ICLR/02MQRNN/util.py:57: RuntimeWarning: divide by zero encountered in true_divide\n",
      "  return np.mean(np.abs((ytrue - ypred) / ytrue))\n"
     ]
    },
    {
     "name": "stdout",
     "output_type": "stream",
     "text": [
      "Prediction: 1205\n",
      "Prediction: 1206\n",
      "Prediction: 1207\n"
     ]
    },
    {
     "name": "stderr",
     "output_type": "stream",
     "text": [
      "/aul/homes/jshi008/IvyProjects/ICLR/02MQRNN/util.py:57: RuntimeWarning: divide by zero encountered in true_divide\n",
      "  return np.mean(np.abs((ytrue - ypred) / ytrue))\n",
      "/aul/homes/jshi008/IvyProjects/ICLR/02MQRNN/util.py:57: RuntimeWarning: divide by zero encountered in true_divide\n",
      "  return np.mean(np.abs((ytrue - ypred) / ytrue))\n",
      "/aul/homes/jshi008/IvyProjects/ICLR/02MQRNN/util.py:57: RuntimeWarning: divide by zero encountered in true_divide\n",
      "  return np.mean(np.abs((ytrue - ypred) / ytrue))\n"
     ]
    },
    {
     "name": "stdout",
     "output_type": "stream",
     "text": [
      "Prediction: 1208\n",
      "Prediction: 1209\n",
      "Prediction: 1210\n",
      "Prediction: 1211\n"
     ]
    },
    {
     "name": "stderr",
     "output_type": "stream",
     "text": [
      "/aul/homes/jshi008/IvyProjects/ICLR/02MQRNN/util.py:57: RuntimeWarning: divide by zero encountered in true_divide\n",
      "  return np.mean(np.abs((ytrue - ypred) / ytrue))\n",
      "/aul/homes/jshi008/IvyProjects/ICLR/02MQRNN/util.py:57: RuntimeWarning: divide by zero encountered in true_divide\n",
      "  return np.mean(np.abs((ytrue - ypred) / ytrue))\n",
      "/aul/homes/jshi008/IvyProjects/ICLR/02MQRNN/util.py:57: RuntimeWarning: divide by zero encountered in true_divide\n",
      "  return np.mean(np.abs((ytrue - ypred) / ytrue))\n",
      "/aul/homes/jshi008/IvyProjects/ICLR/02MQRNN/util.py:57: RuntimeWarning: divide by zero encountered in true_divide\n",
      "  return np.mean(np.abs((ytrue - ypred) / ytrue))\n"
     ]
    },
    {
     "name": "stdout",
     "output_type": "stream",
     "text": [
      "Prediction: 1212\n",
      "Prediction: 1213\n",
      "Prediction: 1214\n",
      "Prediction: 1215\n"
     ]
    },
    {
     "name": "stderr",
     "output_type": "stream",
     "text": [
      "/aul/homes/jshi008/IvyProjects/ICLR/02MQRNN/util.py:57: RuntimeWarning: divide by zero encountered in true_divide\n",
      "  return np.mean(np.abs((ytrue - ypred) / ytrue))\n",
      "/aul/homes/jshi008/IvyProjects/ICLR/02MQRNN/util.py:57: RuntimeWarning: divide by zero encountered in true_divide\n",
      "  return np.mean(np.abs((ytrue - ypred) / ytrue))\n",
      "/aul/homes/jshi008/IvyProjects/ICLR/02MQRNN/util.py:57: RuntimeWarning: divide by zero encountered in true_divide\n",
      "  return np.mean(np.abs((ytrue - ypred) / ytrue))\n",
      "/aul/homes/jshi008/IvyProjects/ICLR/02MQRNN/util.py:57: RuntimeWarning: divide by zero encountered in true_divide\n",
      "  return np.mean(np.abs((ytrue - ypred) / ytrue))\n"
     ]
    },
    {
     "name": "stdout",
     "output_type": "stream",
     "text": [
      "Prediction: 1216\n",
      "Prediction: 1217\n",
      "Prediction: 1218\n",
      "Prediction: 1219\n"
     ]
    },
    {
     "name": "stderr",
     "output_type": "stream",
     "text": [
      "/aul/homes/jshi008/IvyProjects/ICLR/02MQRNN/util.py:57: RuntimeWarning: divide by zero encountered in true_divide\n",
      "  return np.mean(np.abs((ytrue - ypred) / ytrue))\n",
      "/aul/homes/jshi008/IvyProjects/ICLR/02MQRNN/util.py:57: RuntimeWarning: divide by zero encountered in true_divide\n",
      "  return np.mean(np.abs((ytrue - ypred) / ytrue))\n",
      "/aul/homes/jshi008/IvyProjects/ICLR/02MQRNN/util.py:57: RuntimeWarning: divide by zero encountered in true_divide\n",
      "  return np.mean(np.abs((ytrue - ypred) / ytrue))\n"
     ]
    },
    {
     "name": "stdout",
     "output_type": "stream",
     "text": [
      "Prediction: 1220\n",
      "Prediction: 1221\n",
      "Prediction: 1222\n",
      "Prediction: 1223\n"
     ]
    },
    {
     "name": "stderr",
     "output_type": "stream",
     "text": [
      "/aul/homes/jshi008/IvyProjects/ICLR/02MQRNN/util.py:57: RuntimeWarning: divide by zero encountered in true_divide\n",
      "  return np.mean(np.abs((ytrue - ypred) / ytrue))\n"
     ]
    },
    {
     "name": "stdout",
     "output_type": "stream",
     "text": [
      "Prediction: 1224\n",
      "Prediction: 1225\n",
      "Prediction: 1226\n",
      "Prediction: 1227\n",
      "Prediction: 1228\n",
      "Prediction: 1229\n",
      "Prediction: 1230\n",
      "Prediction: 1231\n",
      "Prediction: 1232\n",
      "Prediction: 1233\n",
      "Prediction: 1234\n",
      "Prediction: 1235\n",
      "Prediction: 1236\n",
      "Prediction: 1237\n",
      "Prediction: 1238\n",
      "Prediction: 1239\n",
      "Prediction: 1240\n",
      "Prediction: 1241\n",
      "Prediction: 1242\n",
      "Prediction: 1243\n",
      "Prediction: 1244\n",
      "Prediction: 1245\n",
      "Prediction: 1246\n",
      "Prediction: 1247\n",
      "Prediction: 1248\n",
      "Prediction: 1249\n",
      "Prediction: 1250\n",
      "Prediction: 1251\n",
      "Prediction: 1252\n",
      "Prediction: 1253\n",
      "Prediction: 1254\n",
      "Prediction: 1255\n",
      "Prediction: 1256\n",
      "Prediction: 1257\n",
      "Prediction: 1258\n",
      "Prediction: 1259\n",
      "Prediction: 1260\n",
      "Prediction: 1261\n",
      "Prediction: 1262\n",
      "Prediction: 1263\n",
      "Prediction: 1264\n",
      "Prediction: 1265\n",
      "Prediction: 1266\n",
      "Prediction: 1267\n",
      "Prediction: 1268\n",
      "Prediction: 1269\n",
      "Prediction: 1270\n",
      "Prediction: 1271\n",
      "Prediction: 1272\n",
      "Prediction: 1273\n",
      "Prediction: 1274\n"
     ]
    },
    {
     "name": "stderr",
     "output_type": "stream",
     "text": [
      "/aul/homes/jshi008/IvyProjects/ICLR/02MQRNN/util.py:57: RuntimeWarning: divide by zero encountered in true_divide\n",
      "  return np.mean(np.abs((ytrue - ypred) / ytrue))\n",
      "/aul/homes/jshi008/IvyProjects/ICLR/02MQRNN/util.py:57: RuntimeWarning: divide by zero encountered in true_divide\n",
      "  return np.mean(np.abs((ytrue - ypred) / ytrue))\n",
      "/aul/homes/jshi008/IvyProjects/ICLR/02MQRNN/util.py:57: RuntimeWarning: divide by zero encountered in true_divide\n",
      "  return np.mean(np.abs((ytrue - ypred) / ytrue))\n",
      "/aul/homes/jshi008/IvyProjects/ICLR/02MQRNN/util.py:57: RuntimeWarning: divide by zero encountered in true_divide\n",
      "  return np.mean(np.abs((ytrue - ypred) / ytrue))\n"
     ]
    },
    {
     "name": "stdout",
     "output_type": "stream",
     "text": [
      "Prediction: 1275\n",
      "Prediction: 1276\n",
      "Prediction: 1277\n",
      "Prediction: 1278\n"
     ]
    },
    {
     "name": "stderr",
     "output_type": "stream",
     "text": [
      "/aul/homes/jshi008/IvyProjects/ICLR/02MQRNN/util.py:57: RuntimeWarning: divide by zero encountered in true_divide\n",
      "  return np.mean(np.abs((ytrue - ypred) / ytrue))\n",
      "/aul/homes/jshi008/IvyProjects/ICLR/02MQRNN/util.py:57: RuntimeWarning: divide by zero encountered in true_divide\n",
      "  return np.mean(np.abs((ytrue - ypred) / ytrue))\n",
      "/aul/homes/jshi008/IvyProjects/ICLR/02MQRNN/util.py:57: RuntimeWarning: divide by zero encountered in true_divide\n",
      "  return np.mean(np.abs((ytrue - ypred) / ytrue))\n",
      "/aul/homes/jshi008/IvyProjects/ICLR/02MQRNN/util.py:57: RuntimeWarning: divide by zero encountered in true_divide\n",
      "  return np.mean(np.abs((ytrue - ypred) / ytrue))\n",
      "/aul/homes/jshi008/IvyProjects/ICLR/02MQRNN/util.py:57: RuntimeWarning: divide by zero encountered in true_divide\n",
      "  return np.mean(np.abs((ytrue - ypred) / ytrue))\n",
      "/aul/homes/jshi008/IvyProjects/ICLR/02MQRNN/util.py:57: RuntimeWarning: divide by zero encountered in true_divide\n",
      "  return np.mean(np.abs((ytrue - ypred) / ytrue))\n",
      "/aul/homes/jshi008/IvyProjects/ICLR/02MQRNN/util.py:57: RuntimeWarning: divide by zero encountered in true_divide\n",
      "  return np.mean(np.abs((ytrue - ypred) / ytrue))\n",
      "/aul/homes/jshi008/IvyProjects/ICLR/02MQRNN/util.py:57: RuntimeWarning: divide by zero encountered in true_divide\n",
      "  return np.mean(np.abs((ytrue - ypred) / ytrue))\n"
     ]
    },
    {
     "name": "stdout",
     "output_type": "stream",
     "text": [
      "Prediction: 1279\n",
      "Prediction: 1280\n",
      "Prediction: 1281\n",
      "Prediction: 1282\n",
      "Prediction: 1283\n"
     ]
    },
    {
     "name": "stderr",
     "output_type": "stream",
     "text": [
      "/aul/homes/jshi008/IvyProjects/ICLR/02MQRNN/util.py:57: RuntimeWarning: divide by zero encountered in true_divide\n",
      "  return np.mean(np.abs((ytrue - ypred) / ytrue))\n",
      "/aul/homes/jshi008/IvyProjects/ICLR/02MQRNN/util.py:57: RuntimeWarning: divide by zero encountered in true_divide\n",
      "  return np.mean(np.abs((ytrue - ypred) / ytrue))\n",
      "/aul/homes/jshi008/IvyProjects/ICLR/02MQRNN/util.py:57: RuntimeWarning: divide by zero encountered in true_divide\n",
      "  return np.mean(np.abs((ytrue - ypred) / ytrue))\n",
      "/aul/homes/jshi008/IvyProjects/ICLR/02MQRNN/util.py:57: RuntimeWarning: divide by zero encountered in true_divide\n",
      "  return np.mean(np.abs((ytrue - ypred) / ytrue))\n",
      "/aul/homes/jshi008/IvyProjects/ICLR/02MQRNN/util.py:57: RuntimeWarning: divide by zero encountered in true_divide\n",
      "  return np.mean(np.abs((ytrue - ypred) / ytrue))\n"
     ]
    },
    {
     "name": "stdout",
     "output_type": "stream",
     "text": [
      "Prediction: 1284\n",
      "Prediction: 1285\n",
      "Prediction: 1286\n",
      "Prediction: 1287\n",
      "Prediction: 1288\n"
     ]
    },
    {
     "name": "stderr",
     "output_type": "stream",
     "text": [
      "/aul/homes/jshi008/IvyProjects/ICLR/02MQRNN/util.py:57: RuntimeWarning: divide by zero encountered in true_divide\n",
      "  return np.mean(np.abs((ytrue - ypred) / ytrue))\n",
      "/aul/homes/jshi008/IvyProjects/ICLR/02MQRNN/util.py:57: RuntimeWarning: divide by zero encountered in true_divide\n",
      "  return np.mean(np.abs((ytrue - ypred) / ytrue))\n",
      "/aul/homes/jshi008/IvyProjects/ICLR/02MQRNN/util.py:57: RuntimeWarning: divide by zero encountered in true_divide\n",
      "  return np.mean(np.abs((ytrue - ypred) / ytrue))\n",
      "/aul/homes/jshi008/IvyProjects/ICLR/02MQRNN/util.py:57: RuntimeWarning: divide by zero encountered in true_divide\n",
      "  return np.mean(np.abs((ytrue - ypred) / ytrue))\n"
     ]
    },
    {
     "name": "stdout",
     "output_type": "stream",
     "text": [
      "Prediction: 1289\n",
      "Prediction: 1290\n",
      "Prediction: 1291\n",
      "Prediction: 1292\n"
     ]
    },
    {
     "name": "stderr",
     "output_type": "stream",
     "text": [
      "/aul/homes/jshi008/IvyProjects/ICLR/02MQRNN/util.py:57: RuntimeWarning: divide by zero encountered in true_divide\n",
      "  return np.mean(np.abs((ytrue - ypred) / ytrue))\n",
      "/aul/homes/jshi008/IvyProjects/ICLR/02MQRNN/util.py:57: RuntimeWarning: divide by zero encountered in true_divide\n",
      "  return np.mean(np.abs((ytrue - ypred) / ytrue))\n",
      "/aul/homes/jshi008/IvyProjects/ICLR/02MQRNN/util.py:57: RuntimeWarning: divide by zero encountered in true_divide\n",
      "  return np.mean(np.abs((ytrue - ypred) / ytrue))\n"
     ]
    },
    {
     "name": "stdout",
     "output_type": "stream",
     "text": [
      "Prediction: 1293\n",
      "Prediction: 1294\n",
      "Prediction: 1295\n",
      "Prediction: 1296\n",
      "Prediction: 1297\n",
      "Prediction: 1298\n",
      "Prediction: 1299\n",
      "Prediction: 1300\n",
      "Prediction: 1301\n",
      "Prediction: 1302\n",
      "Prediction: 1303\n",
      "Prediction: 1304\n",
      "Prediction: 1305\n",
      "Prediction: 1306\n",
      "Prediction: 1307\n",
      "Prediction: 1308\n",
      "Prediction: 1309\n",
      "Prediction: 1310\n",
      "Prediction: 1311\n",
      "Prediction: 1312\n",
      "Prediction: 1313\n",
      "Prediction: 1314\n",
      "Prediction: 1315\n",
      "Prediction: 1316\n",
      "Prediction: 1317\n",
      "Prediction: 1318\n",
      "Prediction: 1319\n",
      "Prediction: 1320\n",
      "Prediction: 1321\n",
      "Prediction: 1322\n",
      "Prediction: 1323\n",
      "Prediction: 1324\n",
      "Prediction: 1325\n",
      "Prediction: 1326\n",
      "Prediction: 1327\n",
      "Prediction: 1328\n",
      "Prediction: 1329\n",
      "Prediction: 1330\n",
      "Prediction: 1331\n",
      "Prediction: 1332\n",
      "Prediction: 1333\n",
      "Prediction: 1334\n",
      "Prediction: 1335\n",
      "Prediction: 1336\n",
      "Prediction: 1337\n",
      "Prediction: 1338\n",
      "Prediction: 1339\n",
      "Prediction: 1340\n",
      "Prediction: 1341\n",
      "Prediction: 1342\n",
      "Prediction: 1343\n",
      "Prediction: 1344\n"
     ]
    },
    {
     "name": "stderr",
     "output_type": "stream",
     "text": [
      "/aul/homes/jshi008/IvyProjects/ICLR/02MQRNN/util.py:57: RuntimeWarning: divide by zero encountered in true_divide\n",
      "  return np.mean(np.abs((ytrue - ypred) / ytrue))\n",
      "/aul/homes/jshi008/IvyProjects/ICLR/02MQRNN/util.py:57: RuntimeWarning: divide by zero encountered in true_divide\n",
      "  return np.mean(np.abs((ytrue - ypred) / ytrue))\n",
      "/aul/homes/jshi008/IvyProjects/ICLR/02MQRNN/util.py:57: RuntimeWarning: divide by zero encountered in true_divide\n",
      "  return np.mean(np.abs((ytrue - ypred) / ytrue))\n",
      "/aul/homes/jshi008/IvyProjects/ICLR/02MQRNN/util.py:57: RuntimeWarning: divide by zero encountered in true_divide\n",
      "  return np.mean(np.abs((ytrue - ypred) / ytrue))\n",
      "/aul/homes/jshi008/IvyProjects/ICLR/02MQRNN/util.py:57: RuntimeWarning: divide by zero encountered in true_divide\n",
      "  return np.mean(np.abs((ytrue - ypred) / ytrue))\n",
      "/aul/homes/jshi008/IvyProjects/ICLR/02MQRNN/util.py:57: RuntimeWarning: divide by zero encountered in true_divide\n",
      "  return np.mean(np.abs((ytrue - ypred) / ytrue))\n",
      "/aul/homes/jshi008/IvyProjects/ICLR/02MQRNN/util.py:57: RuntimeWarning: divide by zero encountered in true_divide\n",
      "  return np.mean(np.abs((ytrue - ypred) / ytrue))\n",
      "/aul/homes/jshi008/IvyProjects/ICLR/02MQRNN/util.py:57: RuntimeWarning: divide by zero encountered in true_divide\n",
      "  return np.mean(np.abs((ytrue - ypred) / ytrue))\n"
     ]
    },
    {
     "name": "stdout",
     "output_type": "stream",
     "text": [
      "Prediction: 1345\n",
      "Prediction: 1346\n",
      "Prediction: 1347\n",
      "Prediction: 1348\n"
     ]
    },
    {
     "name": "stderr",
     "output_type": "stream",
     "text": [
      "/aul/homes/jshi008/IvyProjects/ICLR/02MQRNN/util.py:57: RuntimeWarning: divide by zero encountered in true_divide\n",
      "  return np.mean(np.abs((ytrue - ypred) / ytrue))\n",
      "/aul/homes/jshi008/IvyProjects/ICLR/02MQRNN/util.py:57: RuntimeWarning: divide by zero encountered in true_divide\n",
      "  return np.mean(np.abs((ytrue - ypred) / ytrue))\n",
      "/aul/homes/jshi008/IvyProjects/ICLR/02MQRNN/util.py:57: RuntimeWarning: divide by zero encountered in true_divide\n",
      "  return np.mean(np.abs((ytrue - ypred) / ytrue))\n",
      "/aul/homes/jshi008/IvyProjects/ICLR/02MQRNN/util.py:57: RuntimeWarning: divide by zero encountered in true_divide\n",
      "  return np.mean(np.abs((ytrue - ypred) / ytrue))\n"
     ]
    },
    {
     "name": "stdout",
     "output_type": "stream",
     "text": [
      "Prediction: 1349\n",
      "Prediction: 1350\n",
      "Prediction: 1351\n",
      "Prediction: 1352\n"
     ]
    },
    {
     "name": "stderr",
     "output_type": "stream",
     "text": [
      "/aul/homes/jshi008/IvyProjects/ICLR/02MQRNN/util.py:57: RuntimeWarning: divide by zero encountered in true_divide\n",
      "  return np.mean(np.abs((ytrue - ypred) / ytrue))\n",
      "/aul/homes/jshi008/IvyProjects/ICLR/02MQRNN/util.py:57: RuntimeWarning: divide by zero encountered in true_divide\n",
      "  return np.mean(np.abs((ytrue - ypred) / ytrue))\n",
      "/aul/homes/jshi008/IvyProjects/ICLR/02MQRNN/util.py:57: RuntimeWarning: divide by zero encountered in true_divide\n",
      "  return np.mean(np.abs((ytrue - ypred) / ytrue))\n",
      "/aul/homes/jshi008/IvyProjects/ICLR/02MQRNN/util.py:57: RuntimeWarning: divide by zero encountered in true_divide\n",
      "  return np.mean(np.abs((ytrue - ypred) / ytrue))\n",
      "/aul/homes/jshi008/IvyProjects/ICLR/02MQRNN/util.py:57: RuntimeWarning: divide by zero encountered in true_divide\n",
      "  return np.mean(np.abs((ytrue - ypred) / ytrue))\n"
     ]
    },
    {
     "name": "stdout",
     "output_type": "stream",
     "text": [
      "Prediction: 1353\n",
      "Prediction: 1354\n",
      "Prediction: 1355\n",
      "Prediction: 1356\n",
      "Prediction: 1357\n"
     ]
    },
    {
     "name": "stderr",
     "output_type": "stream",
     "text": [
      "/aul/homes/jshi008/IvyProjects/ICLR/02MQRNN/util.py:57: RuntimeWarning: divide by zero encountered in true_divide\n",
      "  return np.mean(np.abs((ytrue - ypred) / ytrue))\n",
      "/aul/homes/jshi008/IvyProjects/ICLR/02MQRNN/util.py:57: RuntimeWarning: divide by zero encountered in true_divide\n",
      "  return np.mean(np.abs((ytrue - ypred) / ytrue))\n",
      "/aul/homes/jshi008/IvyProjects/ICLR/02MQRNN/util.py:57: RuntimeWarning: divide by zero encountered in true_divide\n",
      "  return np.mean(np.abs((ytrue - ypred) / ytrue))\n"
     ]
    },
    {
     "name": "stdout",
     "output_type": "stream",
     "text": [
      "Prediction: 1358\n",
      "Prediction: 1359\n",
      "Prediction: 1360\n"
     ]
    },
    {
     "name": "stderr",
     "output_type": "stream",
     "text": [
      "/aul/homes/jshi008/IvyProjects/ICLR/02MQRNN/util.py:57: RuntimeWarning: divide by zero encountered in true_divide\n",
      "  return np.mean(np.abs((ytrue - ypred) / ytrue))\n",
      "/aul/homes/jshi008/IvyProjects/ICLR/02MQRNN/util.py:57: RuntimeWarning: divide by zero encountered in true_divide\n",
      "  return np.mean(np.abs((ytrue - ypred) / ytrue))\n",
      "/aul/homes/jshi008/IvyProjects/ICLR/02MQRNN/util.py:57: RuntimeWarning: divide by zero encountered in true_divide\n",
      "  return np.mean(np.abs((ytrue - ypred) / ytrue))\n"
     ]
    },
    {
     "name": "stdout",
     "output_type": "stream",
     "text": [
      "Prediction: 1361\n",
      "Prediction: 1362\n",
      "Prediction: 1363\n"
     ]
    },
    {
     "name": "stderr",
     "output_type": "stream",
     "text": [
      "/aul/homes/jshi008/IvyProjects/ICLR/02MQRNN/util.py:57: RuntimeWarning: divide by zero encountered in true_divide\n",
      "  return np.mean(np.abs((ytrue - ypred) / ytrue))\n"
     ]
    },
    {
     "name": "stdout",
     "output_type": "stream",
     "text": [
      "Prediction: 1364\n",
      "Prediction: 1365\n",
      "Prediction: 1366\n",
      "Prediction: 1367\n",
      "Prediction: 1368\n",
      "Prediction: 1369\n",
      "Prediction: 1370\n",
      "Prediction: 1371\n",
      "Prediction: 1372\n",
      "Prediction: 1373\n",
      "Prediction: 1374\n",
      "Prediction: 1375\n",
      "Prediction: 1376\n",
      "Prediction: 1377\n",
      "Prediction: 1378\n",
      "Prediction: 1379\n",
      "Prediction: 1380\n",
      "Prediction: 1381\n",
      "Prediction: 1382\n",
      "Prediction: 1383\n",
      "Prediction: 1384\n",
      "Prediction: 1385\n",
      "Prediction: 1386\n",
      "Prediction: 1387\n",
      "Prediction: 1388\n",
      "Prediction: 1389\n",
      "Prediction: 1390\n",
      "Prediction: 1391\n",
      "Prediction: 1392\n",
      "Prediction: 1393\n",
      "Prediction: 1394\n",
      "Prediction: 1395\n",
      "Prediction: 1396\n",
      "Prediction: 1397\n",
      "Prediction: 1398\n",
      "Prediction: 1399\n",
      "Prediction: 1400\n",
      "Prediction: 1401\n",
      "Prediction: 1402\n",
      "Prediction: 1403\n",
      "Prediction: 1404\n",
      "Prediction: 1405\n",
      "Prediction: 1406\n",
      "Prediction: 1407\n",
      "Prediction: 1408\n",
      "Prediction: 1409\n",
      "Prediction: 1410\n",
      "Prediction: 1411\n",
      "Prediction: 1412\n",
      "Prediction: 1413\n",
      "Prediction: 1414\n",
      "Prediction: 1415\n",
      "Prediction: 1416\n",
      "Prediction: 1417\n",
      "Prediction: 1418\n",
      "Prediction: 1419\n",
      "Prediction: 1420\n",
      "Prediction: 1421\n",
      "Prediction: 1422\n",
      "Prediction: 1423\n",
      "Prediction: 1424\n",
      "Prediction: 1425\n",
      "Prediction: 1426\n",
      "Prediction: 1427\n"
     ]
    },
    {
     "name": "stderr",
     "output_type": "stream",
     "text": [
      "/aul/homes/jshi008/IvyProjects/ICLR/02MQRNN/util.py:57: RuntimeWarning: divide by zero encountered in true_divide\n",
      "  return np.mean(np.abs((ytrue - ypred) / ytrue))\n",
      "/aul/homes/jshi008/IvyProjects/ICLR/02MQRNN/util.py:57: RuntimeWarning: divide by zero encountered in true_divide\n",
      "  return np.mean(np.abs((ytrue - ypred) / ytrue))\n",
      "/aul/homes/jshi008/IvyProjects/ICLR/02MQRNN/util.py:57: RuntimeWarning: divide by zero encountered in true_divide\n",
      "  return np.mean(np.abs((ytrue - ypred) / ytrue))\n",
      "/aul/homes/jshi008/IvyProjects/ICLR/02MQRNN/util.py:57: RuntimeWarning: divide by zero encountered in true_divide\n",
      "  return np.mean(np.abs((ytrue - ypred) / ytrue))\n"
     ]
    },
    {
     "name": "stdout",
     "output_type": "stream",
     "text": [
      "Prediction: 1428\n",
      "Prediction: 1429\n",
      "Prediction: 1430\n",
      "Prediction: 1431\n"
     ]
    },
    {
     "name": "stderr",
     "output_type": "stream",
     "text": [
      "/aul/homes/jshi008/IvyProjects/ICLR/02MQRNN/util.py:57: RuntimeWarning: divide by zero encountered in true_divide\n",
      "  return np.mean(np.abs((ytrue - ypred) / ytrue))\n",
      "/aul/homes/jshi008/IvyProjects/ICLR/02MQRNN/util.py:57: RuntimeWarning: divide by zero encountered in true_divide\n",
      "  return np.mean(np.abs((ytrue - ypred) / ytrue))\n",
      "/aul/homes/jshi008/IvyProjects/ICLR/02MQRNN/util.py:57: RuntimeWarning: divide by zero encountered in true_divide\n",
      "  return np.mean(np.abs((ytrue - ypred) / ytrue))\n",
      "/aul/homes/jshi008/IvyProjects/ICLR/02MQRNN/util.py:57: RuntimeWarning: divide by zero encountered in true_divide\n",
      "  return np.mean(np.abs((ytrue - ypred) / ytrue))\n"
     ]
    },
    {
     "name": "stdout",
     "output_type": "stream",
     "text": [
      "Prediction: 1432\n",
      "Prediction: 1433\n",
      "Prediction: 1434\n",
      "Prediction: 1435\n"
     ]
    },
    {
     "name": "stderr",
     "output_type": "stream",
     "text": [
      "/aul/homes/jshi008/IvyProjects/ICLR/02MQRNN/util.py:57: RuntimeWarning: divide by zero encountered in true_divide\n",
      "  return np.mean(np.abs((ytrue - ypred) / ytrue))\n",
      "/aul/homes/jshi008/IvyProjects/ICLR/02MQRNN/util.py:57: RuntimeWarning: divide by zero encountered in true_divide\n",
      "  return np.mean(np.abs((ytrue - ypred) / ytrue))\n",
      "/aul/homes/jshi008/IvyProjects/ICLR/02MQRNN/util.py:57: RuntimeWarning: divide by zero encountered in true_divide\n",
      "  return np.mean(np.abs((ytrue - ypred) / ytrue))\n",
      "/aul/homes/jshi008/IvyProjects/ICLR/02MQRNN/util.py:57: RuntimeWarning: divide by zero encountered in true_divide\n",
      "  return np.mean(np.abs((ytrue - ypred) / ytrue))\n"
     ]
    },
    {
     "name": "stdout",
     "output_type": "stream",
     "text": [
      "Prediction: 1436\n",
      "Prediction: 1437\n",
      "Prediction: 1438\n",
      "Prediction: 1439\n"
     ]
    },
    {
     "name": "stderr",
     "output_type": "stream",
     "text": [
      "/aul/homes/jshi008/IvyProjects/ICLR/02MQRNN/util.py:57: RuntimeWarning: divide by zero encountered in true_divide\n",
      "  return np.mean(np.abs((ytrue - ypred) / ytrue))\n",
      "/aul/homes/jshi008/IvyProjects/ICLR/02MQRNN/util.py:57: RuntimeWarning: divide by zero encountered in true_divide\n",
      "  return np.mean(np.abs((ytrue - ypred) / ytrue))\n",
      "/aul/homes/jshi008/IvyProjects/ICLR/02MQRNN/util.py:57: RuntimeWarning: divide by zero encountered in true_divide\n",
      "  return np.mean(np.abs((ytrue - ypred) / ytrue))\n",
      "/aul/homes/jshi008/IvyProjects/ICLR/02MQRNN/util.py:57: RuntimeWarning: divide by zero encountered in true_divide\n",
      "  return np.mean(np.abs((ytrue - ypred) / ytrue))\n"
     ]
    },
    {
     "name": "stdout",
     "output_type": "stream",
     "text": [
      "Prediction: 1440\n",
      "Prediction: 1441\n",
      "Prediction: 1442\n"
     ]
    },
    {
     "name": "stderr",
     "output_type": "stream",
     "text": [
      "/aul/homes/jshi008/IvyProjects/ICLR/02MQRNN/util.py:57: RuntimeWarning: divide by zero encountered in true_divide\n",
      "  return np.mean(np.abs((ytrue - ypred) / ytrue))\n",
      "/aul/homes/jshi008/IvyProjects/ICLR/02MQRNN/util.py:57: RuntimeWarning: divide by zero encountered in true_divide\n",
      "  return np.mean(np.abs((ytrue - ypred) / ytrue))\n",
      "/aul/homes/jshi008/IvyProjects/ICLR/02MQRNN/util.py:57: RuntimeWarning: divide by zero encountered in true_divide\n",
      "  return np.mean(np.abs((ytrue - ypred) / ytrue))\n"
     ]
    },
    {
     "name": "stdout",
     "output_type": "stream",
     "text": [
      "Prediction: 1443\n",
      "Prediction: 1444\n",
      "Prediction: 1445\n",
      "Prediction: 1446\n"
     ]
    },
    {
     "name": "stderr",
     "output_type": "stream",
     "text": [
      "/aul/homes/jshi008/IvyProjects/ICLR/02MQRNN/util.py:57: RuntimeWarning: divide by zero encountered in true_divide\n",
      "  return np.mean(np.abs((ytrue - ypred) / ytrue))\n",
      "/aul/homes/jshi008/IvyProjects/ICLR/02MQRNN/util.py:57: RuntimeWarning: divide by zero encountered in true_divide\n",
      "  return np.mean(np.abs((ytrue - ypred) / ytrue))\n",
      "/aul/homes/jshi008/IvyProjects/ICLR/02MQRNN/util.py:57: RuntimeWarning: divide by zero encountered in true_divide\n",
      "  return np.mean(np.abs((ytrue - ypred) / ytrue))\n",
      "/aul/homes/jshi008/IvyProjects/ICLR/02MQRNN/util.py:57: RuntimeWarning: divide by zero encountered in true_divide\n",
      "  return np.mean(np.abs((ytrue - ypred) / ytrue))\n"
     ]
    },
    {
     "name": "stdout",
     "output_type": "stream",
     "text": [
      "Prediction: 1447\n",
      "Prediction: 1448\n",
      "Prediction: 1449\n",
      "Prediction: 1450\n"
     ]
    },
    {
     "name": "stderr",
     "output_type": "stream",
     "text": [
      "/aul/homes/jshi008/IvyProjects/ICLR/02MQRNN/util.py:57: RuntimeWarning: divide by zero encountered in true_divide\n",
      "  return np.mean(np.abs((ytrue - ypred) / ytrue))\n",
      "/aul/homes/jshi008/IvyProjects/ICLR/02MQRNN/util.py:57: RuntimeWarning: divide by zero encountered in true_divide\n",
      "  return np.mean(np.abs((ytrue - ypred) / ytrue))\n",
      "/aul/homes/jshi008/IvyProjects/ICLR/02MQRNN/util.py:57: RuntimeWarning: divide by zero encountered in true_divide\n",
      "  return np.mean(np.abs((ytrue - ypred) / ytrue))\n",
      "/aul/homes/jshi008/IvyProjects/ICLR/02MQRNN/util.py:57: RuntimeWarning: divide by zero encountered in true_divide\n",
      "  return np.mean(np.abs((ytrue - ypred) / ytrue))\n"
     ]
    },
    {
     "name": "stdout",
     "output_type": "stream",
     "text": [
      "Prediction: 1451\n",
      "Prediction: 1452\n",
      "Prediction: 1453\n",
      "Prediction: 1454\n"
     ]
    },
    {
     "name": "stderr",
     "output_type": "stream",
     "text": [
      "/aul/homes/jshi008/IvyProjects/ICLR/02MQRNN/util.py:57: RuntimeWarning: divide by zero encountered in true_divide\n",
      "  return np.mean(np.abs((ytrue - ypred) / ytrue))\n",
      "/aul/homes/jshi008/IvyProjects/ICLR/02MQRNN/util.py:57: RuntimeWarning: divide by zero encountered in true_divide\n",
      "  return np.mean(np.abs((ytrue - ypred) / ytrue))\n",
      "/aul/homes/jshi008/IvyProjects/ICLR/02MQRNN/util.py:57: RuntimeWarning: divide by zero encountered in true_divide\n",
      "  return np.mean(np.abs((ytrue - ypred) / ytrue))\n",
      "/aul/homes/jshi008/IvyProjects/ICLR/02MQRNN/util.py:57: RuntimeWarning: divide by zero encountered in true_divide\n",
      "  return np.mean(np.abs((ytrue - ypred) / ytrue))\n"
     ]
    },
    {
     "name": "stdout",
     "output_type": "stream",
     "text": [
      "Prediction: 1455\n",
      "Prediction: 1456\n",
      "Prediction: 1457\n",
      "Prediction: 1458\n"
     ]
    },
    {
     "name": "stderr",
     "output_type": "stream",
     "text": [
      "/aul/homes/jshi008/IvyProjects/ICLR/02MQRNN/util.py:57: RuntimeWarning: divide by zero encountered in true_divide\n",
      "  return np.mean(np.abs((ytrue - ypred) / ytrue))\n",
      "/aul/homes/jshi008/IvyProjects/ICLR/02MQRNN/util.py:57: RuntimeWarning: divide by zero encountered in true_divide\n",
      "  return np.mean(np.abs((ytrue - ypred) / ytrue))\n",
      "/aul/homes/jshi008/IvyProjects/ICLR/02MQRNN/util.py:57: RuntimeWarning: divide by zero encountered in true_divide\n",
      "  return np.mean(np.abs((ytrue - ypred) / ytrue))\n",
      "/aul/homes/jshi008/IvyProjects/ICLR/02MQRNN/util.py:57: RuntimeWarning: divide by zero encountered in true_divide\n",
      "  return np.mean(np.abs((ytrue - ypred) / ytrue))\n"
     ]
    },
    {
     "name": "stdout",
     "output_type": "stream",
     "text": [
      "Prediction: 1459\n",
      "Prediction: 1460\n",
      "Prediction: 1461\n",
      "Prediction: 1462\n",
      "Prediction: 1463\n"
     ]
    },
    {
     "name": "stderr",
     "output_type": "stream",
     "text": [
      "/aul/homes/jshi008/IvyProjects/ICLR/02MQRNN/util.py:57: RuntimeWarning: divide by zero encountered in true_divide\n",
      "  return np.mean(np.abs((ytrue - ypred) / ytrue))\n"
     ]
    },
    {
     "name": "stdout",
     "output_type": "stream",
     "text": [
      "Prediction: 1464\n",
      "Prediction: 1465\n",
      "Prediction: 1466\n",
      "Prediction: 1467\n",
      "Prediction: 1468\n",
      "Prediction: 1469\n",
      "Prediction: 1470\n",
      "Prediction: 1471\n",
      "Prediction: 1472\n",
      "Prediction: 1473\n",
      "Prediction: 1474\n",
      "Prediction: 1475\n",
      "Prediction: 1476\n",
      "Prediction: 1477\n",
      "Prediction: 1478\n",
      "Prediction: 1479\n",
      "Prediction: 1480\n",
      "Prediction: 1481\n",
      "Prediction: 1482\n",
      "Prediction: 1483\n",
      "Prediction: 1484\n",
      "Prediction: 1485\n",
      "Prediction: 1486\n",
      "Prediction: 1487\n",
      "Prediction: 1488\n",
      "Prediction: 1489\n",
      "Prediction: 1490\n",
      "Prediction: 1491\n",
      "Prediction: 1492\n",
      "Prediction: 1493\n",
      "Prediction: 1494\n",
      "Prediction: 1495\n",
      "Prediction: 1496\n",
      "Prediction: 1497\n",
      "Prediction: 1498\n",
      "Prediction: 1499\n"
     ]
    },
    {
     "name": "stderr",
     "output_type": "stream",
     "text": [
      "/aul/homes/jshi008/IvyProjects/ICLR/02MQRNN/util.py:57: RuntimeWarning: divide by zero encountered in true_divide\n",
      "  return np.mean(np.abs((ytrue - ypred) / ytrue))\n",
      "/aul/homes/jshi008/IvyProjects/ICLR/02MQRNN/util.py:57: RuntimeWarning: divide by zero encountered in true_divide\n",
      "  return np.mean(np.abs((ytrue - ypred) / ytrue))\n",
      "/aul/homes/jshi008/IvyProjects/ICLR/02MQRNN/util.py:57: RuntimeWarning: divide by zero encountered in true_divide\n",
      "  return np.mean(np.abs((ytrue - ypred) / ytrue))\n",
      "/aul/homes/jshi008/IvyProjects/ICLR/02MQRNN/util.py:57: RuntimeWarning: divide by zero encountered in true_divide\n",
      "  return np.mean(np.abs((ytrue - ypred) / ytrue))\n"
     ]
    },
    {
     "name": "stdout",
     "output_type": "stream",
     "text": [
      "Prediction: 1500\n",
      "Prediction: 1501\n",
      "Prediction: 1502\n",
      "Prediction: 1503\n"
     ]
    },
    {
     "name": "stderr",
     "output_type": "stream",
     "text": [
      "/aul/homes/jshi008/IvyProjects/ICLR/02MQRNN/util.py:57: RuntimeWarning: divide by zero encountered in true_divide\n",
      "  return np.mean(np.abs((ytrue - ypred) / ytrue))\n",
      "/aul/homes/jshi008/IvyProjects/ICLR/02MQRNN/util.py:57: RuntimeWarning: divide by zero encountered in true_divide\n",
      "  return np.mean(np.abs((ytrue - ypred) / ytrue))\n",
      "/aul/homes/jshi008/IvyProjects/ICLR/02MQRNN/util.py:57: RuntimeWarning: divide by zero encountered in true_divide\n",
      "  return np.mean(np.abs((ytrue - ypred) / ytrue))\n"
     ]
    },
    {
     "name": "stdout",
     "output_type": "stream",
     "text": [
      "Prediction: 1504\n",
      "Prediction: 1505\n",
      "Prediction: 1506\n"
     ]
    },
    {
     "name": "stderr",
     "output_type": "stream",
     "text": [
      "/aul/homes/jshi008/IvyProjects/ICLR/02MQRNN/util.py:57: RuntimeWarning: divide by zero encountered in true_divide\n",
      "  return np.mean(np.abs((ytrue - ypred) / ytrue))\n",
      "/aul/homes/jshi008/IvyProjects/ICLR/02MQRNN/util.py:57: RuntimeWarning: divide by zero encountered in true_divide\n",
      "  return np.mean(np.abs((ytrue - ypred) / ytrue))\n",
      "/aul/homes/jshi008/IvyProjects/ICLR/02MQRNN/util.py:57: RuntimeWarning: divide by zero encountered in true_divide\n",
      "  return np.mean(np.abs((ytrue - ypred) / ytrue))\n"
     ]
    },
    {
     "name": "stdout",
     "output_type": "stream",
     "text": [
      "Prediction: 1507\n",
      "Prediction: 1508\n",
      "Prediction: 1509\n",
      "Prediction: 1510\n"
     ]
    },
    {
     "name": "stderr",
     "output_type": "stream",
     "text": [
      "/aul/homes/jshi008/IvyProjects/ICLR/02MQRNN/util.py:57: RuntimeWarning: divide by zero encountered in true_divide\n",
      "  return np.mean(np.abs((ytrue - ypred) / ytrue))\n",
      "/aul/homes/jshi008/IvyProjects/ICLR/02MQRNN/util.py:57: RuntimeWarning: divide by zero encountered in true_divide\n",
      "  return np.mean(np.abs((ytrue - ypred) / ytrue))\n",
      "/aul/homes/jshi008/IvyProjects/ICLR/02MQRNN/util.py:57: RuntimeWarning: divide by zero encountered in true_divide\n",
      "  return np.mean(np.abs((ytrue - ypred) / ytrue))\n",
      "/aul/homes/jshi008/IvyProjects/ICLR/02MQRNN/util.py:57: RuntimeWarning: divide by zero encountered in true_divide\n",
      "  return np.mean(np.abs((ytrue - ypred) / ytrue))\n"
     ]
    },
    {
     "name": "stdout",
     "output_type": "stream",
     "text": [
      "Prediction: 1511\n",
      "Prediction: 1512\n",
      "Prediction: 1513\n",
      "Prediction: 1514\n"
     ]
    },
    {
     "name": "stderr",
     "output_type": "stream",
     "text": [
      "/aul/homes/jshi008/IvyProjects/ICLR/02MQRNN/util.py:57: RuntimeWarning: divide by zero encountered in true_divide\n",
      "  return np.mean(np.abs((ytrue - ypred) / ytrue))\n",
      "/aul/homes/jshi008/IvyProjects/ICLR/02MQRNN/util.py:57: RuntimeWarning: divide by zero encountered in true_divide\n",
      "  return np.mean(np.abs((ytrue - ypred) / ytrue))\n",
      "/aul/homes/jshi008/IvyProjects/ICLR/02MQRNN/util.py:57: RuntimeWarning: divide by zero encountered in true_divide\n",
      "  return np.mean(np.abs((ytrue - ypred) / ytrue))\n",
      "/aul/homes/jshi008/IvyProjects/ICLR/02MQRNN/util.py:57: RuntimeWarning: divide by zero encountered in true_divide\n",
      "  return np.mean(np.abs((ytrue - ypred) / ytrue))\n",
      "/aul/homes/jshi008/IvyProjects/ICLR/02MQRNN/util.py:57: RuntimeWarning: divide by zero encountered in true_divide\n",
      "  return np.mean(np.abs((ytrue - ypred) / ytrue))\n"
     ]
    },
    {
     "name": "stdout",
     "output_type": "stream",
     "text": [
      "Prediction: 1515\n",
      "Prediction: 1516\n",
      "Prediction: 1517\n",
      "Prediction: 1518\n"
     ]
    },
    {
     "name": "stderr",
     "output_type": "stream",
     "text": [
      "/aul/homes/jshi008/IvyProjects/ICLR/02MQRNN/util.py:57: RuntimeWarning: divide by zero encountered in true_divide\n",
      "  return np.mean(np.abs((ytrue - ypred) / ytrue))\n",
      "/aul/homes/jshi008/IvyProjects/ICLR/02MQRNN/util.py:57: RuntimeWarning: divide by zero encountered in true_divide\n",
      "  return np.mean(np.abs((ytrue - ypred) / ytrue))\n",
      "/aul/homes/jshi008/IvyProjects/ICLR/02MQRNN/util.py:57: RuntimeWarning: divide by zero encountered in true_divide\n",
      "  return np.mean(np.abs((ytrue - ypred) / ytrue))\n",
      "/aul/homes/jshi008/IvyProjects/ICLR/02MQRNN/util.py:57: RuntimeWarning: divide by zero encountered in true_divide\n",
      "  return np.mean(np.abs((ytrue - ypred) / ytrue))\n"
     ]
    },
    {
     "name": "stdout",
     "output_type": "stream",
     "text": [
      "Prediction: 1519\n",
      "Prediction: 1520\n",
      "Prediction: 1521\n",
      "Prediction: 1522\n"
     ]
    },
    {
     "name": "stderr",
     "output_type": "stream",
     "text": [
      "/aul/homes/jshi008/IvyProjects/ICLR/02MQRNN/util.py:57: RuntimeWarning: divide by zero encountered in true_divide\n",
      "  return np.mean(np.abs((ytrue - ypred) / ytrue))\n",
      "/aul/homes/jshi008/IvyProjects/ICLR/02MQRNN/util.py:57: RuntimeWarning: divide by zero encountered in true_divide\n",
      "  return np.mean(np.abs((ytrue - ypred) / ytrue))\n",
      "/aul/homes/jshi008/IvyProjects/ICLR/02MQRNN/util.py:57: RuntimeWarning: divide by zero encountered in true_divide\n",
      "  return np.mean(np.abs((ytrue - ypred) / ytrue))\n"
     ]
    },
    {
     "name": "stdout",
     "output_type": "stream",
     "text": [
      "Prediction: 1523\n",
      "Prediction: 1524\n",
      "Prediction: 1525\n"
     ]
    },
    {
     "name": "stderr",
     "output_type": "stream",
     "text": [
      "/aul/homes/jshi008/IvyProjects/ICLR/02MQRNN/util.py:57: RuntimeWarning: divide by zero encountered in true_divide\n",
      "  return np.mean(np.abs((ytrue - ypred) / ytrue))\n",
      "/aul/homes/jshi008/IvyProjects/ICLR/02MQRNN/util.py:57: RuntimeWarning: divide by zero encountered in true_divide\n",
      "  return np.mean(np.abs((ytrue - ypred) / ytrue))\n",
      "/aul/homes/jshi008/IvyProjects/ICLR/02MQRNN/util.py:57: RuntimeWarning: divide by zero encountered in true_divide\n",
      "  return np.mean(np.abs((ytrue - ypred) / ytrue))\n",
      "/aul/homes/jshi008/IvyProjects/ICLR/02MQRNN/util.py:57: RuntimeWarning: divide by zero encountered in true_divide\n",
      "  return np.mean(np.abs((ytrue - ypred) / ytrue))\n"
     ]
    },
    {
     "name": "stdout",
     "output_type": "stream",
     "text": [
      "Prediction: 1526\n",
      "Prediction: 1527\n",
      "Prediction: 1528\n"
     ]
    },
    {
     "name": "stderr",
     "output_type": "stream",
     "text": [
      "/aul/homes/jshi008/IvyProjects/ICLR/02MQRNN/util.py:57: RuntimeWarning: divide by zero encountered in true_divide\n",
      "  return np.mean(np.abs((ytrue - ypred) / ytrue))\n"
     ]
    },
    {
     "name": "stdout",
     "output_type": "stream",
     "text": [
      "Prediction: 1529\n",
      "Prediction: 1530\n",
      "Prediction: 1531\n",
      "Prediction: 1532\n",
      "Prediction: 1533\n",
      "Prediction: 1534\n",
      "Prediction: 1535\n",
      "Prediction: 1536\n",
      "Prediction: 1537\n",
      "Prediction: 1538\n",
      "Prediction: 1539\n",
      "Prediction: 1540\n",
      "Prediction: 1541\n",
      "Prediction: 1542\n",
      "Prediction: 1543\n",
      "Prediction: 1544\n",
      "Prediction: 1545\n",
      "Prediction: 1546\n",
      "Prediction: 1547\n",
      "Prediction: 1548\n",
      "Prediction: 1549\n",
      "Prediction: 1550\n",
      "Prediction: 1551\n",
      "Prediction: 1552\n",
      "Prediction: 1553\n",
      "Prediction: 1554\n",
      "Prediction: 1555\n",
      "Prediction: 1556\n",
      "Prediction: 1557\n",
      "Prediction: 1558\n",
      "Prediction: 1559\n",
      "Prediction: 1560\n",
      "Prediction: 1561\n",
      "Prediction: 1562\n",
      "Prediction: 1563\n",
      "Prediction: 1564\n",
      "Prediction: 1565\n",
      "Prediction: 1566\n",
      "Prediction: 1567\n",
      "Prediction: 1568\n",
      "Prediction: 1569\n",
      "Prediction: 1570\n",
      "Prediction: 1571\n",
      "Prediction: 1572\n",
      "Prediction: 1573\n",
      "Prediction: 1574\n",
      "Prediction: 1575\n",
      "Prediction: 1576\n",
      "Prediction: 1577\n",
      "Prediction: 1578\n",
      "Prediction: 1579\n",
      "Prediction: 1580\n",
      "Prediction: 1581\n",
      "Prediction: 1582\n",
      "Prediction: 1583\n",
      "Prediction: 1584\n",
      "Prediction: 1585\n",
      "Prediction: 1586\n",
      "Prediction: 1587\n",
      "Prediction: 1588\n",
      "Prediction: 1589\n",
      "Prediction: 1590\n",
      "Prediction: 1591\n",
      "Prediction: 1592\n",
      "Prediction: 1593\n",
      "Prediction: 1594\n",
      "Prediction: 1595\n",
      "Prediction: 1596\n",
      "Prediction: 1597\n",
      "Prediction: 1598\n",
      "Prediction: 1599\n",
      "Prediction: 1600\n",
      "Prediction: 1601\n",
      "Prediction: 1602\n",
      "Prediction: 1603\n",
      "Prediction: 1604\n",
      "Prediction: 1605\n",
      "Prediction: 1606\n",
      "Prediction: 1607\n",
      "Prediction: 1608\n",
      "Prediction: 1609\n",
      "Prediction: 1610\n",
      "Prediction: 1611\n",
      "Prediction: 1612\n",
      "Prediction: 1613\n",
      "Prediction: 1614\n",
      "Prediction: 1615\n",
      "Prediction: 1616\n",
      "Prediction: 1617\n"
     ]
    },
    {
     "name": "stderr",
     "output_type": "stream",
     "text": [
      "/aul/homes/jshi008/IvyProjects/ICLR/02MQRNN/util.py:57: RuntimeWarning: divide by zero encountered in true_divide\n",
      "  return np.mean(np.abs((ytrue - ypred) / ytrue))\n",
      "/aul/homes/jshi008/IvyProjects/ICLR/02MQRNN/util.py:57: RuntimeWarning: divide by zero encountered in true_divide\n",
      "  return np.mean(np.abs((ytrue - ypred) / ytrue))\n",
      "/aul/homes/jshi008/IvyProjects/ICLR/02MQRNN/util.py:57: RuntimeWarning: divide by zero encountered in true_divide\n",
      "  return np.mean(np.abs((ytrue - ypred) / ytrue))\n",
      "/aul/homes/jshi008/IvyProjects/ICLR/02MQRNN/util.py:57: RuntimeWarning: divide by zero encountered in true_divide\n",
      "  return np.mean(np.abs((ytrue - ypred) / ytrue))\n"
     ]
    },
    {
     "name": "stdout",
     "output_type": "stream",
     "text": [
      "Prediction: 1618\n",
      "Prediction: 1619\n",
      "Prediction: 1620\n",
      "Prediction: 1621\n"
     ]
    },
    {
     "name": "stderr",
     "output_type": "stream",
     "text": [
      "/aul/homes/jshi008/IvyProjects/ICLR/02MQRNN/util.py:57: RuntimeWarning: divide by zero encountered in true_divide\n",
      "  return np.mean(np.abs((ytrue - ypred) / ytrue))\n",
      "/aul/homes/jshi008/IvyProjects/ICLR/02MQRNN/util.py:57: RuntimeWarning: divide by zero encountered in true_divide\n",
      "  return np.mean(np.abs((ytrue - ypred) / ytrue))\n",
      "/aul/homes/jshi008/IvyProjects/ICLR/02MQRNN/util.py:57: RuntimeWarning: divide by zero encountered in true_divide\n",
      "  return np.mean(np.abs((ytrue - ypred) / ytrue))\n",
      "/aul/homes/jshi008/IvyProjects/ICLR/02MQRNN/util.py:57: RuntimeWarning: divide by zero encountered in true_divide\n",
      "  return np.mean(np.abs((ytrue - ypred) / ytrue))\n",
      "/aul/homes/jshi008/IvyProjects/ICLR/02MQRNN/util.py:57: RuntimeWarning: divide by zero encountered in true_divide\n",
      "  return np.mean(np.abs((ytrue - ypred) / ytrue))\n"
     ]
    },
    {
     "name": "stdout",
     "output_type": "stream",
     "text": [
      "Prediction: 1622\n",
      "Prediction: 1623\n",
      "Prediction: 1624\n",
      "Prediction: 1625\n",
      "Prediction: 1626\n"
     ]
    },
    {
     "name": "stderr",
     "output_type": "stream",
     "text": [
      "/aul/homes/jshi008/IvyProjects/ICLR/02MQRNN/util.py:57: RuntimeWarning: divide by zero encountered in true_divide\n",
      "  return np.mean(np.abs((ytrue - ypred) / ytrue))\n",
      "/aul/homes/jshi008/IvyProjects/ICLR/02MQRNN/util.py:57: RuntimeWarning: divide by zero encountered in true_divide\n",
      "  return np.mean(np.abs((ytrue - ypred) / ytrue))\n",
      "/aul/homes/jshi008/IvyProjects/ICLR/02MQRNN/util.py:57: RuntimeWarning: divide by zero encountered in true_divide\n",
      "  return np.mean(np.abs((ytrue - ypred) / ytrue))\n",
      "/aul/homes/jshi008/IvyProjects/ICLR/02MQRNN/util.py:57: RuntimeWarning: divide by zero encountered in true_divide\n",
      "  return np.mean(np.abs((ytrue - ypred) / ytrue))\n"
     ]
    },
    {
     "name": "stdout",
     "output_type": "stream",
     "text": [
      "Prediction: 1627\n",
      "Prediction: 1628\n",
      "Prediction: 1629\n",
      "Prediction: 1630\n"
     ]
    },
    {
     "name": "stderr",
     "output_type": "stream",
     "text": [
      "/aul/homes/jshi008/IvyProjects/ICLR/02MQRNN/util.py:57: RuntimeWarning: divide by zero encountered in true_divide\n",
      "  return np.mean(np.abs((ytrue - ypred) / ytrue))\n",
      "/aul/homes/jshi008/IvyProjects/ICLR/02MQRNN/util.py:57: RuntimeWarning: divide by zero encountered in true_divide\n",
      "  return np.mean(np.abs((ytrue - ypred) / ytrue))\n",
      "/aul/homes/jshi008/IvyProjects/ICLR/02MQRNN/util.py:57: RuntimeWarning: divide by zero encountered in true_divide\n",
      "  return np.mean(np.abs((ytrue - ypred) / ytrue))\n"
     ]
    },
    {
     "name": "stdout",
     "output_type": "stream",
     "text": [
      "Prediction: 1631\n",
      "Prediction: 1632\n",
      "Prediction: 1633\n"
     ]
    },
    {
     "name": "stderr",
     "output_type": "stream",
     "text": [
      "/aul/homes/jshi008/IvyProjects/ICLR/02MQRNN/util.py:57: RuntimeWarning: divide by zero encountered in true_divide\n",
      "  return np.mean(np.abs((ytrue - ypred) / ytrue))\n",
      "/aul/homes/jshi008/IvyProjects/ICLR/02MQRNN/util.py:57: RuntimeWarning: divide by zero encountered in true_divide\n",
      "  return np.mean(np.abs((ytrue - ypred) / ytrue))\n",
      "/aul/homes/jshi008/IvyProjects/ICLR/02MQRNN/util.py:57: RuntimeWarning: divide by zero encountered in true_divide\n",
      "  return np.mean(np.abs((ytrue - ypred) / ytrue))\n",
      "/aul/homes/jshi008/IvyProjects/ICLR/02MQRNN/util.py:57: RuntimeWarning: divide by zero encountered in true_divide\n",
      "  return np.mean(np.abs((ytrue - ypred) / ytrue))\n"
     ]
    },
    {
     "name": "stdout",
     "output_type": "stream",
     "text": [
      "Prediction: 1634\n",
      "Prediction: 1635\n",
      "Prediction: 1636\n",
      "Prediction: 1637\n"
     ]
    },
    {
     "name": "stderr",
     "output_type": "stream",
     "text": [
      "/aul/homes/jshi008/IvyProjects/ICLR/02MQRNN/util.py:57: RuntimeWarning: divide by zero encountered in true_divide\n",
      "  return np.mean(np.abs((ytrue - ypred) / ytrue))\n",
      "/aul/homes/jshi008/IvyProjects/ICLR/02MQRNN/util.py:57: RuntimeWarning: divide by zero encountered in true_divide\n",
      "  return np.mean(np.abs((ytrue - ypred) / ytrue))\n",
      "/aul/homes/jshi008/IvyProjects/ICLR/02MQRNN/util.py:57: RuntimeWarning: divide by zero encountered in true_divide\n",
      "  return np.mean(np.abs((ytrue - ypred) / ytrue))\n",
      "/aul/homes/jshi008/IvyProjects/ICLR/02MQRNN/util.py:57: RuntimeWarning: divide by zero encountered in true_divide\n",
      "  return np.mean(np.abs((ytrue - ypred) / ytrue))\n"
     ]
    },
    {
     "name": "stdout",
     "output_type": "stream",
     "text": [
      "Prediction: 1638\n",
      "Prediction: 1639\n",
      "Prediction: 1640\n",
      "Prediction: 1641\n",
      "Prediction: 1642\n",
      "Prediction: 1643\n",
      "Prediction: 1644\n",
      "Prediction: 1645\n",
      "Prediction: 1646\n",
      "Prediction: 1647\n",
      "Prediction: 1648\n",
      "Prediction: 1649\n",
      "Prediction: 1650\n",
      "Prediction: 1651\n",
      "Prediction: 1652\n",
      "Prediction: 1653\n",
      "Prediction: 1654\n",
      "Prediction: 1655\n",
      "Prediction: 1656\n",
      "Prediction: 1657\n",
      "Prediction: 1658\n",
      "Prediction: 1659\n",
      "Prediction: 1660\n",
      "Prediction: 1661\n",
      "Prediction: 1662\n",
      "Prediction: 1663\n",
      "Prediction: 1664\n",
      "Prediction: 1665\n",
      "Prediction: 1666\n",
      "Prediction: 1667\n",
      "Prediction: 1668\n",
      "Prediction: 1669\n",
      "Prediction: 1670\n",
      "Prediction: 1671\n",
      "Prediction: 1672\n",
      "Prediction: 1673\n",
      "Prediction: 1674\n",
      "Prediction: 1675\n",
      "Prediction: 1676\n",
      "Prediction: 1677\n",
      "Prediction: 1678\n",
      "Prediction: 1679\n",
      "Prediction: 1680\n",
      "Prediction: 1681\n",
      "Prediction: 1682\n",
      "Prediction: 1683\n",
      "Prediction: 1684\n",
      "Prediction: 1685\n",
      "Prediction: 1686\n",
      "Prediction: 1687\n",
      "Prediction: 1688\n",
      "Prediction: 1689\n",
      "Prediction: 1690\n",
      "Prediction: 1691\n",
      "Prediction: 1692\n",
      "Prediction: 1693\n",
      "Prediction: 1694\n",
      "Prediction: 1695\n",
      "Prediction: 1696\n",
      "Prediction: 1697\n",
      "Prediction: 1698\n",
      "Prediction: 1699\n",
      "Prediction: 1700\n",
      "Prediction: 1701\n",
      "Prediction: 1702\n",
      "Prediction: 1703\n",
      "Prediction: 1704\n",
      "Prediction: 1705\n",
      "Prediction: 1706\n",
      "Prediction: 1707\n",
      "Prediction: 1708\n",
      "Prediction: 1709\n",
      "Prediction: 1710\n",
      "Prediction: 1711\n",
      "Prediction: 1712\n",
      "Prediction: 1713\n",
      "Prediction: 1714\n",
      "Prediction: 1715\n",
      "Prediction: 1716\n",
      "Prediction: 1717\n",
      "Prediction: 1718\n",
      "Prediction: 1719\n",
      "Prediction: 1720\n",
      "Prediction: 1721\n",
      "Prediction: 1722\n",
      "Prediction: 1723\n",
      "Prediction: 1724\n",
      "Prediction: 1725\n",
      "Prediction: 1726\n",
      "Prediction: 1727\n",
      "Prediction: 1728\n",
      "Prediction: 1729\n",
      "Prediction: 1730\n",
      "Prediction: 1731\n",
      "Prediction: 1732\n",
      "Prediction: 1733\n",
      "Prediction: 1734\n",
      "Prediction: 1735\n",
      "Prediction: 1736\n",
      "Prediction: 1737\n",
      "Prediction: 1738\n",
      "Prediction: 1739\n",
      "Prediction: 1740\n",
      "Prediction: 1741\n",
      "Prediction: 1742\n",
      "Prediction: 1743\n",
      "Prediction: 1744\n",
      "Prediction: 1745\n",
      "Prediction: 1746\n",
      "Prediction: 1747\n",
      "Prediction: 1748\n",
      "Prediction: 1749\n",
      "Prediction: 1750\n",
      "Prediction: 1751\n",
      "Prediction: 1752\n",
      "Prediction: 1753\n",
      "Prediction: 1754\n",
      "Prediction: 1755\n",
      "Prediction: 1756\n",
      "Prediction: 1757\n",
      "Prediction: 1758\n",
      "Prediction: 1759\n",
      "Prediction: 1760\n",
      "Prediction: 1761\n",
      "Prediction: 1762\n",
      "Prediction: 1763\n",
      "Prediction: 1764\n",
      "Prediction: 1765\n",
      "Prediction: 1766\n",
      "Prediction: 1767\n",
      "Prediction: 1768\n",
      "Prediction: 1769\n",
      "Prediction: 1770\n",
      "Prediction: 1771\n",
      "Prediction: 1772\n",
      "Prediction: 1773\n",
      "Prediction: 1774\n",
      "Prediction: 1775\n",
      "Prediction: 1776\n",
      "Prediction: 1777\n",
      "Prediction: 1778\n",
      "Prediction: 1779\n",
      "Prediction: 1780\n",
      "Prediction: 1781\n"
     ]
    },
    {
     "name": "stderr",
     "output_type": "stream",
     "text": [
      "/aul/homes/jshi008/IvyProjects/ICLR/02MQRNN/util.py:57: RuntimeWarning: divide by zero encountered in true_divide\n",
      "  return np.mean(np.abs((ytrue - ypred) / ytrue))\n",
      "/aul/homes/jshi008/IvyProjects/ICLR/02MQRNN/util.py:57: RuntimeWarning: divide by zero encountered in true_divide\n",
      "  return np.mean(np.abs((ytrue - ypred) / ytrue))\n",
      "/aul/homes/jshi008/IvyProjects/ICLR/02MQRNN/util.py:57: RuntimeWarning: divide by zero encountered in true_divide\n",
      "  return np.mean(np.abs((ytrue - ypred) / ytrue))\n"
     ]
    },
    {
     "name": "stdout",
     "output_type": "stream",
     "text": [
      "Prediction: 1782\n",
      "Prediction: 1783\n",
      "Prediction: 1784\n",
      "Prediction: 1785\n"
     ]
    },
    {
     "name": "stderr",
     "output_type": "stream",
     "text": [
      "/aul/homes/jshi008/IvyProjects/ICLR/02MQRNN/util.py:57: RuntimeWarning: divide by zero encountered in true_divide\n",
      "  return np.mean(np.abs((ytrue - ypred) / ytrue))\n",
      "/aul/homes/jshi008/IvyProjects/ICLR/02MQRNN/util.py:57: RuntimeWarning: divide by zero encountered in true_divide\n",
      "  return np.mean(np.abs((ytrue - ypred) / ytrue))\n",
      "/aul/homes/jshi008/IvyProjects/ICLR/02MQRNN/util.py:57: RuntimeWarning: divide by zero encountered in true_divide\n",
      "  return np.mean(np.abs((ytrue - ypred) / ytrue))\n",
      "/aul/homes/jshi008/IvyProjects/ICLR/02MQRNN/util.py:57: RuntimeWarning: divide by zero encountered in true_divide\n",
      "  return np.mean(np.abs((ytrue - ypred) / ytrue))\n",
      "/aul/homes/jshi008/IvyProjects/ICLR/02MQRNN/util.py:57: RuntimeWarning: divide by zero encountered in true_divide\n",
      "  return np.mean(np.abs((ytrue - ypred) / ytrue))\n"
     ]
    },
    {
     "name": "stdout",
     "output_type": "stream",
     "text": [
      "Prediction: 1786\n",
      "Prediction: 1787\n",
      "Prediction: 1788\n",
      "Prediction: 1789\n",
      "Prediction: 1790\n"
     ]
    },
    {
     "name": "stderr",
     "output_type": "stream",
     "text": [
      "/aul/homes/jshi008/IvyProjects/ICLR/02MQRNN/util.py:57: RuntimeWarning: divide by zero encountered in true_divide\n",
      "  return np.mean(np.abs((ytrue - ypred) / ytrue))\n",
      "/aul/homes/jshi008/IvyProjects/ICLR/02MQRNN/util.py:57: RuntimeWarning: divide by zero encountered in true_divide\n",
      "  return np.mean(np.abs((ytrue - ypred) / ytrue))\n",
      "/aul/homes/jshi008/IvyProjects/ICLR/02MQRNN/util.py:57: RuntimeWarning: divide by zero encountered in true_divide\n",
      "  return np.mean(np.abs((ytrue - ypred) / ytrue))\n",
      "/aul/homes/jshi008/IvyProjects/ICLR/02MQRNN/util.py:57: RuntimeWarning: divide by zero encountered in true_divide\n",
      "  return np.mean(np.abs((ytrue - ypred) / ytrue))\n"
     ]
    },
    {
     "name": "stdout",
     "output_type": "stream",
     "text": [
      "Prediction: 1791\n",
      "Prediction: 1792\n",
      "Prediction: 1793\n",
      "Prediction: 1794\n",
      "Prediction: 1795\n"
     ]
    },
    {
     "name": "stderr",
     "output_type": "stream",
     "text": [
      "/aul/homes/jshi008/IvyProjects/ICLR/02MQRNN/util.py:57: RuntimeWarning: divide by zero encountered in true_divide\n",
      "  return np.mean(np.abs((ytrue - ypred) / ytrue))\n",
      "/aul/homes/jshi008/IvyProjects/ICLR/02MQRNN/util.py:57: RuntimeWarning: divide by zero encountered in true_divide\n",
      "  return np.mean(np.abs((ytrue - ypred) / ytrue))\n",
      "/aul/homes/jshi008/IvyProjects/ICLR/02MQRNN/util.py:57: RuntimeWarning: divide by zero encountered in true_divide\n",
      "  return np.mean(np.abs((ytrue - ypred) / ytrue))\n",
      "/aul/homes/jshi008/IvyProjects/ICLR/02MQRNN/util.py:57: RuntimeWarning: divide by zero encountered in true_divide\n",
      "  return np.mean(np.abs((ytrue - ypred) / ytrue))\n",
      "/aul/homes/jshi008/IvyProjects/ICLR/02MQRNN/util.py:57: RuntimeWarning: divide by zero encountered in true_divide\n",
      "  return np.mean(np.abs((ytrue - ypred) / ytrue))\n"
     ]
    },
    {
     "name": "stdout",
     "output_type": "stream",
     "text": [
      "Prediction: 1796\n",
      "Prediction: 1797\n",
      "Prediction: 1798\n",
      "Prediction: 1799\n"
     ]
    },
    {
     "name": "stderr",
     "output_type": "stream",
     "text": [
      "/aul/homes/jshi008/IvyProjects/ICLR/02MQRNN/util.py:57: RuntimeWarning: divide by zero encountered in true_divide\n",
      "  return np.mean(np.abs((ytrue - ypred) / ytrue))\n",
      "/aul/homes/jshi008/IvyProjects/ICLR/02MQRNN/util.py:57: RuntimeWarning: divide by zero encountered in true_divide\n",
      "  return np.mean(np.abs((ytrue - ypred) / ytrue))\n",
      "/aul/homes/jshi008/IvyProjects/ICLR/02MQRNN/util.py:57: RuntimeWarning: divide by zero encountered in true_divide\n",
      "  return np.mean(np.abs((ytrue - ypred) / ytrue))\n",
      "/aul/homes/jshi008/IvyProjects/ICLR/02MQRNN/util.py:57: RuntimeWarning: divide by zero encountered in true_divide\n",
      "  return np.mean(np.abs((ytrue - ypred) / ytrue))\n"
     ]
    },
    {
     "name": "stdout",
     "output_type": "stream",
     "text": [
      "Prediction: 1800\n",
      "Prediction: 1801\n",
      "Prediction: 1802\n",
      "Prediction: 1803\n"
     ]
    },
    {
     "name": "stderr",
     "output_type": "stream",
     "text": [
      "/aul/homes/jshi008/IvyProjects/ICLR/02MQRNN/util.py:57: RuntimeWarning: divide by zero encountered in true_divide\n",
      "  return np.mean(np.abs((ytrue - ypred) / ytrue))\n",
      "/aul/homes/jshi008/IvyProjects/ICLR/02MQRNN/util.py:57: RuntimeWarning: divide by zero encountered in true_divide\n",
      "  return np.mean(np.abs((ytrue - ypred) / ytrue))\n",
      "/aul/homes/jshi008/IvyProjects/ICLR/02MQRNN/util.py:57: RuntimeWarning: divide by zero encountered in true_divide\n",
      "  return np.mean(np.abs((ytrue - ypred) / ytrue))\n",
      "/aul/homes/jshi008/IvyProjects/ICLR/02MQRNN/util.py:57: RuntimeWarning: divide by zero encountered in true_divide\n",
      "  return np.mean(np.abs((ytrue - ypred) / ytrue))\n"
     ]
    },
    {
     "name": "stdout",
     "output_type": "stream",
     "text": [
      "Prediction: 1804\n",
      "Prediction: 1805\n",
      "Prediction: 1806\n",
      "Prediction: 1807\n",
      "Prediction: 1808\n"
     ]
    },
    {
     "name": "stderr",
     "output_type": "stream",
     "text": [
      "/aul/homes/jshi008/IvyProjects/ICLR/02MQRNN/util.py:57: RuntimeWarning: divide by zero encountered in true_divide\n",
      "  return np.mean(np.abs((ytrue - ypred) / ytrue))\n",
      "/aul/homes/jshi008/IvyProjects/ICLR/02MQRNN/util.py:57: RuntimeWarning: divide by zero encountered in true_divide\n",
      "  return np.mean(np.abs((ytrue - ypred) / ytrue))\n",
      "/aul/homes/jshi008/IvyProjects/ICLR/02MQRNN/util.py:57: RuntimeWarning: divide by zero encountered in true_divide\n",
      "  return np.mean(np.abs((ytrue - ypred) / ytrue))\n",
      "/aul/homes/jshi008/IvyProjects/ICLR/02MQRNN/util.py:57: RuntimeWarning: divide by zero encountered in true_divide\n",
      "  return np.mean(np.abs((ytrue - ypred) / ytrue))\n",
      "/aul/homes/jshi008/IvyProjects/ICLR/02MQRNN/util.py:57: RuntimeWarning: divide by zero encountered in true_divide\n",
      "  return np.mean(np.abs((ytrue - ypred) / ytrue))\n",
      "/aul/homes/jshi008/IvyProjects/ICLR/02MQRNN/util.py:57: RuntimeWarning: divide by zero encountered in true_divide\n",
      "  return np.mean(np.abs((ytrue - ypred) / ytrue))\n",
      "/aul/homes/jshi008/IvyProjects/ICLR/02MQRNN/util.py:57: RuntimeWarning: divide by zero encountered in true_divide\n",
      "  return np.mean(np.abs((ytrue - ypred) / ytrue))\n",
      "/aul/homes/jshi008/IvyProjects/ICLR/02MQRNN/util.py:57: RuntimeWarning: divide by zero encountered in true_divide\n",
      "  return np.mean(np.abs((ytrue - ypred) / ytrue))\n"
     ]
    },
    {
     "name": "stdout",
     "output_type": "stream",
     "text": [
      "Prediction: 1809\n",
      "Prediction: 1810\n",
      "Prediction: 1811\n",
      "Prediction: 1812\n"
     ]
    },
    {
     "name": "stderr",
     "output_type": "stream",
     "text": [
      "/aul/homes/jshi008/IvyProjects/ICLR/02MQRNN/util.py:57: RuntimeWarning: divide by zero encountered in true_divide\n",
      "  return np.mean(np.abs((ytrue - ypred) / ytrue))\n",
      "/aul/homes/jshi008/IvyProjects/ICLR/02MQRNN/util.py:57: RuntimeWarning: divide by zero encountered in true_divide\n",
      "  return np.mean(np.abs((ytrue - ypred) / ytrue))\n"
     ]
    },
    {
     "name": "stdout",
     "output_type": "stream",
     "text": [
      "Prediction: 1813\n",
      "Prediction: 1814\n",
      "Prediction: 1815\n",
      "Prediction: 1816\n",
      "Prediction: 1817\n",
      "Prediction: 1818\n",
      "Prediction: 1819\n",
      "Prediction: 1820\n",
      "Prediction: 1821\n",
      "Prediction: 1822\n",
      "Prediction: 1823\n",
      "Prediction: 1824\n",
      "Prediction: 1825\n",
      "Prediction: 1826\n",
      "Prediction: 1827\n",
      "Prediction: 1828\n",
      "Prediction: 1829\n",
      "Prediction: 1830\n",
      "Prediction: 1831\n",
      "Prediction: 1832\n"
     ]
    },
    {
     "name": "stderr",
     "output_type": "stream",
     "text": [
      "/aul/homes/jshi008/IvyProjects/ICLR/02MQRNN/util.py:57: RuntimeWarning: divide by zero encountered in true_divide\n",
      "  return np.mean(np.abs((ytrue - ypred) / ytrue))\n",
      "/aul/homes/jshi008/IvyProjects/ICLR/02MQRNN/util.py:57: RuntimeWarning: divide by zero encountered in true_divide\n",
      "  return np.mean(np.abs((ytrue - ypred) / ytrue))\n",
      "/aul/homes/jshi008/IvyProjects/ICLR/02MQRNN/util.py:57: RuntimeWarning: divide by zero encountered in true_divide\n",
      "  return np.mean(np.abs((ytrue - ypred) / ytrue))\n",
      "/aul/homes/jshi008/IvyProjects/ICLR/02MQRNN/util.py:57: RuntimeWarning: divide by zero encountered in true_divide\n",
      "  return np.mean(np.abs((ytrue - ypred) / ytrue))\n"
     ]
    },
    {
     "name": "stdout",
     "output_type": "stream",
     "text": [
      "Prediction: 1833\n",
      "Prediction: 1834\n",
      "Prediction: 1835\n"
     ]
    },
    {
     "name": "stderr",
     "output_type": "stream",
     "text": [
      "/aul/homes/jshi008/IvyProjects/ICLR/02MQRNN/util.py:57: RuntimeWarning: divide by zero encountered in true_divide\n",
      "  return np.mean(np.abs((ytrue - ypred) / ytrue))\n",
      "/aul/homes/jshi008/IvyProjects/ICLR/02MQRNN/util.py:57: RuntimeWarning: divide by zero encountered in true_divide\n",
      "  return np.mean(np.abs((ytrue - ypred) / ytrue))\n",
      "/aul/homes/jshi008/IvyProjects/ICLR/02MQRNN/util.py:57: RuntimeWarning: divide by zero encountered in true_divide\n",
      "  return np.mean(np.abs((ytrue - ypred) / ytrue))\n"
     ]
    },
    {
     "name": "stdout",
     "output_type": "stream",
     "text": [
      "Prediction: 1836\n",
      "Prediction: 1837\n",
      "Prediction: 1838\n"
     ]
    },
    {
     "name": "stderr",
     "output_type": "stream",
     "text": [
      "/aul/homes/jshi008/IvyProjects/ICLR/02MQRNN/util.py:57: RuntimeWarning: divide by zero encountered in true_divide\n",
      "  return np.mean(np.abs((ytrue - ypred) / ytrue))\n",
      "/aul/homes/jshi008/IvyProjects/ICLR/02MQRNN/util.py:57: RuntimeWarning: divide by zero encountered in true_divide\n",
      "  return np.mean(np.abs((ytrue - ypred) / ytrue))\n",
      "/aul/homes/jshi008/IvyProjects/ICLR/02MQRNN/util.py:57: RuntimeWarning: divide by zero encountered in true_divide\n",
      "  return np.mean(np.abs((ytrue - ypred) / ytrue))\n",
      "/aul/homes/jshi008/IvyProjects/ICLR/02MQRNN/util.py:57: RuntimeWarning: divide by zero encountered in true_divide\n",
      "  return np.mean(np.abs((ytrue - ypred) / ytrue))\n",
      "/aul/homes/jshi008/IvyProjects/ICLR/02MQRNN/util.py:57: RuntimeWarning: divide by zero encountered in true_divide\n",
      "  return np.mean(np.abs((ytrue - ypred) / ytrue))\n"
     ]
    },
    {
     "name": "stdout",
     "output_type": "stream",
     "text": [
      "Prediction: 1839\n",
      "Prediction: 1840\n",
      "Prediction: 1841\n",
      "Prediction: 1842\n",
      "Prediction: 1843\n"
     ]
    },
    {
     "name": "stderr",
     "output_type": "stream",
     "text": [
      "/aul/homes/jshi008/IvyProjects/ICLR/02MQRNN/util.py:57: RuntimeWarning: divide by zero encountered in true_divide\n",
      "  return np.mean(np.abs((ytrue - ypred) / ytrue))\n",
      "/aul/homes/jshi008/IvyProjects/ICLR/02MQRNN/util.py:57: RuntimeWarning: divide by zero encountered in true_divide\n",
      "  return np.mean(np.abs((ytrue - ypred) / ytrue))\n",
      "/aul/homes/jshi008/IvyProjects/ICLR/02MQRNN/util.py:57: RuntimeWarning: divide by zero encountered in true_divide\n",
      "  return np.mean(np.abs((ytrue - ypred) / ytrue))\n",
      "/aul/homes/jshi008/IvyProjects/ICLR/02MQRNN/util.py:57: RuntimeWarning: divide by zero encountered in true_divide\n",
      "  return np.mean(np.abs((ytrue - ypred) / ytrue))\n"
     ]
    },
    {
     "name": "stdout",
     "output_type": "stream",
     "text": [
      "Prediction: 1844\n",
      "Prediction: 1845\n",
      "Prediction: 1846\n",
      "Prediction: 1847\n"
     ]
    },
    {
     "name": "stderr",
     "output_type": "stream",
     "text": [
      "/aul/homes/jshi008/IvyProjects/ICLR/02MQRNN/util.py:57: RuntimeWarning: divide by zero encountered in true_divide\n",
      "  return np.mean(np.abs((ytrue - ypred) / ytrue))\n",
      "/aul/homes/jshi008/IvyProjects/ICLR/02MQRNN/util.py:57: RuntimeWarning: divide by zero encountered in true_divide\n",
      "  return np.mean(np.abs((ytrue - ypred) / ytrue))\n",
      "/aul/homes/jshi008/IvyProjects/ICLR/02MQRNN/util.py:57: RuntimeWarning: divide by zero encountered in true_divide\n",
      "  return np.mean(np.abs((ytrue - ypred) / ytrue))\n",
      "/aul/homes/jshi008/IvyProjects/ICLR/02MQRNN/util.py:57: RuntimeWarning: divide by zero encountered in true_divide\n",
      "  return np.mean(np.abs((ytrue - ypred) / ytrue))\n",
      "/aul/homes/jshi008/IvyProjects/ICLR/02MQRNN/util.py:57: RuntimeWarning: divide by zero encountered in true_divide\n",
      "  return np.mean(np.abs((ytrue - ypred) / ytrue))\n"
     ]
    },
    {
     "name": "stdout",
     "output_type": "stream",
     "text": [
      "Prediction: 1848\n",
      "Prediction: 1849\n",
      "Prediction: 1850\n",
      "Prediction: 1851\n",
      "Prediction: 1852\n"
     ]
    },
    {
     "name": "stderr",
     "output_type": "stream",
     "text": [
      "/aul/homes/jshi008/IvyProjects/ICLR/02MQRNN/util.py:57: RuntimeWarning: divide by zero encountered in true_divide\n",
      "  return np.mean(np.abs((ytrue - ypred) / ytrue))\n",
      "/aul/homes/jshi008/IvyProjects/ICLR/02MQRNN/util.py:57: RuntimeWarning: divide by zero encountered in true_divide\n",
      "  return np.mean(np.abs((ytrue - ypred) / ytrue))\n",
      "/aul/homes/jshi008/IvyProjects/ICLR/02MQRNN/util.py:57: RuntimeWarning: divide by zero encountered in true_divide\n",
      "  return np.mean(np.abs((ytrue - ypred) / ytrue))\n"
     ]
    },
    {
     "name": "stdout",
     "output_type": "stream",
     "text": [
      "Prediction: 1853\n",
      "Prediction: 1854\n",
      "Prediction: 1855\n",
      "Prediction: 1856\n",
      "Prediction: 1857\n",
      "Prediction: 1858\n",
      "Prediction: 1859\n",
      "Prediction: 1860\n",
      "Prediction: 1861\n",
      "Prediction: 1862\n",
      "Prediction: 1863\n",
      "Prediction: 1864\n",
      "Prediction: 1865\n",
      "Prediction: 1866\n",
      "Prediction: 1867\n",
      "Prediction: 1868\n",
      "Prediction: 1869\n",
      "Prediction: 1870\n",
      "Prediction: 1871\n",
      "Prediction: 1872\n",
      "Prediction: 1873\n",
      "Prediction: 1874\n",
      "Prediction: 1875\n",
      "Prediction: 1876\n",
      "Prediction: 1877\n",
      "Prediction: 1878\n",
      "Prediction: 1879\n",
      "Prediction: 1880\n",
      "Prediction: 1881\n",
      "Prediction: 1882\n",
      "Prediction: 1883\n",
      "Prediction: 1884\n",
      "Prediction: 1885\n",
      "Prediction: 1886\n",
      "Prediction: 1887\n",
      "Prediction: 1888\n",
      "Prediction: 1889\n",
      "Prediction: 1890\n",
      "Prediction: 1891\n",
      "Prediction: 1892\n",
      "Prediction: 1893\n",
      "Prediction: 1894\n",
      "Prediction: 1895\n",
      "Prediction: 1896\n",
      "Prediction: 1897\n",
      "Prediction: 1898\n",
      "Prediction: 1899\n",
      "Prediction: 1900\n",
      "Prediction: 1901\n",
      "Prediction: 1902\n",
      "Prediction: 1903\n",
      "Prediction: 1904\n",
      "Prediction: 1905\n",
      "Prediction: 1906\n",
      "Prediction: 1907\n",
      "Prediction: 1908\n",
      "Prediction: 1909\n",
      "Prediction: 1910\n",
      "Prediction: 1911\n",
      "Prediction: 1912\n",
      "Prediction: 1913\n",
      "Prediction: 1914\n",
      "Prediction: 1915\n",
      "Prediction: 1916\n",
      "Prediction: 1917\n",
      "Prediction: 1918\n",
      "Prediction: 1919\n",
      "Prediction: 1920\n",
      "Prediction: 1921\n",
      "Prediction: 1922\n",
      "Prediction: 1923\n",
      "Prediction: 1924\n",
      "Prediction: 1925\n",
      "Prediction: 1926\n",
      "Prediction: 1927\n",
      "Prediction: 1928\n",
      "Prediction: 1929\n",
      "Prediction: 1930\n",
      "Prediction: 1931\n"
     ]
    },
    {
     "name": "stderr",
     "output_type": "stream",
     "text": [
      "/aul/homes/jshi008/IvyProjects/ICLR/02MQRNN/util.py:57: RuntimeWarning: divide by zero encountered in true_divide\n",
      "  return np.mean(np.abs((ytrue - ypred) / ytrue))\n",
      "/aul/homes/jshi008/IvyProjects/ICLR/02MQRNN/util.py:57: RuntimeWarning: divide by zero encountered in true_divide\n",
      "  return np.mean(np.abs((ytrue - ypred) / ytrue))\n",
      "/aul/homes/jshi008/IvyProjects/ICLR/02MQRNN/util.py:57: RuntimeWarning: divide by zero encountered in true_divide\n",
      "  return np.mean(np.abs((ytrue - ypred) / ytrue))\n",
      "/aul/homes/jshi008/IvyProjects/ICLR/02MQRNN/util.py:57: RuntimeWarning: divide by zero encountered in true_divide\n",
      "  return np.mean(np.abs((ytrue - ypred) / ytrue))\n",
      "/aul/homes/jshi008/IvyProjects/ICLR/02MQRNN/util.py:57: RuntimeWarning: divide by zero encountered in true_divide\n",
      "  return np.mean(np.abs((ytrue - ypred) / ytrue))\n",
      "/aul/homes/jshi008/IvyProjects/ICLR/02MQRNN/util.py:57: RuntimeWarning: divide by zero encountered in true_divide\n",
      "  return np.mean(np.abs((ytrue - ypred) / ytrue))\n",
      "/aul/homes/jshi008/IvyProjects/ICLR/02MQRNN/util.py:57: RuntimeWarning: divide by zero encountered in true_divide\n",
      "  return np.mean(np.abs((ytrue - ypred) / ytrue))\n",
      "/aul/homes/jshi008/IvyProjects/ICLR/02MQRNN/util.py:57: RuntimeWarning: divide by zero encountered in true_divide\n",
      "  return np.mean(np.abs((ytrue - ypred) / ytrue))\n",
      "/aul/homes/jshi008/IvyProjects/ICLR/02MQRNN/util.py:57: RuntimeWarning: divide by zero encountered in true_divide\n",
      "  return np.mean(np.abs((ytrue - ypred) / ytrue))\n"
     ]
    },
    {
     "name": "stdout",
     "output_type": "stream",
     "text": [
      "Prediction: 1932\n",
      "Prediction: 1933\n",
      "Prediction: 1934\n",
      "Prediction: 1935\n",
      "Prediction: 1936\n"
     ]
    },
    {
     "name": "stderr",
     "output_type": "stream",
     "text": [
      "/aul/homes/jshi008/IvyProjects/ICLR/02MQRNN/util.py:57: RuntimeWarning: divide by zero encountered in true_divide\n",
      "  return np.mean(np.abs((ytrue - ypred) / ytrue))\n",
      "/aul/homes/jshi008/IvyProjects/ICLR/02MQRNN/util.py:57: RuntimeWarning: divide by zero encountered in true_divide\n",
      "  return np.mean(np.abs((ytrue - ypred) / ytrue))\n",
      "/aul/homes/jshi008/IvyProjects/ICLR/02MQRNN/util.py:57: RuntimeWarning: divide by zero encountered in true_divide\n",
      "  return np.mean(np.abs((ytrue - ypred) / ytrue))\n",
      "/aul/homes/jshi008/IvyProjects/ICLR/02MQRNN/util.py:57: RuntimeWarning: divide by zero encountered in true_divide\n",
      "  return np.mean(np.abs((ytrue - ypred) / ytrue))\n"
     ]
    },
    {
     "name": "stdout",
     "output_type": "stream",
     "text": [
      "Prediction: 1937\n",
      "Prediction: 1938\n",
      "Prediction: 1939\n",
      "Prediction: 1940\n"
     ]
    },
    {
     "name": "stderr",
     "output_type": "stream",
     "text": [
      "/aul/homes/jshi008/IvyProjects/ICLR/02MQRNN/util.py:57: RuntimeWarning: divide by zero encountered in true_divide\n",
      "  return np.mean(np.abs((ytrue - ypred) / ytrue))\n",
      "/aul/homes/jshi008/IvyProjects/ICLR/02MQRNN/util.py:57: RuntimeWarning: divide by zero encountered in true_divide\n",
      "  return np.mean(np.abs((ytrue - ypred) / ytrue))\n",
      "/aul/homes/jshi008/IvyProjects/ICLR/02MQRNN/util.py:57: RuntimeWarning: divide by zero encountered in true_divide\n",
      "  return np.mean(np.abs((ytrue - ypred) / ytrue))\n"
     ]
    },
    {
     "name": "stdout",
     "output_type": "stream",
     "text": [
      "Prediction: 1941\n",
      "Prediction: 1942\n",
      "Prediction: 1943\n"
     ]
    },
    {
     "name": "stderr",
     "output_type": "stream",
     "text": [
      "/aul/homes/jshi008/IvyProjects/ICLR/02MQRNN/util.py:57: RuntimeWarning: divide by zero encountered in true_divide\n",
      "  return np.mean(np.abs((ytrue - ypred) / ytrue))\n",
      "/aul/homes/jshi008/IvyProjects/ICLR/02MQRNN/util.py:57: RuntimeWarning: divide by zero encountered in true_divide\n",
      "  return np.mean(np.abs((ytrue - ypred) / ytrue))\n",
      "/aul/homes/jshi008/IvyProjects/ICLR/02MQRNN/util.py:57: RuntimeWarning: divide by zero encountered in true_divide\n",
      "  return np.mean(np.abs((ytrue - ypred) / ytrue))\n",
      "/aul/homes/jshi008/IvyProjects/ICLR/02MQRNN/util.py:57: RuntimeWarning: divide by zero encountered in true_divide\n",
      "  return np.mean(np.abs((ytrue - ypred) / ytrue))\n"
     ]
    },
    {
     "name": "stdout",
     "output_type": "stream",
     "text": [
      "Prediction: 1944\n",
      "Prediction: 1945\n",
      "Prediction: 1946\n",
      "Prediction: 1947\n"
     ]
    },
    {
     "name": "stderr",
     "output_type": "stream",
     "text": [
      "/aul/homes/jshi008/IvyProjects/ICLR/02MQRNN/util.py:57: RuntimeWarning: divide by zero encountered in true_divide\n",
      "  return np.mean(np.abs((ytrue - ypred) / ytrue))\n",
      "/aul/homes/jshi008/IvyProjects/ICLR/02MQRNN/util.py:57: RuntimeWarning: divide by zero encountered in true_divide\n",
      "  return np.mean(np.abs((ytrue - ypred) / ytrue))\n",
      "/aul/homes/jshi008/IvyProjects/ICLR/02MQRNN/util.py:57: RuntimeWarning: divide by zero encountered in true_divide\n",
      "  return np.mean(np.abs((ytrue - ypred) / ytrue))\n"
     ]
    },
    {
     "name": "stdout",
     "output_type": "stream",
     "text": [
      "Prediction: 1948\n",
      "Prediction: 1949\n",
      "Prediction: 1950\n"
     ]
    },
    {
     "name": "stderr",
     "output_type": "stream",
     "text": [
      "/aul/homes/jshi008/IvyProjects/ICLR/02MQRNN/util.py:57: RuntimeWarning: divide by zero encountered in true_divide\n",
      "  return np.mean(np.abs((ytrue - ypred) / ytrue))\n"
     ]
    },
    {
     "name": "stdout",
     "output_type": "stream",
     "text": [
      "Prediction: 1951\n",
      "Prediction: 1952\n",
      "Prediction: 1953\n",
      "Prediction: 1954\n",
      "Prediction: 1955\n",
      "Prediction: 1956\n",
      "Prediction: 1957\n",
      "Prediction: 1958\n",
      "Prediction: 1959\n",
      "Prediction: 1960\n",
      "Prediction: 1961\n",
      "Prediction: 1962\n",
      "Prediction: 1963\n",
      "Prediction: 1964\n",
      "Prediction: 1965\n",
      "Prediction: 1966\n",
      "Prediction: 1967\n",
      "Prediction: 1968\n",
      "Prediction: 1969\n",
      "Prediction: 1970\n",
      "Prediction: 1971\n"
     ]
    },
    {
     "name": "stderr",
     "output_type": "stream",
     "text": [
      "/aul/homes/jshi008/IvyProjects/ICLR/02MQRNN/util.py:57: RuntimeWarning: divide by zero encountered in true_divide\n",
      "  return np.mean(np.abs((ytrue - ypred) / ytrue))\n",
      "/aul/homes/jshi008/IvyProjects/ICLR/02MQRNN/util.py:57: RuntimeWarning: divide by zero encountered in true_divide\n",
      "  return np.mean(np.abs((ytrue - ypred) / ytrue))\n",
      "/aul/homes/jshi008/IvyProjects/ICLR/02MQRNN/util.py:57: RuntimeWarning: divide by zero encountered in true_divide\n",
      "  return np.mean(np.abs((ytrue - ypred) / ytrue))\n",
      "/aul/homes/jshi008/IvyProjects/ICLR/02MQRNN/util.py:57: RuntimeWarning: divide by zero encountered in true_divide\n",
      "  return np.mean(np.abs((ytrue - ypred) / ytrue))\n",
      "/aul/homes/jshi008/IvyProjects/ICLR/02MQRNN/util.py:57: RuntimeWarning: divide by zero encountered in true_divide\n",
      "  return np.mean(np.abs((ytrue - ypred) / ytrue))\n"
     ]
    },
    {
     "name": "stdout",
     "output_type": "stream",
     "text": [
      "Prediction: 1972\n",
      "Prediction: 1973\n",
      "Prediction: 1974\n",
      "Prediction: 1975\n",
      "Prediction: 1976\n"
     ]
    },
    {
     "name": "stderr",
     "output_type": "stream",
     "text": [
      "/aul/homes/jshi008/IvyProjects/ICLR/02MQRNN/util.py:57: RuntimeWarning: divide by zero encountered in true_divide\n",
      "  return np.mean(np.abs((ytrue - ypred) / ytrue))\n",
      "/aul/homes/jshi008/IvyProjects/ICLR/02MQRNN/util.py:57: RuntimeWarning: divide by zero encountered in true_divide\n",
      "  return np.mean(np.abs((ytrue - ypred) / ytrue))\n",
      "/aul/homes/jshi008/IvyProjects/ICLR/02MQRNN/util.py:57: RuntimeWarning: divide by zero encountered in true_divide\n",
      "  return np.mean(np.abs((ytrue - ypred) / ytrue))\n"
     ]
    },
    {
     "name": "stdout",
     "output_type": "stream",
     "text": [
      "Prediction: 1977\n",
      "Prediction: 1978\n",
      "Prediction: 1979\n",
      "Prediction: 1980\n"
     ]
    },
    {
     "name": "stderr",
     "output_type": "stream",
     "text": [
      "/aul/homes/jshi008/IvyProjects/ICLR/02MQRNN/util.py:57: RuntimeWarning: divide by zero encountered in true_divide\n",
      "  return np.mean(np.abs((ytrue - ypred) / ytrue))\n",
      "/aul/homes/jshi008/IvyProjects/ICLR/02MQRNN/util.py:57: RuntimeWarning: divide by zero encountered in true_divide\n",
      "  return np.mean(np.abs((ytrue - ypred) / ytrue))\n",
      "/aul/homes/jshi008/IvyProjects/ICLR/02MQRNN/util.py:57: RuntimeWarning: divide by zero encountered in true_divide\n",
      "  return np.mean(np.abs((ytrue - ypred) / ytrue))\n",
      "/aul/homes/jshi008/IvyProjects/ICLR/02MQRNN/util.py:57: RuntimeWarning: divide by zero encountered in true_divide\n",
      "  return np.mean(np.abs((ytrue - ypred) / ytrue))\n"
     ]
    },
    {
     "name": "stdout",
     "output_type": "stream",
     "text": [
      "Prediction: 1981\n",
      "Prediction: 1982\n",
      "Prediction: 1983\n"
     ]
    },
    {
     "name": "stderr",
     "output_type": "stream",
     "text": [
      "/aul/homes/jshi008/IvyProjects/ICLR/02MQRNN/util.py:57: RuntimeWarning: divide by zero encountered in true_divide\n",
      "  return np.mean(np.abs((ytrue - ypred) / ytrue))\n",
      "/aul/homes/jshi008/IvyProjects/ICLR/02MQRNN/util.py:57: RuntimeWarning: divide by zero encountered in true_divide\n",
      "  return np.mean(np.abs((ytrue - ypred) / ytrue))\n",
      "/aul/homes/jshi008/IvyProjects/ICLR/02MQRNN/util.py:57: RuntimeWarning: divide by zero encountered in true_divide\n",
      "  return np.mean(np.abs((ytrue - ypred) / ytrue))\n",
      "/aul/homes/jshi008/IvyProjects/ICLR/02MQRNN/util.py:57: RuntimeWarning: divide by zero encountered in true_divide\n",
      "  return np.mean(np.abs((ytrue - ypred) / ytrue))\n",
      "/aul/homes/jshi008/IvyProjects/ICLR/02MQRNN/util.py:57: RuntimeWarning: divide by zero encountered in true_divide\n",
      "  return np.mean(np.abs((ytrue - ypred) / ytrue))\n"
     ]
    },
    {
     "name": "stdout",
     "output_type": "stream",
     "text": [
      "Prediction: 1984\n",
      "Prediction: 1985\n",
      "Prediction: 1986\n",
      "Prediction: 1987\n",
      "Prediction: 1988\n"
     ]
    },
    {
     "name": "stderr",
     "output_type": "stream",
     "text": [
      "/aul/homes/jshi008/IvyProjects/ICLR/02MQRNN/util.py:57: RuntimeWarning: divide by zero encountered in true_divide\n",
      "  return np.mean(np.abs((ytrue - ypred) / ytrue))\n",
      "/aul/homes/jshi008/IvyProjects/ICLR/02MQRNN/util.py:57: RuntimeWarning: divide by zero encountered in true_divide\n",
      "  return np.mean(np.abs((ytrue - ypred) / ytrue))\n",
      "/aul/homes/jshi008/IvyProjects/ICLR/02MQRNN/util.py:57: RuntimeWarning: divide by zero encountered in true_divide\n",
      "  return np.mean(np.abs((ytrue - ypred) / ytrue))\n",
      "/aul/homes/jshi008/IvyProjects/ICLR/02MQRNN/util.py:57: RuntimeWarning: divide by zero encountered in true_divide\n",
      "  return np.mean(np.abs((ytrue - ypred) / ytrue))\n",
      "/aul/homes/jshi008/IvyProjects/ICLR/02MQRNN/util.py:57: RuntimeWarning: divide by zero encountered in true_divide\n",
      "  return np.mean(np.abs((ytrue - ypred) / ytrue))\n"
     ]
    },
    {
     "name": "stdout",
     "output_type": "stream",
     "text": [
      "Prediction: 1989\n",
      "Prediction: 1990\n",
      "Prediction: 1991\n",
      "Prediction: 1992\n",
      "Prediction: 1993\n"
     ]
    },
    {
     "name": "stderr",
     "output_type": "stream",
     "text": [
      "/aul/homes/jshi008/IvyProjects/ICLR/02MQRNN/util.py:57: RuntimeWarning: divide by zero encountered in true_divide\n",
      "  return np.mean(np.abs((ytrue - ypred) / ytrue))\n",
      "/aul/homes/jshi008/IvyProjects/ICLR/02MQRNN/util.py:57: RuntimeWarning: divide by zero encountered in true_divide\n",
      "  return np.mean(np.abs((ytrue - ypred) / ytrue))\n"
     ]
    },
    {
     "name": "stdout",
     "output_type": "stream",
     "text": [
      "Prediction: 1994\n",
      "Prediction: 1995\n",
      "Prediction: 1996\n",
      "Prediction: 1997\n",
      "Prediction: 1998\n",
      "Prediction: 1999\n",
      "Prediction: 2000\n",
      "Prediction: 2001\n",
      "Prediction: 2002\n",
      "Prediction: 2003\n",
      "Prediction: 2004\n",
      "Prediction: 2005\n",
      "Prediction: 2006\n",
      "Prediction: 2007\n",
      "Prediction: 2008\n",
      "Prediction: 2009\n",
      "Prediction: 2010\n",
      "Prediction: 2011\n",
      "Prediction: 2012\n",
      "Prediction: 2013\n",
      "Prediction: 2014\n",
      "Prediction: 2015\n",
      "Prediction: 2016\n",
      "Prediction: 2017\n",
      "Prediction: 2018\n",
      "Prediction: 2019\n",
      "Prediction: 2020\n",
      "Prediction: 2021\n",
      "Prediction: 2022\n",
      "Prediction: 2023\n",
      "Prediction: 2024\n",
      "Prediction: 2025\n",
      "Prediction: 2026\n",
      "Prediction: 2027\n",
      "Prediction: 2028\n",
      "Prediction: 2029\n",
      "Prediction: 2030\n",
      "Prediction: 2031\n",
      "Prediction: 2032\n",
      "Prediction: 2033\n",
      "Prediction: 2034\n"
     ]
    },
    {
     "name": "stderr",
     "output_type": "stream",
     "text": [
      "/aul/homes/jshi008/IvyProjects/ICLR/02MQRNN/util.py:57: RuntimeWarning: divide by zero encountered in true_divide\n",
      "  return np.mean(np.abs((ytrue - ypred) / ytrue))\n",
      "/aul/homes/jshi008/IvyProjects/ICLR/02MQRNN/util.py:57: RuntimeWarning: divide by zero encountered in true_divide\n",
      "  return np.mean(np.abs((ytrue - ypred) / ytrue))\n",
      "/aul/homes/jshi008/IvyProjects/ICLR/02MQRNN/util.py:57: RuntimeWarning: divide by zero encountered in true_divide\n",
      "  return np.mean(np.abs((ytrue - ypred) / ytrue))\n",
      "/aul/homes/jshi008/IvyProjects/ICLR/02MQRNN/util.py:57: RuntimeWarning: divide by zero encountered in true_divide\n",
      "  return np.mean(np.abs((ytrue - ypred) / ytrue))\n"
     ]
    },
    {
     "name": "stdout",
     "output_type": "stream",
     "text": [
      "Prediction: 2035\n",
      "Prediction: 2036\n",
      "Prediction: 2037\n"
     ]
    },
    {
     "name": "stderr",
     "output_type": "stream",
     "text": [
      "/aul/homes/jshi008/IvyProjects/ICLR/02MQRNN/util.py:57: RuntimeWarning: divide by zero encountered in true_divide\n",
      "  return np.mean(np.abs((ytrue - ypred) / ytrue))\n",
      "/aul/homes/jshi008/IvyProjects/ICLR/02MQRNN/util.py:57: RuntimeWarning: divide by zero encountered in true_divide\n",
      "  return np.mean(np.abs((ytrue - ypred) / ytrue))\n",
      "/aul/homes/jshi008/IvyProjects/ICLR/02MQRNN/util.py:57: RuntimeWarning: divide by zero encountered in true_divide\n",
      "  return np.mean(np.abs((ytrue - ypred) / ytrue))\n",
      "/aul/homes/jshi008/IvyProjects/ICLR/02MQRNN/util.py:57: RuntimeWarning: divide by zero encountered in true_divide\n",
      "  return np.mean(np.abs((ytrue - ypred) / ytrue))\n",
      "/aul/homes/jshi008/IvyProjects/ICLR/02MQRNN/util.py:57: RuntimeWarning: divide by zero encountered in true_divide\n",
      "  return np.mean(np.abs((ytrue - ypred) / ytrue))\n"
     ]
    },
    {
     "name": "stdout",
     "output_type": "stream",
     "text": [
      "Prediction: 2038\n",
      "Prediction: 2039\n",
      "Prediction: 2040\n",
      "Prediction: 2041\n"
     ]
    },
    {
     "name": "stderr",
     "output_type": "stream",
     "text": [
      "/aul/homes/jshi008/IvyProjects/ICLR/02MQRNN/util.py:57: RuntimeWarning: divide by zero encountered in true_divide\n",
      "  return np.mean(np.abs((ytrue - ypred) / ytrue))\n",
      "/aul/homes/jshi008/IvyProjects/ICLR/02MQRNN/util.py:57: RuntimeWarning: divide by zero encountered in true_divide\n",
      "  return np.mean(np.abs((ytrue - ypred) / ytrue))\n",
      "/aul/homes/jshi008/IvyProjects/ICLR/02MQRNN/util.py:57: RuntimeWarning: divide by zero encountered in true_divide\n",
      "  return np.mean(np.abs((ytrue - ypred) / ytrue))\n",
      "/aul/homes/jshi008/IvyProjects/ICLR/02MQRNN/util.py:57: RuntimeWarning: divide by zero encountered in true_divide\n",
      "  return np.mean(np.abs((ytrue - ypred) / ytrue))\n",
      "/aul/homes/jshi008/IvyProjects/ICLR/02MQRNN/util.py:57: RuntimeWarning: divide by zero encountered in true_divide\n",
      "  return np.mean(np.abs((ytrue - ypred) / ytrue))\n"
     ]
    },
    {
     "name": "stdout",
     "output_type": "stream",
     "text": [
      "Prediction: 2042\n",
      "Prediction: 2043\n",
      "Prediction: 2044\n",
      "Prediction: 2045\n",
      "Prediction: 2046\n"
     ]
    },
    {
     "name": "stderr",
     "output_type": "stream",
     "text": [
      "/aul/homes/jshi008/IvyProjects/ICLR/02MQRNN/util.py:57: RuntimeWarning: divide by zero encountered in true_divide\n",
      "  return np.mean(np.abs((ytrue - ypred) / ytrue))\n",
      "/aul/homes/jshi008/IvyProjects/ICLR/02MQRNN/util.py:57: RuntimeWarning: divide by zero encountered in true_divide\n",
      "  return np.mean(np.abs((ytrue - ypred) / ytrue))\n",
      "/aul/homes/jshi008/IvyProjects/ICLR/02MQRNN/util.py:57: RuntimeWarning: divide by zero encountered in true_divide\n",
      "  return np.mean(np.abs((ytrue - ypred) / ytrue))\n",
      "/aul/homes/jshi008/IvyProjects/ICLR/02MQRNN/util.py:57: RuntimeWarning: divide by zero encountered in true_divide\n",
      "  return np.mean(np.abs((ytrue - ypred) / ytrue))\n",
      "/aul/homes/jshi008/IvyProjects/ICLR/02MQRNN/util.py:57: RuntimeWarning: divide by zero encountered in true_divide\n",
      "  return np.mean(np.abs((ytrue - ypred) / ytrue))\n",
      "/aul/homes/jshi008/IvyProjects/ICLR/02MQRNN/util.py:57: RuntimeWarning: divide by zero encountered in true_divide\n",
      "  return np.mean(np.abs((ytrue - ypred) / ytrue))\n"
     ]
    },
    {
     "name": "stdout",
     "output_type": "stream",
     "text": [
      "Prediction: 2047\n",
      "Prediction: 2048\n",
      "Prediction: 2049\n",
      "Prediction: 2050\n",
      "Prediction: 2051\n",
      "Prediction: 2052\n"
     ]
    },
    {
     "name": "stderr",
     "output_type": "stream",
     "text": [
      "/aul/homes/jshi008/IvyProjects/ICLR/02MQRNN/util.py:57: RuntimeWarning: divide by zero encountered in true_divide\n",
      "  return np.mean(np.abs((ytrue - ypred) / ytrue))\n",
      "/aul/homes/jshi008/IvyProjects/ICLR/02MQRNN/util.py:57: RuntimeWarning: divide by zero encountered in true_divide\n",
      "  return np.mean(np.abs((ytrue - ypred) / ytrue))\n",
      "/aul/homes/jshi008/IvyProjects/ICLR/02MQRNN/util.py:57: RuntimeWarning: divide by zero encountered in true_divide\n",
      "  return np.mean(np.abs((ytrue - ypred) / ytrue))\n",
      "/aul/homes/jshi008/IvyProjects/ICLR/02MQRNN/util.py:57: RuntimeWarning: divide by zero encountered in true_divide\n",
      "  return np.mean(np.abs((ytrue - ypred) / ytrue))\n"
     ]
    },
    {
     "name": "stdout",
     "output_type": "stream",
     "text": [
      "Prediction: 2053\n",
      "Prediction: 2054\n",
      "Prediction: 2055\n",
      "Prediction: 2056\n",
      "Prediction: 2057\n",
      "Prediction: 2058\n",
      "Prediction: 2059\n",
      "Prediction: 2060\n",
      "Prediction: 2061\n",
      "Prediction: 2062\n",
      "Prediction: 2063\n",
      "Prediction: 2064\n",
      "Prediction: 2065\n",
      "Prediction: 2066\n",
      "Prediction: 2067\n",
      "Prediction: 2068\n",
      "Prediction: 2069\n",
      "Prediction: 2070\n",
      "Prediction: 2071\n",
      "Prediction: 2072\n",
      "Prediction: 2073\n",
      "Prediction: 2074\n",
      "Prediction: 2075\n",
      "Prediction: 2076\n",
      "Prediction: 2077\n",
      "Prediction: 2078\n",
      "Prediction: 2079\n",
      "Prediction: 2080\n",
      "Prediction: 2081\n",
      "Prediction: 2082\n",
      "Prediction: 2083\n",
      "Prediction: 2084\n",
      "Prediction: 2085\n",
      "Prediction: 2086\n",
      "Prediction: 2087\n",
      "Prediction: 2088\n",
      "Prediction: 2089\n",
      "Prediction: 2090\n",
      "Prediction: 2091\n",
      "Prediction: 2092\n",
      "Prediction: 2093\n",
      "Prediction: 2094\n",
      "Prediction: 2095\n",
      "Prediction: 2096\n",
      "Prediction: 2097\n",
      "Prediction: 2098\n",
      "Prediction: 2099\n",
      "Prediction: 2100\n",
      "Prediction: 2101\n",
      "Prediction: 2102\n",
      "Prediction: 2103\n",
      "Prediction: 2104\n",
      "Prediction: 2105\n",
      "Prediction: 2106\n",
      "Prediction: 2107\n",
      "Prediction: 2108\n",
      "Prediction: 2109\n",
      "Prediction: 2110\n",
      "Prediction: 2111\n",
      "Prediction: 2112\n",
      "Prediction: 2113\n",
      "Prediction: 2114\n",
      "Prediction: 2115\n",
      "Prediction: 2116\n",
      "Prediction: 2117\n",
      "Prediction: 2118\n",
      "Prediction: 2119\n",
      "Prediction: 2120\n",
      "Prediction: 2121\n",
      "Prediction: 2122\n",
      "Prediction: 2123\n",
      "Prediction: 2124\n",
      "Prediction: 2125\n",
      "Prediction: 2126\n",
      "Prediction: 2127\n",
      "Prediction: 2128\n",
      "Prediction: 2129\n",
      "Prediction: 2130\n",
      "Prediction: 2131\n",
      "Prediction: 2132\n",
      "Prediction: 2133\n",
      "Prediction: 2134\n",
      "Prediction: 2135\n",
      "Prediction: 2136\n",
      "Prediction: 2137\n",
      "Prediction: 2138\n",
      "Prediction: 2139\n",
      "Prediction: 2140\n",
      "Prediction: 2141\n",
      "Prediction: 2142\n",
      "Prediction: 2143\n",
      "Prediction: 2144\n",
      "Prediction: 2145\n",
      "Prediction: 2146\n",
      "Prediction: 2147\n",
      "Prediction: 2148\n",
      "Prediction: 2149\n",
      "Prediction: 2150\n",
      "Prediction: 2151\n",
      "Prediction: 2152\n",
      "Prediction: 2153\n",
      "Prediction: 2154\n",
      "Prediction: 2155\n",
      "Prediction: 2156\n",
      "Prediction: 2157\n",
      "Prediction: 2158\n",
      "Prediction: 2159\n",
      "Prediction: 2160\n",
      "Prediction: 2161\n",
      "Prediction: 2162\n",
      "Prediction: 2163\n",
      "Prediction: 2164\n",
      "Prediction: 2165\n",
      "Prediction: 2166\n",
      "Prediction: 2167\n",
      "Prediction: 2168\n",
      "Prediction: 2169\n",
      "Prediction: 2170\n",
      "Prediction: 2171\n",
      "Prediction: 2172\n",
      "Prediction: 2173\n",
      "Prediction: 2174\n",
      "Prediction: 2175\n",
      "Prediction: 2176\n",
      "Prediction: 2177\n",
      "Prediction: 2178\n",
      "Prediction: 2179\n",
      "Prediction: 2180\n",
      "Prediction: 2181\n",
      "Prediction: 2182\n",
      "Prediction: 2183\n",
      "Prediction: 2184\n",
      "Prediction: 2185\n",
      "Prediction: 2186\n",
      "Prediction: 2187\n",
      "Prediction: 2188\n",
      "Prediction: 2189\n",
      "Prediction: 2190\n",
      "Prediction: 2191\n",
      "Prediction: 2192\n",
      "Prediction: 2193\n",
      "Prediction: 2194\n",
      "Prediction: 2195\n",
      "Prediction: 2196\n",
      "Prediction: 2197\n",
      "Prediction: 2198\n",
      "Prediction: 2199\n",
      "Prediction: 2200\n",
      "Prediction: 2201\n",
      "Prediction: 2202\n",
      "Prediction: 2203\n",
      "Prediction: 2204\n",
      "Prediction: 2205\n",
      "Prediction: 2206\n",
      "Prediction: 2207\n",
      "Prediction: 2208\n",
      "Prediction: 2209\n",
      "Prediction: 2210\n",
      "Prediction: 2211\n",
      "Prediction: 2212\n",
      "Prediction: 2213\n",
      "Prediction: 2214\n",
      "Prediction: 2215\n",
      "Prediction: 2216\n",
      "Prediction: 2217\n",
      "Prediction: 2218\n",
      "Prediction: 2219\n",
      "Prediction: 2220\n",
      "Prediction: 2221\n",
      "Prediction: 2222\n",
      "Prediction: 2223\n",
      "Prediction: 2224\n",
      "Prediction: 2225\n",
      "Prediction: 2226\n",
      "Prediction: 2227\n",
      "Prediction: 2228\n",
      "Prediction: 2229\n",
      "Prediction: 2230\n",
      "Prediction: 2231\n",
      "Prediction: 2232\n",
      "Prediction: 2233\n",
      "Prediction: 2234\n",
      "Prediction: 2235\n",
      "Prediction: 2236\n",
      "Prediction: 2237\n",
      "Prediction: 2238\n",
      "Prediction: 2239\n",
      "Prediction: 2240\n",
      "Prediction: 2241\n",
      "Prediction: 2242\n",
      "Prediction: 2243\n",
      "Prediction: 2244\n",
      "Prediction: 2245\n",
      "Prediction: 2246\n",
      "Prediction: 2247\n",
      "Prediction: 2248\n",
      "Prediction: 2249\n",
      "Prediction: 2250\n",
      "Prediction: 2251\n",
      "Prediction: 2252\n",
      "Prediction: 2253\n",
      "Prediction: 2254\n",
      "Prediction: 2255\n",
      "Prediction: 2256\n",
      "Prediction: 2257\n",
      "Prediction: 2258\n",
      "Prediction: 2259\n",
      "Prediction: 2260\n",
      "Prediction: 2261\n",
      "Prediction: 2262\n",
      "Prediction: 2263\n",
      "Prediction: 2264\n",
      "Prediction: 2265\n",
      "Prediction: 2266\n",
      "Prediction: 2267\n",
      "Prediction: 2268\n",
      "Prediction: 2269\n",
      "Prediction: 2270\n",
      "Prediction: 2271\n",
      "Prediction: 2272\n",
      "Prediction: 2273\n",
      "Prediction: 2274\n",
      "Prediction: 2275\n",
      "Prediction: 2276\n",
      "Prediction: 2277\n",
      "Prediction: 2278\n",
      "Prediction: 2279\n",
      "Prediction: 2280\n",
      "Prediction: 2281\n",
      "Prediction: 2282\n",
      "Prediction: 2283\n",
      "Prediction: 2284\n",
      "Prediction: 2285\n",
      "Prediction: 2286\n",
      "Prediction: 2287\n",
      "Prediction: 2288\n",
      "Prediction: 2289\n",
      "Prediction: 2290\n",
      "Prediction: 2291\n",
      "Prediction: 2292\n",
      "Prediction: 2293\n",
      "Prediction: 2294\n",
      "Prediction: 2295\n",
      "Prediction: 2296\n",
      "Prediction: 2297\n",
      "Prediction: 2298\n",
      "Prediction: 2299\n",
      "Prediction: 2300\n",
      "Prediction: 2301\n",
      "Prediction: 2302\n",
      "Prediction: 2303\n",
      "Prediction: 2304\n",
      "Prediction: 2305\n",
      "Prediction: 2306\n",
      "Prediction: 2307\n",
      "Prediction: 2308\n",
      "Prediction: 2309\n",
      "Prediction: 2310\n",
      "Prediction: 2311\n",
      "Prediction: 2312\n",
      "Prediction: 2313\n",
      "Prediction: 2314\n",
      "====== MAPE, MAE, RMSE ======\n",
      "inf 0.12457622028275799 0.15798600707145233\n"
     ]
    },
    {
     "data": {
      "image/png": "[encoded data removed]",
      "text/plain": [
       "<Figure size 432x288 with 1 Axes>"
      ]
     },
     "metadata": {
      "needs_background": "light"
     },
     "output_type": "display_data"
    }
   ],
   "source": [
    "X_df = dataset.loc[:, ['WS_S4', 'FLOW_S25A', 'GATE_S25A', 'HWS_S25A',\n",
    "       'FLOW_S25B', 'GATE_S25B', 'GATE_S25B2', 'HWS_S25B',\n",
    "        'PUMP_S25B', 'FLOW_S26', 'GATE_S26_1', 'GATE_S26_2',\n",
    "       'HWS_S26', 'PUMP_S26', 'MEAN_RAIN']]\n",
    "y_df = dataset.loc[:, ['TWS_S25B']]\n",
    "X = np.array(X_df)\n",
    "y = np.array(y_df)\n",
    "\n",
    "from sklearn.preprocessing import MinMaxScaler\n",
    "scaler = MinMaxScaler(feature_range=(0, 1))\n",
    "X = scaler.fit_transform(X)\n",
    "\n",
    "\n",
    "num_features = X.shape[1]\n",
    "num_periods = len(X) // 8\n",
    "X = np.asarray(X).reshape((-1, num_periods, num_features))\n",
    "y = np.asarray(y).reshape((-1, num_periods))\n",
    "print(\"X.shape, y.shape:\", X.shape, y.shape)\n",
    "\n",
    "quantiles = [0.1, 0.5, 1]  # 0.1, 0.5, 1\n",
    "losses, test_mape, test_mae, test_rmse = train(X, y, quantiles)\n",
    "#print(test_mape, test_mae, test_rmse)\n",
    "\n",
    "\n",
    "print('====== MAPE, MAE, RMSE ======')\n",
    "print(sum(test_mape) / len(test_mape),\n",
    "      sum(test_mae) / len(test_mae), \n",
    "      sum(test_rmse) / len(test_rmse))\n",
    "\n",
    "\n",
    "plt.plot(range(len(losses)), losses, \"k-\")\n",
    "plt.xlabel(\"Period\")\n",
    "plt.ylabel(\"Loss\")\n",
    "plt.show()"
   ]
  },
  {
   "cell_type": "code",
   "execution_count": 10,
   "id": "d5b090b9",
   "metadata": {},
   "outputs": [
    {
     "name": "stderr",
     "output_type": "stream",
     "text": [
      "  0% |                                                                                                                                                      |\r"
     ]
    },
    {
     "name": "stdout",
     "output_type": "stream",
     "text": [
      "X.shape, y.shape: (8, 12054, 15) (8, 12054)\n",
      "(8, 9643, 15) (8, 9643) (8, 2411, 15) (8, 2411)\n",
      "Epoch 0 start...\n",
      "Epoch 1 start...\n",
      "Epoch 2 start...\n",
      "Epoch 3 start...\n"
     ]
    },
    {
     "name": "stderr",
     "output_type": "stream",
     "text": [
      "  0% |#                                                                                                                                                     |\r"
     ]
    },
    {
     "name": "stdout",
     "output_type": "stream",
     "text": [
      "Epoch 4 start...\n",
      "Epoch 5 start...\n",
      "Epoch 6 start...\n",
      "Epoch 7 start...\n"
     ]
    },
    {
     "name": "stderr",
     "output_type": "stream",
     "text": [
      "  1% |##                                                                                                                                                    |\r"
     ]
    },
    {
     "name": "stdout",
     "output_type": "stream",
     "text": [
      "Epoch 8 start...\n",
      "Epoch 9 start...\n",
      "Epoch 10 start...\n",
      "Epoch 11 start...\n"
     ]
    },
    {
     "name": "stderr",
     "output_type": "stream",
     "text": [
      "  2% |###                                                                                                                                                   |\r"
     ]
    },
    {
     "name": "stdout",
     "output_type": "stream",
     "text": [
      "Epoch 12 start...\n",
      "Epoch 13 start...\n",
      "Epoch 14 start...\n",
      "Epoch 15 start...\n"
     ]
    },
    {
     "name": "stderr",
     "output_type": "stream",
     "text": [
      "  3% |####                                                                                                                                                  |\r"
     ]
    },
    {
     "name": "stdout",
     "output_type": "stream",
     "text": [
      "Epoch 16 start...\n",
      "Epoch 17 start...\n",
      "Epoch 18 start...\n",
      "Epoch 19 start...\n"
     ]
    },
    {
     "name": "stderr",
     "output_type": "stream",
     "text": [
      "  4% |######                                                                                                                                                |\r"
     ]
    },
    {
     "name": "stdout",
     "output_type": "stream",
     "text": [
      "Epoch 20 start...\n",
      "Epoch 21 start...\n",
      "Epoch 22 start...\n",
      "Epoch 23 start...\n"
     ]
    },
    {
     "name": "stderr",
     "output_type": "stream",
     "text": [
      "  4% |#######                                                                                                                                               |\r"
     ]
    },
    {
     "name": "stdout",
     "output_type": "stream",
     "text": [
      "Epoch 24 start...\n",
      "Epoch 25 start...\n",
      "Epoch 26 start...\n",
      "Epoch 27 start...\n"
     ]
    },
    {
     "name": "stderr",
     "output_type": "stream",
     "text": [
      "  5% |########                                                                                                                                              |\r"
     ]
    },
    {
     "name": "stdout",
     "output_type": "stream",
     "text": [
      "Epoch 28 start...\n",
      "Epoch 29 start...\n",
      "Epoch 30 start...\n",
      "Epoch 31 start...\n"
     ]
    },
    {
     "name": "stderr",
     "output_type": "stream",
     "text": [
      "  6% |#########                                                                                                                                             |\r"
     ]
    },
    {
     "name": "stdout",
     "output_type": "stream",
     "text": [
      "Epoch 32 start...\n",
      "Epoch 33 start...\n",
      "Epoch 34 start...\n",
      "Epoch 35 start...\n"
     ]
    },
    {
     "name": "stderr",
     "output_type": "stream",
     "text": [
      "  7% |##########                                                                                                                                            |\r"
     ]
    },
    {
     "name": "stdout",
     "output_type": "stream",
     "text": [
      "Epoch 36 start...\n",
      "Epoch 37 start...\n",
      "Epoch 38 start...\n",
      "Epoch 39 start...\n"
     ]
    },
    {
     "name": "stderr",
     "output_type": "stream",
     "text": [
      "  8% |############                                                                                                                                          |\r"
     ]
    },
    {
     "name": "stdout",
     "output_type": "stream",
     "text": [
      "Epoch 40 start...\n",
      "Epoch 41 start...\n",
      "Epoch 42 start...\n",
      "Epoch 43 start...\n"
     ]
    },
    {
     "name": "stderr",
     "output_type": "stream",
     "text": [
      "  8% |#############                                                                                                                                         |\r"
     ]
    },
    {
     "name": "stdout",
     "output_type": "stream",
     "text": [
      "Epoch 44 start...\n",
      "Epoch 45 start...\n",
      "Epoch 46 start...\n",
      "Epoch 47 start...\n"
     ]
    },
    {
     "name": "stderr",
     "output_type": "stream",
     "text": [
      "  9% |##############                                                                                                                                        |\r"
     ]
    },
    {
     "name": "stdout",
     "output_type": "stream",
     "text": [
      "Epoch 48 start...\n",
      "Epoch 49 start...\n",
      "Epoch 50 start...\n",
      "Epoch 51 start...\n"
     ]
    },
    {
     "name": "stderr",
     "output_type": "stream",
     "text": [
      " 10% |###############                                                                                                                                       |\r"
     ]
    },
    {
     "name": "stdout",
     "output_type": "stream",
     "text": [
      "Epoch 52 start...\n",
      "Epoch 53 start...\n",
      "Epoch 54 start...\n",
      "Epoch 55 start...\n"
     ]
    },
    {
     "name": "stderr",
     "output_type": "stream",
     "text": [
      " 11% |################                                                                                                                                      |\r"
     ]
    },
    {
     "name": "stdout",
     "output_type": "stream",
     "text": [
      "Epoch 56 start...\n",
      "Epoch 57 start...\n",
      "Epoch 58 start...\n",
      "Epoch 59 start...\n"
     ]
    },
    {
     "name": "stderr",
     "output_type": "stream",
     "text": [
      " 12% |##################                                                                                                                                    |\r"
     ]
    },
    {
     "name": "stdout",
     "output_type": "stream",
     "text": [
      "Epoch 60 start...\n",
      "Epoch 61 start...\n",
      "Epoch 62 start...\n",
      "Epoch 63 start...\n"
     ]
    },
    {
     "name": "stderr",
     "output_type": "stream",
     "text": [
      " 12% |###################                                                                                                                                   |\r"
     ]
    },
    {
     "name": "stdout",
     "output_type": "stream",
     "text": [
      "Epoch 64 start...\n",
      "Epoch 65 start...\n",
      "Epoch 66 start...\n",
      "Epoch 67 start...\n"
     ]
    },
    {
     "name": "stderr",
     "output_type": "stream",
     "text": [
      " 13% |####################                                                                                                                                  |\r"
     ]
    },
    {
     "name": "stdout",
     "output_type": "stream",
     "text": [
      "Epoch 68 start...\n",
      "Epoch 69 start...\n",
      "Epoch 70 start...\n",
      "Epoch 71 start...\n"
     ]
    },
    {
     "name": "stderr",
     "output_type": "stream",
     "text": [
      " 14% |#####################                                                                                                                                 |\r"
     ]
    },
    {
     "name": "stdout",
     "output_type": "stream",
     "text": [
      "Epoch 72 start...\n",
      "Epoch 73 start...\n",
      "Epoch 74 start...\n",
      "Epoch 75 start...\n"
     ]
    },
    {
     "name": "stderr",
     "output_type": "stream",
     "text": [
      " 15% |######################                                                                                                                                |\r"
     ]
    },
    {
     "name": "stdout",
     "output_type": "stream",
     "text": [
      "Epoch 76 start...\n",
      "Epoch 77 start...\n",
      "Epoch 78 start...\n",
      "Epoch 79 start...\n"
     ]
    },
    {
     "name": "stderr",
     "output_type": "stream",
     "text": [
      " 16% |########################                                                                                                                              |\r"
     ]
    },
    {
     "name": "stdout",
     "output_type": "stream",
     "text": [
      "Epoch 80 start...\n",
      "Epoch 81 start...\n",
      "Epoch 82 start...\n",
      "Epoch 83 start...\n"
     ]
    },
    {
     "name": "stderr",
     "output_type": "stream",
     "text": [
      " 16% |#########################                                                                                                                             |\r"
     ]
    },
    {
     "name": "stdout",
     "output_type": "stream",
     "text": [
      "Epoch 84 start...\n",
      "Epoch 85 start...\n",
      "Epoch 86 start...\n",
      "Epoch 87 start...\n"
     ]
    },
    {
     "name": "stderr",
     "output_type": "stream",
     "text": [
      " 17% |##########################                                                                                                                            |\r"
     ]
    },
    {
     "name": "stdout",
     "output_type": "stream",
     "text": [
      "Epoch 88 start...\n",
      "Epoch 89 start...\n",
      "Epoch 90 start...\n",
      "Epoch 91 start...\n"
     ]
    },
    {
     "name": "stderr",
     "output_type": "stream",
     "text": [
      " 18% |###########################                                                                                                                           |\r"
     ]
    },
    {
     "name": "stdout",
     "output_type": "stream",
     "text": [
      "Epoch 92 start...\n",
      "Epoch 93 start...\n",
      "Epoch 94 start...\n",
      "Epoch 95 start...\n"
     ]
    },
    {
     "name": "stderr",
     "output_type": "stream",
     "text": [
      " 19% |############################                                                                                                                          |\r"
     ]
    },
    {
     "name": "stdout",
     "output_type": "stream",
     "text": [
      "Epoch 96 start...\n",
      "Epoch 97 start...\n",
      "Epoch 98 start...\n",
      "Epoch 99 start...\n"
     ]
    },
    {
     "name": "stderr",
     "output_type": "stream",
     "text": [
      " 20% |##############################                                                                                                                        |\r"
     ]
    },
    {
     "name": "stdout",
     "output_type": "stream",
     "text": [
      "Epoch 100 start...\n",
      "Epoch 101 start...\n",
      "Epoch 102 start...\n",
      "Epoch 103 start...\n"
     ]
    },
    {
     "name": "stderr",
     "output_type": "stream",
     "text": [
      " 20% |###############################                                                                                                                       |\r"
     ]
    },
    {
     "name": "stdout",
     "output_type": "stream",
     "text": [
      "Epoch 104 start...\n",
      "Epoch 105 start...\n",
      "Epoch 106 start...\n",
      "Epoch 107 start...\n"
     ]
    },
    {
     "name": "stderr",
     "output_type": "stream",
     "text": [
      " 21% |################################                                                                                                                      |\r"
     ]
    },
    {
     "name": "stdout",
     "output_type": "stream",
     "text": [
      "Epoch 108 start...\n",
      "Epoch 109 start...\n",
      "Epoch 110 start...\n",
      "Epoch 111 start...\n"
     ]
    },
    {
     "name": "stderr",
     "output_type": "stream",
     "text": [
      " 22% |#################################                                                                                                                     |\r"
     ]
    },
    {
     "name": "stdout",
     "output_type": "stream",
     "text": [
      "Epoch 112 start...\n",
      "Epoch 113 start...\n",
      "Epoch 114 start...\n",
      "Epoch 115 start...\n"
     ]
    },
    {
     "name": "stderr",
     "output_type": "stream",
     "text": [
      " 23% |##################################                                                                                                                    |\r"
     ]
    },
    {
     "name": "stdout",
     "output_type": "stream",
     "text": [
      "Epoch 116 start...\n",
      "Epoch 117 start...\n",
      "Epoch 118 start...\n",
      "Epoch 119 start...\n"
     ]
    },
    {
     "name": "stderr",
     "output_type": "stream",
     "text": [
      " 24% |####################################                                                                                                                  |\r"
     ]
    },
    {
     "name": "stdout",
     "output_type": "stream",
     "text": [
      "Epoch 120 start...\n",
      "Epoch 121 start...\n",
      "Epoch 122 start...\n",
      "Epoch 123 start...\n"
     ]
    },
    {
     "name": "stderr",
     "output_type": "stream",
     "text": [
      " 24% |#####################################                                                                                                                 |\r"
     ]
    },
    {
     "name": "stdout",
     "output_type": "stream",
     "text": [
      "Epoch 124 start...\n",
      "Epoch 125 start...\n",
      "Epoch 126 start...\n",
      "Epoch 127 start...\n"
     ]
    },
    {
     "name": "stderr",
     "output_type": "stream",
     "text": [
      " 25% |######################################                                                                                                                |\r"
     ]
    },
    {
     "name": "stdout",
     "output_type": "stream",
     "text": [
      "Epoch 128 start...\n",
      "Epoch 129 start...\n",
      "Epoch 130 start...\n",
      "Epoch 131 start...\n"
     ]
    },
    {
     "name": "stderr",
     "output_type": "stream",
     "text": [
      " 26% |#######################################                                                                                                               |\r"
     ]
    },
    {
     "name": "stdout",
     "output_type": "stream",
     "text": [
      "Epoch 132 start...\n",
      "Epoch 133 start...\n",
      "Epoch 134 start...\n",
      "Epoch 135 start...\n"
     ]
    },
    {
     "name": "stderr",
     "output_type": "stream",
     "text": [
      " 27% |########################################                                                                                                              |\r"
     ]
    },
    {
     "name": "stdout",
     "output_type": "stream",
     "text": [
      "Epoch 136 start...\n",
      "Epoch 137 start...\n",
      "Epoch 138 start...\n",
      "Epoch 139 start...\n"
     ]
    },
    {
     "name": "stderr",
     "output_type": "stream",
     "text": [
      " 28% |##########################################                                                                                                            |\r"
     ]
    },
    {
     "name": "stdout",
     "output_type": "stream",
     "text": [
      "Epoch 140 start...\n",
      "Epoch 141 start...\n",
      "Epoch 142 start...\n",
      "Epoch 143 start...\n"
     ]
    },
    {
     "name": "stderr",
     "output_type": "stream",
     "text": [
      " 28% |###########################################                                                                                                           |\r"
     ]
    },
    {
     "name": "stdout",
     "output_type": "stream",
     "text": [
      "Epoch 144 start...\n",
      "Epoch 145 start...\n",
      "Epoch 146 start...\n",
      "Epoch 147 start...\n"
     ]
    },
    {
     "name": "stderr",
     "output_type": "stream",
     "text": [
      " 29% |############################################                                                                                                          |\r"
     ]
    },
    {
     "name": "stdout",
     "output_type": "stream",
     "text": [
      "Epoch 148 start...\n",
      "Epoch 149 start...\n",
      "Epoch 150 start...\n",
      "Epoch 151 start...\n"
     ]
    },
    {
     "name": "stderr",
     "output_type": "stream",
     "text": [
      " 30% |#############################################                                                                                                         |\r"
     ]
    },
    {
     "name": "stdout",
     "output_type": "stream",
     "text": [
      "Epoch 152 start...\n",
      "Epoch 153 start...\n",
      "Epoch 154 start...\n",
      "Epoch 155 start...\n"
     ]
    },
    {
     "name": "stderr",
     "output_type": "stream",
     "text": [
      " 31% |##############################################                                                                                                        |\r"
     ]
    },
    {
     "name": "stdout",
     "output_type": "stream",
     "text": [
      "Epoch 156 start...\n",
      "Epoch 157 start...\n",
      "Epoch 158 start...\n",
      "Epoch 159 start...\n"
     ]
    },
    {
     "name": "stderr",
     "output_type": "stream",
     "text": [
      " 32% |################################################                                                                                                      |\r"
     ]
    },
    {
     "name": "stdout",
     "output_type": "stream",
     "text": [
      "Epoch 160 start...\n",
      "Epoch 161 start...\n",
      "Epoch 162 start...\n",
      "Epoch 163 start...\n"
     ]
    },
    {
     "name": "stderr",
     "output_type": "stream",
     "text": [
      " 32% |#################################################                                                                                                     |\r"
     ]
    },
    {
     "name": "stdout",
     "output_type": "stream",
     "text": [
      "Epoch 164 start...\n",
      "Epoch 165 start...\n",
      "Epoch 166 start...\n",
      "Epoch 167 start...\n"
     ]
    },
    {
     "name": "stderr",
     "output_type": "stream",
     "text": [
      " 33% |##################################################                                                                                                    |\r"
     ]
    },
    {
     "name": "stdout",
     "output_type": "stream",
     "text": [
      "Epoch 168 start...\n",
      "Epoch 169 start...\n",
      "Epoch 170 start...\n",
      "Epoch 171 start...\n"
     ]
    },
    {
     "name": "stderr",
     "output_type": "stream",
     "text": [
      " 34% |###################################################                                                                                                   |\r"
     ]
    },
    {
     "name": "stdout",
     "output_type": "stream",
     "text": [
      "Epoch 172 start...\n",
      "Epoch 173 start...\n",
      "Epoch 174 start...\n",
      "Epoch 175 start...\n"
     ]
    },
    {
     "name": "stderr",
     "output_type": "stream",
     "text": [
      " 35% |####################################################                                                                                                  |\r"
     ]
    },
    {
     "name": "stdout",
     "output_type": "stream",
     "text": [
      "Epoch 176 start...\n",
      "Epoch 177 start...\n",
      "Epoch 178 start...\n",
      "Epoch 179 start...\n"
     ]
    },
    {
     "name": "stderr",
     "output_type": "stream",
     "text": [
      " 36% |######################################################                                                                                                |\r"
     ]
    },
    {
     "name": "stdout",
     "output_type": "stream",
     "text": [
      "Epoch 180 start...\n",
      "Epoch 181 start...\n",
      "Epoch 182 start...\n",
      "Epoch 183 start...\n"
     ]
    },
    {
     "name": "stderr",
     "output_type": "stream",
     "text": [
      " 36% |#######################################################                                                                                               |\r"
     ]
    },
    {
     "name": "stdout",
     "output_type": "stream",
     "text": [
      "Epoch 184 start...\n",
      "Epoch 185 start...\n",
      "Epoch 186 start...\n",
      "Epoch 187 start...\n"
     ]
    },
    {
     "name": "stderr",
     "output_type": "stream",
     "text": [
      " 37% |########################################################                                                                                              |\r"
     ]
    },
    {
     "name": "stdout",
     "output_type": "stream",
     "text": [
      "Epoch 188 start...\n",
      "Epoch 189 start...\n",
      "Epoch 190 start...\n",
      "Epoch 191 start...\n"
     ]
    },
    {
     "name": "stderr",
     "output_type": "stream",
     "text": [
      " 38% |#########################################################                                                                                             |\r"
     ]
    },
    {
     "name": "stdout",
     "output_type": "stream",
     "text": [
      "Epoch 192 start...\n",
      "Epoch 193 start...\n",
      "Epoch 194 start...\n",
      "Epoch 195 start...\n"
     ]
    },
    {
     "name": "stderr",
     "output_type": "stream",
     "text": [
      " 39% |##########################################################                                                                                            |\r"
     ]
    },
    {
     "name": "stdout",
     "output_type": "stream",
     "text": [
      "Epoch 196 start...\n",
      "Epoch 197 start...\n",
      "Epoch 198 start...\n",
      "Epoch 199 start...\n"
     ]
    },
    {
     "name": "stderr",
     "output_type": "stream",
     "text": [
      " 40% |############################################################                                                                                          |\r"
     ]
    },
    {
     "name": "stdout",
     "output_type": "stream",
     "text": [
      "Epoch 200 start...\n",
      "Epoch 201 start...\n",
      "Epoch 202 start...\n",
      "Epoch 203 start...\n"
     ]
    },
    {
     "name": "stderr",
     "output_type": "stream",
     "text": [
      " 40% |#############################################################                                                                                         |\r"
     ]
    },
    {
     "name": "stdout",
     "output_type": "stream",
     "text": [
      "Epoch 204 start...\n",
      "Epoch 205 start...\n",
      "Epoch 206 start...\n",
      "Epoch 207 start...\n"
     ]
    },
    {
     "name": "stderr",
     "output_type": "stream",
     "text": [
      " 41% |##############################################################                                                                                        |\r"
     ]
    },
    {
     "name": "stdout",
     "output_type": "stream",
     "text": [
      "Epoch 208 start...\n",
      "Epoch 209 start...\n",
      "Epoch 210 start...\n",
      "Epoch 211 start...\n"
     ]
    },
    {
     "name": "stderr",
     "output_type": "stream",
     "text": [
      " 42% |###############################################################                                                                                       |\r"
     ]
    },
    {
     "name": "stdout",
     "output_type": "stream",
     "text": [
      "Epoch 212 start...\n",
      "Epoch 213 start...\n",
      "Epoch 214 start...\n",
      "Epoch 215 start...\n"
     ]
    },
    {
     "name": "stderr",
     "output_type": "stream",
     "text": [
      " 43% |################################################################                                                                                      |\r"
     ]
    },
    {
     "name": "stdout",
     "output_type": "stream",
     "text": [
      "Epoch 216 start...\n",
      "Epoch 217 start...\n",
      "Epoch 218 start...\n",
      "Epoch 219 start...\n"
     ]
    },
    {
     "name": "stderr",
     "output_type": "stream",
     "text": [
      " 44% |##################################################################                                                                                    |\r"
     ]
    },
    {
     "name": "stdout",
     "output_type": "stream",
     "text": [
      "Epoch 220 start...\n",
      "Epoch 221 start...\n",
      "Epoch 222 start...\n",
      "Epoch 223 start...\n"
     ]
    },
    {
     "name": "stderr",
     "output_type": "stream",
     "text": [
      " 44% |###################################################################                                                                                   |\r"
     ]
    },
    {
     "name": "stdout",
     "output_type": "stream",
     "text": [
      "Epoch 224 start...\n",
      "Epoch 225 start...\n",
      "Epoch 226 start...\n",
      "Epoch 227 start...\n"
     ]
    },
    {
     "name": "stderr",
     "output_type": "stream",
     "text": [
      " 45% |####################################################################                                                                                  |\r"
     ]
    },
    {
     "name": "stdout",
     "output_type": "stream",
     "text": [
      "Epoch 228 start...\n",
      "Epoch 229 start...\n",
      "Epoch 230 start...\n",
      "Epoch 231 start...\n"
     ]
    },
    {
     "name": "stderr",
     "output_type": "stream",
     "text": [
      " 46% |#####################################################################                                                                                 |\r"
     ]
    },
    {
     "name": "stdout",
     "output_type": "stream",
     "text": [
      "Epoch 232 start...\n",
      "Epoch 233 start...\n",
      "Epoch 234 start...\n",
      "Epoch 235 start...\n"
     ]
    },
    {
     "name": "stderr",
     "output_type": "stream",
     "text": [
      " 47% |######################################################################                                                                                |\r"
     ]
    },
    {
     "name": "stdout",
     "output_type": "stream",
     "text": [
      "Epoch 236 start...\n",
      "Epoch 237 start...\n",
      "Epoch 238 start...\n",
      "Epoch 239 start...\n"
     ]
    },
    {
     "name": "stderr",
     "output_type": "stream",
     "text": [
      " 48% |########################################################################                                                                              |\r"
     ]
    },
    {
     "name": "stdout",
     "output_type": "stream",
     "text": [
      "Epoch 240 start...\n",
      "Epoch 241 start...\n",
      "Epoch 242 start...\n",
      "Epoch 243 start...\n"
     ]
    },
    {
     "name": "stderr",
     "output_type": "stream",
     "text": [
      " 48% |#########################################################################                                                                             |\r"
     ]
    },
    {
     "name": "stdout",
     "output_type": "stream",
     "text": [
      "Epoch 244 start...\n",
      "Epoch 245 start...\n",
      "Epoch 246 start...\n",
      "Epoch 247 start...\n"
     ]
    },
    {
     "name": "stderr",
     "output_type": "stream",
     "text": [
      " 49% |##########################################################################                                                                            |\r"
     ]
    },
    {
     "name": "stdout",
     "output_type": "stream",
     "text": [
      "Epoch 248 start...\n",
      "Epoch 249 start...\n",
      "Epoch 250 start...\n",
      "Epoch 251 start...\n"
     ]
    },
    {
     "name": "stderr",
     "output_type": "stream",
     "text": [
      " 50% |###########################################################################                                                                           |\r"
     ]
    },
    {
     "name": "stdout",
     "output_type": "stream",
     "text": [
      "Epoch 252 start...\n",
      "Epoch 253 start...\n",
      "Epoch 254 start...\n",
      "Epoch 255 start...\n"
     ]
    },
    {
     "name": "stderr",
     "output_type": "stream",
     "text": [
      " 51% |############################################################################                                                                          |\r"
     ]
    },
    {
     "name": "stdout",
     "output_type": "stream",
     "text": [
      "Epoch 256 start...\n",
      "Epoch 257 start...\n",
      "Epoch 258 start...\n",
      "Epoch 259 start...\n"
     ]
    },
    {
     "name": "stderr",
     "output_type": "stream",
     "text": [
      " 52% |##############################################################################                                                                        |\r"
     ]
    },
    {
     "name": "stdout",
     "output_type": "stream",
     "text": [
      "Epoch 260 start...\n",
      "Epoch 261 start...\n",
      "Epoch 262 start...\n",
      "Epoch 263 start...\n"
     ]
    },
    {
     "name": "stderr",
     "output_type": "stream",
     "text": [
      " 52% |###############################################################################                                                                       |\r"
     ]
    },
    {
     "name": "stdout",
     "output_type": "stream",
     "text": [
      "Epoch 264 start...\n",
      "Epoch 265 start...\n",
      "Epoch 266 start...\n",
      "Epoch 267 start...\n"
     ]
    },
    {
     "name": "stderr",
     "output_type": "stream",
     "text": [
      " 53% |################################################################################                                                                      |\r"
     ]
    },
    {
     "name": "stdout",
     "output_type": "stream",
     "text": [
      "Epoch 268 start...\n",
      "Epoch 269 start...\n",
      "Epoch 270 start...\n",
      "Epoch 271 start...\n"
     ]
    },
    {
     "name": "stderr",
     "output_type": "stream",
     "text": [
      " 54% |#################################################################################                                                                     |\r"
     ]
    },
    {
     "name": "stdout",
     "output_type": "stream",
     "text": [
      "Epoch 272 start...\n",
      "Epoch 273 start...\n",
      "Epoch 274 start...\n",
      "Epoch 275 start...\n"
     ]
    },
    {
     "name": "stderr",
     "output_type": "stream",
     "text": [
      " 55% |##################################################################################                                                                    |\r"
     ]
    },
    {
     "name": "stdout",
     "output_type": "stream",
     "text": [
      "Epoch 276 start...\n",
      "Epoch 277 start...\n",
      "Epoch 278 start...\n",
      "Epoch 279 start...\n"
     ]
    },
    {
     "name": "stderr",
     "output_type": "stream",
     "text": [
      " 56% |####################################################################################                                                                  |\r"
     ]
    },
    {
     "name": "stdout",
     "output_type": "stream",
     "text": [
      "Epoch 280 start...\n",
      "Epoch 281 start...\n",
      "Epoch 282 start...\n",
      "Epoch 283 start...\n"
     ]
    },
    {
     "name": "stderr",
     "output_type": "stream",
     "text": [
      " 56% |#####################################################################################                                                                 |\r"
     ]
    },
    {
     "name": "stdout",
     "output_type": "stream",
     "text": [
      "Epoch 284 start...\n",
      "Epoch 285 start...\n",
      "Epoch 286 start...\n",
      "Epoch 287 start...\n"
     ]
    },
    {
     "name": "stderr",
     "output_type": "stream",
     "text": [
      " 57% |######################################################################################                                                                |\r"
     ]
    },
    {
     "name": "stdout",
     "output_type": "stream",
     "text": [
      "Epoch 288 start...\n",
      "Epoch 289 start...\n",
      "Epoch 290 start...\n",
      "Epoch 291 start...\n"
     ]
    },
    {
     "name": "stderr",
     "output_type": "stream",
     "text": [
      " 58% |#######################################################################################                                                               |\r"
     ]
    },
    {
     "name": "stdout",
     "output_type": "stream",
     "text": [
      "Epoch 292 start...\n",
      "Epoch 293 start...\n",
      "Epoch 294 start...\n",
      "Epoch 295 start...\n"
     ]
    },
    {
     "name": "stderr",
     "output_type": "stream",
     "text": [
      " 59% |########################################################################################                                                              |\r"
     ]
    },
    {
     "name": "stdout",
     "output_type": "stream",
     "text": [
      "Epoch 296 start...\n",
      "Epoch 297 start...\n",
      "Epoch 298 start...\n",
      "Epoch 299 start...\n"
     ]
    },
    {
     "name": "stderr",
     "output_type": "stream",
     "text": [
      " 60% |##########################################################################################                                                            |\r"
     ]
    },
    {
     "name": "stdout",
     "output_type": "stream",
     "text": [
      "Epoch 300 start...\n",
      "Epoch 301 start...\n",
      "Epoch 302 start...\n",
      "Epoch 303 start...\n"
     ]
    },
    {
     "name": "stderr",
     "output_type": "stream",
     "text": [
      " 60% |###########################################################################################                                                           |\r"
     ]
    },
    {
     "name": "stdout",
     "output_type": "stream",
     "text": [
      "Epoch 304 start...\n",
      "Epoch 305 start...\n",
      "Epoch 306 start...\n",
      "Epoch 307 start...\n"
     ]
    },
    {
     "name": "stderr",
     "output_type": "stream",
     "text": [
      " 61% |############################################################################################                                                          |\r"
     ]
    },
    {
     "name": "stdout",
     "output_type": "stream",
     "text": [
      "Epoch 308 start...\n",
      "Epoch 309 start...\n",
      "Epoch 310 start...\n",
      "Epoch 311 start...\n"
     ]
    },
    {
     "name": "stderr",
     "output_type": "stream",
     "text": [
      " 62% |#############################################################################################                                                         |\r"
     ]
    },
    {
     "name": "stdout",
     "output_type": "stream",
     "text": [
      "Epoch 312 start...\n",
      "Epoch 313 start...\n",
      "Epoch 314 start...\n",
      "Epoch 315 start...\n"
     ]
    },
    {
     "name": "stderr",
     "output_type": "stream",
     "text": [
      " 63% |##############################################################################################                                                        |\r"
     ]
    },
    {
     "name": "stdout",
     "output_type": "stream",
     "text": [
      "Epoch 316 start...\n",
      "Epoch 317 start...\n",
      "Epoch 318 start...\n",
      "Epoch 319 start...\n"
     ]
    },
    {
     "name": "stderr",
     "output_type": "stream",
     "text": [
      " 64% |################################################################################################                                                      |\r"
     ]
    },
    {
     "name": "stdout",
     "output_type": "stream",
     "text": [
      "Epoch 320 start...\n",
      "Epoch 321 start...\n",
      "Epoch 322 start...\n",
      "Epoch 323 start...\n"
     ]
    },
    {
     "name": "stderr",
     "output_type": "stream",
     "text": [
      " 64% |#################################################################################################                                                     |\r"
     ]
    },
    {
     "name": "stdout",
     "output_type": "stream",
     "text": [
      "Epoch 324 start...\n",
      "Epoch 325 start...\n",
      "Epoch 326 start...\n",
      "Epoch 327 start...\n"
     ]
    },
    {
     "name": "stderr",
     "output_type": "stream",
     "text": [
      " 65% |##################################################################################################                                                    |\r"
     ]
    },
    {
     "name": "stdout",
     "output_type": "stream",
     "text": [
      "Epoch 328 start...\n",
      "Epoch 329 start...\n",
      "Epoch 330 start...\n",
      "Epoch 331 start...\n"
     ]
    },
    {
     "name": "stderr",
     "output_type": "stream",
     "text": [
      " 66% |###################################################################################################                                                   |\r"
     ]
    },
    {
     "name": "stdout",
     "output_type": "stream",
     "text": [
      "Epoch 332 start...\n",
      "Epoch 333 start...\n",
      "Epoch 334 start...\n",
      "Epoch 335 start...\n"
     ]
    },
    {
     "name": "stderr",
     "output_type": "stream",
     "text": [
      " 67% |####################################################################################################                                                  |\r"
     ]
    },
    {
     "name": "stdout",
     "output_type": "stream",
     "text": [
      "Epoch 336 start...\n",
      "Epoch 337 start...\n",
      "Epoch 338 start...\n",
      "Epoch 339 start...\n"
     ]
    },
    {
     "name": "stderr",
     "output_type": "stream",
     "text": [
      " 68% |######################################################################################################                                                |\r"
     ]
    },
    {
     "name": "stdout",
     "output_type": "stream",
     "text": [
      "Epoch 340 start...\n",
      "Epoch 341 start...\n",
      "Epoch 342 start...\n",
      "Epoch 343 start...\n"
     ]
    },
    {
     "name": "stderr",
     "output_type": "stream",
     "text": [
      " 68% |#######################################################################################################                                               |\r"
     ]
    },
    {
     "name": "stdout",
     "output_type": "stream",
     "text": [
      "Epoch 344 start...\n",
      "Epoch 345 start...\n",
      "Epoch 346 start...\n",
      "Epoch 347 start...\n"
     ]
    },
    {
     "name": "stderr",
     "output_type": "stream",
     "text": [
      " 69% |########################################################################################################                                              |\r"
     ]
    },
    {
     "name": "stdout",
     "output_type": "stream",
     "text": [
      "Epoch 348 start...\n",
      "Epoch 349 start...\n",
      "Epoch 350 start...\n",
      "Epoch 351 start...\n"
     ]
    },
    {
     "name": "stderr",
     "output_type": "stream",
     "text": [
      " 70% |#########################################################################################################                                             |\r"
     ]
    },
    {
     "name": "stdout",
     "output_type": "stream",
     "text": [
      "Epoch 352 start...\n",
      "Epoch 353 start...\n",
      "Epoch 354 start...\n",
      "Epoch 355 start...\n"
     ]
    },
    {
     "name": "stderr",
     "output_type": "stream",
     "text": [
      " 71% |##########################################################################################################                                            |\r"
     ]
    },
    {
     "name": "stdout",
     "output_type": "stream",
     "text": [
      "Epoch 356 start...\n",
      "Epoch 357 start...\n",
      "Epoch 358 start...\n",
      "Epoch 359 start...\n"
     ]
    },
    {
     "name": "stderr",
     "output_type": "stream",
     "text": [
      " 72% |############################################################################################################                                          |\r"
     ]
    },
    {
     "name": "stdout",
     "output_type": "stream",
     "text": [
      "Epoch 360 start...\n",
      "Epoch 361 start...\n",
      "Epoch 362 start...\n",
      "Epoch 363 start...\n"
     ]
    },
    {
     "name": "stderr",
     "output_type": "stream",
     "text": [
      " 72% |#############################################################################################################                                         |\r"
     ]
    },
    {
     "name": "stdout",
     "output_type": "stream",
     "text": [
      "Epoch 364 start...\n",
      "Epoch 365 start...\n",
      "Epoch 366 start...\n",
      "Epoch 367 start...\n"
     ]
    },
    {
     "name": "stderr",
     "output_type": "stream",
     "text": [
      " 73% |##############################################################################################################                                        |\r"
     ]
    },
    {
     "name": "stdout",
     "output_type": "stream",
     "text": [
      "Epoch 368 start...\n",
      "Epoch 369 start...\n",
      "Epoch 370 start...\n",
      "Epoch 371 start...\n"
     ]
    },
    {
     "name": "stderr",
     "output_type": "stream",
     "text": [
      " 74% |###############################################################################################################                                       |\r"
     ]
    },
    {
     "name": "stdout",
     "output_type": "stream",
     "text": [
      "Epoch 372 start...\n",
      "Epoch 373 start...\n",
      "Epoch 374 start...\n",
      "Epoch 375 start...\n"
     ]
    },
    {
     "name": "stderr",
     "output_type": "stream",
     "text": [
      " 75% |################################################################################################################                                      |\r"
     ]
    },
    {
     "name": "stdout",
     "output_type": "stream",
     "text": [
      "Epoch 376 start...\n",
      "Epoch 377 start...\n",
      "Epoch 378 start...\n",
      "Epoch 379 start...\n"
     ]
    },
    {
     "name": "stderr",
     "output_type": "stream",
     "text": [
      " 76% |##################################################################################################################                                    |\r"
     ]
    },
    {
     "name": "stdout",
     "output_type": "stream",
     "text": [
      "Epoch 380 start...\n",
      "Epoch 381 start...\n",
      "Epoch 382 start...\n",
      "Epoch 383 start...\n"
     ]
    },
    {
     "name": "stderr",
     "output_type": "stream",
     "text": [
      " 76% |###################################################################################################################                                   |\r"
     ]
    },
    {
     "name": "stdout",
     "output_type": "stream",
     "text": [
      "Epoch 384 start...\n",
      "Epoch 385 start...\n",
      "Epoch 386 start...\n",
      "Epoch 387 start...\n"
     ]
    },
    {
     "name": "stderr",
     "output_type": "stream",
     "text": [
      " 77% |####################################################################################################################                                  |\r"
     ]
    },
    {
     "name": "stdout",
     "output_type": "stream",
     "text": [
      "Epoch 388 start...\n",
      "Epoch 389 start...\n",
      "Epoch 390 start...\n",
      "Epoch 391 start...\n"
     ]
    },
    {
     "name": "stderr",
     "output_type": "stream",
     "text": [
      " 78% |#####################################################################################################################                                 |\r"
     ]
    },
    {
     "name": "stdout",
     "output_type": "stream",
     "text": [
      "Epoch 392 start...\n",
      "Epoch 393 start...\n",
      "Epoch 394 start...\n",
      "Epoch 395 start...\n"
     ]
    },
    {
     "name": "stderr",
     "output_type": "stream",
     "text": [
      " 79% |######################################################################################################################                                |\r"
     ]
    },
    {
     "name": "stdout",
     "output_type": "stream",
     "text": [
      "Epoch 396 start...\n",
      "Epoch 397 start...\n",
      "Epoch 398 start...\n",
      "Epoch 399 start...\n"
     ]
    },
    {
     "name": "stderr",
     "output_type": "stream",
     "text": [
      " 80% |########################################################################################################################                              |\r"
     ]
    },
    {
     "name": "stdout",
     "output_type": "stream",
     "text": [
      "Epoch 400 start...\n",
      "Epoch 401 start...\n",
      "Epoch 402 start...\n",
      "Epoch 403 start...\n"
     ]
    },
    {
     "name": "stderr",
     "output_type": "stream",
     "text": [
      " 80% |#########################################################################################################################                             |\r"
     ]
    },
    {
     "name": "stdout",
     "output_type": "stream",
     "text": [
      "Epoch 404 start...\n",
      "Epoch 405 start...\n",
      "Epoch 406 start...\n",
      "Epoch 407 start...\n"
     ]
    },
    {
     "name": "stderr",
     "output_type": "stream",
     "text": [
      " 81% |##########################################################################################################################                            |\r"
     ]
    },
    {
     "name": "stdout",
     "output_type": "stream",
     "text": [
      "Epoch 408 start...\n",
      "Epoch 409 start...\n",
      "Epoch 410 start...\n",
      "Epoch 411 start...\n"
     ]
    },
    {
     "name": "stderr",
     "output_type": "stream",
     "text": [
      " 82% |###########################################################################################################################                           |\r"
     ]
    },
    {
     "name": "stdout",
     "output_type": "stream",
     "text": [
      "Epoch 412 start...\n",
      "Epoch 413 start...\n",
      "Epoch 414 start...\n",
      "Epoch 415 start...\n"
     ]
    },
    {
     "name": "stderr",
     "output_type": "stream",
     "text": [
      " 83% |############################################################################################################################                          |\r"
     ]
    },
    {
     "name": "stdout",
     "output_type": "stream",
     "text": [
      "Epoch 416 start...\n",
      "Epoch 417 start...\n",
      "Epoch 418 start...\n",
      "Epoch 419 start...\n"
     ]
    },
    {
     "name": "stderr",
     "output_type": "stream",
     "text": [
      " 84% |##############################################################################################################################                        |\r"
     ]
    },
    {
     "name": "stdout",
     "output_type": "stream",
     "text": [
      "Epoch 420 start...\n",
      "Epoch 421 start...\n",
      "Epoch 422 start...\n",
      "Epoch 423 start...\n"
     ]
    },
    {
     "name": "stderr",
     "output_type": "stream",
     "text": [
      " 84% |###############################################################################################################################                       |\r"
     ]
    },
    {
     "name": "stdout",
     "output_type": "stream",
     "text": [
      "Epoch 424 start...\n",
      "Epoch 425 start...\n",
      "Epoch 426 start...\n",
      "Epoch 427 start...\n"
     ]
    },
    {
     "name": "stderr",
     "output_type": "stream",
     "text": [
      " 85% |################################################################################################################################                      |\r"
     ]
    },
    {
     "name": "stdout",
     "output_type": "stream",
     "text": [
      "Epoch 428 start...\n",
      "Epoch 429 start...\n",
      "Epoch 430 start...\n",
      "Epoch 431 start...\n"
     ]
    },
    {
     "name": "stderr",
     "output_type": "stream",
     "text": [
      " 86% |#################################################################################################################################                     |\r"
     ]
    },
    {
     "name": "stdout",
     "output_type": "stream",
     "text": [
      "Epoch 432 start...\n",
      "Epoch 433 start...\n",
      "Epoch 434 start...\n",
      "Epoch 435 start...\n"
     ]
    },
    {
     "name": "stderr",
     "output_type": "stream",
     "text": [
      " 87% |##################################################################################################################################                    |\r"
     ]
    },
    {
     "name": "stdout",
     "output_type": "stream",
     "text": [
      "Epoch 436 start...\n",
      "Epoch 437 start...\n",
      "Epoch 438 start...\n",
      "Epoch 439 start...\n"
     ]
    },
    {
     "name": "stderr",
     "output_type": "stream",
     "text": [
      " 88% |####################################################################################################################################                  |\r"
     ]
    },
    {
     "name": "stdout",
     "output_type": "stream",
     "text": [
      "Epoch 440 start...\n",
      "Epoch 441 start...\n",
      "Epoch 442 start...\n",
      "Epoch 443 start...\n"
     ]
    },
    {
     "name": "stderr",
     "output_type": "stream",
     "text": [
      " 88% |#####################################################################################################################################                 |\r"
     ]
    },
    {
     "name": "stdout",
     "output_type": "stream",
     "text": [
      "Epoch 444 start...\n",
      "Epoch 445 start...\n",
      "Epoch 446 start...\n",
      "Epoch 447 start...\n"
     ]
    },
    {
     "name": "stderr",
     "output_type": "stream",
     "text": [
      " 89% |######################################################################################################################################                |\r"
     ]
    },
    {
     "name": "stdout",
     "output_type": "stream",
     "text": [
      "Epoch 448 start...\n",
      "Epoch 449 start...\n",
      "Epoch 450 start...\n",
      "Epoch 451 start...\n"
     ]
    },
    {
     "name": "stderr",
     "output_type": "stream",
     "text": [
      " 90% |#######################################################################################################################################               |\r"
     ]
    },
    {
     "name": "stdout",
     "output_type": "stream",
     "text": [
      "Epoch 452 start...\n",
      "Epoch 453 start...\n",
      "Epoch 454 start...\n",
      "Epoch 455 start...\n"
     ]
    },
    {
     "name": "stderr",
     "output_type": "stream",
     "text": [
      " 91% |########################################################################################################################################              |\r"
     ]
    },
    {
     "name": "stdout",
     "output_type": "stream",
     "text": [
      "Epoch 456 start...\n",
      "Epoch 457 start...\n",
      "Epoch 458 start...\n",
      "Epoch 459 start...\n"
     ]
    },
    {
     "name": "stderr",
     "output_type": "stream",
     "text": [
      " 92% |##########################################################################################################################################            |\r"
     ]
    },
    {
     "name": "stdout",
     "output_type": "stream",
     "text": [
      "Epoch 460 start...\n",
      "Epoch 461 start...\n",
      "Epoch 462 start...\n",
      "Epoch 463 start...\n"
     ]
    },
    {
     "name": "stderr",
     "output_type": "stream",
     "text": [
      " 92% |###########################################################################################################################################           |\r"
     ]
    },
    {
     "name": "stdout",
     "output_type": "stream",
     "text": [
      "Epoch 464 start...\n",
      "Epoch 465 start...\n",
      "Epoch 466 start...\n",
      "Epoch 467 start...\n"
     ]
    },
    {
     "name": "stderr",
     "output_type": "stream",
     "text": [
      " 93% |############################################################################################################################################          |\r"
     ]
    },
    {
     "name": "stdout",
     "output_type": "stream",
     "text": [
      "Epoch 468 start...\n",
      "Epoch 469 start...\n",
      "Epoch 470 start...\n",
      "Epoch 471 start...\n"
     ]
    },
    {
     "name": "stderr",
     "output_type": "stream",
     "text": [
      " 94% |#############################################################################################################################################         |\r"
     ]
    },
    {
     "name": "stdout",
     "output_type": "stream",
     "text": [
      "Epoch 472 start...\n",
      "Epoch 473 start...\n",
      "Epoch 474 start...\n",
      "Epoch 475 start...\n"
     ]
    },
    {
     "name": "stderr",
     "output_type": "stream",
     "text": [
      " 95% |##############################################################################################################################################        |\r"
     ]
    },
    {
     "name": "stdout",
     "output_type": "stream",
     "text": [
      "Epoch 476 start...\n",
      "Epoch 477 start...\n",
      "Epoch 478 start...\n",
      "Epoch 479 start...\n"
     ]
    },
    {
     "name": "stderr",
     "output_type": "stream",
     "text": [
      " 96% |################################################################################################################################################      |\r"
     ]
    },
    {
     "name": "stdout",
     "output_type": "stream",
     "text": [
      "Epoch 480 start...\n",
      "Epoch 481 start...\n",
      "Epoch 482 start...\n",
      "Epoch 483 start...\n"
     ]
    },
    {
     "name": "stderr",
     "output_type": "stream",
     "text": [
      " 96% |#################################################################################################################################################     |\r"
     ]
    },
    {
     "name": "stdout",
     "output_type": "stream",
     "text": [
      "Epoch 484 start...\n",
      "Epoch 485 start...\n",
      "Epoch 486 start...\n",
      "Epoch 487 start...\n"
     ]
    },
    {
     "name": "stderr",
     "output_type": "stream",
     "text": [
      " 97% |##################################################################################################################################################    |\r"
     ]
    },
    {
     "name": "stdout",
     "output_type": "stream",
     "text": [
      "Epoch 488 start...\n",
      "Epoch 489 start...\n",
      "Epoch 490 start...\n",
      "Epoch 491 start...\n"
     ]
    },
    {
     "name": "stderr",
     "output_type": "stream",
     "text": [
      " 98% |###################################################################################################################################################   |\r"
     ]
    },
    {
     "name": "stdout",
     "output_type": "stream",
     "text": [
      "Epoch 492 start...\n",
      "Epoch 493 start...\n",
      "Epoch 494 start...\n",
      "Epoch 495 start...\n"
     ]
    },
    {
     "name": "stderr",
     "output_type": "stream",
     "text": [
      " 99% |####################################################################################################################################################  |\r"
     ]
    },
    {
     "name": "stdout",
     "output_type": "stream",
     "text": [
      "Epoch 496 start...\n",
      "Epoch 497 start...\n",
      "Epoch 498 start...\n",
      "Epoch 499 start...\n"
     ]
    },
    {
     "name": "stderr",
     "output_type": "stream",
     "text": [
      "100% |######################################################################################################################################################|\n"
     ]
    },
    {
     "name": "stdout",
     "output_type": "stream",
     "text": [
      "Prediction: 0\n",
      "Prediction: 1\n",
      "Prediction: 2\n",
      "Prediction: 3\n",
      "Prediction: 4\n",
      "Prediction: 5\n",
      "Prediction: 6\n",
      "Prediction: 7\n",
      "Prediction: 8\n",
      "Prediction: 9\n",
      "Prediction: 10\n",
      "Prediction: 11\n",
      "Prediction: 12\n",
      "Prediction: 13\n",
      "Prediction: 14\n",
      "Prediction: 15\n",
      "Prediction: 16\n",
      "Prediction: 17\n",
      "Prediction: 18\n",
      "Prediction: 19\n",
      "Prediction: 20\n",
      "Prediction: 21\n",
      "Prediction: 22\n",
      "Prediction: 23\n",
      "Prediction: 24\n",
      "Prediction: 25\n",
      "Prediction: 26\n",
      "Prediction: 27\n",
      "Prediction: 28\n",
      "Prediction: 29\n",
      "Prediction: 30\n",
      "Prediction: 31\n",
      "Prediction: 32\n",
      "Prediction: 33\n",
      "Prediction: 34\n",
      "Prediction: 35\n",
      "Prediction: 36\n",
      "Prediction: 37\n",
      "Prediction: 38\n",
      "Prediction: 39\n",
      "Prediction: 40\n"
     ]
    },
    {
     "name": "stderr",
     "output_type": "stream",
     "text": [
      "/aul/homes/jshi008/IvyProjects/ICLR/02MQRNN/util.py:57: RuntimeWarning: divide by zero encountered in true_divide\n",
      "  return np.mean(np.abs((ytrue - ypred) / ytrue))\n",
      "/aul/homes/jshi008/IvyProjects/ICLR/02MQRNN/util.py:57: RuntimeWarning: divide by zero encountered in true_divide\n",
      "  return np.mean(np.abs((ytrue - ypred) / ytrue))\n",
      "/aul/homes/jshi008/IvyProjects/ICLR/02MQRNN/util.py:57: RuntimeWarning: divide by zero encountered in true_divide\n",
      "  return np.mean(np.abs((ytrue - ypred) / ytrue))\n",
      "/aul/homes/jshi008/IvyProjects/ICLR/02MQRNN/util.py:57: RuntimeWarning: divide by zero encountered in true_divide\n",
      "  return np.mean(np.abs((ytrue - ypred) / ytrue))\n"
     ]
    },
    {
     "name": "stdout",
     "output_type": "stream",
     "text": [
      "Prediction: 41\n",
      "Prediction: 42\n",
      "Prediction: 43\n",
      "Prediction: 44\n"
     ]
    },
    {
     "name": "stderr",
     "output_type": "stream",
     "text": [
      "/aul/homes/jshi008/IvyProjects/ICLR/02MQRNN/util.py:57: RuntimeWarning: divide by zero encountered in true_divide\n",
      "  return np.mean(np.abs((ytrue - ypred) / ytrue))\n",
      "/aul/homes/jshi008/IvyProjects/ICLR/02MQRNN/util.py:57: RuntimeWarning: divide by zero encountered in true_divide\n",
      "  return np.mean(np.abs((ytrue - ypred) / ytrue))\n",
      "/aul/homes/jshi008/IvyProjects/ICLR/02MQRNN/util.py:57: RuntimeWarning: divide by zero encountered in true_divide\n",
      "  return np.mean(np.abs((ytrue - ypred) / ytrue))\n",
      "/aul/homes/jshi008/IvyProjects/ICLR/02MQRNN/util.py:57: RuntimeWarning: divide by zero encountered in true_divide\n",
      "  return np.mean(np.abs((ytrue - ypred) / ytrue))\n",
      "/aul/homes/jshi008/IvyProjects/ICLR/02MQRNN/util.py:57: RuntimeWarning: divide by zero encountered in true_divide\n",
      "  return np.mean(np.abs((ytrue - ypred) / ytrue))\n"
     ]
    },
    {
     "name": "stdout",
     "output_type": "stream",
     "text": [
      "Prediction: 45\n",
      "Prediction: 46\n",
      "Prediction: 47\n",
      "Prediction: 48\n"
     ]
    },
    {
     "name": "stderr",
     "output_type": "stream",
     "text": [
      "/aul/homes/jshi008/IvyProjects/ICLR/02MQRNN/util.py:57: RuntimeWarning: divide by zero encountered in true_divide\n",
      "  return np.mean(np.abs((ytrue - ypred) / ytrue))\n",
      "/aul/homes/jshi008/IvyProjects/ICLR/02MQRNN/util.py:57: RuntimeWarning: divide by zero encountered in true_divide\n",
      "  return np.mean(np.abs((ytrue - ypred) / ytrue))\n",
      "/aul/homes/jshi008/IvyProjects/ICLR/02MQRNN/util.py:57: RuntimeWarning: divide by zero encountered in true_divide\n",
      "  return np.mean(np.abs((ytrue - ypred) / ytrue))\n",
      "/aul/homes/jshi008/IvyProjects/ICLR/02MQRNN/util.py:57: RuntimeWarning: divide by zero encountered in true_divide\n",
      "  return np.mean(np.abs((ytrue - ypred) / ytrue))\n",
      "/aul/homes/jshi008/IvyProjects/ICLR/02MQRNN/util.py:57: RuntimeWarning: divide by zero encountered in true_divide\n",
      "  return np.mean(np.abs((ytrue - ypred) / ytrue))\n",
      "/aul/homes/jshi008/IvyProjects/ICLR/02MQRNN/util.py:57: RuntimeWarning: divide by zero encountered in true_divide\n",
      "  return np.mean(np.abs((ytrue - ypred) / ytrue))\n"
     ]
    },
    {
     "name": "stdout",
     "output_type": "stream",
     "text": [
      "Prediction: 49\n",
      "Prediction: 50\n",
      "Prediction: 51\n",
      "Prediction: 52\n"
     ]
    },
    {
     "name": "stderr",
     "output_type": "stream",
     "text": [
      "/aul/homes/jshi008/IvyProjects/ICLR/02MQRNN/util.py:57: RuntimeWarning: divide by zero encountered in true_divide\n",
      "  return np.mean(np.abs((ytrue - ypred) / ytrue))\n",
      "/aul/homes/jshi008/IvyProjects/ICLR/02MQRNN/util.py:57: RuntimeWarning: divide by zero encountered in true_divide\n",
      "  return np.mean(np.abs((ytrue - ypred) / ytrue))\n",
      "/aul/homes/jshi008/IvyProjects/ICLR/02MQRNN/util.py:57: RuntimeWarning: divide by zero encountered in true_divide\n",
      "  return np.mean(np.abs((ytrue - ypred) / ytrue))\n",
      "/aul/homes/jshi008/IvyProjects/ICLR/02MQRNN/util.py:57: RuntimeWarning: divide by zero encountered in true_divide\n",
      "  return np.mean(np.abs((ytrue - ypred) / ytrue))\n",
      "/aul/homes/jshi008/IvyProjects/ICLR/02MQRNN/util.py:57: RuntimeWarning: divide by zero encountered in true_divide\n",
      "  return np.mean(np.abs((ytrue - ypred) / ytrue))\n"
     ]
    },
    {
     "name": "stdout",
     "output_type": "stream",
     "text": [
      "Prediction: 53\n",
      "Prediction: 54\n",
      "Prediction: 55\n",
      "Prediction: 56\n",
      "Prediction: 57\n"
     ]
    },
    {
     "name": "stderr",
     "output_type": "stream",
     "text": [
      "/aul/homes/jshi008/IvyProjects/ICLR/02MQRNN/util.py:57: RuntimeWarning: divide by zero encountered in true_divide\n",
      "  return np.mean(np.abs((ytrue - ypred) / ytrue))\n",
      "/aul/homes/jshi008/IvyProjects/ICLR/02MQRNN/util.py:57: RuntimeWarning: divide by zero encountered in true_divide\n",
      "  return np.mean(np.abs((ytrue - ypred) / ytrue))\n"
     ]
    },
    {
     "name": "stdout",
     "output_type": "stream",
     "text": [
      "Prediction: 58\n",
      "Prediction: 59\n"
     ]
    },
    {
     "name": "stderr",
     "output_type": "stream",
     "text": [
      "/aul/homes/jshi008/IvyProjects/ICLR/02MQRNN/util.py:57: RuntimeWarning: divide by zero encountered in true_divide\n",
      "  return np.mean(np.abs((ytrue - ypred) / ytrue))\n",
      "/aul/homes/jshi008/IvyProjects/ICLR/02MQRNN/util.py:57: RuntimeWarning: divide by zero encountered in true_divide\n",
      "  return np.mean(np.abs((ytrue - ypred) / ytrue))\n",
      "/aul/homes/jshi008/IvyProjects/ICLR/02MQRNN/util.py:57: RuntimeWarning: divide by zero encountered in true_divide\n",
      "  return np.mean(np.abs((ytrue - ypred) / ytrue))\n",
      "/aul/homes/jshi008/IvyProjects/ICLR/02MQRNN/util.py:57: RuntimeWarning: divide by zero encountered in true_divide\n",
      "  return np.mean(np.abs((ytrue - ypred) / ytrue))\n"
     ]
    },
    {
     "name": "stdout",
     "output_type": "stream",
     "text": [
      "Prediction: 60\n",
      "Prediction: 61\n",
      "Prediction: 62\n",
      "Prediction: 63\n"
     ]
    },
    {
     "name": "stderr",
     "output_type": "stream",
     "text": [
      "/aul/homes/jshi008/IvyProjects/ICLR/02MQRNN/util.py:57: RuntimeWarning: divide by zero encountered in true_divide\n",
      "  return np.mean(np.abs((ytrue - ypred) / ytrue))\n",
      "/aul/homes/jshi008/IvyProjects/ICLR/02MQRNN/util.py:57: RuntimeWarning: divide by zero encountered in true_divide\n",
      "  return np.mean(np.abs((ytrue - ypred) / ytrue))\n"
     ]
    },
    {
     "name": "stdout",
     "output_type": "stream",
     "text": [
      "Prediction: 64\n",
      "Prediction: 65\n",
      "Prediction: 66\n",
      "Prediction: 67\n",
      "Prediction: 68\n",
      "Prediction: 69\n",
      "Prediction: 70\n",
      "Prediction: 71\n",
      "Prediction: 72\n",
      "Prediction: 73\n",
      "Prediction: 74\n"
     ]
    },
    {
     "name": "stderr",
     "output_type": "stream",
     "text": [
      "/aul/homes/jshi008/IvyProjects/ICLR/02MQRNN/util.py:57: RuntimeWarning: divide by zero encountered in true_divide\n",
      "  return np.mean(np.abs((ytrue - ypred) / ytrue))\n",
      "/aul/homes/jshi008/IvyProjects/ICLR/02MQRNN/util.py:57: RuntimeWarning: divide by zero encountered in true_divide\n",
      "  return np.mean(np.abs((ytrue - ypred) / ytrue))\n",
      "/aul/homes/jshi008/IvyProjects/ICLR/02MQRNN/util.py:57: RuntimeWarning: divide by zero encountered in true_divide\n",
      "  return np.mean(np.abs((ytrue - ypred) / ytrue))\n"
     ]
    },
    {
     "name": "stdout",
     "output_type": "stream",
     "text": [
      "Prediction: 75\n",
      "Prediction: 76\n",
      "Prediction: 77\n"
     ]
    },
    {
     "name": "stderr",
     "output_type": "stream",
     "text": [
      "/aul/homes/jshi008/IvyProjects/ICLR/02MQRNN/util.py:57: RuntimeWarning: divide by zero encountered in true_divide\n",
      "  return np.mean(np.abs((ytrue - ypred) / ytrue))\n",
      "/aul/homes/jshi008/IvyProjects/ICLR/02MQRNN/util.py:57: RuntimeWarning: divide by zero encountered in true_divide\n",
      "  return np.mean(np.abs((ytrue - ypred) / ytrue))\n"
     ]
    },
    {
     "name": "stdout",
     "output_type": "stream",
     "text": [
      "Prediction: 78\n",
      "Prediction: 79\n"
     ]
    },
    {
     "name": "stderr",
     "output_type": "stream",
     "text": [
      "/aul/homes/jshi008/IvyProjects/ICLR/02MQRNN/util.py:57: RuntimeWarning: divide by zero encountered in true_divide\n",
      "  return np.mean(np.abs((ytrue - ypred) / ytrue))\n",
      "/aul/homes/jshi008/IvyProjects/ICLR/02MQRNN/util.py:57: RuntimeWarning: divide by zero encountered in true_divide\n",
      "  return np.mean(np.abs((ytrue - ypred) / ytrue))\n",
      "/aul/homes/jshi008/IvyProjects/ICLR/02MQRNN/util.py:57: RuntimeWarning: divide by zero encountered in true_divide\n",
      "  return np.mean(np.abs((ytrue - ypred) / ytrue))\n"
     ]
    },
    {
     "name": "stdout",
     "output_type": "stream",
     "text": [
      "Prediction: 80\n",
      "Prediction: 81\n",
      "Prediction: 82\n"
     ]
    },
    {
     "name": "stderr",
     "output_type": "stream",
     "text": [
      "/aul/homes/jshi008/IvyProjects/ICLR/02MQRNN/util.py:57: RuntimeWarning: divide by zero encountered in true_divide\n",
      "  return np.mean(np.abs((ytrue - ypred) / ytrue))\n",
      "/aul/homes/jshi008/IvyProjects/ICLR/02MQRNN/util.py:57: RuntimeWarning: divide by zero encountered in true_divide\n",
      "  return np.mean(np.abs((ytrue - ypred) / ytrue))\n",
      "/aul/homes/jshi008/IvyProjects/ICLR/02MQRNN/util.py:57: RuntimeWarning: divide by zero encountered in true_divide\n",
      "  return np.mean(np.abs((ytrue - ypred) / ytrue))\n",
      "/aul/homes/jshi008/IvyProjects/ICLR/02MQRNN/util.py:57: RuntimeWarning: divide by zero encountered in true_divide\n",
      "  return np.mean(np.abs((ytrue - ypred) / ytrue))\n"
     ]
    },
    {
     "name": "stdout",
     "output_type": "stream",
     "text": [
      "Prediction: 83\n",
      "Prediction: 84\n",
      "Prediction: 85\n",
      "Prediction: 86\n"
     ]
    },
    {
     "name": "stderr",
     "output_type": "stream",
     "text": [
      "/aul/homes/jshi008/IvyProjects/ICLR/02MQRNN/util.py:57: RuntimeWarning: divide by zero encountered in true_divide\n",
      "  return np.mean(np.abs((ytrue - ypred) / ytrue))\n",
      "/aul/homes/jshi008/IvyProjects/ICLR/02MQRNN/util.py:57: RuntimeWarning: divide by zero encountered in true_divide\n",
      "  return np.mean(np.abs((ytrue - ypred) / ytrue))\n",
      "/aul/homes/jshi008/IvyProjects/ICLR/02MQRNN/util.py:57: RuntimeWarning: divide by zero encountered in true_divide\n",
      "  return np.mean(np.abs((ytrue - ypred) / ytrue))\n"
     ]
    },
    {
     "name": "stdout",
     "output_type": "stream",
     "text": [
      "Prediction: 87\n",
      "Prediction: 88\n",
      "Prediction: 89\n"
     ]
    },
    {
     "name": "stderr",
     "output_type": "stream",
     "text": [
      "/aul/homes/jshi008/IvyProjects/ICLR/02MQRNN/util.py:57: RuntimeWarning: divide by zero encountered in true_divide\n",
      "  return np.mean(np.abs((ytrue - ypred) / ytrue))\n",
      "/aul/homes/jshi008/IvyProjects/ICLR/02MQRNN/util.py:57: RuntimeWarning: divide by zero encountered in true_divide\n",
      "  return np.mean(np.abs((ytrue - ypred) / ytrue))\n",
      "/aul/homes/jshi008/IvyProjects/ICLR/02MQRNN/util.py:57: RuntimeWarning: divide by zero encountered in true_divide\n",
      "  return np.mean(np.abs((ytrue - ypred) / ytrue))\n"
     ]
    },
    {
     "name": "stdout",
     "output_type": "stream",
     "text": [
      "Prediction: 90\n",
      "Prediction: 91\n",
      "Prediction: 92\n"
     ]
    },
    {
     "name": "stderr",
     "output_type": "stream",
     "text": [
      "/aul/homes/jshi008/IvyProjects/ICLR/02MQRNN/util.py:57: RuntimeWarning: divide by zero encountered in true_divide\n",
      "  return np.mean(np.abs((ytrue - ypred) / ytrue))\n"
     ]
    },
    {
     "name": "stdout",
     "output_type": "stream",
     "text": [
      "Prediction: 93\n"
     ]
    },
    {
     "name": "stderr",
     "output_type": "stream",
     "text": [
      "/aul/homes/jshi008/IvyProjects/ICLR/02MQRNN/util.py:57: RuntimeWarning: divide by zero encountered in true_divide\n",
      "  return np.mean(np.abs((ytrue - ypred) / ytrue))\n",
      "/aul/homes/jshi008/IvyProjects/ICLR/02MQRNN/util.py:57: RuntimeWarning: divide by zero encountered in true_divide\n",
      "  return np.mean(np.abs((ytrue - ypred) / ytrue))\n",
      "/aul/homes/jshi008/IvyProjects/ICLR/02MQRNN/util.py:57: RuntimeWarning: divide by zero encountered in true_divide\n",
      "  return np.mean(np.abs((ytrue - ypred) / ytrue))\n",
      "/aul/homes/jshi008/IvyProjects/ICLR/02MQRNN/util.py:57: RuntimeWarning: divide by zero encountered in true_divide\n",
      "  return np.mean(np.abs((ytrue - ypred) / ytrue))\n"
     ]
    },
    {
     "name": "stdout",
     "output_type": "stream",
     "text": [
      "Prediction: 94\n",
      "Prediction: 95\n",
      "Prediction: 96\n",
      "Prediction: 97\n"
     ]
    },
    {
     "name": "stderr",
     "output_type": "stream",
     "text": [
      "/aul/homes/jshi008/IvyProjects/ICLR/02MQRNN/util.py:57: RuntimeWarning: divide by zero encountered in true_divide\n",
      "  return np.mean(np.abs((ytrue - ypred) / ytrue))\n",
      "/aul/homes/jshi008/IvyProjects/ICLR/02MQRNN/util.py:57: RuntimeWarning: divide by zero encountered in true_divide\n",
      "  return np.mean(np.abs((ytrue - ypred) / ytrue))\n",
      "/aul/homes/jshi008/IvyProjects/ICLR/02MQRNN/util.py:57: RuntimeWarning: divide by zero encountered in true_divide\n",
      "  return np.mean(np.abs((ytrue - ypred) / ytrue))\n",
      "/aul/homes/jshi008/IvyProjects/ICLR/02MQRNN/util.py:57: RuntimeWarning: divide by zero encountered in true_divide\n",
      "  return np.mean(np.abs((ytrue - ypred) / ytrue))\n"
     ]
    },
    {
     "name": "stdout",
     "output_type": "stream",
     "text": [
      "Prediction: 98\n",
      "Prediction: 99\n",
      "Prediction: 100\n",
      "Prediction: 101\n"
     ]
    },
    {
     "name": "stderr",
     "output_type": "stream",
     "text": [
      "/aul/homes/jshi008/IvyProjects/ICLR/02MQRNN/util.py:57: RuntimeWarning: divide by zero encountered in true_divide\n",
      "  return np.mean(np.abs((ytrue - ypred) / ytrue))\n"
     ]
    },
    {
     "name": "stdout",
     "output_type": "stream",
     "text": [
      "Prediction: 102\n",
      "Prediction: 103\n",
      "Prediction: 104\n",
      "Prediction: 105\n",
      "Prediction: 106\n",
      "Prediction: 107\n",
      "Prediction: 108\n",
      "Prediction: 109\n",
      "Prediction: 110\n",
      "Prediction: 111\n",
      "Prediction: 112\n",
      "Prediction: 113\n",
      "Prediction: 114\n",
      "Prediction: 115\n",
      "Prediction: 116\n",
      "Prediction: 117\n",
      "Prediction: 118\n",
      "Prediction: 119\n",
      "Prediction: 120\n",
      "Prediction: 121\n",
      "Prediction: 122\n",
      "Prediction: 123\n",
      "Prediction: 124\n",
      "Prediction: 125\n",
      "Prediction: 126\n",
      "Prediction: 127\n",
      "Prediction: 128\n",
      "Prediction: 129\n",
      "Prediction: 130\n",
      "Prediction: 131\n",
      "Prediction: 132\n",
      "Prediction: 133\n",
      "Prediction: 134\n",
      "Prediction: 135\n"
     ]
    },
    {
     "name": "stderr",
     "output_type": "stream",
     "text": [
      "/aul/homes/jshi008/IvyProjects/ICLR/02MQRNN/util.py:57: RuntimeWarning: divide by zero encountered in true_divide\n",
      "  return np.mean(np.abs((ytrue - ypred) / ytrue))\n",
      "/aul/homes/jshi008/IvyProjects/ICLR/02MQRNN/util.py:57: RuntimeWarning: divide by zero encountered in true_divide\n",
      "  return np.mean(np.abs((ytrue - ypred) / ytrue))\n",
      "/aul/homes/jshi008/IvyProjects/ICLR/02MQRNN/util.py:57: RuntimeWarning: divide by zero encountered in true_divide\n",
      "  return np.mean(np.abs((ytrue - ypred) / ytrue))\n",
      "/aul/homes/jshi008/IvyProjects/ICLR/02MQRNN/util.py:57: RuntimeWarning: divide by zero encountered in true_divide\n",
      "  return np.mean(np.abs((ytrue - ypred) / ytrue))\n"
     ]
    },
    {
     "name": "stdout",
     "output_type": "stream",
     "text": [
      "Prediction: 136\n",
      "Prediction: 137\n",
      "Prediction: 138\n"
     ]
    },
    {
     "name": "stderr",
     "output_type": "stream",
     "text": [
      "/aul/homes/jshi008/IvyProjects/ICLR/02MQRNN/util.py:57: RuntimeWarning: divide by zero encountered in true_divide\n",
      "  return np.mean(np.abs((ytrue - ypred) / ytrue))\n",
      "/aul/homes/jshi008/IvyProjects/ICLR/02MQRNN/util.py:57: RuntimeWarning: divide by zero encountered in true_divide\n",
      "  return np.mean(np.abs((ytrue - ypred) / ytrue))\n"
     ]
    },
    {
     "name": "stdout",
     "output_type": "stream",
     "text": [
      "Prediction: 139\n",
      "Prediction: 140\n"
     ]
    },
    {
     "name": "stderr",
     "output_type": "stream",
     "text": [
      "/aul/homes/jshi008/IvyProjects/ICLR/02MQRNN/util.py:57: RuntimeWarning: divide by zero encountered in true_divide\n",
      "  return np.mean(np.abs((ytrue - ypred) / ytrue))\n",
      "/aul/homes/jshi008/IvyProjects/ICLR/02MQRNN/util.py:57: RuntimeWarning: divide by zero encountered in true_divide\n",
      "  return np.mean(np.abs((ytrue - ypred) / ytrue))\n",
      "/aul/homes/jshi008/IvyProjects/ICLR/02MQRNN/util.py:57: RuntimeWarning: divide by zero encountered in true_divide\n",
      "  return np.mean(np.abs((ytrue - ypred) / ytrue))\n",
      "/aul/homes/jshi008/IvyProjects/ICLR/02MQRNN/util.py:57: RuntimeWarning: divide by zero encountered in true_divide\n",
      "  return np.mean(np.abs((ytrue - ypred) / ytrue))\n",
      "/aul/homes/jshi008/IvyProjects/ICLR/02MQRNN/util.py:57: RuntimeWarning: divide by zero encountered in true_divide\n",
      "  return np.mean(np.abs((ytrue - ypred) / ytrue))\n"
     ]
    },
    {
     "name": "stdout",
     "output_type": "stream",
     "text": [
      "Prediction: 141\n",
      "Prediction: 142\n",
      "Prediction: 143\n",
      "Prediction: 144\n",
      "Prediction: 145\n"
     ]
    },
    {
     "name": "stderr",
     "output_type": "stream",
     "text": [
      "/aul/homes/jshi008/IvyProjects/ICLR/02MQRNN/util.py:57: RuntimeWarning: divide by zero encountered in true_divide\n",
      "  return np.mean(np.abs((ytrue - ypred) / ytrue))\n",
      "/aul/homes/jshi008/IvyProjects/ICLR/02MQRNN/util.py:57: RuntimeWarning: divide by zero encountered in true_divide\n",
      "  return np.mean(np.abs((ytrue - ypred) / ytrue))\n",
      "/aul/homes/jshi008/IvyProjects/ICLR/02MQRNN/util.py:57: RuntimeWarning: divide by zero encountered in true_divide\n",
      "  return np.mean(np.abs((ytrue - ypred) / ytrue))\n",
      "/aul/homes/jshi008/IvyProjects/ICLR/02MQRNN/util.py:57: RuntimeWarning: divide by zero encountered in true_divide\n",
      "  return np.mean(np.abs((ytrue - ypred) / ytrue))\n"
     ]
    },
    {
     "name": "stdout",
     "output_type": "stream",
     "text": [
      "Prediction: 146\n",
      "Prediction: 147\n",
      "Prediction: 148\n",
      "Prediction: 149\n"
     ]
    },
    {
     "name": "stderr",
     "output_type": "stream",
     "text": [
      "/aul/homes/jshi008/IvyProjects/ICLR/02MQRNN/util.py:57: RuntimeWarning: divide by zero encountered in true_divide\n",
      "  return np.mean(np.abs((ytrue - ypred) / ytrue))\n",
      "/aul/homes/jshi008/IvyProjects/ICLR/02MQRNN/util.py:57: RuntimeWarning: divide by zero encountered in true_divide\n",
      "  return np.mean(np.abs((ytrue - ypred) / ytrue))\n",
      "/aul/homes/jshi008/IvyProjects/ICLR/02MQRNN/util.py:57: RuntimeWarning: divide by zero encountered in true_divide\n",
      "  return np.mean(np.abs((ytrue - ypred) / ytrue))\n"
     ]
    },
    {
     "name": "stdout",
     "output_type": "stream",
     "text": [
      "Prediction: 150\n",
      "Prediction: 151\n",
      "Prediction: 152\n"
     ]
    },
    {
     "name": "stderr",
     "output_type": "stream",
     "text": [
      "/aul/homes/jshi008/IvyProjects/ICLR/02MQRNN/util.py:57: RuntimeWarning: divide by zero encountered in true_divide\n",
      "  return np.mean(np.abs((ytrue - ypred) / ytrue))\n",
      "/aul/homes/jshi008/IvyProjects/ICLR/02MQRNN/util.py:57: RuntimeWarning: divide by zero encountered in true_divide\n",
      "  return np.mean(np.abs((ytrue - ypred) / ytrue))\n",
      "/aul/homes/jshi008/IvyProjects/ICLR/02MQRNN/util.py:57: RuntimeWarning: divide by zero encountered in true_divide\n",
      "  return np.mean(np.abs((ytrue - ypred) / ytrue))\n",
      "/aul/homes/jshi008/IvyProjects/ICLR/02MQRNN/util.py:57: RuntimeWarning: divide by zero encountered in true_divide\n",
      "  return np.mean(np.abs((ytrue - ypred) / ytrue))\n"
     ]
    },
    {
     "name": "stdout",
     "output_type": "stream",
     "text": [
      "Prediction: 153\n",
      "Prediction: 154\n",
      "Prediction: 155\n",
      "Prediction: 156\n"
     ]
    },
    {
     "name": "stderr",
     "output_type": "stream",
     "text": [
      "/aul/homes/jshi008/IvyProjects/ICLR/02MQRNN/util.py:57: RuntimeWarning: divide by zero encountered in true_divide\n",
      "  return np.mean(np.abs((ytrue - ypred) / ytrue))\n",
      "/aul/homes/jshi008/IvyProjects/ICLR/02MQRNN/util.py:57: RuntimeWarning: divide by zero encountered in true_divide\n",
      "  return np.mean(np.abs((ytrue - ypred) / ytrue))\n"
     ]
    },
    {
     "name": "stdout",
     "output_type": "stream",
     "text": [
      "Prediction: 157\n",
      "Prediction: 158\n",
      "Prediction: 159\n",
      "Prediction: 160\n",
      "Prediction: 161\n",
      "Prediction: 162\n",
      "Prediction: 163\n",
      "Prediction: 164\n",
      "Prediction: 165\n",
      "Prediction: 166\n",
      "Prediction: 167\n",
      "Prediction: 168\n"
     ]
    },
    {
     "name": "stderr",
     "output_type": "stream",
     "text": [
      "/aul/homes/jshi008/IvyProjects/ICLR/02MQRNN/util.py:57: RuntimeWarning: divide by zero encountered in true_divide\n",
      "  return np.mean(np.abs((ytrue - ypred) / ytrue))\n",
      "/aul/homes/jshi008/IvyProjects/ICLR/02MQRNN/util.py:57: RuntimeWarning: divide by zero encountered in true_divide\n",
      "  return np.mean(np.abs((ytrue - ypred) / ytrue))\n",
      "/aul/homes/jshi008/IvyProjects/ICLR/02MQRNN/util.py:57: RuntimeWarning: divide by zero encountered in true_divide\n",
      "  return np.mean(np.abs((ytrue - ypred) / ytrue))\n",
      "/aul/homes/jshi008/IvyProjects/ICLR/02MQRNN/util.py:57: RuntimeWarning: divide by zero encountered in true_divide\n",
      "  return np.mean(np.abs((ytrue - ypred) / ytrue))\n"
     ]
    },
    {
     "name": "stdout",
     "output_type": "stream",
     "text": [
      "Prediction: 169\n",
      "Prediction: 170\n",
      "Prediction: 171\n",
      "Prediction: 172\n"
     ]
    },
    {
     "name": "stderr",
     "output_type": "stream",
     "text": [
      "/aul/homes/jshi008/IvyProjects/ICLR/02MQRNN/util.py:57: RuntimeWarning: divide by zero encountered in true_divide\n",
      "  return np.mean(np.abs((ytrue - ypred) / ytrue))\n",
      "/aul/homes/jshi008/IvyProjects/ICLR/02MQRNN/util.py:57: RuntimeWarning: divide by zero encountered in true_divide\n",
      "  return np.mean(np.abs((ytrue - ypred) / ytrue))\n",
      "/aul/homes/jshi008/IvyProjects/ICLR/02MQRNN/util.py:57: RuntimeWarning: divide by zero encountered in true_divide\n",
      "  return np.mean(np.abs((ytrue - ypred) / ytrue))\n",
      "/aul/homes/jshi008/IvyProjects/ICLR/02MQRNN/util.py:57: RuntimeWarning: divide by zero encountered in true_divide\n",
      "  return np.mean(np.abs((ytrue - ypred) / ytrue))\n"
     ]
    },
    {
     "name": "stdout",
     "output_type": "stream",
     "text": [
      "Prediction: 173\n",
      "Prediction: 174\n",
      "Prediction: 175\n",
      "Prediction: 176\n"
     ]
    },
    {
     "name": "stderr",
     "output_type": "stream",
     "text": [
      "/aul/homes/jshi008/IvyProjects/ICLR/02MQRNN/util.py:57: RuntimeWarning: divide by zero encountered in true_divide\n",
      "  return np.mean(np.abs((ytrue - ypred) / ytrue))\n",
      "/aul/homes/jshi008/IvyProjects/ICLR/02MQRNN/util.py:57: RuntimeWarning: divide by zero encountered in true_divide\n",
      "  return np.mean(np.abs((ytrue - ypred) / ytrue))\n",
      "/aul/homes/jshi008/IvyProjects/ICLR/02MQRNN/util.py:57: RuntimeWarning: divide by zero encountered in true_divide\n",
      "  return np.mean(np.abs((ytrue - ypred) / ytrue))\n",
      "/aul/homes/jshi008/IvyProjects/ICLR/02MQRNN/util.py:57: RuntimeWarning: divide by zero encountered in true_divide\n",
      "  return np.mean(np.abs((ytrue - ypred) / ytrue))\n"
     ]
    },
    {
     "name": "stdout",
     "output_type": "stream",
     "text": [
      "Prediction: 177\n",
      "Prediction: 178\n",
      "Prediction: 179\n",
      "Prediction: 180\n"
     ]
    },
    {
     "name": "stderr",
     "output_type": "stream",
     "text": [
      "/aul/homes/jshi008/IvyProjects/ICLR/02MQRNN/util.py:57: RuntimeWarning: divide by zero encountered in true_divide\n",
      "  return np.mean(np.abs((ytrue - ypred) / ytrue))\n",
      "/aul/homes/jshi008/IvyProjects/ICLR/02MQRNN/util.py:57: RuntimeWarning: divide by zero encountered in true_divide\n",
      "  return np.mean(np.abs((ytrue - ypred) / ytrue))\n",
      "/aul/homes/jshi008/IvyProjects/ICLR/02MQRNN/util.py:57: RuntimeWarning: divide by zero encountered in true_divide\n",
      "  return np.mean(np.abs((ytrue - ypred) / ytrue))\n",
      "/aul/homes/jshi008/IvyProjects/ICLR/02MQRNN/util.py:57: RuntimeWarning: divide by zero encountered in true_divide\n",
      "  return np.mean(np.abs((ytrue - ypred) / ytrue))\n",
      "/aul/homes/jshi008/IvyProjects/ICLR/02MQRNN/util.py:57: RuntimeWarning: divide by zero encountered in true_divide\n",
      "  return np.mean(np.abs((ytrue - ypred) / ytrue))\n"
     ]
    },
    {
     "name": "stdout",
     "output_type": "stream",
     "text": [
      "Prediction: 181\n",
      "Prediction: 182\n",
      "Prediction: 183\n",
      "Prediction: 184\n"
     ]
    },
    {
     "name": "stderr",
     "output_type": "stream",
     "text": [
      "/aul/homes/jshi008/IvyProjects/ICLR/02MQRNN/util.py:57: RuntimeWarning: divide by zero encountered in true_divide\n",
      "  return np.mean(np.abs((ytrue - ypred) / ytrue))\n",
      "/aul/homes/jshi008/IvyProjects/ICLR/02MQRNN/util.py:57: RuntimeWarning: divide by zero encountered in true_divide\n",
      "  return np.mean(np.abs((ytrue - ypred) / ytrue))\n",
      "/aul/homes/jshi008/IvyProjects/ICLR/02MQRNN/util.py:57: RuntimeWarning: divide by zero encountered in true_divide\n",
      "  return np.mean(np.abs((ytrue - ypred) / ytrue))\n",
      "/aul/homes/jshi008/IvyProjects/ICLR/02MQRNN/util.py:57: RuntimeWarning: divide by zero encountered in true_divide\n",
      "  return np.mean(np.abs((ytrue - ypred) / ytrue))\n",
      "/aul/homes/jshi008/IvyProjects/ICLR/02MQRNN/util.py:57: RuntimeWarning: divide by zero encountered in true_divide\n",
      "  return np.mean(np.abs((ytrue - ypred) / ytrue))\n"
     ]
    },
    {
     "name": "stdout",
     "output_type": "stream",
     "text": [
      "Prediction: 185\n",
      "Prediction: 186\n",
      "Prediction: 187\n",
      "Prediction: 188\n",
      "Prediction: 189\n"
     ]
    },
    {
     "name": "stderr",
     "output_type": "stream",
     "text": [
      "/aul/homes/jshi008/IvyProjects/ICLR/02MQRNN/util.py:57: RuntimeWarning: divide by zero encountered in true_divide\n",
      "  return np.mean(np.abs((ytrue - ypred) / ytrue))\n",
      "/aul/homes/jshi008/IvyProjects/ICLR/02MQRNN/util.py:57: RuntimeWarning: divide by zero encountered in true_divide\n",
      "  return np.mean(np.abs((ytrue - ypred) / ytrue))\n",
      "/aul/homes/jshi008/IvyProjects/ICLR/02MQRNN/util.py:57: RuntimeWarning: divide by zero encountered in true_divide\n",
      "  return np.mean(np.abs((ytrue - ypred) / ytrue))\n"
     ]
    },
    {
     "name": "stdout",
     "output_type": "stream",
     "text": [
      "Prediction: 190\n",
      "Prediction: 191\n",
      "Prediction: 192\n"
     ]
    },
    {
     "name": "stderr",
     "output_type": "stream",
     "text": [
      "/aul/homes/jshi008/IvyProjects/ICLR/02MQRNN/util.py:57: RuntimeWarning: divide by zero encountered in true_divide\n",
      "  return np.mean(np.abs((ytrue - ypred) / ytrue))\n",
      "/aul/homes/jshi008/IvyProjects/ICLR/02MQRNN/util.py:57: RuntimeWarning: divide by zero encountered in true_divide\n",
      "  return np.mean(np.abs((ytrue - ypred) / ytrue))\n",
      "/aul/homes/jshi008/IvyProjects/ICLR/02MQRNN/util.py:57: RuntimeWarning: divide by zero encountered in true_divide\n",
      "  return np.mean(np.abs((ytrue - ypred) / ytrue))\n"
     ]
    },
    {
     "name": "stdout",
     "output_type": "stream",
     "text": [
      "Prediction: 193\n",
      "Prediction: 194\n",
      "Prediction: 195\n"
     ]
    },
    {
     "name": "stderr",
     "output_type": "stream",
     "text": [
      "/aul/homes/jshi008/IvyProjects/ICLR/02MQRNN/util.py:57: RuntimeWarning: divide by zero encountered in true_divide\n",
      "  return np.mean(np.abs((ytrue - ypred) / ytrue))\n",
      "/aul/homes/jshi008/IvyProjects/ICLR/02MQRNN/util.py:57: RuntimeWarning: divide by zero encountered in true_divide\n",
      "  return np.mean(np.abs((ytrue - ypred) / ytrue))\n",
      "/aul/homes/jshi008/IvyProjects/ICLR/02MQRNN/util.py:57: RuntimeWarning: divide by zero encountered in true_divide\n",
      "  return np.mean(np.abs((ytrue - ypred) / ytrue))\n"
     ]
    },
    {
     "name": "stdout",
     "output_type": "stream",
     "text": [
      "Prediction: 196\n",
      "Prediction: 197\n",
      "Prediction: 198\n"
     ]
    },
    {
     "name": "stderr",
     "output_type": "stream",
     "text": [
      "/aul/homes/jshi008/IvyProjects/ICLR/02MQRNN/util.py:57: RuntimeWarning: divide by zero encountered in true_divide\n",
      "  return np.mean(np.abs((ytrue - ypred) / ytrue))\n",
      "/aul/homes/jshi008/IvyProjects/ICLR/02MQRNN/util.py:57: RuntimeWarning: divide by zero encountered in true_divide\n",
      "  return np.mean(np.abs((ytrue - ypred) / ytrue))\n",
      "/aul/homes/jshi008/IvyProjects/ICLR/02MQRNN/util.py:57: RuntimeWarning: divide by zero encountered in true_divide\n",
      "  return np.mean(np.abs((ytrue - ypred) / ytrue))\n"
     ]
    },
    {
     "name": "stdout",
     "output_type": "stream",
     "text": [
      "Prediction: 199\n",
      "Prediction: 200\n",
      "Prediction: 201\n"
     ]
    },
    {
     "name": "stderr",
     "output_type": "stream",
     "text": [
      "/aul/homes/jshi008/IvyProjects/ICLR/02MQRNN/util.py:57: RuntimeWarning: divide by zero encountered in true_divide\n",
      "  return np.mean(np.abs((ytrue - ypred) / ytrue))\n",
      "/aul/homes/jshi008/IvyProjects/ICLR/02MQRNN/util.py:57: RuntimeWarning: divide by zero encountered in true_divide\n",
      "  return np.mean(np.abs((ytrue - ypred) / ytrue))\n"
     ]
    },
    {
     "name": "stdout",
     "output_type": "stream",
     "text": [
      "Prediction: 202\n",
      "Prediction: 203\n"
     ]
    },
    {
     "name": "stderr",
     "output_type": "stream",
     "text": [
      "/aul/homes/jshi008/IvyProjects/ICLR/02MQRNN/util.py:57: RuntimeWarning: divide by zero encountered in true_divide\n",
      "  return np.mean(np.abs((ytrue - ypred) / ytrue))\n",
      "/aul/homes/jshi008/IvyProjects/ICLR/02MQRNN/util.py:57: RuntimeWarning: divide by zero encountered in true_divide\n",
      "  return np.mean(np.abs((ytrue - ypred) / ytrue))\n",
      "/aul/homes/jshi008/IvyProjects/ICLR/02MQRNN/util.py:57: RuntimeWarning: divide by zero encountered in true_divide\n",
      "  return np.mean(np.abs((ytrue - ypred) / ytrue))\n",
      "/aul/homes/jshi008/IvyProjects/ICLR/02MQRNN/util.py:57: RuntimeWarning: divide by zero encountered in true_divide\n",
      "  return np.mean(np.abs((ytrue - ypred) / ytrue))\n",
      "/aul/homes/jshi008/IvyProjects/ICLR/02MQRNN/util.py:57: RuntimeWarning: divide by zero encountered in true_divide\n",
      "  return np.mean(np.abs((ytrue - ypred) / ytrue))\n"
     ]
    },
    {
     "name": "stdout",
     "output_type": "stream",
     "text": [
      "Prediction: 204\n",
      "Prediction: 205\n",
      "Prediction: 206\n",
      "Prediction: 207\n",
      "Prediction: 208\n"
     ]
    },
    {
     "name": "stderr",
     "output_type": "stream",
     "text": [
      "/aul/homes/jshi008/IvyProjects/ICLR/02MQRNN/util.py:57: RuntimeWarning: divide by zero encountered in true_divide\n",
      "  return np.mean(np.abs((ytrue - ypred) / ytrue))\n",
      "/aul/homes/jshi008/IvyProjects/ICLR/02MQRNN/util.py:57: RuntimeWarning: divide by zero encountered in true_divide\n",
      "  return np.mean(np.abs((ytrue - ypred) / ytrue))\n",
      "/aul/homes/jshi008/IvyProjects/ICLR/02MQRNN/util.py:57: RuntimeWarning: divide by zero encountered in true_divide\n",
      "  return np.mean(np.abs((ytrue - ypred) / ytrue))\n"
     ]
    },
    {
     "name": "stdout",
     "output_type": "stream",
     "text": [
      "Prediction: 209\n",
      "Prediction: 210\n",
      "Prediction: 211\n"
     ]
    },
    {
     "name": "stderr",
     "output_type": "stream",
     "text": [
      "/aul/homes/jshi008/IvyProjects/ICLR/02MQRNN/util.py:57: RuntimeWarning: divide by zero encountered in true_divide\n",
      "  return np.mean(np.abs((ytrue - ypred) / ytrue))\n",
      "/aul/homes/jshi008/IvyProjects/ICLR/02MQRNN/util.py:57: RuntimeWarning: divide by zero encountered in true_divide\n",
      "  return np.mean(np.abs((ytrue - ypred) / ytrue))\n",
      "/aul/homes/jshi008/IvyProjects/ICLR/02MQRNN/util.py:57: RuntimeWarning: divide by zero encountered in true_divide\n",
      "  return np.mean(np.abs((ytrue - ypred) / ytrue))\n"
     ]
    },
    {
     "name": "stdout",
     "output_type": "stream",
     "text": [
      "Prediction: 212\n",
      "Prediction: 213\n",
      "Prediction: 214\n",
      "Prediction: 215\n",
      "Prediction: 216\n",
      "Prediction: 217\n",
      "Prediction: 218\n",
      "Prediction: 219\n",
      "Prediction: 220\n",
      "Prediction: 221\n",
      "Prediction: 222\n",
      "Prediction: 223\n",
      "Prediction: 224\n",
      "Prediction: 225\n",
      "Prediction: 226\n",
      "Prediction: 227\n",
      "Prediction: 228\n",
      "Prediction: 229\n",
      "Prediction: 230\n",
      "Prediction: 231\n",
      "Prediction: 232\n",
      "Prediction: 233\n",
      "Prediction: 234\n",
      "Prediction: 235\n",
      "Prediction: 236\n",
      "Prediction: 237\n",
      "Prediction: 238\n",
      "Prediction: 239\n",
      "Prediction: 240\n",
      "Prediction: 241\n",
      "Prediction: 242\n",
      "Prediction: 243\n",
      "Prediction: 244\n",
      "Prediction: 245\n",
      "Prediction: 246\n",
      "Prediction: 247\n",
      "Prediction: 248\n",
      "Prediction: 249\n",
      "Prediction: 250\n",
      "Prediction: 251\n",
      "Prediction: 252\n",
      "Prediction: 253\n",
      "Prediction: 254\n",
      "Prediction: 255\n",
      "Prediction: 256\n",
      "Prediction: 257\n",
      "Prediction: 258\n",
      "Prediction: 259\n",
      "Prediction: 260\n",
      "Prediction: 261\n",
      "Prediction: 262\n",
      "Prediction: 263\n",
      "Prediction: 264\n",
      "Prediction: 265\n",
      "Prediction: 266\n",
      "Prediction: 267\n",
      "Prediction: 268\n",
      "Prediction: 269\n",
      "Prediction: 270\n",
      "Prediction: 271\n",
      "Prediction: 272\n",
      "Prediction: 273\n",
      "Prediction: 274\n",
      "Prediction: 275\n",
      "Prediction: 276\n",
      "Prediction: 277\n",
      "Prediction: 278\n",
      "Prediction: 279\n",
      "Prediction: 280\n",
      "Prediction: 281\n",
      "Prediction: 282\n",
      "Prediction: 283\n",
      "Prediction: 284\n",
      "Prediction: 285\n",
      "Prediction: 286\n",
      "Prediction: 287\n",
      "Prediction: 288\n",
      "Prediction: 289\n",
      "Prediction: 290\n",
      "Prediction: 291\n",
      "Prediction: 292\n",
      "Prediction: 293\n",
      "Prediction: 294\n",
      "Prediction: 295\n",
      "Prediction: 296\n",
      "Prediction: 297\n",
      "Prediction: 298\n",
      "Prediction: 299\n",
      "Prediction: 300\n",
      "Prediction: 301\n",
      "Prediction: 302\n",
      "Prediction: 303\n",
      "Prediction: 304\n",
      "Prediction: 305\n",
      "Prediction: 306\n",
      "Prediction: 307\n",
      "Prediction: 308\n",
      "Prediction: 309\n",
      "Prediction: 310\n",
      "Prediction: 311\n",
      "Prediction: 312\n",
      "Prediction: 313\n",
      "Prediction: 314\n",
      "Prediction: 315\n",
      "Prediction: 316\n",
      "Prediction: 317\n",
      "Prediction: 318\n",
      "Prediction: 319\n",
      "Prediction: 320\n",
      "Prediction: 321\n",
      "Prediction: 322\n",
      "Prediction: 323\n",
      "Prediction: 324\n",
      "Prediction: 325\n",
      "Prediction: 326\n",
      "Prediction: 327\n",
      "Prediction: 328\n",
      "Prediction: 329\n",
      "Prediction: 330\n",
      "Prediction: 331\n",
      "Prediction: 332\n",
      "Prediction: 333\n",
      "Prediction: 334\n",
      "Prediction: 335\n",
      "Prediction: 336\n",
      "Prediction: 337\n",
      "Prediction: 338\n",
      "Prediction: 339\n",
      "Prediction: 340\n",
      "Prediction: 341\n",
      "Prediction: 342\n",
      "Prediction: 343\n",
      "Prediction: 344\n",
      "Prediction: 345\n",
      "Prediction: 346\n",
      "Prediction: 347\n",
      "Prediction: 348\n",
      "Prediction: 349\n",
      "Prediction: 350\n",
      "Prediction: 351\n",
      "Prediction: 352\n",
      "Prediction: 353\n",
      "Prediction: 354\n",
      "Prediction: 355\n",
      "Prediction: 356\n",
      "Prediction: 357\n",
      "Prediction: 358\n",
      "Prediction: 359\n",
      "Prediction: 360\n",
      "Prediction: 361\n",
      "Prediction: 362\n",
      "Prediction: 363\n",
      "Prediction: 364\n",
      "Prediction: 365\n",
      "Prediction: 366\n",
      "Prediction: 367\n",
      "Prediction: 368\n",
      "Prediction: 369\n",
      "Prediction: 370\n",
      "Prediction: 371\n",
      "Prediction: 372\n",
      "Prediction: 373\n",
      "Prediction: 374\n",
      "Prediction: 375\n",
      "Prediction: 376\n",
      "Prediction: 377\n",
      "Prediction: 378\n",
      "Prediction: 379\n",
      "Prediction: 380\n",
      "Prediction: 381\n",
      "Prediction: 382\n",
      "Prediction: 383\n",
      "Prediction: 384\n",
      "Prediction: 385\n",
      "Prediction: 386\n",
      "Prediction: 387\n",
      "Prediction: 388\n",
      "Prediction: 389\n",
      "Prediction: 390\n",
      "Prediction: 391\n",
      "Prediction: 392\n",
      "Prediction: 393\n",
      "Prediction: 394\n",
      "Prediction: 395\n",
      "Prediction: 396\n",
      "Prediction: 397\n",
      "Prediction: 398\n",
      "Prediction: 399\n",
      "Prediction: 400\n",
      "Prediction: 401\n",
      "Prediction: 402\n",
      "Prediction: 403\n",
      "Prediction: 404\n",
      "Prediction: 405\n",
      "Prediction: 406\n",
      "Prediction: 407\n",
      "Prediction: 408\n",
      "Prediction: 409\n",
      "Prediction: 410\n",
      "Prediction: 411\n",
      "Prediction: 412\n",
      "Prediction: 413\n",
      "Prediction: 414\n",
      "Prediction: 415\n",
      "Prediction: 416\n",
      "Prediction: 417\n",
      "Prediction: 418\n",
      "Prediction: 419\n",
      "Prediction: 420\n",
      "Prediction: 421\n",
      "Prediction: 422\n",
      "Prediction: 423\n",
      "Prediction: 424\n",
      "Prediction: 425\n",
      "Prediction: 426\n",
      "Prediction: 427\n",
      "Prediction: 428\n",
      "Prediction: 429\n",
      "Prediction: 430\n",
      "Prediction: 431\n",
      "Prediction: 432\n",
      "Prediction: 433\n",
      "Prediction: 434\n",
      "Prediction: 435\n",
      "Prediction: 436\n",
      "Prediction: 437\n",
      "Prediction: 438\n",
      "Prediction: 439\n",
      "Prediction: 440\n",
      "Prediction: 441\n",
      "Prediction: 442\n",
      "Prediction: 443\n",
      "Prediction: 444\n",
      "Prediction: 445\n",
      "Prediction: 446\n",
      "Prediction: 447\n",
      "Prediction: 448\n",
      "Prediction: 449\n",
      "Prediction: 450\n",
      "Prediction: 451\n",
      "Prediction: 452\n",
      "Prediction: 453\n",
      "Prediction: 454\n",
      "Prediction: 455\n",
      "Prediction: 456\n",
      "Prediction: 457\n",
      "Prediction: 458\n",
      "Prediction: 459\n",
      "Prediction: 460\n",
      "Prediction: 461\n",
      "Prediction: 462\n",
      "Prediction: 463\n",
      "Prediction: 464\n",
      "Prediction: 465\n",
      "Prediction: 466\n",
      "Prediction: 467\n",
      "Prediction: 468\n",
      "Prediction: 469\n",
      "Prediction: 470\n",
      "Prediction: 471\n",
      "Prediction: 472\n",
      "Prediction: 473\n",
      "Prediction: 474\n",
      "Prediction: 475\n",
      "Prediction: 476\n",
      "Prediction: 477\n",
      "Prediction: 478\n",
      "Prediction: 479\n",
      "Prediction: 480\n",
      "Prediction: 481\n",
      "Prediction: 482\n",
      "Prediction: 483\n",
      "Prediction: 484\n",
      "Prediction: 485\n",
      "Prediction: 486\n",
      "Prediction: 487\n",
      "Prediction: 488\n",
      "Prediction: 489\n",
      "Prediction: 490\n",
      "Prediction: 491\n",
      "Prediction: 492\n",
      "Prediction: 493\n",
      "Prediction: 494\n",
      "Prediction: 495\n",
      "Prediction: 496\n",
      "Prediction: 497\n",
      "Prediction: 498\n",
      "Prediction: 499\n",
      "Prediction: 500\n",
      "Prediction: 501\n",
      "Prediction: 502\n",
      "Prediction: 503\n",
      "Prediction: 504\n",
      "Prediction: 505\n",
      "Prediction: 506\n",
      "Prediction: 507\n",
      "Prediction: 508\n",
      "Prediction: 509\n",
      "Prediction: 510\n",
      "Prediction: 511\n",
      "Prediction: 512\n",
      "Prediction: 513\n",
      "Prediction: 514\n",
      "Prediction: 515\n",
      "Prediction: 516\n",
      "Prediction: 517\n",
      "Prediction: 518\n",
      "Prediction: 519\n",
      "Prediction: 520\n",
      "Prediction: 521\n",
      "Prediction: 522\n",
      "Prediction: 523\n",
      "Prediction: 524\n",
      "Prediction: 525\n",
      "Prediction: 526\n",
      "Prediction: 527\n",
      "Prediction: 528\n",
      "Prediction: 529\n",
      "Prediction: 530\n",
      "Prediction: 531\n",
      "Prediction: 532\n",
      "Prediction: 533\n",
      "Prediction: 534\n",
      "Prediction: 535\n",
      "Prediction: 536\n",
      "Prediction: 537\n",
      "Prediction: 538\n",
      "Prediction: 539\n",
      "Prediction: 540\n"
     ]
    },
    {
     "name": "stderr",
     "output_type": "stream",
     "text": [
      "/aul/homes/jshi008/IvyProjects/ICLR/02MQRNN/util.py:57: RuntimeWarning: divide by zero encountered in true_divide\n",
      "  return np.mean(np.abs((ytrue - ypred) / ytrue))\n",
      "/aul/homes/jshi008/IvyProjects/ICLR/02MQRNN/util.py:57: RuntimeWarning: divide by zero encountered in true_divide\n",
      "  return np.mean(np.abs((ytrue - ypred) / ytrue))\n",
      "/aul/homes/jshi008/IvyProjects/ICLR/02MQRNN/util.py:57: RuntimeWarning: divide by zero encountered in true_divide\n",
      "  return np.mean(np.abs((ytrue - ypred) / ytrue))\n",
      "/aul/homes/jshi008/IvyProjects/ICLR/02MQRNN/util.py:57: RuntimeWarning: divide by zero encountered in true_divide\n",
      "  return np.mean(np.abs((ytrue - ypred) / ytrue))\n"
     ]
    },
    {
     "name": "stdout",
     "output_type": "stream",
     "text": [
      "Prediction: 541\n",
      "Prediction: 542\n",
      "Prediction: 543\n"
     ]
    },
    {
     "name": "stderr",
     "output_type": "stream",
     "text": [
      "/aul/homes/jshi008/IvyProjects/ICLR/02MQRNN/util.py:57: RuntimeWarning: divide by zero encountered in true_divide\n",
      "  return np.mean(np.abs((ytrue - ypred) / ytrue))\n",
      "/aul/homes/jshi008/IvyProjects/ICLR/02MQRNN/util.py:57: RuntimeWarning: divide by zero encountered in true_divide\n",
      "  return np.mean(np.abs((ytrue - ypred) / ytrue))\n",
      "/aul/homes/jshi008/IvyProjects/ICLR/02MQRNN/util.py:57: RuntimeWarning: divide by zero encountered in true_divide\n",
      "  return np.mean(np.abs((ytrue - ypred) / ytrue))\n"
     ]
    },
    {
     "name": "stdout",
     "output_type": "stream",
     "text": [
      "Prediction: 544\n",
      "Prediction: 545\n",
      "Prediction: 546\n"
     ]
    },
    {
     "name": "stderr",
     "output_type": "stream",
     "text": [
      "/aul/homes/jshi008/IvyProjects/ICLR/02MQRNN/util.py:57: RuntimeWarning: divide by zero encountered in true_divide\n",
      "  return np.mean(np.abs((ytrue - ypred) / ytrue))\n",
      "/aul/homes/jshi008/IvyProjects/ICLR/02MQRNN/util.py:57: RuntimeWarning: divide by zero encountered in true_divide\n",
      "  return np.mean(np.abs((ytrue - ypred) / ytrue))\n",
      "/aul/homes/jshi008/IvyProjects/ICLR/02MQRNN/util.py:57: RuntimeWarning: divide by zero encountered in true_divide\n",
      "  return np.mean(np.abs((ytrue - ypred) / ytrue))\n",
      "/aul/homes/jshi008/IvyProjects/ICLR/02MQRNN/util.py:57: RuntimeWarning: divide by zero encountered in true_divide\n",
      "  return np.mean(np.abs((ytrue - ypred) / ytrue))\n",
      "/aul/homes/jshi008/IvyProjects/ICLR/02MQRNN/util.py:57: RuntimeWarning: divide by zero encountered in true_divide\n",
      "  return np.mean(np.abs((ytrue - ypred) / ytrue))\n"
     ]
    },
    {
     "name": "stdout",
     "output_type": "stream",
     "text": [
      "Prediction: 547\n",
      "Prediction: 548\n",
      "Prediction: 549\n",
      "Prediction: 550\n",
      "Prediction: 551\n"
     ]
    },
    {
     "name": "stderr",
     "output_type": "stream",
     "text": [
      "/aul/homes/jshi008/IvyProjects/ICLR/02MQRNN/util.py:57: RuntimeWarning: divide by zero encountered in true_divide\n",
      "  return np.mean(np.abs((ytrue - ypred) / ytrue))\n",
      "/aul/homes/jshi008/IvyProjects/ICLR/02MQRNN/util.py:57: RuntimeWarning: divide by zero encountered in true_divide\n",
      "  return np.mean(np.abs((ytrue - ypred) / ytrue))\n",
      "/aul/homes/jshi008/IvyProjects/ICLR/02MQRNN/util.py:57: RuntimeWarning: divide by zero encountered in true_divide\n",
      "  return np.mean(np.abs((ytrue - ypred) / ytrue))\n"
     ]
    },
    {
     "name": "stdout",
     "output_type": "stream",
     "text": [
      "Prediction: 552\n",
      "Prediction: 553\n",
      "Prediction: 554\n"
     ]
    },
    {
     "name": "stderr",
     "output_type": "stream",
     "text": [
      "/aul/homes/jshi008/IvyProjects/ICLR/02MQRNN/util.py:57: RuntimeWarning: divide by zero encountered in true_divide\n",
      "  return np.mean(np.abs((ytrue - ypred) / ytrue))\n",
      "/aul/homes/jshi008/IvyProjects/ICLR/02MQRNN/util.py:57: RuntimeWarning: divide by zero encountered in true_divide\n",
      "  return np.mean(np.abs((ytrue - ypred) / ytrue))\n"
     ]
    },
    {
     "name": "stdout",
     "output_type": "stream",
     "text": [
      "Prediction: 555\n",
      "Prediction: 556\n"
     ]
    },
    {
     "name": "stderr",
     "output_type": "stream",
     "text": [
      "/aul/homes/jshi008/IvyProjects/ICLR/02MQRNN/util.py:57: RuntimeWarning: divide by zero encountered in true_divide\n",
      "  return np.mean(np.abs((ytrue - ypred) / ytrue))\n",
      "/aul/homes/jshi008/IvyProjects/ICLR/02MQRNN/util.py:57: RuntimeWarning: divide by zero encountered in true_divide\n",
      "  return np.mean(np.abs((ytrue - ypred) / ytrue))\n",
      "/aul/homes/jshi008/IvyProjects/ICLR/02MQRNN/util.py:57: RuntimeWarning: divide by zero encountered in true_divide\n",
      "  return np.mean(np.abs((ytrue - ypred) / ytrue))\n"
     ]
    },
    {
     "name": "stdout",
     "output_type": "stream",
     "text": [
      "Prediction: 557\n",
      "Prediction: 558\n",
      "Prediction: 559\n"
     ]
    },
    {
     "name": "stderr",
     "output_type": "stream",
     "text": [
      "/aul/homes/jshi008/IvyProjects/ICLR/02MQRNN/util.py:57: RuntimeWarning: divide by zero encountered in true_divide\n",
      "  return np.mean(np.abs((ytrue - ypred) / ytrue))\n",
      "/aul/homes/jshi008/IvyProjects/ICLR/02MQRNN/util.py:57: RuntimeWarning: divide by zero encountered in true_divide\n",
      "  return np.mean(np.abs((ytrue - ypred) / ytrue))\n",
      "/aul/homes/jshi008/IvyProjects/ICLR/02MQRNN/util.py:57: RuntimeWarning: divide by zero encountered in true_divide\n",
      "  return np.mean(np.abs((ytrue - ypred) / ytrue))\n"
     ]
    },
    {
     "name": "stdout",
     "output_type": "stream",
     "text": [
      "Prediction: 560\n",
      "Prediction: 561\n",
      "Prediction: 562\n"
     ]
    },
    {
     "name": "stderr",
     "output_type": "stream",
     "text": [
      "/aul/homes/jshi008/IvyProjects/ICLR/02MQRNN/util.py:57: RuntimeWarning: divide by zero encountered in true_divide\n",
      "  return np.mean(np.abs((ytrue - ypred) / ytrue))\n",
      "/aul/homes/jshi008/IvyProjects/ICLR/02MQRNN/util.py:57: RuntimeWarning: divide by zero encountered in true_divide\n",
      "  return np.mean(np.abs((ytrue - ypred) / ytrue))\n",
      "/aul/homes/jshi008/IvyProjects/ICLR/02MQRNN/util.py:57: RuntimeWarning: divide by zero encountered in true_divide\n",
      "  return np.mean(np.abs((ytrue - ypred) / ytrue))\n"
     ]
    },
    {
     "name": "stdout",
     "output_type": "stream",
     "text": [
      "Prediction: 563\n",
      "Prediction: 564\n",
      "Prediction: 565\n"
     ]
    },
    {
     "name": "stderr",
     "output_type": "stream",
     "text": [
      "/aul/homes/jshi008/IvyProjects/ICLR/02MQRNN/util.py:57: RuntimeWarning: divide by zero encountered in true_divide\n",
      "  return np.mean(np.abs((ytrue - ypred) / ytrue))\n",
      "/aul/homes/jshi008/IvyProjects/ICLR/02MQRNN/util.py:57: RuntimeWarning: divide by zero encountered in true_divide\n",
      "  return np.mean(np.abs((ytrue - ypred) / ytrue))\n",
      "/aul/homes/jshi008/IvyProjects/ICLR/02MQRNN/util.py:57: RuntimeWarning: divide by zero encountered in true_divide\n",
      "  return np.mean(np.abs((ytrue - ypred) / ytrue))\n",
      "/aul/homes/jshi008/IvyProjects/ICLR/02MQRNN/util.py:57: RuntimeWarning: divide by zero encountered in true_divide\n",
      "  return np.mean(np.abs((ytrue - ypred) / ytrue))\n"
     ]
    },
    {
     "name": "stdout",
     "output_type": "stream",
     "text": [
      "Prediction: 566\n",
      "Prediction: 567\n",
      "Prediction: 568\n",
      "Prediction: 569\n"
     ]
    },
    {
     "name": "stderr",
     "output_type": "stream",
     "text": [
      "/aul/homes/jshi008/IvyProjects/ICLR/02MQRNN/util.py:57: RuntimeWarning: divide by zero encountered in true_divide\n",
      "  return np.mean(np.abs((ytrue - ypred) / ytrue))\n",
      "/aul/homes/jshi008/IvyProjects/ICLR/02MQRNN/util.py:57: RuntimeWarning: divide by zero encountered in true_divide\n",
      "  return np.mean(np.abs((ytrue - ypred) / ytrue))\n",
      "/aul/homes/jshi008/IvyProjects/ICLR/02MQRNN/util.py:57: RuntimeWarning: divide by zero encountered in true_divide\n",
      "  return np.mean(np.abs((ytrue - ypred) / ytrue))\n",
      "/aul/homes/jshi008/IvyProjects/ICLR/02MQRNN/util.py:57: RuntimeWarning: divide by zero encountered in true_divide\n",
      "  return np.mean(np.abs((ytrue - ypred) / ytrue))\n"
     ]
    },
    {
     "name": "stdout",
     "output_type": "stream",
     "text": [
      "Prediction: 570\n",
      "Prediction: 571\n",
      "Prediction: 572\n",
      "Prediction: 573\n"
     ]
    },
    {
     "name": "stderr",
     "output_type": "stream",
     "text": [
      "/aul/homes/jshi008/IvyProjects/ICLR/02MQRNN/util.py:57: RuntimeWarning: divide by zero encountered in true_divide\n",
      "  return np.mean(np.abs((ytrue - ypred) / ytrue))\n",
      "/aul/homes/jshi008/IvyProjects/ICLR/02MQRNN/util.py:57: RuntimeWarning: divide by zero encountered in true_divide\n",
      "  return np.mean(np.abs((ytrue - ypred) / ytrue))\n",
      "/aul/homes/jshi008/IvyProjects/ICLR/02MQRNN/util.py:57: RuntimeWarning: divide by zero encountered in true_divide\n",
      "  return np.mean(np.abs((ytrue - ypred) / ytrue))\n",
      "/aul/homes/jshi008/IvyProjects/ICLR/02MQRNN/util.py:57: RuntimeWarning: divide by zero encountered in true_divide\n",
      "  return np.mean(np.abs((ytrue - ypred) / ytrue))\n"
     ]
    },
    {
     "name": "stdout",
     "output_type": "stream",
     "text": [
      "Prediction: 574\n",
      "Prediction: 575\n",
      "Prediction: 576\n",
      "Prediction: 577\n"
     ]
    },
    {
     "name": "stderr",
     "output_type": "stream",
     "text": [
      "/aul/homes/jshi008/IvyProjects/ICLR/02MQRNN/util.py:57: RuntimeWarning: divide by zero encountered in true_divide\n",
      "  return np.mean(np.abs((ytrue - ypred) / ytrue))\n",
      "/aul/homes/jshi008/IvyProjects/ICLR/02MQRNN/util.py:57: RuntimeWarning: divide by zero encountered in true_divide\n",
      "  return np.mean(np.abs((ytrue - ypred) / ytrue))\n"
     ]
    },
    {
     "name": "stdout",
     "output_type": "stream",
     "text": [
      "Prediction: 578\n",
      "Prediction: 579\n"
     ]
    },
    {
     "name": "stderr",
     "output_type": "stream",
     "text": [
      "/aul/homes/jshi008/IvyProjects/ICLR/02MQRNN/util.py:57: RuntimeWarning: divide by zero encountered in true_divide\n",
      "  return np.mean(np.abs((ytrue - ypred) / ytrue))\n",
      "/aul/homes/jshi008/IvyProjects/ICLR/02MQRNN/util.py:57: RuntimeWarning: divide by zero encountered in true_divide\n",
      "  return np.mean(np.abs((ytrue - ypred) / ytrue))\n",
      "/aul/homes/jshi008/IvyProjects/ICLR/02MQRNN/util.py:57: RuntimeWarning: divide by zero encountered in true_divide\n",
      "  return np.mean(np.abs((ytrue - ypred) / ytrue))\n",
      "/aul/homes/jshi008/IvyProjects/ICLR/02MQRNN/util.py:57: RuntimeWarning: divide by zero encountered in true_divide\n",
      "  return np.mean(np.abs((ytrue - ypred) / ytrue))\n",
      "/aul/homes/jshi008/IvyProjects/ICLR/02MQRNN/util.py:57: RuntimeWarning: divide by zero encountered in true_divide\n",
      "  return np.mean(np.abs((ytrue - ypred) / ytrue))\n"
     ]
    },
    {
     "name": "stdout",
     "output_type": "stream",
     "text": [
      "Prediction: 580\n",
      "Prediction: 581\n",
      "Prediction: 582\n",
      "Prediction: 583\n",
      "Prediction: 584\n"
     ]
    },
    {
     "name": "stderr",
     "output_type": "stream",
     "text": [
      "/aul/homes/jshi008/IvyProjects/ICLR/02MQRNN/util.py:57: RuntimeWarning: divide by zero encountered in true_divide\n",
      "  return np.mean(np.abs((ytrue - ypred) / ytrue))\n",
      "/aul/homes/jshi008/IvyProjects/ICLR/02MQRNN/util.py:57: RuntimeWarning: divide by zero encountered in true_divide\n",
      "  return np.mean(np.abs((ytrue - ypred) / ytrue))\n",
      "/aul/homes/jshi008/IvyProjects/ICLR/02MQRNN/util.py:57: RuntimeWarning: divide by zero encountered in true_divide\n",
      "  return np.mean(np.abs((ytrue - ypred) / ytrue))\n"
     ]
    },
    {
     "name": "stdout",
     "output_type": "stream",
     "text": [
      "Prediction: 585\n",
      "Prediction: 586\n",
      "Prediction: 587\n"
     ]
    },
    {
     "name": "stderr",
     "output_type": "stream",
     "text": [
      "/aul/homes/jshi008/IvyProjects/ICLR/02MQRNN/util.py:57: RuntimeWarning: divide by zero encountered in true_divide\n",
      "  return np.mean(np.abs((ytrue - ypred) / ytrue))\n",
      "/aul/homes/jshi008/IvyProjects/ICLR/02MQRNN/util.py:57: RuntimeWarning: divide by zero encountered in true_divide\n",
      "  return np.mean(np.abs((ytrue - ypred) / ytrue))\n",
      "/aul/homes/jshi008/IvyProjects/ICLR/02MQRNN/util.py:57: RuntimeWarning: divide by zero encountered in true_divide\n",
      "  return np.mean(np.abs((ytrue - ypred) / ytrue))\n"
     ]
    },
    {
     "name": "stdout",
     "output_type": "stream",
     "text": [
      "Prediction: 588\n",
      "Prediction: 589\n",
      "Prediction: 590\n"
     ]
    },
    {
     "name": "stderr",
     "output_type": "stream",
     "text": [
      "/aul/homes/jshi008/IvyProjects/ICLR/02MQRNN/util.py:57: RuntimeWarning: divide by zero encountered in true_divide\n",
      "  return np.mean(np.abs((ytrue - ypred) / ytrue))\n"
     ]
    },
    {
     "name": "stdout",
     "output_type": "stream",
     "text": [
      "Prediction: 591\n"
     ]
    },
    {
     "name": "stderr",
     "output_type": "stream",
     "text": [
      "/aul/homes/jshi008/IvyProjects/ICLR/02MQRNN/util.py:57: RuntimeWarning: divide by zero encountered in true_divide\n",
      "  return np.mean(np.abs((ytrue - ypred) / ytrue))\n",
      "/aul/homes/jshi008/IvyProjects/ICLR/02MQRNN/util.py:57: RuntimeWarning: divide by zero encountered in true_divide\n",
      "  return np.mean(np.abs((ytrue - ypred) / ytrue))\n"
     ]
    },
    {
     "name": "stdout",
     "output_type": "stream",
     "text": [
      "Prediction: 592\n",
      "Prediction: 593\n",
      "Prediction: 594\n"
     ]
    },
    {
     "name": "stderr",
     "output_type": "stream",
     "text": [
      "/aul/homes/jshi008/IvyProjects/ICLR/02MQRNN/util.py:57: RuntimeWarning: divide by zero encountered in true_divide\n",
      "  return np.mean(np.abs((ytrue - ypred) / ytrue))\n",
      "/aul/homes/jshi008/IvyProjects/ICLR/02MQRNN/util.py:57: RuntimeWarning: divide by zero encountered in true_divide\n",
      "  return np.mean(np.abs((ytrue - ypred) / ytrue))\n",
      "/aul/homes/jshi008/IvyProjects/ICLR/02MQRNN/util.py:57: RuntimeWarning: divide by zero encountered in true_divide\n",
      "  return np.mean(np.abs((ytrue - ypred) / ytrue))\n",
      "/aul/homes/jshi008/IvyProjects/ICLR/02MQRNN/util.py:57: RuntimeWarning: divide by zero encountered in true_divide\n",
      "  return np.mean(np.abs((ytrue - ypred) / ytrue))\n",
      "/aul/homes/jshi008/IvyProjects/ICLR/02MQRNN/util.py:57: RuntimeWarning: divide by zero encountered in true_divide\n",
      "  return np.mean(np.abs((ytrue - ypred) / ytrue))\n"
     ]
    },
    {
     "name": "stdout",
     "output_type": "stream",
     "text": [
      "Prediction: 595\n",
      "Prediction: 596\n",
      "Prediction: 597\n",
      "Prediction: 598\n",
      "Prediction: 599\n"
     ]
    },
    {
     "name": "stderr",
     "output_type": "stream",
     "text": [
      "/aul/homes/jshi008/IvyProjects/ICLR/02MQRNN/util.py:57: RuntimeWarning: divide by zero encountered in true_divide\n",
      "  return np.mean(np.abs((ytrue - ypred) / ytrue))\n",
      "/aul/homes/jshi008/IvyProjects/ICLR/02MQRNN/util.py:57: RuntimeWarning: divide by zero encountered in true_divide\n",
      "  return np.mean(np.abs((ytrue - ypred) / ytrue))\n",
      "/aul/homes/jshi008/IvyProjects/ICLR/02MQRNN/util.py:57: RuntimeWarning: divide by zero encountered in true_divide\n",
      "  return np.mean(np.abs((ytrue - ypred) / ytrue))\n",
      "/aul/homes/jshi008/IvyProjects/ICLR/02MQRNN/util.py:57: RuntimeWarning: divide by zero encountered in true_divide\n",
      "  return np.mean(np.abs((ytrue - ypred) / ytrue))\n"
     ]
    },
    {
     "name": "stdout",
     "output_type": "stream",
     "text": [
      "Prediction: 600\n",
      "Prediction: 601\n",
      "Prediction: 602\n",
      "Prediction: 603\n"
     ]
    },
    {
     "name": "stderr",
     "output_type": "stream",
     "text": [
      "/aul/homes/jshi008/IvyProjects/ICLR/02MQRNN/util.py:57: RuntimeWarning: divide by zero encountered in true_divide\n",
      "  return np.mean(np.abs((ytrue - ypred) / ytrue))\n",
      "/aul/homes/jshi008/IvyProjects/ICLR/02MQRNN/util.py:57: RuntimeWarning: divide by zero encountered in true_divide\n",
      "  return np.mean(np.abs((ytrue - ypred) / ytrue))\n",
      "/aul/homes/jshi008/IvyProjects/ICLR/02MQRNN/util.py:57: RuntimeWarning: divide by zero encountered in true_divide\n",
      "  return np.mean(np.abs((ytrue - ypred) / ytrue))\n"
     ]
    },
    {
     "name": "stdout",
     "output_type": "stream",
     "text": [
      "Prediction: 604\n",
      "Prediction: 605\n",
      "Prediction: 606\n"
     ]
    },
    {
     "name": "stderr",
     "output_type": "stream",
     "text": [
      "/aul/homes/jshi008/IvyProjects/ICLR/02MQRNN/util.py:57: RuntimeWarning: divide by zero encountered in true_divide\n",
      "  return np.mean(np.abs((ytrue - ypred) / ytrue))\n",
      "/aul/homes/jshi008/IvyProjects/ICLR/02MQRNN/util.py:57: RuntimeWarning: divide by zero encountered in true_divide\n",
      "  return np.mean(np.abs((ytrue - ypred) / ytrue))\n",
      "/aul/homes/jshi008/IvyProjects/ICLR/02MQRNN/util.py:57: RuntimeWarning: divide by zero encountered in true_divide\n",
      "  return np.mean(np.abs((ytrue - ypred) / ytrue))\n",
      "/aul/homes/jshi008/IvyProjects/ICLR/02MQRNN/util.py:57: RuntimeWarning: divide by zero encountered in true_divide\n",
      "  return np.mean(np.abs((ytrue - ypred) / ytrue))\n"
     ]
    },
    {
     "name": "stdout",
     "output_type": "stream",
     "text": [
      "Prediction: 607\n",
      "Prediction: 608\n",
      "Prediction: 609\n",
      "Prediction: 610\n"
     ]
    },
    {
     "name": "stderr",
     "output_type": "stream",
     "text": [
      "/aul/homes/jshi008/IvyProjects/ICLR/02MQRNN/util.py:57: RuntimeWarning: divide by zero encountered in true_divide\n",
      "  return np.mean(np.abs((ytrue - ypred) / ytrue))\n",
      "/aul/homes/jshi008/IvyProjects/ICLR/02MQRNN/util.py:57: RuntimeWarning: divide by zero encountered in true_divide\n",
      "  return np.mean(np.abs((ytrue - ypred) / ytrue))\n",
      "/aul/homes/jshi008/IvyProjects/ICLR/02MQRNN/util.py:57: RuntimeWarning: divide by zero encountered in true_divide\n",
      "  return np.mean(np.abs((ytrue - ypred) / ytrue))\n"
     ]
    },
    {
     "name": "stdout",
     "output_type": "stream",
     "text": [
      "Prediction: 611\n",
      "Prediction: 612\n",
      "Prediction: 613\n"
     ]
    },
    {
     "name": "stderr",
     "output_type": "stream",
     "text": [
      "/aul/homes/jshi008/IvyProjects/ICLR/02MQRNN/util.py:57: RuntimeWarning: divide by zero encountered in true_divide\n",
      "  return np.mean(np.abs((ytrue - ypred) / ytrue))\n",
      "/aul/homes/jshi008/IvyProjects/ICLR/02MQRNN/util.py:57: RuntimeWarning: divide by zero encountered in true_divide\n",
      "  return np.mean(np.abs((ytrue - ypred) / ytrue))\n",
      "/aul/homes/jshi008/IvyProjects/ICLR/02MQRNN/util.py:57: RuntimeWarning: divide by zero encountered in true_divide\n",
      "  return np.mean(np.abs((ytrue - ypred) / ytrue))\n",
      "/aul/homes/jshi008/IvyProjects/ICLR/02MQRNN/util.py:57: RuntimeWarning: divide by zero encountered in true_divide\n",
      "  return np.mean(np.abs((ytrue - ypred) / ytrue))\n"
     ]
    },
    {
     "name": "stdout",
     "output_type": "stream",
     "text": [
      "Prediction: 614\n",
      "Prediction: 615\n",
      "Prediction: 616\n",
      "Prediction: 617\n",
      "Prediction: 618\n",
      "Prediction: 619\n",
      "Prediction: 620\n",
      "Prediction: 621\n",
      "Prediction: 622\n",
      "Prediction: 623\n",
      "Prediction: 624\n",
      "Prediction: 625\n",
      "Prediction: 626\n",
      "Prediction: 627\n",
      "Prediction: 628\n",
      "Prediction: 629\n",
      "Prediction: 630\n",
      "Prediction: 631\n",
      "Prediction: 632\n",
      "Prediction: 633\n",
      "Prediction: 634\n",
      "Prediction: 635\n",
      "Prediction: 636\n",
      "Prediction: 637\n",
      "Prediction: 638\n",
      "Prediction: 639\n",
      "Prediction: 640\n",
      "Prediction: 641\n",
      "Prediction: 642\n",
      "Prediction: 643\n",
      "Prediction: 644\n",
      "Prediction: 645\n",
      "Prediction: 646\n",
      "Prediction: 647\n",
      "Prediction: 648\n",
      "Prediction: 649\n",
      "Prediction: 650\n",
      "Prediction: 651\n",
      "Prediction: 652\n",
      "Prediction: 653\n",
      "Prediction: 654\n",
      "Prediction: 655\n",
      "Prediction: 656\n",
      "Prediction: 657\n",
      "Prediction: 658\n",
      "Prediction: 659\n",
      "Prediction: 660\n",
      "Prediction: 661\n",
      "Prediction: 662\n",
      "Prediction: 663\n",
      "Prediction: 664\n",
      "Prediction: 665\n",
      "Prediction: 666\n",
      "Prediction: 667\n",
      "Prediction: 668\n",
      "Prediction: 669\n",
      "Prediction: 670\n",
      "Prediction: 671\n",
      "Prediction: 672\n",
      "Prediction: 673\n",
      "Prediction: 674\n",
      "Prediction: 675\n",
      "Prediction: 676\n",
      "Prediction: 677\n",
      "Prediction: 678\n",
      "Prediction: 679\n",
      "Prediction: 680\n",
      "Prediction: 681\n",
      "Prediction: 682\n",
      "Prediction: 683\n",
      "Prediction: 684\n",
      "Prediction: 685\n",
      "Prediction: 686\n",
      "Prediction: 687\n",
      "Prediction: 688\n",
      "Prediction: 689\n",
      "Prediction: 690\n",
      "Prediction: 691\n",
      "Prediction: 692\n",
      "Prediction: 693\n",
      "Prediction: 694\n",
      "Prediction: 695\n",
      "Prediction: 696\n",
      "Prediction: 697\n",
      "Prediction: 698\n",
      "Prediction: 699\n",
      "Prediction: 700\n",
      "Prediction: 701\n",
      "Prediction: 702\n",
      "Prediction: 703\n",
      "Prediction: 704\n",
      "Prediction: 705\n",
      "Prediction: 706\n",
      "Prediction: 707\n",
      "Prediction: 708\n",
      "Prediction: 709\n",
      "Prediction: 710\n",
      "Prediction: 711\n",
      "Prediction: 712\n",
      "Prediction: 713\n",
      "Prediction: 714\n",
      "Prediction: 715\n",
      "Prediction: 716\n",
      "Prediction: 717\n",
      "Prediction: 718\n",
      "Prediction: 719\n",
      "Prediction: 720\n",
      "Prediction: 721\n",
      "Prediction: 722\n",
      "Prediction: 723\n",
      "Prediction: 724\n",
      "Prediction: 725\n",
      "Prediction: 726\n",
      "Prediction: 727\n",
      "Prediction: 728\n",
      "Prediction: 729\n",
      "Prediction: 730\n",
      "Prediction: 731\n",
      "Prediction: 732\n"
     ]
    },
    {
     "name": "stderr",
     "output_type": "stream",
     "text": [
      "/aul/homes/jshi008/IvyProjects/ICLR/02MQRNN/util.py:57: RuntimeWarning: divide by zero encountered in true_divide\n",
      "  return np.mean(np.abs((ytrue - ypred) / ytrue))\n",
      "/aul/homes/jshi008/IvyProjects/ICLR/02MQRNN/util.py:57: RuntimeWarning: divide by zero encountered in true_divide\n",
      "  return np.mean(np.abs((ytrue - ypred) / ytrue))\n",
      "/aul/homes/jshi008/IvyProjects/ICLR/02MQRNN/util.py:57: RuntimeWarning: divide by zero encountered in true_divide\n",
      "  return np.mean(np.abs((ytrue - ypred) / ytrue))\n",
      "/aul/homes/jshi008/IvyProjects/ICLR/02MQRNN/util.py:57: RuntimeWarning: divide by zero encountered in true_divide\n",
      "  return np.mean(np.abs((ytrue - ypred) / ytrue))\n"
     ]
    },
    {
     "name": "stdout",
     "output_type": "stream",
     "text": [
      "Prediction: 733\n",
      "Prediction: 734\n",
      "Prediction: 735\n",
      "Prediction: 736\n"
     ]
    },
    {
     "name": "stderr",
     "output_type": "stream",
     "text": [
      "/aul/homes/jshi008/IvyProjects/ICLR/02MQRNN/util.py:57: RuntimeWarning: divide by zero encountered in true_divide\n",
      "  return np.mean(np.abs((ytrue - ypred) / ytrue))\n",
      "/aul/homes/jshi008/IvyProjects/ICLR/02MQRNN/util.py:57: RuntimeWarning: divide by zero encountered in true_divide\n",
      "  return np.mean(np.abs((ytrue - ypred) / ytrue))\n",
      "/aul/homes/jshi008/IvyProjects/ICLR/02MQRNN/util.py:57: RuntimeWarning: divide by zero encountered in true_divide\n",
      "  return np.mean(np.abs((ytrue - ypred) / ytrue))\n"
     ]
    },
    {
     "name": "stdout",
     "output_type": "stream",
     "text": [
      "Prediction: 737\n",
      "Prediction: 738\n",
      "Prediction: 739\n"
     ]
    },
    {
     "name": "stderr",
     "output_type": "stream",
     "text": [
      "/aul/homes/jshi008/IvyProjects/ICLR/02MQRNN/util.py:57: RuntimeWarning: divide by zero encountered in true_divide\n",
      "  return np.mean(np.abs((ytrue - ypred) / ytrue))\n",
      "/aul/homes/jshi008/IvyProjects/ICLR/02MQRNN/util.py:57: RuntimeWarning: divide by zero encountered in true_divide\n",
      "  return np.mean(np.abs((ytrue - ypred) / ytrue))\n",
      "/aul/homes/jshi008/IvyProjects/ICLR/02MQRNN/util.py:57: RuntimeWarning: divide by zero encountered in true_divide\n",
      "  return np.mean(np.abs((ytrue - ypred) / ytrue))\n",
      "/aul/homes/jshi008/IvyProjects/ICLR/02MQRNN/util.py:57: RuntimeWarning: divide by zero encountered in true_divide\n",
      "  return np.mean(np.abs((ytrue - ypred) / ytrue))\n",
      "/aul/homes/jshi008/IvyProjects/ICLR/02MQRNN/util.py:57: RuntimeWarning: divide by zero encountered in true_divide\n",
      "  return np.mean(np.abs((ytrue - ypred) / ytrue))\n"
     ]
    },
    {
     "name": "stdout",
     "output_type": "stream",
     "text": [
      "Prediction: 740\n",
      "Prediction: 741\n",
      "Prediction: 742\n",
      "Prediction: 743\n"
     ]
    },
    {
     "name": "stderr",
     "output_type": "stream",
     "text": [
      "/aul/homes/jshi008/IvyProjects/ICLR/02MQRNN/util.py:57: RuntimeWarning: divide by zero encountered in true_divide\n",
      "  return np.mean(np.abs((ytrue - ypred) / ytrue))\n",
      "/aul/homes/jshi008/IvyProjects/ICLR/02MQRNN/util.py:57: RuntimeWarning: divide by zero encountered in true_divide\n",
      "  return np.mean(np.abs((ytrue - ypred) / ytrue))\n",
      "/aul/homes/jshi008/IvyProjects/ICLR/02MQRNN/util.py:57: RuntimeWarning: divide by zero encountered in true_divide\n",
      "  return np.mean(np.abs((ytrue - ypred) / ytrue))\n"
     ]
    },
    {
     "name": "stdout",
     "output_type": "stream",
     "text": [
      "Prediction: 744\n",
      "Prediction: 745\n",
      "Prediction: 746\n"
     ]
    },
    {
     "name": "stderr",
     "output_type": "stream",
     "text": [
      "/aul/homes/jshi008/IvyProjects/ICLR/02MQRNN/util.py:57: RuntimeWarning: divide by zero encountered in true_divide\n",
      "  return np.mean(np.abs((ytrue - ypred) / ytrue))\n",
      "/aul/homes/jshi008/IvyProjects/ICLR/02MQRNN/util.py:57: RuntimeWarning: divide by zero encountered in true_divide\n",
      "  return np.mean(np.abs((ytrue - ypred) / ytrue))\n",
      "/aul/homes/jshi008/IvyProjects/ICLR/02MQRNN/util.py:57: RuntimeWarning: divide by zero encountered in true_divide\n",
      "  return np.mean(np.abs((ytrue - ypred) / ytrue))\n",
      "/aul/homes/jshi008/IvyProjects/ICLR/02MQRNN/util.py:57: RuntimeWarning: divide by zero encountered in true_divide\n",
      "  return np.mean(np.abs((ytrue - ypred) / ytrue))\n"
     ]
    },
    {
     "name": "stdout",
     "output_type": "stream",
     "text": [
      "Prediction: 747\n",
      "Prediction: 748\n",
      "Prediction: 749\n",
      "Prediction: 750\n"
     ]
    },
    {
     "name": "stderr",
     "output_type": "stream",
     "text": [
      "/aul/homes/jshi008/IvyProjects/ICLR/02MQRNN/util.py:57: RuntimeWarning: divide by zero encountered in true_divide\n",
      "  return np.mean(np.abs((ytrue - ypred) / ytrue))\n",
      "/aul/homes/jshi008/IvyProjects/ICLR/02MQRNN/util.py:57: RuntimeWarning: divide by zero encountered in true_divide\n",
      "  return np.mean(np.abs((ytrue - ypred) / ytrue))\n",
      "/aul/homes/jshi008/IvyProjects/ICLR/02MQRNN/util.py:57: RuntimeWarning: divide by zero encountered in true_divide\n",
      "  return np.mean(np.abs((ytrue - ypred) / ytrue))\n",
      "/aul/homes/jshi008/IvyProjects/ICLR/02MQRNN/util.py:57: RuntimeWarning: divide by zero encountered in true_divide\n",
      "  return np.mean(np.abs((ytrue - ypred) / ytrue))\n",
      "/aul/homes/jshi008/IvyProjects/ICLR/02MQRNN/util.py:57: RuntimeWarning: divide by zero encountered in true_divide\n",
      "  return np.mean(np.abs((ytrue - ypred) / ytrue))\n"
     ]
    },
    {
     "name": "stdout",
     "output_type": "stream",
     "text": [
      "Prediction: 751\n",
      "Prediction: 752\n",
      "Prediction: 753\n",
      "Prediction: 754\n",
      "Prediction: 755\n"
     ]
    },
    {
     "name": "stderr",
     "output_type": "stream",
     "text": [
      "/aul/homes/jshi008/IvyProjects/ICLR/02MQRNN/util.py:57: RuntimeWarning: divide by zero encountered in true_divide\n",
      "  return np.mean(np.abs((ytrue - ypred) / ytrue))\n",
      "/aul/homes/jshi008/IvyProjects/ICLR/02MQRNN/util.py:57: RuntimeWarning: divide by zero encountered in true_divide\n",
      "  return np.mean(np.abs((ytrue - ypred) / ytrue))\n",
      "/aul/homes/jshi008/IvyProjects/ICLR/02MQRNN/util.py:57: RuntimeWarning: divide by zero encountered in true_divide\n",
      "  return np.mean(np.abs((ytrue - ypred) / ytrue))\n",
      "/aul/homes/jshi008/IvyProjects/ICLR/02MQRNN/util.py:57: RuntimeWarning: divide by zero encountered in true_divide\n",
      "  return np.mean(np.abs((ytrue - ypred) / ytrue))\n"
     ]
    },
    {
     "name": "stdout",
     "output_type": "stream",
     "text": [
      "Prediction: 756\n",
      "Prediction: 757\n",
      "Prediction: 758\n",
      "Prediction: 759\n"
     ]
    },
    {
     "name": "stderr",
     "output_type": "stream",
     "text": [
      "/aul/homes/jshi008/IvyProjects/ICLR/02MQRNN/util.py:57: RuntimeWarning: divide by zero encountered in true_divide\n",
      "  return np.mean(np.abs((ytrue - ypred) / ytrue))\n",
      "/aul/homes/jshi008/IvyProjects/ICLR/02MQRNN/util.py:57: RuntimeWarning: divide by zero encountered in true_divide\n",
      "  return np.mean(np.abs((ytrue - ypred) / ytrue))\n",
      "/aul/homes/jshi008/IvyProjects/ICLR/02MQRNN/util.py:57: RuntimeWarning: divide by zero encountered in true_divide\n",
      "  return np.mean(np.abs((ytrue - ypred) / ytrue))\n",
      "/aul/homes/jshi008/IvyProjects/ICLR/02MQRNN/util.py:57: RuntimeWarning: divide by zero encountered in true_divide\n",
      "  return np.mean(np.abs((ytrue - ypred) / ytrue))\n"
     ]
    },
    {
     "name": "stdout",
     "output_type": "stream",
     "text": [
      "Prediction: 760\n",
      "Prediction: 761\n",
      "Prediction: 762\n",
      "Prediction: 763\n"
     ]
    },
    {
     "name": "stderr",
     "output_type": "stream",
     "text": [
      "/aul/homes/jshi008/IvyProjects/ICLR/02MQRNN/util.py:57: RuntimeWarning: divide by zero encountered in true_divide\n",
      "  return np.mean(np.abs((ytrue - ypred) / ytrue))\n",
      "/aul/homes/jshi008/IvyProjects/ICLR/02MQRNN/util.py:57: RuntimeWarning: divide by zero encountered in true_divide\n",
      "  return np.mean(np.abs((ytrue - ypred) / ytrue))\n",
      "/aul/homes/jshi008/IvyProjects/ICLR/02MQRNN/util.py:57: RuntimeWarning: divide by zero encountered in true_divide\n",
      "  return np.mean(np.abs((ytrue - ypred) / ytrue))\n",
      "/aul/homes/jshi008/IvyProjects/ICLR/02MQRNN/util.py:57: RuntimeWarning: divide by zero encountered in true_divide\n",
      "  return np.mean(np.abs((ytrue - ypred) / ytrue))\n"
     ]
    },
    {
     "name": "stdout",
     "output_type": "stream",
     "text": [
      "Prediction: 764\n",
      "Prediction: 765\n",
      "Prediction: 766\n",
      "Prediction: 767\n"
     ]
    },
    {
     "name": "stderr",
     "output_type": "stream",
     "text": [
      "/aul/homes/jshi008/IvyProjects/ICLR/02MQRNN/util.py:57: RuntimeWarning: divide by zero encountered in true_divide\n",
      "  return np.mean(np.abs((ytrue - ypred) / ytrue))\n",
      "/aul/homes/jshi008/IvyProjects/ICLR/02MQRNN/util.py:57: RuntimeWarning: divide by zero encountered in true_divide\n",
      "  return np.mean(np.abs((ytrue - ypred) / ytrue))\n",
      "/aul/homes/jshi008/IvyProjects/ICLR/02MQRNN/util.py:57: RuntimeWarning: divide by zero encountered in true_divide\n",
      "  return np.mean(np.abs((ytrue - ypred) / ytrue))\n"
     ]
    },
    {
     "name": "stdout",
     "output_type": "stream",
     "text": [
      "Prediction: 768\n",
      "Prediction: 769\n",
      "Prediction: 770\n",
      "Prediction: 771\n",
      "Prediction: 772\n",
      "Prediction: 773\n",
      "Prediction: 774\n",
      "Prediction: 775\n",
      "Prediction: 776\n",
      "Prediction: 777\n",
      "Prediction: 778\n",
      "Prediction: 779\n",
      "Prediction: 780\n",
      "Prediction: 781\n",
      "Prediction: 782\n",
      "Prediction: 783\n",
      "Prediction: 784\n",
      "Prediction: 785\n",
      "Prediction: 786\n",
      "Prediction: 787\n",
      "Prediction: 788\n",
      "Prediction: 789\n",
      "Prediction: 790\n",
      "Prediction: 791\n",
      "Prediction: 792\n",
      "Prediction: 793\n",
      "Prediction: 794\n",
      "Prediction: 795\n",
      "Prediction: 796\n",
      "Prediction: 797\n",
      "Prediction: 798\n",
      "Prediction: 799\n",
      "Prediction: 800\n",
      "Prediction: 801\n",
      "Prediction: 802\n",
      "Prediction: 803\n",
      "Prediction: 804\n",
      "Prediction: 805\n",
      "Prediction: 806\n",
      "Prediction: 807\n",
      "Prediction: 808\n",
      "Prediction: 809\n",
      "Prediction: 810\n",
      "Prediction: 811\n",
      "Prediction: 812\n",
      "Prediction: 813\n",
      "Prediction: 814\n",
      "Prediction: 815\n",
      "Prediction: 816\n",
      "Prediction: 817\n",
      "Prediction: 818\n",
      "Prediction: 819\n",
      "Prediction: 820\n",
      "Prediction: 821\n",
      "Prediction: 822\n",
      "Prediction: 823\n",
      "Prediction: 824\n",
      "Prediction: 825\n",
      "Prediction: 826\n",
      "Prediction: 827\n",
      "Prediction: 828\n",
      "Prediction: 829\n",
      "Prediction: 830\n",
      "Prediction: 831\n",
      "Prediction: 832\n",
      "Prediction: 833\n",
      "Prediction: 834\n",
      "Prediction: 835\n",
      "Prediction: 836\n",
      "Prediction: 837\n",
      "Prediction: 838\n",
      "Prediction: 839\n",
      "Prediction: 840\n",
      "Prediction: 841\n",
      "Prediction: 842\n",
      "Prediction: 843\n",
      "Prediction: 844\n",
      "Prediction: 845\n",
      "Prediction: 846\n",
      "Prediction: 847\n",
      "Prediction: 848\n",
      "Prediction: 849\n",
      "Prediction: 850\n",
      "Prediction: 851\n",
      "Prediction: 852\n",
      "Prediction: 853\n",
      "Prediction: 854\n",
      "Prediction: 855\n",
      "Prediction: 856\n",
      "Prediction: 857\n",
      "Prediction: 858\n",
      "Prediction: 859\n",
      "Prediction: 860\n",
      "Prediction: 861\n",
      "Prediction: 862\n",
      "Prediction: 863\n",
      "Prediction: 864\n",
      "Prediction: 865\n",
      "Prediction: 866\n",
      "Prediction: 867\n",
      "Prediction: 868\n",
      "Prediction: 869\n",
      "Prediction: 870\n",
      "Prediction: 871\n",
      "Prediction: 872\n",
      "Prediction: 873\n",
      "Prediction: 874\n",
      "Prediction: 875\n",
      "Prediction: 876\n",
      "Prediction: 877\n",
      "Prediction: 878\n",
      "Prediction: 879\n",
      "Prediction: 880\n",
      "Prediction: 881\n",
      "Prediction: 882\n",
      "Prediction: 883\n",
      "Prediction: 884\n",
      "Prediction: 885\n",
      "Prediction: 886\n",
      "Prediction: 887\n",
      "Prediction: 888\n",
      "Prediction: 889\n",
      "Prediction: 890\n",
      "Prediction: 891\n",
      "Prediction: 892\n",
      "Prediction: 893\n",
      "Prediction: 894\n",
      "Prediction: 895\n",
      "Prediction: 896\n",
      "Prediction: 897\n",
      "Prediction: 898\n",
      "Prediction: 899\n",
      "Prediction: 900\n",
      "Prediction: 901\n",
      "Prediction: 902\n",
      "Prediction: 903\n",
      "Prediction: 904\n",
      "Prediction: 905\n",
      "Prediction: 906\n",
      "Prediction: 907\n",
      "Prediction: 908\n",
      "Prediction: 909\n",
      "Prediction: 910\n",
      "Prediction: 911\n",
      "Prediction: 912\n",
      "Prediction: 913\n",
      "Prediction: 914\n",
      "Prediction: 915\n",
      "Prediction: 916\n",
      "Prediction: 917\n",
      "Prediction: 918\n",
      "Prediction: 919\n",
      "Prediction: 920\n",
      "Prediction: 921\n",
      "Prediction: 922\n",
      "Prediction: 923\n",
      "Prediction: 924\n",
      "Prediction: 925\n",
      "Prediction: 926\n",
      "Prediction: 927\n",
      "Prediction: 928\n",
      "Prediction: 929\n",
      "Prediction: 930\n",
      "Prediction: 931\n",
      "Prediction: 932\n",
      "Prediction: 933\n",
      "Prediction: 934\n",
      "Prediction: 935\n",
      "Prediction: 936\n",
      "Prediction: 937\n",
      "Prediction: 938\n",
      "Prediction: 939\n",
      "Prediction: 940\n",
      "Prediction: 941\n",
      "Prediction: 942\n",
      "Prediction: 943\n",
      "Prediction: 944\n",
      "Prediction: 945\n",
      "Prediction: 946\n",
      "Prediction: 947\n",
      "Prediction: 948\n",
      "Prediction: 949\n",
      "Prediction: 950\n",
      "Prediction: 951\n",
      "Prediction: 952\n",
      "Prediction: 953\n",
      "Prediction: 954\n",
      "Prediction: 955\n",
      "Prediction: 956\n",
      "Prediction: 957\n",
      "Prediction: 958\n",
      "Prediction: 959\n"
     ]
    },
    {
     "name": "stderr",
     "output_type": "stream",
     "text": [
      "/aul/homes/jshi008/IvyProjects/ICLR/02MQRNN/util.py:57: RuntimeWarning: divide by zero encountered in true_divide\n",
      "  return np.mean(np.abs((ytrue - ypred) / ytrue))\n",
      "/aul/homes/jshi008/IvyProjects/ICLR/02MQRNN/util.py:57: RuntimeWarning: divide by zero encountered in true_divide\n",
      "  return np.mean(np.abs((ytrue - ypred) / ytrue))\n",
      "/aul/homes/jshi008/IvyProjects/ICLR/02MQRNN/util.py:57: RuntimeWarning: divide by zero encountered in true_divide\n",
      "  return np.mean(np.abs((ytrue - ypred) / ytrue))\n",
      "/aul/homes/jshi008/IvyProjects/ICLR/02MQRNN/util.py:57: RuntimeWarning: divide by zero encountered in true_divide\n",
      "  return np.mean(np.abs((ytrue - ypred) / ytrue))\n"
     ]
    },
    {
     "name": "stdout",
     "output_type": "stream",
     "text": [
      "Prediction: 960\n",
      "Prediction: 961\n",
      "Prediction: 962\n",
      "Prediction: 963\n"
     ]
    },
    {
     "name": "stderr",
     "output_type": "stream",
     "text": [
      "/aul/homes/jshi008/IvyProjects/ICLR/02MQRNN/util.py:57: RuntimeWarning: divide by zero encountered in true_divide\n",
      "  return np.mean(np.abs((ytrue - ypred) / ytrue))\n",
      "/aul/homes/jshi008/IvyProjects/ICLR/02MQRNN/util.py:57: RuntimeWarning: divide by zero encountered in true_divide\n",
      "  return np.mean(np.abs((ytrue - ypred) / ytrue))\n",
      "/aul/homes/jshi008/IvyProjects/ICLR/02MQRNN/util.py:57: RuntimeWarning: divide by zero encountered in true_divide\n",
      "  return np.mean(np.abs((ytrue - ypred) / ytrue))\n",
      "/aul/homes/jshi008/IvyProjects/ICLR/02MQRNN/util.py:57: RuntimeWarning: divide by zero encountered in true_divide\n",
      "  return np.mean(np.abs((ytrue - ypred) / ytrue))\n",
      "/aul/homes/jshi008/IvyProjects/ICLR/02MQRNN/util.py:57: RuntimeWarning: divide by zero encountered in true_divide\n",
      "  return np.mean(np.abs((ytrue - ypred) / ytrue))\n"
     ]
    },
    {
     "name": "stdout",
     "output_type": "stream",
     "text": [
      "Prediction: 964\n",
      "Prediction: 965\n",
      "Prediction: 966\n",
      "Prediction: 967\n",
      "Prediction: 968\n"
     ]
    },
    {
     "name": "stderr",
     "output_type": "stream",
     "text": [
      "/aul/homes/jshi008/IvyProjects/ICLR/02MQRNN/util.py:57: RuntimeWarning: divide by zero encountered in true_divide\n",
      "  return np.mean(np.abs((ytrue - ypred) / ytrue))\n",
      "/aul/homes/jshi008/IvyProjects/ICLR/02MQRNN/util.py:57: RuntimeWarning: divide by zero encountered in true_divide\n",
      "  return np.mean(np.abs((ytrue - ypred) / ytrue))\n",
      "/aul/homes/jshi008/IvyProjects/ICLR/02MQRNN/util.py:57: RuntimeWarning: divide by zero encountered in true_divide\n",
      "  return np.mean(np.abs((ytrue - ypred) / ytrue))\n",
      "/aul/homes/jshi008/IvyProjects/ICLR/02MQRNN/util.py:57: RuntimeWarning: divide by zero encountered in true_divide\n",
      "  return np.mean(np.abs((ytrue - ypred) / ytrue))\n",
      "/aul/homes/jshi008/IvyProjects/ICLR/02MQRNN/util.py:57: RuntimeWarning: divide by zero encountered in true_divide\n",
      "  return np.mean(np.abs((ytrue - ypred) / ytrue))\n"
     ]
    },
    {
     "name": "stdout",
     "output_type": "stream",
     "text": [
      "Prediction: 969\n",
      "Prediction: 970\n",
      "Prediction: 971\n",
      "Prediction: 972\n",
      "Prediction: 973\n"
     ]
    },
    {
     "name": "stderr",
     "output_type": "stream",
     "text": [
      "/aul/homes/jshi008/IvyProjects/ICLR/02MQRNN/util.py:57: RuntimeWarning: divide by zero encountered in true_divide\n",
      "  return np.mean(np.abs((ytrue - ypred) / ytrue))\n",
      "/aul/homes/jshi008/IvyProjects/ICLR/02MQRNN/util.py:57: RuntimeWarning: divide by zero encountered in true_divide\n",
      "  return np.mean(np.abs((ytrue - ypred) / ytrue))\n",
      "/aul/homes/jshi008/IvyProjects/ICLR/02MQRNN/util.py:57: RuntimeWarning: divide by zero encountered in true_divide\n",
      "  return np.mean(np.abs((ytrue - ypred) / ytrue))\n"
     ]
    },
    {
     "name": "stdout",
     "output_type": "stream",
     "text": [
      "Prediction: 974\n",
      "Prediction: 975\n",
      "Prediction: 976\n"
     ]
    },
    {
     "name": "stderr",
     "output_type": "stream",
     "text": [
      "/aul/homes/jshi008/IvyProjects/ICLR/02MQRNN/util.py:57: RuntimeWarning: divide by zero encountered in true_divide\n",
      "  return np.mean(np.abs((ytrue - ypred) / ytrue))\n",
      "/aul/homes/jshi008/IvyProjects/ICLR/02MQRNN/util.py:57: RuntimeWarning: divide by zero encountered in true_divide\n",
      "  return np.mean(np.abs((ytrue - ypred) / ytrue))\n",
      "/aul/homes/jshi008/IvyProjects/ICLR/02MQRNN/util.py:57: RuntimeWarning: divide by zero encountered in true_divide\n",
      "  return np.mean(np.abs((ytrue - ypred) / ytrue))\n"
     ]
    },
    {
     "name": "stdout",
     "output_type": "stream",
     "text": [
      "Prediction: 977\n",
      "Prediction: 978\n",
      "Prediction: 979\n"
     ]
    },
    {
     "name": "stderr",
     "output_type": "stream",
     "text": [
      "/aul/homes/jshi008/IvyProjects/ICLR/02MQRNN/util.py:57: RuntimeWarning: divide by zero encountered in true_divide\n",
      "  return np.mean(np.abs((ytrue - ypred) / ytrue))\n",
      "/aul/homes/jshi008/IvyProjects/ICLR/02MQRNN/util.py:57: RuntimeWarning: divide by zero encountered in true_divide\n",
      "  return np.mean(np.abs((ytrue - ypred) / ytrue))\n",
      "/aul/homes/jshi008/IvyProjects/ICLR/02MQRNN/util.py:57: RuntimeWarning: divide by zero encountered in true_divide\n",
      "  return np.mean(np.abs((ytrue - ypred) / ytrue))\n"
     ]
    },
    {
     "name": "stdout",
     "output_type": "stream",
     "text": [
      "Prediction: 980\n",
      "Prediction: 981\n",
      "Prediction: 982\n"
     ]
    },
    {
     "name": "stderr",
     "output_type": "stream",
     "text": [
      "/aul/homes/jshi008/IvyProjects/ICLR/02MQRNN/util.py:57: RuntimeWarning: divide by zero encountered in true_divide\n",
      "  return np.mean(np.abs((ytrue - ypred) / ytrue))\n"
     ]
    },
    {
     "name": "stdout",
     "output_type": "stream",
     "text": [
      "Prediction: 983\n",
      "Prediction: 984\n",
      "Prediction: 985\n",
      "Prediction: 986\n",
      "Prediction: 987\n",
      "Prediction: 988\n",
      "Prediction: 989\n",
      "Prediction: 990\n",
      "Prediction: 991\n",
      "Prediction: 992\n",
      "Prediction: 993\n",
      "Prediction: 994\n",
      "Prediction: 995\n",
      "Prediction: 996\n",
      "Prediction: 997\n"
     ]
    },
    {
     "name": "stderr",
     "output_type": "stream",
     "text": [
      "/aul/homes/jshi008/IvyProjects/ICLR/02MQRNN/util.py:57: RuntimeWarning: divide by zero encountered in true_divide\n",
      "  return np.mean(np.abs((ytrue - ypred) / ytrue))\n",
      "/aul/homes/jshi008/IvyProjects/ICLR/02MQRNN/util.py:57: RuntimeWarning: divide by zero encountered in true_divide\n",
      "  return np.mean(np.abs((ytrue - ypred) / ytrue))\n",
      "/aul/homes/jshi008/IvyProjects/ICLR/02MQRNN/util.py:57: RuntimeWarning: divide by zero encountered in true_divide\n",
      "  return np.mean(np.abs((ytrue - ypred) / ytrue))\n",
      "/aul/homes/jshi008/IvyProjects/ICLR/02MQRNN/util.py:57: RuntimeWarning: divide by zero encountered in true_divide\n",
      "  return np.mean(np.abs((ytrue - ypred) / ytrue))\n",
      "/aul/homes/jshi008/IvyProjects/ICLR/02MQRNN/util.py:57: RuntimeWarning: divide by zero encountered in true_divide\n",
      "  return np.mean(np.abs((ytrue - ypred) / ytrue))\n"
     ]
    },
    {
     "name": "stdout",
     "output_type": "stream",
     "text": [
      "Prediction: 998\n",
      "Prediction: 999\n",
      "Prediction: 1000\n",
      "Prediction: 1001\n"
     ]
    },
    {
     "name": "stderr",
     "output_type": "stream",
     "text": [
      "/aul/homes/jshi008/IvyProjects/ICLR/02MQRNN/util.py:57: RuntimeWarning: divide by zero encountered in true_divide\n",
      "  return np.mean(np.abs((ytrue - ypred) / ytrue))\n",
      "/aul/homes/jshi008/IvyProjects/ICLR/02MQRNN/util.py:57: RuntimeWarning: divide by zero encountered in true_divide\n",
      "  return np.mean(np.abs((ytrue - ypred) / ytrue))\n",
      "/aul/homes/jshi008/IvyProjects/ICLR/02MQRNN/util.py:57: RuntimeWarning: divide by zero encountered in true_divide\n",
      "  return np.mean(np.abs((ytrue - ypred) / ytrue))\n"
     ]
    },
    {
     "name": "stdout",
     "output_type": "stream",
     "text": [
      "Prediction: 1002\n",
      "Prediction: 1003\n",
      "Prediction: 1004\n"
     ]
    },
    {
     "name": "stderr",
     "output_type": "stream",
     "text": [
      "/aul/homes/jshi008/IvyProjects/ICLR/02MQRNN/util.py:57: RuntimeWarning: divide by zero encountered in true_divide\n",
      "  return np.mean(np.abs((ytrue - ypred) / ytrue))\n",
      "/aul/homes/jshi008/IvyProjects/ICLR/02MQRNN/util.py:57: RuntimeWarning: divide by zero encountered in true_divide\n",
      "  return np.mean(np.abs((ytrue - ypred) / ytrue))\n",
      "/aul/homes/jshi008/IvyProjects/ICLR/02MQRNN/util.py:57: RuntimeWarning: divide by zero encountered in true_divide\n",
      "  return np.mean(np.abs((ytrue - ypred) / ytrue))\n"
     ]
    },
    {
     "name": "stdout",
     "output_type": "stream",
     "text": [
      "Prediction: 1005\n",
      "Prediction: 1006\n",
      "Prediction: 1007\n"
     ]
    },
    {
     "name": "stderr",
     "output_type": "stream",
     "text": [
      "/aul/homes/jshi008/IvyProjects/ICLR/02MQRNN/util.py:57: RuntimeWarning: divide by zero encountered in true_divide\n",
      "  return np.mean(np.abs((ytrue - ypred) / ytrue))\n",
      "/aul/homes/jshi008/IvyProjects/ICLR/02MQRNN/util.py:57: RuntimeWarning: divide by zero encountered in true_divide\n",
      "  return np.mean(np.abs((ytrue - ypred) / ytrue))\n",
      "/aul/homes/jshi008/IvyProjects/ICLR/02MQRNN/util.py:57: RuntimeWarning: divide by zero encountered in true_divide\n",
      "  return np.mean(np.abs((ytrue - ypred) / ytrue))\n"
     ]
    },
    {
     "name": "stdout",
     "output_type": "stream",
     "text": [
      "Prediction: 1008\n",
      "Prediction: 1009\n",
      "Prediction: 1010\n"
     ]
    },
    {
     "name": "stderr",
     "output_type": "stream",
     "text": [
      "/aul/homes/jshi008/IvyProjects/ICLR/02MQRNN/util.py:57: RuntimeWarning: divide by zero encountered in true_divide\n",
      "  return np.mean(np.abs((ytrue - ypred) / ytrue))\n",
      "/aul/homes/jshi008/IvyProjects/ICLR/02MQRNN/util.py:57: RuntimeWarning: divide by zero encountered in true_divide\n",
      "  return np.mean(np.abs((ytrue - ypred) / ytrue))\n",
      "/aul/homes/jshi008/IvyProjects/ICLR/02MQRNN/util.py:57: RuntimeWarning: divide by zero encountered in true_divide\n",
      "  return np.mean(np.abs((ytrue - ypred) / ytrue))\n",
      "/aul/homes/jshi008/IvyProjects/ICLR/02MQRNN/util.py:57: RuntimeWarning: divide by zero encountered in true_divide\n",
      "  return np.mean(np.abs((ytrue - ypred) / ytrue))\n"
     ]
    },
    {
     "name": "stdout",
     "output_type": "stream",
     "text": [
      "Prediction: 1011\n",
      "Prediction: 1012\n",
      "Prediction: 1013\n",
      "Prediction: 1014\n"
     ]
    },
    {
     "name": "stderr",
     "output_type": "stream",
     "text": [
      "/aul/homes/jshi008/IvyProjects/ICLR/02MQRNN/util.py:57: RuntimeWarning: divide by zero encountered in true_divide\n",
      "  return np.mean(np.abs((ytrue - ypred) / ytrue))\n",
      "/aul/homes/jshi008/IvyProjects/ICLR/02MQRNN/util.py:57: RuntimeWarning: divide by zero encountered in true_divide\n",
      "  return np.mean(np.abs((ytrue - ypred) / ytrue))\n",
      "/aul/homes/jshi008/IvyProjects/ICLR/02MQRNN/util.py:57: RuntimeWarning: divide by zero encountered in true_divide\n",
      "  return np.mean(np.abs((ytrue - ypred) / ytrue))\n",
      "/aul/homes/jshi008/IvyProjects/ICLR/02MQRNN/util.py:57: RuntimeWarning: divide by zero encountered in true_divide\n",
      "  return np.mean(np.abs((ytrue - ypred) / ytrue))\n"
     ]
    },
    {
     "name": "stdout",
     "output_type": "stream",
     "text": [
      "Prediction: 1015\n",
      "Prediction: 1016\n",
      "Prediction: 1017\n",
      "Prediction: 1018\n"
     ]
    },
    {
     "name": "stderr",
     "output_type": "stream",
     "text": [
      "/aul/homes/jshi008/IvyProjects/ICLR/02MQRNN/util.py:57: RuntimeWarning: divide by zero encountered in true_divide\n",
      "  return np.mean(np.abs((ytrue - ypred) / ytrue))\n",
      "/aul/homes/jshi008/IvyProjects/ICLR/02MQRNN/util.py:57: RuntimeWarning: divide by zero encountered in true_divide\n",
      "  return np.mean(np.abs((ytrue - ypred) / ytrue))\n",
      "/aul/homes/jshi008/IvyProjects/ICLR/02MQRNN/util.py:57: RuntimeWarning: divide by zero encountered in true_divide\n",
      "  return np.mean(np.abs((ytrue - ypred) / ytrue))\n",
      "/aul/homes/jshi008/IvyProjects/ICLR/02MQRNN/util.py:57: RuntimeWarning: divide by zero encountered in true_divide\n",
      "  return np.mean(np.abs((ytrue - ypred) / ytrue))\n"
     ]
    },
    {
     "name": "stdout",
     "output_type": "stream",
     "text": [
      "Prediction: 1019\n",
      "Prediction: 1020\n",
      "Prediction: 1021\n",
      "Prediction: 1022\n"
     ]
    },
    {
     "name": "stderr",
     "output_type": "stream",
     "text": [
      "/aul/homes/jshi008/IvyProjects/ICLR/02MQRNN/util.py:57: RuntimeWarning: divide by zero encountered in true_divide\n",
      "  return np.mean(np.abs((ytrue - ypred) / ytrue))\n",
      "/aul/homes/jshi008/IvyProjects/ICLR/02MQRNN/util.py:57: RuntimeWarning: divide by zero encountered in true_divide\n",
      "  return np.mean(np.abs((ytrue - ypred) / ytrue))\n",
      "/aul/homes/jshi008/IvyProjects/ICLR/02MQRNN/util.py:57: RuntimeWarning: divide by zero encountered in true_divide\n",
      "  return np.mean(np.abs((ytrue - ypred) / ytrue))\n",
      "/aul/homes/jshi008/IvyProjects/ICLR/02MQRNN/util.py:57: RuntimeWarning: divide by zero encountered in true_divide\n",
      "  return np.mean(np.abs((ytrue - ypred) / ytrue))\n",
      "/aul/homes/jshi008/IvyProjects/ICLR/02MQRNN/util.py:57: RuntimeWarning: divide by zero encountered in true_divide\n",
      "  return np.mean(np.abs((ytrue - ypred) / ytrue))\n"
     ]
    },
    {
     "name": "stdout",
     "output_type": "stream",
     "text": [
      "Prediction: 1023\n",
      "Prediction: 1024\n",
      "Prediction: 1025\n",
      "Prediction: 1026\n",
      "Prediction: 1027\n"
     ]
    },
    {
     "name": "stderr",
     "output_type": "stream",
     "text": [
      "/aul/homes/jshi008/IvyProjects/ICLR/02MQRNN/util.py:57: RuntimeWarning: divide by zero encountered in true_divide\n",
      "  return np.mean(np.abs((ytrue - ypred) / ytrue))\n",
      "/aul/homes/jshi008/IvyProjects/ICLR/02MQRNN/util.py:57: RuntimeWarning: divide by zero encountered in true_divide\n",
      "  return np.mean(np.abs((ytrue - ypred) / ytrue))\n"
     ]
    },
    {
     "name": "stdout",
     "output_type": "stream",
     "text": [
      "Prediction: 1028\n",
      "Prediction: 1029\n"
     ]
    },
    {
     "name": "stderr",
     "output_type": "stream",
     "text": [
      "/aul/homes/jshi008/IvyProjects/ICLR/02MQRNN/util.py:57: RuntimeWarning: divide by zero encountered in true_divide\n",
      "  return np.mean(np.abs((ytrue - ypred) / ytrue))\n",
      "/aul/homes/jshi008/IvyProjects/ICLR/02MQRNN/util.py:57: RuntimeWarning: divide by zero encountered in true_divide\n",
      "  return np.mean(np.abs((ytrue - ypred) / ytrue))\n"
     ]
    },
    {
     "name": "stdout",
     "output_type": "stream",
     "text": [
      "Prediction: 1030\n",
      "Prediction: 1031\n"
     ]
    },
    {
     "name": "stderr",
     "output_type": "stream",
     "text": [
      "/aul/homes/jshi008/IvyProjects/ICLR/02MQRNN/util.py:57: RuntimeWarning: divide by zero encountered in true_divide\n",
      "  return np.mean(np.abs((ytrue - ypred) / ytrue))\n",
      "/aul/homes/jshi008/IvyProjects/ICLR/02MQRNN/util.py:57: RuntimeWarning: divide by zero encountered in true_divide\n",
      "  return np.mean(np.abs((ytrue - ypred) / ytrue))\n",
      "/aul/homes/jshi008/IvyProjects/ICLR/02MQRNN/util.py:57: RuntimeWarning: divide by zero encountered in true_divide\n",
      "  return np.mean(np.abs((ytrue - ypred) / ytrue))\n"
     ]
    },
    {
     "name": "stdout",
     "output_type": "stream",
     "text": [
      "Prediction: 1032\n",
      "Prediction: 1033\n",
      "Prediction: 1034\n"
     ]
    },
    {
     "name": "stderr",
     "output_type": "stream",
     "text": [
      "/aul/homes/jshi008/IvyProjects/ICLR/02MQRNN/util.py:57: RuntimeWarning: divide by zero encountered in true_divide\n",
      "  return np.mean(np.abs((ytrue - ypred) / ytrue))\n",
      "/aul/homes/jshi008/IvyProjects/ICLR/02MQRNN/util.py:57: RuntimeWarning: divide by zero encountered in true_divide\n",
      "  return np.mean(np.abs((ytrue - ypred) / ytrue))\n",
      "/aul/homes/jshi008/IvyProjects/ICLR/02MQRNN/util.py:57: RuntimeWarning: divide by zero encountered in true_divide\n",
      "  return np.mean(np.abs((ytrue - ypred) / ytrue))\n",
      "/aul/homes/jshi008/IvyProjects/ICLR/02MQRNN/util.py:57: RuntimeWarning: divide by zero encountered in true_divide\n",
      "  return np.mean(np.abs((ytrue - ypred) / ytrue))\n"
     ]
    },
    {
     "name": "stdout",
     "output_type": "stream",
     "text": [
      "Prediction: 1035\n",
      "Prediction: 1036\n",
      "Prediction: 1037\n",
      "Prediction: 1038\n"
     ]
    },
    {
     "name": "stderr",
     "output_type": "stream",
     "text": [
      "/aul/homes/jshi008/IvyProjects/ICLR/02MQRNN/util.py:57: RuntimeWarning: divide by zero encountered in true_divide\n",
      "  return np.mean(np.abs((ytrue - ypred) / ytrue))\n",
      "/aul/homes/jshi008/IvyProjects/ICLR/02MQRNN/util.py:57: RuntimeWarning: divide by zero encountered in true_divide\n",
      "  return np.mean(np.abs((ytrue - ypred) / ytrue))\n",
      "/aul/homes/jshi008/IvyProjects/ICLR/02MQRNN/util.py:57: RuntimeWarning: divide by zero encountered in true_divide\n",
      "  return np.mean(np.abs((ytrue - ypred) / ytrue))\n"
     ]
    },
    {
     "name": "stdout",
     "output_type": "stream",
     "text": [
      "Prediction: 1039\n",
      "Prediction: 1040\n",
      "Prediction: 1041\n"
     ]
    },
    {
     "name": "stderr",
     "output_type": "stream",
     "text": [
      "/aul/homes/jshi008/IvyProjects/ICLR/02MQRNN/util.py:57: RuntimeWarning: divide by zero encountered in true_divide\n",
      "  return np.mean(np.abs((ytrue - ypred) / ytrue))\n",
      "/aul/homes/jshi008/IvyProjects/ICLR/02MQRNN/util.py:57: RuntimeWarning: divide by zero encountered in true_divide\n",
      "  return np.mean(np.abs((ytrue - ypred) / ytrue))\n",
      "/aul/homes/jshi008/IvyProjects/ICLR/02MQRNN/util.py:57: RuntimeWarning: divide by zero encountered in true_divide\n",
      "  return np.mean(np.abs((ytrue - ypred) / ytrue))\n",
      "/aul/homes/jshi008/IvyProjects/ICLR/02MQRNN/util.py:57: RuntimeWarning: divide by zero encountered in true_divide\n",
      "  return np.mean(np.abs((ytrue - ypred) / ytrue))\n",
      "/aul/homes/jshi008/IvyProjects/ICLR/02MQRNN/util.py:57: RuntimeWarning: divide by zero encountered in true_divide\n",
      "  return np.mean(np.abs((ytrue - ypred) / ytrue))\n"
     ]
    },
    {
     "name": "stdout",
     "output_type": "stream",
     "text": [
      "Prediction: 1042\n",
      "Prediction: 1043\n",
      "Prediction: 1044\n",
      "Prediction: 1045\n",
      "Prediction: 1046\n",
      "Prediction: 1047\n",
      "Prediction: 1048\n",
      "Prediction: 1049\n",
      "Prediction: 1050\n",
      "Prediction: 1051\n",
      "Prediction: 1052\n",
      "Prediction: 1053\n",
      "Prediction: 1054\n",
      "Prediction: 1055\n",
      "Prediction: 1056\n",
      "Prediction: 1057\n",
      "Prediction: 1058\n",
      "Prediction: 1059\n",
      "Prediction: 1060\n",
      "Prediction: 1061\n",
      "Prediction: 1062\n",
      "Prediction: 1063\n",
      "Prediction: 1064\n",
      "Prediction: 1065\n",
      "Prediction: 1066\n",
      "Prediction: 1067\n",
      "Prediction: 1068\n",
      "Prediction: 1069\n",
      "Prediction: 1070\n",
      "Prediction: 1071\n",
      "Prediction: 1072\n",
      "Prediction: 1073\n",
      "Prediction: 1074\n",
      "Prediction: 1075\n",
      "Prediction: 1076\n",
      "Prediction: 1077\n",
      "Prediction: 1078\n",
      "Prediction: 1079\n",
      "Prediction: 1080\n",
      "Prediction: 1081\n",
      "Prediction: 1082\n",
      "Prediction: 1083\n",
      "Prediction: 1084\n",
      "Prediction: 1085\n",
      "Prediction: 1086\n",
      "Prediction: 1087\n",
      "Prediction: 1088\n",
      "Prediction: 1089\n",
      "Prediction: 1090\n",
      "Prediction: 1091\n",
      "Prediction: 1092\n",
      "Prediction: 1093\n",
      "Prediction: 1094\n",
      "Prediction: 1095\n",
      "Prediction: 1096\n",
      "Prediction: 1097\n",
      "Prediction: 1098\n",
      "Prediction: 1099\n",
      "Prediction: 1100\n",
      "Prediction: 1101\n",
      "Prediction: 1102\n",
      "Prediction: 1103\n",
      "Prediction: 1104\n",
      "Prediction: 1105\n",
      "Prediction: 1106\n",
      "Prediction: 1107\n",
      "Prediction: 1108\n",
      "Prediction: 1109\n",
      "Prediction: 1110\n",
      "Prediction: 1111\n",
      "Prediction: 1112\n",
      "Prediction: 1113\n",
      "Prediction: 1114\n",
      "Prediction: 1115\n",
      "Prediction: 1116\n",
      "Prediction: 1117\n",
      "Prediction: 1118\n",
      "Prediction: 1119\n",
      "Prediction: 1120\n",
      "Prediction: 1121\n",
      "Prediction: 1122\n",
      "Prediction: 1123\n",
      "Prediction: 1124\n",
      "Prediction: 1125\n",
      "Prediction: 1126\n",
      "Prediction: 1127\n",
      "Prediction: 1128\n",
      "Prediction: 1129\n",
      "Prediction: 1130\n",
      "Prediction: 1131\n",
      "Prediction: 1132\n",
      "Prediction: 1133\n",
      "Prediction: 1134\n",
      "Prediction: 1135\n",
      "Prediction: 1136\n",
      "Prediction: 1137\n",
      "Prediction: 1138\n",
      "Prediction: 1139\n",
      "Prediction: 1140\n",
      "Prediction: 1141\n",
      "Prediction: 1142\n",
      "Prediction: 1143\n",
      "Prediction: 1144\n",
      "Prediction: 1145\n",
      "Prediction: 1146\n",
      "Prediction: 1147\n",
      "Prediction: 1148\n",
      "Prediction: 1149\n",
      "Prediction: 1150\n",
      "Prediction: 1151\n",
      "Prediction: 1152\n",
      "Prediction: 1153\n",
      "Prediction: 1154\n",
      "Prediction: 1155\n",
      "Prediction: 1156\n",
      "Prediction: 1157\n",
      "Prediction: 1158\n",
      "Prediction: 1159\n",
      "Prediction: 1160\n",
      "Prediction: 1161\n",
      "Prediction: 1162\n",
      "Prediction: 1163\n",
      "Prediction: 1164\n",
      "Prediction: 1165\n",
      "Prediction: 1166\n",
      "Prediction: 1167\n",
      "Prediction: 1168\n",
      "Prediction: 1169\n",
      "Prediction: 1170\n",
      "Prediction: 1171\n",
      "Prediction: 1172\n",
      "Prediction: 1173\n",
      "Prediction: 1174\n",
      "Prediction: 1175\n",
      "Prediction: 1176\n",
      "Prediction: 1177\n",
      "Prediction: 1178\n",
      "Prediction: 1179\n",
      "Prediction: 1180\n",
      "Prediction: 1181\n",
      "Prediction: 1182\n",
      "Prediction: 1183\n",
      "Prediction: 1184\n",
      "Prediction: 1185\n",
      "Prediction: 1186\n",
      "Prediction: 1187\n",
      "Prediction: 1188\n",
      "Prediction: 1189\n",
      "Prediction: 1190\n",
      "Prediction: 1191\n",
      "Prediction: 1192\n",
      "Prediction: 1193\n",
      "Prediction: 1194\n",
      "Prediction: 1195\n",
      "Prediction: 1196\n",
      "Prediction: 1197\n",
      "Prediction: 1198\n",
      "Prediction: 1199\n",
      "Prediction: 1200\n",
      "Prediction: 1201\n",
      "Prediction: 1202\n",
      "Prediction: 1203\n",
      "Prediction: 1204\n",
      "Prediction: 1205\n",
      "Prediction: 1206\n",
      "Prediction: 1207\n",
      "Prediction: 1208\n",
      "Prediction: 1209\n",
      "Prediction: 1210\n",
      "Prediction: 1211\n",
      "Prediction: 1212\n",
      "Prediction: 1213\n",
      "Prediction: 1214\n"
     ]
    },
    {
     "name": "stderr",
     "output_type": "stream",
     "text": [
      "/aul/homes/jshi008/IvyProjects/ICLR/02MQRNN/util.py:57: RuntimeWarning: divide by zero encountered in true_divide\n",
      "  return np.mean(np.abs((ytrue - ypred) / ytrue))\n",
      "/aul/homes/jshi008/IvyProjects/ICLR/02MQRNN/util.py:57: RuntimeWarning: divide by zero encountered in true_divide\n",
      "  return np.mean(np.abs((ytrue - ypred) / ytrue))\n",
      "/aul/homes/jshi008/IvyProjects/ICLR/02MQRNN/util.py:57: RuntimeWarning: divide by zero encountered in true_divide\n",
      "  return np.mean(np.abs((ytrue - ypred) / ytrue))\n"
     ]
    },
    {
     "name": "stdout",
     "output_type": "stream",
     "text": [
      "Prediction: 1215\n",
      "Prediction: 1216\n",
      "Prediction: 1217\n",
      "Prediction: 1218\n"
     ]
    },
    {
     "name": "stderr",
     "output_type": "stream",
     "text": [
      "/aul/homes/jshi008/IvyProjects/ICLR/02MQRNN/util.py:57: RuntimeWarning: divide by zero encountered in true_divide\n",
      "  return np.mean(np.abs((ytrue - ypred) / ytrue))\n",
      "/aul/homes/jshi008/IvyProjects/ICLR/02MQRNN/util.py:57: RuntimeWarning: divide by zero encountered in true_divide\n",
      "  return np.mean(np.abs((ytrue - ypred) / ytrue))\n",
      "/aul/homes/jshi008/IvyProjects/ICLR/02MQRNN/util.py:57: RuntimeWarning: divide by zero encountered in true_divide\n",
      "  return np.mean(np.abs((ytrue - ypred) / ytrue))\n",
      "/aul/homes/jshi008/IvyProjects/ICLR/02MQRNN/util.py:57: RuntimeWarning: divide by zero encountered in true_divide\n",
      "  return np.mean(np.abs((ytrue - ypred) / ytrue))\n"
     ]
    },
    {
     "name": "stdout",
     "output_type": "stream",
     "text": [
      "Prediction: 1219\n",
      "Prediction: 1220\n",
      "Prediction: 1221\n",
      "Prediction: 1222\n"
     ]
    },
    {
     "name": "stderr",
     "output_type": "stream",
     "text": [
      "/aul/homes/jshi008/IvyProjects/ICLR/02MQRNN/util.py:57: RuntimeWarning: divide by zero encountered in true_divide\n",
      "  return np.mean(np.abs((ytrue - ypred) / ytrue))\n",
      "/aul/homes/jshi008/IvyProjects/ICLR/02MQRNN/util.py:57: RuntimeWarning: divide by zero encountered in true_divide\n",
      "  return np.mean(np.abs((ytrue - ypred) / ytrue))\n",
      "/aul/homes/jshi008/IvyProjects/ICLR/02MQRNN/util.py:57: RuntimeWarning: divide by zero encountered in true_divide\n",
      "  return np.mean(np.abs((ytrue - ypred) / ytrue))\n"
     ]
    },
    {
     "name": "stdout",
     "output_type": "stream",
     "text": [
      "Prediction: 1223\n",
      "Prediction: 1224\n",
      "Prediction: 1225\n"
     ]
    },
    {
     "name": "stderr",
     "output_type": "stream",
     "text": [
      "/aul/homes/jshi008/IvyProjects/ICLR/02MQRNN/util.py:57: RuntimeWarning: divide by zero encountered in true_divide\n",
      "  return np.mean(np.abs((ytrue - ypred) / ytrue))\n",
      "/aul/homes/jshi008/IvyProjects/ICLR/02MQRNN/util.py:57: RuntimeWarning: divide by zero encountered in true_divide\n",
      "  return np.mean(np.abs((ytrue - ypred) / ytrue))\n",
      "/aul/homes/jshi008/IvyProjects/ICLR/02MQRNN/util.py:57: RuntimeWarning: divide by zero encountered in true_divide\n",
      "  return np.mean(np.abs((ytrue - ypred) / ytrue))\n"
     ]
    },
    {
     "name": "stdout",
     "output_type": "stream",
     "text": [
      "Prediction: 1226\n",
      "Prediction: 1227\n",
      "Prediction: 1228\n",
      "Prediction: 1229\n"
     ]
    },
    {
     "name": "stderr",
     "output_type": "stream",
     "text": [
      "/aul/homes/jshi008/IvyProjects/ICLR/02MQRNN/util.py:57: RuntimeWarning: divide by zero encountered in true_divide\n",
      "  return np.mean(np.abs((ytrue - ypred) / ytrue))\n",
      "/aul/homes/jshi008/IvyProjects/ICLR/02MQRNN/util.py:57: RuntimeWarning: divide by zero encountered in true_divide\n",
      "  return np.mean(np.abs((ytrue - ypred) / ytrue))\n",
      "/aul/homes/jshi008/IvyProjects/ICLR/02MQRNN/util.py:57: RuntimeWarning: divide by zero encountered in true_divide\n",
      "  return np.mean(np.abs((ytrue - ypred) / ytrue))\n",
      "/aul/homes/jshi008/IvyProjects/ICLR/02MQRNN/util.py:57: RuntimeWarning: divide by zero encountered in true_divide\n",
      "  return np.mean(np.abs((ytrue - ypred) / ytrue))\n"
     ]
    },
    {
     "name": "stdout",
     "output_type": "stream",
     "text": [
      "Prediction: 1230\n",
      "Prediction: 1231\n",
      "Prediction: 1232\n"
     ]
    },
    {
     "name": "stderr",
     "output_type": "stream",
     "text": [
      "/aul/homes/jshi008/IvyProjects/ICLR/02MQRNN/util.py:57: RuntimeWarning: divide by zero encountered in true_divide\n",
      "  return np.mean(np.abs((ytrue - ypred) / ytrue))\n",
      "/aul/homes/jshi008/IvyProjects/ICLR/02MQRNN/util.py:57: RuntimeWarning: divide by zero encountered in true_divide\n",
      "  return np.mean(np.abs((ytrue - ypred) / ytrue))\n",
      "/aul/homes/jshi008/IvyProjects/ICLR/02MQRNN/util.py:57: RuntimeWarning: divide by zero encountered in true_divide\n",
      "  return np.mean(np.abs((ytrue - ypred) / ytrue))\n"
     ]
    },
    {
     "name": "stdout",
     "output_type": "stream",
     "text": [
      "Prediction: 1233\n",
      "Prediction: 1234\n",
      "Prediction: 1235\n",
      "Prediction: 1236\n"
     ]
    },
    {
     "name": "stderr",
     "output_type": "stream",
     "text": [
      "/aul/homes/jshi008/IvyProjects/ICLR/02MQRNN/util.py:57: RuntimeWarning: divide by zero encountered in true_divide\n",
      "  return np.mean(np.abs((ytrue - ypred) / ytrue))\n",
      "/aul/homes/jshi008/IvyProjects/ICLR/02MQRNN/util.py:57: RuntimeWarning: divide by zero encountered in true_divide\n",
      "  return np.mean(np.abs((ytrue - ypred) / ytrue))\n",
      "/aul/homes/jshi008/IvyProjects/ICLR/02MQRNN/util.py:57: RuntimeWarning: divide by zero encountered in true_divide\n",
      "  return np.mean(np.abs((ytrue - ypred) / ytrue))\n",
      "/aul/homes/jshi008/IvyProjects/ICLR/02MQRNN/util.py:57: RuntimeWarning: divide by zero encountered in true_divide\n",
      "  return np.mean(np.abs((ytrue - ypred) / ytrue))\n"
     ]
    },
    {
     "name": "stdout",
     "output_type": "stream",
     "text": [
      "Prediction: 1237\n",
      "Prediction: 1238\n",
      "Prediction: 1239\n",
      "Prediction: 1240\n",
      "Prediction: 1241\n",
      "Prediction: 1242\n"
     ]
    },
    {
     "name": "stderr",
     "output_type": "stream",
     "text": [
      "/aul/homes/jshi008/IvyProjects/ICLR/02MQRNN/util.py:57: RuntimeWarning: divide by zero encountered in true_divide\n",
      "  return np.mean(np.abs((ytrue - ypred) / ytrue))\n",
      "/aul/homes/jshi008/IvyProjects/ICLR/02MQRNN/util.py:57: RuntimeWarning: divide by zero encountered in true_divide\n",
      "  return np.mean(np.abs((ytrue - ypred) / ytrue))\n",
      "/aul/homes/jshi008/IvyProjects/ICLR/02MQRNN/util.py:57: RuntimeWarning: divide by zero encountered in true_divide\n",
      "  return np.mean(np.abs((ytrue - ypred) / ytrue))\n",
      "/aul/homes/jshi008/IvyProjects/ICLR/02MQRNN/util.py:57: RuntimeWarning: divide by zero encountered in true_divide\n",
      "  return np.mean(np.abs((ytrue - ypred) / ytrue))\n",
      "/aul/homes/jshi008/IvyProjects/ICLR/02MQRNN/util.py:57: RuntimeWarning: divide by zero encountered in true_divide\n",
      "  return np.mean(np.abs((ytrue - ypred) / ytrue))\n",
      "/aul/homes/jshi008/IvyProjects/ICLR/02MQRNN/util.py:57: RuntimeWarning: divide by zero encountered in true_divide\n",
      "  return np.mean(np.abs((ytrue - ypred) / ytrue))\n"
     ]
    },
    {
     "name": "stdout",
     "output_type": "stream",
     "text": [
      "Prediction: 1243\n",
      "Prediction: 1244\n",
      "Prediction: 1245\n",
      "Prediction: 1246\n",
      "Prediction: 1247\n"
     ]
    },
    {
     "name": "stderr",
     "output_type": "stream",
     "text": [
      "/aul/homes/jshi008/IvyProjects/ICLR/02MQRNN/util.py:57: RuntimeWarning: divide by zero encountered in true_divide\n",
      "  return np.mean(np.abs((ytrue - ypred) / ytrue))\n",
      "/aul/homes/jshi008/IvyProjects/ICLR/02MQRNN/util.py:57: RuntimeWarning: divide by zero encountered in true_divide\n",
      "  return np.mean(np.abs((ytrue - ypred) / ytrue))\n",
      "/aul/homes/jshi008/IvyProjects/ICLR/02MQRNN/util.py:57: RuntimeWarning: divide by zero encountered in true_divide\n",
      "  return np.mean(np.abs((ytrue - ypred) / ytrue))\n",
      "/aul/homes/jshi008/IvyProjects/ICLR/02MQRNN/util.py:57: RuntimeWarning: divide by zero encountered in true_divide\n",
      "  return np.mean(np.abs((ytrue - ypred) / ytrue))\n",
      "/aul/homes/jshi008/IvyProjects/ICLR/02MQRNN/util.py:57: RuntimeWarning: divide by zero encountered in true_divide\n",
      "  return np.mean(np.abs((ytrue - ypred) / ytrue))\n"
     ]
    },
    {
     "name": "stdout",
     "output_type": "stream",
     "text": [
      "Prediction: 1248\n",
      "Prediction: 1249\n",
      "Prediction: 1250\n",
      "Prediction: 1251\n",
      "Prediction: 1252\n"
     ]
    },
    {
     "name": "stderr",
     "output_type": "stream",
     "text": [
      "/aul/homes/jshi008/IvyProjects/ICLR/02MQRNN/util.py:57: RuntimeWarning: divide by zero encountered in true_divide\n",
      "  return np.mean(np.abs((ytrue - ypred) / ytrue))\n",
      "/aul/homes/jshi008/IvyProjects/ICLR/02MQRNN/util.py:57: RuntimeWarning: divide by zero encountered in true_divide\n",
      "  return np.mean(np.abs((ytrue - ypred) / ytrue))\n",
      "/aul/homes/jshi008/IvyProjects/ICLR/02MQRNN/util.py:57: RuntimeWarning: divide by zero encountered in true_divide\n",
      "  return np.mean(np.abs((ytrue - ypred) / ytrue))\n"
     ]
    },
    {
     "name": "stdout",
     "output_type": "stream",
     "text": [
      "Prediction: 1253\n",
      "Prediction: 1254\n",
      "Prediction: 1255\n"
     ]
    },
    {
     "name": "stderr",
     "output_type": "stream",
     "text": [
      "/aul/homes/jshi008/IvyProjects/ICLR/02MQRNN/util.py:57: RuntimeWarning: divide by zero encountered in true_divide\n",
      "  return np.mean(np.abs((ytrue - ypred) / ytrue))\n",
      "/aul/homes/jshi008/IvyProjects/ICLR/02MQRNN/util.py:57: RuntimeWarning: divide by zero encountered in true_divide\n",
      "  return np.mean(np.abs((ytrue - ypred) / ytrue))\n",
      "/aul/homes/jshi008/IvyProjects/ICLR/02MQRNN/util.py:57: RuntimeWarning: divide by zero encountered in true_divide\n",
      "  return np.mean(np.abs((ytrue - ypred) / ytrue))\n"
     ]
    },
    {
     "name": "stdout",
     "output_type": "stream",
     "text": [
      "Prediction: 1256\n",
      "Prediction: 1257\n",
      "Prediction: 1258\n"
     ]
    },
    {
     "name": "stderr",
     "output_type": "stream",
     "text": [
      "/aul/homes/jshi008/IvyProjects/ICLR/02MQRNN/util.py:57: RuntimeWarning: divide by zero encountered in true_divide\n",
      "  return np.mean(np.abs((ytrue - ypred) / ytrue))\n",
      "/aul/homes/jshi008/IvyProjects/ICLR/02MQRNN/util.py:57: RuntimeWarning: divide by zero encountered in true_divide\n",
      "  return np.mean(np.abs((ytrue - ypred) / ytrue))\n",
      "/aul/homes/jshi008/IvyProjects/ICLR/02MQRNN/util.py:57: RuntimeWarning: divide by zero encountered in true_divide\n",
      "  return np.mean(np.abs((ytrue - ypred) / ytrue))\n"
     ]
    },
    {
     "name": "stdout",
     "output_type": "stream",
     "text": [
      "Prediction: 1259\n",
      "Prediction: 1260\n",
      "Prediction: 1261\n"
     ]
    },
    {
     "name": "stderr",
     "output_type": "stream",
     "text": [
      "/aul/homes/jshi008/IvyProjects/ICLR/02MQRNN/util.py:57: RuntimeWarning: divide by zero encountered in true_divide\n",
      "  return np.mean(np.abs((ytrue - ypred) / ytrue))\n",
      "/aul/homes/jshi008/IvyProjects/ICLR/02MQRNN/util.py:57: RuntimeWarning: divide by zero encountered in true_divide\n",
      "  return np.mean(np.abs((ytrue - ypred) / ytrue))\n",
      "/aul/homes/jshi008/IvyProjects/ICLR/02MQRNN/util.py:57: RuntimeWarning: divide by zero encountered in true_divide\n",
      "  return np.mean(np.abs((ytrue - ypred) / ytrue))\n"
     ]
    },
    {
     "name": "stdout",
     "output_type": "stream",
     "text": [
      "Prediction: 1262\n",
      "Prediction: 1263\n",
      "Prediction: 1264\n"
     ]
    },
    {
     "name": "stderr",
     "output_type": "stream",
     "text": [
      "/aul/homes/jshi008/IvyProjects/ICLR/02MQRNN/util.py:57: RuntimeWarning: divide by zero encountered in true_divide\n",
      "  return np.mean(np.abs((ytrue - ypred) / ytrue))\n"
     ]
    },
    {
     "name": "stdout",
     "output_type": "stream",
     "text": [
      "Prediction: 1265\n",
      "Prediction: 1266\n",
      "Prediction: 1267\n",
      "Prediction: 1268\n",
      "Prediction: 1269\n",
      "Prediction: 1270\n",
      "Prediction: 1271\n",
      "Prediction: 1272\n",
      "Prediction: 1273\n",
      "Prediction: 1274\n",
      "Prediction: 1275\n",
      "Prediction: 1276\n",
      "Prediction: 1277\n",
      "Prediction: 1278\n",
      "Prediction: 1279\n",
      "Prediction: 1280\n",
      "Prediction: 1281\n",
      "Prediction: 1282\n",
      "Prediction: 1283\n",
      "Prediction: 1284\n",
      "Prediction: 1285\n",
      "Prediction: 1286\n",
      "Prediction: 1287\n",
      "Prediction: 1288\n",
      "Prediction: 1289\n",
      "Prediction: 1290\n",
      "Prediction: 1291\n",
      "Prediction: 1292\n",
      "Prediction: 1293\n",
      "Prediction: 1294\n",
      "Prediction: 1295\n",
      "Prediction: 1296\n",
      "Prediction: 1297\n",
      "Prediction: 1298\n",
      "Prediction: 1299\n",
      "Prediction: 1300\n",
      "Prediction: 1301\n",
      "Prediction: 1302\n",
      "Prediction: 1303\n",
      "Prediction: 1304\n",
      "Prediction: 1305\n",
      "Prediction: 1306\n",
      "Prediction: 1307\n",
      "Prediction: 1308\n",
      "Prediction: 1309\n",
      "Prediction: 1310\n",
      "Prediction: 1311\n",
      "Prediction: 1312\n",
      "Prediction: 1313\n",
      "Prediction: 1314\n",
      "Prediction: 1315\n",
      "Prediction: 1316\n",
      "Prediction: 1317\n",
      "Prediction: 1318\n",
      "Prediction: 1319\n",
      "Prediction: 1320\n",
      "Prediction: 1321\n",
      "Prediction: 1322\n",
      "Prediction: 1323\n",
      "Prediction: 1324\n",
      "Prediction: 1325\n",
      "Prediction: 1326\n",
      "Prediction: 1327\n",
      "Prediction: 1328\n",
      "Prediction: 1329\n",
      "Prediction: 1330\n",
      "Prediction: 1331\n",
      "Prediction: 1332\n",
      "Prediction: 1333\n",
      "Prediction: 1334\n",
      "Prediction: 1335\n",
      "Prediction: 1336\n",
      "Prediction: 1337\n",
      "Prediction: 1338\n",
      "Prediction: 1339\n",
      "Prediction: 1340\n",
      "Prediction: 1341\n",
      "Prediction: 1342\n",
      "Prediction: 1343\n",
      "Prediction: 1344\n",
      "Prediction: 1345\n",
      "Prediction: 1346\n",
      "Prediction: 1347\n",
      "Prediction: 1348\n",
      "Prediction: 1349\n",
      "Prediction: 1350\n",
      "Prediction: 1351\n",
      "Prediction: 1352\n",
      "Prediction: 1353\n",
      "Prediction: 1354\n",
      "Prediction: 1355\n",
      "Prediction: 1356\n",
      "Prediction: 1357\n",
      "Prediction: 1358\n",
      "Prediction: 1359\n",
      "Prediction: 1360\n",
      "Prediction: 1361\n",
      "Prediction: 1362\n",
      "Prediction: 1363\n",
      "Prediction: 1364\n",
      "Prediction: 1365\n",
      "Prediction: 1366\n",
      "Prediction: 1367\n",
      "Prediction: 1368\n",
      "Prediction: 1369\n",
      "Prediction: 1370\n",
      "Prediction: 1371\n",
      "Prediction: 1372\n",
      "Prediction: 1373\n",
      "Prediction: 1374\n",
      "Prediction: 1375\n",
      "Prediction: 1376\n",
      "Prediction: 1377\n",
      "Prediction: 1378\n",
      "Prediction: 1379\n",
      "Prediction: 1380\n"
     ]
    },
    {
     "name": "stderr",
     "output_type": "stream",
     "text": [
      "/aul/homes/jshi008/IvyProjects/ICLR/02MQRNN/util.py:57: RuntimeWarning: divide by zero encountered in true_divide\n",
      "  return np.mean(np.abs((ytrue - ypred) / ytrue))\n",
      "/aul/homes/jshi008/IvyProjects/ICLR/02MQRNN/util.py:57: RuntimeWarning: divide by zero encountered in true_divide\n",
      "  return np.mean(np.abs((ytrue - ypred) / ytrue))\n"
     ]
    },
    {
     "name": "stdout",
     "output_type": "stream",
     "text": [
      "Prediction: 1381\n",
      "Prediction: 1382\n",
      "Prediction: 1383\n",
      "Prediction: 1384\n"
     ]
    },
    {
     "name": "stderr",
     "output_type": "stream",
     "text": [
      "/aul/homes/jshi008/IvyProjects/ICLR/02MQRNN/util.py:57: RuntimeWarning: divide by zero encountered in true_divide\n",
      "  return np.mean(np.abs((ytrue - ypred) / ytrue))\n",
      "/aul/homes/jshi008/IvyProjects/ICLR/02MQRNN/util.py:57: RuntimeWarning: divide by zero encountered in true_divide\n",
      "  return np.mean(np.abs((ytrue - ypred) / ytrue))\n",
      "/aul/homes/jshi008/IvyProjects/ICLR/02MQRNN/util.py:57: RuntimeWarning: divide by zero encountered in true_divide\n",
      "  return np.mean(np.abs((ytrue - ypred) / ytrue))\n",
      "/aul/homes/jshi008/IvyProjects/ICLR/02MQRNN/util.py:57: RuntimeWarning: divide by zero encountered in true_divide\n",
      "  return np.mean(np.abs((ytrue - ypred) / ytrue))\n"
     ]
    },
    {
     "name": "stdout",
     "output_type": "stream",
     "text": [
      "Prediction: 1385\n",
      "Prediction: 1386\n",
      "Prediction: 1387\n",
      "Prediction: 1388\n"
     ]
    },
    {
     "name": "stderr",
     "output_type": "stream",
     "text": [
      "/aul/homes/jshi008/IvyProjects/ICLR/02MQRNN/util.py:57: RuntimeWarning: divide by zero encountered in true_divide\n",
      "  return np.mean(np.abs((ytrue - ypred) / ytrue))\n",
      "/aul/homes/jshi008/IvyProjects/ICLR/02MQRNN/util.py:57: RuntimeWarning: divide by zero encountered in true_divide\n",
      "  return np.mean(np.abs((ytrue - ypred) / ytrue))\n",
      "/aul/homes/jshi008/IvyProjects/ICLR/02MQRNN/util.py:57: RuntimeWarning: divide by zero encountered in true_divide\n",
      "  return np.mean(np.abs((ytrue - ypred) / ytrue))\n",
      "/aul/homes/jshi008/IvyProjects/ICLR/02MQRNN/util.py:57: RuntimeWarning: divide by zero encountered in true_divide\n",
      "  return np.mean(np.abs((ytrue - ypred) / ytrue))\n"
     ]
    },
    {
     "name": "stdout",
     "output_type": "stream",
     "text": [
      "Prediction: 1389\n",
      "Prediction: 1390\n",
      "Prediction: 1391\n",
      "Prediction: 1392\n"
     ]
    },
    {
     "name": "stderr",
     "output_type": "stream",
     "text": [
      "/aul/homes/jshi008/IvyProjects/ICLR/02MQRNN/util.py:57: RuntimeWarning: divide by zero encountered in true_divide\n",
      "  return np.mean(np.abs((ytrue - ypred) / ytrue))\n",
      "/aul/homes/jshi008/IvyProjects/ICLR/02MQRNN/util.py:57: RuntimeWarning: divide by zero encountered in true_divide\n",
      "  return np.mean(np.abs((ytrue - ypred) / ytrue))\n",
      "/aul/homes/jshi008/IvyProjects/ICLR/02MQRNN/util.py:57: RuntimeWarning: divide by zero encountered in true_divide\n",
      "  return np.mean(np.abs((ytrue - ypred) / ytrue))\n",
      "/aul/homes/jshi008/IvyProjects/ICLR/02MQRNN/util.py:57: RuntimeWarning: divide by zero encountered in true_divide\n",
      "  return np.mean(np.abs((ytrue - ypred) / ytrue))\n"
     ]
    },
    {
     "name": "stdout",
     "output_type": "stream",
     "text": [
      "Prediction: 1393\n",
      "Prediction: 1394\n",
      "Prediction: 1395\n",
      "Prediction: 1396\n"
     ]
    },
    {
     "name": "stderr",
     "output_type": "stream",
     "text": [
      "/aul/homes/jshi008/IvyProjects/ICLR/02MQRNN/util.py:57: RuntimeWarning: divide by zero encountered in true_divide\n",
      "  return np.mean(np.abs((ytrue - ypred) / ytrue))\n",
      "/aul/homes/jshi008/IvyProjects/ICLR/02MQRNN/util.py:57: RuntimeWarning: divide by zero encountered in true_divide\n",
      "  return np.mean(np.abs((ytrue - ypred) / ytrue))\n",
      "/aul/homes/jshi008/IvyProjects/ICLR/02MQRNN/util.py:57: RuntimeWarning: divide by zero encountered in true_divide\n",
      "  return np.mean(np.abs((ytrue - ypred) / ytrue))\n",
      "/aul/homes/jshi008/IvyProjects/ICLR/02MQRNN/util.py:57: RuntimeWarning: divide by zero encountered in true_divide\n",
      "  return np.mean(np.abs((ytrue - ypred) / ytrue))\n",
      "/aul/homes/jshi008/IvyProjects/ICLR/02MQRNN/util.py:57: RuntimeWarning: divide by zero encountered in true_divide\n",
      "  return np.mean(np.abs((ytrue - ypred) / ytrue))\n",
      "/aul/homes/jshi008/IvyProjects/ICLR/02MQRNN/util.py:57: RuntimeWarning: divide by zero encountered in true_divide\n",
      "  return np.mean(np.abs((ytrue - ypred) / ytrue))\n",
      "/aul/homes/jshi008/IvyProjects/ICLR/02MQRNN/util.py:57: RuntimeWarning: divide by zero encountered in true_divide\n",
      "  return np.mean(np.abs((ytrue - ypred) / ytrue))\n",
      "/aul/homes/jshi008/IvyProjects/ICLR/02MQRNN/util.py:57: RuntimeWarning: divide by zero encountered in true_divide\n",
      "  return np.mean(np.abs((ytrue - ypred) / ytrue))\n"
     ]
    },
    {
     "name": "stdout",
     "output_type": "stream",
     "text": [
      "Prediction: 1397\n",
      "Prediction: 1398\n",
      "Prediction: 1399\n",
      "Prediction: 1400\n",
      "Prediction: 1401\n"
     ]
    },
    {
     "name": "stderr",
     "output_type": "stream",
     "text": [
      "/aul/homes/jshi008/IvyProjects/ICLR/02MQRNN/util.py:57: RuntimeWarning: divide by zero encountered in true_divide\n",
      "  return np.mean(np.abs((ytrue - ypred) / ytrue))\n",
      "/aul/homes/jshi008/IvyProjects/ICLR/02MQRNN/util.py:57: RuntimeWarning: divide by zero encountered in true_divide\n",
      "  return np.mean(np.abs((ytrue - ypred) / ytrue))\n",
      "/aul/homes/jshi008/IvyProjects/ICLR/02MQRNN/util.py:57: RuntimeWarning: divide by zero encountered in true_divide\n",
      "  return np.mean(np.abs((ytrue - ypred) / ytrue))\n",
      "/aul/homes/jshi008/IvyProjects/ICLR/02MQRNN/util.py:57: RuntimeWarning: divide by zero encountered in true_divide\n",
      "  return np.mean(np.abs((ytrue - ypred) / ytrue))\n"
     ]
    },
    {
     "name": "stdout",
     "output_type": "stream",
     "text": [
      "Prediction: 1402\n",
      "Prediction: 1403\n",
      "Prediction: 1404\n",
      "Prediction: 1405\n"
     ]
    },
    {
     "name": "stderr",
     "output_type": "stream",
     "text": [
      "/aul/homes/jshi008/IvyProjects/ICLR/02MQRNN/util.py:57: RuntimeWarning: divide by zero encountered in true_divide\n",
      "  return np.mean(np.abs((ytrue - ypred) / ytrue))\n",
      "/aul/homes/jshi008/IvyProjects/ICLR/02MQRNN/util.py:57: RuntimeWarning: divide by zero encountered in true_divide\n",
      "  return np.mean(np.abs((ytrue - ypred) / ytrue))\n",
      "/aul/homes/jshi008/IvyProjects/ICLR/02MQRNN/util.py:57: RuntimeWarning: divide by zero encountered in true_divide\n",
      "  return np.mean(np.abs((ytrue - ypred) / ytrue))\n",
      "/aul/homes/jshi008/IvyProjects/ICLR/02MQRNN/util.py:57: RuntimeWarning: divide by zero encountered in true_divide\n",
      "  return np.mean(np.abs((ytrue - ypred) / ytrue))\n"
     ]
    },
    {
     "name": "stdout",
     "output_type": "stream",
     "text": [
      "Prediction: 1406\n",
      "Prediction: 1407\n",
      "Prediction: 1408\n",
      "Prediction: 1409\n"
     ]
    },
    {
     "name": "stderr",
     "output_type": "stream",
     "text": [
      "/aul/homes/jshi008/IvyProjects/ICLR/02MQRNN/util.py:57: RuntimeWarning: divide by zero encountered in true_divide\n",
      "  return np.mean(np.abs((ytrue - ypred) / ytrue))\n",
      "/aul/homes/jshi008/IvyProjects/ICLR/02MQRNN/util.py:57: RuntimeWarning: divide by zero encountered in true_divide\n",
      "  return np.mean(np.abs((ytrue - ypred) / ytrue))\n",
      "/aul/homes/jshi008/IvyProjects/ICLR/02MQRNN/util.py:57: RuntimeWarning: divide by zero encountered in true_divide\n",
      "  return np.mean(np.abs((ytrue - ypred) / ytrue))\n",
      "/aul/homes/jshi008/IvyProjects/ICLR/02MQRNN/util.py:57: RuntimeWarning: divide by zero encountered in true_divide\n",
      "  return np.mean(np.abs((ytrue - ypred) / ytrue))\n",
      "/aul/homes/jshi008/IvyProjects/ICLR/02MQRNN/util.py:57: RuntimeWarning: divide by zero encountered in true_divide\n",
      "  return np.mean(np.abs((ytrue - ypred) / ytrue))\n"
     ]
    },
    {
     "name": "stdout",
     "output_type": "stream",
     "text": [
      "Prediction: 1410\n",
      "Prediction: 1411\n",
      "Prediction: 1412\n",
      "Prediction: 1413\n",
      "Prediction: 1414\n"
     ]
    },
    {
     "name": "stderr",
     "output_type": "stream",
     "text": [
      "/aul/homes/jshi008/IvyProjects/ICLR/02MQRNN/util.py:57: RuntimeWarning: divide by zero encountered in true_divide\n",
      "  return np.mean(np.abs((ytrue - ypred) / ytrue))\n",
      "/aul/homes/jshi008/IvyProjects/ICLR/02MQRNN/util.py:57: RuntimeWarning: divide by zero encountered in true_divide\n",
      "  return np.mean(np.abs((ytrue - ypred) / ytrue))\n",
      "/aul/homes/jshi008/IvyProjects/ICLR/02MQRNN/util.py:57: RuntimeWarning: divide by zero encountered in true_divide\n",
      "  return np.mean(np.abs((ytrue - ypred) / ytrue))\n",
      "/aul/homes/jshi008/IvyProjects/ICLR/02MQRNN/util.py:57: RuntimeWarning: divide by zero encountered in true_divide\n",
      "  return np.mean(np.abs((ytrue - ypred) / ytrue))\n"
     ]
    },
    {
     "name": "stdout",
     "output_type": "stream",
     "text": [
      "Prediction: 1415\n",
      "Prediction: 1416\n",
      "Prediction: 1417\n",
      "Prediction: 1418\n"
     ]
    },
    {
     "name": "stderr",
     "output_type": "stream",
     "text": [
      "/aul/homes/jshi008/IvyProjects/ICLR/02MQRNN/util.py:57: RuntimeWarning: divide by zero encountered in true_divide\n",
      "  return np.mean(np.abs((ytrue - ypred) / ytrue))\n",
      "/aul/homes/jshi008/IvyProjects/ICLR/02MQRNN/util.py:57: RuntimeWarning: divide by zero encountered in true_divide\n",
      "  return np.mean(np.abs((ytrue - ypred) / ytrue))\n",
      "/aul/homes/jshi008/IvyProjects/ICLR/02MQRNN/util.py:57: RuntimeWarning: divide by zero encountered in true_divide\n",
      "  return np.mean(np.abs((ytrue - ypred) / ytrue))\n",
      "/aul/homes/jshi008/IvyProjects/ICLR/02MQRNN/util.py:57: RuntimeWarning: divide by zero encountered in true_divide\n",
      "  return np.mean(np.abs((ytrue - ypred) / ytrue))\n"
     ]
    },
    {
     "name": "stdout",
     "output_type": "stream",
     "text": [
      "Prediction: 1419\n",
      "Prediction: 1420\n",
      "Prediction: 1421\n",
      "Prediction: 1422\n"
     ]
    },
    {
     "name": "stderr",
     "output_type": "stream",
     "text": [
      "/aul/homes/jshi008/IvyProjects/ICLR/02MQRNN/util.py:57: RuntimeWarning: divide by zero encountered in true_divide\n",
      "  return np.mean(np.abs((ytrue - ypred) / ytrue))\n",
      "/aul/homes/jshi008/IvyProjects/ICLR/02MQRNN/util.py:57: RuntimeWarning: divide by zero encountered in true_divide\n",
      "  return np.mean(np.abs((ytrue - ypred) / ytrue))\n",
      "/aul/homes/jshi008/IvyProjects/ICLR/02MQRNN/util.py:57: RuntimeWarning: divide by zero encountered in true_divide\n",
      "  return np.mean(np.abs((ytrue - ypred) / ytrue))\n"
     ]
    },
    {
     "name": "stdout",
     "output_type": "stream",
     "text": [
      "Prediction: 1423\n",
      "Prediction: 1424\n",
      "Prediction: 1425\n",
      "Prediction: 1426\n",
      "Prediction: 1427\n",
      "Prediction: 1428\n",
      "Prediction: 1429\n",
      "Prediction: 1430\n",
      "Prediction: 1431\n",
      "Prediction: 1432\n",
      "Prediction: 1433\n",
      "Prediction: 1434\n",
      "Prediction: 1435\n",
      "Prediction: 1436\n",
      "Prediction: 1437\n",
      "Prediction: 1438\n",
      "Prediction: 1439\n",
      "Prediction: 1440\n",
      "Prediction: 1441\n",
      "Prediction: 1442\n",
      "Prediction: 1443\n",
      "Prediction: 1444\n",
      "Prediction: 1445\n",
      "Prediction: 1446\n",
      "Prediction: 1447\n",
      "Prediction: 1448\n",
      "Prediction: 1449\n",
      "Prediction: 1450\n",
      "Prediction: 1451\n",
      "Prediction: 1452\n",
      "Prediction: 1453\n",
      "Prediction: 1454\n",
      "Prediction: 1455\n",
      "Prediction: 1456\n",
      "Prediction: 1457\n",
      "Prediction: 1458\n",
      "Prediction: 1459\n",
      "Prediction: 1460\n",
      "Prediction: 1461\n",
      "Prediction: 1462\n",
      "Prediction: 1463\n",
      "Prediction: 1464\n",
      "Prediction: 1465\n",
      "Prediction: 1466\n",
      "Prediction: 1467\n",
      "Prediction: 1468\n",
      "Prediction: 1469\n",
      "Prediction: 1470\n",
      "Prediction: 1471\n",
      "Prediction: 1472\n",
      "Prediction: 1473\n",
      "Prediction: 1474\n",
      "Prediction: 1475\n",
      "Prediction: 1476\n",
      "Prediction: 1477\n",
      "Prediction: 1478\n",
      "Prediction: 1479\n",
      "Prediction: 1480\n",
      "Prediction: 1481\n",
      "Prediction: 1482\n",
      "Prediction: 1483\n",
      "Prediction: 1484\n",
      "Prediction: 1485\n",
      "Prediction: 1486\n",
      "Prediction: 1487\n",
      "Prediction: 1488\n",
      "Prediction: 1489\n",
      "Prediction: 1490\n",
      "Prediction: 1491\n",
      "Prediction: 1492\n",
      "Prediction: 1493\n",
      "Prediction: 1494\n",
      "Prediction: 1495\n",
      "Prediction: 1496\n",
      "Prediction: 1497\n",
      "Prediction: 1498\n"
     ]
    },
    {
     "name": "stderr",
     "output_type": "stream",
     "text": [
      "/aul/homes/jshi008/IvyProjects/ICLR/02MQRNN/util.py:57: RuntimeWarning: divide by zero encountered in true_divide\n",
      "  return np.mean(np.abs((ytrue - ypred) / ytrue))\n",
      "/aul/homes/jshi008/IvyProjects/ICLR/02MQRNN/util.py:57: RuntimeWarning: divide by zero encountered in true_divide\n",
      "  return np.mean(np.abs((ytrue - ypred) / ytrue))\n",
      "/aul/homes/jshi008/IvyProjects/ICLR/02MQRNN/util.py:57: RuntimeWarning: divide by zero encountered in true_divide\n",
      "  return np.mean(np.abs((ytrue - ypred) / ytrue))\n"
     ]
    },
    {
     "name": "stdout",
     "output_type": "stream",
     "text": [
      "Prediction: 1499\n",
      "Prediction: 1500\n"
     ]
    },
    {
     "name": "stderr",
     "output_type": "stream",
     "text": [
      "/aul/homes/jshi008/IvyProjects/ICLR/02MQRNN/util.py:57: RuntimeWarning: divide by zero encountered in true_divide\n",
      "  return np.mean(np.abs((ytrue - ypred) / ytrue))\n",
      "/aul/homes/jshi008/IvyProjects/ICLR/02MQRNN/util.py:57: RuntimeWarning: divide by zero encountered in true_divide\n",
      "  return np.mean(np.abs((ytrue - ypred) / ytrue))\n",
      "/aul/homes/jshi008/IvyProjects/ICLR/02MQRNN/util.py:57: RuntimeWarning: divide by zero encountered in true_divide\n",
      "  return np.mean(np.abs((ytrue - ypred) / ytrue))\n",
      "/aul/homes/jshi008/IvyProjects/ICLR/02MQRNN/util.py:57: RuntimeWarning: divide by zero encountered in true_divide\n",
      "  return np.mean(np.abs((ytrue - ypred) / ytrue))\n"
     ]
    },
    {
     "name": "stdout",
     "output_type": "stream",
     "text": [
      "Prediction: 1501\n",
      "Prediction: 1502\n",
      "Prediction: 1503\n",
      "Prediction: 1504\n",
      "Prediction: 1505\n",
      "Prediction: 1506\n",
      "Prediction: 1507\n",
      "Prediction: 1508\n"
     ]
    },
    {
     "name": "stderr",
     "output_type": "stream",
     "text": [
      "/aul/homes/jshi008/IvyProjects/ICLR/02MQRNN/util.py:57: RuntimeWarning: divide by zero encountered in true_divide\n",
      "  return np.mean(np.abs((ytrue - ypred) / ytrue))\n",
      "/aul/homes/jshi008/IvyProjects/ICLR/02MQRNN/util.py:57: RuntimeWarning: divide by zero encountered in true_divide\n",
      "  return np.mean(np.abs((ytrue - ypred) / ytrue))\n",
      "/aul/homes/jshi008/IvyProjects/ICLR/02MQRNN/util.py:57: RuntimeWarning: divide by zero encountered in true_divide\n",
      "  return np.mean(np.abs((ytrue - ypred) / ytrue))\n",
      "/aul/homes/jshi008/IvyProjects/ICLR/02MQRNN/util.py:57: RuntimeWarning: divide by zero encountered in true_divide\n",
      "  return np.mean(np.abs((ytrue - ypred) / ytrue))\n",
      "/aul/homes/jshi008/IvyProjects/ICLR/02MQRNN/util.py:57: RuntimeWarning: divide by zero encountered in true_divide\n",
      "  return np.mean(np.abs((ytrue - ypred) / ytrue))\n",
      "/aul/homes/jshi008/IvyProjects/ICLR/02MQRNN/util.py:57: RuntimeWarning: divide by zero encountered in true_divide\n",
      "  return np.mean(np.abs((ytrue - ypred) / ytrue))\n",
      "/aul/homes/jshi008/IvyProjects/ICLR/02MQRNN/util.py:57: RuntimeWarning: divide by zero encountered in true_divide\n",
      "  return np.mean(np.abs((ytrue - ypred) / ytrue))\n",
      "/aul/homes/jshi008/IvyProjects/ICLR/02MQRNN/util.py:57: RuntimeWarning: divide by zero encountered in true_divide\n",
      "  return np.mean(np.abs((ytrue - ypred) / ytrue))\n"
     ]
    },
    {
     "name": "stdout",
     "output_type": "stream",
     "text": [
      "Prediction: 1509\n",
      "Prediction: 1510\n",
      "Prediction: 1511\n",
      "Prediction: 1512\n"
     ]
    },
    {
     "name": "stderr",
     "output_type": "stream",
     "text": [
      "/aul/homes/jshi008/IvyProjects/ICLR/02MQRNN/util.py:57: RuntimeWarning: divide by zero encountered in true_divide\n",
      "  return np.mean(np.abs((ytrue - ypred) / ytrue))\n",
      "/aul/homes/jshi008/IvyProjects/ICLR/02MQRNN/util.py:57: RuntimeWarning: divide by zero encountered in true_divide\n",
      "  return np.mean(np.abs((ytrue - ypred) / ytrue))\n",
      "/aul/homes/jshi008/IvyProjects/ICLR/02MQRNN/util.py:57: RuntimeWarning: divide by zero encountered in true_divide\n",
      "  return np.mean(np.abs((ytrue - ypred) / ytrue))\n"
     ]
    },
    {
     "name": "stdout",
     "output_type": "stream",
     "text": [
      "Prediction: 1513\n",
      "Prediction: 1514\n",
      "Prediction: 1515\n"
     ]
    },
    {
     "name": "stderr",
     "output_type": "stream",
     "text": [
      "/aul/homes/jshi008/IvyProjects/ICLR/02MQRNN/util.py:57: RuntimeWarning: divide by zero encountered in true_divide\n",
      "  return np.mean(np.abs((ytrue - ypred) / ytrue))\n",
      "/aul/homes/jshi008/IvyProjects/ICLR/02MQRNN/util.py:57: RuntimeWarning: divide by zero encountered in true_divide\n",
      "  return np.mean(np.abs((ytrue - ypred) / ytrue))\n",
      "/aul/homes/jshi008/IvyProjects/ICLR/02MQRNN/util.py:57: RuntimeWarning: divide by zero encountered in true_divide\n",
      "  return np.mean(np.abs((ytrue - ypred) / ytrue))\n",
      "/aul/homes/jshi008/IvyProjects/ICLR/02MQRNN/util.py:57: RuntimeWarning: divide by zero encountered in true_divide\n",
      "  return np.mean(np.abs((ytrue - ypred) / ytrue))\n",
      "/aul/homes/jshi008/IvyProjects/ICLR/02MQRNN/util.py:57: RuntimeWarning: divide by zero encountered in true_divide\n",
      "  return np.mean(np.abs((ytrue - ypred) / ytrue))\n"
     ]
    },
    {
     "name": "stdout",
     "output_type": "stream",
     "text": [
      "Prediction: 1516\n",
      "Prediction: 1517\n",
      "Prediction: 1518\n",
      "Prediction: 1519\n",
      "Prediction: 1520\n"
     ]
    },
    {
     "name": "stderr",
     "output_type": "stream",
     "text": [
      "/aul/homes/jshi008/IvyProjects/ICLR/02MQRNN/util.py:57: RuntimeWarning: divide by zero encountered in true_divide\n",
      "  return np.mean(np.abs((ytrue - ypred) / ytrue))\n"
     ]
    },
    {
     "name": "stdout",
     "output_type": "stream",
     "text": [
      "Prediction: 1521\n",
      "Prediction: 1522\n",
      "Prediction: 1523\n",
      "Prediction: 1524\n",
      "Prediction: 1525\n",
      "Prediction: 1526\n",
      "Prediction: 1527\n",
      "Prediction: 1528\n",
      "Prediction: 1529\n",
      "Prediction: 1530\n",
      "Prediction: 1531\n",
      "Prediction: 1532\n",
      "Prediction: 1533\n",
      "Prediction: 1534\n",
      "Prediction: 1535\n",
      "Prediction: 1536\n",
      "Prediction: 1537\n",
      "Prediction: 1538\n",
      "Prediction: 1539\n",
      "Prediction: 1540\n",
      "Prediction: 1541\n",
      "Prediction: 1542\n",
      "Prediction: 1543\n",
      "Prediction: 1544\n",
      "Prediction: 1545\n",
      "Prediction: 1546\n",
      "Prediction: 1547\n",
      "Prediction: 1548\n",
      "Prediction: 1549\n",
      "Prediction: 1550\n",
      "Prediction: 1551\n",
      "Prediction: 1552\n",
      "Prediction: 1553\n",
      "Prediction: 1554\n",
      "Prediction: 1555\n",
      "Prediction: 1556\n",
      "Prediction: 1557\n",
      "Prediction: 1558\n",
      "Prediction: 1559\n",
      "Prediction: 1560\n",
      "Prediction: 1561\n",
      "Prediction: 1562\n",
      "Prediction: 1563\n",
      "Prediction: 1564\n",
      "Prediction: 1565\n",
      "Prediction: 1566\n",
      "Prediction: 1567\n",
      "Prediction: 1568\n",
      "Prediction: 1569\n",
      "Prediction: 1570\n",
      "Prediction: 1571\n",
      "Prediction: 1572\n",
      "Prediction: 1573\n",
      "Prediction: 1574\n",
      "Prediction: 1575\n",
      "Prediction: 1576\n",
      "Prediction: 1577\n",
      "Prediction: 1578\n",
      "Prediction: 1579\n",
      "Prediction: 1580\n",
      "Prediction: 1581\n",
      "Prediction: 1582\n",
      "Prediction: 1583\n",
      "Prediction: 1584\n",
      "Prediction: 1585\n",
      "Prediction: 1586\n",
      "Prediction: 1587\n",
      "Prediction: 1588\n",
      "Prediction: 1589\n",
      "Prediction: 1590\n",
      "Prediction: 1591\n",
      "Prediction: 1592\n",
      "Prediction: 1593\n",
      "Prediction: 1594\n",
      "Prediction: 1595\n",
      "Prediction: 1596\n",
      "Prediction: 1597\n",
      "Prediction: 1598\n",
      "Prediction: 1599\n",
      "Prediction: 1600\n",
      "Prediction: 1601\n",
      "Prediction: 1602\n",
      "Prediction: 1603\n",
      "Prediction: 1604\n",
      "Prediction: 1605\n",
      "Prediction: 1606\n",
      "Prediction: 1607\n",
      "Prediction: 1608\n",
      "Prediction: 1609\n",
      "Prediction: 1610\n",
      "Prediction: 1611\n",
      "Prediction: 1612\n",
      "Prediction: 1613\n",
      "Prediction: 1614\n",
      "Prediction: 1615\n",
      "Prediction: 1616\n",
      "Prediction: 1617\n",
      "Prediction: 1618\n",
      "Prediction: 1619\n",
      "Prediction: 1620\n",
      "Prediction: 1621\n",
      "Prediction: 1622\n",
      "Prediction: 1623\n",
      "Prediction: 1624\n",
      "Prediction: 1625\n",
      "Prediction: 1626\n",
      "Prediction: 1627\n",
      "Prediction: 1628\n",
      "Prediction: 1629\n",
      "Prediction: 1630\n",
      "Prediction: 1631\n",
      "Prediction: 1632\n",
      "Prediction: 1633\n",
      "Prediction: 1634\n",
      "Prediction: 1635\n",
      "Prediction: 1636\n",
      "Prediction: 1637\n",
      "Prediction: 1638\n",
      "Prediction: 1639\n",
      "Prediction: 1640\n",
      "Prediction: 1641\n",
      "Prediction: 1642\n",
      "Prediction: 1643\n",
      "Prediction: 1644\n",
      "Prediction: 1645\n",
      "Prediction: 1646\n",
      "Prediction: 1647\n",
      "Prediction: 1648\n",
      "Prediction: 1649\n",
      "Prediction: 1650\n",
      "Prediction: 1651\n",
      "Prediction: 1652\n",
      "Prediction: 1653\n",
      "Prediction: 1654\n",
      "Prediction: 1655\n",
      "Prediction: 1656\n",
      "Prediction: 1657\n",
      "Prediction: 1658\n",
      "Prediction: 1659\n",
      "Prediction: 1660\n",
      "Prediction: 1661\n",
      "Prediction: 1662\n",
      "Prediction: 1663\n",
      "Prediction: 1664\n",
      "Prediction: 1665\n",
      "Prediction: 1666\n",
      "Prediction: 1667\n",
      "Prediction: 1668\n",
      "Prediction: 1669\n",
      "Prediction: 1670\n",
      "Prediction: 1671\n",
      "Prediction: 1672\n",
      "Prediction: 1673\n",
      "Prediction: 1674\n",
      "Prediction: 1675\n",
      "Prediction: 1676\n",
      "Prediction: 1677\n",
      "Prediction: 1678\n",
      "Prediction: 1679\n",
      "Prediction: 1680\n",
      "Prediction: 1681\n",
      "Prediction: 1682\n",
      "Prediction: 1683\n",
      "Prediction: 1684\n",
      "Prediction: 1685\n",
      "Prediction: 1686\n",
      "Prediction: 1687\n",
      "Prediction: 1688\n",
      "Prediction: 1689\n",
      "Prediction: 1690\n",
      "Prediction: 1691\n",
      "Prediction: 1692\n",
      "Prediction: 1693\n",
      "Prediction: 1694\n",
      "Prediction: 1695\n",
      "Prediction: 1696\n",
      "Prediction: 1697\n",
      "Prediction: 1698\n",
      "Prediction: 1699\n",
      "Prediction: 1700\n",
      "Prediction: 1701\n",
      "Prediction: 1702\n",
      "Prediction: 1703\n",
      "Prediction: 1704\n",
      "Prediction: 1705\n",
      "Prediction: 1706\n",
      "Prediction: 1707\n",
      "Prediction: 1708\n",
      "Prediction: 1709\n",
      "Prediction: 1710\n",
      "Prediction: 1711\n",
      "Prediction: 1712\n",
      "Prediction: 1713\n",
      "Prediction: 1714\n",
      "Prediction: 1715\n",
      "Prediction: 1716\n",
      "Prediction: 1717\n",
      "Prediction: 1718\n",
      "Prediction: 1719\n",
      "Prediction: 1720\n",
      "Prediction: 1721\n",
      "Prediction: 1722\n",
      "Prediction: 1723\n",
      "Prediction: 1724\n",
      "Prediction: 1725\n",
      "Prediction: 1726\n",
      "Prediction: 1727\n",
      "Prediction: 1728\n",
      "Prediction: 1729\n",
      "Prediction: 1730\n",
      "Prediction: 1731\n",
      "Prediction: 1732\n",
      "Prediction: 1733\n",
      "Prediction: 1734\n",
      "Prediction: 1735\n",
      "Prediction: 1736\n",
      "Prediction: 1737\n",
      "Prediction: 1738\n",
      "Prediction: 1739\n",
      "Prediction: 1740\n",
      "Prediction: 1741\n",
      "Prediction: 1742\n",
      "Prediction: 1743\n",
      "Prediction: 1744\n",
      "Prediction: 1745\n",
      "Prediction: 1746\n",
      "Prediction: 1747\n",
      "Prediction: 1748\n",
      "Prediction: 1749\n",
      "Prediction: 1750\n",
      "Prediction: 1751\n",
      "Prediction: 1752\n",
      "Prediction: 1753\n",
      "Prediction: 1754\n",
      "Prediction: 1755\n",
      "Prediction: 1756\n",
      "Prediction: 1757\n",
      "Prediction: 1758\n",
      "Prediction: 1759\n",
      "Prediction: 1760\n",
      "Prediction: 1761\n",
      "Prediction: 1762\n",
      "Prediction: 1763\n",
      "Prediction: 1764\n",
      "Prediction: 1765\n",
      "Prediction: 1766\n",
      "Prediction: 1767\n",
      "Prediction: 1768\n",
      "Prediction: 1769\n",
      "Prediction: 1770\n",
      "Prediction: 1771\n",
      "Prediction: 1772\n",
      "Prediction: 1773\n",
      "Prediction: 1774\n",
      "Prediction: 1775\n",
      "Prediction: 1776\n",
      "Prediction: 1777\n",
      "Prediction: 1778\n",
      "Prediction: 1779\n",
      "Prediction: 1780\n",
      "Prediction: 1781\n",
      "Prediction: 1782\n",
      "Prediction: 1783\n",
      "Prediction: 1784\n",
      "Prediction: 1785\n",
      "Prediction: 1786\n",
      "Prediction: 1787\n",
      "Prediction: 1788\n",
      "Prediction: 1789\n",
      "Prediction: 1790\n",
      "Prediction: 1791\n",
      "Prediction: 1792\n",
      "Prediction: 1793\n",
      "Prediction: 1794\n",
      "Prediction: 1795\n",
      "Prediction: 1796\n",
      "Prediction: 1797\n",
      "Prediction: 1798\n",
      "Prediction: 1799\n",
      "Prediction: 1800\n",
      "Prediction: 1801\n",
      "Prediction: 1802\n",
      "Prediction: 1803\n",
      "Prediction: 1804\n",
      "Prediction: 1805\n",
      "Prediction: 1806\n",
      "Prediction: 1807\n",
      "Prediction: 1808\n",
      "Prediction: 1809\n",
      "Prediction: 1810\n",
      "Prediction: 1811\n",
      "Prediction: 1812\n",
      "Prediction: 1813\n",
      "Prediction: 1814\n",
      "Prediction: 1815\n",
      "Prediction: 1816\n",
      "Prediction: 1817\n",
      "Prediction: 1818\n",
      "Prediction: 1819\n",
      "Prediction: 1820\n",
      "Prediction: 1821\n",
      "Prediction: 1822\n",
      "Prediction: 1823\n",
      "Prediction: 1824\n",
      "Prediction: 1825\n",
      "Prediction: 1826\n",
      "Prediction: 1827\n",
      "Prediction: 1828\n",
      "Prediction: 1829\n",
      "Prediction: 1830\n",
      "Prediction: 1831\n",
      "Prediction: 1832\n",
      "Prediction: 1833\n",
      "Prediction: 1834\n",
      "Prediction: 1835\n",
      "Prediction: 1836\n",
      "Prediction: 1837\n",
      "Prediction: 1838\n",
      "Prediction: 1839\n",
      "Prediction: 1840\n",
      "Prediction: 1841\n",
      "Prediction: 1842\n",
      "Prediction: 1843\n",
      "Prediction: 1844\n",
      "Prediction: 1845\n",
      "Prediction: 1846\n",
      "Prediction: 1847\n",
      "Prediction: 1848\n",
      "Prediction: 1849\n",
      "Prediction: 1850\n",
      "Prediction: 1851\n",
      "Prediction: 1852\n",
      "Prediction: 1853\n",
      "Prediction: 1854\n",
      "Prediction: 1855\n",
      "Prediction: 1856\n",
      "Prediction: 1857\n",
      "Prediction: 1858\n",
      "Prediction: 1859\n",
      "Prediction: 1860\n",
      "Prediction: 1861\n",
      "Prediction: 1862\n",
      "Prediction: 1863\n",
      "Prediction: 1864\n",
      "Prediction: 1865\n",
      "Prediction: 1866\n",
      "Prediction: 1867\n",
      "Prediction: 1868\n",
      "Prediction: 1869\n",
      "Prediction: 1870\n",
      "Prediction: 1871\n",
      "Prediction: 1872\n",
      "Prediction: 1873\n",
      "Prediction: 1874\n",
      "Prediction: 1875\n",
      "Prediction: 1876\n",
      "Prediction: 1877\n",
      "Prediction: 1878\n",
      "Prediction: 1879\n",
      "Prediction: 1880\n",
      "Prediction: 1881\n",
      "Prediction: 1882\n",
      "Prediction: 1883\n",
      "Prediction: 1884\n",
      "Prediction: 1885\n",
      "Prediction: 1886\n",
      "Prediction: 1887\n",
      "Prediction: 1888\n",
      "Prediction: 1889\n",
      "Prediction: 1890\n",
      "Prediction: 1891\n",
      "Prediction: 1892\n",
      "Prediction: 1893\n",
      "Prediction: 1894\n",
      "Prediction: 1895\n",
      "Prediction: 1896\n",
      "Prediction: 1897\n",
      "Prediction: 1898\n",
      "Prediction: 1899\n",
      "Prediction: 1900\n"
     ]
    },
    {
     "name": "stderr",
     "output_type": "stream",
     "text": [
      "/aul/homes/jshi008/IvyProjects/ICLR/02MQRNN/util.py:57: RuntimeWarning: divide by zero encountered in true_divide\n",
      "  return np.mean(np.abs((ytrue - ypred) / ytrue))\n",
      "/aul/homes/jshi008/IvyProjects/ICLR/02MQRNN/util.py:57: RuntimeWarning: divide by zero encountered in true_divide\n",
      "  return np.mean(np.abs((ytrue - ypred) / ytrue))\n",
      "/aul/homes/jshi008/IvyProjects/ICLR/02MQRNN/util.py:57: RuntimeWarning: divide by zero encountered in true_divide\n",
      "  return np.mean(np.abs((ytrue - ypred) / ytrue))\n"
     ]
    },
    {
     "name": "stdout",
     "output_type": "stream",
     "text": [
      "Prediction: 1901\n",
      "Prediction: 1902\n",
      "Prediction: 1903\n",
      "Prediction: 1904\n"
     ]
    },
    {
     "name": "stderr",
     "output_type": "stream",
     "text": [
      "/aul/homes/jshi008/IvyProjects/ICLR/02MQRNN/util.py:57: RuntimeWarning: divide by zero encountered in true_divide\n",
      "  return np.mean(np.abs((ytrue - ypred) / ytrue))\n",
      "/aul/homes/jshi008/IvyProjects/ICLR/02MQRNN/util.py:57: RuntimeWarning: divide by zero encountered in true_divide\n",
      "  return np.mean(np.abs((ytrue - ypred) / ytrue))\n",
      "/aul/homes/jshi008/IvyProjects/ICLR/02MQRNN/util.py:57: RuntimeWarning: divide by zero encountered in true_divide\n",
      "  return np.mean(np.abs((ytrue - ypred) / ytrue))\n"
     ]
    },
    {
     "name": "stdout",
     "output_type": "stream",
     "text": [
      "Prediction: 1905\n",
      "Prediction: 1906\n"
     ]
    },
    {
     "name": "stderr",
     "output_type": "stream",
     "text": [
      "/aul/homes/jshi008/IvyProjects/ICLR/02MQRNN/util.py:57: RuntimeWarning: divide by zero encountered in true_divide\n",
      "  return np.mean(np.abs((ytrue - ypred) / ytrue))\n",
      "/aul/homes/jshi008/IvyProjects/ICLR/02MQRNN/util.py:57: RuntimeWarning: divide by zero encountered in true_divide\n",
      "  return np.mean(np.abs((ytrue - ypred) / ytrue))\n"
     ]
    },
    {
     "name": "stdout",
     "output_type": "stream",
     "text": [
      "Prediction: 1907\n"
     ]
    },
    {
     "name": "stderr",
     "output_type": "stream",
     "text": [
      "/aul/homes/jshi008/IvyProjects/ICLR/02MQRNN/util.py:57: RuntimeWarning: divide by zero encountered in true_divide\n",
      "  return np.mean(np.abs((ytrue - ypred) / ytrue))\n",
      "/aul/homes/jshi008/IvyProjects/ICLR/02MQRNN/util.py:57: RuntimeWarning: divide by zero encountered in true_divide\n",
      "  return np.mean(np.abs((ytrue - ypred) / ytrue))\n",
      "/aul/homes/jshi008/IvyProjects/ICLR/02MQRNN/util.py:57: RuntimeWarning: divide by zero encountered in true_divide\n",
      "  return np.mean(np.abs((ytrue - ypred) / ytrue))\n"
     ]
    },
    {
     "name": "stdout",
     "output_type": "stream",
     "text": [
      "Prediction: 1908\n",
      "Prediction: 1909\n",
      "Prediction: 1910\n",
      "Prediction: 1911\n"
     ]
    },
    {
     "name": "stderr",
     "output_type": "stream",
     "text": [
      "/aul/homes/jshi008/IvyProjects/ICLR/02MQRNN/util.py:57: RuntimeWarning: divide by zero encountered in true_divide\n",
      "  return np.mean(np.abs((ytrue - ypred) / ytrue))\n",
      "/aul/homes/jshi008/IvyProjects/ICLR/02MQRNN/util.py:57: RuntimeWarning: divide by zero encountered in true_divide\n",
      "  return np.mean(np.abs((ytrue - ypred) / ytrue))\n",
      "/aul/homes/jshi008/IvyProjects/ICLR/02MQRNN/util.py:57: RuntimeWarning: divide by zero encountered in true_divide\n",
      "  return np.mean(np.abs((ytrue - ypred) / ytrue))\n",
      "/aul/homes/jshi008/IvyProjects/ICLR/02MQRNN/util.py:57: RuntimeWarning: divide by zero encountered in true_divide\n",
      "  return np.mean(np.abs((ytrue - ypred) / ytrue))\n"
     ]
    },
    {
     "name": "stdout",
     "output_type": "stream",
     "text": [
      "Prediction: 1912\n",
      "Prediction: 1913\n",
      "Prediction: 1914\n",
      "Prediction: 1915\n"
     ]
    },
    {
     "name": "stderr",
     "output_type": "stream",
     "text": [
      "/aul/homes/jshi008/IvyProjects/ICLR/02MQRNN/util.py:57: RuntimeWarning: divide by zero encountered in true_divide\n",
      "  return np.mean(np.abs((ytrue - ypred) / ytrue))\n",
      "/aul/homes/jshi008/IvyProjects/ICLR/02MQRNN/util.py:57: RuntimeWarning: divide by zero encountered in true_divide\n",
      "  return np.mean(np.abs((ytrue - ypred) / ytrue))\n",
      "/aul/homes/jshi008/IvyProjects/ICLR/02MQRNN/util.py:57: RuntimeWarning: divide by zero encountered in true_divide\n",
      "  return np.mean(np.abs((ytrue - ypred) / ytrue))\n",
      "/aul/homes/jshi008/IvyProjects/ICLR/02MQRNN/util.py:57: RuntimeWarning: divide by zero encountered in true_divide\n",
      "  return np.mean(np.abs((ytrue - ypred) / ytrue))\n"
     ]
    },
    {
     "name": "stdout",
     "output_type": "stream",
     "text": [
      "Prediction: 1916\n",
      "Prediction: 1917\n",
      "Prediction: 1918\n",
      "Prediction: 1919\n",
      "Prediction: 1920\n"
     ]
    },
    {
     "name": "stderr",
     "output_type": "stream",
     "text": [
      "/aul/homes/jshi008/IvyProjects/ICLR/02MQRNN/util.py:57: RuntimeWarning: divide by zero encountered in true_divide\n",
      "  return np.mean(np.abs((ytrue - ypred) / ytrue))\n",
      "/aul/homes/jshi008/IvyProjects/ICLR/02MQRNN/util.py:57: RuntimeWarning: divide by zero encountered in true_divide\n",
      "  return np.mean(np.abs((ytrue - ypred) / ytrue))\n",
      "/aul/homes/jshi008/IvyProjects/ICLR/02MQRNN/util.py:57: RuntimeWarning: divide by zero encountered in true_divide\n",
      "  return np.mean(np.abs((ytrue - ypred) / ytrue))\n",
      "/aul/homes/jshi008/IvyProjects/ICLR/02MQRNN/util.py:57: RuntimeWarning: divide by zero encountered in true_divide\n",
      "  return np.mean(np.abs((ytrue - ypred) / ytrue))\n",
      "/aul/homes/jshi008/IvyProjects/ICLR/02MQRNN/util.py:57: RuntimeWarning: divide by zero encountered in true_divide\n",
      "  return np.mean(np.abs((ytrue - ypred) / ytrue))\n"
     ]
    },
    {
     "name": "stdout",
     "output_type": "stream",
     "text": [
      "Prediction: 1921\n",
      "Prediction: 1922\n",
      "Prediction: 1923\n",
      "Prediction: 1924\n",
      "Prediction: 1925\n"
     ]
    },
    {
     "name": "stderr",
     "output_type": "stream",
     "text": [
      "/aul/homes/jshi008/IvyProjects/ICLR/02MQRNN/util.py:57: RuntimeWarning: divide by zero encountered in true_divide\n",
      "  return np.mean(np.abs((ytrue - ypred) / ytrue))\n",
      "/aul/homes/jshi008/IvyProjects/ICLR/02MQRNN/util.py:57: RuntimeWarning: divide by zero encountered in true_divide\n",
      "  return np.mean(np.abs((ytrue - ypred) / ytrue))\n",
      "/aul/homes/jshi008/IvyProjects/ICLR/02MQRNN/util.py:57: RuntimeWarning: divide by zero encountered in true_divide\n",
      "  return np.mean(np.abs((ytrue - ypred) / ytrue))\n"
     ]
    },
    {
     "name": "stdout",
     "output_type": "stream",
     "text": [
      "Prediction: 1926\n",
      "Prediction: 1927\n",
      "Prediction: 1928\n"
     ]
    },
    {
     "name": "stderr",
     "output_type": "stream",
     "text": [
      "/aul/homes/jshi008/IvyProjects/ICLR/02MQRNN/util.py:57: RuntimeWarning: divide by zero encountered in true_divide\n",
      "  return np.mean(np.abs((ytrue - ypred) / ytrue))\n",
      "/aul/homes/jshi008/IvyProjects/ICLR/02MQRNN/util.py:57: RuntimeWarning: divide by zero encountered in true_divide\n",
      "  return np.mean(np.abs((ytrue - ypred) / ytrue))\n",
      "/aul/homes/jshi008/IvyProjects/ICLR/02MQRNN/util.py:57: RuntimeWarning: divide by zero encountered in true_divide\n",
      "  return np.mean(np.abs((ytrue - ypred) / ytrue))\n"
     ]
    },
    {
     "name": "stdout",
     "output_type": "stream",
     "text": [
      "Prediction: 1929\n",
      "Prediction: 1930\n"
     ]
    },
    {
     "name": "stderr",
     "output_type": "stream",
     "text": [
      "/aul/homes/jshi008/IvyProjects/ICLR/02MQRNN/util.py:57: RuntimeWarning: divide by zero encountered in true_divide\n",
      "  return np.mean(np.abs((ytrue - ypred) / ytrue))\n",
      "/aul/homes/jshi008/IvyProjects/ICLR/02MQRNN/util.py:57: RuntimeWarning: divide by zero encountered in true_divide\n",
      "  return np.mean(np.abs((ytrue - ypred) / ytrue))\n"
     ]
    },
    {
     "name": "stdout",
     "output_type": "stream",
     "text": [
      "Prediction: 1931\n"
     ]
    },
    {
     "name": "stderr",
     "output_type": "stream",
     "text": [
      "/aul/homes/jshi008/IvyProjects/ICLR/02MQRNN/util.py:57: RuntimeWarning: divide by zero encountered in true_divide\n",
      "  return np.mean(np.abs((ytrue - ypred) / ytrue))\n",
      "/aul/homes/jshi008/IvyProjects/ICLR/02MQRNN/util.py:57: RuntimeWarning: divide by zero encountered in true_divide\n",
      "  return np.mean(np.abs((ytrue - ypred) / ytrue))\n",
      "/aul/homes/jshi008/IvyProjects/ICLR/02MQRNN/util.py:57: RuntimeWarning: divide by zero encountered in true_divide\n",
      "  return np.mean(np.abs((ytrue - ypred) / ytrue))\n",
      "/aul/homes/jshi008/IvyProjects/ICLR/02MQRNN/util.py:57: RuntimeWarning: divide by zero encountered in true_divide\n",
      "  return np.mean(np.abs((ytrue - ypred) / ytrue))\n"
     ]
    },
    {
     "name": "stdout",
     "output_type": "stream",
     "text": [
      "Prediction: 1932\n",
      "Prediction: 1933\n",
      "Prediction: 1934\n",
      "Prediction: 1935\n",
      "Prediction: 1936\n",
      "Prediction: 1937\n",
      "Prediction: 1938\n",
      "Prediction: 1939\n",
      "Prediction: 1940\n",
      "Prediction: 1941\n",
      "Prediction: 1942\n",
      "Prediction: 1943\n",
      "Prediction: 1944\n",
      "Prediction: 1945\n",
      "Prediction: 1946\n",
      "Prediction: 1947\n",
      "Prediction: 1948\n",
      "Prediction: 1949\n",
      "Prediction: 1950\n",
      "Prediction: 1951\n",
      "Prediction: 1952\n",
      "Prediction: 1953\n",
      "Prediction: 1954\n",
      "Prediction: 1955\n",
      "Prediction: 1956\n",
      "Prediction: 1957\n",
      "Prediction: 1958\n",
      "Prediction: 1959\n",
      "Prediction: 1960\n",
      "Prediction: 1961\n",
      "Prediction: 1962\n",
      "Prediction: 1963\n",
      "Prediction: 1964\n",
      "Prediction: 1965\n",
      "Prediction: 1966\n",
      "Prediction: 1967\n",
      "Prediction: 1968\n",
      "Prediction: 1969\n",
      "Prediction: 1970\n",
      "Prediction: 1971\n",
      "Prediction: 1972\n",
      "Prediction: 1973\n",
      "Prediction: 1974\n",
      "Prediction: 1975\n",
      "Prediction: 1976\n",
      "Prediction: 1977\n",
      "Prediction: 1978\n",
      "Prediction: 1979\n",
      "Prediction: 1980\n",
      "Prediction: 1981\n",
      "Prediction: 1982\n",
      "Prediction: 1983\n",
      "Prediction: 1984\n",
      "Prediction: 1985\n",
      "Prediction: 1986\n",
      "Prediction: 1987\n",
      "Prediction: 1988\n",
      "Prediction: 1989\n",
      "Prediction: 1990\n",
      "Prediction: 1991\n",
      "Prediction: 1992\n",
      "Prediction: 1993\n",
      "Prediction: 1994\n",
      "Prediction: 1995\n"
     ]
    },
    {
     "name": "stderr",
     "output_type": "stream",
     "text": [
      "/aul/homes/jshi008/IvyProjects/ICLR/02MQRNN/util.py:57: RuntimeWarning: divide by zero encountered in true_divide\n",
      "  return np.mean(np.abs((ytrue - ypred) / ytrue))\n",
      "/aul/homes/jshi008/IvyProjects/ICLR/02MQRNN/util.py:57: RuntimeWarning: divide by zero encountered in true_divide\n",
      "  return np.mean(np.abs((ytrue - ypred) / ytrue))\n",
      "/aul/homes/jshi008/IvyProjects/ICLR/02MQRNN/util.py:57: RuntimeWarning: divide by zero encountered in true_divide\n",
      "  return np.mean(np.abs((ytrue - ypred) / ytrue))\n",
      "/aul/homes/jshi008/IvyProjects/ICLR/02MQRNN/util.py:57: RuntimeWarning: divide by zero encountered in true_divide\n",
      "  return np.mean(np.abs((ytrue - ypred) / ytrue))\n",
      "/aul/homes/jshi008/IvyProjects/ICLR/02MQRNN/util.py:57: RuntimeWarning: divide by zero encountered in true_divide\n",
      "  return np.mean(np.abs((ytrue - ypred) / ytrue))\n"
     ]
    },
    {
     "name": "stdout",
     "output_type": "stream",
     "text": [
      "Prediction: 1996\n",
      "Prediction: 1997\n",
      "Prediction: 1998\n",
      "Prediction: 1999\n"
     ]
    },
    {
     "name": "stderr",
     "output_type": "stream",
     "text": [
      "/aul/homes/jshi008/IvyProjects/ICLR/02MQRNN/util.py:57: RuntimeWarning: divide by zero encountered in true_divide\n",
      "  return np.mean(np.abs((ytrue - ypred) / ytrue))\n",
      "/aul/homes/jshi008/IvyProjects/ICLR/02MQRNN/util.py:57: RuntimeWarning: divide by zero encountered in true_divide\n",
      "  return np.mean(np.abs((ytrue - ypred) / ytrue))\n",
      "/aul/homes/jshi008/IvyProjects/ICLR/02MQRNN/util.py:57: RuntimeWarning: divide by zero encountered in true_divide\n",
      "  return np.mean(np.abs((ytrue - ypred) / ytrue))\n",
      "/aul/homes/jshi008/IvyProjects/ICLR/02MQRNN/util.py:57: RuntimeWarning: divide by zero encountered in true_divide\n",
      "  return np.mean(np.abs((ytrue - ypred) / ytrue))\n"
     ]
    },
    {
     "name": "stdout",
     "output_type": "stream",
     "text": [
      "Prediction: 2000\n",
      "Prediction: 2001\n",
      "Prediction: 2002\n",
      "Prediction: 2003\n",
      "Prediction: 2004\n"
     ]
    },
    {
     "name": "stderr",
     "output_type": "stream",
     "text": [
      "/aul/homes/jshi008/IvyProjects/ICLR/02MQRNN/util.py:57: RuntimeWarning: divide by zero encountered in true_divide\n",
      "  return np.mean(np.abs((ytrue - ypred) / ytrue))\n",
      "/aul/homes/jshi008/IvyProjects/ICLR/02MQRNN/util.py:57: RuntimeWarning: divide by zero encountered in true_divide\n",
      "  return np.mean(np.abs((ytrue - ypred) / ytrue))\n",
      "/aul/homes/jshi008/IvyProjects/ICLR/02MQRNN/util.py:57: RuntimeWarning: divide by zero encountered in true_divide\n",
      "  return np.mean(np.abs((ytrue - ypred) / ytrue))\n",
      "/aul/homes/jshi008/IvyProjects/ICLR/02MQRNN/util.py:57: RuntimeWarning: divide by zero encountered in true_divide\n",
      "  return np.mean(np.abs((ytrue - ypred) / ytrue))\n"
     ]
    },
    {
     "name": "stdout",
     "output_type": "stream",
     "text": [
      "Prediction: 2005\n",
      "Prediction: 2006\n",
      "Prediction: 2007\n"
     ]
    },
    {
     "name": "stderr",
     "output_type": "stream",
     "text": [
      "/aul/homes/jshi008/IvyProjects/ICLR/02MQRNN/util.py:57: RuntimeWarning: divide by zero encountered in true_divide\n",
      "  return np.mean(np.abs((ytrue - ypred) / ytrue))\n",
      "/aul/homes/jshi008/IvyProjects/ICLR/02MQRNN/util.py:57: RuntimeWarning: divide by zero encountered in true_divide\n",
      "  return np.mean(np.abs((ytrue - ypred) / ytrue))\n",
      "/aul/homes/jshi008/IvyProjects/ICLR/02MQRNN/util.py:57: RuntimeWarning: divide by zero encountered in true_divide\n",
      "  return np.mean(np.abs((ytrue - ypred) / ytrue))\n"
     ]
    },
    {
     "name": "stdout",
     "output_type": "stream",
     "text": [
      "Prediction: 2008\n"
     ]
    },
    {
     "name": "stderr",
     "output_type": "stream",
     "text": [
      "/aul/homes/jshi008/IvyProjects/ICLR/02MQRNN/util.py:57: RuntimeWarning: divide by zero encountered in true_divide\n",
      "  return np.mean(np.abs((ytrue - ypred) / ytrue))\n",
      "/aul/homes/jshi008/IvyProjects/ICLR/02MQRNN/util.py:57: RuntimeWarning: divide by zero encountered in true_divide\n",
      "  return np.mean(np.abs((ytrue - ypred) / ytrue))\n",
      "/aul/homes/jshi008/IvyProjects/ICLR/02MQRNN/util.py:57: RuntimeWarning: divide by zero encountered in true_divide\n",
      "  return np.mean(np.abs((ytrue - ypred) / ytrue))\n"
     ]
    },
    {
     "name": "stdout",
     "output_type": "stream",
     "text": [
      "Prediction: 2009\n",
      "Prediction: 2010\n",
      "Prediction: 2011\n"
     ]
    },
    {
     "name": "stderr",
     "output_type": "stream",
     "text": [
      "/aul/homes/jshi008/IvyProjects/ICLR/02MQRNN/util.py:57: RuntimeWarning: divide by zero encountered in true_divide\n",
      "  return np.mean(np.abs((ytrue - ypred) / ytrue))\n",
      "/aul/homes/jshi008/IvyProjects/ICLR/02MQRNN/util.py:57: RuntimeWarning: divide by zero encountered in true_divide\n",
      "  return np.mean(np.abs((ytrue - ypred) / ytrue))\n",
      "/aul/homes/jshi008/IvyProjects/ICLR/02MQRNN/util.py:57: RuntimeWarning: divide by zero encountered in true_divide\n",
      "  return np.mean(np.abs((ytrue - ypred) / ytrue))\n"
     ]
    },
    {
     "name": "stdout",
     "output_type": "stream",
     "text": [
      "Prediction: 2012\n",
      "Prediction: 2013\n",
      "Prediction: 2014\n"
     ]
    },
    {
     "name": "stderr",
     "output_type": "stream",
     "text": [
      "/aul/homes/jshi008/IvyProjects/ICLR/02MQRNN/util.py:57: RuntimeWarning: divide by zero encountered in true_divide\n",
      "  return np.mean(np.abs((ytrue - ypred) / ytrue))\n",
      "/aul/homes/jshi008/IvyProjects/ICLR/02MQRNN/util.py:57: RuntimeWarning: divide by zero encountered in true_divide\n",
      "  return np.mean(np.abs((ytrue - ypred) / ytrue))\n"
     ]
    },
    {
     "name": "stdout",
     "output_type": "stream",
     "text": [
      "Prediction: 2015\n",
      "Prediction: 2016\n",
      "Prediction: 2017\n",
      "Prediction: 2018\n",
      "Prediction: 2019\n",
      "Prediction: 2020\n",
      "Prediction: 2021\n",
      "Prediction: 2022\n",
      "Prediction: 2023\n",
      "Prediction: 2024\n",
      "Prediction: 2025\n",
      "Prediction: 2026\n",
      "Prediction: 2027\n",
      "Prediction: 2028\n",
      "Prediction: 2029\n",
      "Prediction: 2030\n",
      "Prediction: 2031\n",
      "Prediction: 2032\n",
      "Prediction: 2033\n",
      "Prediction: 2034\n",
      "Prediction: 2035\n",
      "Prediction: 2036\n",
      "Prediction: 2037\n",
      "Prediction: 2038\n",
      "Prediction: 2039\n",
      "Prediction: 2040\n",
      "Prediction: 2041\n",
      "Prediction: 2042\n",
      "Prediction: 2043\n",
      "Prediction: 2044\n",
      "Prediction: 2045\n",
      "Prediction: 2046\n",
      "Prediction: 2047\n",
      "Prediction: 2048\n",
      "Prediction: 2049\n",
      "Prediction: 2050\n",
      "Prediction: 2051\n",
      "Prediction: 2052\n",
      "Prediction: 2053\n",
      "Prediction: 2054\n",
      "Prediction: 2055\n"
     ]
    },
    {
     "name": "stderr",
     "output_type": "stream",
     "text": [
      "/aul/homes/jshi008/IvyProjects/ICLR/02MQRNN/util.py:57: RuntimeWarning: divide by zero encountered in true_divide\n",
      "  return np.mean(np.abs((ytrue - ypred) / ytrue))\n",
      "/aul/homes/jshi008/IvyProjects/ICLR/02MQRNN/util.py:57: RuntimeWarning: divide by zero encountered in true_divide\n",
      "  return np.mean(np.abs((ytrue - ypred) / ytrue))\n",
      "/aul/homes/jshi008/IvyProjects/ICLR/02MQRNN/util.py:57: RuntimeWarning: divide by zero encountered in true_divide\n",
      "  return np.mean(np.abs((ytrue - ypred) / ytrue))\n",
      "/aul/homes/jshi008/IvyProjects/ICLR/02MQRNN/util.py:57: RuntimeWarning: divide by zero encountered in true_divide\n",
      "  return np.mean(np.abs((ytrue - ypred) / ytrue))\n"
     ]
    },
    {
     "name": "stdout",
     "output_type": "stream",
     "text": [
      "Prediction: 2056\n",
      "Prediction: 2057\n",
      "Prediction: 2058\n",
      "Prediction: 2059\n",
      "Prediction: 2060\n"
     ]
    },
    {
     "name": "stderr",
     "output_type": "stream",
     "text": [
      "/aul/homes/jshi008/IvyProjects/ICLR/02MQRNN/util.py:57: RuntimeWarning: divide by zero encountered in true_divide\n",
      "  return np.mean(np.abs((ytrue - ypred) / ytrue))\n",
      "/aul/homes/jshi008/IvyProjects/ICLR/02MQRNN/util.py:57: RuntimeWarning: divide by zero encountered in true_divide\n",
      "  return np.mean(np.abs((ytrue - ypred) / ytrue))\n",
      "/aul/homes/jshi008/IvyProjects/ICLR/02MQRNN/util.py:57: RuntimeWarning: divide by zero encountered in true_divide\n",
      "  return np.mean(np.abs((ytrue - ypred) / ytrue))\n",
      "/aul/homes/jshi008/IvyProjects/ICLR/02MQRNN/util.py:57: RuntimeWarning: divide by zero encountered in true_divide\n",
      "  return np.mean(np.abs((ytrue - ypred) / ytrue))\n",
      "/aul/homes/jshi008/IvyProjects/ICLR/02MQRNN/util.py:57: RuntimeWarning: divide by zero encountered in true_divide\n",
      "  return np.mean(np.abs((ytrue - ypred) / ytrue))\n"
     ]
    },
    {
     "name": "stdout",
     "output_type": "stream",
     "text": [
      "Prediction: 2061\n",
      "Prediction: 2062\n",
      "Prediction: 2063\n",
      "Prediction: 2064\n",
      "Prediction: 2065\n"
     ]
    },
    {
     "name": "stderr",
     "output_type": "stream",
     "text": [
      "/aul/homes/jshi008/IvyProjects/ICLR/02MQRNN/util.py:57: RuntimeWarning: divide by zero encountered in true_divide\n",
      "  return np.mean(np.abs((ytrue - ypred) / ytrue))\n",
      "/aul/homes/jshi008/IvyProjects/ICLR/02MQRNN/util.py:57: RuntimeWarning: divide by zero encountered in true_divide\n",
      "  return np.mean(np.abs((ytrue - ypred) / ytrue))\n",
      "/aul/homes/jshi008/IvyProjects/ICLR/02MQRNN/util.py:57: RuntimeWarning: divide by zero encountered in true_divide\n",
      "  return np.mean(np.abs((ytrue - ypred) / ytrue))\n",
      "/aul/homes/jshi008/IvyProjects/ICLR/02MQRNN/util.py:57: RuntimeWarning: divide by zero encountered in true_divide\n",
      "  return np.mean(np.abs((ytrue - ypred) / ytrue))\n"
     ]
    },
    {
     "name": "stdout",
     "output_type": "stream",
     "text": [
      "Prediction: 2066\n",
      "Prediction: 2067\n",
      "Prediction: 2068\n",
      "Prediction: 2069\n"
     ]
    },
    {
     "name": "stderr",
     "output_type": "stream",
     "text": [
      "/aul/homes/jshi008/IvyProjects/ICLR/02MQRNN/util.py:57: RuntimeWarning: divide by zero encountered in true_divide\n",
      "  return np.mean(np.abs((ytrue - ypred) / ytrue))\n",
      "/aul/homes/jshi008/IvyProjects/ICLR/02MQRNN/util.py:57: RuntimeWarning: divide by zero encountered in true_divide\n",
      "  return np.mean(np.abs((ytrue - ypred) / ytrue))\n",
      "/aul/homes/jshi008/IvyProjects/ICLR/02MQRNN/util.py:57: RuntimeWarning: divide by zero encountered in true_divide\n",
      "  return np.mean(np.abs((ytrue - ypred) / ytrue))\n",
      "/aul/homes/jshi008/IvyProjects/ICLR/02MQRNN/util.py:57: RuntimeWarning: divide by zero encountered in true_divide\n",
      "  return np.mean(np.abs((ytrue - ypred) / ytrue))\n"
     ]
    },
    {
     "name": "stdout",
     "output_type": "stream",
     "text": [
      "Prediction: 2070\n",
      "Prediction: 2071\n",
      "Prediction: 2072\n",
      "Prediction: 2073\n"
     ]
    },
    {
     "name": "stderr",
     "output_type": "stream",
     "text": [
      "/aul/homes/jshi008/IvyProjects/ICLR/02MQRNN/util.py:57: RuntimeWarning: divide by zero encountered in true_divide\n",
      "  return np.mean(np.abs((ytrue - ypred) / ytrue))\n",
      "/aul/homes/jshi008/IvyProjects/ICLR/02MQRNN/util.py:57: RuntimeWarning: divide by zero encountered in true_divide\n",
      "  return np.mean(np.abs((ytrue - ypred) / ytrue))\n",
      "/aul/homes/jshi008/IvyProjects/ICLR/02MQRNN/util.py:57: RuntimeWarning: divide by zero encountered in true_divide\n",
      "  return np.mean(np.abs((ytrue - ypred) / ytrue))\n",
      "/aul/homes/jshi008/IvyProjects/ICLR/02MQRNN/util.py:57: RuntimeWarning: divide by zero encountered in true_divide\n",
      "  return np.mean(np.abs((ytrue - ypred) / ytrue))\n"
     ]
    },
    {
     "name": "stdout",
     "output_type": "stream",
     "text": [
      "Prediction: 2074\n",
      "Prediction: 2075\n",
      "Prediction: 2076\n"
     ]
    },
    {
     "name": "stderr",
     "output_type": "stream",
     "text": [
      "/aul/homes/jshi008/IvyProjects/ICLR/02MQRNN/util.py:57: RuntimeWarning: divide by zero encountered in true_divide\n",
      "  return np.mean(np.abs((ytrue - ypred) / ytrue))\n",
      "/aul/homes/jshi008/IvyProjects/ICLR/02MQRNN/util.py:57: RuntimeWarning: divide by zero encountered in true_divide\n",
      "  return np.mean(np.abs((ytrue - ypred) / ytrue))\n",
      "/aul/homes/jshi008/IvyProjects/ICLR/02MQRNN/util.py:57: RuntimeWarning: divide by zero encountered in true_divide\n",
      "  return np.mean(np.abs((ytrue - ypred) / ytrue))\n",
      "/aul/homes/jshi008/IvyProjects/ICLR/02MQRNN/util.py:57: RuntimeWarning: divide by zero encountered in true_divide\n",
      "  return np.mean(np.abs((ytrue - ypred) / ytrue))\n"
     ]
    },
    {
     "name": "stdout",
     "output_type": "stream",
     "text": [
      "Prediction: 2077\n",
      "Prediction: 2078\n",
      "Prediction: 2079\n",
      "Prediction: 2080\n"
     ]
    },
    {
     "name": "stderr",
     "output_type": "stream",
     "text": [
      "/aul/homes/jshi008/IvyProjects/ICLR/02MQRNN/util.py:57: RuntimeWarning: divide by zero encountered in true_divide\n",
      "  return np.mean(np.abs((ytrue - ypred) / ytrue))\n",
      "/aul/homes/jshi008/IvyProjects/ICLR/02MQRNN/util.py:57: RuntimeWarning: divide by zero encountered in true_divide\n",
      "  return np.mean(np.abs((ytrue - ypred) / ytrue))\n",
      "/aul/homes/jshi008/IvyProjects/ICLR/02MQRNN/util.py:57: RuntimeWarning: divide by zero encountered in true_divide\n",
      "  return np.mean(np.abs((ytrue - ypred) / ytrue))\n",
      "/aul/homes/jshi008/IvyProjects/ICLR/02MQRNN/util.py:57: RuntimeWarning: divide by zero encountered in true_divide\n",
      "  return np.mean(np.abs((ytrue - ypred) / ytrue))\n",
      "/aul/homes/jshi008/IvyProjects/ICLR/02MQRNN/util.py:57: RuntimeWarning: divide by zero encountered in true_divide\n",
      "  return np.mean(np.abs((ytrue - ypred) / ytrue))\n"
     ]
    },
    {
     "name": "stdout",
     "output_type": "stream",
     "text": [
      "Prediction: 2081\n",
      "Prediction: 2082\n",
      "Prediction: 2083\n",
      "Prediction: 2084\n"
     ]
    },
    {
     "name": "stderr",
     "output_type": "stream",
     "text": [
      "/aul/homes/jshi008/IvyProjects/ICLR/02MQRNN/util.py:57: RuntimeWarning: divide by zero encountered in true_divide\n",
      "  return np.mean(np.abs((ytrue - ypred) / ytrue))\n",
      "/aul/homes/jshi008/IvyProjects/ICLR/02MQRNN/util.py:57: RuntimeWarning: divide by zero encountered in true_divide\n",
      "  return np.mean(np.abs((ytrue - ypred) / ytrue))\n",
      "/aul/homes/jshi008/IvyProjects/ICLR/02MQRNN/util.py:57: RuntimeWarning: divide by zero encountered in true_divide\n",
      "  return np.mean(np.abs((ytrue - ypred) / ytrue))\n"
     ]
    },
    {
     "name": "stdout",
     "output_type": "stream",
     "text": [
      "Prediction: 2085\n",
      "Prediction: 2086\n",
      "Prediction: 2087\n",
      "Prediction: 2088\n"
     ]
    },
    {
     "name": "stderr",
     "output_type": "stream",
     "text": [
      "/aul/homes/jshi008/IvyProjects/ICLR/02MQRNN/util.py:57: RuntimeWarning: divide by zero encountered in true_divide\n",
      "  return np.mean(np.abs((ytrue - ypred) / ytrue))\n",
      "/aul/homes/jshi008/IvyProjects/ICLR/02MQRNN/util.py:57: RuntimeWarning: divide by zero encountered in true_divide\n",
      "  return np.mean(np.abs((ytrue - ypred) / ytrue))\n",
      "/aul/homes/jshi008/IvyProjects/ICLR/02MQRNN/util.py:57: RuntimeWarning: divide by zero encountered in true_divide\n",
      "  return np.mean(np.abs((ytrue - ypred) / ytrue))\n",
      "/aul/homes/jshi008/IvyProjects/ICLR/02MQRNN/util.py:57: RuntimeWarning: divide by zero encountered in true_divide\n",
      "  return np.mean(np.abs((ytrue - ypred) / ytrue))\n"
     ]
    },
    {
     "name": "stdout",
     "output_type": "stream",
     "text": [
      "Prediction: 2089\n",
      "Prediction: 2090\n",
      "Prediction: 2091\n"
     ]
    },
    {
     "name": "stderr",
     "output_type": "stream",
     "text": [
      "/aul/homes/jshi008/IvyProjects/ICLR/02MQRNN/util.py:57: RuntimeWarning: divide by zero encountered in true_divide\n",
      "  return np.mean(np.abs((ytrue - ypred) / ytrue))\n",
      "/aul/homes/jshi008/IvyProjects/ICLR/02MQRNN/util.py:57: RuntimeWarning: divide by zero encountered in true_divide\n",
      "  return np.mean(np.abs((ytrue - ypred) / ytrue))\n",
      "/aul/homes/jshi008/IvyProjects/ICLR/02MQRNN/util.py:57: RuntimeWarning: divide by zero encountered in true_divide\n",
      "  return np.mean(np.abs((ytrue - ypred) / ytrue))\n",
      "/aul/homes/jshi008/IvyProjects/ICLR/02MQRNN/util.py:57: RuntimeWarning: divide by zero encountered in true_divide\n",
      "  return np.mean(np.abs((ytrue - ypred) / ytrue))\n"
     ]
    },
    {
     "name": "stdout",
     "output_type": "stream",
     "text": [
      "Prediction: 2092\n",
      "Prediction: 2093\n",
      "Prediction: 2094\n"
     ]
    },
    {
     "name": "stderr",
     "output_type": "stream",
     "text": [
      "/aul/homes/jshi008/IvyProjects/ICLR/02MQRNN/util.py:57: RuntimeWarning: divide by zero encountered in true_divide\n",
      "  return np.mean(np.abs((ytrue - ypred) / ytrue))\n"
     ]
    },
    {
     "name": "stdout",
     "output_type": "stream",
     "text": [
      "Prediction: 2095\n",
      "Prediction: 2096\n",
      "Prediction: 2097\n",
      "Prediction: 2098\n",
      "Prediction: 2099\n",
      "Prediction: 2100\n",
      "Prediction: 2101\n",
      "Prediction: 2102\n",
      "Prediction: 2103\n",
      "Prediction: 2104\n",
      "Prediction: 2105\n",
      "Prediction: 2106\n",
      "Prediction: 2107\n",
      "Prediction: 2108\n",
      "Prediction: 2109\n",
      "Prediction: 2110\n",
      "Prediction: 2111\n",
      "Prediction: 2112\n",
      "Prediction: 2113\n",
      "Prediction: 2114\n",
      "Prediction: 2115\n",
      "Prediction: 2116\n",
      "Prediction: 2117\n",
      "Prediction: 2118\n",
      "Prediction: 2119\n",
      "Prediction: 2120\n",
      "Prediction: 2121\n",
      "Prediction: 2122\n",
      "Prediction: 2123\n",
      "Prediction: 2124\n",
      "Prediction: 2125\n",
      "Prediction: 2126\n",
      "Prediction: 2127\n",
      "Prediction: 2128\n",
      "Prediction: 2129\n",
      "Prediction: 2130\n",
      "Prediction: 2131\n",
      "Prediction: 2132\n",
      "Prediction: 2133\n",
      "Prediction: 2134\n",
      "Prediction: 2135\n",
      "Prediction: 2136\n",
      "Prediction: 2137\n",
      "Prediction: 2138\n",
      "Prediction: 2139\n",
      "Prediction: 2140\n",
      "Prediction: 2141\n",
      "Prediction: 2142\n",
      "Prediction: 2143\n",
      "Prediction: 2144\n",
      "Prediction: 2145\n",
      "Prediction: 2146\n",
      "Prediction: 2147\n",
      "Prediction: 2148\n",
      "Prediction: 2149\n",
      "Prediction: 2150\n",
      "Prediction: 2151\n",
      "Prediction: 2152\n",
      "Prediction: 2153\n",
      "Prediction: 2154\n",
      "Prediction: 2155\n",
      "Prediction: 2156\n",
      "Prediction: 2157\n",
      "Prediction: 2158\n",
      "Prediction: 2159\n",
      "Prediction: 2160\n",
      "Prediction: 2161\n",
      "Prediction: 2162\n",
      "Prediction: 2163\n",
      "Prediction: 2164\n",
      "Prediction: 2165\n",
      "Prediction: 2166\n",
      "Prediction: 2167\n",
      "Prediction: 2168\n",
      "Prediction: 2169\n",
      "Prediction: 2170\n",
      "Prediction: 2171\n",
      "Prediction: 2172\n",
      "Prediction: 2173\n"
     ]
    },
    {
     "name": "stderr",
     "output_type": "stream",
     "text": [
      "/aul/homes/jshi008/IvyProjects/ICLR/02MQRNN/util.py:57: RuntimeWarning: divide by zero encountered in true_divide\n",
      "  return np.mean(np.abs((ytrue - ypred) / ytrue))\n",
      "/aul/homes/jshi008/IvyProjects/ICLR/02MQRNN/util.py:57: RuntimeWarning: divide by zero encountered in true_divide\n",
      "  return np.mean(np.abs((ytrue - ypred) / ytrue))\n"
     ]
    },
    {
     "name": "stdout",
     "output_type": "stream",
     "text": [
      "Prediction: 2174\n",
      "Prediction: 2175\n"
     ]
    },
    {
     "name": "stderr",
     "output_type": "stream",
     "text": [
      "/aul/homes/jshi008/IvyProjects/ICLR/02MQRNN/util.py:57: RuntimeWarning: divide by zero encountered in true_divide\n",
      "  return np.mean(np.abs((ytrue - ypred) / ytrue))\n",
      "/aul/homes/jshi008/IvyProjects/ICLR/02MQRNN/util.py:57: RuntimeWarning: divide by zero encountered in true_divide\n",
      "  return np.mean(np.abs((ytrue - ypred) / ytrue))\n"
     ]
    },
    {
     "name": "stdout",
     "output_type": "stream",
     "text": [
      "Prediction: 2176\n",
      "Prediction: 2177\n",
      "Prediction: 2178\n",
      "Prediction: 2179\n"
     ]
    },
    {
     "name": "stderr",
     "output_type": "stream",
     "text": [
      "/aul/homes/jshi008/IvyProjects/ICLR/02MQRNN/util.py:57: RuntimeWarning: divide by zero encountered in true_divide\n",
      "  return np.mean(np.abs((ytrue - ypred) / ytrue))\n",
      "/aul/homes/jshi008/IvyProjects/ICLR/02MQRNN/util.py:57: RuntimeWarning: divide by zero encountered in true_divide\n",
      "  return np.mean(np.abs((ytrue - ypred) / ytrue))\n",
      "/aul/homes/jshi008/IvyProjects/ICLR/02MQRNN/util.py:57: RuntimeWarning: divide by zero encountered in true_divide\n",
      "  return np.mean(np.abs((ytrue - ypred) / ytrue))\n",
      "/aul/homes/jshi008/IvyProjects/ICLR/02MQRNN/util.py:57: RuntimeWarning: divide by zero encountered in true_divide\n",
      "  return np.mean(np.abs((ytrue - ypred) / ytrue))\n",
      "/aul/homes/jshi008/IvyProjects/ICLR/02MQRNN/util.py:57: RuntimeWarning: divide by zero encountered in true_divide\n",
      "  return np.mean(np.abs((ytrue - ypred) / ytrue))\n"
     ]
    },
    {
     "name": "stdout",
     "output_type": "stream",
     "text": [
      "Prediction: 2180\n",
      "Prediction: 2181\n",
      "Prediction: 2182\n",
      "Prediction: 2183\n"
     ]
    },
    {
     "name": "stderr",
     "output_type": "stream",
     "text": [
      "/aul/homes/jshi008/IvyProjects/ICLR/02MQRNN/util.py:57: RuntimeWarning: divide by zero encountered in true_divide\n",
      "  return np.mean(np.abs((ytrue - ypred) / ytrue))\n",
      "/aul/homes/jshi008/IvyProjects/ICLR/02MQRNN/util.py:57: RuntimeWarning: divide by zero encountered in true_divide\n",
      "  return np.mean(np.abs((ytrue - ypred) / ytrue))\n",
      "/aul/homes/jshi008/IvyProjects/ICLR/02MQRNN/util.py:57: RuntimeWarning: divide by zero encountered in true_divide\n",
      "  return np.mean(np.abs((ytrue - ypred) / ytrue))\n"
     ]
    },
    {
     "name": "stdout",
     "output_type": "stream",
     "text": [
      "Prediction: 2184\n",
      "Prediction: 2185\n",
      "Prediction: 2186\n"
     ]
    },
    {
     "name": "stderr",
     "output_type": "stream",
     "text": [
      "/aul/homes/jshi008/IvyProjects/ICLR/02MQRNN/util.py:57: RuntimeWarning: divide by zero encountered in true_divide\n",
      "  return np.mean(np.abs((ytrue - ypred) / ytrue))\n",
      "/aul/homes/jshi008/IvyProjects/ICLR/02MQRNN/util.py:57: RuntimeWarning: divide by zero encountered in true_divide\n",
      "  return np.mean(np.abs((ytrue - ypred) / ytrue))\n",
      "/aul/homes/jshi008/IvyProjects/ICLR/02MQRNN/util.py:57: RuntimeWarning: divide by zero encountered in true_divide\n",
      "  return np.mean(np.abs((ytrue - ypred) / ytrue))\n",
      "/aul/homes/jshi008/IvyProjects/ICLR/02MQRNN/util.py:57: RuntimeWarning: divide by zero encountered in true_divide\n",
      "  return np.mean(np.abs((ytrue - ypred) / ytrue))\n"
     ]
    },
    {
     "name": "stdout",
     "output_type": "stream",
     "text": [
      "Prediction: 2187\n",
      "Prediction: 2188\n",
      "Prediction: 2189\n",
      "Prediction: 2190\n",
      "Prediction: 2191\n"
     ]
    },
    {
     "name": "stderr",
     "output_type": "stream",
     "text": [
      "/aul/homes/jshi008/IvyProjects/ICLR/02MQRNN/util.py:57: RuntimeWarning: divide by zero encountered in true_divide\n",
      "  return np.mean(np.abs((ytrue - ypred) / ytrue))\n",
      "/aul/homes/jshi008/IvyProjects/ICLR/02MQRNN/util.py:57: RuntimeWarning: divide by zero encountered in true_divide\n",
      "  return np.mean(np.abs((ytrue - ypred) / ytrue))\n",
      "/aul/homes/jshi008/IvyProjects/ICLR/02MQRNN/util.py:57: RuntimeWarning: divide by zero encountered in true_divide\n",
      "  return np.mean(np.abs((ytrue - ypred) / ytrue))\n",
      "/aul/homes/jshi008/IvyProjects/ICLR/02MQRNN/util.py:57: RuntimeWarning: divide by zero encountered in true_divide\n",
      "  return np.mean(np.abs((ytrue - ypred) / ytrue))\n"
     ]
    },
    {
     "name": "stdout",
     "output_type": "stream",
     "text": [
      "Prediction: 2192\n",
      "Prediction: 2193\n",
      "Prediction: 2194\n",
      "Prediction: 2195\n"
     ]
    },
    {
     "name": "stderr",
     "output_type": "stream",
     "text": [
      "/aul/homes/jshi008/IvyProjects/ICLR/02MQRNN/util.py:57: RuntimeWarning: divide by zero encountered in true_divide\n",
      "  return np.mean(np.abs((ytrue - ypred) / ytrue))\n",
      "/aul/homes/jshi008/IvyProjects/ICLR/02MQRNN/util.py:57: RuntimeWarning: divide by zero encountered in true_divide\n",
      "  return np.mean(np.abs((ytrue - ypred) / ytrue))\n",
      "/aul/homes/jshi008/IvyProjects/ICLR/02MQRNN/util.py:57: RuntimeWarning: divide by zero encountered in true_divide\n",
      "  return np.mean(np.abs((ytrue - ypred) / ytrue))\n",
      "/aul/homes/jshi008/IvyProjects/ICLR/02MQRNN/util.py:57: RuntimeWarning: divide by zero encountered in true_divide\n",
      "  return np.mean(np.abs((ytrue - ypred) / ytrue))\n"
     ]
    },
    {
     "name": "stdout",
     "output_type": "stream",
     "text": [
      "Prediction: 2196\n",
      "Prediction: 2197\n",
      "Prediction: 2198\n",
      "Prediction: 2199\n",
      "Prediction: 2200\n",
      "Prediction: 2201\n",
      "Prediction: 2202\n",
      "Prediction: 2203\n",
      "Prediction: 2204\n",
      "Prediction: 2205\n",
      "Prediction: 2206\n",
      "Prediction: 2207\n",
      "Prediction: 2208\n",
      "Prediction: 2209\n",
      "Prediction: 2210\n",
      "Prediction: 2211\n",
      "Prediction: 2212\n",
      "Prediction: 2213\n",
      "Prediction: 2214\n",
      "Prediction: 2215\n",
      "Prediction: 2216\n",
      "Prediction: 2217\n",
      "Prediction: 2218\n",
      "Prediction: 2219\n",
      "Prediction: 2220\n",
      "Prediction: 2221\n",
      "Prediction: 2222\n",
      "Prediction: 2223\n",
      "Prediction: 2224\n",
      "Prediction: 2225\n",
      "Prediction: 2226\n",
      "Prediction: 2227\n",
      "Prediction: 2228\n",
      "Prediction: 2229\n",
      "Prediction: 2230\n",
      "Prediction: 2231\n",
      "Prediction: 2232\n",
      "Prediction: 2233\n",
      "Prediction: 2234\n",
      "Prediction: 2235\n",
      "Prediction: 2236\n",
      "Prediction: 2237\n",
      "Prediction: 2238\n",
      "Prediction: 2239\n",
      "Prediction: 2240\n",
      "Prediction: 2241\n",
      "Prediction: 2242\n",
      "Prediction: 2243\n",
      "Prediction: 2244\n",
      "Prediction: 2245\n",
      "Prediction: 2246\n",
      "Prediction: 2247\n",
      "Prediction: 2248\n",
      "Prediction: 2249\n",
      "Prediction: 2250\n",
      "Prediction: 2251\n",
      "Prediction: 2252\n",
      "Prediction: 2253\n",
      "Prediction: 2254\n",
      "Prediction: 2255\n",
      "Prediction: 2256\n",
      "Prediction: 2257\n",
      "Prediction: 2258\n",
      "Prediction: 2259\n",
      "Prediction: 2260\n",
      "Prediction: 2261\n",
      "Prediction: 2262\n",
      "Prediction: 2263\n",
      "Prediction: 2264\n",
      "Prediction: 2265\n",
      "Prediction: 2266\n",
      "Prediction: 2267\n",
      "Prediction: 2268\n",
      "Prediction: 2269\n",
      "Prediction: 2270\n",
      "Prediction: 2271\n",
      "Prediction: 2272\n"
     ]
    },
    {
     "name": "stderr",
     "output_type": "stream",
     "text": [
      "/aul/homes/jshi008/IvyProjects/ICLR/02MQRNN/util.py:57: RuntimeWarning: divide by zero encountered in true_divide\n",
      "  return np.mean(np.abs((ytrue - ypred) / ytrue))\n",
      "/aul/homes/jshi008/IvyProjects/ICLR/02MQRNN/util.py:57: RuntimeWarning: divide by zero encountered in true_divide\n",
      "  return np.mean(np.abs((ytrue - ypred) / ytrue))\n"
     ]
    },
    {
     "name": "stdout",
     "output_type": "stream",
     "text": [
      "Prediction: 2273\n",
      "Prediction: 2274\n"
     ]
    },
    {
     "name": "stderr",
     "output_type": "stream",
     "text": [
      "/aul/homes/jshi008/IvyProjects/ICLR/02MQRNN/util.py:57: RuntimeWarning: divide by zero encountered in true_divide\n",
      "  return np.mean(np.abs((ytrue - ypred) / ytrue))\n",
      "/aul/homes/jshi008/IvyProjects/ICLR/02MQRNN/util.py:57: RuntimeWarning: divide by zero encountered in true_divide\n",
      "  return np.mean(np.abs((ytrue - ypred) / ytrue))\n",
      "/aul/homes/jshi008/IvyProjects/ICLR/02MQRNN/util.py:57: RuntimeWarning: divide by zero encountered in true_divide\n",
      "  return np.mean(np.abs((ytrue - ypred) / ytrue))\n",
      "/aul/homes/jshi008/IvyProjects/ICLR/02MQRNN/util.py:57: RuntimeWarning: divide by zero encountered in true_divide\n",
      "  return np.mean(np.abs((ytrue - ypred) / ytrue))\n"
     ]
    },
    {
     "name": "stdout",
     "output_type": "stream",
     "text": [
      "Prediction: 2275\n",
      "Prediction: 2276\n",
      "Prediction: 2277\n",
      "Prediction: 2278\n"
     ]
    },
    {
     "name": "stderr",
     "output_type": "stream",
     "text": [
      "/aul/homes/jshi008/IvyProjects/ICLR/02MQRNN/util.py:57: RuntimeWarning: divide by zero encountered in true_divide\n",
      "  return np.mean(np.abs((ytrue - ypred) / ytrue))\n",
      "/aul/homes/jshi008/IvyProjects/ICLR/02MQRNN/util.py:57: RuntimeWarning: divide by zero encountered in true_divide\n",
      "  return np.mean(np.abs((ytrue - ypred) / ytrue))\n",
      "/aul/homes/jshi008/IvyProjects/ICLR/02MQRNN/util.py:57: RuntimeWarning: divide by zero encountered in true_divide\n",
      "  return np.mean(np.abs((ytrue - ypred) / ytrue))\n",
      "/aul/homes/jshi008/IvyProjects/ICLR/02MQRNN/util.py:57: RuntimeWarning: divide by zero encountered in true_divide\n",
      "  return np.mean(np.abs((ytrue - ypred) / ytrue))\n"
     ]
    },
    {
     "name": "stdout",
     "output_type": "stream",
     "text": [
      "Prediction: 2279\n",
      "Prediction: 2280\n",
      "Prediction: 2281\n",
      "Prediction: 2282\n"
     ]
    },
    {
     "name": "stderr",
     "output_type": "stream",
     "text": [
      "/aul/homes/jshi008/IvyProjects/ICLR/02MQRNN/util.py:57: RuntimeWarning: divide by zero encountered in true_divide\n",
      "  return np.mean(np.abs((ytrue - ypred) / ytrue))\n",
      "/aul/homes/jshi008/IvyProjects/ICLR/02MQRNN/util.py:57: RuntimeWarning: divide by zero encountered in true_divide\n",
      "  return np.mean(np.abs((ytrue - ypred) / ytrue))\n",
      "/aul/homes/jshi008/IvyProjects/ICLR/02MQRNN/util.py:57: RuntimeWarning: divide by zero encountered in true_divide\n",
      "  return np.mean(np.abs((ytrue - ypred) / ytrue))\n"
     ]
    },
    {
     "name": "stdout",
     "output_type": "stream",
     "text": [
      "Prediction: 2283\n",
      "Prediction: 2284\n",
      "Prediction: 2285\n"
     ]
    },
    {
     "name": "stderr",
     "output_type": "stream",
     "text": [
      "/aul/homes/jshi008/IvyProjects/ICLR/02MQRNN/util.py:57: RuntimeWarning: divide by zero encountered in true_divide\n",
      "  return np.mean(np.abs((ytrue - ypred) / ytrue))\n",
      "/aul/homes/jshi008/IvyProjects/ICLR/02MQRNN/util.py:57: RuntimeWarning: divide by zero encountered in true_divide\n",
      "  return np.mean(np.abs((ytrue - ypred) / ytrue))\n"
     ]
    },
    {
     "name": "stdout",
     "output_type": "stream",
     "text": [
      "Prediction: 2286\n",
      "Prediction: 2287\n"
     ]
    },
    {
     "name": "stderr",
     "output_type": "stream",
     "text": [
      "/aul/homes/jshi008/IvyProjects/ICLR/02MQRNN/util.py:57: RuntimeWarning: divide by zero encountered in true_divide\n",
      "  return np.mean(np.abs((ytrue - ypred) / ytrue))\n",
      "/aul/homes/jshi008/IvyProjects/ICLR/02MQRNN/util.py:57: RuntimeWarning: divide by zero encountered in true_divide\n",
      "  return np.mean(np.abs((ytrue - ypred) / ytrue))\n",
      "/aul/homes/jshi008/IvyProjects/ICLR/02MQRNN/util.py:57: RuntimeWarning: divide by zero encountered in true_divide\n",
      "  return np.mean(np.abs((ytrue - ypred) / ytrue))\n",
      "/aul/homes/jshi008/IvyProjects/ICLR/02MQRNN/util.py:57: RuntimeWarning: divide by zero encountered in true_divide\n",
      "  return np.mean(np.abs((ytrue - ypred) / ytrue))\n"
     ]
    },
    {
     "name": "stdout",
     "output_type": "stream",
     "text": [
      "Prediction: 2288\n",
      "Prediction: 2289\n",
      "Prediction: 2290\n",
      "Prediction: 2291\n"
     ]
    },
    {
     "name": "stderr",
     "output_type": "stream",
     "text": [
      "/aul/homes/jshi008/IvyProjects/ICLR/02MQRNN/util.py:57: RuntimeWarning: divide by zero encountered in true_divide\n",
      "  return np.mean(np.abs((ytrue - ypred) / ytrue))\n",
      "/aul/homes/jshi008/IvyProjects/ICLR/02MQRNN/util.py:57: RuntimeWarning: divide by zero encountered in true_divide\n",
      "  return np.mean(np.abs((ytrue - ypred) / ytrue))\n",
      "/aul/homes/jshi008/IvyProjects/ICLR/02MQRNN/util.py:57: RuntimeWarning: divide by zero encountered in true_divide\n",
      "  return np.mean(np.abs((ytrue - ypred) / ytrue))\n",
      "/aul/homes/jshi008/IvyProjects/ICLR/02MQRNN/util.py:57: RuntimeWarning: divide by zero encountered in true_divide\n",
      "  return np.mean(np.abs((ytrue - ypred) / ytrue))\n"
     ]
    },
    {
     "name": "stdout",
     "output_type": "stream",
     "text": [
      "Prediction: 2292\n",
      "Prediction: 2293\n",
      "Prediction: 2294\n",
      "Prediction: 2295\n"
     ]
    },
    {
     "name": "stderr",
     "output_type": "stream",
     "text": [
      "/aul/homes/jshi008/IvyProjects/ICLR/02MQRNN/util.py:57: RuntimeWarning: divide by zero encountered in true_divide\n",
      "  return np.mean(np.abs((ytrue - ypred) / ytrue))\n"
     ]
    },
    {
     "name": "stdout",
     "output_type": "stream",
     "text": [
      "Prediction: 2296\n",
      "Prediction: 2297\n",
      "Prediction: 2298\n",
      "Prediction: 2299\n",
      "Prediction: 2300\n",
      "Prediction: 2301\n",
      "Prediction: 2302\n",
      "Prediction: 2303\n",
      "Prediction: 2304\n",
      "Prediction: 2305\n",
      "Prediction: 2306\n",
      "Prediction: 2307\n",
      "Prediction: 2308\n",
      "Prediction: 2309\n",
      "Prediction: 2310\n",
      "Prediction: 2311\n",
      "Prediction: 2312\n",
      "Prediction: 2313\n",
      "Prediction: 2314\n",
      "====== MAPE, MAE, RMSE ======\n",
      "inf 0.12087594710009873 0.1579417738946333\n"
     ]
    },
    {
     "data": {
      "image/png": "[encoded data removed]",
      "text/plain": [
       "<Figure size 432x288 with 1 Axes>"
      ]
     },
     "metadata": {
      "needs_background": "light"
     },
     "output_type": "display_data"
    }
   ],
   "source": [
    "X_df = dataset.loc[:, ['WS_S4', 'FLOW_S25A', 'GATE_S25A', 'HWS_S25A',\n",
    "       'FLOW_S25B', 'GATE_S25B', 'GATE_S25B2', 'HWS_S25B',\n",
    "        'PUMP_S25B', 'FLOW_S26', 'GATE_S26_1', 'GATE_S26_2',\n",
    "       'HWS_S26', 'PUMP_S26', 'MEAN_RAIN']]\n",
    "y_df = dataset.loc[:, ['TWS_S26']]\n",
    "X = np.array(X_df)\n",
    "y = np.array(y_df)\n",
    "\n",
    "from sklearn.preprocessing import MinMaxScaler\n",
    "scaler = MinMaxScaler(feature_range=(0, 1))\n",
    "X = scaler.fit_transform(X)\n",
    "\n",
    "\n",
    "num_features = X.shape[1]\n",
    "num_periods = len(X) // 8\n",
    "X = np.asarray(X).reshape((-1, num_periods, num_features))\n",
    "y = np.asarray(y).reshape((-1, num_periods))\n",
    "print(\"X.shape, y.shape:\", X.shape, y.shape)\n",
    "\n",
    "quantiles = [0.1, 0.5, 1]  # 0.1, 0.5, 1\n",
    "losses, test_mape, test_mae, test_rmse = train(X, y, quantiles)\n",
    "#print(test_mape, test_mae, test_rmse)\n",
    "\n",
    "\n",
    "print('====== MAPE, MAE, RMSE ======')\n",
    "print(sum(test_mape) / len(test_mape),\n",
    "      sum(test_mae) / len(test_mae), \n",
    "      sum(test_rmse) / len(test_rmse))\n",
    "\n",
    "\n",
    "plt.plot(range(len(losses)), losses, \"k-\")\n",
    "plt.xlabel(\"Period\")\n",
    "plt.ylabel(\"Loss\")\n",
    "plt.show()"
   ]
  },
  {
   "cell_type": "code",
   "execution_count": null,
   "id": "cc0f6030",
   "metadata": {},
   "outputs": [],
   "source": []
  },
  {
   "cell_type": "code",
   "execution_count": null,
   "id": "8c53886b",
   "metadata": {},
   "outputs": [],
   "source": []
  }
 ],
 "metadata": {
  "kernelspec": {
   "display_name": "Python 3 (ipykernel)",
   "language": "python",
   "name": "python3"
  },
  "language_info": {
   "codemirror_mode": {
    "name": "ipython",
    "version": 3
   },
   "file_extension": ".py",
   "mimetype": "text/x-python",
   "name": "python",
   "nbconvert_exporter": "python",
   "pygments_lexer": "ipython3",
   "version": "3.8.13"
  }
 },
 "nbformat": 4,
 "nbformat_minor": 5
}

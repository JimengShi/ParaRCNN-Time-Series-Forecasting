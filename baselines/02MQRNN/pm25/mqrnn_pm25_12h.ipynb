{
 "cells": [
  {
   "cell_type": "code",
   "execution_count": 13,
   "id": "fe59265d",
   "metadata": {},
   "outputs": [],
   "source": [
    "# !pip install progressbar"
   ]
  },
  {
   "cell_type": "code",
   "execution_count": 15,
   "id": "f69729b0",
   "metadata": {},
   "outputs": [],
   "source": [
    "import torch\n",
    "from torch import nn\n",
    "import torch.nn.functional as F \n",
    "from torch.optim import Adam\n",
    "\n",
    "import numpy as np\n",
    "import os\n",
    "import random\n",
    "import matplotlib.pyplot as plt\n",
    "import pickle\n",
    "from tqdm import tqdm\n",
    "import pandas as pd\n",
    "import util\n",
    "from sklearn.preprocessing import StandardScaler, MinMaxScaler\n",
    "from time import time\n",
    "import argparse\n",
    "from datetime import date\n",
    "from progressbar import *\n",
    "from sklearn.metrics import mean_squared_error as MSE\n",
    "from sklearn.metrics import mean_absolute_error as MAE"
   ]
  },
  {
   "cell_type": "code",
   "execution_count": 16,
   "id": "74914511",
   "metadata": {},
   "outputs": [],
   "source": [
    "def train_test_split(X, y, train_ratio=0.8):\n",
    "    num_ts, num_periods, num_features = X.shape\n",
    "    train_periods = int(num_periods * train_ratio)\n",
    "    random.seed(2)\n",
    "    Xtr = X[:, :train_periods, :]\n",
    "    ytr = y[:, :train_periods]\n",
    "    Xte = X[:, train_periods:, :]\n",
    "    yte = y[:, train_periods:]\n",
    "    return Xtr, ytr, Xte, yte\n"
   ]
  },
  {
   "cell_type": "code",
   "execution_count": 17,
   "id": "dbc9c273",
   "metadata": {},
   "outputs": [],
   "source": [
    "class Decoder(nn.Module):\n",
    "\n",
    "    def __init__(\n",
    "        self, \n",
    "        input_size, \n",
    "        output_horizon,\n",
    "        encoder_hidden_size, \n",
    "        decoder_hidden_size, \n",
    "        output_size):\n",
    "        super(Decoder, self).__init__()\n",
    "        self.global_mlp = nn.Linear(output_horizon * (encoder_hidden_size + input_size), (output_horizon+1) * decoder_hidden_size)\n",
    "        self.local_mlp = nn.Linear(decoder_hidden_size * 2 + input_size, output_size)\n",
    "        self.decoder_hidden_size = decoder_hidden_size\n",
    "    \n",
    "    def forward(self, ht, xf):\n",
    "        '''\n",
    "        Args:\n",
    "        ht (tensor): (1, hidden_size)\n",
    "        xf (tensor): (output_horizon, num_features)\n",
    "        '''\n",
    "        num_ts, output_horizon, num_features = xf.size()\n",
    "        num_ts, hidden_size = ht.size()\n",
    "        ht = ht.unsqueeze(1)\n",
    "        ht = ht.expand(num_ts, output_horizon, hidden_size)\n",
    "        # inp = (xf + ht).view(batch_size, -1) # batch_size, hidden_size, output_horizon\n",
    "        inp = torch.cat([xf, ht], dim=2).view(num_ts, -1)\n",
    "        contexts = self.global_mlp(inp)\n",
    "        contexts = contexts.view(num_ts, output_horizon+1, self.decoder_hidden_size)\n",
    "        ca = contexts[:, -1, :].view(num_ts, -1)\n",
    "        C = contexts[:, :-1, :]\n",
    "        C = F.relu(C)\n",
    "        y = []\n",
    "        for i in range(output_horizon):\n",
    "            ci = C[:, i, :].view(num_ts, -1)\n",
    "            xfi = xf[:, i, :].view(num_ts, -1)\n",
    "            inp = torch.cat([xfi, ci, ca], dim=1)\n",
    "            out = self.local_mlp(inp) # num_ts, num_quantiles\n",
    "            y.append(out.unsqueeze(1))\n",
    "        y = torch.cat(y, dim=1) # batch_size, output_horizon, quantiles\n",
    "        return y \n",
    "\n",
    "\n",
    "class MQRNN(nn.Module):\n",
    "\n",
    "    def __init__(\n",
    "        self, \n",
    "        output_horizon, \n",
    "        num_quantiles, \n",
    "        input_size, \n",
    "        embedding_size=10,\n",
    "        encoder_hidden_size=64, \n",
    "        encoder_n_layers=3,\n",
    "        decoder_hidden_size=64\n",
    "        ):\n",
    "        '''\n",
    "        Args:\n",
    "        output_horizon (int): output horizons to output in prediction\n",
    "        num_quantiles (int): number of quantiles interests, e.g. 0.25, 0.5, 0.75\n",
    "        input_size (int): feature size\n",
    "        embedding_size (int): embedding size\n",
    "        encoder_hidden_size (int): hidden size in encoder\n",
    "        encoder_n_layers (int): encoder number of layers\n",
    "        decoder_hidden_size (int): hidden size in decoder\n",
    "        '''\n",
    "        super(MQRNN, self).__init__()\n",
    "        self.output_horizon = output_horizon\n",
    "        self.encoder_hidden_size = encoder_hidden_size\n",
    "        self.input_embed = nn.Linear(1, embedding_size) # time series embedding\n",
    "        self.encoder = nn.LSTM(input_size + embedding_size, encoder_hidden_size, encoder_n_layers, bias=True, batch_first=True)\n",
    "        self.decoder = Decoder(input_size, output_horizon, encoder_hidden_size, decoder_hidden_size, num_quantiles)\n",
    "    \n",
    "    def forward(self, X, y, Xf):\n",
    "        '''\n",
    "        Args:\n",
    "        X (tensor like): shape (num_time_series, num_periods, num_features)\n",
    "        y (tensor like): shape (num_time_series, num_periods)\n",
    "        Xf (tensor like): shape (num_time_series, seq_len, num_features)\n",
    "        '''\n",
    "        if isinstance(X, type(np.empty(2))):\n",
    "            X = torch.from_numpy(X).float()\n",
    "            y = torch.from_numpy(y).float()\n",
    "            Xf = torch.from_numpy(Xf).float()\n",
    "        num_ts, num_periods, num_features = X.size()\n",
    "        y = y.unsqueeze(2)\n",
    "        y = self.input_embed(y)\n",
    "        x = torch.cat([X, y], dim=2)\n",
    "        # x = x.unsqueeze(0) # batch, seq_len, embed + num_features\n",
    "        _, (h, c) = self.encoder(x)\n",
    "        ht = h[-1, :, :]\n",
    "        # global mlp\n",
    "        ht = F.relu(ht)\n",
    "        ypred = self.decoder(ht, Xf)\n",
    "        return ypred\n",
    "\n",
    "    \n",
    "def batch_generator(X, y, num_obs_to_train, seq_len, batch_size):\n",
    "    '''\n",
    "    Args:\n",
    "    X (array like): shape (num_samples, num_features, num_periods)\n",
    "    y (array like): shape (num_samples, num_periods)\n",
    "    num_obs_to_train (int)\n",
    "    seq_len (int): sequence/encoder/decoder length\n",
    "    '''\n",
    "    num_ts, num_periods, _ = X.shape\n",
    "\n",
    "    if num_ts < batch_size:\n",
    "        batch_size = num_ts\n",
    "    t = random.choice(range(num_obs_to_train, num_periods-seq_len))\n",
    "    batch = random.sample(range(num_ts), batch_size)\n",
    "    \n",
    "    X_train_batch = X[batch, t-num_obs_to_train:t, :]\n",
    "    y_train_batch = y[batch, t-num_obs_to_train:t]\n",
    "    Xf = X[batch, t:t+seq_len, :]\n",
    "    yf = y[batch, t:t+seq_len]\n",
    "    \n",
    "    return X_train_batch, y_train_batch, Xf, yf"
   ]
  },
  {
   "cell_type": "code",
   "execution_count": 18,
   "id": "209af951",
   "metadata": {},
   "outputs": [],
   "source": [
    "# batch_generator(X, y, num_obs_to_train, seq_len, batch_size)"
   ]
  },
  {
   "cell_type": "code",
   "execution_count": 19,
   "id": "08272692",
   "metadata": {},
   "outputs": [],
   "source": [
    "def train(X, y, quantiles):\n",
    "    num_ts, num_periods, num_features = X.shape\n",
    "    num_quantiles = len(quantiles)\n",
    "    model = MQRNN(seq_len, num_quantiles, num_features, embedding_size, encoder_hidden_size, n_layers, decoder_hidden_size)\n",
    "    optimizer = Adam(model.parameters(), lr=lr)\n",
    "    \n",
    "    Xtr, ytr, Xte, yte = train_test_split(X, y)\n",
    "    print(Xtr.shape, ytr.shape, Xte.shape, yte.shape)\n",
    "    \n",
    "    \n",
    "    losses = []\n",
    "    mape_list, mae_list, rmse_list = [], [], []\n",
    "    \n",
    "    yscaler = None\n",
    "    if standard_scaler:\n",
    "        yscaler = util.StandardScaler()\n",
    "    elif log_scaler:\n",
    "        yscaler = util.LogScaler()\n",
    "    elif mean_scaler:\n",
    "        yscaler = util.MeanScaler()\n",
    "    if yscaler is not None:\n",
    "        ytr = yscaler.fit_transform(ytr)\n",
    "    \n",
    "    \n",
    "    ####################  train  ####################\n",
    "    progress = ProgressBar()\n",
    "    for epoch in progress(range(num_epoches)):\n",
    "        print(\"Epoch {} start...\".format(epoch))\n",
    "        for step in range(step_per_epoch):\n",
    "            X_train_batch, y_train_batch, Xf, yf = batch_generator(Xtr, ytr, num_obs_to_train, seq_len, batch_size)\n",
    "\n",
    "            X_train_tensor = torch.from_numpy(X_train_batch).float()\n",
    "            y_train_tensor = torch.from_numpy(y_train_batch).float() \n",
    "\n",
    "            Xf = torch.from_numpy(Xf).float()\n",
    "            yf = torch.from_numpy(yf).float()\n",
    "            ypred = model(X_train_tensor, y_train_tensor, Xf)\n",
    "\n",
    "            # quantile loss\n",
    "            loss = torch.zeros_like(yf)\n",
    "            num_ts = Xf.size(0)\n",
    "            for q, rho in enumerate(quantiles):\n",
    "                ypred_rho = ypred[:, :, q].view(num_ts, -1)\n",
    "                e = ypred_rho - yf\n",
    "                loss += torch.max(rho * e, (rho - 1) * e)\n",
    "            loss = loss.mean()\n",
    "\n",
    "            losses.append(loss.item())\n",
    "            optimizer.zero_grad()\n",
    "            loss.backward()\n",
    "            optimizer.step()\n",
    "    \n",
    "    ####################  test  ####################\n",
    "    for i in range(Xte.shape[1]-num_obs_to_train-seq_len):\n",
    "#     for i in range(5):\n",
    "        print('Prediction:', i)\n",
    "        X_test = Xte[:, i:i+num_obs_to_train, :].reshape((num_ts, -1, num_features))\n",
    "        Xf_test = Xte[:, i+num_obs_to_train:i+num_obs_to_train+seq_len, :].reshape((num_ts, -1, num_features))\n",
    "        y_test = yte[:, i:i+num_obs_to_train].reshape((num_ts, -1))\n",
    "\n",
    "        if yscaler is not None:\n",
    "            y_test = yscaler.transform(y_test)\n",
    "        yf_test = yte[:, i+num_obs_to_train:i+num_obs_to_train+seq_len]\n",
    "\n",
    "        ypred = model(X_test, y_test, Xf_test) # (1, num_quantiles, output_horizon)\n",
    "        ypred = ypred.data.numpy()\n",
    "        ypred = yscaler.inverse_transform(ypred)\n",
    "\n",
    "        # P50 quantile MAPE \n",
    "        mape = util.MAPE(yf_test, ypred[:, :, 1])\n",
    "        mape_list.append(mape)\n",
    "#         print(\"MAPE: {}\".format(mape))\n",
    "\n",
    "        mae = MAE(ypred[:, :, 1], yf_test)\n",
    "        mae_list.append(mae)\n",
    "#         print(\"MAE: {}\".format(mae))\n",
    "\n",
    "        rmse = np.sqrt(MSE(ypred[:, :, 1], yf_test))\n",
    "        rmse_list.append(rmse)\n",
    "#         print(\"RMSE: {}\".format(rmse))\n",
    "    \n",
    "    return losses, mape_list, mae_list, rmse_list"
   ]
  },
  {
   "cell_type": "code",
   "execution_count": 21,
   "id": "9cf68a8c",
   "metadata": {},
   "outputs": [
    {
     "name": "stdout",
     "output_type": "stream",
     "text": [
      "(43800, 12)\n"
     ]
    }
   ],
   "source": [
    "#if args.run_test:\n",
    "# data_path = util.get_data_path()\n",
    "dataset = pd.read_csv(\"../../..data/pollution.csv\")\n",
    "dataset.fillna(0, inplace=True)\n",
    "print(dataset.shape)\n",
    "# dataset"
   ]
  },
  {
   "cell_type": "code",
   "execution_count": 22,
   "id": "fe96e5dc",
   "metadata": {},
   "outputs": [],
   "source": [
    "dataset['date'] = pd.to_datetime(dataset['date'])\n",
    "# dataset"
   ]
  },
  {
   "cell_type": "code",
   "execution_count": 23,
   "id": "49f6798a",
   "metadata": {},
   "outputs": [
    {
     "data": {
      "text/html": [
       "<div>\n",
       "<style scoped>\n",
       "    .dataframe tbody tr th:only-of-type {\n",
       "        vertical-align: middle;\n",
       "    }\n",
       "\n",
       "    .dataframe tbody tr th {\n",
       "        vertical-align: top;\n",
       "    }\n",
       "\n",
       "    .dataframe thead th {\n",
       "        text-align: right;\n",
       "    }\n",
       "</style>\n",
       "<table border=\"1\" class=\"dataframe\">\n",
       "  <thead>\n",
       "    <tr style=\"text-align: right;\">\n",
       "      <th></th>\n",
       "      <th>pollution</th>\n",
       "      <th>dew</th>\n",
       "      <th>temp</th>\n",
       "      <th>press</th>\n",
       "      <th>wnd_spd</th>\n",
       "      <th>snow</th>\n",
       "      <th>rain</th>\n",
       "      <th>NE</th>\n",
       "      <th>NW</th>\n",
       "      <th>SE</th>\n",
       "      <th>cv</th>\n",
       "      <th>Day of Week</th>\n",
       "      <th>day</th>\n",
       "      <th>hour</th>\n",
       "      <th>month</th>\n",
       "    </tr>\n",
       "  </thead>\n",
       "  <tbody>\n",
       "    <tr>\n",
       "      <th>0</th>\n",
       "      <td>129.0</td>\n",
       "      <td>-16</td>\n",
       "      <td>-4.0</td>\n",
       "      <td>1020.0</td>\n",
       "      <td>1.79</td>\n",
       "      <td>0</td>\n",
       "      <td>0</td>\n",
       "      <td>0</td>\n",
       "      <td>0</td>\n",
       "      <td>1</td>\n",
       "      <td>0</td>\n",
       "      <td>5</td>\n",
       "      <td>2</td>\n",
       "      <td>0</td>\n",
       "      <td>1</td>\n",
       "    </tr>\n",
       "    <tr>\n",
       "      <th>1</th>\n",
       "      <td>148.0</td>\n",
       "      <td>-15</td>\n",
       "      <td>-4.0</td>\n",
       "      <td>1020.0</td>\n",
       "      <td>2.68</td>\n",
       "      <td>0</td>\n",
       "      <td>0</td>\n",
       "      <td>0</td>\n",
       "      <td>0</td>\n",
       "      <td>1</td>\n",
       "      <td>0</td>\n",
       "      <td>5</td>\n",
       "      <td>2</td>\n",
       "      <td>1</td>\n",
       "      <td>1</td>\n",
       "    </tr>\n",
       "    <tr>\n",
       "      <th>2</th>\n",
       "      <td>159.0</td>\n",
       "      <td>-11</td>\n",
       "      <td>-5.0</td>\n",
       "      <td>1021.0</td>\n",
       "      <td>3.57</td>\n",
       "      <td>0</td>\n",
       "      <td>0</td>\n",
       "      <td>0</td>\n",
       "      <td>0</td>\n",
       "      <td>1</td>\n",
       "      <td>0</td>\n",
       "      <td>5</td>\n",
       "      <td>2</td>\n",
       "      <td>2</td>\n",
       "      <td>1</td>\n",
       "    </tr>\n",
       "    <tr>\n",
       "      <th>3</th>\n",
       "      <td>181.0</td>\n",
       "      <td>-7</td>\n",
       "      <td>-5.0</td>\n",
       "      <td>1022.0</td>\n",
       "      <td>5.36</td>\n",
       "      <td>1</td>\n",
       "      <td>0</td>\n",
       "      <td>0</td>\n",
       "      <td>0</td>\n",
       "      <td>1</td>\n",
       "      <td>0</td>\n",
       "      <td>5</td>\n",
       "      <td>2</td>\n",
       "      <td>3</td>\n",
       "      <td>1</td>\n",
       "    </tr>\n",
       "    <tr>\n",
       "      <th>4</th>\n",
       "      <td>138.0</td>\n",
       "      <td>-7</td>\n",
       "      <td>-5.0</td>\n",
       "      <td>1022.0</td>\n",
       "      <td>6.25</td>\n",
       "      <td>2</td>\n",
       "      <td>0</td>\n",
       "      <td>0</td>\n",
       "      <td>0</td>\n",
       "      <td>1</td>\n",
       "      <td>0</td>\n",
       "      <td>5</td>\n",
       "      <td>2</td>\n",
       "      <td>4</td>\n",
       "      <td>1</td>\n",
       "    </tr>\n",
       "    <tr>\n",
       "      <th>...</th>\n",
       "      <td>...</td>\n",
       "      <td>...</td>\n",
       "      <td>...</td>\n",
       "      <td>...</td>\n",
       "      <td>...</td>\n",
       "      <td>...</td>\n",
       "      <td>...</td>\n",
       "      <td>...</td>\n",
       "      <td>...</td>\n",
       "      <td>...</td>\n",
       "      <td>...</td>\n",
       "      <td>...</td>\n",
       "      <td>...</td>\n",
       "      <td>...</td>\n",
       "      <td>...</td>\n",
       "    </tr>\n",
       "    <tr>\n",
       "      <th>43795</th>\n",
       "      <td>8.0</td>\n",
       "      <td>-23</td>\n",
       "      <td>-2.0</td>\n",
       "      <td>1034.0</td>\n",
       "      <td>231.97</td>\n",
       "      <td>0</td>\n",
       "      <td>0</td>\n",
       "      <td>0</td>\n",
       "      <td>1</td>\n",
       "      <td>0</td>\n",
       "      <td>0</td>\n",
       "      <td>2</td>\n",
       "      <td>31</td>\n",
       "      <td>19</td>\n",
       "      <td>12</td>\n",
       "    </tr>\n",
       "    <tr>\n",
       "      <th>43796</th>\n",
       "      <td>10.0</td>\n",
       "      <td>-22</td>\n",
       "      <td>-3.0</td>\n",
       "      <td>1034.0</td>\n",
       "      <td>237.78</td>\n",
       "      <td>0</td>\n",
       "      <td>0</td>\n",
       "      <td>0</td>\n",
       "      <td>1</td>\n",
       "      <td>0</td>\n",
       "      <td>0</td>\n",
       "      <td>2</td>\n",
       "      <td>31</td>\n",
       "      <td>20</td>\n",
       "      <td>12</td>\n",
       "    </tr>\n",
       "    <tr>\n",
       "      <th>43797</th>\n",
       "      <td>10.0</td>\n",
       "      <td>-22</td>\n",
       "      <td>-3.0</td>\n",
       "      <td>1034.0</td>\n",
       "      <td>242.70</td>\n",
       "      <td>0</td>\n",
       "      <td>0</td>\n",
       "      <td>0</td>\n",
       "      <td>1</td>\n",
       "      <td>0</td>\n",
       "      <td>0</td>\n",
       "      <td>2</td>\n",
       "      <td>31</td>\n",
       "      <td>21</td>\n",
       "      <td>12</td>\n",
       "    </tr>\n",
       "    <tr>\n",
       "      <th>43798</th>\n",
       "      <td>8.0</td>\n",
       "      <td>-22</td>\n",
       "      <td>-4.0</td>\n",
       "      <td>1034.0</td>\n",
       "      <td>246.72</td>\n",
       "      <td>0</td>\n",
       "      <td>0</td>\n",
       "      <td>0</td>\n",
       "      <td>1</td>\n",
       "      <td>0</td>\n",
       "      <td>0</td>\n",
       "      <td>2</td>\n",
       "      <td>31</td>\n",
       "      <td>22</td>\n",
       "      <td>12</td>\n",
       "    </tr>\n",
       "    <tr>\n",
       "      <th>43799</th>\n",
       "      <td>12.0</td>\n",
       "      <td>-21</td>\n",
       "      <td>-3.0</td>\n",
       "      <td>1034.0</td>\n",
       "      <td>249.85</td>\n",
       "      <td>0</td>\n",
       "      <td>0</td>\n",
       "      <td>0</td>\n",
       "      <td>1</td>\n",
       "      <td>0</td>\n",
       "      <td>0</td>\n",
       "      <td>2</td>\n",
       "      <td>31</td>\n",
       "      <td>23</td>\n",
       "      <td>12</td>\n",
       "    </tr>\n",
       "  </tbody>\n",
       "</table>\n",
       "<p>43800 rows × 15 columns</p>\n",
       "</div>"
      ],
      "text/plain": [
       "       pollution  dew  temp   press  wnd_spd  snow  rain  NE  NW  SE  cv  \\\n",
       "0          129.0  -16  -4.0  1020.0     1.79     0     0   0   0   1   0   \n",
       "1          148.0  -15  -4.0  1020.0     2.68     0     0   0   0   1   0   \n",
       "2          159.0  -11  -5.0  1021.0     3.57     0     0   0   0   1   0   \n",
       "3          181.0   -7  -5.0  1022.0     5.36     1     0   0   0   1   0   \n",
       "4          138.0   -7  -5.0  1022.0     6.25     2     0   0   0   1   0   \n",
       "...          ...  ...   ...     ...      ...   ...   ...  ..  ..  ..  ..   \n",
       "43795        8.0  -23  -2.0  1034.0   231.97     0     0   0   1   0   0   \n",
       "43796       10.0  -22  -3.0  1034.0   237.78     0     0   0   1   0   0   \n",
       "43797       10.0  -22  -3.0  1034.0   242.70     0     0   0   1   0   0   \n",
       "43798        8.0  -22  -4.0  1034.0   246.72     0     0   0   1   0   0   \n",
       "43799       12.0  -21  -3.0  1034.0   249.85     0     0   0   1   0   0   \n",
       "\n",
       "       Day of Week  day  hour  month  \n",
       "0                5    2     0      1  \n",
       "1                5    2     1      1  \n",
       "2                5    2     2      1  \n",
       "3                5    2     3      1  \n",
       "4                5    2     4      1  \n",
       "...            ...  ...   ...    ...  \n",
       "43795            2   31    19     12  \n",
       "43796            2   31    20     12  \n",
       "43797            2   31    21     12  \n",
       "43798            2   31    22     12  \n",
       "43799            2   31    23     12  \n",
       "\n",
       "[43800 rows x 15 columns]"
      ]
     },
     "execution_count": 23,
     "metadata": {},
     "output_type": "execute_result"
    }
   ],
   "source": [
    "dataset['Day of Week'] = dataset['date'].dt.dayofweek\n",
    "dataset['day'] = dataset['date'].dt.day\n",
    "dataset['hour'] = dataset['date'].dt.hour\n",
    "dataset['month'] = dataset['date'].dt.month\n",
    "dataset = dataset.drop(['date'], axis=1)\n",
    "dataset"
   ]
  },
  {
   "cell_type": "code",
   "execution_count": 26,
   "id": "2516fc6b",
   "metadata": {},
   "outputs": [],
   "source": [
    "num_epoches = 500  # 35040\n",
    "step_per_epoch = 3\n",
    "lr = 1e-3\n",
    "batch_size = 256\n",
    "n_layers = 3\n",
    "encoder_hidden_size = 64\n",
    "decoder_hidden_size = 64\n",
    "seq_len = 12\n",
    "num_obs_to_train = 24*3\n",
    "embedding_size = 24\n",
    "standard_scaler = True"
   ]
  },
  {
   "cell_type": "code",
   "execution_count": 27,
   "id": "70c4e9ba",
   "metadata": {
    "scrolled": true
   },
   "outputs": [
    {
     "name": "stderr",
     "output_type": "stream",
     "text": [
      "  0% |                                                                                                 |\r"
     ]
    },
    {
     "name": "stdout",
     "output_type": "stream",
     "text": [
      "X.shape, y.shape: (100, 438, 14) (100, 438)\n",
      "(100, 350, 14) (100, 350) (100, 88, 14) (100, 88)\n",
      "Epoch 0 start...\n",
      "Epoch 1 start...\n",
      "Epoch 2 start...\n",
      "Epoch 3 start...\n",
      "Epoch 4 start...\n"
     ]
    },
    {
     "name": "stderr",
     "output_type": "stream",
     "text": [
      "  1% |                                                                                                 |\r"
     ]
    },
    {
     "name": "stdout",
     "output_type": "stream",
     "text": [
      "Epoch 5 start...\n",
      "Epoch 6 start...\n",
      "Epoch 7 start...\n",
      "Epoch 8 start...\n",
      "Epoch 9 start...\n"
     ]
    },
    {
     "name": "stderr",
     "output_type": "stream",
     "text": [
      "  2% |#                                                                                                |\r"
     ]
    },
    {
     "name": "stdout",
     "output_type": "stream",
     "text": [
      "Epoch 10 start...\n",
      "Epoch 11 start...\n",
      "Epoch 12 start...\n",
      "Epoch 13 start...\n",
      "Epoch 14 start...\n"
     ]
    },
    {
     "name": "stderr",
     "output_type": "stream",
     "text": [
      "  3% |##                                                                                               |\r"
     ]
    },
    {
     "name": "stdout",
     "output_type": "stream",
     "text": [
      "Epoch 15 start...\n",
      "Epoch 16 start...\n",
      "Epoch 17 start...\n",
      "Epoch 18 start...\n",
      "Epoch 19 start...\n"
     ]
    },
    {
     "name": "stderr",
     "output_type": "stream",
     "text": [
      "  4% |###                                                                                              |\r"
     ]
    },
    {
     "name": "stdout",
     "output_type": "stream",
     "text": [
      "Epoch 20 start...\n",
      "Epoch 21 start...\n",
      "Epoch 22 start...\n",
      "Epoch 23 start...\n",
      "Epoch 24 start...\n"
     ]
    },
    {
     "name": "stderr",
     "output_type": "stream",
     "text": [
      "  5% |####                                                                                             |\r"
     ]
    },
    {
     "name": "stdout",
     "output_type": "stream",
     "text": [
      "Epoch 25 start...\n",
      "Epoch 26 start...\n",
      "Epoch 27 start...\n",
      "Epoch 28 start...\n",
      "Epoch 29 start...\n"
     ]
    },
    {
     "name": "stderr",
     "output_type": "stream",
     "text": [
      "  6% |#####                                                                                            |\r"
     ]
    },
    {
     "name": "stdout",
     "output_type": "stream",
     "text": [
      "Epoch 30 start...\n",
      "Epoch 31 start...\n",
      "Epoch 32 start...\n",
      "Epoch 33 start...\n",
      "Epoch 34 start...\n"
     ]
    },
    {
     "name": "stderr",
     "output_type": "stream",
     "text": [
      "  7% |######                                                                                           |\r"
     ]
    },
    {
     "name": "stdout",
     "output_type": "stream",
     "text": [
      "Epoch 35 start...\n",
      "Epoch 36 start...\n",
      "Epoch 37 start...\n",
      "Epoch 38 start...\n",
      "Epoch 39 start...\n"
     ]
    },
    {
     "name": "stderr",
     "output_type": "stream",
     "text": [
      "  8% |#######                                                                                          |\r"
     ]
    },
    {
     "name": "stdout",
     "output_type": "stream",
     "text": [
      "Epoch 40 start...\n",
      "Epoch 41 start...\n",
      "Epoch 42 start...\n",
      "Epoch 43 start...\n",
      "Epoch 44 start...\n"
     ]
    },
    {
     "name": "stderr",
     "output_type": "stream",
     "text": [
      "  9% |########                                                                                         |\r"
     ]
    },
    {
     "name": "stdout",
     "output_type": "stream",
     "text": [
      "Epoch 45 start...\n",
      "Epoch 46 start...\n",
      "Epoch 47 start...\n",
      "Epoch 48 start...\n",
      "Epoch 49 start...\n"
     ]
    },
    {
     "name": "stderr",
     "output_type": "stream",
     "text": [
      " 10% |#########                                                                                        |\r"
     ]
    },
    {
     "name": "stdout",
     "output_type": "stream",
     "text": [
      "Epoch 50 start...\n",
      "Epoch 51 start...\n",
      "Epoch 52 start...\n",
      "Epoch 53 start...\n",
      "Epoch 54 start...\n"
     ]
    },
    {
     "name": "stderr",
     "output_type": "stream",
     "text": [
      " 11% |##########                                                                                       |\r"
     ]
    },
    {
     "name": "stdout",
     "output_type": "stream",
     "text": [
      "Epoch 55 start...\n",
      "Epoch 56 start...\n",
      "Epoch 57 start...\n",
      "Epoch 58 start...\n",
      "Epoch 59 start...\n"
     ]
    },
    {
     "name": "stderr",
     "output_type": "stream",
     "text": [
      " 12% |###########                                                                                      |\r"
     ]
    },
    {
     "name": "stdout",
     "output_type": "stream",
     "text": [
      "Epoch 60 start...\n",
      "Epoch 61 start...\n",
      "Epoch 62 start...\n",
      "Epoch 63 start...\n",
      "Epoch 64 start...\n"
     ]
    },
    {
     "name": "stderr",
     "output_type": "stream",
     "text": [
      " 13% |############                                                                                     |\r"
     ]
    },
    {
     "name": "stdout",
     "output_type": "stream",
     "text": [
      "Epoch 65 start...\n",
      "Epoch 66 start...\n",
      "Epoch 67 start...\n",
      "Epoch 68 start...\n",
      "Epoch 69 start...\n"
     ]
    },
    {
     "name": "stderr",
     "output_type": "stream",
     "text": [
      " 14% |#############                                                                                    |\r"
     ]
    },
    {
     "name": "stdout",
     "output_type": "stream",
     "text": [
      "Epoch 70 start...\n",
      "Epoch 71 start...\n",
      "Epoch 72 start...\n",
      "Epoch 73 start...\n",
      "Epoch 74 start...\n"
     ]
    },
    {
     "name": "stderr",
     "output_type": "stream",
     "text": [
      " 15% |##############                                                                                   |\r"
     ]
    },
    {
     "name": "stdout",
     "output_type": "stream",
     "text": [
      "Epoch 75 start...\n",
      "Epoch 76 start...\n",
      "Epoch 77 start...\n",
      "Epoch 78 start...\n",
      "Epoch 79 start...\n"
     ]
    },
    {
     "name": "stderr",
     "output_type": "stream",
     "text": [
      " 16% |###############                                                                                  |\r"
     ]
    },
    {
     "name": "stdout",
     "output_type": "stream",
     "text": [
      "Epoch 80 start...\n",
      "Epoch 81 start...\n",
      "Epoch 82 start...\n",
      "Epoch 83 start...\n",
      "Epoch 84 start...\n"
     ]
    },
    {
     "name": "stderr",
     "output_type": "stream",
     "text": [
      " 17% |################                                                                                 |\r"
     ]
    },
    {
     "name": "stdout",
     "output_type": "stream",
     "text": [
      "Epoch 85 start...\n",
      "Epoch 86 start...\n",
      "Epoch 87 start...\n",
      "Epoch 88 start...\n",
      "Epoch 89 start...\n"
     ]
    },
    {
     "name": "stderr",
     "output_type": "stream",
     "text": [
      " 18% |#################                                                                                |\r"
     ]
    },
    {
     "name": "stdout",
     "output_type": "stream",
     "text": [
      "Epoch 90 start...\n",
      "Epoch 91 start...\n",
      "Epoch 92 start...\n",
      "Epoch 93 start...\n",
      "Epoch 94 start...\n"
     ]
    },
    {
     "name": "stderr",
     "output_type": "stream",
     "text": [
      " 19% |##################                                                                               |\r"
     ]
    },
    {
     "name": "stdout",
     "output_type": "stream",
     "text": [
      "Epoch 95 start...\n",
      "Epoch 96 start...\n",
      "Epoch 97 start...\n",
      "Epoch 98 start...\n",
      "Epoch 99 start...\n"
     ]
    },
    {
     "name": "stderr",
     "output_type": "stream",
     "text": [
      " 20% |###################                                                                              |\r"
     ]
    },
    {
     "name": "stdout",
     "output_type": "stream",
     "text": [
      "Epoch 100 start...\n",
      "Epoch 101 start...\n",
      "Epoch 102 start...\n",
      "Epoch 103 start...\n",
      "Epoch 104 start...\n"
     ]
    },
    {
     "name": "stderr",
     "output_type": "stream",
     "text": [
      " 21% |####################                                                                             |\r"
     ]
    },
    {
     "name": "stdout",
     "output_type": "stream",
     "text": [
      "Epoch 105 start...\n",
      "Epoch 106 start...\n",
      "Epoch 107 start...\n",
      "Epoch 108 start...\n",
      "Epoch 109 start...\n"
     ]
    },
    {
     "name": "stderr",
     "output_type": "stream",
     "text": [
      " 22% |#####################                                                                            |\r"
     ]
    },
    {
     "name": "stdout",
     "output_type": "stream",
     "text": [
      "Epoch 110 start...\n",
      "Epoch 111 start...\n",
      "Epoch 112 start...\n",
      "Epoch 113 start...\n",
      "Epoch 114 start...\n"
     ]
    },
    {
     "name": "stderr",
     "output_type": "stream",
     "text": [
      " 23% |######################                                                                           |\r"
     ]
    },
    {
     "name": "stdout",
     "output_type": "stream",
     "text": [
      "Epoch 115 start...\n",
      "Epoch 116 start...\n",
      "Epoch 117 start...\n",
      "Epoch 118 start...\n",
      "Epoch 119 start...\n"
     ]
    },
    {
     "name": "stderr",
     "output_type": "stream",
     "text": [
      " 24% |#######################                                                                          |\r"
     ]
    },
    {
     "name": "stdout",
     "output_type": "stream",
     "text": [
      "Epoch 120 start...\n",
      "Epoch 121 start...\n",
      "Epoch 122 start...\n",
      "Epoch 123 start...\n",
      "Epoch 124 start...\n"
     ]
    },
    {
     "name": "stderr",
     "output_type": "stream",
     "text": [
      " 25% |########################                                                                         |\r"
     ]
    },
    {
     "name": "stdout",
     "output_type": "stream",
     "text": [
      "Epoch 125 start...\n",
      "Epoch 126 start...\n",
      "Epoch 127 start...\n",
      "Epoch 128 start...\n",
      "Epoch 129 start...\n"
     ]
    },
    {
     "name": "stderr",
     "output_type": "stream",
     "text": [
      " 26% |#########################                                                                        |\r"
     ]
    },
    {
     "name": "stdout",
     "output_type": "stream",
     "text": [
      "Epoch 130 start...\n",
      "Epoch 131 start...\n",
      "Epoch 132 start...\n",
      "Epoch 133 start...\n",
      "Epoch 134 start...\n"
     ]
    },
    {
     "name": "stderr",
     "output_type": "stream",
     "text": [
      " 27% |##########################                                                                       |\r"
     ]
    },
    {
     "name": "stdout",
     "output_type": "stream",
     "text": [
      "Epoch 135 start...\n",
      "Epoch 136 start...\n",
      "Epoch 137 start...\n",
      "Epoch 138 start...\n",
      "Epoch 139 start...\n"
     ]
    },
    {
     "name": "stderr",
     "output_type": "stream",
     "text": [
      " 28% |###########################                                                                      |\r"
     ]
    },
    {
     "name": "stdout",
     "output_type": "stream",
     "text": [
      "Epoch 140 start...\n",
      "Epoch 141 start...\n",
      "Epoch 142 start...\n",
      "Epoch 143 start...\n",
      "Epoch 144 start...\n"
     ]
    },
    {
     "name": "stderr",
     "output_type": "stream",
     "text": [
      " 29% |############################                                                                     |\r"
     ]
    },
    {
     "name": "stdout",
     "output_type": "stream",
     "text": [
      "Epoch 145 start...\n",
      "Epoch 146 start...\n",
      "Epoch 147 start...\n",
      "Epoch 148 start...\n",
      "Epoch 149 start...\n"
     ]
    },
    {
     "name": "stderr",
     "output_type": "stream",
     "text": [
      " 30% |#############################                                                                    |\r"
     ]
    },
    {
     "name": "stdout",
     "output_type": "stream",
     "text": [
      "Epoch 150 start...\n",
      "Epoch 151 start...\n",
      "Epoch 152 start...\n",
      "Epoch 153 start...\n",
      "Epoch 154 start...\n"
     ]
    },
    {
     "name": "stderr",
     "output_type": "stream",
     "text": [
      " 31% |##############################                                                                   |\r"
     ]
    },
    {
     "name": "stdout",
     "output_type": "stream",
     "text": [
      "Epoch 155 start...\n",
      "Epoch 156 start...\n",
      "Epoch 157 start...\n",
      "Epoch 158 start...\n",
      "Epoch 159 start...\n"
     ]
    },
    {
     "name": "stderr",
     "output_type": "stream",
     "text": [
      " 32% |###############################                                                                  |\r"
     ]
    },
    {
     "name": "stdout",
     "output_type": "stream",
     "text": [
      "Epoch 160 start...\n",
      "Epoch 161 start...\n",
      "Epoch 162 start...\n",
      "Epoch 163 start...\n",
      "Epoch 164 start...\n"
     ]
    },
    {
     "name": "stderr",
     "output_type": "stream",
     "text": [
      " 33% |################################                                                                 |\r"
     ]
    },
    {
     "name": "stdout",
     "output_type": "stream",
     "text": [
      "Epoch 165 start...\n",
      "Epoch 166 start...\n",
      "Epoch 167 start...\n",
      "Epoch 168 start...\n",
      "Epoch 169 start...\n"
     ]
    },
    {
     "name": "stderr",
     "output_type": "stream",
     "text": [
      " 34% |################################                                                                 |\r"
     ]
    },
    {
     "name": "stdout",
     "output_type": "stream",
     "text": [
      "Epoch 170 start...\n",
      "Epoch 171 start...\n",
      "Epoch 172 start...\n",
      "Epoch 173 start...\n",
      "Epoch 174 start...\n"
     ]
    },
    {
     "name": "stderr",
     "output_type": "stream",
     "text": [
      " 35% |#################################                                                                |\r"
     ]
    },
    {
     "name": "stdout",
     "output_type": "stream",
     "text": [
      "Epoch 175 start...\n",
      "Epoch 176 start...\n",
      "Epoch 177 start...\n",
      "Epoch 178 start...\n",
      "Epoch 179 start...\n"
     ]
    },
    {
     "name": "stderr",
     "output_type": "stream",
     "text": [
      " 36% |##################################                                                               |\r"
     ]
    },
    {
     "name": "stdout",
     "output_type": "stream",
     "text": [
      "Epoch 180 start...\n",
      "Epoch 181 start...\n",
      "Epoch 182 start...\n",
      "Epoch 183 start...\n",
      "Epoch 184 start...\n"
     ]
    },
    {
     "name": "stderr",
     "output_type": "stream",
     "text": [
      " 37% |###################################                                                              |\r"
     ]
    },
    {
     "name": "stdout",
     "output_type": "stream",
     "text": [
      "Epoch 185 start...\n",
      "Epoch 186 start...\n",
      "Epoch 187 start...\n",
      "Epoch 188 start...\n",
      "Epoch 189 start...\n"
     ]
    },
    {
     "name": "stderr",
     "output_type": "stream",
     "text": [
      " 38% |####################################                                                             |\r"
     ]
    },
    {
     "name": "stdout",
     "output_type": "stream",
     "text": [
      "Epoch 190 start...\n",
      "Epoch 191 start...\n",
      "Epoch 192 start...\n",
      "Epoch 193 start...\n",
      "Epoch 194 start...\n"
     ]
    },
    {
     "name": "stderr",
     "output_type": "stream",
     "text": [
      " 39% |#####################################                                                            |\r"
     ]
    },
    {
     "name": "stdout",
     "output_type": "stream",
     "text": [
      "Epoch 195 start...\n",
      "Epoch 196 start...\n",
      "Epoch 197 start...\n",
      "Epoch 198 start...\n",
      "Epoch 199 start...\n"
     ]
    },
    {
     "name": "stderr",
     "output_type": "stream",
     "text": [
      " 40% |######################################                                                           |\r"
     ]
    },
    {
     "name": "stdout",
     "output_type": "stream",
     "text": [
      "Epoch 200 start...\n",
      "Epoch 201 start...\n",
      "Epoch 202 start...\n",
      "Epoch 203 start...\n",
      "Epoch 204 start...\n"
     ]
    },
    {
     "name": "stderr",
     "output_type": "stream",
     "text": [
      " 41% |#######################################                                                          |\r"
     ]
    },
    {
     "name": "stdout",
     "output_type": "stream",
     "text": [
      "Epoch 205 start...\n",
      "Epoch 206 start...\n",
      "Epoch 207 start...\n",
      "Epoch 208 start...\n",
      "Epoch 209 start...\n"
     ]
    },
    {
     "name": "stderr",
     "output_type": "stream",
     "text": [
      " 42% |########################################                                                         |\r"
     ]
    },
    {
     "name": "stdout",
     "output_type": "stream",
     "text": [
      "Epoch 210 start...\n",
      "Epoch 211 start...\n",
      "Epoch 212 start...\n",
      "Epoch 213 start...\n",
      "Epoch 214 start...\n"
     ]
    },
    {
     "name": "stderr",
     "output_type": "stream",
     "text": [
      " 43% |#########################################                                                        |\r"
     ]
    },
    {
     "name": "stdout",
     "output_type": "stream",
     "text": [
      "Epoch 215 start...\n",
      "Epoch 216 start...\n",
      "Epoch 217 start...\n",
      "Epoch 218 start...\n",
      "Epoch 219 start...\n"
     ]
    },
    {
     "name": "stderr",
     "output_type": "stream",
     "text": [
      " 44% |##########################################                                                       |\r"
     ]
    },
    {
     "name": "stdout",
     "output_type": "stream",
     "text": [
      "Epoch 220 start...\n",
      "Epoch 221 start...\n",
      "Epoch 222 start...\n",
      "Epoch 223 start...\n",
      "Epoch 224 start...\n"
     ]
    },
    {
     "name": "stderr",
     "output_type": "stream",
     "text": [
      " 45% |###########################################                                                      |\r"
     ]
    },
    {
     "name": "stdout",
     "output_type": "stream",
     "text": [
      "Epoch 225 start...\n",
      "Epoch 226 start...\n",
      "Epoch 227 start...\n",
      "Epoch 228 start...\n",
      "Epoch 229 start...\n"
     ]
    },
    {
     "name": "stderr",
     "output_type": "stream",
     "text": [
      " 46% |############################################                                                     |\r"
     ]
    },
    {
     "name": "stdout",
     "output_type": "stream",
     "text": [
      "Epoch 230 start...\n",
      "Epoch 231 start...\n",
      "Epoch 232 start...\n",
      "Epoch 233 start...\n",
      "Epoch 234 start...\n"
     ]
    },
    {
     "name": "stderr",
     "output_type": "stream",
     "text": [
      " 47% |#############################################                                                    |\r"
     ]
    },
    {
     "name": "stdout",
     "output_type": "stream",
     "text": [
      "Epoch 235 start...\n",
      "Epoch 236 start...\n",
      "Epoch 237 start...\n",
      "Epoch 238 start...\n",
      "Epoch 239 start...\n"
     ]
    },
    {
     "name": "stderr",
     "output_type": "stream",
     "text": [
      " 48% |##############################################                                                   |\r"
     ]
    },
    {
     "name": "stdout",
     "output_type": "stream",
     "text": [
      "Epoch 240 start...\n",
      "Epoch 241 start...\n",
      "Epoch 242 start...\n",
      "Epoch 243 start...\n",
      "Epoch 244 start...\n"
     ]
    },
    {
     "name": "stderr",
     "output_type": "stream",
     "text": [
      " 49% |###############################################                                                  |\r"
     ]
    },
    {
     "name": "stdout",
     "output_type": "stream",
     "text": [
      "Epoch 245 start...\n",
      "Epoch 246 start...\n",
      "Epoch 247 start...\n",
      "Epoch 248 start...\n",
      "Epoch 249 start...\n"
     ]
    },
    {
     "name": "stderr",
     "output_type": "stream",
     "text": [
      " 50% |################################################                                                 |\r"
     ]
    },
    {
     "name": "stdout",
     "output_type": "stream",
     "text": [
      "Epoch 250 start...\n",
      "Epoch 251 start...\n",
      "Epoch 252 start...\n",
      "Epoch 253 start...\n",
      "Epoch 254 start...\n"
     ]
    },
    {
     "name": "stderr",
     "output_type": "stream",
     "text": [
      " 51% |#################################################                                                |\r"
     ]
    },
    {
     "name": "stdout",
     "output_type": "stream",
     "text": [
      "Epoch 255 start...\n",
      "Epoch 256 start...\n",
      "Epoch 257 start...\n",
      "Epoch 258 start...\n",
      "Epoch 259 start...\n"
     ]
    },
    {
     "name": "stderr",
     "output_type": "stream",
     "text": [
      " 52% |##################################################                                               |\r"
     ]
    },
    {
     "name": "stdout",
     "output_type": "stream",
     "text": [
      "Epoch 260 start...\n",
      "Epoch 261 start...\n",
      "Epoch 262 start...\n",
      "Epoch 263 start...\n",
      "Epoch 264 start...\n"
     ]
    },
    {
     "name": "stderr",
     "output_type": "stream",
     "text": [
      " 53% |###################################################                                              |\r"
     ]
    },
    {
     "name": "stdout",
     "output_type": "stream",
     "text": [
      "Epoch 265 start...\n",
      "Epoch 266 start...\n",
      "Epoch 267 start...\n",
      "Epoch 268 start...\n",
      "Epoch 269 start...\n"
     ]
    },
    {
     "name": "stderr",
     "output_type": "stream",
     "text": [
      " 54% |####################################################                                             |\r"
     ]
    },
    {
     "name": "stdout",
     "output_type": "stream",
     "text": [
      "Epoch 270 start...\n",
      "Epoch 271 start...\n",
      "Epoch 272 start...\n",
      "Epoch 273 start...\n",
      "Epoch 274 start...\n"
     ]
    },
    {
     "name": "stderr",
     "output_type": "stream",
     "text": [
      " 55% |#####################################################                                            |\r"
     ]
    },
    {
     "name": "stdout",
     "output_type": "stream",
     "text": [
      "Epoch 275 start...\n",
      "Epoch 276 start...\n",
      "Epoch 277 start...\n",
      "Epoch 278 start...\n",
      "Epoch 279 start...\n"
     ]
    },
    {
     "name": "stderr",
     "output_type": "stream",
     "text": [
      " 56% |######################################################                                           |\r"
     ]
    },
    {
     "name": "stdout",
     "output_type": "stream",
     "text": [
      "Epoch 280 start...\n",
      "Epoch 281 start...\n",
      "Epoch 282 start...\n",
      "Epoch 283 start...\n",
      "Epoch 284 start...\n"
     ]
    },
    {
     "name": "stderr",
     "output_type": "stream",
     "text": [
      " 57% |#######################################################                                          |\r"
     ]
    },
    {
     "name": "stdout",
     "output_type": "stream",
     "text": [
      "Epoch 285 start...\n",
      "Epoch 286 start...\n",
      "Epoch 287 start...\n",
      "Epoch 288 start...\n",
      "Epoch 289 start...\n"
     ]
    },
    {
     "name": "stderr",
     "output_type": "stream",
     "text": [
      " 58% |########################################################                                         |\r"
     ]
    },
    {
     "name": "stdout",
     "output_type": "stream",
     "text": [
      "Epoch 290 start...\n",
      "Epoch 291 start...\n",
      "Epoch 292 start...\n",
      "Epoch 293 start...\n",
      "Epoch 294 start...\n"
     ]
    },
    {
     "name": "stderr",
     "output_type": "stream",
     "text": [
      " 59% |#########################################################                                        |\r"
     ]
    },
    {
     "name": "stdout",
     "output_type": "stream",
     "text": [
      "Epoch 295 start...\n",
      "Epoch 296 start...\n",
      "Epoch 297 start...\n",
      "Epoch 298 start...\n",
      "Epoch 299 start...\n"
     ]
    },
    {
     "name": "stderr",
     "output_type": "stream",
     "text": [
      " 60% |##########################################################                                       |\r"
     ]
    },
    {
     "name": "stdout",
     "output_type": "stream",
     "text": [
      "Epoch 300 start...\n",
      "Epoch 301 start...\n",
      "Epoch 302 start...\n",
      "Epoch 303 start...\n",
      "Epoch 304 start...\n"
     ]
    },
    {
     "name": "stderr",
     "output_type": "stream",
     "text": [
      " 61% |###########################################################                                      |\r"
     ]
    },
    {
     "name": "stdout",
     "output_type": "stream",
     "text": [
      "Epoch 305 start...\n",
      "Epoch 306 start...\n",
      "Epoch 307 start...\n",
      "Epoch 308 start...\n",
      "Epoch 309 start...\n"
     ]
    },
    {
     "name": "stderr",
     "output_type": "stream",
     "text": [
      " 62% |############################################################                                     |\r"
     ]
    },
    {
     "name": "stdout",
     "output_type": "stream",
     "text": [
      "Epoch 310 start...\n",
      "Epoch 311 start...\n",
      "Epoch 312 start...\n",
      "Epoch 313 start...\n",
      "Epoch 314 start...\n"
     ]
    },
    {
     "name": "stderr",
     "output_type": "stream",
     "text": [
      " 63% |#############################################################                                    |\r"
     ]
    },
    {
     "name": "stdout",
     "output_type": "stream",
     "text": [
      "Epoch 315 start...\n",
      "Epoch 316 start...\n",
      "Epoch 317 start...\n",
      "Epoch 318 start...\n",
      "Epoch 319 start...\n"
     ]
    },
    {
     "name": "stderr",
     "output_type": "stream",
     "text": [
      " 64% |##############################################################                                   |\r"
     ]
    },
    {
     "name": "stdout",
     "output_type": "stream",
     "text": [
      "Epoch 320 start...\n",
      "Epoch 321 start...\n",
      "Epoch 322 start...\n",
      "Epoch 323 start...\n",
      "Epoch 324 start...\n"
     ]
    },
    {
     "name": "stderr",
     "output_type": "stream",
     "text": [
      " 65% |###############################################################                                  |\r"
     ]
    },
    {
     "name": "stdout",
     "output_type": "stream",
     "text": [
      "Epoch 325 start...\n",
      "Epoch 326 start...\n",
      "Epoch 327 start...\n",
      "Epoch 328 start...\n",
      "Epoch 329 start...\n"
     ]
    },
    {
     "name": "stderr",
     "output_type": "stream",
     "text": [
      " 66% |################################################################                                 |\r"
     ]
    },
    {
     "name": "stdout",
     "output_type": "stream",
     "text": [
      "Epoch 330 start...\n",
      "Epoch 331 start...\n",
      "Epoch 332 start...\n",
      "Epoch 333 start...\n",
      "Epoch 334 start...\n"
     ]
    },
    {
     "name": "stderr",
     "output_type": "stream",
     "text": [
      " 67% |################################################################                                 |\r"
     ]
    },
    {
     "name": "stdout",
     "output_type": "stream",
     "text": [
      "Epoch 335 start...\n",
      "Epoch 336 start...\n",
      "Epoch 337 start...\n",
      "Epoch 338 start...\n",
      "Epoch 339 start...\n"
     ]
    },
    {
     "name": "stderr",
     "output_type": "stream",
     "text": [
      " 68% |#################################################################                                |\r"
     ]
    },
    {
     "name": "stdout",
     "output_type": "stream",
     "text": [
      "Epoch 340 start...\n",
      "Epoch 341 start...\n",
      "Epoch 342 start...\n",
      "Epoch 343 start...\n",
      "Epoch 344 start...\n"
     ]
    },
    {
     "name": "stderr",
     "output_type": "stream",
     "text": [
      " 69% |##################################################################                               |\r"
     ]
    },
    {
     "name": "stdout",
     "output_type": "stream",
     "text": [
      "Epoch 345 start...\n",
      "Epoch 346 start...\n",
      "Epoch 347 start...\n",
      "Epoch 348 start...\n",
      "Epoch 349 start...\n"
     ]
    },
    {
     "name": "stderr",
     "output_type": "stream",
     "text": [
      " 70% |###################################################################                              |\r"
     ]
    },
    {
     "name": "stdout",
     "output_type": "stream",
     "text": [
      "Epoch 350 start...\n",
      "Epoch 351 start...\n",
      "Epoch 352 start...\n",
      "Epoch 353 start...\n",
      "Epoch 354 start...\n"
     ]
    },
    {
     "name": "stderr",
     "output_type": "stream",
     "text": [
      " 71% |####################################################################                             |\r"
     ]
    },
    {
     "name": "stdout",
     "output_type": "stream",
     "text": [
      "Epoch 355 start...\n",
      "Epoch 356 start...\n",
      "Epoch 357 start...\n",
      "Epoch 358 start...\n",
      "Epoch 359 start...\n"
     ]
    },
    {
     "name": "stderr",
     "output_type": "stream",
     "text": [
      " 72% |#####################################################################                            |\r"
     ]
    },
    {
     "name": "stdout",
     "output_type": "stream",
     "text": [
      "Epoch 360 start...\n",
      "Epoch 361 start...\n",
      "Epoch 362 start...\n",
      "Epoch 363 start...\n",
      "Epoch 364 start...\n"
     ]
    },
    {
     "name": "stderr",
     "output_type": "stream",
     "text": [
      " 73% |######################################################################                           |\r"
     ]
    },
    {
     "name": "stdout",
     "output_type": "stream",
     "text": [
      "Epoch 365 start...\n",
      "Epoch 366 start...\n",
      "Epoch 367 start...\n",
      "Epoch 368 start...\n",
      "Epoch 369 start...\n"
     ]
    },
    {
     "name": "stderr",
     "output_type": "stream",
     "text": [
      " 74% |#######################################################################                          |\r"
     ]
    },
    {
     "name": "stdout",
     "output_type": "stream",
     "text": [
      "Epoch 370 start...\n",
      "Epoch 371 start...\n",
      "Epoch 372 start...\n",
      "Epoch 373 start...\n",
      "Epoch 374 start...\n"
     ]
    },
    {
     "name": "stderr",
     "output_type": "stream",
     "text": [
      " 75% |########################################################################                         |\r"
     ]
    },
    {
     "name": "stdout",
     "output_type": "stream",
     "text": [
      "Epoch 375 start...\n",
      "Epoch 376 start...\n",
      "Epoch 377 start...\n",
      "Epoch 378 start...\n",
      "Epoch 379 start...\n"
     ]
    },
    {
     "name": "stderr",
     "output_type": "stream",
     "text": [
      " 76% |#########################################################################                        |\r"
     ]
    },
    {
     "name": "stdout",
     "output_type": "stream",
     "text": [
      "Epoch 380 start...\n",
      "Epoch 381 start...\n",
      "Epoch 382 start...\n",
      "Epoch 383 start...\n",
      "Epoch 384 start...\n"
     ]
    },
    {
     "name": "stderr",
     "output_type": "stream",
     "text": [
      " 77% |##########################################################################                       |\r"
     ]
    },
    {
     "name": "stdout",
     "output_type": "stream",
     "text": [
      "Epoch 385 start...\n",
      "Epoch 386 start...\n",
      "Epoch 387 start...\n",
      "Epoch 388 start...\n",
      "Epoch 389 start...\n"
     ]
    },
    {
     "name": "stderr",
     "output_type": "stream",
     "text": [
      " 78% |###########################################################################                      |\r"
     ]
    },
    {
     "name": "stdout",
     "output_type": "stream",
     "text": [
      "Epoch 390 start...\n",
      "Epoch 391 start...\n",
      "Epoch 392 start...\n",
      "Epoch 393 start...\n",
      "Epoch 394 start...\n"
     ]
    },
    {
     "name": "stderr",
     "output_type": "stream",
     "text": [
      " 79% |############################################################################                     |\r"
     ]
    },
    {
     "name": "stdout",
     "output_type": "stream",
     "text": [
      "Epoch 395 start...\n",
      "Epoch 396 start...\n",
      "Epoch 397 start...\n",
      "Epoch 398 start...\n",
      "Epoch 399 start...\n"
     ]
    },
    {
     "name": "stderr",
     "output_type": "stream",
     "text": [
      " 80% |#############################################################################                    |\r"
     ]
    },
    {
     "name": "stdout",
     "output_type": "stream",
     "text": [
      "Epoch 400 start...\n",
      "Epoch 401 start...\n",
      "Epoch 402 start...\n",
      "Epoch 403 start...\n",
      "Epoch 404 start...\n"
     ]
    },
    {
     "name": "stderr",
     "output_type": "stream",
     "text": [
      " 81% |##############################################################################                   |\r"
     ]
    },
    {
     "name": "stdout",
     "output_type": "stream",
     "text": [
      "Epoch 405 start...\n",
      "Epoch 406 start...\n",
      "Epoch 407 start...\n",
      "Epoch 408 start...\n",
      "Epoch 409 start...\n"
     ]
    },
    {
     "name": "stderr",
     "output_type": "stream",
     "text": [
      " 82% |###############################################################################                  |\r"
     ]
    },
    {
     "name": "stdout",
     "output_type": "stream",
     "text": [
      "Epoch 410 start...\n",
      "Epoch 411 start...\n",
      "Epoch 412 start...\n",
      "Epoch 413 start...\n",
      "Epoch 414 start...\n"
     ]
    },
    {
     "name": "stderr",
     "output_type": "stream",
     "text": [
      " 83% |################################################################################                 |\r"
     ]
    },
    {
     "name": "stdout",
     "output_type": "stream",
     "text": [
      "Epoch 415 start...\n",
      "Epoch 416 start...\n",
      "Epoch 417 start...\n",
      "Epoch 418 start...\n",
      "Epoch 419 start...\n"
     ]
    },
    {
     "name": "stderr",
     "output_type": "stream",
     "text": [
      " 84% |#################################################################################                |\r"
     ]
    },
    {
     "name": "stdout",
     "output_type": "stream",
     "text": [
      "Epoch 420 start...\n",
      "Epoch 421 start...\n",
      "Epoch 422 start...\n",
      "Epoch 423 start...\n",
      "Epoch 424 start...\n"
     ]
    },
    {
     "name": "stderr",
     "output_type": "stream",
     "text": [
      " 85% |##################################################################################               |\r"
     ]
    },
    {
     "name": "stdout",
     "output_type": "stream",
     "text": [
      "Epoch 425 start...\n",
      "Epoch 426 start...\n",
      "Epoch 427 start...\n",
      "Epoch 428 start...\n",
      "Epoch 429 start...\n"
     ]
    },
    {
     "name": "stderr",
     "output_type": "stream",
     "text": [
      " 86% |###################################################################################              |\r"
     ]
    },
    {
     "name": "stdout",
     "output_type": "stream",
     "text": [
      "Epoch 430 start...\n",
      "Epoch 431 start...\n",
      "Epoch 432 start...\n",
      "Epoch 433 start...\n",
      "Epoch 434 start...\n"
     ]
    },
    {
     "name": "stderr",
     "output_type": "stream",
     "text": [
      " 87% |####################################################################################             |\r"
     ]
    },
    {
     "name": "stdout",
     "output_type": "stream",
     "text": [
      "Epoch 435 start...\n",
      "Epoch 436 start...\n",
      "Epoch 437 start...\n",
      "Epoch 438 start...\n",
      "Epoch 439 start...\n"
     ]
    },
    {
     "name": "stderr",
     "output_type": "stream",
     "text": [
      " 88% |#####################################################################################            |\r"
     ]
    },
    {
     "name": "stdout",
     "output_type": "stream",
     "text": [
      "Epoch 440 start...\n",
      "Epoch 441 start...\n",
      "Epoch 442 start...\n",
      "Epoch 443 start...\n",
      "Epoch 444 start...\n"
     ]
    },
    {
     "name": "stderr",
     "output_type": "stream",
     "text": [
      " 89% |######################################################################################           |\r"
     ]
    },
    {
     "name": "stdout",
     "output_type": "stream",
     "text": [
      "Epoch 445 start...\n",
      "Epoch 446 start...\n",
      "Epoch 447 start...\n",
      "Epoch 448 start...\n",
      "Epoch 449 start...\n"
     ]
    },
    {
     "name": "stderr",
     "output_type": "stream",
     "text": [
      " 90% |#######################################################################################          |\r"
     ]
    },
    {
     "name": "stdout",
     "output_type": "stream",
     "text": [
      "Epoch 450 start...\n",
      "Epoch 451 start...\n",
      "Epoch 452 start...\n",
      "Epoch 453 start...\n",
      "Epoch 454 start...\n"
     ]
    },
    {
     "name": "stderr",
     "output_type": "stream",
     "text": [
      " 91% |########################################################################################         |\r"
     ]
    },
    {
     "name": "stdout",
     "output_type": "stream",
     "text": [
      "Epoch 455 start...\n",
      "Epoch 456 start...\n",
      "Epoch 457 start...\n",
      "Epoch 458 start...\n",
      "Epoch 459 start...\n"
     ]
    },
    {
     "name": "stderr",
     "output_type": "stream",
     "text": [
      " 92% |#########################################################################################        |\r"
     ]
    },
    {
     "name": "stdout",
     "output_type": "stream",
     "text": [
      "Epoch 460 start...\n",
      "Epoch 461 start...\n",
      "Epoch 462 start...\n",
      "Epoch 463 start...\n",
      "Epoch 464 start...\n"
     ]
    },
    {
     "name": "stderr",
     "output_type": "stream",
     "text": [
      " 93% |##########################################################################################       |\r"
     ]
    },
    {
     "name": "stdout",
     "output_type": "stream",
     "text": [
      "Epoch 465 start...\n",
      "Epoch 466 start...\n",
      "Epoch 467 start...\n",
      "Epoch 468 start...\n",
      "Epoch 469 start...\n"
     ]
    },
    {
     "name": "stderr",
     "output_type": "stream",
     "text": [
      " 94% |###########################################################################################      |\r"
     ]
    },
    {
     "name": "stdout",
     "output_type": "stream",
     "text": [
      "Epoch 470 start...\n",
      "Epoch 471 start...\n",
      "Epoch 472 start...\n",
      "Epoch 473 start...\n",
      "Epoch 474 start...\n"
     ]
    },
    {
     "name": "stderr",
     "output_type": "stream",
     "text": [
      " 95% |############################################################################################     |\r"
     ]
    },
    {
     "name": "stdout",
     "output_type": "stream",
     "text": [
      "Epoch 475 start...\n",
      "Epoch 476 start...\n",
      "Epoch 477 start...\n",
      "Epoch 478 start...\n",
      "Epoch 479 start...\n"
     ]
    },
    {
     "name": "stderr",
     "output_type": "stream",
     "text": [
      " 96% |#############################################################################################    |\r"
     ]
    },
    {
     "name": "stdout",
     "output_type": "stream",
     "text": [
      "Epoch 480 start...\n",
      "Epoch 481 start...\n",
      "Epoch 482 start...\n",
      "Epoch 483 start...\n",
      "Epoch 484 start...\n"
     ]
    },
    {
     "name": "stderr",
     "output_type": "stream",
     "text": [
      " 97% |##############################################################################################   |\r"
     ]
    },
    {
     "name": "stdout",
     "output_type": "stream",
     "text": [
      "Epoch 485 start...\n",
      "Epoch 486 start...\n",
      "Epoch 487 start...\n",
      "Epoch 488 start...\n",
      "Epoch 489 start...\n"
     ]
    },
    {
     "name": "stderr",
     "output_type": "stream",
     "text": [
      " 98% |###############################################################################################  |\r"
     ]
    },
    {
     "name": "stdout",
     "output_type": "stream",
     "text": [
      "Epoch 490 start...\n",
      "Epoch 491 start...\n",
      "Epoch 492 start...\n",
      "Epoch 493 start...\n",
      "Epoch 494 start...\n"
     ]
    },
    {
     "name": "stderr",
     "output_type": "stream",
     "text": [
      " 99% |################################################################################################ |\r"
     ]
    },
    {
     "name": "stdout",
     "output_type": "stream",
     "text": [
      "Epoch 495 start...\n",
      "Epoch 496 start...\n",
      "Epoch 497 start...\n",
      "Epoch 498 start...\n",
      "Epoch 499 start...\n"
     ]
    },
    {
     "name": "stderr",
     "output_type": "stream",
     "text": [
      "100% |#################################################################################################|\n"
     ]
    },
    {
     "name": "stdout",
     "output_type": "stream",
     "text": [
      "Prediction: 0\n"
     ]
    },
    {
     "name": "stderr",
     "output_type": "stream",
     "text": [
      "/aul/homes/jshi008/IvyProjects/ICLR/02MQRNN/util.py:57: RuntimeWarning: divide by zero encountered in divide\n",
      "  return np.mean(np.abs((ytrue - ypred) / ytrue))\n"
     ]
    },
    {
     "name": "stdout",
     "output_type": "stream",
     "text": [
      "Prediction: 1\n"
     ]
    },
    {
     "name": "stderr",
     "output_type": "stream",
     "text": [
      "/aul/homes/jshi008/IvyProjects/ICLR/02MQRNN/util.py:57: RuntimeWarning: divide by zero encountered in divide\n",
      "  return np.mean(np.abs((ytrue - ypred) / ytrue))\n"
     ]
    },
    {
     "name": "stdout",
     "output_type": "stream",
     "text": [
      "Prediction: 2\n"
     ]
    },
    {
     "name": "stderr",
     "output_type": "stream",
     "text": [
      "/aul/homes/jshi008/IvyProjects/ICLR/02MQRNN/util.py:57: RuntimeWarning: divide by zero encountered in divide\n",
      "  return np.mean(np.abs((ytrue - ypred) / ytrue))\n"
     ]
    },
    {
     "name": "stdout",
     "output_type": "stream",
     "text": [
      "Prediction: 3\n"
     ]
    },
    {
     "name": "stderr",
     "output_type": "stream",
     "text": [
      "/aul/homes/jshi008/IvyProjects/ICLR/02MQRNN/util.py:57: RuntimeWarning: divide by zero encountered in divide\n",
      "  return np.mean(np.abs((ytrue - ypred) / ytrue))\n"
     ]
    },
    {
     "name": "stdout",
     "output_type": "stream",
     "text": [
      "[inf, inf, inf, inf] [32.85858500162761, 33.5839501953125, 32.96924212773641, 31.01004971822103] [52.531444944505346, 52.95718478031432, 52.31468372163046, 48.03852373109444]\n",
      "====== MAPE, MAE, RMSE ======\n",
      "inf 32.60545676072439 51.46045929438615\n"
     ]
    },
    {
     "data": {
      "image/png": "[encoded data removed]",
      "text/plain": [
       "<Figure size 432x288 with 1 Axes>"
      ]
     },
     "metadata": {
      "needs_background": "light"
     },
     "output_type": "display_data"
    }
   ],
   "source": [
    "X_df = dataset.loc[:, ['dew', 'temp', 'press', 'wnd_spd', 'snow', 'rain', 'NE', 'NW', 'SE', 'cv', 'Day of Week'\n",
    "                    , 'day', 'hour', 'month']]\n",
    "y_df = dataset.loc[:, ['pollution']]\n",
    "X = np.array(X_df)\n",
    "y = np.array(y_df)\n",
    "\n",
    "from sklearn.preprocessing import MinMaxScaler\n",
    "scaler = MinMaxScaler(feature_range=(0, 1))\n",
    "X = scaler.fit_transform(X)\n",
    "\n",
    "\n",
    "num_features = X.shape[1]\n",
    "num_periods = len(X) // 100\n",
    "X = np.asarray(X).reshape((-1, num_periods, num_features))\n",
    "y = np.asarray(y).reshape((-1, num_periods))\n",
    "print(\"X.shape, y.shape:\", X.shape, y.shape)\n",
    "\n",
    "quantiles = [0.1, 0.5, 1]  # 0.1, 0.5, 1\n",
    "losses, test_mape, test_mae, test_rmse = train(X, y, quantiles)\n",
    "print(test_mape, test_mae, test_rmse)\n",
    "\n",
    "\n",
    "print('====== MAPE, MAE, RMSE ======')\n",
    "print(sum(test_mape) / len(test_mape),\n",
    "      sum(test_mae) / len(test_mae), \n",
    "      sum(test_rmse) / len(test_rmse))\n",
    "\n",
    "\n",
    "\n",
    "plt.plot(range(len(losses)), losses, \"k-\")\n",
    "plt.xlabel(\"Period\")\n",
    "plt.ylabel(\"Loss\")\n",
    "plt.show()"
   ]
  },
  {
   "cell_type": "code",
   "execution_count": null,
   "id": "71c9c8b8",
   "metadata": {},
   "outputs": [],
   "source": []
  },
  {
   "cell_type": "code",
   "execution_count": null,
   "id": "2dbf661a",
   "metadata": {},
   "outputs": [],
   "source": []
  },
  {
   "cell_type": "code",
   "execution_count": null,
   "id": "04817782",
   "metadata": {},
   "outputs": [],
   "source": []
  }
 ],
 "metadata": {
  "kernelspec": {
   "display_name": "Python 3 (ipykernel)",
   "language": "python",
   "name": "python3"
  },
  "language_info": {
   "codemirror_mode": {
    "name": "ipython",
    "version": 3
   },
   "file_extension": ".py",
   "mimetype": "text/x-python",
   "name": "python",
   "nbconvert_exporter": "python",
   "pygments_lexer": "ipython3",
   "version": "3.8.13"
  }
 },
 "nbformat": 4,
 "nbformat_minor": 5
}

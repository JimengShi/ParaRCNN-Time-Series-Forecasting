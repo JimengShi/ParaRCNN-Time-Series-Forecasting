{
 "cells": [
  {
   "cell_type": "code",
   "execution_count": 1,
   "id": "f69729b0",
   "metadata": {},
   "outputs": [],
   "source": [
    "import torch\n",
    "from torch import nn\n",
    "import torch.nn.functional as F \n",
    "from torch.optim import Adam\n",
    "\n",
    "import numpy as np\n",
    "import os\n",
    "import random\n",
    "import matplotlib.pyplot as plt\n",
    "import pickle\n",
    "from tqdm import tqdm\n",
    "import pandas as pd\n",
    "import util\n",
    "from sklearn.preprocessing import StandardScaler, MinMaxScaler\n",
    "from time import time\n",
    "import argparse\n",
    "from datetime import date\n",
    "from progressbar import *\n",
    "from sklearn.metrics import mean_squared_error as MSE\n",
    "from sklearn.metrics import mean_absolute_error as MAE"
   ]
  },
  {
   "cell_type": "code",
   "execution_count": 2,
   "id": "cf459fb0",
   "metadata": {},
   "outputs": [],
   "source": [
    "import os\n",
    "os.environ[\"CUDA_VISIBLE_DEVICES\"]=\"3\""
   ]
  },
  {
   "cell_type": "code",
   "execution_count": 3,
   "id": "74914511",
   "metadata": {},
   "outputs": [],
   "source": [
    "def train_test_split(X, y, train_ratio=0.8):\n",
    "    num_ts, num_periods, num_features = X.shape\n",
    "    train_periods = int(num_periods * train_ratio)\n",
    "    random.seed(2)\n",
    "    Xtr = X[:, :train_periods, :]\n",
    "    ytr = y[:, :train_periods]\n",
    "    Xte = X[:, train_periods:, :]\n",
    "    yte = y[:, train_periods:]\n",
    "    return Xtr, ytr, Xte, yte\n"
   ]
  },
  {
   "cell_type": "code",
   "execution_count": 4,
   "id": "dbc9c273",
   "metadata": {},
   "outputs": [],
   "source": [
    "class Decoder(nn.Module):\n",
    "\n",
    "    def __init__(\n",
    "        self, \n",
    "        input_size, \n",
    "        output_horizon,\n",
    "        encoder_hidden_size, \n",
    "        decoder_hidden_size, \n",
    "        output_size):\n",
    "        super(Decoder, self).__init__()\n",
    "        self.global_mlp = nn.Linear(output_horizon * (encoder_hidden_size + input_size), (output_horizon+1) * decoder_hidden_size)\n",
    "        self.local_mlp = nn.Linear(decoder_hidden_size * 2 + input_size, output_size)\n",
    "        self.decoder_hidden_size = decoder_hidden_size\n",
    "    \n",
    "    def forward(self, ht, xf):\n",
    "        '''\n",
    "        Args:\n",
    "        ht (tensor): (1, hidden_size)\n",
    "        xf (tensor): (output_horizon, num_features)\n",
    "        '''\n",
    "        num_ts, output_horizon, num_features = xf.size()\n",
    "        num_ts, hidden_size = ht.size()\n",
    "        ht = ht.unsqueeze(1)\n",
    "        ht = ht.expand(num_ts, output_horizon, hidden_size)\n",
    "        # inp = (xf + ht).view(batch_size, -1) # batch_size, hidden_size, output_horizon\n",
    "        inp = torch.cat([xf, ht], dim=2).view(num_ts, -1)\n",
    "        contexts = self.global_mlp(inp)\n",
    "        contexts = contexts.view(num_ts, output_horizon+1, self.decoder_hidden_size)\n",
    "        ca = contexts[:, -1, :].view(num_ts, -1)\n",
    "        C = contexts[:, :-1, :]\n",
    "        C = F.relu(C)\n",
    "        y = []\n",
    "        for i in range(output_horizon):\n",
    "            ci = C[:, i, :].view(num_ts, -1)\n",
    "            xfi = xf[:, i, :].view(num_ts, -1)\n",
    "            inp = torch.cat([xfi, ci, ca], dim=1)\n",
    "            out = self.local_mlp(inp) # num_ts, num_quantiles\n",
    "            y.append(out.unsqueeze(1))\n",
    "        y = torch.cat(y, dim=1) # batch_size, output_horizon, quantiles\n",
    "        return y \n",
    "\n",
    "\n",
    "class MQRNN(nn.Module):\n",
    "\n",
    "    def __init__(\n",
    "        self, \n",
    "        output_horizon, \n",
    "        num_quantiles, \n",
    "        input_size, \n",
    "        embedding_size=10,\n",
    "        encoder_hidden_size=64, \n",
    "        encoder_n_layers=3,\n",
    "        decoder_hidden_size=64\n",
    "        ):\n",
    "        '''\n",
    "        Args:\n",
    "        output_horizon (int): output horizons to output in prediction\n",
    "        num_quantiles (int): number of quantiles interests, e.g. 0.25, 0.5, 0.75\n",
    "        input_size (int): feature size\n",
    "        embedding_size (int): embedding size\n",
    "        encoder_hidden_size (int): hidden size in encoder\n",
    "        encoder_n_layers (int): encoder number of layers\n",
    "        decoder_hidden_size (int): hidden size in decoder\n",
    "        '''\n",
    "        super(MQRNN, self).__init__()\n",
    "        self.output_horizon = output_horizon\n",
    "        self.encoder_hidden_size = encoder_hidden_size\n",
    "        self.input_embed = nn.Linear(1, embedding_size) # time series embedding\n",
    "        self.encoder = nn.LSTM(input_size + embedding_size, encoder_hidden_size, encoder_n_layers, bias=True, batch_first=True)\n",
    "        self.decoder = Decoder(input_size, output_horizon, encoder_hidden_size, decoder_hidden_size, num_quantiles)\n",
    "    \n",
    "    def forward(self, X, y, Xf):\n",
    "        '''\n",
    "        Args:\n",
    "        X (tensor like): shape (num_time_series, num_periods, num_features)\n",
    "        y (tensor like): shape (num_time_series, num_periods)\n",
    "        Xf (tensor like): shape (num_time_series, seq_len, num_features)\n",
    "        '''\n",
    "        if isinstance(X, type(np.empty(2))):\n",
    "            X = torch.from_numpy(X).float()\n",
    "            y = torch.from_numpy(y).float()\n",
    "            Xf = torch.from_numpy(Xf).float()\n",
    "        num_ts, num_periods, num_features = X.size()\n",
    "        y = y.unsqueeze(2)\n",
    "        y = self.input_embed(y)\n",
    "        x = torch.cat([X, y], dim=2)\n",
    "        # x = x.unsqueeze(0) # batch, seq_len, embed + num_features\n",
    "        _, (h, c) = self.encoder(x)\n",
    "        ht = h[-1, :, :]\n",
    "        # global mlp\n",
    "        ht = F.relu(ht)\n",
    "        ypred = self.decoder(ht, Xf)\n",
    "        return ypred\n",
    "\n",
    "    \n",
    "def batch_generator(X, y, num_obs_to_train, seq_len, batch_size):\n",
    "    '''\n",
    "    Args:\n",
    "    X (array like): shape (num_samples, num_features, num_periods)\n",
    "    y (array like): shape (num_samples, num_periods)\n",
    "    num_obs_to_train (int)\n",
    "    seq_len (int): sequence/encoder/decoder length\n",
    "    '''\n",
    "    num_ts, num_periods, _ = X.shape\n",
    "\n",
    "    if num_ts < batch_size:\n",
    "        batch_size = num_ts\n",
    "    t = random.choice(range(num_obs_to_train, num_periods-seq_len))\n",
    "    batch = random.sample(range(num_ts), batch_size)\n",
    "    \n",
    "    X_train_batch = X[batch, t-num_obs_to_train:t, :]\n",
    "    y_train_batch = y[batch, t-num_obs_to_train:t]\n",
    "    Xf = X[batch, t:t+seq_len, :]\n",
    "    yf = y[batch, t:t+seq_len]\n",
    "    \n",
    "    return X_train_batch, y_train_batch, Xf, yf"
   ]
  },
  {
   "cell_type": "code",
   "execution_count": 5,
   "id": "209af951",
   "metadata": {},
   "outputs": [],
   "source": [
    "# batch_generator(X, y, num_obs_to_train, seq_len, batch_size)"
   ]
  },
  {
   "cell_type": "code",
   "execution_count": 6,
   "id": "08272692",
   "metadata": {},
   "outputs": [],
   "source": [
    "def train(X, y, quantiles):\n",
    "    num_ts, num_periods, num_features = X.shape\n",
    "    num_quantiles = len(quantiles)\n",
    "    model = MQRNN(seq_len, num_quantiles, num_features, embedding_size, encoder_hidden_size, n_layers, decoder_hidden_size)\n",
    "    optimizer = Adam(model.parameters(), lr=lr)\n",
    "    \n",
    "    Xtr, ytr, Xte, yte = train_test_split(X, y)\n",
    "    print(\"Xtr, ytr, Xte, yte:\", Xtr.shape, ytr.shape, Xte.shape, yte.shape)\n",
    "    \n",
    "    \n",
    "    losses = []\n",
    "    mape_list, mae_list, rmse_list = [], [], []\n",
    "    \n",
    "    yscaler = None\n",
    "    if standard_scaler:\n",
    "        yscaler = util.StandardScaler()\n",
    "    elif log_scaler:\n",
    "        yscaler = util.LogScaler()\n",
    "    elif mean_scaler:\n",
    "        yscaler = util.MeanScaler()\n",
    "    if yscaler is not None:\n",
    "        ytr = yscaler.fit_transform(ytr)\n",
    "    \n",
    "    \n",
    "    ####################  train  ####################\n",
    "    progress = ProgressBar()\n",
    "    for epoch in progress(range(num_epoches)):\n",
    "        print(\"Epoch {} start...\".format(epoch))\n",
    "        for step in range(step_per_epoch):\n",
    "            X_train_batch, y_train_batch, Xf, yf = batch_generator(Xtr, ytr, num_obs_to_train, seq_len, batch_size)\n",
    "\n",
    "            X_train_tensor = torch.from_numpy(X_train_batch).float()\n",
    "            y_train_tensor = torch.from_numpy(y_train_batch).float() \n",
    "\n",
    "            Xf = torch.from_numpy(Xf).float()\n",
    "            yf = torch.from_numpy(yf).float()\n",
    "            ypred = model(X_train_tensor, y_train_tensor, Xf)\n",
    "\n",
    "            # quantile loss\n",
    "            loss = torch.zeros_like(yf)\n",
    "            num_ts = Xf.size(0)\n",
    "            for q, rho in enumerate(quantiles):\n",
    "                ypred_rho = ypred[:, :, q].view(num_ts, -1)\n",
    "                e = ypred_rho - yf\n",
    "                loss += torch.max(rho * e, (rho - 1) * e)\n",
    "            loss = loss.mean()\n",
    "\n",
    "            losses.append(loss.item())\n",
    "            optimizer.zero_grad()\n",
    "            loss.backward()\n",
    "            optimizer.step()\n",
    "    \n",
    "    ####################  test  ####################\n",
    "    for i in range(Xte.shape[1]-num_obs_to_train-seq_len):\n",
    "        print('Prediction:', i)\n",
    "        X_test = Xte[:, i:i+num_obs_to_train, :].reshape((num_ts, -1, num_features))\n",
    "        Xf_test = Xte[:, i+num_obs_to_train:i+num_obs_to_train+seq_len, :].reshape((num_ts, -1, num_features))\n",
    "        y_test = yte[:, i:i+num_obs_to_train].reshape((num_ts, -1))\n",
    "\n",
    "        if yscaler is not None:\n",
    "            y_test = yscaler.transform(y_test)\n",
    "        yf_test = yte[:, i+num_obs_to_train:i+num_obs_to_train+seq_len]\n",
    "\n",
    "        ypred = model(X_test, y_test, Xf_test) # (1, num_quantiles, output_horizon)\n",
    "        ypred = ypred.data.numpy()\n",
    "        ypred = yscaler.inverse_transform(ypred)\n",
    "\n",
    "        # P50 quantile MAPE \n",
    "        mape = util.MAPE(yf_test, ypred[:, :, 1])\n",
    "        mape_list.append(mape)\n",
    "#         print(\"MAPE: {}\".format(mape))\n",
    "\n",
    "        mae = MAE(ypred[:, :, 1], yf_test)\n",
    "        mae_list.append(mae)\n",
    "#         print(\"MAE: {}\".format(mae))\n",
    "\n",
    "        rmse = np.sqrt(MSE(ypred[:, :, 1], yf_test))\n",
    "        rmse_list.append(rmse)\n",
    "#         print(\"RMSE: {}\".format(rmse))\n",
    "    \n",
    "    return losses, mape_list, mae_list, rmse_list"
   ]
  },
  {
   "cell_type": "code",
   "execution_count": 7,
   "id": "9cf68a8c",
   "metadata": {},
   "outputs": [
    {
     "name": "stdout",
     "output_type": "stream",
     "text": [
      "(35060, 27)\n"
     ]
    }
   ],
   "source": [
    "#if args.run_test:\n",
    "# data_path = util.get_data_path()\n",
    "dataset = pd.read_csv(\"../../../data/TFT_energy.csv\")\n",
    "dataset.fillna(0, inplace=True)\n",
    "dataset = dataset[:35060]\n",
    "print(dataset.shape)\n",
    "# dataset"
   ]
  },
  {
   "cell_type": "code",
   "execution_count": 8,
   "id": "67aee8e1",
   "metadata": {},
   "outputs": [
    {
     "data": {
      "text/html": [
       "<div>\n",
       "<style scoped>\n",
       "    .dataframe tbody tr th:only-of-type {\n",
       "        vertical-align: middle;\n",
       "    }\n",
       "\n",
       "    .dataframe tbody tr th {\n",
       "        vertical-align: top;\n",
       "    }\n",
       "\n",
       "    .dataframe thead th {\n",
       "        text-align: right;\n",
       "    }\n",
       "</style>\n",
       "<table border=\"1\" class=\"dataframe\">\n",
       "  <thead>\n",
       "    <tr style=\"text-align: right;\">\n",
       "      <th></th>\n",
       "      <th>time</th>\n",
       "      <th>price</th>\n",
       "      <th>price_dayahead</th>\n",
       "      <th>gen_coal</th>\n",
       "      <th>gen_gas</th>\n",
       "      <th>load_actual</th>\n",
       "      <th>gen_lig</th>\n",
       "      <th>gen_oil</th>\n",
       "      <th>gen_oth_renew</th>\n",
       "      <th>pressure_Barcelona</th>\n",
       "      <th>...</th>\n",
       "      <th>wind_deg_Bilbao</th>\n",
       "      <th>clouds_all_Bilbao</th>\n",
       "      <th>gen_hyd_river</th>\n",
       "      <th>wind_deg_Seville</th>\n",
       "      <th>wind_speed_Barcelona</th>\n",
       "      <th>wind_speed_Valencia</th>\n",
       "      <th>wind_speed_Bilbao</th>\n",
       "      <th>gen_wind</th>\n",
       "      <th>wind_speed_Madrid</th>\n",
       "      <th>gen_hyd_pump</th>\n",
       "    </tr>\n",
       "  </thead>\n",
       "  <tbody>\n",
       "    <tr>\n",
       "      <th>0</th>\n",
       "      <td>2015-01-01 00:00:00+00:00</td>\n",
       "      <td>64.92</td>\n",
       "      <td>48.10</td>\n",
       "      <td>4755.0</td>\n",
       "      <td>5196.0</td>\n",
       "      <td>24382.0</td>\n",
       "      <td>328.0</td>\n",
       "      <td>158.0</td>\n",
       "      <td>71.0</td>\n",
       "      <td>1035.0</td>\n",
       "      <td>...</td>\n",
       "      <td>229.0</td>\n",
       "      <td>0.0</td>\n",
       "      <td>1009.0</td>\n",
       "      <td>21.0</td>\n",
       "      <td>7.0</td>\n",
       "      <td>1.0</td>\n",
       "      <td>0.0</td>\n",
       "      <td>5890.0</td>\n",
       "      <td>1.0</td>\n",
       "      <td>920.0</td>\n",
       "    </tr>\n",
       "    <tr>\n",
       "      <th>1</th>\n",
       "      <td>2015-01-01 01:00:00+00:00</td>\n",
       "      <td>64.48</td>\n",
       "      <td>47.33</td>\n",
       "      <td>4581.0</td>\n",
       "      <td>4857.0</td>\n",
       "      <td>22734.0</td>\n",
       "      <td>323.0</td>\n",
       "      <td>157.0</td>\n",
       "      <td>73.0</td>\n",
       "      <td>1036.0</td>\n",
       "      <td>...</td>\n",
       "      <td>224.0</td>\n",
       "      <td>0.0</td>\n",
       "      <td>973.0</td>\n",
       "      <td>27.0</td>\n",
       "      <td>7.0</td>\n",
       "      <td>0.0</td>\n",
       "      <td>1.0</td>\n",
       "      <td>5461.0</td>\n",
       "      <td>1.0</td>\n",
       "      <td>1164.0</td>\n",
       "    </tr>\n",
       "    <tr>\n",
       "      <th>2</th>\n",
       "      <td>2015-01-01 02:00:00+00:00</td>\n",
       "      <td>59.32</td>\n",
       "      <td>42.27</td>\n",
       "      <td>4131.0</td>\n",
       "      <td>4314.0</td>\n",
       "      <td>21286.0</td>\n",
       "      <td>254.0</td>\n",
       "      <td>160.0</td>\n",
       "      <td>75.0</td>\n",
       "      <td>1036.0</td>\n",
       "      <td>...</td>\n",
       "      <td>225.0</td>\n",
       "      <td>0.0</td>\n",
       "      <td>949.0</td>\n",
       "      <td>27.0</td>\n",
       "      <td>7.0</td>\n",
       "      <td>0.0</td>\n",
       "      <td>1.0</td>\n",
       "      <td>5238.0</td>\n",
       "      <td>1.0</td>\n",
       "      <td>1503.0</td>\n",
       "    </tr>\n",
       "    <tr>\n",
       "      <th>3</th>\n",
       "      <td>2015-01-01 03:00:00+00:00</td>\n",
       "      <td>56.04</td>\n",
       "      <td>38.41</td>\n",
       "      <td>3840.0</td>\n",
       "      <td>4130.0</td>\n",
       "      <td>20264.0</td>\n",
       "      <td>187.0</td>\n",
       "      <td>156.0</td>\n",
       "      <td>74.0</td>\n",
       "      <td>1036.0</td>\n",
       "      <td>...</td>\n",
       "      <td>221.0</td>\n",
       "      <td>0.0</td>\n",
       "      <td>953.0</td>\n",
       "      <td>27.0</td>\n",
       "      <td>7.0</td>\n",
       "      <td>0.0</td>\n",
       "      <td>1.0</td>\n",
       "      <td>4935.0</td>\n",
       "      <td>1.0</td>\n",
       "      <td>1826.0</td>\n",
       "    </tr>\n",
       "    <tr>\n",
       "      <th>4</th>\n",
       "      <td>2015-01-01 04:00:00+00:00</td>\n",
       "      <td>53.63</td>\n",
       "      <td>35.72</td>\n",
       "      <td>3590.0</td>\n",
       "      <td>4038.0</td>\n",
       "      <td>19905.0</td>\n",
       "      <td>178.0</td>\n",
       "      <td>156.0</td>\n",
       "      <td>74.0</td>\n",
       "      <td>1037.0</td>\n",
       "      <td>...</td>\n",
       "      <td>224.0</td>\n",
       "      <td>0.0</td>\n",
       "      <td>952.0</td>\n",
       "      <td>57.0</td>\n",
       "      <td>5.0</td>\n",
       "      <td>2.0</td>\n",
       "      <td>1.0</td>\n",
       "      <td>4618.0</td>\n",
       "      <td>0.0</td>\n",
       "      <td>2109.0</td>\n",
       "    </tr>\n",
       "    <tr>\n",
       "      <th>...</th>\n",
       "      <td>...</td>\n",
       "      <td>...</td>\n",
       "      <td>...</td>\n",
       "      <td>...</td>\n",
       "      <td>...</td>\n",
       "      <td>...</td>\n",
       "      <td>...</td>\n",
       "      <td>...</td>\n",
       "      <td>...</td>\n",
       "      <td>...</td>\n",
       "      <td>...</td>\n",
       "      <td>...</td>\n",
       "      <td>...</td>\n",
       "      <td>...</td>\n",
       "      <td>...</td>\n",
       "      <td>...</td>\n",
       "      <td>...</td>\n",
       "      <td>...</td>\n",
       "      <td>...</td>\n",
       "      <td>...</td>\n",
       "      <td>...</td>\n",
       "    </tr>\n",
       "    <tr>\n",
       "      <th>35055</th>\n",
       "      <td>2018-12-31 15:00:00+00:00</td>\n",
       "      <td>71.36</td>\n",
       "      <td>64.80</td>\n",
       "      <td>2503.0</td>\n",
       "      <td>6379.0</td>\n",
       "      <td>26449.0</td>\n",
       "      <td>0.0</td>\n",
       "      <td>178.0</td>\n",
       "      <td>96.0</td>\n",
       "      <td>1027.0</td>\n",
       "      <td>...</td>\n",
       "      <td>0.0</td>\n",
       "      <td>0.0</td>\n",
       "      <td>1048.0</td>\n",
       "      <td>50.0</td>\n",
       "      <td>3.0</td>\n",
       "      <td>3.0</td>\n",
       "      <td>0.0</td>\n",
       "      <td>2267.0</td>\n",
       "      <td>1.0</td>\n",
       "      <td>323.0</td>\n",
       "    </tr>\n",
       "    <tr>\n",
       "      <th>35056</th>\n",
       "      <td>2018-12-31 16:00:00+00:00</td>\n",
       "      <td>75.13</td>\n",
       "      <td>68.01</td>\n",
       "      <td>2583.0</td>\n",
       "      <td>6892.0</td>\n",
       "      <td>26738.0</td>\n",
       "      <td>0.0</td>\n",
       "      <td>177.0</td>\n",
       "      <td>95.0</td>\n",
       "      <td>1027.0</td>\n",
       "      <td>...</td>\n",
       "      <td>0.0</td>\n",
       "      <td>0.0</td>\n",
       "      <td>1088.0</td>\n",
       "      <td>50.0</td>\n",
       "      <td>3.0</td>\n",
       "      <td>3.0</td>\n",
       "      <td>1.0</td>\n",
       "      <td>2550.0</td>\n",
       "      <td>1.0</td>\n",
       "      <td>124.0</td>\n",
       "    </tr>\n",
       "    <tr>\n",
       "      <th>35057</th>\n",
       "      <td>2018-12-31 17:00:00+00:00</td>\n",
       "      <td>77.61</td>\n",
       "      <td>68.58</td>\n",
       "      <td>2604.0</td>\n",
       "      <td>7593.0</td>\n",
       "      <td>29592.0</td>\n",
       "      <td>0.0</td>\n",
       "      <td>178.0</td>\n",
       "      <td>92.0</td>\n",
       "      <td>1027.0</td>\n",
       "      <td>...</td>\n",
       "      <td>0.0</td>\n",
       "      <td>0.0</td>\n",
       "      <td>1131.0</td>\n",
       "      <td>60.0</td>\n",
       "      <td>3.0</td>\n",
       "      <td>3.0</td>\n",
       "      <td>1.0</td>\n",
       "      <td>2952.0</td>\n",
       "      <td>1.0</td>\n",
       "      <td>1.0</td>\n",
       "    </tr>\n",
       "    <tr>\n",
       "      <th>35058</th>\n",
       "      <td>2018-12-31 18:00:00+00:00</td>\n",
       "      <td>77.02</td>\n",
       "      <td>68.85</td>\n",
       "      <td>2628.0</td>\n",
       "      <td>7634.0</td>\n",
       "      <td>30653.0</td>\n",
       "      <td>0.0</td>\n",
       "      <td>178.0</td>\n",
       "      <td>95.0</td>\n",
       "      <td>1027.0</td>\n",
       "      <td>...</td>\n",
       "      <td>57.0</td>\n",
       "      <td>0.0</td>\n",
       "      <td>1135.0</td>\n",
       "      <td>30.0</td>\n",
       "      <td>1.0</td>\n",
       "      <td>2.0</td>\n",
       "      <td>0.0</td>\n",
       "      <td>3113.0</td>\n",
       "      <td>1.0</td>\n",
       "      <td>1.0</td>\n",
       "    </tr>\n",
       "    <tr>\n",
       "      <th>35059</th>\n",
       "      <td>2018-12-31 19:00:00+00:00</td>\n",
       "      <td>76.16</td>\n",
       "      <td>68.40</td>\n",
       "      <td>2566.0</td>\n",
       "      <td>7241.0</td>\n",
       "      <td>29735.0</td>\n",
       "      <td>0.0</td>\n",
       "      <td>174.0</td>\n",
       "      <td>95.0</td>\n",
       "      <td>1027.0</td>\n",
       "      <td>...</td>\n",
       "      <td>0.0</td>\n",
       "      <td>0.0</td>\n",
       "      <td>1172.0</td>\n",
       "      <td>30.0</td>\n",
       "      <td>3.0</td>\n",
       "      <td>1.0</td>\n",
       "      <td>1.0</td>\n",
       "      <td>3288.0</td>\n",
       "      <td>1.0</td>\n",
       "      <td>1.0</td>\n",
       "    </tr>\n",
       "  </tbody>\n",
       "</table>\n",
       "<p>35060 rows × 27 columns</p>\n",
       "</div>"
      ],
      "text/plain": [
       "                            time  price  price_dayahead  gen_coal  gen_gas  \\\n",
       "0      2015-01-01 00:00:00+00:00  64.92           48.10    4755.0   5196.0   \n",
       "1      2015-01-01 01:00:00+00:00  64.48           47.33    4581.0   4857.0   \n",
       "2      2015-01-01 02:00:00+00:00  59.32           42.27    4131.0   4314.0   \n",
       "3      2015-01-01 03:00:00+00:00  56.04           38.41    3840.0   4130.0   \n",
       "4      2015-01-01 04:00:00+00:00  53.63           35.72    3590.0   4038.0   \n",
       "...                          ...    ...             ...       ...      ...   \n",
       "35055  2018-12-31 15:00:00+00:00  71.36           64.80    2503.0   6379.0   \n",
       "35056  2018-12-31 16:00:00+00:00  75.13           68.01    2583.0   6892.0   \n",
       "35057  2018-12-31 17:00:00+00:00  77.61           68.58    2604.0   7593.0   \n",
       "35058  2018-12-31 18:00:00+00:00  77.02           68.85    2628.0   7634.0   \n",
       "35059  2018-12-31 19:00:00+00:00  76.16           68.40    2566.0   7241.0   \n",
       "\n",
       "       load_actual  gen_lig  gen_oil  gen_oth_renew  pressure_Barcelona  ...  \\\n",
       "0          24382.0    328.0    158.0           71.0              1035.0  ...   \n",
       "1          22734.0    323.0    157.0           73.0              1036.0  ...   \n",
       "2          21286.0    254.0    160.0           75.0              1036.0  ...   \n",
       "3          20264.0    187.0    156.0           74.0              1036.0  ...   \n",
       "4          19905.0    178.0    156.0           74.0              1037.0  ...   \n",
       "...            ...      ...      ...            ...                 ...  ...   \n",
       "35055      26449.0      0.0    178.0           96.0              1027.0  ...   \n",
       "35056      26738.0      0.0    177.0           95.0              1027.0  ...   \n",
       "35057      29592.0      0.0    178.0           92.0              1027.0  ...   \n",
       "35058      30653.0      0.0    178.0           95.0              1027.0  ...   \n",
       "35059      29735.0      0.0    174.0           95.0              1027.0  ...   \n",
       "\n",
       "       wind_deg_Bilbao  clouds_all_Bilbao  gen_hyd_river  wind_deg_Seville  \\\n",
       "0                229.0                0.0         1009.0              21.0   \n",
       "1                224.0                0.0          973.0              27.0   \n",
       "2                225.0                0.0          949.0              27.0   \n",
       "3                221.0                0.0          953.0              27.0   \n",
       "4                224.0                0.0          952.0              57.0   \n",
       "...                ...                ...            ...               ...   \n",
       "35055              0.0                0.0         1048.0              50.0   \n",
       "35056              0.0                0.0         1088.0              50.0   \n",
       "35057              0.0                0.0         1131.0              60.0   \n",
       "35058             57.0                0.0         1135.0              30.0   \n",
       "35059              0.0                0.0         1172.0              30.0   \n",
       "\n",
       "       wind_speed_Barcelona  wind_speed_Valencia  wind_speed_Bilbao  gen_wind  \\\n",
       "0                       7.0                  1.0                0.0    5890.0   \n",
       "1                       7.0                  0.0                1.0    5461.0   \n",
       "2                       7.0                  0.0                1.0    5238.0   \n",
       "3                       7.0                  0.0                1.0    4935.0   \n",
       "4                       5.0                  2.0                1.0    4618.0   \n",
       "...                     ...                  ...                ...       ...   \n",
       "35055                   3.0                  3.0                0.0    2267.0   \n",
       "35056                   3.0                  3.0                1.0    2550.0   \n",
       "35057                   3.0                  3.0                1.0    2952.0   \n",
       "35058                   1.0                  2.0                0.0    3113.0   \n",
       "35059                   3.0                  1.0                1.0    3288.0   \n",
       "\n",
       "       wind_speed_Madrid  gen_hyd_pump  \n",
       "0                    1.0         920.0  \n",
       "1                    1.0        1164.0  \n",
       "2                    1.0        1503.0  \n",
       "3                    1.0        1826.0  \n",
       "4                    0.0        2109.0  \n",
       "...                  ...           ...  \n",
       "35055                1.0         323.0  \n",
       "35056                1.0         124.0  \n",
       "35057                1.0           1.0  \n",
       "35058                1.0           1.0  \n",
       "35059                1.0           1.0  \n",
       "\n",
       "[35060 rows x 27 columns]"
      ]
     },
     "execution_count": 8,
     "metadata": {},
     "output_type": "execute_result"
    }
   ],
   "source": [
    "dataset"
   ]
  },
  {
   "cell_type": "code",
   "execution_count": 9,
   "id": "fe96e5dc",
   "metadata": {},
   "outputs": [],
   "source": [
    "dataset['date'] = pd.to_datetime(dataset['time'])\n",
    "# dataset"
   ]
  },
  {
   "cell_type": "code",
   "execution_count": 10,
   "id": "49f6798a",
   "metadata": {},
   "outputs": [
    {
     "data": {
      "text/html": [
       "<div>\n",
       "<style scoped>\n",
       "    .dataframe tbody tr th:only-of-type {\n",
       "        vertical-align: middle;\n",
       "    }\n",
       "\n",
       "    .dataframe tbody tr th {\n",
       "        vertical-align: top;\n",
       "    }\n",
       "\n",
       "    .dataframe thead th {\n",
       "        text-align: right;\n",
       "    }\n",
       "</style>\n",
       "<table border=\"1\" class=\"dataframe\">\n",
       "  <thead>\n",
       "    <tr style=\"text-align: right;\">\n",
       "      <th></th>\n",
       "      <th>time</th>\n",
       "      <th>price</th>\n",
       "      <th>price_dayahead</th>\n",
       "      <th>gen_coal</th>\n",
       "      <th>gen_gas</th>\n",
       "      <th>load_actual</th>\n",
       "      <th>gen_lig</th>\n",
       "      <th>gen_oil</th>\n",
       "      <th>gen_oth_renew</th>\n",
       "      <th>pressure_Barcelona</th>\n",
       "      <th>...</th>\n",
       "      <th>wind_speed_Barcelona</th>\n",
       "      <th>wind_speed_Valencia</th>\n",
       "      <th>wind_speed_Bilbao</th>\n",
       "      <th>gen_wind</th>\n",
       "      <th>wind_speed_Madrid</th>\n",
       "      <th>gen_hyd_pump</th>\n",
       "      <th>Day of Week</th>\n",
       "      <th>day</th>\n",
       "      <th>hour</th>\n",
       "      <th>month</th>\n",
       "    </tr>\n",
       "  </thead>\n",
       "  <tbody>\n",
       "    <tr>\n",
       "      <th>0</th>\n",
       "      <td>2015-01-01 00:00:00+00:00</td>\n",
       "      <td>64.92</td>\n",
       "      <td>48.10</td>\n",
       "      <td>4755.0</td>\n",
       "      <td>5196.0</td>\n",
       "      <td>24382.0</td>\n",
       "      <td>328.0</td>\n",
       "      <td>158.0</td>\n",
       "      <td>71.0</td>\n",
       "      <td>1035.0</td>\n",
       "      <td>...</td>\n",
       "      <td>7.0</td>\n",
       "      <td>1.0</td>\n",
       "      <td>0.0</td>\n",
       "      <td>5890.0</td>\n",
       "      <td>1.0</td>\n",
       "      <td>920.0</td>\n",
       "      <td>3</td>\n",
       "      <td>1</td>\n",
       "      <td>0</td>\n",
       "      <td>1</td>\n",
       "    </tr>\n",
       "    <tr>\n",
       "      <th>1</th>\n",
       "      <td>2015-01-01 01:00:00+00:00</td>\n",
       "      <td>64.48</td>\n",
       "      <td>47.33</td>\n",
       "      <td>4581.0</td>\n",
       "      <td>4857.0</td>\n",
       "      <td>22734.0</td>\n",
       "      <td>323.0</td>\n",
       "      <td>157.0</td>\n",
       "      <td>73.0</td>\n",
       "      <td>1036.0</td>\n",
       "      <td>...</td>\n",
       "      <td>7.0</td>\n",
       "      <td>0.0</td>\n",
       "      <td>1.0</td>\n",
       "      <td>5461.0</td>\n",
       "      <td>1.0</td>\n",
       "      <td>1164.0</td>\n",
       "      <td>3</td>\n",
       "      <td>1</td>\n",
       "      <td>1</td>\n",
       "      <td>1</td>\n",
       "    </tr>\n",
       "    <tr>\n",
       "      <th>2</th>\n",
       "      <td>2015-01-01 02:00:00+00:00</td>\n",
       "      <td>59.32</td>\n",
       "      <td>42.27</td>\n",
       "      <td>4131.0</td>\n",
       "      <td>4314.0</td>\n",
       "      <td>21286.0</td>\n",
       "      <td>254.0</td>\n",
       "      <td>160.0</td>\n",
       "      <td>75.0</td>\n",
       "      <td>1036.0</td>\n",
       "      <td>...</td>\n",
       "      <td>7.0</td>\n",
       "      <td>0.0</td>\n",
       "      <td>1.0</td>\n",
       "      <td>5238.0</td>\n",
       "      <td>1.0</td>\n",
       "      <td>1503.0</td>\n",
       "      <td>3</td>\n",
       "      <td>1</td>\n",
       "      <td>2</td>\n",
       "      <td>1</td>\n",
       "    </tr>\n",
       "    <tr>\n",
       "      <th>3</th>\n",
       "      <td>2015-01-01 03:00:00+00:00</td>\n",
       "      <td>56.04</td>\n",
       "      <td>38.41</td>\n",
       "      <td>3840.0</td>\n",
       "      <td>4130.0</td>\n",
       "      <td>20264.0</td>\n",
       "      <td>187.0</td>\n",
       "      <td>156.0</td>\n",
       "      <td>74.0</td>\n",
       "      <td>1036.0</td>\n",
       "      <td>...</td>\n",
       "      <td>7.0</td>\n",
       "      <td>0.0</td>\n",
       "      <td>1.0</td>\n",
       "      <td>4935.0</td>\n",
       "      <td>1.0</td>\n",
       "      <td>1826.0</td>\n",
       "      <td>3</td>\n",
       "      <td>1</td>\n",
       "      <td>3</td>\n",
       "      <td>1</td>\n",
       "    </tr>\n",
       "    <tr>\n",
       "      <th>4</th>\n",
       "      <td>2015-01-01 04:00:00+00:00</td>\n",
       "      <td>53.63</td>\n",
       "      <td>35.72</td>\n",
       "      <td>3590.0</td>\n",
       "      <td>4038.0</td>\n",
       "      <td>19905.0</td>\n",
       "      <td>178.0</td>\n",
       "      <td>156.0</td>\n",
       "      <td>74.0</td>\n",
       "      <td>1037.0</td>\n",
       "      <td>...</td>\n",
       "      <td>5.0</td>\n",
       "      <td>2.0</td>\n",
       "      <td>1.0</td>\n",
       "      <td>4618.0</td>\n",
       "      <td>0.0</td>\n",
       "      <td>2109.0</td>\n",
       "      <td>3</td>\n",
       "      <td>1</td>\n",
       "      <td>4</td>\n",
       "      <td>1</td>\n",
       "    </tr>\n",
       "    <tr>\n",
       "      <th>...</th>\n",
       "      <td>...</td>\n",
       "      <td>...</td>\n",
       "      <td>...</td>\n",
       "      <td>...</td>\n",
       "      <td>...</td>\n",
       "      <td>...</td>\n",
       "      <td>...</td>\n",
       "      <td>...</td>\n",
       "      <td>...</td>\n",
       "      <td>...</td>\n",
       "      <td>...</td>\n",
       "      <td>...</td>\n",
       "      <td>...</td>\n",
       "      <td>...</td>\n",
       "      <td>...</td>\n",
       "      <td>...</td>\n",
       "      <td>...</td>\n",
       "      <td>...</td>\n",
       "      <td>...</td>\n",
       "      <td>...</td>\n",
       "      <td>...</td>\n",
       "    </tr>\n",
       "    <tr>\n",
       "      <th>35055</th>\n",
       "      <td>2018-12-31 15:00:00+00:00</td>\n",
       "      <td>71.36</td>\n",
       "      <td>64.80</td>\n",
       "      <td>2503.0</td>\n",
       "      <td>6379.0</td>\n",
       "      <td>26449.0</td>\n",
       "      <td>0.0</td>\n",
       "      <td>178.0</td>\n",
       "      <td>96.0</td>\n",
       "      <td>1027.0</td>\n",
       "      <td>...</td>\n",
       "      <td>3.0</td>\n",
       "      <td>3.0</td>\n",
       "      <td>0.0</td>\n",
       "      <td>2267.0</td>\n",
       "      <td>1.0</td>\n",
       "      <td>323.0</td>\n",
       "      <td>0</td>\n",
       "      <td>31</td>\n",
       "      <td>15</td>\n",
       "      <td>12</td>\n",
       "    </tr>\n",
       "    <tr>\n",
       "      <th>35056</th>\n",
       "      <td>2018-12-31 16:00:00+00:00</td>\n",
       "      <td>75.13</td>\n",
       "      <td>68.01</td>\n",
       "      <td>2583.0</td>\n",
       "      <td>6892.0</td>\n",
       "      <td>26738.0</td>\n",
       "      <td>0.0</td>\n",
       "      <td>177.0</td>\n",
       "      <td>95.0</td>\n",
       "      <td>1027.0</td>\n",
       "      <td>...</td>\n",
       "      <td>3.0</td>\n",
       "      <td>3.0</td>\n",
       "      <td>1.0</td>\n",
       "      <td>2550.0</td>\n",
       "      <td>1.0</td>\n",
       "      <td>124.0</td>\n",
       "      <td>0</td>\n",
       "      <td>31</td>\n",
       "      <td>16</td>\n",
       "      <td>12</td>\n",
       "    </tr>\n",
       "    <tr>\n",
       "      <th>35057</th>\n",
       "      <td>2018-12-31 17:00:00+00:00</td>\n",
       "      <td>77.61</td>\n",
       "      <td>68.58</td>\n",
       "      <td>2604.0</td>\n",
       "      <td>7593.0</td>\n",
       "      <td>29592.0</td>\n",
       "      <td>0.0</td>\n",
       "      <td>178.0</td>\n",
       "      <td>92.0</td>\n",
       "      <td>1027.0</td>\n",
       "      <td>...</td>\n",
       "      <td>3.0</td>\n",
       "      <td>3.0</td>\n",
       "      <td>1.0</td>\n",
       "      <td>2952.0</td>\n",
       "      <td>1.0</td>\n",
       "      <td>1.0</td>\n",
       "      <td>0</td>\n",
       "      <td>31</td>\n",
       "      <td>17</td>\n",
       "      <td>12</td>\n",
       "    </tr>\n",
       "    <tr>\n",
       "      <th>35058</th>\n",
       "      <td>2018-12-31 18:00:00+00:00</td>\n",
       "      <td>77.02</td>\n",
       "      <td>68.85</td>\n",
       "      <td>2628.0</td>\n",
       "      <td>7634.0</td>\n",
       "      <td>30653.0</td>\n",
       "      <td>0.0</td>\n",
       "      <td>178.0</td>\n",
       "      <td>95.0</td>\n",
       "      <td>1027.0</td>\n",
       "      <td>...</td>\n",
       "      <td>1.0</td>\n",
       "      <td>2.0</td>\n",
       "      <td>0.0</td>\n",
       "      <td>3113.0</td>\n",
       "      <td>1.0</td>\n",
       "      <td>1.0</td>\n",
       "      <td>0</td>\n",
       "      <td>31</td>\n",
       "      <td>18</td>\n",
       "      <td>12</td>\n",
       "    </tr>\n",
       "    <tr>\n",
       "      <th>35059</th>\n",
       "      <td>2018-12-31 19:00:00+00:00</td>\n",
       "      <td>76.16</td>\n",
       "      <td>68.40</td>\n",
       "      <td>2566.0</td>\n",
       "      <td>7241.0</td>\n",
       "      <td>29735.0</td>\n",
       "      <td>0.0</td>\n",
       "      <td>174.0</td>\n",
       "      <td>95.0</td>\n",
       "      <td>1027.0</td>\n",
       "      <td>...</td>\n",
       "      <td>3.0</td>\n",
       "      <td>1.0</td>\n",
       "      <td>1.0</td>\n",
       "      <td>3288.0</td>\n",
       "      <td>1.0</td>\n",
       "      <td>1.0</td>\n",
       "      <td>0</td>\n",
       "      <td>31</td>\n",
       "      <td>19</td>\n",
       "      <td>12</td>\n",
       "    </tr>\n",
       "  </tbody>\n",
       "</table>\n",
       "<p>35060 rows × 31 columns</p>\n",
       "</div>"
      ],
      "text/plain": [
       "                            time  price  price_dayahead  gen_coal  gen_gas  \\\n",
       "0      2015-01-01 00:00:00+00:00  64.92           48.10    4755.0   5196.0   \n",
       "1      2015-01-01 01:00:00+00:00  64.48           47.33    4581.0   4857.0   \n",
       "2      2015-01-01 02:00:00+00:00  59.32           42.27    4131.0   4314.0   \n",
       "3      2015-01-01 03:00:00+00:00  56.04           38.41    3840.0   4130.0   \n",
       "4      2015-01-01 04:00:00+00:00  53.63           35.72    3590.0   4038.0   \n",
       "...                          ...    ...             ...       ...      ...   \n",
       "35055  2018-12-31 15:00:00+00:00  71.36           64.80    2503.0   6379.0   \n",
       "35056  2018-12-31 16:00:00+00:00  75.13           68.01    2583.0   6892.0   \n",
       "35057  2018-12-31 17:00:00+00:00  77.61           68.58    2604.0   7593.0   \n",
       "35058  2018-12-31 18:00:00+00:00  77.02           68.85    2628.0   7634.0   \n",
       "35059  2018-12-31 19:00:00+00:00  76.16           68.40    2566.0   7241.0   \n",
       "\n",
       "       load_actual  gen_lig  gen_oil  gen_oth_renew  pressure_Barcelona  ...  \\\n",
       "0          24382.0    328.0    158.0           71.0              1035.0  ...   \n",
       "1          22734.0    323.0    157.0           73.0              1036.0  ...   \n",
       "2          21286.0    254.0    160.0           75.0              1036.0  ...   \n",
       "3          20264.0    187.0    156.0           74.0              1036.0  ...   \n",
       "4          19905.0    178.0    156.0           74.0              1037.0  ...   \n",
       "...            ...      ...      ...            ...                 ...  ...   \n",
       "35055      26449.0      0.0    178.0           96.0              1027.0  ...   \n",
       "35056      26738.0      0.0    177.0           95.0              1027.0  ...   \n",
       "35057      29592.0      0.0    178.0           92.0              1027.0  ...   \n",
       "35058      30653.0      0.0    178.0           95.0              1027.0  ...   \n",
       "35059      29735.0      0.0    174.0           95.0              1027.0  ...   \n",
       "\n",
       "       wind_speed_Barcelona  wind_speed_Valencia  wind_speed_Bilbao  gen_wind  \\\n",
       "0                       7.0                  1.0                0.0    5890.0   \n",
       "1                       7.0                  0.0                1.0    5461.0   \n",
       "2                       7.0                  0.0                1.0    5238.0   \n",
       "3                       7.0                  0.0                1.0    4935.0   \n",
       "4                       5.0                  2.0                1.0    4618.0   \n",
       "...                     ...                  ...                ...       ...   \n",
       "35055                   3.0                  3.0                0.0    2267.0   \n",
       "35056                   3.0                  3.0                1.0    2550.0   \n",
       "35057                   3.0                  3.0                1.0    2952.0   \n",
       "35058                   1.0                  2.0                0.0    3113.0   \n",
       "35059                   3.0                  1.0                1.0    3288.0   \n",
       "\n",
       "       wind_speed_Madrid  gen_hyd_pump  Day of Week  day  hour  month  \n",
       "0                    1.0         920.0            3    1     0      1  \n",
       "1                    1.0        1164.0            3    1     1      1  \n",
       "2                    1.0        1503.0            3    1     2      1  \n",
       "3                    1.0        1826.0            3    1     3      1  \n",
       "4                    0.0        2109.0            3    1     4      1  \n",
       "...                  ...           ...          ...  ...   ...    ...  \n",
       "35055                1.0         323.0            0   31    15     12  \n",
       "35056                1.0         124.0            0   31    16     12  \n",
       "35057                1.0           1.0            0   31    17     12  \n",
       "35058                1.0           1.0            0   31    18     12  \n",
       "35059                1.0           1.0            0   31    19     12  \n",
       "\n",
       "[35060 rows x 31 columns]"
      ]
     },
     "execution_count": 10,
     "metadata": {},
     "output_type": "execute_result"
    }
   ],
   "source": [
    "dataset['Day of Week'] = dataset['date'].dt.dayofweek\n",
    "dataset['day'] = dataset['date'].dt.day\n",
    "dataset['hour'] = dataset['date'].dt.hour\n",
    "dataset['month'] = dataset['date'].dt.month\n",
    "dataset = dataset.drop(['date'], axis=1)\n",
    "dataset"
   ]
  },
  {
   "cell_type": "code",
   "execution_count": 11,
   "id": "2724014d",
   "metadata": {},
   "outputs": [
    {
     "data": {
      "text/plain": [
       "Index(['time', 'price', 'price_dayahead', 'gen_coal', 'gen_gas', 'load_actual',\n",
       "       'gen_lig', 'gen_oil', 'gen_oth_renew', 'pressure_Barcelona',\n",
       "       'pressure_Bilbao', 'gen_waste', 'gen_bio', 'temp_min_Valencia',\n",
       "       'pressure_Valencia', 'temp_min_Barcelona', 'humidity_Seville',\n",
       "       'wind_deg_Bilbao', 'clouds_all_Bilbao', 'gen_hyd_river',\n",
       "       'wind_deg_Seville', 'wind_speed_Barcelona', 'wind_speed_Valencia',\n",
       "       'wind_speed_Bilbao', 'gen_wind', 'wind_speed_Madrid', 'gen_hyd_pump',\n",
       "       'Day of Week', 'day', 'hour', 'month'],\n",
       "      dtype='object')"
      ]
     },
     "execution_count": 11,
     "metadata": {},
     "output_type": "execute_result"
    }
   ],
   "source": [
    "dataset.columns"
   ]
  },
  {
   "cell_type": "code",
   "execution_count": 14,
   "id": "2516fc6b",
   "metadata": {},
   "outputs": [],
   "source": [
    "num_epoches = 1000    # 35040\n",
    "step_per_epoch = 3\n",
    "lr = 1e-3\n",
    "batch_size = 256\n",
    "n_layers = 3\n",
    "encoder_hidden_size = 64\n",
    "decoder_hidden_size = 64\n",
    "seq_len = 12\n",
    "num_obs_to_train = 24*3\n",
    "embedding_size = 24\n",
    "standard_scaler = True"
   ]
  },
  {
   "cell_type": "code",
   "execution_count": 15,
   "id": "70c4e9ba",
   "metadata": {
    "scrolled": true
   },
   "outputs": [
    {
     "name": "stderr",
     "output_type": "stream",
     "text": [
      "  0% |                                                                                                                          |\r"
     ]
    },
    {
     "name": "stdout",
     "output_type": "stream",
     "text": [
      "X.shape, y.shape: (10, 3506, 29) (10, 3506)\n",
      "Xtr, ytr, Xte, yte: (10, 2804, 29) (10, 2804) (10, 702, 29) (10, 702)\n",
      "Epoch 0 start...\n",
      "Epoch 1 start...\n",
      "Epoch 2 start...\n",
      "Epoch 3 start...\n",
      "Epoch 4 start...\n",
      "Epoch 5 start...\n",
      "Epoch 6 start...\n",
      "Epoch 7 start...\n"
     ]
    },
    {
     "name": "stderr",
     "output_type": "stream",
     "text": [
      "  0% |                                                                                                                          |\r"
     ]
    },
    {
     "name": "stdout",
     "output_type": "stream",
     "text": [
      "Epoch 8 start...\n",
      "Epoch 9 start...\n",
      "Epoch 10 start...\n",
      "Epoch 11 start...\n",
      "Epoch 12 start...\n",
      "Epoch 13 start...\n",
      "Epoch 14 start...\n",
      "Epoch 15 start...\n"
     ]
    },
    {
     "name": "stderr",
     "output_type": "stream",
     "text": [
      "  1% |#                                                                                                                         |\r"
     ]
    },
    {
     "name": "stdout",
     "output_type": "stream",
     "text": [
      "Epoch 16 start...\n",
      "Epoch 17 start...\n",
      "Epoch 18 start...\n",
      "Epoch 19 start...\n",
      "Epoch 20 start...\n",
      "Epoch 21 start...\n",
      "Epoch 22 start...\n",
      "Epoch 23 start...\n"
     ]
    },
    {
     "name": "stderr",
     "output_type": "stream",
     "text": [
      "  2% |##                                                                                                                        |\r"
     ]
    },
    {
     "name": "stdout",
     "output_type": "stream",
     "text": [
      "Epoch 24 start...\n",
      "Epoch 25 start...\n",
      "Epoch 26 start...\n",
      "Epoch 27 start...\n",
      "Epoch 28 start...\n",
      "Epoch 29 start...\n",
      "Epoch 30 start...\n",
      "Epoch 31 start...\n"
     ]
    },
    {
     "name": "stderr",
     "output_type": "stream",
     "text": [
      "  3% |###                                                                                                                       |\r"
     ]
    },
    {
     "name": "stdout",
     "output_type": "stream",
     "text": [
      "Epoch 32 start...\n",
      "Epoch 33 start...\n",
      "Epoch 34 start...\n",
      "Epoch 35 start...\n",
      "Epoch 36 start...\n",
      "Epoch 37 start...\n",
      "Epoch 38 start...\n",
      "Epoch 39 start...\n"
     ]
    },
    {
     "name": "stderr",
     "output_type": "stream",
     "text": [
      "  4% |####                                                                                                                      |\r"
     ]
    },
    {
     "name": "stdout",
     "output_type": "stream",
     "text": [
      "Epoch 40 start...\n",
      "Epoch 41 start...\n",
      "Epoch 42 start...\n",
      "Epoch 43 start...\n",
      "Epoch 44 start...\n",
      "Epoch 45 start...\n",
      "Epoch 46 start...\n",
      "Epoch 47 start...\n"
     ]
    },
    {
     "name": "stderr",
     "output_type": "stream",
     "text": [
      "  4% |#####                                                                                                                     |\r"
     ]
    },
    {
     "name": "stdout",
     "output_type": "stream",
     "text": [
      "Epoch 48 start...\n",
      "Epoch 49 start...\n",
      "Epoch 50 start...\n",
      "Epoch 51 start...\n",
      "Epoch 52 start...\n",
      "Epoch 53 start...\n",
      "Epoch 54 start...\n",
      "Epoch 55 start...\n"
     ]
    },
    {
     "name": "stderr",
     "output_type": "stream",
     "text": [
      "  5% |######                                                                                                                    |\r"
     ]
    },
    {
     "name": "stdout",
     "output_type": "stream",
     "text": [
      "Epoch 56 start...\n",
      "Epoch 57 start...\n",
      "Epoch 58 start...\n",
      "Epoch 59 start...\n",
      "Epoch 60 start...\n",
      "Epoch 61 start...\n",
      "Epoch 62 start...\n",
      "Epoch 63 start...\n"
     ]
    },
    {
     "name": "stderr",
     "output_type": "stream",
     "text": [
      "  6% |#######                                                                                                                   |\r"
     ]
    },
    {
     "name": "stdout",
     "output_type": "stream",
     "text": [
      "Epoch 64 start...\n",
      "Epoch 65 start...\n",
      "Epoch 66 start...\n",
      "Epoch 67 start...\n",
      "Epoch 68 start...\n",
      "Epoch 69 start...\n",
      "Epoch 70 start...\n",
      "Epoch 71 start...\n"
     ]
    },
    {
     "name": "stderr",
     "output_type": "stream",
     "text": [
      "  7% |########                                                                                                                  |\r"
     ]
    },
    {
     "name": "stdout",
     "output_type": "stream",
     "text": [
      "Epoch 72 start...\n",
      "Epoch 73 start...\n",
      "Epoch 74 start...\n",
      "Epoch 75 start...\n",
      "Epoch 76 start...\n",
      "Epoch 77 start...\n",
      "Epoch 78 start...\n",
      "Epoch 79 start...\n"
     ]
    },
    {
     "name": "stderr",
     "output_type": "stream",
     "text": [
      "  8% |#########                                                                                                                 |\r"
     ]
    },
    {
     "name": "stdout",
     "output_type": "stream",
     "text": [
      "Epoch 80 start...\n",
      "Epoch 81 start...\n",
      "Epoch 82 start...\n",
      "Epoch 83 start...\n",
      "Epoch 84 start...\n",
      "Epoch 85 start...\n",
      "Epoch 86 start...\n",
      "Epoch 87 start...\n"
     ]
    },
    {
     "name": "stderr",
     "output_type": "stream",
     "text": [
      "  8% |##########                                                                                                                |\r"
     ]
    },
    {
     "name": "stdout",
     "output_type": "stream",
     "text": [
      "Epoch 88 start...\n",
      "Epoch 89 start...\n",
      "Epoch 90 start...\n",
      "Epoch 91 start...\n",
      "Epoch 92 start...\n",
      "Epoch 93 start...\n",
      "Epoch 94 start...\n",
      "Epoch 95 start...\n"
     ]
    },
    {
     "name": "stderr",
     "output_type": "stream",
     "text": [
      "  9% |###########                                                                                                               |\r"
     ]
    },
    {
     "name": "stdout",
     "output_type": "stream",
     "text": [
      "Epoch 96 start...\n",
      "Epoch 97 start...\n",
      "Epoch 98 start...\n",
      "Epoch 99 start...\n",
      "Epoch 100 start...\n",
      "Epoch 101 start...\n",
      "Epoch 102 start...\n",
      "Epoch 103 start...\n"
     ]
    },
    {
     "name": "stderr",
     "output_type": "stream",
     "text": [
      " 10% |############                                                                                                              |\r"
     ]
    },
    {
     "name": "stdout",
     "output_type": "stream",
     "text": [
      "Epoch 104 start...\n",
      "Epoch 105 start...\n",
      "Epoch 106 start...\n",
      "Epoch 107 start...\n",
      "Epoch 108 start...\n",
      "Epoch 109 start...\n",
      "Epoch 110 start...\n",
      "Epoch 111 start...\n"
     ]
    },
    {
     "name": "stderr",
     "output_type": "stream",
     "text": [
      " 11% |#############                                                                                                             |\r"
     ]
    },
    {
     "name": "stdout",
     "output_type": "stream",
     "text": [
      "Epoch 112 start...\n",
      "Epoch 113 start...\n",
      "Epoch 114 start...\n",
      "Epoch 115 start...\n",
      "Epoch 116 start...\n",
      "Epoch 117 start...\n",
      "Epoch 118 start...\n",
      "Epoch 119 start...\n"
     ]
    },
    {
     "name": "stderr",
     "output_type": "stream",
     "text": [
      " 12% |##############                                                                                                            |\r"
     ]
    },
    {
     "name": "stdout",
     "output_type": "stream",
     "text": [
      "Epoch 120 start...\n",
      "Epoch 121 start...\n",
      "Epoch 122 start...\n",
      "Epoch 123 start...\n",
      "Epoch 124 start...\n",
      "Epoch 125 start...\n",
      "Epoch 126 start...\n",
      "Epoch 127 start...\n"
     ]
    },
    {
     "name": "stderr",
     "output_type": "stream",
     "text": [
      " 12% |###############                                                                                                           |\r"
     ]
    },
    {
     "name": "stdout",
     "output_type": "stream",
     "text": [
      "Epoch 128 start...\n",
      "Epoch 129 start...\n",
      "Epoch 130 start...\n",
      "Epoch 131 start...\n",
      "Epoch 132 start...\n",
      "Epoch 133 start...\n",
      "Epoch 134 start...\n",
      "Epoch 135 start...\n"
     ]
    },
    {
     "name": "stderr",
     "output_type": "stream",
     "text": [
      " 13% |################                                                                                                          |\r"
     ]
    },
    {
     "name": "stdout",
     "output_type": "stream",
     "text": [
      "Epoch 136 start...\n",
      "Epoch 137 start...\n",
      "Epoch 138 start...\n",
      "Epoch 139 start...\n",
      "Epoch 140 start...\n",
      "Epoch 141 start...\n",
      "Epoch 142 start...\n",
      "Epoch 143 start...\n"
     ]
    },
    {
     "name": "stderr",
     "output_type": "stream",
     "text": [
      " 14% |#################                                                                                                         |\r"
     ]
    },
    {
     "name": "stdout",
     "output_type": "stream",
     "text": [
      "Epoch 144 start...\n",
      "Epoch 145 start...\n",
      "Epoch 146 start...\n",
      "Epoch 147 start...\n",
      "Epoch 148 start...\n",
      "Epoch 149 start...\n",
      "Epoch 150 start...\n",
      "Epoch 151 start...\n"
     ]
    },
    {
     "name": "stderr",
     "output_type": "stream",
     "text": [
      " 15% |##################                                                                                                        |\r"
     ]
    },
    {
     "name": "stdout",
     "output_type": "stream",
     "text": [
      "Epoch 152 start...\n",
      "Epoch 153 start...\n",
      "Epoch 154 start...\n",
      "Epoch 155 start...\n",
      "Epoch 156 start...\n",
      "Epoch 157 start...\n",
      "Epoch 158 start...\n",
      "Epoch 159 start...\n"
     ]
    },
    {
     "name": "stderr",
     "output_type": "stream",
     "text": [
      " 16% |###################                                                                                                       |\r"
     ]
    },
    {
     "name": "stdout",
     "output_type": "stream",
     "text": [
      "Epoch 160 start...\n",
      "Epoch 161 start...\n",
      "Epoch 162 start...\n",
      "Epoch 163 start...\n",
      "Epoch 164 start...\n",
      "Epoch 165 start...\n",
      "Epoch 166 start...\n",
      "Epoch 167 start...\n"
     ]
    },
    {
     "name": "stderr",
     "output_type": "stream",
     "text": [
      " 16% |####################                                                                                                      |\r"
     ]
    },
    {
     "name": "stdout",
     "output_type": "stream",
     "text": [
      "Epoch 168 start...\n",
      "Epoch 169 start...\n",
      "Epoch 170 start...\n",
      "Epoch 171 start...\n",
      "Epoch 172 start...\n",
      "Epoch 173 start...\n",
      "Epoch 174 start...\n",
      "Epoch 175 start...\n"
     ]
    },
    {
     "name": "stderr",
     "output_type": "stream",
     "text": [
      " 17% |#####################                                                                                                     |\r"
     ]
    },
    {
     "name": "stdout",
     "output_type": "stream",
     "text": [
      "Epoch 176 start...\n",
      "Epoch 177 start...\n",
      "Epoch 178 start...\n",
      "Epoch 179 start...\n",
      "Epoch 180 start...\n",
      "Epoch 181 start...\n",
      "Epoch 182 start...\n",
      "Epoch 183 start...\n"
     ]
    },
    {
     "name": "stderr",
     "output_type": "stream",
     "text": [
      " 18% |######################                                                                                                    |\r"
     ]
    },
    {
     "name": "stdout",
     "output_type": "stream",
     "text": [
      "Epoch 184 start...\n",
      "Epoch 185 start...\n",
      "Epoch 186 start...\n",
      "Epoch 187 start...\n",
      "Epoch 188 start...\n",
      "Epoch 189 start...\n",
      "Epoch 190 start...\n",
      "Epoch 191 start...\n"
     ]
    },
    {
     "name": "stderr",
     "output_type": "stream",
     "text": [
      " 19% |#######################                                                                                                   |\r"
     ]
    },
    {
     "name": "stdout",
     "output_type": "stream",
     "text": [
      "Epoch 192 start...\n",
      "Epoch 193 start...\n",
      "Epoch 194 start...\n",
      "Epoch 195 start...\n",
      "Epoch 196 start...\n",
      "Epoch 197 start...\n",
      "Epoch 198 start...\n",
      "Epoch 199 start...\n"
     ]
    },
    {
     "name": "stderr",
     "output_type": "stream",
     "text": [
      " 20% |########################                                                                                                  |\r"
     ]
    },
    {
     "name": "stdout",
     "output_type": "stream",
     "text": [
      "Epoch 200 start...\n",
      "Epoch 201 start...\n",
      "Epoch 202 start...\n",
      "Epoch 203 start...\n",
      "Epoch 204 start...\n",
      "Epoch 205 start...\n",
      "Epoch 206 start...\n",
      "Epoch 207 start...\n"
     ]
    },
    {
     "name": "stderr",
     "output_type": "stream",
     "text": [
      " 20% |#########################                                                                                                 |\r"
     ]
    },
    {
     "name": "stdout",
     "output_type": "stream",
     "text": [
      "Epoch 208 start...\n",
      "Epoch 209 start...\n",
      "Epoch 210 start...\n",
      "Epoch 211 start...\n",
      "Epoch 212 start...\n",
      "Epoch 213 start...\n",
      "Epoch 214 start...\n",
      "Epoch 215 start...\n"
     ]
    },
    {
     "name": "stderr",
     "output_type": "stream",
     "text": [
      " 21% |##########################                                                                                                |\r"
     ]
    },
    {
     "name": "stdout",
     "output_type": "stream",
     "text": [
      "Epoch 216 start...\n",
      "Epoch 217 start...\n",
      "Epoch 218 start...\n",
      "Epoch 219 start...\n",
      "Epoch 220 start...\n",
      "Epoch 221 start...\n",
      "Epoch 222 start...\n",
      "Epoch 223 start...\n"
     ]
    },
    {
     "name": "stderr",
     "output_type": "stream",
     "text": [
      " 22% |###########################                                                                                               |\r"
     ]
    },
    {
     "name": "stdout",
     "output_type": "stream",
     "text": [
      "Epoch 224 start...\n",
      "Epoch 225 start...\n",
      "Epoch 226 start...\n",
      "Epoch 227 start...\n",
      "Epoch 228 start...\n",
      "Epoch 229 start...\n",
      "Epoch 230 start...\n",
      "Epoch 231 start...\n"
     ]
    },
    {
     "name": "stderr",
     "output_type": "stream",
     "text": [
      " 23% |############################                                                                                              |\r"
     ]
    },
    {
     "name": "stdout",
     "output_type": "stream",
     "text": [
      "Epoch 232 start...\n",
      "Epoch 233 start...\n",
      "Epoch 234 start...\n",
      "Epoch 235 start...\n",
      "Epoch 236 start...\n",
      "Epoch 237 start...\n",
      "Epoch 238 start...\n",
      "Epoch 239 start...\n"
     ]
    },
    {
     "name": "stderr",
     "output_type": "stream",
     "text": [
      " 24% |#############################                                                                                             |\r"
     ]
    },
    {
     "name": "stdout",
     "output_type": "stream",
     "text": [
      "Epoch 240 start...\n",
      "Epoch 241 start...\n",
      "Epoch 242 start...\n",
      "Epoch 243 start...\n",
      "Epoch 244 start...\n",
      "Epoch 245 start...\n",
      "Epoch 246 start...\n",
      "Epoch 247 start...\n"
     ]
    },
    {
     "name": "stderr",
     "output_type": "stream",
     "text": [
      " 24% |##############################                                                                                            |\r"
     ]
    },
    {
     "name": "stdout",
     "output_type": "stream",
     "text": [
      "Epoch 248 start...\n",
      "Epoch 249 start...\n",
      "Epoch 250 start...\n",
      "Epoch 251 start...\n",
      "Epoch 252 start...\n",
      "Epoch 253 start...\n",
      "Epoch 254 start...\n",
      "Epoch 255 start...\n"
     ]
    },
    {
     "name": "stderr",
     "output_type": "stream",
     "text": [
      " 25% |###############################                                                                                           |\r"
     ]
    },
    {
     "name": "stdout",
     "output_type": "stream",
     "text": [
      "Epoch 256 start...\n",
      "Epoch 257 start...\n",
      "Epoch 258 start...\n",
      "Epoch 259 start...\n",
      "Epoch 260 start...\n",
      "Epoch 261 start...\n",
      "Epoch 262 start...\n",
      "Epoch 263 start...\n"
     ]
    },
    {
     "name": "stderr",
     "output_type": "stream",
     "text": [
      " 26% |################################                                                                                          |\r"
     ]
    },
    {
     "name": "stdout",
     "output_type": "stream",
     "text": [
      "Epoch 264 start...\n",
      "Epoch 265 start...\n",
      "Epoch 266 start...\n",
      "Epoch 267 start...\n",
      "Epoch 268 start...\n",
      "Epoch 269 start...\n",
      "Epoch 270 start...\n",
      "Epoch 271 start...\n"
     ]
    },
    {
     "name": "stderr",
     "output_type": "stream",
     "text": [
      " 27% |#################################                                                                                         |\r"
     ]
    },
    {
     "name": "stdout",
     "output_type": "stream",
     "text": [
      "Epoch 272 start...\n",
      "Epoch 273 start...\n",
      "Epoch 274 start...\n",
      "Epoch 275 start...\n",
      "Epoch 276 start...\n",
      "Epoch 277 start...\n",
      "Epoch 278 start...\n",
      "Epoch 279 start...\n"
     ]
    },
    {
     "name": "stderr",
     "output_type": "stream",
     "text": [
      " 28% |##################################                                                                                        |\r"
     ]
    },
    {
     "name": "stdout",
     "output_type": "stream",
     "text": [
      "Epoch 280 start...\n",
      "Epoch 281 start...\n",
      "Epoch 282 start...\n",
      "Epoch 283 start...\n",
      "Epoch 284 start...\n",
      "Epoch 285 start...\n",
      "Epoch 286 start...\n",
      "Epoch 287 start...\n"
     ]
    },
    {
     "name": "stderr",
     "output_type": "stream",
     "text": [
      " 28% |###################################                                                                                       |\r"
     ]
    },
    {
     "name": "stdout",
     "output_type": "stream",
     "text": [
      "Epoch 288 start...\n",
      "Epoch 289 start...\n",
      "Epoch 290 start...\n",
      "Epoch 291 start...\n",
      "Epoch 292 start...\n",
      "Epoch 293 start...\n",
      "Epoch 294 start...\n",
      "Epoch 295 start...\n"
     ]
    },
    {
     "name": "stderr",
     "output_type": "stream",
     "text": [
      " 29% |####################################                                                                                      |\r"
     ]
    },
    {
     "name": "stdout",
     "output_type": "stream",
     "text": [
      "Epoch 296 start...\n",
      "Epoch 297 start...\n",
      "Epoch 298 start...\n",
      "Epoch 299 start...\n",
      "Epoch 300 start...\n",
      "Epoch 301 start...\n",
      "Epoch 302 start...\n",
      "Epoch 303 start...\n"
     ]
    },
    {
     "name": "stderr",
     "output_type": "stream",
     "text": [
      " 30% |#####################################                                                                                     |\r"
     ]
    },
    {
     "name": "stdout",
     "output_type": "stream",
     "text": [
      "Epoch 304 start...\n",
      "Epoch 305 start...\n",
      "Epoch 306 start...\n",
      "Epoch 307 start...\n",
      "Epoch 308 start...\n",
      "Epoch 309 start...\n",
      "Epoch 310 start...\n",
      "Epoch 311 start...\n"
     ]
    },
    {
     "name": "stderr",
     "output_type": "stream",
     "text": [
      " 31% |######################################                                                                                    |\r"
     ]
    },
    {
     "name": "stdout",
     "output_type": "stream",
     "text": [
      "Epoch 312 start...\n",
      "Epoch 313 start...\n",
      "Epoch 314 start...\n",
      "Epoch 315 start...\n",
      "Epoch 316 start...\n",
      "Epoch 317 start...\n",
      "Epoch 318 start...\n",
      "Epoch 319 start...\n"
     ]
    },
    {
     "name": "stderr",
     "output_type": "stream",
     "text": [
      " 32% |#######################################                                                                                   |\r"
     ]
    },
    {
     "name": "stdout",
     "output_type": "stream",
     "text": [
      "Epoch 320 start...\n",
      "Epoch 321 start...\n",
      "Epoch 322 start...\n",
      "Epoch 323 start...\n",
      "Epoch 324 start...\n",
      "Epoch 325 start...\n",
      "Epoch 326 start...\n",
      "Epoch 327 start...\n"
     ]
    },
    {
     "name": "stderr",
     "output_type": "stream",
     "text": [
      " 32% |########################################                                                                                  |\r"
     ]
    },
    {
     "name": "stdout",
     "output_type": "stream",
     "text": [
      "Epoch 328 start...\n",
      "Epoch 329 start...\n",
      "Epoch 330 start...\n",
      "Epoch 331 start...\n",
      "Epoch 332 start...\n",
      "Epoch 333 start...\n",
      "Epoch 334 start...\n",
      "Epoch 335 start...\n"
     ]
    },
    {
     "name": "stderr",
     "output_type": "stream",
     "text": [
      " 33% |########################################                                                                                  |\r"
     ]
    },
    {
     "name": "stdout",
     "output_type": "stream",
     "text": [
      "Epoch 336 start...\n",
      "Epoch 337 start...\n",
      "Epoch 338 start...\n",
      "Epoch 339 start...\n",
      "Epoch 340 start...\n",
      "Epoch 341 start...\n",
      "Epoch 342 start...\n",
      "Epoch 343 start...\n"
     ]
    },
    {
     "name": "stderr",
     "output_type": "stream",
     "text": [
      " 34% |#########################################                                                                                 |\r"
     ]
    },
    {
     "name": "stdout",
     "output_type": "stream",
     "text": [
      "Epoch 344 start...\n",
      "Epoch 345 start...\n",
      "Epoch 346 start...\n",
      "Epoch 347 start...\n",
      "Epoch 348 start...\n",
      "Epoch 349 start...\n",
      "Epoch 350 start...\n",
      "Epoch 351 start...\n"
     ]
    },
    {
     "name": "stderr",
     "output_type": "stream",
     "text": [
      " 35% |##########################################                                                                                |\r"
     ]
    },
    {
     "name": "stdout",
     "output_type": "stream",
     "text": [
      "Epoch 352 start...\n",
      "Epoch 353 start...\n",
      "Epoch 354 start...\n",
      "Epoch 355 start...\n",
      "Epoch 356 start...\n",
      "Epoch 357 start...\n",
      "Epoch 358 start...\n",
      "Epoch 359 start...\n"
     ]
    },
    {
     "name": "stderr",
     "output_type": "stream",
     "text": [
      " 36% |###########################################                                                                               |\r"
     ]
    },
    {
     "name": "stdout",
     "output_type": "stream",
     "text": [
      "Epoch 360 start...\n",
      "Epoch 361 start...\n",
      "Epoch 362 start...\n",
      "Epoch 363 start...\n",
      "Epoch 364 start...\n",
      "Epoch 365 start...\n",
      "Epoch 366 start...\n",
      "Epoch 367 start...\n"
     ]
    },
    {
     "name": "stderr",
     "output_type": "stream",
     "text": [
      " 36% |############################################                                                                              |\r"
     ]
    },
    {
     "name": "stdout",
     "output_type": "stream",
     "text": [
      "Epoch 368 start...\n",
      "Epoch 369 start...\n",
      "Epoch 370 start...\n",
      "Epoch 371 start...\n",
      "Epoch 372 start...\n",
      "Epoch 373 start...\n",
      "Epoch 374 start...\n",
      "Epoch 375 start...\n"
     ]
    },
    {
     "name": "stderr",
     "output_type": "stream",
     "text": [
      " 37% |#############################################                                                                             |\r"
     ]
    },
    {
     "name": "stdout",
     "output_type": "stream",
     "text": [
      "Epoch 376 start...\n",
      "Epoch 377 start...\n",
      "Epoch 378 start...\n",
      "Epoch 379 start...\n",
      "Epoch 380 start...\n",
      "Epoch 381 start...\n",
      "Epoch 382 start...\n",
      "Epoch 383 start...\n"
     ]
    },
    {
     "name": "stderr",
     "output_type": "stream",
     "text": [
      " 38% |##############################################                                                                            |\r"
     ]
    },
    {
     "name": "stdout",
     "output_type": "stream",
     "text": [
      "Epoch 384 start...\n",
      "Epoch 385 start...\n",
      "Epoch 386 start...\n",
      "Epoch 387 start...\n",
      "Epoch 388 start...\n",
      "Epoch 389 start...\n",
      "Epoch 390 start...\n",
      "Epoch 391 start...\n"
     ]
    },
    {
     "name": "stderr",
     "output_type": "stream",
     "text": [
      " 39% |###############################################                                                                           |\r"
     ]
    },
    {
     "name": "stdout",
     "output_type": "stream",
     "text": [
      "Epoch 392 start...\n",
      "Epoch 393 start...\n",
      "Epoch 394 start...\n",
      "Epoch 395 start...\n",
      "Epoch 396 start...\n",
      "Epoch 397 start...\n",
      "Epoch 398 start...\n",
      "Epoch 399 start...\n"
     ]
    },
    {
     "name": "stderr",
     "output_type": "stream",
     "text": [
      " 40% |################################################                                                                          |\r"
     ]
    },
    {
     "name": "stdout",
     "output_type": "stream",
     "text": [
      "Epoch 400 start...\n",
      "Epoch 401 start...\n",
      "Epoch 402 start...\n",
      "Epoch 403 start...\n",
      "Epoch 404 start...\n",
      "Epoch 405 start...\n",
      "Epoch 406 start...\n",
      "Epoch 407 start...\n"
     ]
    },
    {
     "name": "stderr",
     "output_type": "stream",
     "text": [
      " 40% |#################################################                                                                         |\r"
     ]
    },
    {
     "name": "stdout",
     "output_type": "stream",
     "text": [
      "Epoch 408 start...\n",
      "Epoch 409 start...\n",
      "Epoch 410 start...\n",
      "Epoch 411 start...\n",
      "Epoch 412 start...\n",
      "Epoch 413 start...\n",
      "Epoch 414 start...\n",
      "Epoch 415 start...\n"
     ]
    },
    {
     "name": "stderr",
     "output_type": "stream",
     "text": [
      " 41% |##################################################                                                                        |\r"
     ]
    },
    {
     "name": "stdout",
     "output_type": "stream",
     "text": [
      "Epoch 416 start...\n",
      "Epoch 417 start...\n",
      "Epoch 418 start...\n",
      "Epoch 419 start...\n",
      "Epoch 420 start...\n",
      "Epoch 421 start...\n",
      "Epoch 422 start...\n",
      "Epoch 423 start...\n"
     ]
    },
    {
     "name": "stderr",
     "output_type": "stream",
     "text": [
      " 42% |###################################################                                                                       |\r"
     ]
    },
    {
     "name": "stdout",
     "output_type": "stream",
     "text": [
      "Epoch 424 start...\n",
      "Epoch 425 start...\n",
      "Epoch 426 start...\n",
      "Epoch 427 start...\n",
      "Epoch 428 start...\n",
      "Epoch 429 start...\n",
      "Epoch 430 start...\n",
      "Epoch 431 start...\n"
     ]
    },
    {
     "name": "stderr",
     "output_type": "stream",
     "text": [
      " 43% |####################################################                                                                      |\r"
     ]
    },
    {
     "name": "stdout",
     "output_type": "stream",
     "text": [
      "Epoch 432 start...\n",
      "Epoch 433 start...\n",
      "Epoch 434 start...\n",
      "Epoch 435 start...\n",
      "Epoch 436 start...\n",
      "Epoch 437 start...\n",
      "Epoch 438 start...\n",
      "Epoch 439 start...\n"
     ]
    },
    {
     "name": "stderr",
     "output_type": "stream",
     "text": [
      " 44% |#####################################################                                                                     |\r"
     ]
    },
    {
     "name": "stdout",
     "output_type": "stream",
     "text": [
      "Epoch 440 start...\n",
      "Epoch 441 start...\n",
      "Epoch 442 start...\n",
      "Epoch 443 start...\n",
      "Epoch 444 start...\n",
      "Epoch 445 start...\n",
      "Epoch 446 start...\n",
      "Epoch 447 start...\n"
     ]
    },
    {
     "name": "stderr",
     "output_type": "stream",
     "text": [
      " 44% |######################################################                                                                    |\r"
     ]
    },
    {
     "name": "stdout",
     "output_type": "stream",
     "text": [
      "Epoch 448 start...\n",
      "Epoch 449 start...\n",
      "Epoch 450 start...\n",
      "Epoch 451 start...\n",
      "Epoch 452 start...\n",
      "Epoch 453 start...\n",
      "Epoch 454 start...\n",
      "Epoch 455 start...\n"
     ]
    },
    {
     "name": "stderr",
     "output_type": "stream",
     "text": [
      " 45% |#######################################################                                                                   |\r"
     ]
    },
    {
     "name": "stdout",
     "output_type": "stream",
     "text": [
      "Epoch 456 start...\n",
      "Epoch 457 start...\n",
      "Epoch 458 start...\n",
      "Epoch 459 start...\n",
      "Epoch 460 start...\n",
      "Epoch 461 start...\n",
      "Epoch 462 start...\n",
      "Epoch 463 start...\n"
     ]
    },
    {
     "name": "stderr",
     "output_type": "stream",
     "text": [
      " 46% |########################################################                                                                  |\r"
     ]
    },
    {
     "name": "stdout",
     "output_type": "stream",
     "text": [
      "Epoch 464 start...\n",
      "Epoch 465 start...\n",
      "Epoch 466 start...\n",
      "Epoch 467 start...\n",
      "Epoch 468 start...\n",
      "Epoch 469 start...\n",
      "Epoch 470 start...\n",
      "Epoch 471 start...\n"
     ]
    },
    {
     "name": "stderr",
     "output_type": "stream",
     "text": [
      " 47% |#########################################################                                                                 |\r"
     ]
    },
    {
     "name": "stdout",
     "output_type": "stream",
     "text": [
      "Epoch 472 start...\n",
      "Epoch 473 start...\n",
      "Epoch 474 start...\n",
      "Epoch 475 start...\n",
      "Epoch 476 start...\n",
      "Epoch 477 start...\n",
      "Epoch 478 start...\n",
      "Epoch 479 start...\n"
     ]
    },
    {
     "name": "stderr",
     "output_type": "stream",
     "text": [
      " 48% |##########################################################                                                                |\r"
     ]
    },
    {
     "name": "stdout",
     "output_type": "stream",
     "text": [
      "Epoch 480 start...\n",
      "Epoch 481 start...\n",
      "Epoch 482 start...\n",
      "Epoch 483 start...\n",
      "Epoch 484 start...\n",
      "Epoch 485 start...\n",
      "Epoch 486 start...\n",
      "Epoch 487 start...\n"
     ]
    },
    {
     "name": "stderr",
     "output_type": "stream",
     "text": [
      " 48% |###########################################################                                                               |\r"
     ]
    },
    {
     "name": "stdout",
     "output_type": "stream",
     "text": [
      "Epoch 488 start...\n",
      "Epoch 489 start...\n",
      "Epoch 490 start...\n",
      "Epoch 491 start...\n",
      "Epoch 492 start...\n",
      "Epoch 493 start...\n",
      "Epoch 494 start...\n",
      "Epoch 495 start...\n"
     ]
    },
    {
     "name": "stderr",
     "output_type": "stream",
     "text": [
      " 49% |############################################################                                                              |\r"
     ]
    },
    {
     "name": "stdout",
     "output_type": "stream",
     "text": [
      "Epoch 496 start...\n",
      "Epoch 497 start...\n",
      "Epoch 498 start...\n",
      "Epoch 499 start...\n",
      "Epoch 500 start...\n",
      "Epoch 501 start...\n",
      "Epoch 502 start...\n",
      "Epoch 503 start...\n"
     ]
    },
    {
     "name": "stderr",
     "output_type": "stream",
     "text": [
      " 50% |#############################################################                                                             |\r"
     ]
    },
    {
     "name": "stdout",
     "output_type": "stream",
     "text": [
      "Epoch 504 start...\n",
      "Epoch 505 start...\n",
      "Epoch 506 start...\n",
      "Epoch 507 start...\n",
      "Epoch 508 start...\n",
      "Epoch 509 start...\n",
      "Epoch 510 start...\n",
      "Epoch 511 start...\n"
     ]
    },
    {
     "name": "stderr",
     "output_type": "stream",
     "text": [
      " 51% |##############################################################                                                            |\r"
     ]
    },
    {
     "name": "stdout",
     "output_type": "stream",
     "text": [
      "Epoch 512 start...\n",
      "Epoch 513 start...\n",
      "Epoch 514 start...\n",
      "Epoch 515 start...\n",
      "Epoch 516 start...\n",
      "Epoch 517 start...\n",
      "Epoch 518 start...\n",
      "Epoch 519 start...\n"
     ]
    },
    {
     "name": "stderr",
     "output_type": "stream",
     "text": [
      " 52% |###############################################################                                                           |\r"
     ]
    },
    {
     "name": "stdout",
     "output_type": "stream",
     "text": [
      "Epoch 520 start...\n",
      "Epoch 521 start...\n",
      "Epoch 522 start...\n",
      "Epoch 523 start...\n",
      "Epoch 524 start...\n",
      "Epoch 525 start...\n",
      "Epoch 526 start...\n",
      "Epoch 527 start...\n"
     ]
    },
    {
     "name": "stderr",
     "output_type": "stream",
     "text": [
      " 52% |################################################################                                                          |\r"
     ]
    },
    {
     "name": "stdout",
     "output_type": "stream",
     "text": [
      "Epoch 528 start...\n",
      "Epoch 529 start...\n",
      "Epoch 530 start...\n",
      "Epoch 531 start...\n",
      "Epoch 532 start...\n",
      "Epoch 533 start...\n",
      "Epoch 534 start...\n",
      "Epoch 535 start...\n"
     ]
    },
    {
     "name": "stderr",
     "output_type": "stream",
     "text": [
      " 53% |#################################################################                                                         |\r"
     ]
    },
    {
     "name": "stdout",
     "output_type": "stream",
     "text": [
      "Epoch 536 start...\n",
      "Epoch 537 start...\n",
      "Epoch 538 start...\n",
      "Epoch 539 start...\n",
      "Epoch 540 start...\n",
      "Epoch 541 start...\n",
      "Epoch 542 start...\n",
      "Epoch 543 start...\n"
     ]
    },
    {
     "name": "stderr",
     "output_type": "stream",
     "text": [
      " 54% |##################################################################                                                        |\r"
     ]
    },
    {
     "name": "stdout",
     "output_type": "stream",
     "text": [
      "Epoch 544 start...\n",
      "Epoch 545 start...\n",
      "Epoch 546 start...\n",
      "Epoch 547 start...\n",
      "Epoch 548 start...\n",
      "Epoch 549 start...\n",
      "Epoch 550 start...\n",
      "Epoch 551 start...\n"
     ]
    },
    {
     "name": "stderr",
     "output_type": "stream",
     "text": [
      " 55% |###################################################################                                                       |\r"
     ]
    },
    {
     "name": "stdout",
     "output_type": "stream",
     "text": [
      "Epoch 552 start...\n",
      "Epoch 553 start...\n",
      "Epoch 554 start...\n",
      "Epoch 555 start...\n",
      "Epoch 556 start...\n",
      "Epoch 557 start...\n",
      "Epoch 558 start...\n",
      "Epoch 559 start...\n"
     ]
    },
    {
     "name": "stderr",
     "output_type": "stream",
     "text": [
      " 56% |####################################################################                                                      |\r"
     ]
    },
    {
     "name": "stdout",
     "output_type": "stream",
     "text": [
      "Epoch 560 start...\n",
      "Epoch 561 start...\n",
      "Epoch 562 start...\n",
      "Epoch 563 start...\n",
      "Epoch 564 start...\n",
      "Epoch 565 start...\n",
      "Epoch 566 start...\n",
      "Epoch 567 start...\n"
     ]
    },
    {
     "name": "stderr",
     "output_type": "stream",
     "text": [
      " 56% |#####################################################################                                                     |\r"
     ]
    },
    {
     "name": "stdout",
     "output_type": "stream",
     "text": [
      "Epoch 568 start...\n",
      "Epoch 569 start...\n",
      "Epoch 570 start...\n",
      "Epoch 571 start...\n",
      "Epoch 572 start...\n",
      "Epoch 573 start...\n",
      "Epoch 574 start...\n",
      "Epoch 575 start...\n"
     ]
    },
    {
     "name": "stderr",
     "output_type": "stream",
     "text": [
      " 57% |######################################################################                                                    |\r"
     ]
    },
    {
     "name": "stdout",
     "output_type": "stream",
     "text": [
      "Epoch 576 start...\n",
      "Epoch 577 start...\n",
      "Epoch 578 start...\n",
      "Epoch 579 start...\n",
      "Epoch 580 start...\n",
      "Epoch 581 start...\n",
      "Epoch 582 start...\n",
      "Epoch 583 start...\n"
     ]
    },
    {
     "name": "stderr",
     "output_type": "stream",
     "text": [
      " 58% |#######################################################################                                                   |\r"
     ]
    },
    {
     "name": "stdout",
     "output_type": "stream",
     "text": [
      "Epoch 584 start...\n",
      "Epoch 585 start...\n",
      "Epoch 586 start...\n",
      "Epoch 587 start...\n",
      "Epoch 588 start...\n",
      "Epoch 589 start...\n",
      "Epoch 590 start...\n",
      "Epoch 591 start...\n"
     ]
    },
    {
     "name": "stderr",
     "output_type": "stream",
     "text": [
      " 59% |########################################################################                                                  |\r"
     ]
    },
    {
     "name": "stdout",
     "output_type": "stream",
     "text": [
      "Epoch 592 start...\n",
      "Epoch 593 start...\n",
      "Epoch 594 start...\n",
      "Epoch 595 start...\n",
      "Epoch 596 start...\n",
      "Epoch 597 start...\n",
      "Epoch 598 start...\n",
      "Epoch 599 start...\n"
     ]
    },
    {
     "name": "stderr",
     "output_type": "stream",
     "text": [
      " 60% |#########################################################################                                                 |\r"
     ]
    },
    {
     "name": "stdout",
     "output_type": "stream",
     "text": [
      "Epoch 600 start...\n",
      "Epoch 601 start...\n",
      "Epoch 602 start...\n",
      "Epoch 603 start...\n",
      "Epoch 604 start...\n",
      "Epoch 605 start...\n",
      "Epoch 606 start...\n",
      "Epoch 607 start...\n"
     ]
    },
    {
     "name": "stderr",
     "output_type": "stream",
     "text": [
      " 60% |##########################################################################                                                |\r"
     ]
    },
    {
     "name": "stdout",
     "output_type": "stream",
     "text": [
      "Epoch 608 start...\n",
      "Epoch 609 start...\n",
      "Epoch 610 start...\n",
      "Epoch 611 start...\n",
      "Epoch 612 start...\n",
      "Epoch 613 start...\n",
      "Epoch 614 start...\n",
      "Epoch 615 start...\n"
     ]
    },
    {
     "name": "stderr",
     "output_type": "stream",
     "text": [
      " 61% |###########################################################################                                               |\r"
     ]
    },
    {
     "name": "stdout",
     "output_type": "stream",
     "text": [
      "Epoch 616 start...\n",
      "Epoch 617 start...\n",
      "Epoch 618 start...\n",
      "Epoch 619 start...\n",
      "Epoch 620 start...\n",
      "Epoch 621 start...\n",
      "Epoch 622 start...\n",
      "Epoch 623 start...\n"
     ]
    },
    {
     "name": "stderr",
     "output_type": "stream",
     "text": [
      " 62% |############################################################################                                              |\r"
     ]
    },
    {
     "name": "stdout",
     "output_type": "stream",
     "text": [
      "Epoch 624 start...\n",
      "Epoch 625 start...\n",
      "Epoch 626 start...\n",
      "Epoch 627 start...\n",
      "Epoch 628 start...\n",
      "Epoch 629 start...\n",
      "Epoch 630 start...\n",
      "Epoch 631 start...\n"
     ]
    },
    {
     "name": "stderr",
     "output_type": "stream",
     "text": [
      " 63% |#############################################################################                                             |\r"
     ]
    },
    {
     "name": "stdout",
     "output_type": "stream",
     "text": [
      "Epoch 632 start...\n",
      "Epoch 633 start...\n",
      "Epoch 634 start...\n",
      "Epoch 635 start...\n",
      "Epoch 636 start...\n",
      "Epoch 637 start...\n",
      "Epoch 638 start...\n",
      "Epoch 639 start...\n"
     ]
    },
    {
     "name": "stderr",
     "output_type": "stream",
     "text": [
      " 64% |##############################################################################                                            |\r"
     ]
    },
    {
     "name": "stdout",
     "output_type": "stream",
     "text": [
      "Epoch 640 start...\n",
      "Epoch 641 start...\n",
      "Epoch 642 start...\n",
      "Epoch 643 start...\n",
      "Epoch 644 start...\n",
      "Epoch 645 start...\n",
      "Epoch 646 start...\n",
      "Epoch 647 start...\n"
     ]
    },
    {
     "name": "stderr",
     "output_type": "stream",
     "text": [
      " 64% |###############################################################################                                           |\r"
     ]
    },
    {
     "name": "stdout",
     "output_type": "stream",
     "text": [
      "Epoch 648 start...\n",
      "Epoch 649 start...\n",
      "Epoch 650 start...\n",
      "Epoch 651 start...\n",
      "Epoch 652 start...\n",
      "Epoch 653 start...\n",
      "Epoch 654 start...\n",
      "Epoch 655 start...\n"
     ]
    },
    {
     "name": "stderr",
     "output_type": "stream",
     "text": [
      " 65% |################################################################################                                          |\r"
     ]
    },
    {
     "name": "stdout",
     "output_type": "stream",
     "text": [
      "Epoch 656 start...\n",
      "Epoch 657 start...\n",
      "Epoch 658 start...\n",
      "Epoch 659 start...\n",
      "Epoch 660 start...\n",
      "Epoch 661 start...\n",
      "Epoch 662 start...\n",
      "Epoch 663 start...\n"
     ]
    },
    {
     "name": "stderr",
     "output_type": "stream",
     "text": [
      " 66% |#################################################################################                                         |\r"
     ]
    },
    {
     "name": "stdout",
     "output_type": "stream",
     "text": [
      "Epoch 664 start...\n",
      "Epoch 665 start...\n",
      "Epoch 666 start...\n",
      "Epoch 667 start...\n",
      "Epoch 668 start...\n",
      "Epoch 669 start...\n",
      "Epoch 670 start...\n",
      "Epoch 671 start...\n"
     ]
    },
    {
     "name": "stderr",
     "output_type": "stream",
     "text": [
      " 67% |#################################################################################                                         |\r"
     ]
    },
    {
     "name": "stdout",
     "output_type": "stream",
     "text": [
      "Epoch 672 start...\n",
      "Epoch 673 start...\n",
      "Epoch 674 start...\n",
      "Epoch 675 start...\n",
      "Epoch 676 start...\n",
      "Epoch 677 start...\n",
      "Epoch 678 start...\n",
      "Epoch 679 start...\n"
     ]
    },
    {
     "name": "stderr",
     "output_type": "stream",
     "text": [
      " 68% |##################################################################################                                        |\r"
     ]
    },
    {
     "name": "stdout",
     "output_type": "stream",
     "text": [
      "Epoch 680 start...\n",
      "Epoch 681 start...\n",
      "Epoch 682 start...\n",
      "Epoch 683 start...\n",
      "Epoch 684 start...\n",
      "Epoch 685 start...\n",
      "Epoch 686 start...\n",
      "Epoch 687 start...\n"
     ]
    },
    {
     "name": "stderr",
     "output_type": "stream",
     "text": [
      " 68% |###################################################################################                                       |\r"
     ]
    },
    {
     "name": "stdout",
     "output_type": "stream",
     "text": [
      "Epoch 688 start...\n",
      "Epoch 689 start...\n",
      "Epoch 690 start...\n",
      "Epoch 691 start...\n",
      "Epoch 692 start...\n",
      "Epoch 693 start...\n",
      "Epoch 694 start...\n",
      "Epoch 695 start...\n"
     ]
    },
    {
     "name": "stderr",
     "output_type": "stream",
     "text": [
      " 69% |####################################################################################                                      |\r"
     ]
    },
    {
     "name": "stdout",
     "output_type": "stream",
     "text": [
      "Epoch 696 start...\n",
      "Epoch 697 start...\n",
      "Epoch 698 start...\n",
      "Epoch 699 start...\n",
      "Epoch 700 start...\n",
      "Epoch 701 start...\n",
      "Epoch 702 start...\n",
      "Epoch 703 start...\n"
     ]
    },
    {
     "name": "stderr",
     "output_type": "stream",
     "text": [
      " 70% |#####################################################################################                                     |\r"
     ]
    },
    {
     "name": "stdout",
     "output_type": "stream",
     "text": [
      "Epoch 704 start...\n",
      "Epoch 705 start...\n",
      "Epoch 706 start...\n",
      "Epoch 707 start...\n",
      "Epoch 708 start...\n",
      "Epoch 709 start...\n",
      "Epoch 710 start...\n",
      "Epoch 711 start...\n"
     ]
    },
    {
     "name": "stderr",
     "output_type": "stream",
     "text": [
      " 71% |######################################################################################                                    |\r"
     ]
    },
    {
     "name": "stdout",
     "output_type": "stream",
     "text": [
      "Epoch 712 start...\n",
      "Epoch 713 start...\n",
      "Epoch 714 start...\n",
      "Epoch 715 start...\n",
      "Epoch 716 start...\n",
      "Epoch 717 start...\n",
      "Epoch 718 start...\n",
      "Epoch 719 start...\n"
     ]
    },
    {
     "name": "stderr",
     "output_type": "stream",
     "text": [
      " 72% |#######################################################################################                                   |\r"
     ]
    },
    {
     "name": "stdout",
     "output_type": "stream",
     "text": [
      "Epoch 720 start...\n",
      "Epoch 721 start...\n",
      "Epoch 722 start...\n",
      "Epoch 723 start...\n",
      "Epoch 724 start...\n",
      "Epoch 725 start...\n",
      "Epoch 726 start...\n",
      "Epoch 727 start...\n"
     ]
    },
    {
     "name": "stderr",
     "output_type": "stream",
     "text": [
      " 72% |########################################################################################                                  |\r"
     ]
    },
    {
     "name": "stdout",
     "output_type": "stream",
     "text": [
      "Epoch 728 start...\n",
      "Epoch 729 start...\n",
      "Epoch 730 start...\n",
      "Epoch 731 start...\n",
      "Epoch 732 start...\n",
      "Epoch 733 start...\n",
      "Epoch 734 start...\n",
      "Epoch 735 start...\n"
     ]
    },
    {
     "name": "stderr",
     "output_type": "stream",
     "text": [
      " 73% |#########################################################################################                                 |\r"
     ]
    },
    {
     "name": "stdout",
     "output_type": "stream",
     "text": [
      "Epoch 736 start...\n",
      "Epoch 737 start...\n",
      "Epoch 738 start...\n",
      "Epoch 739 start...\n",
      "Epoch 740 start...\n",
      "Epoch 741 start...\n",
      "Epoch 742 start...\n",
      "Epoch 743 start...\n"
     ]
    },
    {
     "name": "stderr",
     "output_type": "stream",
     "text": [
      " 74% |##########################################################################################                                |\r"
     ]
    },
    {
     "name": "stdout",
     "output_type": "stream",
     "text": [
      "Epoch 744 start...\n",
      "Epoch 745 start...\n",
      "Epoch 746 start...\n",
      "Epoch 747 start...\n",
      "Epoch 748 start...\n",
      "Epoch 749 start...\n",
      "Epoch 750 start...\n",
      "Epoch 751 start...\n"
     ]
    },
    {
     "name": "stderr",
     "output_type": "stream",
     "text": [
      " 75% |###########################################################################################                               |\r"
     ]
    },
    {
     "name": "stdout",
     "output_type": "stream",
     "text": [
      "Epoch 752 start...\n",
      "Epoch 753 start...\n",
      "Epoch 754 start...\n",
      "Epoch 755 start...\n",
      "Epoch 756 start...\n",
      "Epoch 757 start...\n",
      "Epoch 758 start...\n",
      "Epoch 759 start...\n"
     ]
    },
    {
     "name": "stderr",
     "output_type": "stream",
     "text": [
      " 76% |############################################################################################                              |\r"
     ]
    },
    {
     "name": "stdout",
     "output_type": "stream",
     "text": [
      "Epoch 760 start...\n",
      "Epoch 761 start...\n",
      "Epoch 762 start...\n",
      "Epoch 763 start...\n",
      "Epoch 764 start...\n",
      "Epoch 765 start...\n",
      "Epoch 766 start...\n",
      "Epoch 767 start...\n"
     ]
    },
    {
     "name": "stderr",
     "output_type": "stream",
     "text": [
      " 76% |#############################################################################################                             |\r"
     ]
    },
    {
     "name": "stdout",
     "output_type": "stream",
     "text": [
      "Epoch 768 start...\n",
      "Epoch 769 start...\n",
      "Epoch 770 start...\n",
      "Epoch 771 start...\n",
      "Epoch 772 start...\n",
      "Epoch 773 start...\n",
      "Epoch 774 start...\n",
      "Epoch 775 start...\n"
     ]
    },
    {
     "name": "stderr",
     "output_type": "stream",
     "text": [
      " 77% |##############################################################################################                            |\r"
     ]
    },
    {
     "name": "stdout",
     "output_type": "stream",
     "text": [
      "Epoch 776 start...\n",
      "Epoch 777 start...\n",
      "Epoch 778 start...\n",
      "Epoch 779 start...\n",
      "Epoch 780 start...\n",
      "Epoch 781 start...\n",
      "Epoch 782 start...\n",
      "Epoch 783 start...\n"
     ]
    },
    {
     "name": "stderr",
     "output_type": "stream",
     "text": [
      " 78% |###############################################################################################                           |\r"
     ]
    },
    {
     "name": "stdout",
     "output_type": "stream",
     "text": [
      "Epoch 784 start...\n",
      "Epoch 785 start...\n",
      "Epoch 786 start...\n",
      "Epoch 787 start...\n",
      "Epoch 788 start...\n",
      "Epoch 789 start...\n",
      "Epoch 790 start...\n",
      "Epoch 791 start...\n"
     ]
    },
    {
     "name": "stderr",
     "output_type": "stream",
     "text": [
      " 79% |################################################################################################                          |\r"
     ]
    },
    {
     "name": "stdout",
     "output_type": "stream",
     "text": [
      "Epoch 792 start...\n",
      "Epoch 793 start...\n",
      "Epoch 794 start...\n",
      "Epoch 795 start...\n",
      "Epoch 796 start...\n",
      "Epoch 797 start...\n",
      "Epoch 798 start...\n",
      "Epoch 799 start...\n"
     ]
    },
    {
     "name": "stderr",
     "output_type": "stream",
     "text": [
      " 80% |#################################################################################################                         |\r"
     ]
    },
    {
     "name": "stdout",
     "output_type": "stream",
     "text": [
      "Epoch 800 start...\n",
      "Epoch 801 start...\n",
      "Epoch 802 start...\n",
      "Epoch 803 start...\n",
      "Epoch 804 start...\n",
      "Epoch 805 start...\n",
      "Epoch 806 start...\n",
      "Epoch 807 start...\n"
     ]
    },
    {
     "name": "stderr",
     "output_type": "stream",
     "text": [
      " 80% |##################################################################################################                        |\r"
     ]
    },
    {
     "name": "stdout",
     "output_type": "stream",
     "text": [
      "Epoch 808 start...\n",
      "Epoch 809 start...\n",
      "Epoch 810 start...\n",
      "Epoch 811 start...\n",
      "Epoch 812 start...\n",
      "Epoch 813 start...\n",
      "Epoch 814 start...\n",
      "Epoch 815 start...\n"
     ]
    },
    {
     "name": "stderr",
     "output_type": "stream",
     "text": [
      " 81% |###################################################################################################                       |\r"
     ]
    },
    {
     "name": "stdout",
     "output_type": "stream",
     "text": [
      "Epoch 816 start...\n",
      "Epoch 817 start...\n",
      "Epoch 818 start...\n",
      "Epoch 819 start...\n",
      "Epoch 820 start...\n",
      "Epoch 821 start...\n",
      "Epoch 822 start...\n",
      "Epoch 823 start...\n"
     ]
    },
    {
     "name": "stderr",
     "output_type": "stream",
     "text": [
      " 82% |####################################################################################################                      |\r"
     ]
    },
    {
     "name": "stdout",
     "output_type": "stream",
     "text": [
      "Epoch 824 start...\n",
      "Epoch 825 start...\n",
      "Epoch 826 start...\n",
      "Epoch 827 start...\n",
      "Epoch 828 start...\n",
      "Epoch 829 start...\n",
      "Epoch 830 start...\n",
      "Epoch 831 start...\n"
     ]
    },
    {
     "name": "stderr",
     "output_type": "stream",
     "text": [
      " 83% |#####################################################################################################                     |\r"
     ]
    },
    {
     "name": "stdout",
     "output_type": "stream",
     "text": [
      "Epoch 832 start...\n",
      "Epoch 833 start...\n",
      "Epoch 834 start...\n",
      "Epoch 835 start...\n",
      "Epoch 836 start...\n",
      "Epoch 837 start...\n",
      "Epoch 838 start...\n",
      "Epoch 839 start...\n"
     ]
    },
    {
     "name": "stderr",
     "output_type": "stream",
     "text": [
      " 84% |######################################################################################################                    |\r"
     ]
    },
    {
     "name": "stdout",
     "output_type": "stream",
     "text": [
      "Epoch 840 start...\n",
      "Epoch 841 start...\n",
      "Epoch 842 start...\n",
      "Epoch 843 start...\n",
      "Epoch 844 start...\n",
      "Epoch 845 start...\n",
      "Epoch 846 start...\n",
      "Epoch 847 start...\n"
     ]
    },
    {
     "name": "stderr",
     "output_type": "stream",
     "text": [
      " 84% |#######################################################################################################                   |\r"
     ]
    },
    {
     "name": "stdout",
     "output_type": "stream",
     "text": [
      "Epoch 848 start...\n",
      "Epoch 849 start...\n",
      "Epoch 850 start...\n",
      "Epoch 851 start...\n",
      "Epoch 852 start...\n",
      "Epoch 853 start...\n",
      "Epoch 854 start...\n",
      "Epoch 855 start...\n"
     ]
    },
    {
     "name": "stderr",
     "output_type": "stream",
     "text": [
      " 85% |########################################################################################################                  |\r"
     ]
    },
    {
     "name": "stdout",
     "output_type": "stream",
     "text": [
      "Epoch 856 start...\n",
      "Epoch 857 start...\n",
      "Epoch 858 start...\n",
      "Epoch 859 start...\n",
      "Epoch 860 start...\n",
      "Epoch 861 start...\n",
      "Epoch 862 start...\n",
      "Epoch 863 start...\n"
     ]
    },
    {
     "name": "stderr",
     "output_type": "stream",
     "text": [
      " 86% |#########################################################################################################                 |\r"
     ]
    },
    {
     "name": "stdout",
     "output_type": "stream",
     "text": [
      "Epoch 864 start...\n",
      "Epoch 865 start...\n",
      "Epoch 866 start...\n",
      "Epoch 867 start...\n",
      "Epoch 868 start...\n",
      "Epoch 869 start...\n",
      "Epoch 870 start...\n",
      "Epoch 871 start...\n"
     ]
    },
    {
     "name": "stderr",
     "output_type": "stream",
     "text": [
      " 87% |##########################################################################################################                |\r"
     ]
    },
    {
     "name": "stdout",
     "output_type": "stream",
     "text": [
      "Epoch 872 start...\n",
      "Epoch 873 start...\n",
      "Epoch 874 start...\n",
      "Epoch 875 start...\n",
      "Epoch 876 start...\n",
      "Epoch 877 start...\n",
      "Epoch 878 start...\n",
      "Epoch 879 start...\n"
     ]
    },
    {
     "name": "stderr",
     "output_type": "stream",
     "text": [
      " 88% |###########################################################################################################               |\r"
     ]
    },
    {
     "name": "stdout",
     "output_type": "stream",
     "text": [
      "Epoch 880 start...\n",
      "Epoch 881 start...\n",
      "Epoch 882 start...\n",
      "Epoch 883 start...\n",
      "Epoch 884 start...\n",
      "Epoch 885 start...\n",
      "Epoch 886 start...\n",
      "Epoch 887 start...\n"
     ]
    },
    {
     "name": "stderr",
     "output_type": "stream",
     "text": [
      " 88% |############################################################################################################              |\r"
     ]
    },
    {
     "name": "stdout",
     "output_type": "stream",
     "text": [
      "Epoch 888 start...\n",
      "Epoch 889 start...\n",
      "Epoch 890 start...\n",
      "Epoch 891 start...\n",
      "Epoch 892 start...\n",
      "Epoch 893 start...\n",
      "Epoch 894 start...\n",
      "Epoch 895 start...\n"
     ]
    },
    {
     "name": "stderr",
     "output_type": "stream",
     "text": [
      " 89% |#############################################################################################################             |\r"
     ]
    },
    {
     "name": "stdout",
     "output_type": "stream",
     "text": [
      "Epoch 896 start...\n",
      "Epoch 897 start...\n",
      "Epoch 898 start...\n",
      "Epoch 899 start...\n",
      "Epoch 900 start...\n",
      "Epoch 901 start...\n",
      "Epoch 902 start...\n",
      "Epoch 903 start...\n"
     ]
    },
    {
     "name": "stderr",
     "output_type": "stream",
     "text": [
      " 90% |##############################################################################################################            |\r"
     ]
    },
    {
     "name": "stdout",
     "output_type": "stream",
     "text": [
      "Epoch 904 start...\n",
      "Epoch 905 start...\n",
      "Epoch 906 start...\n",
      "Epoch 907 start...\n",
      "Epoch 908 start...\n",
      "Epoch 909 start...\n",
      "Epoch 910 start...\n",
      "Epoch 911 start...\n"
     ]
    },
    {
     "name": "stderr",
     "output_type": "stream",
     "text": [
      " 91% |###############################################################################################################           |\r"
     ]
    },
    {
     "name": "stdout",
     "output_type": "stream",
     "text": [
      "Epoch 912 start...\n",
      "Epoch 913 start...\n",
      "Epoch 914 start...\n",
      "Epoch 915 start...\n",
      "Epoch 916 start...\n",
      "Epoch 917 start...\n",
      "Epoch 918 start...\n",
      "Epoch 919 start...\n"
     ]
    },
    {
     "name": "stderr",
     "output_type": "stream",
     "text": [
      " 92% |################################################################################################################          |\r"
     ]
    },
    {
     "name": "stdout",
     "output_type": "stream",
     "text": [
      "Epoch 920 start...\n",
      "Epoch 921 start...\n",
      "Epoch 922 start...\n",
      "Epoch 923 start...\n",
      "Epoch 924 start...\n",
      "Epoch 925 start...\n",
      "Epoch 926 start...\n",
      "Epoch 927 start...\n"
     ]
    },
    {
     "name": "stderr",
     "output_type": "stream",
     "text": [
      " 92% |#################################################################################################################         |\r"
     ]
    },
    {
     "name": "stdout",
     "output_type": "stream",
     "text": [
      "Epoch 928 start...\n",
      "Epoch 929 start...\n",
      "Epoch 930 start...\n",
      "Epoch 931 start...\n",
      "Epoch 932 start...\n",
      "Epoch 933 start...\n",
      "Epoch 934 start...\n",
      "Epoch 935 start...\n"
     ]
    },
    {
     "name": "stderr",
     "output_type": "stream",
     "text": [
      " 93% |##################################################################################################################        |\r"
     ]
    },
    {
     "name": "stdout",
     "output_type": "stream",
     "text": [
      "Epoch 936 start...\n",
      "Epoch 937 start...\n",
      "Epoch 938 start...\n",
      "Epoch 939 start...\n",
      "Epoch 940 start...\n",
      "Epoch 941 start...\n",
      "Epoch 942 start...\n",
      "Epoch 943 start...\n"
     ]
    },
    {
     "name": "stderr",
     "output_type": "stream",
     "text": [
      " 94% |###################################################################################################################       |\r"
     ]
    },
    {
     "name": "stdout",
     "output_type": "stream",
     "text": [
      "Epoch 944 start...\n",
      "Epoch 945 start...\n",
      "Epoch 946 start...\n",
      "Epoch 947 start...\n",
      "Epoch 948 start...\n",
      "Epoch 949 start...\n",
      "Epoch 950 start...\n",
      "Epoch 951 start...\n"
     ]
    },
    {
     "name": "stderr",
     "output_type": "stream",
     "text": [
      " 95% |####################################################################################################################      |\r"
     ]
    },
    {
     "name": "stdout",
     "output_type": "stream",
     "text": [
      "Epoch 952 start...\n",
      "Epoch 953 start...\n",
      "Epoch 954 start...\n",
      "Epoch 955 start...\n",
      "Epoch 956 start...\n",
      "Epoch 957 start...\n",
      "Epoch 958 start...\n",
      "Epoch 959 start...\n"
     ]
    },
    {
     "name": "stderr",
     "output_type": "stream",
     "text": [
      " 96% |#####################################################################################################################     |\r"
     ]
    },
    {
     "name": "stdout",
     "output_type": "stream",
     "text": [
      "Epoch 960 start...\n",
      "Epoch 961 start...\n",
      "Epoch 962 start...\n",
      "Epoch 963 start...\n",
      "Epoch 964 start...\n",
      "Epoch 965 start...\n",
      "Epoch 966 start...\n",
      "Epoch 967 start...\n"
     ]
    },
    {
     "name": "stderr",
     "output_type": "stream",
     "text": [
      " 96% |######################################################################################################################    |\r"
     ]
    },
    {
     "name": "stdout",
     "output_type": "stream",
     "text": [
      "Epoch 968 start...\n",
      "Epoch 969 start...\n",
      "Epoch 970 start...\n",
      "Epoch 971 start...\n",
      "Epoch 972 start...\n",
      "Epoch 973 start...\n",
      "Epoch 974 start...\n",
      "Epoch 975 start...\n"
     ]
    },
    {
     "name": "stderr",
     "output_type": "stream",
     "text": [
      " 97% |#######################################################################################################################   |\r"
     ]
    },
    {
     "name": "stdout",
     "output_type": "stream",
     "text": [
      "Epoch 976 start...\n",
      "Epoch 977 start...\n",
      "Epoch 978 start...\n",
      "Epoch 979 start...\n",
      "Epoch 980 start...\n",
      "Epoch 981 start...\n",
      "Epoch 982 start...\n",
      "Epoch 983 start...\n"
     ]
    },
    {
     "name": "stderr",
     "output_type": "stream",
     "text": [
      " 98% |########################################################################################################################  |\r"
     ]
    },
    {
     "name": "stdout",
     "output_type": "stream",
     "text": [
      "Epoch 984 start...\n",
      "Epoch 985 start...\n",
      "Epoch 986 start...\n",
      "Epoch 987 start...\n",
      "Epoch 988 start...\n",
      "Epoch 989 start...\n",
      "Epoch 990 start...\n",
      "Epoch 991 start...\n"
     ]
    },
    {
     "name": "stderr",
     "output_type": "stream",
     "text": [
      " 99% |######################################################################################################################### |\r"
     ]
    },
    {
     "name": "stdout",
     "output_type": "stream",
     "text": [
      "Epoch 992 start...\n",
      "Epoch 993 start...\n",
      "Epoch 994 start...\n",
      "Epoch 995 start...\n",
      "Epoch 996 start...\n",
      "Epoch 997 start...\n",
      "Epoch 998 start...\n",
      "Epoch 999 start...\n"
     ]
    },
    {
     "name": "stderr",
     "output_type": "stream",
     "text": [
      "100% |##########################################################################################################################|\n"
     ]
    },
    {
     "name": "stdout",
     "output_type": "stream",
     "text": [
      "Prediction: 0\n",
      "Prediction: 1\n",
      "Prediction: 2\n",
      "Prediction: 3\n",
      "Prediction: 4\n",
      "Prediction: 5\n",
      "Prediction: 6\n",
      "Prediction: 7\n",
      "Prediction: 8\n",
      "Prediction: 9\n",
      "Prediction: 10\n",
      "Prediction: 11\n",
      "Prediction: 12\n",
      "Prediction: 13\n",
      "Prediction: 14\n",
      "Prediction: 15\n",
      "Prediction: 16\n",
      "Prediction: 17\n",
      "Prediction: 18\n",
      "Prediction: 19\n",
      "Prediction: 20\n",
      "Prediction: 21\n",
      "Prediction: 22\n",
      "Prediction: 23\n",
      "Prediction: 24\n",
      "Prediction: 25\n",
      "Prediction: 26\n",
      "Prediction: 27\n",
      "Prediction: 28\n",
      "Prediction: 29\n",
      "Prediction: 30\n",
      "Prediction: 31\n",
      "Prediction: 32\n",
      "Prediction: 33\n",
      "Prediction: 34\n",
      "Prediction: 35\n",
      "Prediction: 36\n",
      "Prediction: 37\n",
      "Prediction: 38\n",
      "Prediction: 39\n",
      "Prediction: 40\n",
      "Prediction: 41\n",
      "Prediction: 42\n",
      "Prediction: 43\n",
      "Prediction: 44\n",
      "Prediction: 45\n",
      "Prediction: 46\n",
      "Prediction: 47\n",
      "Prediction: 48\n",
      "Prediction: 49\n",
      "Prediction: 50\n",
      "Prediction: 51\n",
      "Prediction: 52\n",
      "Prediction: 53\n",
      "Prediction: 54\n",
      "Prediction: 55\n",
      "Prediction: 56\n",
      "Prediction: 57\n",
      "Prediction: 58\n",
      "Prediction: 59\n",
      "Prediction: 60\n",
      "Prediction: 61\n",
      "Prediction: 62\n",
      "Prediction: 63\n",
      "Prediction: 64\n",
      "Prediction: 65\n",
      "Prediction: 66\n",
      "Prediction: 67\n",
      "Prediction: 68\n",
      "Prediction: 69\n",
      "Prediction: 70\n",
      "Prediction: 71\n",
      "Prediction: 72\n",
      "Prediction: 73\n",
      "Prediction: 74\n",
      "Prediction: 75\n",
      "Prediction: 76\n",
      "Prediction: 77\n",
      "Prediction: 78\n",
      "Prediction: 79\n",
      "Prediction: 80\n",
      "Prediction: 81\n",
      "Prediction: 82\n",
      "Prediction: 83\n",
      "Prediction: 84\n",
      "Prediction: 85\n",
      "Prediction: 86\n",
      "Prediction: 87\n",
      "Prediction: 88\n",
      "Prediction: 89\n",
      "Prediction: 90\n",
      "Prediction: 91\n",
      "Prediction: 92\n",
      "Prediction: 93\n",
      "Prediction: 94\n",
      "Prediction: 95\n",
      "Prediction: 96\n",
      "Prediction: 97\n",
      "Prediction: 98\n",
      "Prediction: 99\n",
      "Prediction: 100\n",
      "Prediction: 101\n",
      "Prediction: 102\n",
      "Prediction: 103\n",
      "Prediction: 104\n",
      "Prediction: 105\n",
      "Prediction: 106\n",
      "Prediction: 107\n",
      "Prediction: 108\n",
      "Prediction: 109\n",
      "Prediction: 110\n",
      "Prediction: 111\n",
      "Prediction: 112\n",
      "Prediction: 113\n",
      "Prediction: 114\n",
      "Prediction: 115\n",
      "Prediction: 116\n",
      "Prediction: 117\n",
      "Prediction: 118\n",
      "Prediction: 119\n",
      "Prediction: 120\n",
      "Prediction: 121\n",
      "Prediction: 122\n",
      "Prediction: 123\n",
      "Prediction: 124\n",
      "Prediction: 125\n",
      "Prediction: 126\n",
      "Prediction: 127\n",
      "Prediction: 128\n",
      "Prediction: 129\n",
      "Prediction: 130\n",
      "Prediction: 131\n",
      "Prediction: 132\n",
      "Prediction: 133\n",
      "Prediction: 134\n",
      "Prediction: 135\n",
      "Prediction: 136\n",
      "Prediction: 137\n",
      "Prediction: 138\n",
      "Prediction: 139\n",
      "Prediction: 140\n",
      "Prediction: 141\n",
      "Prediction: 142\n",
      "Prediction: 143\n",
      "Prediction: 144\n",
      "Prediction: 145\n",
      "Prediction: 146\n",
      "Prediction: 147\n",
      "Prediction: 148\n",
      "Prediction: 149\n",
      "Prediction: 150\n",
      "Prediction: 151\n",
      "Prediction: 152\n",
      "Prediction: 153\n",
      "Prediction: 154\n",
      "Prediction: 155\n",
      "Prediction: 156\n",
      "Prediction: 157\n",
      "Prediction: 158\n",
      "Prediction: 159\n",
      "Prediction: 160\n",
      "Prediction: 161\n",
      "Prediction: 162\n",
      "Prediction: 163\n",
      "Prediction: 164\n",
      "Prediction: 165\n",
      "Prediction: 166\n",
      "Prediction: 167\n",
      "Prediction: 168\n",
      "Prediction: 169\n",
      "Prediction: 170\n",
      "Prediction: 171\n",
      "Prediction: 172\n",
      "Prediction: 173\n",
      "Prediction: 174\n",
      "Prediction: 175\n",
      "Prediction: 176\n",
      "Prediction: 177\n",
      "Prediction: 178\n",
      "Prediction: 179\n",
      "Prediction: 180\n",
      "Prediction: 181\n",
      "Prediction: 182\n",
      "Prediction: 183\n",
      "Prediction: 184\n",
      "Prediction: 185\n",
      "Prediction: 186\n",
      "Prediction: 187\n",
      "Prediction: 188\n",
      "Prediction: 189\n",
      "Prediction: 190\n",
      "Prediction: 191\n",
      "Prediction: 192\n",
      "Prediction: 193\n",
      "Prediction: 194\n",
      "Prediction: 195\n",
      "Prediction: 196\n",
      "Prediction: 197\n",
      "Prediction: 198\n",
      "Prediction: 199\n",
      "Prediction: 200\n",
      "Prediction: 201\n",
      "Prediction: 202\n",
      "Prediction: 203\n",
      "Prediction: 204\n",
      "Prediction: 205\n",
      "Prediction: 206\n",
      "Prediction: 207\n",
      "Prediction: 208\n",
      "Prediction: 209\n",
      "Prediction: 210\n",
      "Prediction: 211\n",
      "Prediction: 212\n",
      "Prediction: 213\n",
      "Prediction: 214\n",
      "Prediction: 215\n",
      "Prediction: 216\n",
      "Prediction: 217\n",
      "Prediction: 218\n",
      "Prediction: 219\n",
      "Prediction: 220\n",
      "Prediction: 221\n",
      "Prediction: 222\n",
      "Prediction: 223\n",
      "Prediction: 224\n",
      "Prediction: 225\n",
      "Prediction: 226\n",
      "Prediction: 227\n",
      "Prediction: 228\n",
      "Prediction: 229\n",
      "Prediction: 230\n",
      "Prediction: 231\n",
      "Prediction: 232\n",
      "Prediction: 233\n",
      "Prediction: 234\n",
      "Prediction: 235\n",
      "Prediction: 236\n",
      "Prediction: 237\n",
      "Prediction: 238\n",
      "Prediction: 239\n",
      "Prediction: 240\n",
      "Prediction: 241\n",
      "Prediction: 242\n",
      "Prediction: 243\n",
      "Prediction: 244\n",
      "Prediction: 245\n",
      "Prediction: 246\n",
      "Prediction: 247\n",
      "Prediction: 248\n",
      "Prediction: 249\n",
      "Prediction: 250\n",
      "Prediction: 251\n",
      "Prediction: 252\n",
      "Prediction: 253\n",
      "Prediction: 254\n",
      "Prediction: 255\n",
      "Prediction: 256\n",
      "Prediction: 257\n",
      "Prediction: 258\n",
      "Prediction: 259\n",
      "Prediction: 260\n",
      "Prediction: 261\n",
      "Prediction: 262\n",
      "Prediction: 263\n",
      "Prediction: 264\n",
      "Prediction: 265\n",
      "Prediction: 266\n",
      "Prediction: 267\n",
      "Prediction: 268\n",
      "Prediction: 269\n",
      "Prediction: 270\n",
      "Prediction: 271\n",
      "Prediction: 272\n",
      "Prediction: 273\n",
      "Prediction: 274\n",
      "Prediction: 275\n",
      "Prediction: 276\n",
      "Prediction: 277\n",
      "Prediction: 278\n",
      "Prediction: 279\n",
      "Prediction: 280\n",
      "Prediction: 281\n",
      "Prediction: 282\n",
      "Prediction: 283\n",
      "Prediction: 284\n",
      "Prediction: 285\n",
      "Prediction: 286\n",
      "Prediction: 287\n",
      "Prediction: 288\n",
      "Prediction: 289\n",
      "Prediction: 290\n",
      "Prediction: 291\n",
      "Prediction: 292\n",
      "Prediction: 293\n",
      "Prediction: 294\n",
      "Prediction: 295\n",
      "Prediction: 296\n",
      "Prediction: 297\n",
      "Prediction: 298\n",
      "Prediction: 299\n",
      "Prediction: 300\n",
      "Prediction: 301\n",
      "Prediction: 302\n",
      "Prediction: 303\n",
      "Prediction: 304\n",
      "Prediction: 305\n",
      "Prediction: 306\n",
      "Prediction: 307\n",
      "Prediction: 308\n",
      "Prediction: 309\n",
      "Prediction: 310\n",
      "Prediction: 311\n",
      "Prediction: 312\n",
      "Prediction: 313\n",
      "Prediction: 314\n",
      "Prediction: 315\n",
      "Prediction: 316\n",
      "Prediction: 317\n",
      "Prediction: 318\n",
      "Prediction: 319\n",
      "Prediction: 320\n",
      "Prediction: 321\n",
      "Prediction: 322\n",
      "Prediction: 323\n",
      "Prediction: 324\n",
      "Prediction: 325\n",
      "Prediction: 326\n",
      "Prediction: 327\n",
      "Prediction: 328\n",
      "Prediction: 329\n",
      "Prediction: 330\n",
      "Prediction: 331\n",
      "Prediction: 332\n",
      "Prediction: 333\n",
      "Prediction: 334\n",
      "Prediction: 335\n",
      "Prediction: 336\n",
      "Prediction: 337\n",
      "Prediction: 338\n",
      "Prediction: 339\n",
      "Prediction: 340\n",
      "Prediction: 341\n",
      "Prediction: 342\n",
      "Prediction: 343\n",
      "Prediction: 344\n",
      "Prediction: 345\n",
      "Prediction: 346\n",
      "Prediction: 347\n",
      "Prediction: 348\n",
      "Prediction: 349\n",
      "Prediction: 350\n",
      "Prediction: 351\n",
      "Prediction: 352\n",
      "Prediction: 353\n",
      "Prediction: 354\n",
      "Prediction: 355\n",
      "Prediction: 356\n",
      "Prediction: 357\n",
      "Prediction: 358\n",
      "Prediction: 359\n",
      "Prediction: 360\n",
      "Prediction: 361\n",
      "Prediction: 362\n",
      "Prediction: 363\n",
      "Prediction: 364\n",
      "Prediction: 365\n",
      "Prediction: 366\n",
      "Prediction: 367\n",
      "Prediction: 368\n",
      "Prediction: 369\n",
      "Prediction: 370\n",
      "Prediction: 371\n",
      "Prediction: 372\n",
      "Prediction: 373\n",
      "Prediction: 374\n",
      "Prediction: 375\n",
      "Prediction: 376\n",
      "Prediction: 377\n",
      "Prediction: 378\n",
      "Prediction: 379\n",
      "Prediction: 380\n",
      "Prediction: 381\n",
      "Prediction: 382\n",
      "Prediction: 383\n",
      "Prediction: 384\n",
      "Prediction: 385\n",
      "Prediction: 386\n",
      "Prediction: 387\n",
      "Prediction: 388\n",
      "Prediction: 389\n",
      "Prediction: 390\n",
      "Prediction: 391\n",
      "Prediction: 392\n",
      "Prediction: 393\n",
      "Prediction: 394\n",
      "Prediction: 395\n",
      "Prediction: 396\n",
      "Prediction: 397\n",
      "Prediction: 398\n",
      "Prediction: 399\n",
      "Prediction: 400\n",
      "Prediction: 401\n",
      "Prediction: 402\n",
      "Prediction: 403\n",
      "Prediction: 404\n",
      "Prediction: 405\n",
      "Prediction: 406\n",
      "Prediction: 407\n",
      "Prediction: 408\n",
      "Prediction: 409\n",
      "Prediction: 410\n",
      "Prediction: 411\n",
      "Prediction: 412\n",
      "Prediction: 413\n",
      "Prediction: 414\n",
      "Prediction: 415\n",
      "Prediction: 416\n",
      "Prediction: 417\n",
      "Prediction: 418\n",
      "Prediction: 419\n",
      "Prediction: 420\n",
      "Prediction: 421\n",
      "Prediction: 422\n",
      "Prediction: 423\n",
      "Prediction: 424\n",
      "Prediction: 425\n",
      "Prediction: 426\n",
      "Prediction: 427\n",
      "Prediction: 428\n",
      "Prediction: 429\n",
      "Prediction: 430\n",
      "Prediction: 431\n",
      "Prediction: 432\n",
      "Prediction: 433\n",
      "Prediction: 434\n",
      "Prediction: 435\n",
      "Prediction: 436\n",
      "Prediction: 437\n",
      "Prediction: 438\n",
      "Prediction: 439\n",
      "Prediction: 440\n",
      "Prediction: 441\n",
      "Prediction: 442\n",
      "Prediction: 443\n",
      "Prediction: 444\n",
      "Prediction: 445\n",
      "Prediction: 446\n",
      "Prediction: 447\n",
      "Prediction: 448\n",
      "Prediction: 449\n",
      "Prediction: 450\n",
      "Prediction: 451\n",
      "Prediction: 452\n",
      "Prediction: 453\n",
      "Prediction: 454\n",
      "Prediction: 455\n",
      "Prediction: 456\n",
      "Prediction: 457\n",
      "Prediction: 458\n",
      "Prediction: 459\n",
      "Prediction: 460\n",
      "Prediction: 461\n",
      "Prediction: 462\n",
      "Prediction: 463\n",
      "Prediction: 464\n",
      "Prediction: 465\n",
      "Prediction: 466\n",
      "Prediction: 467\n",
      "Prediction: 468\n",
      "Prediction: 469\n",
      "Prediction: 470\n",
      "Prediction: 471\n",
      "Prediction: 472\n",
      "Prediction: 473\n",
      "Prediction: 474\n",
      "Prediction: 475\n",
      "Prediction: 476\n",
      "Prediction: 477\n",
      "Prediction: 478\n",
      "Prediction: 479\n",
      "Prediction: 480\n",
      "Prediction: 481\n",
      "Prediction: 482\n",
      "Prediction: 483\n",
      "Prediction: 484\n",
      "Prediction: 485\n",
      "Prediction: 486\n",
      "Prediction: 487\n",
      "Prediction: 488\n",
      "Prediction: 489\n",
      "Prediction: 490\n",
      "Prediction: 491\n",
      "Prediction: 492\n",
      "Prediction: 493\n",
      "Prediction: 494\n",
      "Prediction: 495\n",
      "Prediction: 496\n",
      "Prediction: 497\n",
      "Prediction: 498\n",
      "Prediction: 499\n",
      "Prediction: 500\n",
      "Prediction: 501\n",
      "Prediction: 502\n",
      "Prediction: 503\n",
      "Prediction: 504\n",
      "Prediction: 505\n",
      "Prediction: 506\n",
      "Prediction: 507\n",
      "Prediction: 508\n",
      "Prediction: 509\n",
      "Prediction: 510\n",
      "Prediction: 511\n",
      "Prediction: 512\n",
      "Prediction: 513\n",
      "Prediction: 514\n",
      "Prediction: 515\n",
      "Prediction: 516\n",
      "Prediction: 517\n",
      "Prediction: 518\n",
      "Prediction: 519\n"
     ]
    },
    {
     "name": "stdout",
     "output_type": "stream",
     "text": [
      "Prediction: 520\n",
      "Prediction: 521\n",
      "Prediction: 522\n",
      "Prediction: 523\n",
      "Prediction: 524\n",
      "Prediction: 525\n",
      "Prediction: 526\n",
      "Prediction: 527\n",
      "Prediction: 528\n",
      "Prediction: 529\n",
      "Prediction: 530\n",
      "Prediction: 531\n",
      "Prediction: 532\n",
      "Prediction: 533\n",
      "Prediction: 534\n",
      "Prediction: 535\n",
      "Prediction: 536\n",
      "Prediction: 537\n",
      "Prediction: 538\n",
      "Prediction: 539\n",
      "Prediction: 540\n",
      "Prediction: 541\n",
      "Prediction: 542\n",
      "Prediction: 543\n",
      "Prediction: 544\n",
      "Prediction: 545\n",
      "Prediction: 546\n",
      "Prediction: 547\n",
      "Prediction: 548\n",
      "Prediction: 549\n",
      "Prediction: 550\n",
      "Prediction: 551\n",
      "Prediction: 552\n",
      "Prediction: 553\n",
      "Prediction: 554\n",
      "Prediction: 555\n",
      "Prediction: 556\n",
      "Prediction: 557\n",
      "Prediction: 558\n",
      "Prediction: 559\n",
      "Prediction: 560\n",
      "Prediction: 561\n",
      "Prediction: 562\n",
      "Prediction: 563\n",
      "Prediction: 564\n",
      "Prediction: 565\n",
      "Prediction: 566\n",
      "Prediction: 567\n",
      "Prediction: 568\n",
      "Prediction: 569\n",
      "Prediction: 570\n",
      "Prediction: 571\n",
      "Prediction: 572\n",
      "Prediction: 573\n",
      "Prediction: 574\n",
      "Prediction: 575\n",
      "Prediction: 576\n",
      "Prediction: 577\n",
      "Prediction: 578\n",
      "Prediction: 579\n",
      "Prediction: 580\n",
      "Prediction: 581\n",
      "Prediction: 582\n",
      "Prediction: 583\n",
      "Prediction: 584\n",
      "Prediction: 585\n",
      "Prediction: 586\n",
      "Prediction: 587\n",
      "Prediction: 588\n",
      "Prediction: 589\n",
      "Prediction: 590\n",
      "Prediction: 591\n",
      "Prediction: 592\n",
      "Prediction: 593\n",
      "Prediction: 594\n",
      "Prediction: 595\n",
      "Prediction: 596\n",
      "Prediction: 597\n",
      "Prediction: 598\n",
      "Prediction: 599\n",
      "Prediction: 600\n",
      "Prediction: 601\n",
      "Prediction: 602\n",
      "Prediction: 603\n",
      "Prediction: 604\n",
      "Prediction: 605\n",
      "Prediction: 606\n",
      "Prediction: 607\n",
      "Prediction: 608\n",
      "Prediction: 609\n",
      "Prediction: 610\n",
      "Prediction: 611\n",
      "Prediction: 612\n",
      "Prediction: 613\n",
      "Prediction: 614\n",
      "Prediction: 615\n",
      "Prediction: 616\n",
      "Prediction: 617\n",
      "====== MAPE, MAE, RMSE ======\n",
      "0.06628443275898387 3.3026324326382475 4.352905280362707\n"
     ]
    },
    {
     "data": {
      "image/png": "[encoded data removed]",
      "text/plain": [
       "<Figure size 432x288 with 1 Axes>"
      ]
     },
     "metadata": {
      "needs_background": "light"
     },
     "output_type": "display_data"
    }
   ],
   "source": [
    "X_df = dataset.loc[:, ['price_dayahead', 'gen_coal', 'gen_gas', 'load_actual',\n",
    "       'gen_lig', 'gen_oil', 'gen_oth_renew', 'pressure_Barcelona',\n",
    "       'pressure_Bilbao', 'gen_waste', 'gen_bio', 'temp_min_Valencia',\n",
    "       'pressure_Valencia', 'temp_min_Barcelona', 'humidity_Seville',\n",
    "       'wind_deg_Bilbao', 'clouds_all_Bilbao', 'gen_hyd_river',\n",
    "       'wind_deg_Seville', 'wind_speed_Barcelona', 'wind_speed_Valencia',\n",
    "       'wind_speed_Bilbao', 'gen_wind', 'wind_speed_Madrid', 'gen_hyd_pump',\n",
    "       'Day of Week', 'day', 'hour', 'month']]\n",
    "y_df = dataset.loc[:, ['price']]\n",
    "X = np.array(X_df)\n",
    "y = np.array(y_df)\n",
    "\n",
    "from sklearn.preprocessing import MinMaxScaler\n",
    "scaler = MinMaxScaler(feature_range=(0, 1))\n",
    "X = scaler.fit_transform(X)\n",
    "\n",
    "\n",
    "num_features = X.shape[1]\n",
    "num_periods = len(X) // 10\n",
    "X = np.asarray(X).reshape((-1, num_periods, num_features))\n",
    "y = np.asarray(y).reshape((-1, num_periods))\n",
    "print(\"X.shape, y.shape:\", X.shape, y.shape)\n",
    "\n",
    "quantiles = [0.1, 0.5, 1]  # 0.1, 0.5, 1\n",
    "losses, test_mape, test_mae, test_rmse = train(X, y, quantiles)\n",
    "#print(test_mape, test_mae, test_rmse)\n",
    "\n",
    "\n",
    "print('====== MAPE, MAE, RMSE ======')\n",
    "print(sum(test_mape) / len(test_mape),\n",
    "      sum(test_mae) / len(test_mae), \n",
    "      sum(test_rmse) / len(test_rmse))\n",
    "\n",
    "\n",
    "plt.plot(range(len(losses)), losses)\n",
    "plt.xlabel(\"Period\")\n",
    "plt.ylabel(\"Loss\")\n",
    "plt.show()"
   ]
  },
  {
   "cell_type": "code",
   "execution_count": null,
   "id": "2dbf661a",
   "metadata": {},
   "outputs": [],
   "source": []
  },
  {
   "cell_type": "code",
   "execution_count": null,
   "id": "71e12e78",
   "metadata": {},
   "outputs": [],
   "source": []
  },
  {
   "cell_type": "code",
   "execution_count": null,
   "id": "3d2b9c40",
   "metadata": {},
   "outputs": [],
   "source": []
  },
  {
   "cell_type": "code",
   "execution_count": null,
   "id": "2792bf03",
   "metadata": {},
   "outputs": [],
   "source": []
  },
  {
   "cell_type": "code",
   "execution_count": null,
   "id": "28c3ac17",
   "metadata": {},
   "outputs": [],
   "source": []
  }
 ],
 "metadata": {
  "kernelspec": {
   "display_name": "Python 3 (ipykernel)",
   "language": "python",
   "name": "python3"
  },
  "language_info": {
   "codemirror_mode": {
    "name": "ipython",
    "version": 3
   },
   "file_extension": ".py",
   "mimetype": "text/x-python",
   "name": "python",
   "nbconvert_exporter": "python",
   "pygments_lexer": "ipython3",
   "version": "3.8.13"
  }
 },
 "nbformat": 4,
 "nbformat_minor": 5
}
